{
 "cells": [
  {
   "cell_type": "code",
   "execution_count": 1,
   "id": "52ac9160",
   "metadata": {},
   "outputs": [
    {
     "name": "stdout",
     "output_type": "stream",
     "text": [
      "Requirement already satisfied: pymongo[srv] in /home/fact12/my_psonal_work_dir/py_ml_works_env/lib/python3.8/site-packages (4.0.1)\n",
      "Requirement already satisfied: dnspython<3.0.0,>=1.16.0 in /home/fact12/my_psonal_work_dir/py_ml_works_env/lib/python3.8/site-packages (from pymongo[srv]) (2.2.0)\n"
     ]
    }
   ],
   "source": [
    "!pip install pymongo[srv]"
   ]
  },
  {
   "cell_type": "code",
   "execution_count": 2,
   "id": "f7bcd331",
   "metadata": {},
   "outputs": [],
   "source": [
    "from pymongo import MongoClient"
   ]
  },
  {
   "cell_type": "code",
   "execution_count": 3,
   "id": "bb390704",
   "metadata": {},
   "outputs": [],
   "source": [
    "client = MongoClient('mongodb+srv://dbUser:<dbUser>@mongo-cluster-1.8hmec.mongodb.net/dbUser?retryWrites=true&w=majority')"
   ]
  },
  {
   "cell_type": "markdown",
   "id": "93f6777d",
   "metadata": {},
   "source": [
    "> dbUser - username\n",
    "\n",
    "> dbUser - password"
   ]
  },
  {
   "cell_type": "code",
   "execution_count": 4,
   "id": "f5094347",
   "metadata": {},
   "outputs": [
    {
     "name": "stdout",
     "output_type": "stream",
     "text": [
      "hello\n"
     ]
    }
   ],
   "source": [
    "print('hello')"
   ]
  },
  {
   "cell_type": "code",
   "execution_count": 5,
   "id": "771d8f00",
   "metadata": {},
   "outputs": [
    {
     "data": {
      "text/plain": [
       "MongoClient(host=['mongo-cluster-1-shard-00-02.8hmec.mongodb.net:27017', 'mongo-cluster-1-shard-00-00.8hmec.mongodb.net:27017', 'mongo-cluster-1-shard-00-01.8hmec.mongodb.net:27017'], document_class=dict, tz_aware=False, connect=True, retrywrites=True, w='majority', authsource='admin', replicaset='atlas-l618og-shard-0', tls=True)"
      ]
     },
     "execution_count": 5,
     "metadata": {},
     "output_type": "execute_result"
    }
   ],
   "source": [
    "client"
   ]
  },
  {
   "cell_type": "code",
   "execution_count": 6,
   "id": "5baa9a1e",
   "metadata": {},
   "outputs": [
    {
     "data": {
      "text/plain": [
       "Database(MongoClient(host=['mongo-cluster-1-shard-00-02.8hmec.mongodb.net:27017', 'mongo-cluster-1-shard-00-00.8hmec.mongodb.net:27017', 'mongo-cluster-1-shard-00-01.8hmec.mongodb.net:27017'], document_class=dict, tz_aware=False, connect=True, retrywrites=True, w='majority', authsource='admin', replicaset='atlas-l618og-shard-0', tls=True), 'test')"
      ]
     },
     "execution_count": 6,
     "metadata": {},
     "output_type": "execute_result"
    }
   ],
   "source": [
    "db = client['test']\n",
    "db"
   ]
  },
  {
   "cell_type": "code",
   "execution_count": null,
   "id": "fae4c42c",
   "metadata": {},
   "outputs": [],
   "source": []
  }
 ],
 "metadata": {
  "kernelspec": {
   "display_name": "Python 3 (ipykernel)",
   "language": "python",
   "name": "python3"
  },
  "language_info": {
   "codemirror_mode": {
    "name": "ipython",
    "version": 3
   },
   "file_extension": ".py",
   "mimetype": "text/x-python",
   "name": "python",
   "nbconvert_exporter": "python",
   "pygments_lexer": "ipython3",
   "version": "3.8.10"
  }
 },
 "nbformat": 4,
 "nbformat_minor": 5
}
