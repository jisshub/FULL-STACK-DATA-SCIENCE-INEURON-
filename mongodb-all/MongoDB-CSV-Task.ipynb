{
 "cells": [
  {
   "cell_type": "markdown",
   "id": "142c372a",
   "metadata": {},
   "source": [
    "1. Visit the link\n",
    "    \n",
    "    https://archive.ics.uci.edu/ml/datasets/Carbon+Nanotubes\n",
    "    \n",
    "2. Download the dataset\n",
    "3. Insert the bulk data (CSV file in mongodb)\n",
    "4. Perform different operation\n",
    "\n",
    "    4.1. Insert operation\n",
    "    \n",
    "    4.2. Update operation\n",
    "   \n",
    "    4.3. Delete operation\n",
    "    \n",
    "    4.4. Find operation\n",
    "    \n",
    "    4.5. Filter operation\n",
    "\n",
    "\n",
    "5. Code Evaluation\n",
    "\n",
    "    5.1 Modular coding\n",
    "            means creating modules and accessing functions from the module.\n",
    "    \n",
    "    5.2 Exception Handling\n",
    "    \n",
    "    5.3 Proper Log"
   ]
  },
  {
   "cell_type": "markdown",
   "id": "27eb9579",
   "metadata": {},
   "source": [
    "Send the completed task to email,\n",
    "\n",
    "    Subject: fsds_mongo_task\n",
    "\n",
    "    To, sunny.savitha@ineuron.ai\n",
    "    \n",
    "    cc - sudhanshu@ineuron.ai"
   ]
  },
  {
   "cell_type": "markdown",
   "id": "b26547ff",
   "metadata": {},
   "source": [
    "Submit the task either by github link or colab link."
   ]
  },
  {
   "cell_type": "code",
   "execution_count": null,
   "id": "43f80b89",
   "metadata": {},
   "outputs": [],
   "source": []
  }
 ],
 "metadata": {
  "kernelspec": {
   "display_name": "Python 3 (ipykernel)",
   "language": "python",
   "name": "python3"
  },
  "language_info": {
   "codemirror_mode": {
    "name": "ipython",
    "version": 3
   },
   "file_extension": ".py",
   "mimetype": "text/x-python",
   "name": "python",
   "nbconvert_exporter": "python",
   "pygments_lexer": "ipython3",
   "version": "3.8.10"
  }
 },
 "nbformat": 4,
 "nbformat_minor": 5
}
