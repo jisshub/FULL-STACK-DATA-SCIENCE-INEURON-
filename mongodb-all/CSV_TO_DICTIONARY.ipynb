{
 "cells": [
  {
   "cell_type": "markdown",
   "id": "f883be03",
   "metadata": {},
   "source": [
    "## Convert CSV to DICTIONARY/JSON FORMAT\n",
    "\n",
    "REFERENCE - https://www.geeksforgeeks.org/convert-csv-to-json-using-python/"
   ]
  },
  {
   "cell_type": "code",
   "execution_count": 2,
   "id": "2f3599a0",
   "metadata": {},
   "outputs": [],
   "source": [
    "import csv\n",
    "import json"
   ]
  },
  {
   "cell_type": "code",
   "execution_count": 6,
   "id": "b3d07101",
   "metadata": {},
   "outputs": [],
   "source": [
    "def convert_to_json():\n",
    "    # create a dictionary\n",
    "    data = {}\n",
    "\n",
    "    # open csv reader called DictReader\n",
    "    with open('./datasets/attendance.csv') as csv_file:\n",
    "        csvReader = csv.DictReader(csv_file)\n",
    "        \n",
    "        # convert each row to dictionary and append it to a list.         \n",
    "        return [rows for rows in csvReader]\n",
    "\n",
    "a = convert_to_json()        "
   ]
  },
  {
   "cell_type": "code",
   "execution_count": 7,
   "id": "aeecd86c",
   "metadata": {},
   "outputs": [
    {
     "data": {
      "text/plain": [
       "[{'employeeId': 'emp124',\n",
       "  'firstName': 'Ben',\n",
       "  'lastName': 'Jose',\n",
       "  'designation': 'Developer',\n",
       "  'year': '2020',\n",
       "  'presentDaysCount': '198',\n",
       "  'absentDaysCount': '15',\n",
       "  'sickLeaves': '4',\n",
       "  'casualLeaves': '9',\n",
       "  'holidays': '8'},\n",
       " {'employeeId': 'emp112',\n",
       "  'firstName': 'Naveen',\n",
       "  'lastName': 'Das',\n",
       "  'designation': 'Developer',\n",
       "  'year': '2019',\n",
       "  'presentDaysCount': '196',\n",
       "  'absentDaysCount': '17',\n",
       "  'sickLeaves': '3',\n",
       "  'casualLeaves': '14',\n",
       "  'holidays': '11'},\n",
       " {'employeeId': 'emp349',\n",
       "  'firstName': 'Reno',\n",
       "  'lastName': 'Atkinson',\n",
       "  'designation': 'Software Tester',\n",
       "  'year': '2020',\n",
       "  'presentDaysCount': '201',\n",
       "  'absentDaysCount': '13',\n",
       "  'sickLeaves': '5',\n",
       "  'casualLeaves': '8',\n",
       "  'holidays': '8'},\n",
       " {'employeeId': 'emp892',\n",
       "  'firstName': 'Stephen',\n",
       "  'lastName': 'Stiles',\n",
       "  'designation': 'Data Scientist',\n",
       "  'year': '2018',\n",
       "  'presentDaysCount': '203',\n",
       "  'absentDaysCount': '16',\n",
       "  'sickLeaves': '5',\n",
       "  'casualLeaves': '11',\n",
       "  'holidays': '7'},\n",
       " {'employeeId': 'emp918',\n",
       "  'firstName': 'John',\n",
       "  'lastName': 'Shaun',\n",
       "  'designation': 'Tech Lead',\n",
       "  'year': '2021',\n",
       "  'presentDaysCount': '194',\n",
       "  'absentDaysCount': '18',\n",
       "  'sickLeaves': '7',\n",
       "  'casualLeaves': '11',\n",
       "  'holidays': '10'}]"
      ]
     },
     "execution_count": 7,
     "metadata": {},
     "output_type": "execute_result"
    }
   ],
   "source": [
    "a"
   ]
  },
  {
   "cell_type": "code",
   "execution_count": null,
   "id": "2d714ff1",
   "metadata": {},
   "outputs": [],
   "source": []
  }
 ],
 "metadata": {
  "kernelspec": {
   "display_name": "Python 3 (ipykernel)",
   "language": "python",
   "name": "python3"
  },
  "language_info": {
   "codemirror_mode": {
    "name": "ipython",
    "version": 3
   },
   "file_extension": ".py",
   "mimetype": "text/x-python",
   "name": "python",
   "nbconvert_exporter": "python",
   "pygments_lexer": "ipython3",
   "version": "3.8.10"
  }
 },
 "nbformat": 4,
 "nbformat_minor": 5
}
