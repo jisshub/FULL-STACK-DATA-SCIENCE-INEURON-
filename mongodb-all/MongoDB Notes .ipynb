{
 "cells": [
  {
   "cell_type": "markdown",
   "id": "47c86557",
   "metadata": {},
   "source": [
    "**Collection**:\n",
    "    \n",
    "    Collection is a table in mongodb.\n",
    "\n",
    "\n",
    "**Document**:\n",
    "    \n",
    "    Document is a row/record in mongodb."
   ]
  },
  {
   "cell_type": "markdown",
   "id": "66634ade",
   "metadata": {},
   "source": [
    "More Informations:\n",
    "    \n",
    "    https://www.tutorialspoint.com/python_data_access/python_mongodb_introduction.htm\n",
    "    \n",
    "    https://docs.google.com/document/d/1A7Urv5hpdOVTBjKXIZ2K0Q9XhU-sa-HnTGXUFYa-oXg/edit"
   ]
  },
  {
   "cell_type": "markdown",
   "id": "052c6f10",
   "metadata": {},
   "source": [
    "**Mongodb Structure**\n",
    "\n",
    "    - database\n",
    "    \n",
    "        - create collection\n",
    "        \n",
    "            - create documents\n",
    "            \n",
    "                - documents are dictioanries"
   ]
  },
  {
   "cell_type": "markdown",
   "id": "e813db8c",
   "metadata": {},
   "source": [
    "**Pymongo**\n",
    "\n",
    "    - API used for connection between python and mongodb "
   ]
  },
  {
   "cell_type": "code",
   "execution_count": null,
   "id": "0408ee20",
   "metadata": {},
   "outputs": [],
   "source": []
  }
 ],
 "metadata": {
  "kernelspec": {
   "display_name": "Python 3 (ipykernel)",
   "language": "python",
   "name": "python3"
  },
  "language_info": {
   "codemirror_mode": {
    "name": "ipython",
    "version": 3
   },
   "file_extension": ".py",
   "mimetype": "text/x-python",
   "name": "python",
   "nbconvert_exporter": "python",
   "pygments_lexer": "ipython3",
   "version": "3.8.10"
  }
 },
 "nbformat": 4,
 "nbformat_minor": 5
}
