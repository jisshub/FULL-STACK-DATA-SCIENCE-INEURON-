{
 "cells": [
  {
   "cell_type": "markdown",
   "id": "47c86557",
   "metadata": {},
   "source": [
    "**Collection**:\n",
    "    \n",
    "    Collection is a table in mongodb.\n",
    "\n",
    "\n",
    "**Document**:\n",
    "    \n",
    "    Document is a row/record in mongodb."
   ]
  },
  {
   "cell_type": "code",
   "execution_count": null,
   "id": "c4d043cf",
   "metadata": {},
   "outputs": [],
   "source": []
  }
 ],
 "metadata": {
  "kernelspec": {
   "display_name": "Python 3 (ipykernel)",
   "language": "python",
   "name": "python3"
  },
  "language_info": {
   "codemirror_mode": {
    "name": "ipython",
    "version": 3
   },
   "file_extension": ".py",
   "mimetype": "text/x-python",
   "name": "python",
   "nbconvert_exporter": "python",
   "pygments_lexer": "ipython3",
   "version": "3.8.10"
  }
 },
 "nbformat": 4,
 "nbformat_minor": 5
}
