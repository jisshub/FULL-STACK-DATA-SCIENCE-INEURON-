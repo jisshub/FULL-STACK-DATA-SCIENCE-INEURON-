{
  "nbformat": 4,
  "nbformat_minor": 0,
  "metadata": {
    "colab": {
      "name": "Assignment_Solutions.ipynb",
      "provenance": [],
      "collapsed_sections": [],
      "authorship_tag": "ABX9TyPNm2lp0OxhJQBzRqBL06/j"
    },
    "kernelspec": {
      "name": "python3",
      "display_name": "Python 3"
    },
    "language_info": {
      "name": "python"
    }
  },
  "cells": [
    {
      "cell_type": "markdown",
      "source": [
        "## Question 1\n",
        "\n",
        "Create a function in python to read the text file and replace specific content of the file"
      ],
      "metadata": {
        "id": "S8FSVPckRxH-"
      }
    },
    {
      "cell_type": "code",
      "source": [
        "def read_and_replace(replace_string, new_string):\n",
        "  try:\n",
        "    with open('./example.txt', 'r') as r:\n",
        "      text = r.read().replace(replace_string, new_string)\n",
        "    with open('./example.txt', \"w\") as w:\n",
        "      w.write(text)\n",
        "  except FileNotFoundError as f_Error:\n",
        "    return f_Error\n",
        "\n",
        "replace_string='Placement should be replaced by screening.'\n",
        "new_string='This is a screening assignment'\n",
        "\n",
        "result = read_and_replace(replace_string, new_string)\n",
        "print(result)"
      ],
      "metadata": {
        "colab": {
          "base_uri": "https://localhost:8080/"
        },
        "id": "hXPSODfFVF-9",
        "outputId": "7f048f68-48c2-4644-cf55-8c4207a8bbd3"
      },
      "execution_count": null,
      "outputs": [
        {
          "output_type": "stream",
          "name": "stdout",
          "text": [
            "[Errno 2] No such file or directory: './example.txt'\n"
          ]
        }
      ]
    },
    {
      "cell_type": "markdown",
      "source": [
        "##Question 2\n",
        "\n",
        "Demonstrate use of abstract class, multiple inheritance and decorator in\n",
        "python using examples."
      ],
      "metadata": {
        "id": "8WaGBXLFaCmH"
      }
    },
    {
      "cell_type": "markdown",
      "source": [
        "#### Abstract Class Example\n",
        "\n",
        "https://www.geeksforgeeks.org/abstract-classes-in-python/"
      ],
      "metadata": {
        "id": "jLsQFc-SdgjP"
      }
    },
    {
      "cell_type": "code",
      "source": [
        "class Computer:\n",
        "  def description(self):\n",
        "    pass\n",
        "class Mouse(Computer):\n",
        "  def description(self):\n",
        "    return '''Mouse is an input device that lets you control a range of things on a computer'''\n",
        "class HardDisk(Computer):\n",
        "  def description(self):\n",
        "    return '''magnetic storage medium for a computer.'''\n",
        "class WebCam(Computer):\n",
        "  def description(self):\n",
        "    return '''webcam is a video camera that feeds or streams an image or video in real time'''\n",
        "\n",
        "c = Computer()\n",
        "print(c.description())\n",
        "\n",
        "m = Mouse()\n",
        "print(m.description())\n",
        "\n",
        "h= HardDisk()\n",
        "print(h.description())\n",
        "\n",
        "w = WebCam()\n",
        "print(w.description())"
      ],
      "metadata": {
        "colab": {
          "base_uri": "https://localhost:8080/"
        },
        "id": "-nUtcaq7eGQF",
        "outputId": "8c0dfab3-74c2-4c8a-e3b9-25522066ec6a"
      },
      "execution_count": null,
      "outputs": [
        {
          "output_type": "stream",
          "name": "stdout",
          "text": [
            "None\n",
            "Mouse is an input device that lets you control a range of things on a computer\n",
            "magnetic storage medium for a computer.\n",
            "webcam is a video camera that feeds or streams an image or video in real time\n"
          ]
        }
      ]
    },
    {
      "cell_type": "markdown",
      "source": [
        "#### Multiple Inheritance Example"
      ],
      "metadata": {
        "id": "jS36AjN4gF83"
      }
    },
    {
      "cell_type": "code",
      "source": [
        "class Mother:\n",
        "    mothername = \"\"\n",
        "    def mother(self):\n",
        "        print(self.mothername)\n",
        "\n",
        "class Father:\n",
        "    fathername = \"\"\n",
        "    def father(self):\n",
        "        print(self.fathername)\n",
        "\n",
        "class Son(Mother, Father):\n",
        "    def parents(self):\n",
        "        print(\"Father :\", self.fathername)\n",
        "        print(\"Mother :\", self.mothername)\n",
        " \n",
        "s1 = Son()\n",
        "s1.fathername = \"Ajith\"\n",
        "s1.mothername = \"Adhasrh\"\n",
        "s1.parents()"
      ],
      "metadata": {
        "colab": {
          "base_uri": "https://localhost:8080/"
        },
        "id": "g-coC8ZtRoRg",
        "outputId": "b71e160e-9a88-49fc-b49c-2f548f1ec489"
      },
      "execution_count": 12,
      "outputs": [
        {
          "output_type": "stream",
          "name": "stdout",
          "text": [
            "Father : Ajith\n",
            "Mother : Adhasrh\n"
          ]
        }
      ]
    },
    {
      "cell_type": "markdown",
      "source": [
        "### Decorator - Example"
      ],
      "metadata": {
        "id": "sfxOrNBMSotk"
      }
    },
    {
      "cell_type": "code",
      "source": [
        "def main_function(func):\n",
        "  def first_func():\n",
        "    print('Execute this first')\n",
        "    func()\n",
        "  return first_func;\n",
        "  \n",
        "def sec_func():\n",
        "  print('finally execute this')\n",
        "\n",
        "print(main_function(sec_func))\n",
        "sec_func()"
      ],
      "metadata": {
        "id": "dN7_i5IeV-ta",
        "colab": {
          "base_uri": "https://localhost:8080/"
        },
        "outputId": "aa9796b7-7378-4e31-81c7-3840680085f6"
      },
      "execution_count": 15,
      "outputs": [
        {
          "output_type": "stream",
          "name": "stdout",
          "text": [
            "<function main_function.<locals>.first_func at 0x7f99b73eccb0>\n",
            "finally execute this\n"
          ]
        }
      ]
    },
    {
      "cell_type": "code",
      "source": [
        ""
      ],
      "metadata": {
        "id": "Osp4Rflk6jWO"
      },
      "execution_count": null,
      "outputs": []
    }
  ]
}