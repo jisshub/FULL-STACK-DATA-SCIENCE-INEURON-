{
  "nbformat": 4,
  "nbformat_minor": 0,
  "metadata": {
    "colab": {
      "name": "Feature_Selection-Random_Forest.ipynb",
      "provenance": []
    },
    "kernelspec": {
      "name": "python3",
      "display_name": "Python 3"
    },
    "language_info": {
      "name": "python"
    }
  },
  "cells": [
    {
      "cell_type": "markdown",
      "source": [
        "# feature selection using random forest\n",
        "\n",
        "https://towardsdatascience.com/feature-selection-using-random-forest-26d7b747597f"
      ],
      "metadata": {
        "id": "AjAK3WudbaKD"
      }
    },
    {
      "cell_type": "code",
      "execution_count": null,
      "metadata": {
        "id": "oOc2H4O3bOMu"
      },
      "outputs": [],
      "source": [
        ""
      ]
    }
  ]
}