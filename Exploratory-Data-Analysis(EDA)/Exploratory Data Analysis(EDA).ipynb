{
  "cells":[
    {
      "cell_type":"markdown",
      "source":[
        "EDA in Python uses data visualization to draw meaningful patterns and insights. \n",
        "It also involves the preparation of data sets for analysis by removing irregularities in the data."
      ],
      "attachments":{
        
      },
      "metadata":{
        
      }
    },
    {
      "cell_type":"markdown",
      "source":[
        "## 1. Data Sourcing\n",
        "\n",
        "Data Sourcing is the process of finding and loading the data into our system. Broadly there are two ways in which we can find data.\n",
        "1. Private Data\n",
        "2. Public Data"
      ],
      "attachments":{
        
      },
      "metadata":{
        
      }
    },
    {
      "cell_type":"markdown",
      "source":[
        "#### Private Data\n",
        "As the name suggests, private data is given by private organizations. There are some security and privacy concerns attached to it. This type of data is used for mainly organizations internal analysis.\n",
        "\n",
        "#### Public Data\n",
        "This type of Data is available to everyone. We can find this in government websites and public organizations etc.\n",
        "- https:\/\/data.gov\n",
        "  \n",
        "- https:\/\/data.gov.uk\n",
        "  \n",
        "- https:\/\/data.gov.in\n",
        "- https:\/\/www.kaggle.com\/\n",
        "- https:\/\/archive.ics.uci.edu\/ml\/index.php\n",
        "- https:\/\/github.com\/awesomedata\/awesome-public-datasets"
      ],
      "attachments":{
        
      },
      "metadata":{
        
      }
    },
    {
      "cell_type":"markdown",
      "source":[
        "The very first step of EDA is Data Sourcing, we have seen how we can access data and load into our system. Now, the next step is how to clean the data."
      ],
      "attachments":{
        
      },
      "metadata":{
        
      }
    },
    {
      "cell_type":"markdown",
      "source":[
        "## 2. Data Cleaning\n",
        "\n",
        "After completing the Data Sourcing, the next step in the process of EDA is Data Cleaning. It is very important to get rid of the irregularities and clean the data after sourcing it into our system.\n",
        "\n",
        "Irregularities are of different types of data.\n",
        "- Missing Values\n",
        "- Incorrect Format\n",
        "- Incorrect Headers\n",
        "- Anomalies\/Outliers"
      ],
      "attachments":{
        
      },
      "metadata":{
        
      }
    },
    {
      "cell_type":"markdown",
      "source":[
        "First, let’s import the necessary libraries and store the data in our system for analysis."
      ],
      "attachments":{
        
      },
      "metadata":{
        
      }
    },
    {
      "cell_type":"code",
      "source":[
        "import  numpy as np\n",
        "import pandas as pd\n",
        "import matplotlib.pyplot as plt\n",
        "import seaborn as sns"
      ],
      "execution_count":2,
      "outputs":[
        
      ],
      "metadata":{
        
      }
    },
    {
      "cell_type":"code",
      "source":[
        "# read dataset\n",
        "market_data=pd.read_csv('Marketing_Analysis.csv')\n",
        "market_data"
      ],
      "execution_count":3,
      "outputs":[
        {
          "name":"stderr",
          "text":[
            "\/opt\/python\/envs\/default\/lib\/python3.8\/site-packages\/IPython\/core\/interactiveshell.py:3444: DtypeWarning: Columns (0,1,2,3,11,14,15,16) have mixed types.Specify dtype option on import or set low_memory=False.\n",
            "  exec(code_obj, self.user_global_ns, self.user_ns)\n"
          ],
          "output_type":"stream"
        },
        {
          "data":{
            "text\/html":[
              "<div>\n",
              "<style scoped>\n",
              "    .dataframe tbody tr th:only-of-type {\n",
              "        vertical-align: middle;\n",
              "    }\n",
              "\n",
              "    .dataframe tbody tr th {\n",
              "        vertical-align: top;\n",
              "    }\n",
              "\n",
              "    .dataframe thead th {\n",
              "        text-align: right;\n",
              "    }\n",
              "<\/style>\n",
              "<table border=\"1\" class=\"dataframe\">\n",
              "  <thead>\n",
              "    <tr style=\"text-align: right;\">\n",
              "      <th><\/th>\n",
              "      <th>banking marketing<\/th>\n",
              "      <th>Unnamed: 1<\/th>\n",
              "      <th>Unnamed: 2<\/th>\n",
              "      <th>Unnamed: 3<\/th>\n",
              "      <th>Unnamed: 4<\/th>\n",
              "      <th>Unnamed: 5<\/th>\n",
              "      <th>Unnamed: 6<\/th>\n",
              "      <th>Unnamed: 7<\/th>\n",
              "      <th>Unnamed: 8<\/th>\n",
              "      <th>Unnamed: 9<\/th>\n",
              "      <th>Unnamed: 10<\/th>\n",
              "      <th>Unnamed: 11<\/th>\n",
              "      <th>Unnamed: 12<\/th>\n",
              "      <th>Unnamed: 13<\/th>\n",
              "      <th>Unnamed: 14<\/th>\n",
              "      <th>Unnamed: 15<\/th>\n",
              "      <th>Unnamed: 16<\/th>\n",
              "      <th>Unnamed: 17<\/th>\n",
              "      <th>Unnamed: 18<\/th>\n",
              "    <\/tr>\n",
              "  <\/thead>\n",
              "  <tbody>\n",
              "    <tr>\n",
              "      <th>0<\/th>\n",
              "      <td>customer id and age.<\/td>\n",
              "      <td>NaN<\/td>\n",
              "      <td>Customer salary and balance.<\/td>\n",
              "      <td>NaN<\/td>\n",
              "      <td>Customer marital status and job with education...<\/td>\n",
              "      <td>NaN<\/td>\n",
              "      <td>particular customer before targeted or not<\/td>\n",
              "      <td>NaN<\/td>\n",
              "      <td>Loan types: loans or housing loans<\/td>\n",
              "      <td>NaN<\/td>\n",
              "      <td>Contact type<\/td>\n",
              "      <td>NaN<\/td>\n",
              "      <td>month of contact<\/td>\n",
              "      <td>duration of call<\/td>\n",
              "      <td>NaN<\/td>\n",
              "      <td>NaN<\/td>\n",
              "      <td>NaN<\/td>\n",
              "      <td>outcome of previous contact<\/td>\n",
              "      <td>response of customer after call happned<\/td>\n",
              "    <\/tr>\n",
              "    <tr>\n",
              "      <th>1<\/th>\n",
              "      <td>customerid<\/td>\n",
              "      <td>age<\/td>\n",
              "      <td>salary<\/td>\n",
              "      <td>balance<\/td>\n",
              "      <td>marital<\/td>\n",
              "      <td>jobedu<\/td>\n",
              "      <td>targeted<\/td>\n",
              "      <td>default<\/td>\n",
              "      <td>housing<\/td>\n",
              "      <td>loan<\/td>\n",
              "      <td>contact<\/td>\n",
              "      <td>day<\/td>\n",
              "      <td>month<\/td>\n",
              "      <td>duration<\/td>\n",
              "      <td>campaign<\/td>\n",
              "      <td>pdays<\/td>\n",
              "      <td>previous<\/td>\n",
              "      <td>poutcome<\/td>\n",
              "      <td>response<\/td>\n",
              "    <\/tr>\n",
              "    <tr>\n",
              "      <th>2<\/th>\n",
              "      <td>1<\/td>\n",
              "      <td>58<\/td>\n",
              "      <td>100000<\/td>\n",
              "      <td>2143<\/td>\n",
              "      <td>married<\/td>\n",
              "      <td>management,tertiary<\/td>\n",
              "      <td>yes<\/td>\n",
              "      <td>no<\/td>\n",
              "      <td>yes<\/td>\n",
              "      <td>no<\/td>\n",
              "      <td>unknown<\/td>\n",
              "      <td>5<\/td>\n",
              "      <td>may, 2017<\/td>\n",
              "      <td>261 sec<\/td>\n",
              "      <td>1<\/td>\n",
              "      <td>-1<\/td>\n",
              "      <td>0<\/td>\n",
              "      <td>unknown<\/td>\n",
              "      <td>no<\/td>\n",
              "    <\/tr>\n",
              "    <tr>\n",
              "      <th>3<\/th>\n",
              "      <td>2<\/td>\n",
              "      <td>44<\/td>\n",
              "      <td>60000<\/td>\n",
              "      <td>29<\/td>\n",
              "      <td>single<\/td>\n",
              "      <td>technician,secondary<\/td>\n",
              "      <td>yes<\/td>\n",
              "      <td>no<\/td>\n",
              "      <td>yes<\/td>\n",
              "      <td>no<\/td>\n",
              "      <td>unknown<\/td>\n",
              "      <td>5<\/td>\n",
              "      <td>may, 2017<\/td>\n",
              "      <td>151 sec<\/td>\n",
              "      <td>1<\/td>\n",
              "      <td>-1<\/td>\n",
              "      <td>0<\/td>\n",
              "      <td>unknown<\/td>\n",
              "      <td>no<\/td>\n",
              "    <\/tr>\n",
              "    <tr>\n",
              "      <th>4<\/th>\n",
              "      <td>3<\/td>\n",
              "      <td>33<\/td>\n",
              "      <td>120000<\/td>\n",
              "      <td>2<\/td>\n",
              "      <td>married<\/td>\n",
              "      <td>entrepreneur,secondary<\/td>\n",
              "      <td>yes<\/td>\n",
              "      <td>no<\/td>\n",
              "      <td>yes<\/td>\n",
              "      <td>yes<\/td>\n",
              "      <td>unknown<\/td>\n",
              "      <td>5<\/td>\n",
              "      <td>may, 2017<\/td>\n",
              "      <td>76 sec<\/td>\n",
              "      <td>1<\/td>\n",
              "      <td>-1<\/td>\n",
              "      <td>0<\/td>\n",
              "      <td>unknown<\/td>\n",
              "      <td>no<\/td>\n",
              "    <\/tr>\n",
              "    <tr>\n",
              "      <th>...<\/th>\n",
              "      <td>...<\/td>\n",
              "      <td>...<\/td>\n",
              "      <td>...<\/td>\n",
              "      <td>...<\/td>\n",
              "      <td>...<\/td>\n",
              "      <td>...<\/td>\n",
              "      <td>...<\/td>\n",
              "      <td>...<\/td>\n",
              "      <td>...<\/td>\n",
              "      <td>...<\/td>\n",
              "      <td>...<\/td>\n",
              "      <td>...<\/td>\n",
              "      <td>...<\/td>\n",
              "      <td>...<\/td>\n",
              "      <td>...<\/td>\n",
              "      <td>...<\/td>\n",
              "      <td>...<\/td>\n",
              "      <td>...<\/td>\n",
              "      <td>...<\/td>\n",
              "    <\/tr>\n",
              "    <tr>\n",
              "      <th>45208<\/th>\n",
              "      <td>45207<\/td>\n",
              "      <td>51.0<\/td>\n",
              "      <td>60000<\/td>\n",
              "      <td>825<\/td>\n",
              "      <td>married<\/td>\n",
              "      <td>technician,tertiary<\/td>\n",
              "      <td>yes<\/td>\n",
              "      <td>no<\/td>\n",
              "      <td>no<\/td>\n",
              "      <td>no<\/td>\n",
              "      <td>cellular<\/td>\n",
              "      <td>17<\/td>\n",
              "      <td>nov, 2017<\/td>\n",
              "      <td>16.2833333333333 min<\/td>\n",
              "      <td>3<\/td>\n",
              "      <td>-1<\/td>\n",
              "      <td>0<\/td>\n",
              "      <td>unknown<\/td>\n",
              "      <td>yes<\/td>\n",
              "    <\/tr>\n",
              "    <tr>\n",
              "      <th>45209<\/th>\n",
              "      <td>45208<\/td>\n",
              "      <td>71.0<\/td>\n",
              "      <td>55000<\/td>\n",
              "      <td>1729<\/td>\n",
              "      <td>divorced<\/td>\n",
              "      <td>retired,primary<\/td>\n",
              "      <td>yes<\/td>\n",
              "      <td>no<\/td>\n",
              "      <td>no<\/td>\n",
              "      <td>no<\/td>\n",
              "      <td>cellular<\/td>\n",
              "      <td>17<\/td>\n",
              "      <td>nov, 2017<\/td>\n",
              "      <td>7.6 min<\/td>\n",
              "      <td>2<\/td>\n",
              "      <td>-1<\/td>\n",
              "      <td>0<\/td>\n",
              "      <td>unknown<\/td>\n",
              "      <td>yes<\/td>\n",
              "    <\/tr>\n",
              "    <tr>\n",
              "      <th>45210<\/th>\n",
              "      <td>45209<\/td>\n",
              "      <td>72.0<\/td>\n",
              "      <td>55000<\/td>\n",
              "      <td>5715<\/td>\n",
              "      <td>married<\/td>\n",
              "      <td>retired,secondary<\/td>\n",
              "      <td>yes<\/td>\n",
              "      <td>no<\/td>\n",
              "      <td>no<\/td>\n",
              "      <td>no<\/td>\n",
              "      <td>cellular<\/td>\n",
              "      <td>17<\/td>\n",
              "      <td>nov, 2017<\/td>\n",
              "      <td>18.7833333333333 min<\/td>\n",
              "      <td>5<\/td>\n",
              "      <td>184<\/td>\n",
              "      <td>3<\/td>\n",
              "      <td>success<\/td>\n",
              "      <td>yes<\/td>\n",
              "    <\/tr>\n",
              "    <tr>\n",
              "      <th>45211<\/th>\n",
              "      <td>45210<\/td>\n",
              "      <td>57.0<\/td>\n",
              "      <td>20000<\/td>\n",
              "      <td>668<\/td>\n",
              "      <td>married<\/td>\n",
              "      <td>blue-collar,secondary<\/td>\n",
              "      <td>yes<\/td>\n",
              "      <td>no<\/td>\n",
              "      <td>no<\/td>\n",
              "      <td>no<\/td>\n",
              "      <td>telephone<\/td>\n",
              "      <td>17<\/td>\n",
              "      <td>nov, 2017<\/td>\n",
              "      <td>8.46666666666667 min<\/td>\n",
              "      <td>4<\/td>\n",
              "      <td>-1<\/td>\n",
              "      <td>0<\/td>\n",
              "      <td>unknown<\/td>\n",
              "      <td>no<\/td>\n",
              "    <\/tr>\n",
              "    <tr>\n",
              "      <th>45212<\/th>\n",
              "      <td>45211<\/td>\n",
              "      <td>37.0<\/td>\n",
              "      <td>120000<\/td>\n",
              "      <td>2971<\/td>\n",
              "      <td>married<\/td>\n",
              "      <td>entrepreneur,secondary<\/td>\n",
              "      <td>yes<\/td>\n",
              "      <td>no<\/td>\n",
              "      <td>no<\/td>\n",
              "      <td>no<\/td>\n",
              "      <td>cellular<\/td>\n",
              "      <td>17<\/td>\n",
              "      <td>nov, 2017<\/td>\n",
              "      <td>6.01666666666667 min<\/td>\n",
              "      <td>2<\/td>\n",
              "      <td>188<\/td>\n",
              "      <td>11<\/td>\n",
              "      <td>other<\/td>\n",
              "      <td>no<\/td>\n",
              "    <\/tr>\n",
              "  <\/tbody>\n",
              "<\/table>\n",
              "<p>45213 rows × 19 columns<\/p>\n",
              "<\/div>"
            ]
          },
          "metadata":{
            
          },
          "output_type":"display_data"
        }
      ],
      "metadata":{
        
      }
    },
    {
      "cell_type":"markdown",
      "source":[
        "If we observe the above dataset, there are some discrepancies in the Column header for the first 2 rows. The correct data is from the index number 1. So, we have to fix the first two rows. This is called **Fixing the Rows and Columns**. Let’s ignore the first two rows and load the data again."
      ],
      "attachments":{
        
      },
      "metadata":{
        
      }
    },
    {
      "cell_type":"code",
      "source":[
        "# Skip the first 2 rows\n",
        "market_data = pd.read_csv('Marketing_Analysis.csv', skiprows=2)\n",
        "market_data"
      ],
      "execution_count":4,
      "outputs":[
        {
          "data":{
            "text\/html":[
              "<div>\n",
              "<style scoped>\n",
              "    .dataframe tbody tr th:only-of-type {\n",
              "        vertical-align: middle;\n",
              "    }\n",
              "\n",
              "    .dataframe tbody tr th {\n",
              "        vertical-align: top;\n",
              "    }\n",
              "\n",
              "    .dataframe thead th {\n",
              "        text-align: right;\n",
              "    }\n",
              "<\/style>\n",
              "<table border=\"1\" class=\"dataframe\">\n",
              "  <thead>\n",
              "    <tr style=\"text-align: right;\">\n",
              "      <th><\/th>\n",
              "      <th>customerid<\/th>\n",
              "      <th>age<\/th>\n",
              "      <th>salary<\/th>\n",
              "      <th>balance<\/th>\n",
              "      <th>marital<\/th>\n",
              "      <th>jobedu<\/th>\n",
              "      <th>targeted<\/th>\n",
              "      <th>default<\/th>\n",
              "      <th>housing<\/th>\n",
              "      <th>loan<\/th>\n",
              "      <th>contact<\/th>\n",
              "      <th>day<\/th>\n",
              "      <th>month<\/th>\n",
              "      <th>duration<\/th>\n",
              "      <th>campaign<\/th>\n",
              "      <th>pdays<\/th>\n",
              "      <th>previous<\/th>\n",
              "      <th>poutcome<\/th>\n",
              "      <th>response<\/th>\n",
              "    <\/tr>\n",
              "  <\/thead>\n",
              "  <tbody>\n",
              "    <tr>\n",
              "      <th>0<\/th>\n",
              "      <td>1<\/td>\n",
              "      <td>58.0<\/td>\n",
              "      <td>100000<\/td>\n",
              "      <td>2143<\/td>\n",
              "      <td>married<\/td>\n",
              "      <td>management,tertiary<\/td>\n",
              "      <td>yes<\/td>\n",
              "      <td>no<\/td>\n",
              "      <td>yes<\/td>\n",
              "      <td>no<\/td>\n",
              "      <td>unknown<\/td>\n",
              "      <td>5<\/td>\n",
              "      <td>may, 2017<\/td>\n",
              "      <td>261 sec<\/td>\n",
              "      <td>1<\/td>\n",
              "      <td>-1<\/td>\n",
              "      <td>0<\/td>\n",
              "      <td>unknown<\/td>\n",
              "      <td>no<\/td>\n",
              "    <\/tr>\n",
              "    <tr>\n",
              "      <th>1<\/th>\n",
              "      <td>2<\/td>\n",
              "      <td>44.0<\/td>\n",
              "      <td>60000<\/td>\n",
              "      <td>29<\/td>\n",
              "      <td>single<\/td>\n",
              "      <td>technician,secondary<\/td>\n",
              "      <td>yes<\/td>\n",
              "      <td>no<\/td>\n",
              "      <td>yes<\/td>\n",
              "      <td>no<\/td>\n",
              "      <td>unknown<\/td>\n",
              "      <td>5<\/td>\n",
              "      <td>may, 2017<\/td>\n",
              "      <td>151 sec<\/td>\n",
              "      <td>1<\/td>\n",
              "      <td>-1<\/td>\n",
              "      <td>0<\/td>\n",
              "      <td>unknown<\/td>\n",
              "      <td>no<\/td>\n",
              "    <\/tr>\n",
              "    <tr>\n",
              "      <th>2<\/th>\n",
              "      <td>3<\/td>\n",
              "      <td>33.0<\/td>\n",
              "      <td>120000<\/td>\n",
              "      <td>2<\/td>\n",
              "      <td>married<\/td>\n",
              "      <td>entrepreneur,secondary<\/td>\n",
              "      <td>yes<\/td>\n",
              "      <td>no<\/td>\n",
              "      <td>yes<\/td>\n",
              "      <td>yes<\/td>\n",
              "      <td>unknown<\/td>\n",
              "      <td>5<\/td>\n",
              "      <td>may, 2017<\/td>\n",
              "      <td>76 sec<\/td>\n",
              "      <td>1<\/td>\n",
              "      <td>-1<\/td>\n",
              "      <td>0<\/td>\n",
              "      <td>unknown<\/td>\n",
              "      <td>no<\/td>\n",
              "    <\/tr>\n",
              "    <tr>\n",
              "      <th>3<\/th>\n",
              "      <td>4<\/td>\n",
              "      <td>47.0<\/td>\n",
              "      <td>20000<\/td>\n",
              "      <td>1506<\/td>\n",
              "      <td>married<\/td>\n",
              "      <td>blue-collar,unknown<\/td>\n",
              "      <td>no<\/td>\n",
              "      <td>no<\/td>\n",
              "      <td>yes<\/td>\n",
              "      <td>no<\/td>\n",
              "      <td>unknown<\/td>\n",
              "      <td>5<\/td>\n",
              "      <td>may, 2017<\/td>\n",
              "      <td>92 sec<\/td>\n",
              "      <td>1<\/td>\n",
              "      <td>-1<\/td>\n",
              "      <td>0<\/td>\n",
              "      <td>unknown<\/td>\n",
              "      <td>no<\/td>\n",
              "    <\/tr>\n",
              "    <tr>\n",
              "      <th>4<\/th>\n",
              "      <td>5<\/td>\n",
              "      <td>33.0<\/td>\n",
              "      <td>0<\/td>\n",
              "      <td>1<\/td>\n",
              "      <td>single<\/td>\n",
              "      <td>unknown,unknown<\/td>\n",
              "      <td>no<\/td>\n",
              "      <td>no<\/td>\n",
              "      <td>no<\/td>\n",
              "      <td>no<\/td>\n",
              "      <td>unknown<\/td>\n",
              "      <td>5<\/td>\n",
              "      <td>may, 2017<\/td>\n",
              "      <td>198 sec<\/td>\n",
              "      <td>1<\/td>\n",
              "      <td>-1<\/td>\n",
              "      <td>0<\/td>\n",
              "      <td>unknown<\/td>\n",
              "      <td>no<\/td>\n",
              "    <\/tr>\n",
              "    <tr>\n",
              "      <th>...<\/th>\n",
              "      <td>...<\/td>\n",
              "      <td>...<\/td>\n",
              "      <td>...<\/td>\n",
              "      <td>...<\/td>\n",
              "      <td>...<\/td>\n",
              "      <td>...<\/td>\n",
              "      <td>...<\/td>\n",
              "      <td>...<\/td>\n",
              "      <td>...<\/td>\n",
              "      <td>...<\/td>\n",
              "      <td>...<\/td>\n",
              "      <td>...<\/td>\n",
              "      <td>...<\/td>\n",
              "      <td>...<\/td>\n",
              "      <td>...<\/td>\n",
              "      <td>...<\/td>\n",
              "      <td>...<\/td>\n",
              "      <td>...<\/td>\n",
              "      <td>...<\/td>\n",
              "    <\/tr>\n",
              "    <tr>\n",
              "      <th>45206<\/th>\n",
              "      <td>45207<\/td>\n",
              "      <td>51.0<\/td>\n",
              "      <td>60000<\/td>\n",
              "      <td>825<\/td>\n",
              "      <td>married<\/td>\n",
              "      <td>technician,tertiary<\/td>\n",
              "      <td>yes<\/td>\n",
              "      <td>no<\/td>\n",
              "      <td>no<\/td>\n",
              "      <td>no<\/td>\n",
              "      <td>cellular<\/td>\n",
              "      <td>17<\/td>\n",
              "      <td>nov, 2017<\/td>\n",
              "      <td>16.2833333333333 min<\/td>\n",
              "      <td>3<\/td>\n",
              "      <td>-1<\/td>\n",
              "      <td>0<\/td>\n",
              "      <td>unknown<\/td>\n",
              "      <td>yes<\/td>\n",
              "    <\/tr>\n",
              "    <tr>\n",
              "      <th>45207<\/th>\n",
              "      <td>45208<\/td>\n",
              "      <td>71.0<\/td>\n",
              "      <td>55000<\/td>\n",
              "      <td>1729<\/td>\n",
              "      <td>divorced<\/td>\n",
              "      <td>retired,primary<\/td>\n",
              "      <td>yes<\/td>\n",
              "      <td>no<\/td>\n",
              "      <td>no<\/td>\n",
              "      <td>no<\/td>\n",
              "      <td>cellular<\/td>\n",
              "      <td>17<\/td>\n",
              "      <td>nov, 2017<\/td>\n",
              "      <td>7.6 min<\/td>\n",
              "      <td>2<\/td>\n",
              "      <td>-1<\/td>\n",
              "      <td>0<\/td>\n",
              "      <td>unknown<\/td>\n",
              "      <td>yes<\/td>\n",
              "    <\/tr>\n",
              "    <tr>\n",
              "      <th>45208<\/th>\n",
              "      <td>45209<\/td>\n",
              "      <td>72.0<\/td>\n",
              "      <td>55000<\/td>\n",
              "      <td>5715<\/td>\n",
              "      <td>married<\/td>\n",
              "      <td>retired,secondary<\/td>\n",
              "      <td>yes<\/td>\n",
              "      <td>no<\/td>\n",
              "      <td>no<\/td>\n",
              "      <td>no<\/td>\n",
              "      <td>cellular<\/td>\n",
              "      <td>17<\/td>\n",
              "      <td>nov, 2017<\/td>\n",
              "      <td>18.7833333333333 min<\/td>\n",
              "      <td>5<\/td>\n",
              "      <td>184<\/td>\n",
              "      <td>3<\/td>\n",
              "      <td>success<\/td>\n",
              "      <td>yes<\/td>\n",
              "    <\/tr>\n",
              "    <tr>\n",
              "      <th>45209<\/th>\n",
              "      <td>45210<\/td>\n",
              "      <td>57.0<\/td>\n",
              "      <td>20000<\/td>\n",
              "      <td>668<\/td>\n",
              "      <td>married<\/td>\n",
              "      <td>blue-collar,secondary<\/td>\n",
              "      <td>yes<\/td>\n",
              "      <td>no<\/td>\n",
              "      <td>no<\/td>\n",
              "      <td>no<\/td>\n",
              "      <td>telephone<\/td>\n",
              "      <td>17<\/td>\n",
              "      <td>nov, 2017<\/td>\n",
              "      <td>8.46666666666667 min<\/td>\n",
              "      <td>4<\/td>\n",
              "      <td>-1<\/td>\n",
              "      <td>0<\/td>\n",
              "      <td>unknown<\/td>\n",
              "      <td>no<\/td>\n",
              "    <\/tr>\n",
              "    <tr>\n",
              "      <th>45210<\/th>\n",
              "      <td>45211<\/td>\n",
              "      <td>37.0<\/td>\n",
              "      <td>120000<\/td>\n",
              "      <td>2971<\/td>\n",
              "      <td>married<\/td>\n",
              "      <td>entrepreneur,secondary<\/td>\n",
              "      <td>yes<\/td>\n",
              "      <td>no<\/td>\n",
              "      <td>no<\/td>\n",
              "      <td>no<\/td>\n",
              "      <td>cellular<\/td>\n",
              "      <td>17<\/td>\n",
              "      <td>nov, 2017<\/td>\n",
              "      <td>6.01666666666667 min<\/td>\n",
              "      <td>2<\/td>\n",
              "      <td>188<\/td>\n",
              "      <td>11<\/td>\n",
              "      <td>other<\/td>\n",
              "      <td>no<\/td>\n",
              "    <\/tr>\n",
              "  <\/tbody>\n",
              "<\/table>\n",
              "<p>45211 rows × 19 columns<\/p>\n",
              "<\/div>"
            ]
          },
          "metadata":{
            
          },
          "output_type":"display_data"
        }
      ],
      "metadata":{
        
      }
    },
    {
      "cell_type":"markdown",
      "source":[
        "Following are the steps to be taken while Fixing Rows and Columns:\n",
        "\n",
        "    1. Delete Summary Rows and Columns in the Dataset.\n",
        "   \n",
        "    2. Delete Header and Footer Rows on every page.\n",
        "     \n",
        "    3. Delete Extra Rows like blank rows, page numbers, etc.\n",
        "     \n",
        "    4. We can merge different columns if it makes for better understanding of the data\n",
        "     \n",
        "    5. Similarly, we can also split one column into multiple columns based on our requirements or understanding.\n",
        "     \n",
        "    6. Add Column names, it is very important to have column names to the dataset."
      ],
      "attachments":{
        
      },
      "metadata":{
        
      }
    },
    {
      "cell_type":"markdown",
      "source":[
        "Now if we observe the above dataset, the customerid column has of no importance to our analysis, and also the **jobedu** column has both the information of job and education in it. So remove **customer id** column & split **jobedu** column in to **Job** and **Education**"
      ],
      "attachments":{
        
      },
      "metadata":{
        
      }
    },
    {
      "cell_type":"markdown",
      "source":[
        "#### Remove a column from DataFrame"
      ],
      "attachments":{
        
      },
      "metadata":{
        
      }
    },
    {
      "cell_type":"code",
      "source":[
        "# remove customerid col,\n",
        "market_data.drop('customerid', axis=1, inplace=True)\n",
        "market_data"
      ],
      "execution_count":5,
      "outputs":[
        {
          "data":{
            "text\/html":[
              "<div>\n",
              "<style scoped>\n",
              "    .dataframe tbody tr th:only-of-type {\n",
              "        vertical-align: middle;\n",
              "    }\n",
              "\n",
              "    .dataframe tbody tr th {\n",
              "        vertical-align: top;\n",
              "    }\n",
              "\n",
              "    .dataframe thead th {\n",
              "        text-align: right;\n",
              "    }\n",
              "<\/style>\n",
              "<table border=\"1\" class=\"dataframe\">\n",
              "  <thead>\n",
              "    <tr style=\"text-align: right;\">\n",
              "      <th><\/th>\n",
              "      <th>age<\/th>\n",
              "      <th>salary<\/th>\n",
              "      <th>balance<\/th>\n",
              "      <th>marital<\/th>\n",
              "      <th>jobedu<\/th>\n",
              "      <th>targeted<\/th>\n",
              "      <th>default<\/th>\n",
              "      <th>housing<\/th>\n",
              "      <th>loan<\/th>\n",
              "      <th>contact<\/th>\n",
              "      <th>day<\/th>\n",
              "      <th>month<\/th>\n",
              "      <th>duration<\/th>\n",
              "      <th>campaign<\/th>\n",
              "      <th>pdays<\/th>\n",
              "      <th>previous<\/th>\n",
              "      <th>poutcome<\/th>\n",
              "      <th>response<\/th>\n",
              "    <\/tr>\n",
              "  <\/thead>\n",
              "  <tbody>\n",
              "    <tr>\n",
              "      <th>0<\/th>\n",
              "      <td>58.0<\/td>\n",
              "      <td>100000<\/td>\n",
              "      <td>2143<\/td>\n",
              "      <td>married<\/td>\n",
              "      <td>management,tertiary<\/td>\n",
              "      <td>yes<\/td>\n",
              "      <td>no<\/td>\n",
              "      <td>yes<\/td>\n",
              "      <td>no<\/td>\n",
              "      <td>unknown<\/td>\n",
              "      <td>5<\/td>\n",
              "      <td>may, 2017<\/td>\n",
              "      <td>261 sec<\/td>\n",
              "      <td>1<\/td>\n",
              "      <td>-1<\/td>\n",
              "      <td>0<\/td>\n",
              "      <td>unknown<\/td>\n",
              "      <td>no<\/td>\n",
              "    <\/tr>\n",
              "    <tr>\n",
              "      <th>1<\/th>\n",
              "      <td>44.0<\/td>\n",
              "      <td>60000<\/td>\n",
              "      <td>29<\/td>\n",
              "      <td>single<\/td>\n",
              "      <td>technician,secondary<\/td>\n",
              "      <td>yes<\/td>\n",
              "      <td>no<\/td>\n",
              "      <td>yes<\/td>\n",
              "      <td>no<\/td>\n",
              "      <td>unknown<\/td>\n",
              "      <td>5<\/td>\n",
              "      <td>may, 2017<\/td>\n",
              "      <td>151 sec<\/td>\n",
              "      <td>1<\/td>\n",
              "      <td>-1<\/td>\n",
              "      <td>0<\/td>\n",
              "      <td>unknown<\/td>\n",
              "      <td>no<\/td>\n",
              "    <\/tr>\n",
              "    <tr>\n",
              "      <th>2<\/th>\n",
              "      <td>33.0<\/td>\n",
              "      <td>120000<\/td>\n",
              "      <td>2<\/td>\n",
              "      <td>married<\/td>\n",
              "      <td>entrepreneur,secondary<\/td>\n",
              "      <td>yes<\/td>\n",
              "      <td>no<\/td>\n",
              "      <td>yes<\/td>\n",
              "      <td>yes<\/td>\n",
              "      <td>unknown<\/td>\n",
              "      <td>5<\/td>\n",
              "      <td>may, 2017<\/td>\n",
              "      <td>76 sec<\/td>\n",
              "      <td>1<\/td>\n",
              "      <td>-1<\/td>\n",
              "      <td>0<\/td>\n",
              "      <td>unknown<\/td>\n",
              "      <td>no<\/td>\n",
              "    <\/tr>\n",
              "    <tr>\n",
              "      <th>3<\/th>\n",
              "      <td>47.0<\/td>\n",
              "      <td>20000<\/td>\n",
              "      <td>1506<\/td>\n",
              "      <td>married<\/td>\n",
              "      <td>blue-collar,unknown<\/td>\n",
              "      <td>no<\/td>\n",
              "      <td>no<\/td>\n",
              "      <td>yes<\/td>\n",
              "      <td>no<\/td>\n",
              "      <td>unknown<\/td>\n",
              "      <td>5<\/td>\n",
              "      <td>may, 2017<\/td>\n",
              "      <td>92 sec<\/td>\n",
              "      <td>1<\/td>\n",
              "      <td>-1<\/td>\n",
              "      <td>0<\/td>\n",
              "      <td>unknown<\/td>\n",
              "      <td>no<\/td>\n",
              "    <\/tr>\n",
              "    <tr>\n",
              "      <th>4<\/th>\n",
              "      <td>33.0<\/td>\n",
              "      <td>0<\/td>\n",
              "      <td>1<\/td>\n",
              "      <td>single<\/td>\n",
              "      <td>unknown,unknown<\/td>\n",
              "      <td>no<\/td>\n",
              "      <td>no<\/td>\n",
              "      <td>no<\/td>\n",
              "      <td>no<\/td>\n",
              "      <td>unknown<\/td>\n",
              "      <td>5<\/td>\n",
              "      <td>may, 2017<\/td>\n",
              "      <td>198 sec<\/td>\n",
              "      <td>1<\/td>\n",
              "      <td>-1<\/td>\n",
              "      <td>0<\/td>\n",
              "      <td>unknown<\/td>\n",
              "      <td>no<\/td>\n",
              "    <\/tr>\n",
              "    <tr>\n",
              "      <th>...<\/th>\n",
              "      <td>...<\/td>\n",
              "      <td>...<\/td>\n",
              "      <td>...<\/td>\n",
              "      <td>...<\/td>\n",
              "      <td>...<\/td>\n",
              "      <td>...<\/td>\n",
              "      <td>...<\/td>\n",
              "      <td>...<\/td>\n",
              "      <td>...<\/td>\n",
              "      <td>...<\/td>\n",
              "      <td>...<\/td>\n",
              "      <td>...<\/td>\n",
              "      <td>...<\/td>\n",
              "      <td>...<\/td>\n",
              "      <td>...<\/td>\n",
              "      <td>...<\/td>\n",
              "      <td>...<\/td>\n",
              "      <td>...<\/td>\n",
              "    <\/tr>\n",
              "    <tr>\n",
              "      <th>45206<\/th>\n",
              "      <td>51.0<\/td>\n",
              "      <td>60000<\/td>\n",
              "      <td>825<\/td>\n",
              "      <td>married<\/td>\n",
              "      <td>technician,tertiary<\/td>\n",
              "      <td>yes<\/td>\n",
              "      <td>no<\/td>\n",
              "      <td>no<\/td>\n",
              "      <td>no<\/td>\n",
              "      <td>cellular<\/td>\n",
              "      <td>17<\/td>\n",
              "      <td>nov, 2017<\/td>\n",
              "      <td>16.2833333333333 min<\/td>\n",
              "      <td>3<\/td>\n",
              "      <td>-1<\/td>\n",
              "      <td>0<\/td>\n",
              "      <td>unknown<\/td>\n",
              "      <td>yes<\/td>\n",
              "    <\/tr>\n",
              "    <tr>\n",
              "      <th>45207<\/th>\n",
              "      <td>71.0<\/td>\n",
              "      <td>55000<\/td>\n",
              "      <td>1729<\/td>\n",
              "      <td>divorced<\/td>\n",
              "      <td>retired,primary<\/td>\n",
              "      <td>yes<\/td>\n",
              "      <td>no<\/td>\n",
              "      <td>no<\/td>\n",
              "      <td>no<\/td>\n",
              "      <td>cellular<\/td>\n",
              "      <td>17<\/td>\n",
              "      <td>nov, 2017<\/td>\n",
              "      <td>7.6 min<\/td>\n",
              "      <td>2<\/td>\n",
              "      <td>-1<\/td>\n",
              "      <td>0<\/td>\n",
              "      <td>unknown<\/td>\n",
              "      <td>yes<\/td>\n",
              "    <\/tr>\n",
              "    <tr>\n",
              "      <th>45208<\/th>\n",
              "      <td>72.0<\/td>\n",
              "      <td>55000<\/td>\n",
              "      <td>5715<\/td>\n",
              "      <td>married<\/td>\n",
              "      <td>retired,secondary<\/td>\n",
              "      <td>yes<\/td>\n",
              "      <td>no<\/td>\n",
              "      <td>no<\/td>\n",
              "      <td>no<\/td>\n",
              "      <td>cellular<\/td>\n",
              "      <td>17<\/td>\n",
              "      <td>nov, 2017<\/td>\n",
              "      <td>18.7833333333333 min<\/td>\n",
              "      <td>5<\/td>\n",
              "      <td>184<\/td>\n",
              "      <td>3<\/td>\n",
              "      <td>success<\/td>\n",
              "      <td>yes<\/td>\n",
              "    <\/tr>\n",
              "    <tr>\n",
              "      <th>45209<\/th>\n",
              "      <td>57.0<\/td>\n",
              "      <td>20000<\/td>\n",
              "      <td>668<\/td>\n",
              "      <td>married<\/td>\n",
              "      <td>blue-collar,secondary<\/td>\n",
              "      <td>yes<\/td>\n",
              "      <td>no<\/td>\n",
              "      <td>no<\/td>\n",
              "      <td>no<\/td>\n",
              "      <td>telephone<\/td>\n",
              "      <td>17<\/td>\n",
              "      <td>nov, 2017<\/td>\n",
              "      <td>8.46666666666667 min<\/td>\n",
              "      <td>4<\/td>\n",
              "      <td>-1<\/td>\n",
              "      <td>0<\/td>\n",
              "      <td>unknown<\/td>\n",
              "      <td>no<\/td>\n",
              "    <\/tr>\n",
              "    <tr>\n",
              "      <th>45210<\/th>\n",
              "      <td>37.0<\/td>\n",
              "      <td>120000<\/td>\n",
              "      <td>2971<\/td>\n",
              "      <td>married<\/td>\n",
              "      <td>entrepreneur,secondary<\/td>\n",
              "      <td>yes<\/td>\n",
              "      <td>no<\/td>\n",
              "      <td>no<\/td>\n",
              "      <td>no<\/td>\n",
              "      <td>cellular<\/td>\n",
              "      <td>17<\/td>\n",
              "      <td>nov, 2017<\/td>\n",
              "      <td>6.01666666666667 min<\/td>\n",
              "      <td>2<\/td>\n",
              "      <td>188<\/td>\n",
              "      <td>11<\/td>\n",
              "      <td>other<\/td>\n",
              "      <td>no<\/td>\n",
              "    <\/tr>\n",
              "  <\/tbody>\n",
              "<\/table>\n",
              "<p>45211 rows × 18 columns<\/p>\n",
              "<\/div>"
            ]
          },
          "metadata":{
            
          },
          "output_type":"display_data"
        }
      ],
      "metadata":{
        
      }
    },
    {
      "cell_type":"markdown",
      "source":[
        "#### Split column in to 2\n",
        "\n",
        "https:\/\/datascienceparichay.com\/article\/pandas-split-column-by-delimiter\/"
      ],
      "attachments":{
        
      },
      "metadata":{
        
      }
    },
    {
      "cell_type":"code",
      "source":[
        "\n",
        "# split jobedu column in to 2,\n",
        "market_data[['Job', 'Education']] = market_data['jobedu'].str.split(',', expand=True)\n",
        "market_data"
      ],
      "execution_count":6,
      "outputs":[
        {
          "data":{
            "text\/html":[
              "<div>\n",
              "<style scoped>\n",
              "    .dataframe tbody tr th:only-of-type {\n",
              "        vertical-align: middle;\n",
              "    }\n",
              "\n",
              "    .dataframe tbody tr th {\n",
              "        vertical-align: top;\n",
              "    }\n",
              "\n",
              "    .dataframe thead th {\n",
              "        text-align: right;\n",
              "    }\n",
              "<\/style>\n",
              "<table border=\"1\" class=\"dataframe\">\n",
              "  <thead>\n",
              "    <tr style=\"text-align: right;\">\n",
              "      <th><\/th>\n",
              "      <th>age<\/th>\n",
              "      <th>salary<\/th>\n",
              "      <th>balance<\/th>\n",
              "      <th>marital<\/th>\n",
              "      <th>jobedu<\/th>\n",
              "      <th>targeted<\/th>\n",
              "      <th>default<\/th>\n",
              "      <th>housing<\/th>\n",
              "      <th>loan<\/th>\n",
              "      <th>contact<\/th>\n",
              "      <th>day<\/th>\n",
              "      <th>month<\/th>\n",
              "      <th>duration<\/th>\n",
              "      <th>campaign<\/th>\n",
              "      <th>pdays<\/th>\n",
              "      <th>previous<\/th>\n",
              "      <th>poutcome<\/th>\n",
              "      <th>response<\/th>\n",
              "      <th>Job<\/th>\n",
              "      <th>Education<\/th>\n",
              "    <\/tr>\n",
              "  <\/thead>\n",
              "  <tbody>\n",
              "    <tr>\n",
              "      <th>0<\/th>\n",
              "      <td>58.0<\/td>\n",
              "      <td>100000<\/td>\n",
              "      <td>2143<\/td>\n",
              "      <td>married<\/td>\n",
              "      <td>management,tertiary<\/td>\n",
              "      <td>yes<\/td>\n",
              "      <td>no<\/td>\n",
              "      <td>yes<\/td>\n",
              "      <td>no<\/td>\n",
              "      <td>unknown<\/td>\n",
              "      <td>5<\/td>\n",
              "      <td>may, 2017<\/td>\n",
              "      <td>261 sec<\/td>\n",
              "      <td>1<\/td>\n",
              "      <td>-1<\/td>\n",
              "      <td>0<\/td>\n",
              "      <td>unknown<\/td>\n",
              "      <td>no<\/td>\n",
              "      <td>management<\/td>\n",
              "      <td>tertiary<\/td>\n",
              "    <\/tr>\n",
              "    <tr>\n",
              "      <th>1<\/th>\n",
              "      <td>44.0<\/td>\n",
              "      <td>60000<\/td>\n",
              "      <td>29<\/td>\n",
              "      <td>single<\/td>\n",
              "      <td>technician,secondary<\/td>\n",
              "      <td>yes<\/td>\n",
              "      <td>no<\/td>\n",
              "      <td>yes<\/td>\n",
              "      <td>no<\/td>\n",
              "      <td>unknown<\/td>\n",
              "      <td>5<\/td>\n",
              "      <td>may, 2017<\/td>\n",
              "      <td>151 sec<\/td>\n",
              "      <td>1<\/td>\n",
              "      <td>-1<\/td>\n",
              "      <td>0<\/td>\n",
              "      <td>unknown<\/td>\n",
              "      <td>no<\/td>\n",
              "      <td>technician<\/td>\n",
              "      <td>secondary<\/td>\n",
              "    <\/tr>\n",
              "    <tr>\n",
              "      <th>2<\/th>\n",
              "      <td>33.0<\/td>\n",
              "      <td>120000<\/td>\n",
              "      <td>2<\/td>\n",
              "      <td>married<\/td>\n",
              "      <td>entrepreneur,secondary<\/td>\n",
              "      <td>yes<\/td>\n",
              "      <td>no<\/td>\n",
              "      <td>yes<\/td>\n",
              "      <td>yes<\/td>\n",
              "      <td>unknown<\/td>\n",
              "      <td>5<\/td>\n",
              "      <td>may, 2017<\/td>\n",
              "      <td>76 sec<\/td>\n",
              "      <td>1<\/td>\n",
              "      <td>-1<\/td>\n",
              "      <td>0<\/td>\n",
              "      <td>unknown<\/td>\n",
              "      <td>no<\/td>\n",
              "      <td>entrepreneur<\/td>\n",
              "      <td>secondary<\/td>\n",
              "    <\/tr>\n",
              "    <tr>\n",
              "      <th>3<\/th>\n",
              "      <td>47.0<\/td>\n",
              "      <td>20000<\/td>\n",
              "      <td>1506<\/td>\n",
              "      <td>married<\/td>\n",
              "      <td>blue-collar,unknown<\/td>\n",
              "      <td>no<\/td>\n",
              "      <td>no<\/td>\n",
              "      <td>yes<\/td>\n",
              "      <td>no<\/td>\n",
              "      <td>unknown<\/td>\n",
              "      <td>5<\/td>\n",
              "      <td>may, 2017<\/td>\n",
              "      <td>92 sec<\/td>\n",
              "      <td>1<\/td>\n",
              "      <td>-1<\/td>\n",
              "      <td>0<\/td>\n",
              "      <td>unknown<\/td>\n",
              "      <td>no<\/td>\n",
              "      <td>blue-collar<\/td>\n",
              "      <td>unknown<\/td>\n",
              "    <\/tr>\n",
              "    <tr>\n",
              "      <th>4<\/th>\n",
              "      <td>33.0<\/td>\n",
              "      <td>0<\/td>\n",
              "      <td>1<\/td>\n",
              "      <td>single<\/td>\n",
              "      <td>unknown,unknown<\/td>\n",
              "      <td>no<\/td>\n",
              "      <td>no<\/td>\n",
              "      <td>no<\/td>\n",
              "      <td>no<\/td>\n",
              "      <td>unknown<\/td>\n",
              "      <td>5<\/td>\n",
              "      <td>may, 2017<\/td>\n",
              "      <td>198 sec<\/td>\n",
              "      <td>1<\/td>\n",
              "      <td>-1<\/td>\n",
              "      <td>0<\/td>\n",
              "      <td>unknown<\/td>\n",
              "      <td>no<\/td>\n",
              "      <td>unknown<\/td>\n",
              "      <td>unknown<\/td>\n",
              "    <\/tr>\n",
              "    <tr>\n",
              "      <th>...<\/th>\n",
              "      <td>...<\/td>\n",
              "      <td>...<\/td>\n",
              "      <td>...<\/td>\n",
              "      <td>...<\/td>\n",
              "      <td>...<\/td>\n",
              "      <td>...<\/td>\n",
              "      <td>...<\/td>\n",
              "      <td>...<\/td>\n",
              "      <td>...<\/td>\n",
              "      <td>...<\/td>\n",
              "      <td>...<\/td>\n",
              "      <td>...<\/td>\n",
              "      <td>...<\/td>\n",
              "      <td>...<\/td>\n",
              "      <td>...<\/td>\n",
              "      <td>...<\/td>\n",
              "      <td>...<\/td>\n",
              "      <td>...<\/td>\n",
              "      <td>...<\/td>\n",
              "      <td>...<\/td>\n",
              "    <\/tr>\n",
              "    <tr>\n",
              "      <th>45206<\/th>\n",
              "      <td>51.0<\/td>\n",
              "      <td>60000<\/td>\n",
              "      <td>825<\/td>\n",
              "      <td>married<\/td>\n",
              "      <td>technician,tertiary<\/td>\n",
              "      <td>yes<\/td>\n",
              "      <td>no<\/td>\n",
              "      <td>no<\/td>\n",
              "      <td>no<\/td>\n",
              "      <td>cellular<\/td>\n",
              "      <td>17<\/td>\n",
              "      <td>nov, 2017<\/td>\n",
              "      <td>16.2833333333333 min<\/td>\n",
              "      <td>3<\/td>\n",
              "      <td>-1<\/td>\n",
              "      <td>0<\/td>\n",
              "      <td>unknown<\/td>\n",
              "      <td>yes<\/td>\n",
              "      <td>technician<\/td>\n",
              "      <td>tertiary<\/td>\n",
              "    <\/tr>\n",
              "    <tr>\n",
              "      <th>45207<\/th>\n",
              "      <td>71.0<\/td>\n",
              "      <td>55000<\/td>\n",
              "      <td>1729<\/td>\n",
              "      <td>divorced<\/td>\n",
              "      <td>retired,primary<\/td>\n",
              "      <td>yes<\/td>\n",
              "      <td>no<\/td>\n",
              "      <td>no<\/td>\n",
              "      <td>no<\/td>\n",
              "      <td>cellular<\/td>\n",
              "      <td>17<\/td>\n",
              "      <td>nov, 2017<\/td>\n",
              "      <td>7.6 min<\/td>\n",
              "      <td>2<\/td>\n",
              "      <td>-1<\/td>\n",
              "      <td>0<\/td>\n",
              "      <td>unknown<\/td>\n",
              "      <td>yes<\/td>\n",
              "      <td>retired<\/td>\n",
              "      <td>primary<\/td>\n",
              "    <\/tr>\n",
              "    <tr>\n",
              "      <th>45208<\/th>\n",
              "      <td>72.0<\/td>\n",
              "      <td>55000<\/td>\n",
              "      <td>5715<\/td>\n",
              "      <td>married<\/td>\n",
              "      <td>retired,secondary<\/td>\n",
              "      <td>yes<\/td>\n",
              "      <td>no<\/td>\n",
              "      <td>no<\/td>\n",
              "      <td>no<\/td>\n",
              "      <td>cellular<\/td>\n",
              "      <td>17<\/td>\n",
              "      <td>nov, 2017<\/td>\n",
              "      <td>18.7833333333333 min<\/td>\n",
              "      <td>5<\/td>\n",
              "      <td>184<\/td>\n",
              "      <td>3<\/td>\n",
              "      <td>success<\/td>\n",
              "      <td>yes<\/td>\n",
              "      <td>retired<\/td>\n",
              "      <td>secondary<\/td>\n",
              "    <\/tr>\n",
              "    <tr>\n",
              "      <th>45209<\/th>\n",
              "      <td>57.0<\/td>\n",
              "      <td>20000<\/td>\n",
              "      <td>668<\/td>\n",
              "      <td>married<\/td>\n",
              "      <td>blue-collar,secondary<\/td>\n",
              "      <td>yes<\/td>\n",
              "      <td>no<\/td>\n",
              "      <td>no<\/td>\n",
              "      <td>no<\/td>\n",
              "      <td>telephone<\/td>\n",
              "      <td>17<\/td>\n",
              "      <td>nov, 2017<\/td>\n",
              "      <td>8.46666666666667 min<\/td>\n",
              "      <td>4<\/td>\n",
              "      <td>-1<\/td>\n",
              "      <td>0<\/td>\n",
              "      <td>unknown<\/td>\n",
              "      <td>no<\/td>\n",
              "      <td>blue-collar<\/td>\n",
              "      <td>secondary<\/td>\n",
              "    <\/tr>\n",
              "    <tr>\n",
              "      <th>45210<\/th>\n",
              "      <td>37.0<\/td>\n",
              "      <td>120000<\/td>\n",
              "      <td>2971<\/td>\n",
              "      <td>married<\/td>\n",
              "      <td>entrepreneur,secondary<\/td>\n",
              "      <td>yes<\/td>\n",
              "      <td>no<\/td>\n",
              "      <td>no<\/td>\n",
              "      <td>no<\/td>\n",
              "      <td>cellular<\/td>\n",
              "      <td>17<\/td>\n",
              "      <td>nov, 2017<\/td>\n",
              "      <td>6.01666666666667 min<\/td>\n",
              "      <td>2<\/td>\n",
              "      <td>188<\/td>\n",
              "      <td>11<\/td>\n",
              "      <td>other<\/td>\n",
              "      <td>no<\/td>\n",
              "      <td>entrepreneur<\/td>\n",
              "      <td>secondary<\/td>\n",
              "    <\/tr>\n",
              "  <\/tbody>\n",
              "<\/table>\n",
              "<p>45211 rows × 20 columns<\/p>\n",
              "<\/div>"
            ]
          },
          "metadata":{
            
          },
          "output_type":"display_data"
        }
      ],
      "metadata":{
        
      }
    },
    {
      "cell_type":"markdown",
      "source":[
        "#### Drop jobedu column"
      ],
      "attachments":{
        
      },
      "metadata":{
        
      }
    },
    {
      "cell_type":"code",
      "source":[
        "market_data.drop('jobedu', axis=1, inplace=True)\n",
        "market_data"
      ],
      "execution_count":7,
      "outputs":[
        {
          "data":{
            "text\/html":[
              "<div>\n",
              "<style scoped>\n",
              "    .dataframe tbody tr th:only-of-type {\n",
              "        vertical-align: middle;\n",
              "    }\n",
              "\n",
              "    .dataframe tbody tr th {\n",
              "        vertical-align: top;\n",
              "    }\n",
              "\n",
              "    .dataframe thead th {\n",
              "        text-align: right;\n",
              "    }\n",
              "<\/style>\n",
              "<table border=\"1\" class=\"dataframe\">\n",
              "  <thead>\n",
              "    <tr style=\"text-align: right;\">\n",
              "      <th><\/th>\n",
              "      <th>age<\/th>\n",
              "      <th>salary<\/th>\n",
              "      <th>balance<\/th>\n",
              "      <th>marital<\/th>\n",
              "      <th>targeted<\/th>\n",
              "      <th>default<\/th>\n",
              "      <th>housing<\/th>\n",
              "      <th>loan<\/th>\n",
              "      <th>contact<\/th>\n",
              "      <th>day<\/th>\n",
              "      <th>month<\/th>\n",
              "      <th>duration<\/th>\n",
              "      <th>campaign<\/th>\n",
              "      <th>pdays<\/th>\n",
              "      <th>previous<\/th>\n",
              "      <th>poutcome<\/th>\n",
              "      <th>response<\/th>\n",
              "      <th>Job<\/th>\n",
              "      <th>Education<\/th>\n",
              "    <\/tr>\n",
              "  <\/thead>\n",
              "  <tbody>\n",
              "    <tr>\n",
              "      <th>0<\/th>\n",
              "      <td>58.0<\/td>\n",
              "      <td>100000<\/td>\n",
              "      <td>2143<\/td>\n",
              "      <td>married<\/td>\n",
              "      <td>yes<\/td>\n",
              "      <td>no<\/td>\n",
              "      <td>yes<\/td>\n",
              "      <td>no<\/td>\n",
              "      <td>unknown<\/td>\n",
              "      <td>5<\/td>\n",
              "      <td>may, 2017<\/td>\n",
              "      <td>261 sec<\/td>\n",
              "      <td>1<\/td>\n",
              "      <td>-1<\/td>\n",
              "      <td>0<\/td>\n",
              "      <td>unknown<\/td>\n",
              "      <td>no<\/td>\n",
              "      <td>management<\/td>\n",
              "      <td>tertiary<\/td>\n",
              "    <\/tr>\n",
              "    <tr>\n",
              "      <th>1<\/th>\n",
              "      <td>44.0<\/td>\n",
              "      <td>60000<\/td>\n",
              "      <td>29<\/td>\n",
              "      <td>single<\/td>\n",
              "      <td>yes<\/td>\n",
              "      <td>no<\/td>\n",
              "      <td>yes<\/td>\n",
              "      <td>no<\/td>\n",
              "      <td>unknown<\/td>\n",
              "      <td>5<\/td>\n",
              "      <td>may, 2017<\/td>\n",
              "      <td>151 sec<\/td>\n",
              "      <td>1<\/td>\n",
              "      <td>-1<\/td>\n",
              "      <td>0<\/td>\n",
              "      <td>unknown<\/td>\n",
              "      <td>no<\/td>\n",
              "      <td>technician<\/td>\n",
              "      <td>secondary<\/td>\n",
              "    <\/tr>\n",
              "    <tr>\n",
              "      <th>2<\/th>\n",
              "      <td>33.0<\/td>\n",
              "      <td>120000<\/td>\n",
              "      <td>2<\/td>\n",
              "      <td>married<\/td>\n",
              "      <td>yes<\/td>\n",
              "      <td>no<\/td>\n",
              "      <td>yes<\/td>\n",
              "      <td>yes<\/td>\n",
              "      <td>unknown<\/td>\n",
              "      <td>5<\/td>\n",
              "      <td>may, 2017<\/td>\n",
              "      <td>76 sec<\/td>\n",
              "      <td>1<\/td>\n",
              "      <td>-1<\/td>\n",
              "      <td>0<\/td>\n",
              "      <td>unknown<\/td>\n",
              "      <td>no<\/td>\n",
              "      <td>entrepreneur<\/td>\n",
              "      <td>secondary<\/td>\n",
              "    <\/tr>\n",
              "    <tr>\n",
              "      <th>3<\/th>\n",
              "      <td>47.0<\/td>\n",
              "      <td>20000<\/td>\n",
              "      <td>1506<\/td>\n",
              "      <td>married<\/td>\n",
              "      <td>no<\/td>\n",
              "      <td>no<\/td>\n",
              "      <td>yes<\/td>\n",
              "      <td>no<\/td>\n",
              "      <td>unknown<\/td>\n",
              "      <td>5<\/td>\n",
              "      <td>may, 2017<\/td>\n",
              "      <td>92 sec<\/td>\n",
              "      <td>1<\/td>\n",
              "      <td>-1<\/td>\n",
              "      <td>0<\/td>\n",
              "      <td>unknown<\/td>\n",
              "      <td>no<\/td>\n",
              "      <td>blue-collar<\/td>\n",
              "      <td>unknown<\/td>\n",
              "    <\/tr>\n",
              "    <tr>\n",
              "      <th>4<\/th>\n",
              "      <td>33.0<\/td>\n",
              "      <td>0<\/td>\n",
              "      <td>1<\/td>\n",
              "      <td>single<\/td>\n",
              "      <td>no<\/td>\n",
              "      <td>no<\/td>\n",
              "      <td>no<\/td>\n",
              "      <td>no<\/td>\n",
              "      <td>unknown<\/td>\n",
              "      <td>5<\/td>\n",
              "      <td>may, 2017<\/td>\n",
              "      <td>198 sec<\/td>\n",
              "      <td>1<\/td>\n",
              "      <td>-1<\/td>\n",
              "      <td>0<\/td>\n",
              "      <td>unknown<\/td>\n",
              "      <td>no<\/td>\n",
              "      <td>unknown<\/td>\n",
              "      <td>unknown<\/td>\n",
              "    <\/tr>\n",
              "    <tr>\n",
              "      <th>...<\/th>\n",
              "      <td>...<\/td>\n",
              "      <td>...<\/td>\n",
              "      <td>...<\/td>\n",
              "      <td>...<\/td>\n",
              "      <td>...<\/td>\n",
              "      <td>...<\/td>\n",
              "      <td>...<\/td>\n",
              "      <td>...<\/td>\n",
              "      <td>...<\/td>\n",
              "      <td>...<\/td>\n",
              "      <td>...<\/td>\n",
              "      <td>...<\/td>\n",
              "      <td>...<\/td>\n",
              "      <td>...<\/td>\n",
              "      <td>...<\/td>\n",
              "      <td>...<\/td>\n",
              "      <td>...<\/td>\n",
              "      <td>...<\/td>\n",
              "      <td>...<\/td>\n",
              "    <\/tr>\n",
              "    <tr>\n",
              "      <th>45206<\/th>\n",
              "      <td>51.0<\/td>\n",
              "      <td>60000<\/td>\n",
              "      <td>825<\/td>\n",
              "      <td>married<\/td>\n",
              "      <td>yes<\/td>\n",
              "      <td>no<\/td>\n",
              "      <td>no<\/td>\n",
              "      <td>no<\/td>\n",
              "      <td>cellular<\/td>\n",
              "      <td>17<\/td>\n",
              "      <td>nov, 2017<\/td>\n",
              "      <td>16.2833333333333 min<\/td>\n",
              "      <td>3<\/td>\n",
              "      <td>-1<\/td>\n",
              "      <td>0<\/td>\n",
              "      <td>unknown<\/td>\n",
              "      <td>yes<\/td>\n",
              "      <td>technician<\/td>\n",
              "      <td>tertiary<\/td>\n",
              "    <\/tr>\n",
              "    <tr>\n",
              "      <th>45207<\/th>\n",
              "      <td>71.0<\/td>\n",
              "      <td>55000<\/td>\n",
              "      <td>1729<\/td>\n",
              "      <td>divorced<\/td>\n",
              "      <td>yes<\/td>\n",
              "      <td>no<\/td>\n",
              "      <td>no<\/td>\n",
              "      <td>no<\/td>\n",
              "      <td>cellular<\/td>\n",
              "      <td>17<\/td>\n",
              "      <td>nov, 2017<\/td>\n",
              "      <td>7.6 min<\/td>\n",
              "      <td>2<\/td>\n",
              "      <td>-1<\/td>\n",
              "      <td>0<\/td>\n",
              "      <td>unknown<\/td>\n",
              "      <td>yes<\/td>\n",
              "      <td>retired<\/td>\n",
              "      <td>primary<\/td>\n",
              "    <\/tr>\n",
              "    <tr>\n",
              "      <th>45208<\/th>\n",
              "      <td>72.0<\/td>\n",
              "      <td>55000<\/td>\n",
              "      <td>5715<\/td>\n",
              "      <td>married<\/td>\n",
              "      <td>yes<\/td>\n",
              "      <td>no<\/td>\n",
              "      <td>no<\/td>\n",
              "      <td>no<\/td>\n",
              "      <td>cellular<\/td>\n",
              "      <td>17<\/td>\n",
              "      <td>nov, 2017<\/td>\n",
              "      <td>18.7833333333333 min<\/td>\n",
              "      <td>5<\/td>\n",
              "      <td>184<\/td>\n",
              "      <td>3<\/td>\n",
              "      <td>success<\/td>\n",
              "      <td>yes<\/td>\n",
              "      <td>retired<\/td>\n",
              "      <td>secondary<\/td>\n",
              "    <\/tr>\n",
              "    <tr>\n",
              "      <th>45209<\/th>\n",
              "      <td>57.0<\/td>\n",
              "      <td>20000<\/td>\n",
              "      <td>668<\/td>\n",
              "      <td>married<\/td>\n",
              "      <td>yes<\/td>\n",
              "      <td>no<\/td>\n",
              "      <td>no<\/td>\n",
              "      <td>no<\/td>\n",
              "      <td>telephone<\/td>\n",
              "      <td>17<\/td>\n",
              "      <td>nov, 2017<\/td>\n",
              "      <td>8.46666666666667 min<\/td>\n",
              "      <td>4<\/td>\n",
              "      <td>-1<\/td>\n",
              "      <td>0<\/td>\n",
              "      <td>unknown<\/td>\n",
              "      <td>no<\/td>\n",
              "      <td>blue-collar<\/td>\n",
              "      <td>secondary<\/td>\n",
              "    <\/tr>\n",
              "    <tr>\n",
              "      <th>45210<\/th>\n",
              "      <td>37.0<\/td>\n",
              "      <td>120000<\/td>\n",
              "      <td>2971<\/td>\n",
              "      <td>married<\/td>\n",
              "      <td>yes<\/td>\n",
              "      <td>no<\/td>\n",
              "      <td>no<\/td>\n",
              "      <td>no<\/td>\n",
              "      <td>cellular<\/td>\n",
              "      <td>17<\/td>\n",
              "      <td>nov, 2017<\/td>\n",
              "      <td>6.01666666666667 min<\/td>\n",
              "      <td>2<\/td>\n",
              "      <td>188<\/td>\n",
              "      <td>11<\/td>\n",
              "      <td>other<\/td>\n",
              "      <td>no<\/td>\n",
              "      <td>entrepreneur<\/td>\n",
              "      <td>secondary<\/td>\n",
              "    <\/tr>\n",
              "  <\/tbody>\n",
              "<\/table>\n",
              "<p>45211 rows × 19 columns<\/p>\n",
              "<\/div>"
            ]
          },
          "metadata":{
            
          },
          "output_type":"display_data"
        }
      ],
      "metadata":{
        
      }
    },
    {
      "cell_type":"markdown",
      "source":[
        "### Missing Values\n",
        "If there are missing values in the Dataset before doing any statistical analysis, we need to handle those missing values.\n",
        "\n",
        "There are mainly three types of missing values.\n",
        "1. MCAR(Missing completely at random): These values do not depend on any other features.\n",
        "   \n",
        "2. MAR(Missing at random): These values may be dependent on some other features.\n",
        "   \n",
        "3. MNAR(Missing not at random): These missing values have some reason for why they are missing."
      ],
      "attachments":{
        
      },
      "metadata":{
        
      }
    },
    {
      "cell_type":"code",
      "source":[
        "# checking count of missing values in columns\n",
        "market_data.isnull().sum()"
      ],
      "execution_count":8,
      "outputs":[
        {
          "data":{
            "text\/html":[
              
            ]
          },
          "metadata":{
            
          },
          "output_type":"display_data"
        }
      ],
      "metadata":{
        
      }
    },
    {
      "cell_type":"markdown",
      "source":[
        "### Remove rows from dataframe where column age is null"
      ],
      "attachments":{
        
      },
      "metadata":{
        
      }
    },
    {
      "cell_type":"code",
      "source":[
        "# First we will deal with missing values of age columns. \n",
        "# Drop rows with age having null.\n",
        "market_data = market_data[~market_data['age'].isnull()].copy()\n",
        "market_data"
      ],
      "execution_count":9,
      "outputs":[
        {
          "data":{
            "text\/html":[
              "<div>\n",
              "<style scoped>\n",
              "    .dataframe tbody tr th:only-of-type {\n",
              "        vertical-align: middle;\n",
              "    }\n",
              "\n",
              "    .dataframe tbody tr th {\n",
              "        vertical-align: top;\n",
              "    }\n",
              "\n",
              "    .dataframe thead th {\n",
              "        text-align: right;\n",
              "    }\n",
              "<\/style>\n",
              "<table border=\"1\" class=\"dataframe\">\n",
              "  <thead>\n",
              "    <tr style=\"text-align: right;\">\n",
              "      <th><\/th>\n",
              "      <th>age<\/th>\n",
              "      <th>salary<\/th>\n",
              "      <th>balance<\/th>\n",
              "      <th>marital<\/th>\n",
              "      <th>targeted<\/th>\n",
              "      <th>default<\/th>\n",
              "      <th>housing<\/th>\n",
              "      <th>loan<\/th>\n",
              "      <th>contact<\/th>\n",
              "      <th>day<\/th>\n",
              "      <th>month<\/th>\n",
              "      <th>duration<\/th>\n",
              "      <th>campaign<\/th>\n",
              "      <th>pdays<\/th>\n",
              "      <th>previous<\/th>\n",
              "      <th>poutcome<\/th>\n",
              "      <th>response<\/th>\n",
              "      <th>Job<\/th>\n",
              "      <th>Education<\/th>\n",
              "    <\/tr>\n",
              "  <\/thead>\n",
              "  <tbody>\n",
              "    <tr>\n",
              "      <th>0<\/th>\n",
              "      <td>58.0<\/td>\n",
              "      <td>100000<\/td>\n",
              "      <td>2143<\/td>\n",
              "      <td>married<\/td>\n",
              "      <td>yes<\/td>\n",
              "      <td>no<\/td>\n",
              "      <td>yes<\/td>\n",
              "      <td>no<\/td>\n",
              "      <td>unknown<\/td>\n",
              "      <td>5<\/td>\n",
              "      <td>may, 2017<\/td>\n",
              "      <td>261 sec<\/td>\n",
              "      <td>1<\/td>\n",
              "      <td>-1<\/td>\n",
              "      <td>0<\/td>\n",
              "      <td>unknown<\/td>\n",
              "      <td>no<\/td>\n",
              "      <td>management<\/td>\n",
              "      <td>tertiary<\/td>\n",
              "    <\/tr>\n",
              "    <tr>\n",
              "      <th>1<\/th>\n",
              "      <td>44.0<\/td>\n",
              "      <td>60000<\/td>\n",
              "      <td>29<\/td>\n",
              "      <td>single<\/td>\n",
              "      <td>yes<\/td>\n",
              "      <td>no<\/td>\n",
              "      <td>yes<\/td>\n",
              "      <td>no<\/td>\n",
              "      <td>unknown<\/td>\n",
              "      <td>5<\/td>\n",
              "      <td>may, 2017<\/td>\n",
              "      <td>151 sec<\/td>\n",
              "      <td>1<\/td>\n",
              "      <td>-1<\/td>\n",
              "      <td>0<\/td>\n",
              "      <td>unknown<\/td>\n",
              "      <td>no<\/td>\n",
              "      <td>technician<\/td>\n",
              "      <td>secondary<\/td>\n",
              "    <\/tr>\n",
              "    <tr>\n",
              "      <th>2<\/th>\n",
              "      <td>33.0<\/td>\n",
              "      <td>120000<\/td>\n",
              "      <td>2<\/td>\n",
              "      <td>married<\/td>\n",
              "      <td>yes<\/td>\n",
              "      <td>no<\/td>\n",
              "      <td>yes<\/td>\n",
              "      <td>yes<\/td>\n",
              "      <td>unknown<\/td>\n",
              "      <td>5<\/td>\n",
              "      <td>may, 2017<\/td>\n",
              "      <td>76 sec<\/td>\n",
              "      <td>1<\/td>\n",
              "      <td>-1<\/td>\n",
              "      <td>0<\/td>\n",
              "      <td>unknown<\/td>\n",
              "      <td>no<\/td>\n",
              "      <td>entrepreneur<\/td>\n",
              "      <td>secondary<\/td>\n",
              "    <\/tr>\n",
              "    <tr>\n",
              "      <th>3<\/th>\n",
              "      <td>47.0<\/td>\n",
              "      <td>20000<\/td>\n",
              "      <td>1506<\/td>\n",
              "      <td>married<\/td>\n",
              "      <td>no<\/td>\n",
              "      <td>no<\/td>\n",
              "      <td>yes<\/td>\n",
              "      <td>no<\/td>\n",
              "      <td>unknown<\/td>\n",
              "      <td>5<\/td>\n",
              "      <td>may, 2017<\/td>\n",
              "      <td>92 sec<\/td>\n",
              "      <td>1<\/td>\n",
              "      <td>-1<\/td>\n",
              "      <td>0<\/td>\n",
              "      <td>unknown<\/td>\n",
              "      <td>no<\/td>\n",
              "      <td>blue-collar<\/td>\n",
              "      <td>unknown<\/td>\n",
              "    <\/tr>\n",
              "    <tr>\n",
              "      <th>4<\/th>\n",
              "      <td>33.0<\/td>\n",
              "      <td>0<\/td>\n",
              "      <td>1<\/td>\n",
              "      <td>single<\/td>\n",
              "      <td>no<\/td>\n",
              "      <td>no<\/td>\n",
              "      <td>no<\/td>\n",
              "      <td>no<\/td>\n",
              "      <td>unknown<\/td>\n",
              "      <td>5<\/td>\n",
              "      <td>may, 2017<\/td>\n",
              "      <td>198 sec<\/td>\n",
              "      <td>1<\/td>\n",
              "      <td>-1<\/td>\n",
              "      <td>0<\/td>\n",
              "      <td>unknown<\/td>\n",
              "      <td>no<\/td>\n",
              "      <td>unknown<\/td>\n",
              "      <td>unknown<\/td>\n",
              "    <\/tr>\n",
              "    <tr>\n",
              "      <th>...<\/th>\n",
              "      <td>...<\/td>\n",
              "      <td>...<\/td>\n",
              "      <td>...<\/td>\n",
              "      <td>...<\/td>\n",
              "      <td>...<\/td>\n",
              "      <td>...<\/td>\n",
              "      <td>...<\/td>\n",
              "      <td>...<\/td>\n",
              "      <td>...<\/td>\n",
              "      <td>...<\/td>\n",
              "      <td>...<\/td>\n",
              "      <td>...<\/td>\n",
              "      <td>...<\/td>\n",
              "      <td>...<\/td>\n",
              "      <td>...<\/td>\n",
              "      <td>...<\/td>\n",
              "      <td>...<\/td>\n",
              "      <td>...<\/td>\n",
              "      <td>...<\/td>\n",
              "    <\/tr>\n",
              "    <tr>\n",
              "      <th>45206<\/th>\n",
              "      <td>51.0<\/td>\n",
              "      <td>60000<\/td>\n",
              "      <td>825<\/td>\n",
              "      <td>married<\/td>\n",
              "      <td>yes<\/td>\n",
              "      <td>no<\/td>\n",
              "      <td>no<\/td>\n",
              "      <td>no<\/td>\n",
              "      <td>cellular<\/td>\n",
              "      <td>17<\/td>\n",
              "      <td>nov, 2017<\/td>\n",
              "      <td>16.2833333333333 min<\/td>\n",
              "      <td>3<\/td>\n",
              "      <td>-1<\/td>\n",
              "      <td>0<\/td>\n",
              "      <td>unknown<\/td>\n",
              "      <td>yes<\/td>\n",
              "      <td>technician<\/td>\n",
              "      <td>tertiary<\/td>\n",
              "    <\/tr>\n",
              "    <tr>\n",
              "      <th>45207<\/th>\n",
              "      <td>71.0<\/td>\n",
              "      <td>55000<\/td>\n",
              "      <td>1729<\/td>\n",
              "      <td>divorced<\/td>\n",
              "      <td>yes<\/td>\n",
              "      <td>no<\/td>\n",
              "      <td>no<\/td>\n",
              "      <td>no<\/td>\n",
              "      <td>cellular<\/td>\n",
              "      <td>17<\/td>\n",
              "      <td>nov, 2017<\/td>\n",
              "      <td>7.6 min<\/td>\n",
              "      <td>2<\/td>\n",
              "      <td>-1<\/td>\n",
              "      <td>0<\/td>\n",
              "      <td>unknown<\/td>\n",
              "      <td>yes<\/td>\n",
              "      <td>retired<\/td>\n",
              "      <td>primary<\/td>\n",
              "    <\/tr>\n",
              "    <tr>\n",
              "      <th>45208<\/th>\n",
              "      <td>72.0<\/td>\n",
              "      <td>55000<\/td>\n",
              "      <td>5715<\/td>\n",
              "      <td>married<\/td>\n",
              "      <td>yes<\/td>\n",
              "      <td>no<\/td>\n",
              "      <td>no<\/td>\n",
              "      <td>no<\/td>\n",
              "      <td>cellular<\/td>\n",
              "      <td>17<\/td>\n",
              "      <td>nov, 2017<\/td>\n",
              "      <td>18.7833333333333 min<\/td>\n",
              "      <td>5<\/td>\n",
              "      <td>184<\/td>\n",
              "      <td>3<\/td>\n",
              "      <td>success<\/td>\n",
              "      <td>yes<\/td>\n",
              "      <td>retired<\/td>\n",
              "      <td>secondary<\/td>\n",
              "    <\/tr>\n",
              "    <tr>\n",
              "      <th>45209<\/th>\n",
              "      <td>57.0<\/td>\n",
              "      <td>20000<\/td>\n",
              "      <td>668<\/td>\n",
              "      <td>married<\/td>\n",
              "      <td>yes<\/td>\n",
              "      <td>no<\/td>\n",
              "      <td>no<\/td>\n",
              "      <td>no<\/td>\n",
              "      <td>telephone<\/td>\n",
              "      <td>17<\/td>\n",
              "      <td>nov, 2017<\/td>\n",
              "      <td>8.46666666666667 min<\/td>\n",
              "      <td>4<\/td>\n",
              "      <td>-1<\/td>\n",
              "      <td>0<\/td>\n",
              "      <td>unknown<\/td>\n",
              "      <td>no<\/td>\n",
              "      <td>blue-collar<\/td>\n",
              "      <td>secondary<\/td>\n",
              "    <\/tr>\n",
              "    <tr>\n",
              "      <th>45210<\/th>\n",
              "      <td>37.0<\/td>\n",
              "      <td>120000<\/td>\n",
              "      <td>2971<\/td>\n",
              "      <td>married<\/td>\n",
              "      <td>yes<\/td>\n",
              "      <td>no<\/td>\n",
              "      <td>no<\/td>\n",
              "      <td>no<\/td>\n",
              "      <td>cellular<\/td>\n",
              "      <td>17<\/td>\n",
              "      <td>nov, 2017<\/td>\n",
              "      <td>6.01666666666667 min<\/td>\n",
              "      <td>2<\/td>\n",
              "      <td>188<\/td>\n",
              "      <td>11<\/td>\n",
              "      <td>other<\/td>\n",
              "      <td>no<\/td>\n",
              "      <td>entrepreneur<\/td>\n",
              "      <td>secondary<\/td>\n",
              "    <\/tr>\n",
              "  <\/tbody>\n",
              "<\/table>\n",
              "<p>45191 rows × 19 columns<\/p>\n",
              "<\/div>"
            ]
          },
          "metadata":{
            
          },
          "output_type":"display_data"
        }
      ],
      "metadata":{
        
      }
    },
    {
      "cell_type":"code",
      "source":[
        "# check missing value in df\n",
        "market_data.isnull().sum()"
      ],
      "execution_count":10,
      "outputs":[
        {
          "data":{
            "text\/html":[
              
            ]
          },
          "metadata":{
            
          },
          "output_type":"display_data"
        }
      ],
      "metadata":{
        
      }
    },
    {
      "cell_type":"markdown",
      "source":[
        "#### Impute missing values of a column with it's mode\n",
        "\n",
        "- Let’s impute values to the missing values for the month column.\n",
        "\n",
        "- Since the month column is of an object type, let’s calculate the mode of that column and impute those values to the missing values."
      ],
      "attachments":{
        
      },
      "metadata":{
        
      }
    },
    {
      "cell_type":"code",
      "source":[
        "market_data['month'].fillna(market_data['month'].mode()[0], inplace=True)\n",
        "market_data"
      ],
      "execution_count":11,
      "outputs":[
        {
          "data":{
            "text\/html":[
              "<div>\n",
              "<style scoped>\n",
              "    .dataframe tbody tr th:only-of-type {\n",
              "        vertical-align: middle;\n",
              "    }\n",
              "\n",
              "    .dataframe tbody tr th {\n",
              "        vertical-align: top;\n",
              "    }\n",
              "\n",
              "    .dataframe thead th {\n",
              "        text-align: right;\n",
              "    }\n",
              "<\/style>\n",
              "<table border=\"1\" class=\"dataframe\">\n",
              "  <thead>\n",
              "    <tr style=\"text-align: right;\">\n",
              "      <th><\/th>\n",
              "      <th>age<\/th>\n",
              "      <th>salary<\/th>\n",
              "      <th>balance<\/th>\n",
              "      <th>marital<\/th>\n",
              "      <th>targeted<\/th>\n",
              "      <th>default<\/th>\n",
              "      <th>housing<\/th>\n",
              "      <th>loan<\/th>\n",
              "      <th>contact<\/th>\n",
              "      <th>day<\/th>\n",
              "      <th>month<\/th>\n",
              "      <th>duration<\/th>\n",
              "      <th>campaign<\/th>\n",
              "      <th>pdays<\/th>\n",
              "      <th>previous<\/th>\n",
              "      <th>poutcome<\/th>\n",
              "      <th>response<\/th>\n",
              "      <th>Job<\/th>\n",
              "      <th>Education<\/th>\n",
              "    <\/tr>\n",
              "  <\/thead>\n",
              "  <tbody>\n",
              "    <tr>\n",
              "      <th>0<\/th>\n",
              "      <td>58.0<\/td>\n",
              "      <td>100000<\/td>\n",
              "      <td>2143<\/td>\n",
              "      <td>married<\/td>\n",
              "      <td>yes<\/td>\n",
              "      <td>no<\/td>\n",
              "      <td>yes<\/td>\n",
              "      <td>no<\/td>\n",
              "      <td>unknown<\/td>\n",
              "      <td>5<\/td>\n",
              "      <td>may, 2017<\/td>\n",
              "      <td>261 sec<\/td>\n",
              "      <td>1<\/td>\n",
              "      <td>-1<\/td>\n",
              "      <td>0<\/td>\n",
              "      <td>unknown<\/td>\n",
              "      <td>no<\/td>\n",
              "      <td>management<\/td>\n",
              "      <td>tertiary<\/td>\n",
              "    <\/tr>\n",
              "    <tr>\n",
              "      <th>1<\/th>\n",
              "      <td>44.0<\/td>\n",
              "      <td>60000<\/td>\n",
              "      <td>29<\/td>\n",
              "      <td>single<\/td>\n",
              "      <td>yes<\/td>\n",
              "      <td>no<\/td>\n",
              "      <td>yes<\/td>\n",
              "      <td>no<\/td>\n",
              "      <td>unknown<\/td>\n",
              "      <td>5<\/td>\n",
              "      <td>may, 2017<\/td>\n",
              "      <td>151 sec<\/td>\n",
              "      <td>1<\/td>\n",
              "      <td>-1<\/td>\n",
              "      <td>0<\/td>\n",
              "      <td>unknown<\/td>\n",
              "      <td>no<\/td>\n",
              "      <td>technician<\/td>\n",
              "      <td>secondary<\/td>\n",
              "    <\/tr>\n",
              "    <tr>\n",
              "      <th>2<\/th>\n",
              "      <td>33.0<\/td>\n",
              "      <td>120000<\/td>\n",
              "      <td>2<\/td>\n",
              "      <td>married<\/td>\n",
              "      <td>yes<\/td>\n",
              "      <td>no<\/td>\n",
              "      <td>yes<\/td>\n",
              "      <td>yes<\/td>\n",
              "      <td>unknown<\/td>\n",
              "      <td>5<\/td>\n",
              "      <td>may, 2017<\/td>\n",
              "      <td>76 sec<\/td>\n",
              "      <td>1<\/td>\n",
              "      <td>-1<\/td>\n",
              "      <td>0<\/td>\n",
              "      <td>unknown<\/td>\n",
              "      <td>no<\/td>\n",
              "      <td>entrepreneur<\/td>\n",
              "      <td>secondary<\/td>\n",
              "    <\/tr>\n",
              "    <tr>\n",
              "      <th>3<\/th>\n",
              "      <td>47.0<\/td>\n",
              "      <td>20000<\/td>\n",
              "      <td>1506<\/td>\n",
              "      <td>married<\/td>\n",
              "      <td>no<\/td>\n",
              "      <td>no<\/td>\n",
              "      <td>yes<\/td>\n",
              "      <td>no<\/td>\n",
              "      <td>unknown<\/td>\n",
              "      <td>5<\/td>\n",
              "      <td>may, 2017<\/td>\n",
              "      <td>92 sec<\/td>\n",
              "      <td>1<\/td>\n",
              "      <td>-1<\/td>\n",
              "      <td>0<\/td>\n",
              "      <td>unknown<\/td>\n",
              "      <td>no<\/td>\n",
              "      <td>blue-collar<\/td>\n",
              "      <td>unknown<\/td>\n",
              "    <\/tr>\n",
              "    <tr>\n",
              "      <th>4<\/th>\n",
              "      <td>33.0<\/td>\n",
              "      <td>0<\/td>\n",
              "      <td>1<\/td>\n",
              "      <td>single<\/td>\n",
              "      <td>no<\/td>\n",
              "      <td>no<\/td>\n",
              "      <td>no<\/td>\n",
              "      <td>no<\/td>\n",
              "      <td>unknown<\/td>\n",
              "      <td>5<\/td>\n",
              "      <td>may, 2017<\/td>\n",
              "      <td>198 sec<\/td>\n",
              "      <td>1<\/td>\n",
              "      <td>-1<\/td>\n",
              "      <td>0<\/td>\n",
              "      <td>unknown<\/td>\n",
              "      <td>no<\/td>\n",
              "      <td>unknown<\/td>\n",
              "      <td>unknown<\/td>\n",
              "    <\/tr>\n",
              "    <tr>\n",
              "      <th>...<\/th>\n",
              "      <td>...<\/td>\n",
              "      <td>...<\/td>\n",
              "      <td>...<\/td>\n",
              "      <td>...<\/td>\n",
              "      <td>...<\/td>\n",
              "      <td>...<\/td>\n",
              "      <td>...<\/td>\n",
              "      <td>...<\/td>\n",
              "      <td>...<\/td>\n",
              "      <td>...<\/td>\n",
              "      <td>...<\/td>\n",
              "      <td>...<\/td>\n",
              "      <td>...<\/td>\n",
              "      <td>...<\/td>\n",
              "      <td>...<\/td>\n",
              "      <td>...<\/td>\n",
              "      <td>...<\/td>\n",
              "      <td>...<\/td>\n",
              "      <td>...<\/td>\n",
              "    <\/tr>\n",
              "    <tr>\n",
              "      <th>45206<\/th>\n",
              "      <td>51.0<\/td>\n",
              "      <td>60000<\/td>\n",
              "      <td>825<\/td>\n",
              "      <td>married<\/td>\n",
              "      <td>yes<\/td>\n",
              "      <td>no<\/td>\n",
              "      <td>no<\/td>\n",
              "      <td>no<\/td>\n",
              "      <td>cellular<\/td>\n",
              "      <td>17<\/td>\n",
              "      <td>nov, 2017<\/td>\n",
              "      <td>16.2833333333333 min<\/td>\n",
              "      <td>3<\/td>\n",
              "      <td>-1<\/td>\n",
              "      <td>0<\/td>\n",
              "      <td>unknown<\/td>\n",
              "      <td>yes<\/td>\n",
              "      <td>technician<\/td>\n",
              "      <td>tertiary<\/td>\n",
              "    <\/tr>\n",
              "    <tr>\n",
              "      <th>45207<\/th>\n",
              "      <td>71.0<\/td>\n",
              "      <td>55000<\/td>\n",
              "      <td>1729<\/td>\n",
              "      <td>divorced<\/td>\n",
              "      <td>yes<\/td>\n",
              "      <td>no<\/td>\n",
              "      <td>no<\/td>\n",
              "      <td>no<\/td>\n",
              "      <td>cellular<\/td>\n",
              "      <td>17<\/td>\n",
              "      <td>nov, 2017<\/td>\n",
              "      <td>7.6 min<\/td>\n",
              "      <td>2<\/td>\n",
              "      <td>-1<\/td>\n",
              "      <td>0<\/td>\n",
              "      <td>unknown<\/td>\n",
              "      <td>yes<\/td>\n",
              "      <td>retired<\/td>\n",
              "      <td>primary<\/td>\n",
              "    <\/tr>\n",
              "    <tr>\n",
              "      <th>45208<\/th>\n",
              "      <td>72.0<\/td>\n",
              "      <td>55000<\/td>\n",
              "      <td>5715<\/td>\n",
              "      <td>married<\/td>\n",
              "      <td>yes<\/td>\n",
              "      <td>no<\/td>\n",
              "      <td>no<\/td>\n",
              "      <td>no<\/td>\n",
              "      <td>cellular<\/td>\n",
              "      <td>17<\/td>\n",
              "      <td>nov, 2017<\/td>\n",
              "      <td>18.7833333333333 min<\/td>\n",
              "      <td>5<\/td>\n",
              "      <td>184<\/td>\n",
              "      <td>3<\/td>\n",
              "      <td>success<\/td>\n",
              "      <td>yes<\/td>\n",
              "      <td>retired<\/td>\n",
              "      <td>secondary<\/td>\n",
              "    <\/tr>\n",
              "    <tr>\n",
              "      <th>45209<\/th>\n",
              "      <td>57.0<\/td>\n",
              "      <td>20000<\/td>\n",
              "      <td>668<\/td>\n",
              "      <td>married<\/td>\n",
              "      <td>yes<\/td>\n",
              "      <td>no<\/td>\n",
              "      <td>no<\/td>\n",
              "      <td>no<\/td>\n",
              "      <td>telephone<\/td>\n",
              "      <td>17<\/td>\n",
              "      <td>nov, 2017<\/td>\n",
              "      <td>8.46666666666667 min<\/td>\n",
              "      <td>4<\/td>\n",
              "      <td>-1<\/td>\n",
              "      <td>0<\/td>\n",
              "      <td>unknown<\/td>\n",
              "      <td>no<\/td>\n",
              "      <td>blue-collar<\/td>\n",
              "      <td>secondary<\/td>\n",
              "    <\/tr>\n",
              "    <tr>\n",
              "      <th>45210<\/th>\n",
              "      <td>37.0<\/td>\n",
              "      <td>120000<\/td>\n",
              "      <td>2971<\/td>\n",
              "      <td>married<\/td>\n",
              "      <td>yes<\/td>\n",
              "      <td>no<\/td>\n",
              "      <td>no<\/td>\n",
              "      <td>no<\/td>\n",
              "      <td>cellular<\/td>\n",
              "      <td>17<\/td>\n",
              "      <td>nov, 2017<\/td>\n",
              "      <td>6.01666666666667 min<\/td>\n",
              "      <td>2<\/td>\n",
              "      <td>188<\/td>\n",
              "      <td>11<\/td>\n",
              "      <td>other<\/td>\n",
              "      <td>no<\/td>\n",
              "      <td>entrepreneur<\/td>\n",
              "      <td>secondary<\/td>\n",
              "    <\/tr>\n",
              "  <\/tbody>\n",
              "<\/table>\n",
              "<p>45191 rows × 19 columns<\/p>\n",
              "<\/div>"
            ]
          },
          "metadata":{
            
          },
          "output_type":"display_data"
        }
      ],
      "metadata":{
        
      }
    },
    {
      "cell_type":"code",
      "source":[
        "# check for missing values\n",
        "market_data.isna().sum()"
      ],
      "execution_count":12,
      "outputs":[
        {
          "data":{
            "text\/html":[
              
            ]
          },
          "metadata":{
            
          },
          "output_type":"display_data"
        }
      ],
      "metadata":{
        
      }
    },
    {
      "cell_type":"markdown",
      "source":[
        "### missing values are left in response column\n",
        "Handling the missing values in the Response column. Since, our target column is Response Column, if we impute the values to this column it’ll affect our analysis. So, it is better to drop the missing values from Response Column."
      ],
      "attachments":{
        
      },
      "metadata":{
        
      }
    },
    {
      "cell_type":"code",
      "source":[
        "market_data.shape"
      ],
      "execution_count":13,
      "outputs":[
        {
          "data":{
            "text\/plain":[
              "(45191, 19)"
            ]
          },
          "metadata":{
            
          },
          "output_type":"display_data"
        }
      ],
      "metadata":{
        
      }
    },
    {
      "cell_type":"code",
      "source":[
        "market_data.dropna(axis=0, inplace=True)"
      ],
      "execution_count":14,
      "outputs":[
        
      ],
      "metadata":{
        
      }
    },
    {
      "cell_type":"code",
      "source":[
        "market_data.shape"
      ],
      "execution_count":15,
      "outputs":[
        {
          "data":{
            "text\/plain":[
              "(45161, 19)"
            ]
          },
          "metadata":{
            
          },
          "output_type":"display_data"
        }
      ],
      "metadata":{
        
      }
    },
    {
      "cell_type":"code",
      "source":[
        "market_data.isnull().sum()"
      ],
      "execution_count":16,
      "outputs":[
        {
          "data":{
            "text\/html":[
              
            ]
          },
          "metadata":{
            
          },
          "output_type":"display_data"
        }
      ],
      "metadata":{
        
      }
    },
    {
      "cell_type":"markdown",
      "source":[
        "## Handling Outliers\n",
        "\n",
        "We have seen how to fix missing values, now let’s see how to handle outliers in the dataset.\n",
        "Outliers are the values that are far beyond the next nearest data points.\n",
        "\n",
        "1. Univariate outliers: Univariate outliers are the data points whose values lie beyond the range of expected values based on one variable.\n",
        "\n",
        "2. Multivariate outliers: While plotting data, some values of one variable may not lie beyond the expected range, but when you plot the data with some other variable, these values may lie far from the expected value.\n",
        "\n",
        "So, after understanding the causes of these outliers, we can handle them by dropping those records or imputing with the values or leaving them as is, if it makes more sense."
      ],
      "attachments":{
        
      },
      "metadata":{
        
      }
    },
    {
      "cell_type":"markdown",
      "source":[
        "### Standardizing Values\n",
        "- To perform data analysis on a set of values, we have to make sure the values in the same column should be on the same scale. \n",
        "\n",
        "- For example, if the data contains the values of the top speed of different companies’ cars, then the whole column should be either in meters\/sec scale or miles\/sec scale.\n",
        "\n",
        "- Now, that we are clear on how to source and clean the data, let’s see how we can analyze the data."
      ],
      "attachments":{
        
      },
      "metadata":{
        
      }
    },
    {
      "cell_type":"markdown",
      "source":[
        "## 3. Univariate Analysis\n",
        "\n",
        "If we analyze data over a single variable\/column from a dataset, it is known as Univariate Analysis.\n",
        "\n",
        "### Categorical Unordered Univariate Analysis:\n",
        "\n",
        "An unordered variable is a categorical variable that has no defined order. If we take our data as an example, the job column in the dataset is divided into many sub-categories like technician, blue-collar, services, management, etc. There is no weight or measure given to any value in the ‘job’ column.\n",
        "Now, let’s analyze the job category by using plots. Since Job is a category, we will plot the bar plot."
      ],
      "attachments":{
        
      },
      "metadata":{
        
      }
    },
    {
      "cell_type":"code",
      "source":[
        "market_data['Job']"
      ],
      "execution_count":17,
      "outputs":[
        {
          "data":{
            "text\/html":[
              
            ]
          },
          "metadata":{
            
          },
          "output_type":"display_data"
        }
      ],
      "metadata":{
        
      }
    },
    {
      "cell_type":"markdown",
      "source":[
        "#### Create a Bar plot for Job column"
      ],
      "attachments":{
        
      },
      "metadata":{
        
      }
    },
    {
      "cell_type":"code",
      "source":[
        "# get count of value in each category and normalize them.\n",
        "market_data['Job'].value_counts(normalize=True)\n",
        "\n",
        "# plot the normalized value in barplot\n",
        "market_data['Job'].value_counts(normalize=True).plot.barh()\n",
        "plt.title('Bar Plot of Job Column')\n",
        "plt.xlabel('Normalzied Value')\n",
        "plt.ylabel('Job Categories')\n",
        "plt.show()"
      ],
      "execution_count":18,
      "outputs":[
        {
          "data":{
            "image\/png":"[encoded data removed]"
          },
          "metadata":{
            "image\/png":{
              
            }
          },
          "output_type":"display_data"
        }
      ],
      "metadata":{
        
      }
    },
    {
      "cell_type":"markdown",
      "source":[
        "By the above bar plot, we can infer that the data set contains more number of blue-collar workers compared to other categories."
      ],
      "attachments":{
        
      },
      "metadata":{
        
      }
    },
    {
      "cell_type":"markdown",
      "source":[
        "### Categorical Ordered Univariate Analysis:\n",
        "\n",
        "Ordered variables are those variables that have a natural rank of order. Some examples of categorical ordered variables from our dataset are:\n",
        "\n",
        "- Month: Jan, Feb, March……\n",
        "\n",
        "- Education: Primary, Secondary,……\n",
        "\n",
        "Now, let’s analyze the Education Variable from the dataset. Since we’ve already seen a bar plot, let’s see how a Pie Chart looks like."
      ],
      "attachments":{
        
      },
      "metadata":{
        
      }
    },
    {
      "cell_type":"code",
      "source":[
        "market_data['Education']"
      ],
      "execution_count":19,
      "outputs":[
        {
          "data":{
            "text\/html":[
              
            ]
          },
          "metadata":{
            
          },
          "output_type":"display_data"
        }
      ],
      "metadata":{
        
      }
    },
    {
      "cell_type":"markdown",
      "source":[
        "#### Create a Pie Chart for Education Column"
      ],
      "attachments":{
        
      },
      "metadata":{
        
      }
    },
    {
      "cell_type":"code",
      "source":[
        "\n",
        "market_data['Education'].value_counts(normalize=True).plot.pie()\n",
        "plt.title('Pie Chart of Education Column')\n",
        "plt.show()"
      ],
      "execution_count":20,
      "outputs":[
        {
          "data":{
            "image\/png":"[encoded data removed]"
          },
          "metadata":{
            "image\/png":{
              
            }
          },
          "output_type":"display_data"
        }
      ],
      "metadata":{
        
      }
    },
    {
      "cell_type":"markdown",
      "source":[
        "By the above analysis, we can infer that the data set has a large number of them belongs to secondary education after that tertiary and next primary. \n",
        "\n",
        "Also, a very small percentage of them have been unknown.\n",
        "\n",
        "This is how we analyze univariate categorical analysis. \n",
        "\n",
        "If the column or variable is of numerical then we’ll analyze by calculating its mean, median, std, etc. We can get those values by using the describe function."
      ],
      "attachments":{
        
      },
      "metadata":{
        
      }
    },
    {
      "cell_type":"code",
      "source":[
        "market_data.columns"
      ],
      "execution_count":21,
      "outputs":[
        {
          "data":{
            "text\/plain":[
              "Index(['age', 'salary', 'balance', 'marital', 'targeted', 'default', 'housing',\n",
              "       'loan', 'contact', 'day', 'month', 'duration', 'campaign', 'pdays',\n",
              "       'previous', 'poutcome', 'response', 'Job', 'Education'],\n",
              "      dtype='object')"
            ]
          },
          "metadata":{
            
          },
          "output_type":"display_data"
        }
      ],
      "metadata":{
        
      }
    },
    {
      "cell_type":"code",
      "source":[
        "market_data.salary.describe()"
      ],
      "execution_count":22,
      "outputs":[
        {
          "data":{
            "text\/html":[
              
            ]
          },
          "metadata":{
            
          },
          "output_type":"display_data"
        }
      ],
      "metadata":{
        
      }
    },
    {
      "cell_type":"markdown",
      "source":[
        "## 4. Bivariate Analysis\n",
        "\n",
        "If we analyze data by taking two variables\/columns into consideration from a dataset, it is known as Bivariate Analysis.\n",
        "\n",
        "### a) Numeric-Numeric Analysis:\n",
        "\n",
        "Analyzing the two numeric variables from a dataset is known as numeric-numeric analysis. We can analyze it in three different ways.\n",
        "- Scatter Plot\n",
        "- Pair Plot\n",
        "- Correlation Matrix"
      ],
      "attachments":{
        
      },
      "metadata":{
        
      }
    },
    {
      "cell_type":"markdown",
      "source":[
        "### Scatter Plot\n",
        "\n",
        "Let’s take three columns ‘Balance’, ‘Age’ and ‘Salary’ from our dataset and see what we can infer by plotting a scatter plot between salary, balance and age."
      ],
      "attachments":{
        
      },
      "metadata":{
        
      }
    },
    {
      "cell_type":"code",
      "source":[
        "market_data[['salary','balance']]"
      ],
      "execution_count":23,
      "outputs":[
        {
          "data":{
            "text\/html":[
              "<div>\n",
              "<style scoped>\n",
              "    .dataframe tbody tr th:only-of-type {\n",
              "        vertical-align: middle;\n",
              "    }\n",
              "\n",
              "    .dataframe tbody tr th {\n",
              "        vertical-align: top;\n",
              "    }\n",
              "\n",
              "    .dataframe thead th {\n",
              "        text-align: right;\n",
              "    }\n",
              "<\/style>\n",
              "<table border=\"1\" class=\"dataframe\">\n",
              "  <thead>\n",
              "    <tr style=\"text-align: right;\">\n",
              "      <th><\/th>\n",
              "      <th>salary<\/th>\n",
              "      <th>balance<\/th>\n",
              "    <\/tr>\n",
              "  <\/thead>\n",
              "  <tbody>\n",
              "    <tr>\n",
              "      <th>0<\/th>\n",
              "      <td>100000<\/td>\n",
              "      <td>2143<\/td>\n",
              "    <\/tr>\n",
              "    <tr>\n",
              "      <th>1<\/th>\n",
              "      <td>60000<\/td>\n",
              "      <td>29<\/td>\n",
              "    <\/tr>\n",
              "    <tr>\n",
              "      <th>2<\/th>\n",
              "      <td>120000<\/td>\n",
              "      <td>2<\/td>\n",
              "    <\/tr>\n",
              "    <tr>\n",
              "      <th>3<\/th>\n",
              "      <td>20000<\/td>\n",
              "      <td>1506<\/td>\n",
              "    <\/tr>\n",
              "    <tr>\n",
              "      <th>4<\/th>\n",
              "      <td>0<\/td>\n",
              "      <td>1<\/td>\n",
              "    <\/tr>\n",
              "    <tr>\n",
              "      <th>...<\/th>\n",
              "      <td>...<\/td>\n",
              "      <td>...<\/td>\n",
              "    <\/tr>\n",
              "    <tr>\n",
              "      <th>45206<\/th>\n",
              "      <td>60000<\/td>\n",
              "      <td>825<\/td>\n",
              "    <\/tr>\n",
              "    <tr>\n",
              "      <th>45207<\/th>\n",
              "      <td>55000<\/td>\n",
              "      <td>1729<\/td>\n",
              "    <\/tr>\n",
              "    <tr>\n",
              "      <th>45208<\/th>\n",
              "      <td>55000<\/td>\n",
              "      <td>5715<\/td>\n",
              "    <\/tr>\n",
              "    <tr>\n",
              "      <th>45209<\/th>\n",
              "      <td>20000<\/td>\n",
              "      <td>668<\/td>\n",
              "    <\/tr>\n",
              "    <tr>\n",
              "      <th>45210<\/th>\n",
              "      <td>120000<\/td>\n",
              "      <td>2971<\/td>\n",
              "    <\/tr>\n",
              "  <\/tbody>\n",
              "<\/table>\n",
              "<p>45161 rows × 2 columns<\/p>\n",
              "<\/div>"
            ]
          },
          "metadata":{
            
          },
          "output_type":"display_data"
        }
      ],
      "metadata":{
        
      }
    },
    {
      "cell_type":"markdown",
      "source":[
        "#### Scatter plot to show relationship b\/w salary and balance.\n",
        "\n",
        "- Salary and Balance are two continuous features."
      ],
      "attachments":{
        
      },
      "metadata":{
        
      }
    },
    {
      "cell_type":"code",
      "source":[
        "plt.figure(figsize=(8,4), dpi=100)\n",
        "sns.scatterplot(x='salary', y='balance', data=market_data, hue=\"salary\")\n",
        "plt.legend(bbox_to_anchor=(1.05, 1), loc='upper left')\n",
        "plt.title('Salary Vs Balance', loc='center')"
      ],
      "execution_count":24,
      "outputs":[
        {
          "data":{
            "text\/plain":[
              "Text(0.5, 1.0, 'Salary Vs Balance')"
            ],
            "image\/png":"[encoded data removed]"
          },
          "metadata":{
            "image\/png":{
              
            }
          },
          "output_type":"display_data"
        }
      ],
      "metadata":{
        
      }
    },
    {
      "cell_type":"markdown",
      "source":[
        "#### Scatter plot to draw relationship b\/w age and balance\n",
        "\n",
        "- Age and Balance are 2 continuous features.\n",
        "- Continuous feature means they have numerical values."
      ],
      "attachments":{
        
      },
      "metadata":{
        
      }
    },
    {
      "cell_type":"code",
      "source":[
        "plt.figure(figsize=(8,4), dpi=100)\n",
        "sns.scatterplot(x='age', y='balance', data=market_data, hue='salary')\n",
        "plt.legend(bbox_to_anchor=(1.05, 1), loc='upper left')\n",
        "plt.title('Age Vs Balance')"
      ],
      "execution_count":25,
      "outputs":[
        {
          "data":{
            "text\/plain":[
              "Text(0.5, 1.0, 'Age Vs Balance')"
            ],
            "image\/png":"[encoded data removed]"
          },
          "metadata":{
            "image\/png":{
              
            }
          },
          "output_type":"display_data"
        }
      ],
      "metadata":{
        
      }
    },
    {
      "cell_type":"markdown",
      "source":[
        "### Pair Plot\n",
        "Now, let’s plot Pair Plots for the three columns we used in plotting Scatter plots. We’ll use the seaborn library for plotting Pair Plots."
      ],
      "attachments":{
        
      },
      "metadata":{
        
      }
    },
    {
      "cell_type":"code",
      "source":[
        "sns.pairplot(data=market_data, vars=['salary', 'balance', 'age'])\n",
        "plt.title('Pair Plot for Age, Salary and Balance')"
      ],
      "execution_count":26,
      "outputs":[
        {
          "data":{
            "text\/plain":[
              "Text(0.5, 1.0, 'Pair Plot for Age, Salary and Balance')"
            ],
            "image\/png":"[encoded data removed]"
          },
          "metadata":{
            "image\/png":{
              
            }
          },
          "output_type":"display_data"
        }
      ],
      "metadata":{
        
      }
    },
    {
      "cell_type":"markdown",
      "source":[
        "### Correlation Matrix\n",
        "\n",
        "Since we cannot use more than two variables as x-axis and y-axis in Scatter and Pair Plots, it is difficult to see the relation between three numerical variables in a single graph. In those cases, we’ll use the correlation matrix."
      ],
      "attachments":{
        
      },
      "metadata":{
        
      }
    },
    {
      "cell_type":"code",
      "source":[
        "# Create a matrix using age, salary, balance as rows and columns.\n",
        "matrix = market_data[['salary', 'age', 'balance']].corr()\n",
        "\n",
        "matrix"
      ],
      "execution_count":27,
      "outputs":[
        {
          "data":{
            "text\/html":[
              "<div>\n",
              "<style scoped>\n",
              "    .dataframe tbody tr th:only-of-type {\n",
              "        vertical-align: middle;\n",
              "    }\n",
              "\n",
              "    .dataframe tbody tr th {\n",
              "        vertical-align: top;\n",
              "    }\n",
              "\n",
              "    .dataframe thead th {\n",
              "        text-align: right;\n",
              "    }\n",
              "<\/style>\n",
              "<table border=\"1\" class=\"dataframe\">\n",
              "  <thead>\n",
              "    <tr style=\"text-align: right;\">\n",
              "      <th><\/th>\n",
              "      <th>salary<\/th>\n",
              "      <th>age<\/th>\n",
              "      <th>balance<\/th>\n",
              "    <\/tr>\n",
              "  <\/thead>\n",
              "  <tbody>\n",
              "    <tr>\n",
              "      <th>salary<\/th>\n",
              "      <td>1.000000<\/td>\n",
              "      <td>0.024513<\/td>\n",
              "      <td>0.055489<\/td>\n",
              "    <\/tr>\n",
              "    <tr>\n",
              "      <th>age<\/th>\n",
              "      <td>0.024513<\/td>\n",
              "      <td>1.000000<\/td>\n",
              "      <td>0.097710<\/td>\n",
              "    <\/tr>\n",
              "    <tr>\n",
              "      <th>balance<\/th>\n",
              "      <td>0.055489<\/td>\n",
              "      <td>0.097710<\/td>\n",
              "      <td>1.000000<\/td>\n",
              "    <\/tr>\n",
              "  <\/tbody>\n",
              "<\/table>\n",
              "<\/div>"
            ]
          },
          "metadata":{
            
          },
          "output_type":"display_data"
        }
      ],
      "metadata":{
        
      }
    },
    {
      "cell_type":"code",
      "source":[
        "# Plot the correlation matrix of salary, balance and age in heatmap.\n",
        "sns.heatmap(matrix, annot=True, cmap='Blues')\n",
        "plt.show()"
      ],
      "execution_count":28,
      "outputs":[
        {
          "data":{
            "image\/png":"[encoded data removed]"
          },
          "metadata":{
            "image\/png":{
              
            }
          },
          "output_type":"display_data"
        }
      ],
      "metadata":{
        
      }
    },
    {
      "cell_type":"markdown",
      "source":[
        "### b) Numeric-Categorical Analysis:\n",
        "\n",
        "Analyzing a numeric variable and a categorical variable from a dataset. We analyze them mainly using mean, median, and box plots.\n",
        "\n",
        "Let’s take salary and response columns from our dataset.\n"
      ],
      "attachments":{
        
      },
      "metadata":{
        
      }
    },
    {
      "cell_type":"markdown",
      "source":[
        "First check for **mean** value using groupby\n",
        "\n",
        "Apply GroupBy on response column to get mean salaries. Thus getting mean salary for each response"
      ],
      "attachments":{
        
      },
      "metadata":{
        
      }
    },
    {
      "cell_type":"code",
      "source":[
        "market_data.groupby('response', as_index=False).agg(mean_salary=('salary', np.mean))"
      ],
      "execution_count":29,
      "outputs":[
        {
          "data":{
            "text\/html":[
              "<div>\n",
              "<style scoped>\n",
              "    .dataframe tbody tr th:only-of-type {\n",
              "        vertical-align: middle;\n",
              "    }\n",
              "\n",
              "    .dataframe tbody tr th {\n",
              "        vertical-align: top;\n",
              "    }\n",
              "\n",
              "    .dataframe thead th {\n",
              "        text-align: right;\n",
              "    }\n",
              "<\/style>\n",
              "<table border=\"1\" class=\"dataframe\">\n",
              "  <thead>\n",
              "    <tr style=\"text-align: right;\">\n",
              "      <th><\/th>\n",
              "      <th>response<\/th>\n",
              "      <th>mean_salary<\/th>\n",
              "    <\/tr>\n",
              "  <\/thead>\n",
              "  <tbody>\n",
              "    <tr>\n",
              "      <th>0<\/th>\n",
              "      <td>no<\/td>\n",
              "      <td>56769.510482<\/td>\n",
              "    <\/tr>\n",
              "    <tr>\n",
              "      <th>1<\/th>\n",
              "      <td>yes<\/td>\n",
              "      <td>58780.510880<\/td>\n",
              "    <\/tr>\n",
              "  <\/tbody>\n",
              "<\/table>\n",
              "<\/div>"
            ]
          },
          "metadata":{
            
          },
          "output_type":"display_data"
        }
      ],
      "metadata":{
        
      }
    },
    {
      "cell_type":"markdown",
      "source":[
        "There is not much of a difference between the yes and no response based on the salary.\n",
        "\n",
        "Let’s calculate the **median**,"
      ],
      "attachments":{
        
      },
      "metadata":{
        
      }
    },
    {
      "cell_type":"code",
      "source":[
        "# group dataset by response\n",
        "res_grouped = market_data.groupby('response', as_index=False)\n",
        "\n",
        "# apply agg() median on grouped dataset.\n",
        "res_grouped.agg(median_salary=('salary', np.median))"
      ],
      "execution_count":30,
      "outputs":[
        {
          "data":{
            "text\/html":[
              "<div>\n",
              "<style scoped>\n",
              "    .dataframe tbody tr th:only-of-type {\n",
              "        vertical-align: middle;\n",
              "    }\n",
              "\n",
              "    .dataframe tbody tr th {\n",
              "        vertical-align: top;\n",
              "    }\n",
              "\n",
              "    .dataframe thead th {\n",
              "        text-align: right;\n",
              "    }\n",
              "<\/style>\n",
              "<table border=\"1\" class=\"dataframe\">\n",
              "  <thead>\n",
              "    <tr style=\"text-align: right;\">\n",
              "      <th><\/th>\n",
              "      <th>response<\/th>\n",
              "      <th>median_salary<\/th>\n",
              "    <\/tr>\n",
              "  <\/thead>\n",
              "  <tbody>\n",
              "    <tr>\n",
              "      <th>0<\/th>\n",
              "      <td>no<\/td>\n",
              "      <td>60000.0<\/td>\n",
              "    <\/tr>\n",
              "    <tr>\n",
              "      <th>1<\/th>\n",
              "      <td>yes<\/td>\n",
              "      <td>60000.0<\/td>\n",
              "    <\/tr>\n",
              "  <\/tbody>\n",
              "<\/table>\n",
              "<\/div>"
            ]
          },
          "metadata":{
            
          },
          "output_type":"display_data"
        }
      ],
      "metadata":{
        
      }
    },
    {
      "cell_type":"markdown",
      "source":[
        "Here median salary for both responses are same.\n",
        "\n",
        "Let's plot the **box plot** and check behaviour"
      ],
      "attachments":{
        
      },
      "metadata":{
        
      }
    },
    {
      "cell_type":"code",
      "source":[
        "plt.figure(figsize=(8, 4), dpi=100)\n",
        "sns.boxplot(data=market_data, x='response', y='salary')"
      ],
      "execution_count":31,
      "outputs":[
        {
          "data":{
            "text\/plain":[
              "<AxesSubplot:xlabel='response', ylabel='salary'>"
            ],
            "image\/png":"[encoded data removed]"
          },
          "metadata":{
            "image\/png":{
              
            }
          },
          "output_type":"display_data"
        }
      ],
      "metadata":{
        
      }
    },
    {
      "cell_type":"markdown",
      "source":[
        "- As we can see, when we plot the Box Plot, it paints a very different picture compared to mean and median. \n",
        "  \n",
        "- The IQR for customers who gave a positive response is on the higher salary side.\n",
        "  \n",
        "- This is how we analyze Numeric-Categorical variables, we use **Mean, Median, and Box Plots** to draw some sort of conclusions."
      ],
      "attachments":{
        
      },
      "metadata":{
        
      }
    },
    {
      "cell_type":"markdown",
      "source":[
        "### c) Categorical — Categorical Analysis\n",
        "\n",
        "Since our target variable\/column is the Response rate, we’ll see how the different categories like Education, Marital Status, etc., are associated with the Response column. So instead of ‘Yes’ and ‘No’ we will convert them into ‘1’ and ‘0’, by doing that we’ll get the “Response Rate”."
      ],
      "attachments":{
        
      },
      "metadata":{
        
      }
    },
    {
      "cell_type":"code",
      "source":[
        "# create response_rate column of numerical data type where response \"yes\"= 1, \"no\"= 0\n",
        "\n",
        "market_data['response_rate'] =  np.where(market_data['response']=='yes', 1, 0)\n",
        "market_data.response_rate\n",
        "\n",
        "# here if value of response column is yes, then put value 1 else put 0."
      ],
      "execution_count":32,
      "outputs":[
        {
          "data":{
            "text\/html":[
              
            ]
          },
          "metadata":{
            
          },
          "output_type":"display_data"
        }
      ],
      "metadata":{
        
      }
    },
    {
      "cell_type":"code",
      "source":[
        "market_data['response_rate'].value_counts()"
      ],
      "execution_count":33,
      "outputs":[
        {
          "data":{
            "text\/html":[
              
            ]
          },
          "metadata":{
            
          },
          "output_type":"display_data"
        }
      ],
      "metadata":{
        
      }
    },
    {
      "cell_type":"markdown",
      "source":[
        "#### Marital Status vs Response Rate\n",
        "\n",
        "Let’s see how the response rate varies for different categories in marital status."
      ],
      "attachments":{
        
      },
      "metadata":{
        
      }
    },
    {
      "cell_type":"code",
      "source":[
        "grouped_data = market_data.groupby('marital')['response_rate']\n",
        "grouped_data.mean().plot.bar()"
      ],
      "execution_count":34,
      "outputs":[
        {
          "data":{
            "text\/plain":[
              "<AxesSubplot:xlabel='marital'>"
            ],
            "image\/png":"[encoded data removed]"
          },
          "metadata":{
            "image\/png":{
              
            }
          },
          "output_type":"display_data"
        }
      ],
      "metadata":{
        
      }
    },
    {
      "cell_type":"markdown",
      "source":[
        "By the above graph, we can infer that the positive response is more for Single status members in the data set. Similarly, we can plot the graphs for Loan vs Response rate, Housing Loans vs Response rate, etc."
      ],
      "attachments":{
        
      },
      "metadata":{
        
      }
    },
    {
      "cell_type":"markdown",
      "source":[
        "#### Loan vs Response Rate"
      ],
      "attachments":{
        
      },
      "metadata":{
        
      }
    },
    {
      "cell_type":"code",
      "source":[
        "grouped_df = market_data.groupby('loan')['response_rate'].mean().plot.bar()"
      ],
      "execution_count":42,
      "outputs":[
        {
          "data":{
            "image\/png":"[encoded data removed]"
          },
          "metadata":{
            "image\/png":{
              
            }
          },
          "output_type":"display_data"
        }
      ],
      "metadata":{
        
      }
    },
    {
      "cell_type":"markdown",
      "source":[
        "We can infer that positive response is higher for people who dont took the loan."
      ],
      "attachments":{
        
      },
      "metadata":{
        
      }
    },
    {
      "cell_type":"markdown",
      "source":[
        "#### Housing Loan vs Response Rate"
      ],
      "attachments":{
        
      },
      "metadata":{
        
      }
    },
    {
      "cell_type":"code",
      "source":[
        "market_data.groupby('housing')['response_rate'].mean().plot.bar()"
      ],
      "execution_count":50,
      "outputs":[
        {
          "data":{
            "text\/plain":[
              "<AxesSubplot:xlabel='housing'>"
            ],
            "image\/png":"[encoded data removed]"
          },
          "metadata":{
            "image\/png":{
              
            }
          },
          "output_type":"display_data"
        }
      ],
      "metadata":{
        
      }
    },
    {
      "cell_type":"markdown",
      "source":[
        "From above, we can infer that more positive response rate for ones who dont have \n",
        "housing loans, and less for people with housing loans."
      ],
      "attachments":{
        
      },
      "metadata":{
        
      }
    },
    {
      "cell_type":"markdown",
      "source":[
        "## 5. Multivariate Analysis\n",
        "\n",
        "If we analyze data by taking more than two variables\/columns into consideration from a dataset, it is known as Multivariate Analysis.\n",
        "\n",
        "Let’s see how ‘Education’, ‘Marital’, and ‘Response_rate’ vary with each other.\n",
        "\n",
        "1. First, we’ll create a **pivot table** with the three columns and after that, we’ll create a heatmap."
      ],
      "attachments":{
        
      },
      "metadata":{
        
      }
    },
    {
      "cell_type":"markdown",
      "source":[
        "#### Education vs Marital vs Response Rate"
      ],
      "attachments":{
        
      },
      "metadata":{
        
      }
    },
    {
      "cell_type":"code",
      "source":[
        "pivot_tbl = market_data.pivot_table(index='Education', values='response_rate', columns=['marital'])\n",
        "pivot_tbl"
      ],
      "execution_count":57,
      "outputs":[
        {
          "data":{
            "text\/html":[
              "<div>\n",
              "<style scoped>\n",
              "    .dataframe tbody tr th:only-of-type {\n",
              "        vertical-align: middle;\n",
              "    }\n",
              "\n",
              "    .dataframe tbody tr th {\n",
              "        vertical-align: top;\n",
              "    }\n",
              "\n",
              "    .dataframe thead th {\n",
              "        text-align: right;\n",
              "    }\n",
              "<\/style>\n",
              "<table border=\"1\" class=\"dataframe\">\n",
              "  <thead>\n",
              "    <tr style=\"text-align: right;\">\n",
              "      <th>marital<\/th>\n",
              "      <th>divorced<\/th>\n",
              "      <th>married<\/th>\n",
              "      <th>single<\/th>\n",
              "    <\/tr>\n",
              "    <tr>\n",
              "      <th>Education<\/th>\n",
              "      <th><\/th>\n",
              "      <th><\/th>\n",
              "      <th><\/th>\n",
              "    <\/tr>\n",
              "  <\/thead>\n",
              "  <tbody>\n",
              "    <tr>\n",
              "      <th>primary<\/th>\n",
              "      <td>0.138852<\/td>\n",
              "      <td>0.075601<\/td>\n",
              "      <td>0.106808<\/td>\n",
              "    <\/tr>\n",
              "    <tr>\n",
              "      <th>secondary<\/th>\n",
              "      <td>0.103559<\/td>\n",
              "      <td>0.094650<\/td>\n",
              "      <td>0.129271<\/td>\n",
              "    <\/tr>\n",
              "    <tr>\n",
              "      <th>tertiary<\/th>\n",
              "      <td>0.137415<\/td>\n",
              "      <td>0.129835<\/td>\n",
              "      <td>0.183737<\/td>\n",
              "    <\/tr>\n",
              "    <tr>\n",
              "      <th>unknown<\/th>\n",
              "      <td>0.142012<\/td>\n",
              "      <td>0.122519<\/td>\n",
              "      <td>0.162879<\/td>\n",
              "    <\/tr>\n",
              "  <\/tbody>\n",
              "<\/table>\n",
              "<\/div>"
            ]
          },
          "metadata":{
            
          },
          "output_type":"display_data"
        }
      ],
      "metadata":{
        
      }
    },
    {
      "cell_type":"markdown",
      "source":[
        "2. Second, create **heat map** of education vs marital vs response_rate"
      ],
      "attachments":{
        
      },
      "metadata":{
        
      }
    },
    {
      "cell_type":"code",
      "source":[
        "plt.figure(figsize=(6, 4), dpi=100)\n",
        "plt.title('Heat Map for Education vs Marital vs Response Rate')\n",
        "sns.heatmap(pivot_tbl, annot=True, cmap=\"Accent\")\n",
        "plt.show()"
      ],
      "execution_count":64,
      "outputs":[
        {
          "data":{
            "image\/png":"[encoded data removed]"
          },
          "metadata":{
            "image\/png":{
              
            }
          },
          "output_type":"display_data"
        }
      ],
      "metadata":{
        
      }
    },
    {
      "cell_type":"markdown",
      "source":[
        "Based on heatmap we can infer that married people with primary education has given less positive response,\n",
        "While single status people with tertiary education has given more positive response rate.\n",
        "\n",
        "Similarly, we can plot the graphs for Job vs marital vs response, Education vs poutcome vs response, etc."
      ],
      "attachments":{
        
      },
      "metadata":{
        
      }
    },
    {
      "cell_type":"markdown",
      "source":[
        "#### Job vs Marital vs Response Rate"
      ],
      "attachments":{
        
      },
      "metadata":{
        
      }
    },
    {
      "cell_type":"code",
      "source":[
        "pivot_tbl_2 = market_data.pivot_table(values='response_rate', index='Job', columns='marital')\n",
        "sns.heatmap(pivot_tbl_2, annot=True, cmap='Blues')"
      ],
      "execution_count":73,
      "outputs":[
        {
          "data":{
            "text\/plain":[
              "<AxesSubplot:xlabel='marital', ylabel='Job'>"
            ],
            "image\/png":"[encoded data removed]"
          },
          "metadata":{
            "image\/png":{
              
            }
          },
          "output_type":"display_data"
        }
      ],
      "metadata":{
        
      }
    },
    {
      "cell_type":"markdown",
      "source":[
        "From this, we can infer that students who are single given higer positive response,\n",
        "While divorced people with unknown jobs has given more negative response."
      ],
      "attachments":{
        
      },
      "metadata":{
        
      }
    },
    {
      "cell_type":"markdown",
      "source":[
        "#### Education vs Poutcome vs Response rate"
      ],
      "attachments":{
        
      },
      "metadata":{
        
      }
    },
    {
      "cell_type":"code",
      "source":[
        "pivot_tbl_3 = market_data.pivot_table(values='response_rate', index='Education', columns='poutcome')\n",
        "sns.heatmap(pivot_tbl_3, annot=True, cmap='YlGnBu')"
      ],
      "execution_count":85,
      "outputs":[
        {
          "data":{
            "text\/plain":[
              "<AxesSubplot:xlabel='poutcome', ylabel='Education'>"
            ],
            "image\/png":"[encoded data removed]"
          },
          "metadata":{
            "image\/png":{
              
            }
          },
          "output_type":"display_data"
        }
      ],
      "metadata":{
        
      }
    },
    {
      "cell_type":"markdown",
      "source":[
        " -> poutcome - success and Education - Primary : given high positive response\n",
        "\n",
        " \n",
        " -> poutcome - unknown and Education - Secondary : Given less positive response"
      ],
      "attachments":{
        
      },
      "metadata":{
        
      }
    },
    {
      "cell_type":"code",
      "source":[
        
      ],
      "execution_count":0,
      "outputs":[
        
      ],
      "metadata":{
        
      }
    }
  ],
  "metadata":{
    
  },
  "nbformat":4,
  "nbformat_minor":0
}