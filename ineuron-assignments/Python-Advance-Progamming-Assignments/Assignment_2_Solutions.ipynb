{
 "cells": [
  {
   "cell_type": "markdown",
   "id": "fbe113e4",
   "metadata": {},
   "source": [
    "### Solution for Question No. 2"
   ]
  },
  {
   "cell_type": "code",
   "execution_count": null,
   "id": "ea9e9b4a",
   "metadata": {},
   "outputs": [],
   "source": [
    "def func_encrypts():\n",
    "    pass\n"
   ]
  }
 ],
 "metadata": {
  "kernelspec": {
   "display_name": "Python 3 (ipykernel)",
   "language": "python",
   "name": "python3"
  },
  "language_info": {
   "codemirror_mode": {
    "name": "ipython",
    "version": 3
   },
   "file_extension": ".py",
   "mimetype": "text/x-python",
   "name": "python",
   "nbconvert_exporter": "python",
   "pygments_lexer": "ipython3",
   "version": "3.9.7"
  }
 },
 "nbformat": 4,
 "nbformat_minor": 5
}
