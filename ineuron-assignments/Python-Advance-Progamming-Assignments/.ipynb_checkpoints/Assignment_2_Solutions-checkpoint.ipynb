{
 "cells": [
  {
   "cell_type": "markdown",
   "id": "fbe113e4",
   "metadata": {},
   "source": [
    "### Solution for Question 2"
   ]
  },
  {
   "cell_type": "code",
   "execution_count": 99,
   "id": "ea9e9b4a",
   "metadata": {},
   "outputs": [],
   "source": [
    "def func_encrypts(name):\n",
    "    vowels_dict={'a':0, 'e': 1, 'i': 2, 'o': 2, 'u': 3}\n",
    "    reverse_name = name[::-1]\n",
    "    replaced_text = reverse_name\n",
    "    for k,v in vowels_dict.items():\n",
    "        if k in reverse_name:\n",
    "            if replaced_text == reverse_name:\n",
    "                replaced_text = reverse_name.replace(k, str(v))\n",
    "            else:\n",
    "                replaced_text = replaced_text.replace(k, str(v))\n",
    "    replaced_text += 'aca'\n",
    "    print(\"Replaced text:\", replaced_text)"
   ]
  },
  {
   "cell_type": "code",
   "execution_count": 100,
   "id": "a7ff487a",
   "metadata": {},
   "outputs": [
    {
     "name": "stdout",
     "output_type": "stream",
     "text": [
      "Replaced text: 1m2cl1waca\n"
     ]
    }
   ],
   "source": [
    "name = 'welcome'\n",
    "try:\n",
    "    func_encrypts(name)\n",
    "except Exception as err:\n",
    "    print(err.args)"
   ]
  },
  {
   "cell_type": "markdown",
   "id": "a1062540",
   "metadata": {},
   "source": [
    "### Solution for Question 3"
   ]
  },
  {
   "cell_type": "code",
   "execution_count": 60,
   "id": "64cd1c6a",
   "metadata": {},
   "outputs": [],
   "source": [
    "import datetime\n",
    "def has_friday(month, year):\n",
    "    if datetime.datetime.strptime('13 '+' '+month+' '+year, '%d %m %Y').weekday()==4:\n",
    "        return 'Yes'\n",
    "    else:\n",
    "        return 'No'    "
   ]
  },
  {
   "cell_type": "code",
   "execution_count": 62,
   "id": "cd6f4087",
   "metadata": {},
   "outputs": [
    {
     "name": "stdout",
     "output_type": "stream",
     "text": [
      "Enter year: 2020\n",
      "Enter month: 11\n",
      "Yes\n"
     ]
    }
   ],
   "source": [
    "try:\n",
    "    year = input('Enter year: ')\n",
    "    month = input('Enter month: ')\n",
    "    print(has_friday(month, year))\n",
    "except Exception as err:\n",
    "    print(err.args)"
   ]
  },
  {
   "cell_type": "markdown",
   "id": "e8b4b5bf",
   "metadata": {},
   "source": [
    "### Solution for Quesiton 4"
   ]
  },
  {
   "cell_type": "code",
   "execution_count": 76,
   "id": "af2fa0b6",
   "metadata": {},
   "outputs": [],
   "source": [
    "import re\n",
    "def count_bad_cookies(cookies_list):\n",
    "    pattern = re.compile('(bad) (cookie)')\n",
    "    matched_lists = len(list(filter(pattern.match, cookies_list)))\n",
    "    print(matched_lists)"
   ]
  },
  {
   "cell_type": "code",
   "execution_count": 78,
   "id": "08ad032f",
   "metadata": {},
   "outputs": [
    {
     "name": "stdout",
     "output_type": "stream",
     "text": [
      "2\n"
     ]
    }
   ],
   "source": [
    "cookies = [\"bad cookie\", \"good cookie\", \"bad cookie\", \"good cookie\", \"good cookie\"]\n",
    "try:\n",
    "    count_bad_cookies(cookies)\n",
    "except Exception as err:\n",
    "    print(err.args)"
   ]
  },
  {
   "cell_type": "markdown",
   "id": "5a3ff2f4",
   "metadata": {},
   "source": [
    "### Solution for Question 5"
   ]
  },
  {
   "cell_type": "code",
   "execution_count": 92,
   "id": "62eac857",
   "metadata": {},
   "outputs": [],
   "source": [
    "def pluralize(word_list):\n",
    "    final_list = []\n",
    "    word_counts_dict = {i: word_list.count(i) for i in word_list}\n",
    "    for k, v in word_counts_dict.items():\n",
    "        if v > 1:\n",
    "            k = k+'s'\n",
    "            final_list.append(k)\n",
    "        else:\n",
    "            final_list.append(k)\n",
    "    return final_list"
   ]
  },
  {
   "cell_type": "code",
   "execution_count": 94,
   "id": "d2c31757",
   "metadata": {},
   "outputs": [
    {
     "name": "stdout",
     "output_type": "stream",
     "text": [
      "['cows', 'pig']\n"
     ]
    }
   ],
   "source": [
    "list = [\"cow\", \"pig\", \"cow\", \"cow\"]\n",
    "try:\n",
    "    print(pluralize(list))\n",
    "except Exception as err:\n",
    "    print(err.args)"
   ]
  },
  {
   "cell_type": "code",
   "execution_count": null,
   "id": "c691f360",
   "metadata": {},
   "outputs": [],
   "source": []
  }
 ],
 "metadata": {
  "kernelspec": {
   "display_name": "Python 3 (ipykernel)",
   "language": "python",
   "name": "python3"
  },
  "language_info": {
   "codemirror_mode": {
    "name": "ipython",
    "version": 3
   },
   "file_extension": ".py",
   "mimetype": "text/x-python",
   "name": "python",
   "nbconvert_exporter": "python",
   "pygments_lexer": "ipython3",
   "version": "3.9.7"
  }
 },
 "nbformat": 4,
 "nbformat_minor": 5
}
