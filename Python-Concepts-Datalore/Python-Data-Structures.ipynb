{
 "cells":[
  {
   "cell_type":"markdown",
   "source":[
    "# Strings"
   ],
   "attachments":{
    
   },
   "metadata":{
    "datalore":{
     "type":"MD",
     "hide_input_from_viewers":false,
     "hide_output_from_viewers":false,
     "node_id":"xlVWAiFFIUGaP19TZrLd0s"
    }
   }
  },
  {
   "cell_type":"markdown",
   "source":[
    "## Using Index Operators\n",
    "\n",
    "- Index value used on strings to get a specific letter in the same.\n",
    "- Index value an integer & starts at zero"
   ],
   "attachments":{
    
   },
   "metadata":{
    "datalore":{
     "type":"MD",
     "hide_input_from_viewers":false,
     "hide_output_from_viewers":false,
     "node_id":"o0etOnN2Oqgd910wDZaGbE"
    }
   }
  },
  {
   "cell_type":"code",
   "source":[
    "fruit = 'banana'\n",
    "print(fruit[0])\n",
    "print(fruit[1])"
   ],
   "execution_count":1,
   "outputs":[
    {
     "name":"stdout",
     "text":[
      "b\n",
      "a\n"
     ],
     "output_type":"stream"
    }
   ],
   "metadata":{
    "datalore":{
     "type":"CODE",
     "hide_input_from_viewers":false,
     "hide_output_from_viewers":false,
     "node_id":"MjuF59LtNrdx2GZU67KA7W"
    }
   }
  },
  {
   "cell_type":"markdown",
   "source":[
    "## Len Function\n",
    "- Takes a string as parameter and returns the length of the same."
   ],
   "attachments":{
    
   },
   "metadata":{
    "datalore":{
     "type":"MD",
     "hide_input_from_viewers":false,
     "hide_output_from_viewers":false,
     "node_id":"uM9tjKF7qW02xGFTblDEQa"
    }
   }
  },
  {
   "cell_type":"code",
   "source":[
    "fruit1 = 'mango'\n",
    "print(len(fruit1))"
   ],
   "execution_count":2,
   "outputs":[
    {
     "name":"stdout",
     "text":[
      "5\n"
     ],
     "output_type":"stream"
    }
   ],
   "metadata":{
    "datalore":{
     "type":"CODE",
     "hide_input_from_viewers":false,
     "hide_output_from_viewers":false,
     "node_id":"nH5PzDyo8ObDeJTLctXy7X"
    }
   }
  },
  {
   "cell_type":"markdown",
   "source":[
    "## Looping Through String\n",
    "- Use definite loops like for-loop which is more elegant than using while loops.\n",
    "- Iteration variable iterates through the string and block of code executed for\n",
    "  each value in the sequence."
   ],
   "attachments":{
    
   },
   "metadata":{
    "datalore":{
     "type":"MD",
     "hide_input_from_viewers":false,
     "hide_output_from_viewers":false,
     "node_id":"4Dok0JBNZgNnpob1wz2bzW"
    }
   }
  },
  {
   "cell_type":"code",
   "source":[
    "movie = 'batman'\n",
    "for m in movie:\n",
    "    print(m)\n",
    "\n",
    "# m - iteration variable, m is printed for each value in 'batman'. "
   ],
   "execution_count":4,
   "outputs":[
    {
     "name":"stdout",
     "text":[
      "b\n",
      "a\n",
      "t\n",
      "m\n",
      "a\n",
      "n\n"
     ],
     "output_type":"stream"
    }
   ],
   "metadata":{
    "datalore":{
     "type":"CODE",
     "hide_input_from_viewers":false,
     "hide_output_from_viewers":false,
     "node_id":"LxdCJdgrZuv3n9Dc8D2d7J"
    }
   }
  },
  {
   "cell_type":"markdown",
   "source":[
    "## Looping and Counting"
   ],
   "attachments":{
    
   },
   "metadata":{
    "datalore":{
     "type":"MD",
     "hide_input_from_viewers":false,
     "hide_output_from_viewers":false,
     "node_id":"W5aZgsxOOTWH49q7PJMeZw"
    }
   }
  },
  {
   "cell_type":"code",
   "source":[
    "name = 'sagar'\n",
    "count = 0\n",
    "for n in name:\n",
    "    if n == 'a':\n",
    "        count += 1\n",
    "    print(n)\n",
    "print(f'Count of letter a: {count}')"
   ],
   "execution_count":5,
   "outputs":[
    {
     "name":"stdout",
     "text":[
      "s\n",
      "a\n",
      "g\n",
      "a\n",
      "r\n",
      "Count of letter a: 2\n"
     ],
     "output_type":"stream"
    }
   ],
   "metadata":{
    "datalore":{
     "type":"CODE",
     "hide_input_from_viewers":false,
     "hide_output_from_viewers":false,
     "node_id":"zm2Pu2fcDfTQHucnngsIHB"
    }
   }
  },
  {
   "cell_type":"markdown",
   "source":[
    "## Slicing Strings"
   ],
   "attachments":{
    
   },
   "metadata":{
    "datalore":{
     "type":"MD",
     "hide_input_from_viewers":false,
     "hide_output_from_viewers":false,
     "node_id":"uP8gOX6ZQ8babvHjyU1uki"
    }
   }
  },
  {
   "cell_type":"code",
   "source":[
    "word = 'monty python'\n",
    "print(word[0:3])\n",
    "# starts from index 0, move up to index 3 bt not include value of index 3. so it output\n",
    "# values from index 0 to 2."
   ],
   "execution_count":8,
   "outputs":[
    {
     "name":"stdout",
     "text":[
      "mon\n"
     ],
     "output_type":"stream"
    }
   ],
   "metadata":{
    "datalore":{
     "type":"CODE",
     "hide_input_from_viewers":false,
     "hide_output_from_viewers":false,
     "node_id":"tLaxbwOEhJgm64x0vLKjWj"
    }
   }
  },
  {
   "cell_type":"code",
   "source":[
    "print(word[4: 7])"
   ],
   "execution_count":9,
   "outputs":[
    {
     "name":"stdout",
     "text":[
      "y p\n"
     ],
     "output_type":"stream"
    }
   ],
   "metadata":{
    "datalore":{
     "type":"CODE",
     "hide_input_from_viewers":false,
     "hide_output_from_viewers":false,
     "node_id":"eOb6Y4dKJ7I4w4o5kK5pWm"
    }
   }
  },
  {
   "cell_type":"code",
   "source":[
    "print(word[5:])\n",
    "# starts from index 5 and if second value is not, print till the end of the string."
   ],
   "execution_count":11,
   "outputs":[
    {
     "name":"stdout",
     "text":[
      " python\n"
     ],
     "output_type":"stream"
    }
   ],
   "metadata":{
    "datalore":{
     "type":"CODE",
     "hide_input_from_viewers":false,
     "hide_output_from_viewers":false,
     "node_id":"Tqc9CKT6If1YbREIN3RidY"
    }
   }
  },
  {
   "cell_type":"code",
   "source":[
    "print(word[:4])\n",
    "# starts from begining of string and move up to index 4, bt not including the \n",
    "# value of index 4."
   ],
   "execution_count":14,
   "outputs":[
    {
     "name":"stdout",
     "text":[
      "mont\n"
     ],
     "output_type":"stream"
    }
   ],
   "metadata":{
    "datalore":{
     "type":"CODE",
     "hide_input_from_viewers":false,
     "hide_output_from_viewers":false,
     "node_id":"OqxzTHk0WWKIkRxLYx13Ca"
    }
   }
  },
  {
   "cell_type":"markdown",
   "source":[
    "## String Manipulation"
   ],
   "attachments":{
    
   },
   "metadata":{
    "datalore":{
     "type":"MD",
     "hide_input_from_viewers":false,
     "hide_output_from_viewers":false,
     "node_id":"TNPgjwO3A7Vlak725IPEMB"
    }
   }
  },
  {
   "cell_type":"markdown",
   "source":[
    "### String Concatenation"
   ],
   "attachments":{
    
   },
   "metadata":{
    "datalore":{
     "type":"MD",
     "hide_input_from_viewers":false,
     "hide_output_from_viewers":false,
     "node_id":"tIb4jmNW883p6uVa89iQaV"
    }
   }
  },
  {
   "cell_type":"code",
   "source":[
    "name = \"jissmon\"\n",
    "full_name = name + ' jose'\n",
    "print(full_name)"
   ],
   "execution_count":1,
   "outputs":[
    {
     "name":"stdout",
     "text":[
      "jissmon jose\n"
     ],
     "output_type":"stream"
    }
   ],
   "metadata":{
    "datalore":{
     "type":"CODE",
     "hide_input_from_viewers":false,
     "hide_output_from_viewers":false,
     "node_id":"RZtS8qOQpW5xNi2nu6GvLa"
    }
   }
  },
  {
   "cell_type":"markdown",
   "source":[
    "### Using 'in' expression \n",
    "- Used to check whether a string present in another string\n",
    "- Returns True\/False\n",
    "- used mostly in **if** statement"
   ],
   "attachments":{
    
   },
   "metadata":{
    "datalore":{
     "type":"MD",
     "hide_input_from_viewers":false,
     "hide_output_from_viewers":false,
     "node_id":"hTdh0eDU40SQABhZ1RfKGG"
    }
   }
  },
  {
   "cell_type":"code",
   "source":[
    "\n",
    "def word_finder(word):\n",
    "    if 'ph' in word:\n",
    "        print(\"Found\")\n",
    "word_finder(\"elephant\")"
   ],
   "execution_count":9,
   "outputs":[
    {
     "name":"stdout",
     "text":[
      "Found\n"
     ],
     "output_type":"stream"
    }
   ],
   "metadata":{
    "datalore":{
     "type":"CODE",
     "hide_input_from_viewers":false,
     "hide_output_from_viewers":false,
     "node_id":"gGkSaWmscDk8t4AmqkG9iv"
    }
   }
  },
  {
   "cell_type":"markdown",
   "source":[
    "### String Comparison"
   ],
   "attachments":{
    
   },
   "metadata":{
    "datalore":{
     "type":"MD",
     "hide_input_from_viewers":false,
     "hide_output_from_viewers":false,
     "node_id":"lRjf2IgU3qisxPgJtVTZx5"
    }
   }
  },
  {
   "cell_type":"code",
   "source":[
    "def word_cmpare(word):\n",
    "    if word == 'banana':\n",
    "        return 'Found'\n",
    "    return 'Not Found'\n",
    "print(word_cmpare('banana'))"
   ],
   "execution_count":12,
   "outputs":[
    {
     "name":"stdout",
     "text":[
      "Found\n"
     ],
     "output_type":"stream"
    }
   ],
   "metadata":{
    "datalore":{
     "type":"CODE",
     "hide_input_from_viewers":false,
     "hide_output_from_viewers":false,
     "node_id":"qrzxbEH1bxv0U1Br5v6GC6"
    }
   }
  },
  {
   "cell_type":"markdown",
   "source":[
    "## String Library"
   ],
   "attachments":{
    
   },
   "metadata":{
    "datalore":{
     "type":"MD",
     "hide_input_from_viewers":false,
     "hide_output_from_viewers":false,
     "node_id":"hMVWXaXwezGGJ0jMaaR7Wc"
    }
   }
  },
  {
   "cell_type":"markdown",
   "source":[
    "### lower function\n",
    "- Convert string to lower case"
   ],
   "attachments":{
    
   },
   "metadata":{
    "datalore":{
     "type":"MD",
     "hide_input_from_viewers":false,
     "hide_output_from_viewers":false,
     "node_id":"OSSlRSRLWO3OyM6CTw5QKk"
    }
   }
  },
  {
   "cell_type":"code",
   "source":[
    "def word_low(word):\n",
    "    word = word.lower()\n",
    "    return word\n",
    "word = input('Enter String: ')\n",
    "print(word_low(word))"
   ],
   "execution_count":14,
   "outputs":[
    {
     "name":"stdout",
     "text":[
      "Enter String:  JISSMON JOSE\n",
      "jissmon jose\n"
     ],
     "output_type":"stream"
    }
   ],
   "metadata":{
    "datalore":{
     "type":"CODE",
     "hide_input_from_viewers":false,
     "hide_output_from_viewers":false,
     "node_id":"0sEgSHzWvHkgOBkodrkj3l"
    }
   }
  },
  {
   "cell_type":"markdown",
   "source":[
    "### find function\n",
    "- search for substring with in another string.\n",
    "- returns the **position** of **first occurence** of the substring.\n",
    "- if not found, returns -1"
   ],
   "attachments":{
    
   },
   "metadata":{
    "datalore":{
     "type":"MD",
     "hide_input_from_viewers":false,
     "hide_output_from_viewers":false,
     "node_id":"ByKxC2X2mCoy77byDjdJSJ"
    }
   }
  },
  {
   "cell_type":"code",
   "source":[
    "def sub_finder():\n",
    "    word = 'superman'\n",
    "    return word.find('ma')\n",
    "sub_finder()\n",
    "\n",
    "# substring `ma` starts at position 5"
   ],
   "execution_count":16,
   "outputs":[
    {
     "data":{
      "text\/plain":[
       "5"
      ]
     },
     "metadata":{
      
     },
     "output_type":"display_data"
    }
   ],
   "metadata":{
    "datalore":{
     "type":"CODE",
     "hide_input_from_viewers":false,
     "hide_output_from_viewers":false,
     "node_id":"HaEVBkbjx7pnDkIoGfupzv"
    }
   }
  },
  {
   "cell_type":"markdown",
   "source":[
    "### search and replace function\n",
    "- searches for a string and replace it with another string."
   ],
   "attachments":{
    
   },
   "metadata":{
    "datalore":{
     "type":"MD",
     "hide_input_from_viewers":false,
     "hide_output_from_viewers":false,
     "node_id":"cnYf55YQMdKQOhuuwHxsu8"
    }
   }
  },
  {
   "cell_type":"code",
   "source":[
    "sent = 'hello ajith'\n",
    "new_word = word.replace('ajith', 'jissmon')\n",
    "print(new_word)"
   ],
   "execution_count":18,
   "outputs":[
    {
     "name":"stdout",
     "text":[
      "hello jissmon\n"
     ],
     "output_type":"stream"
    }
   ],
   "metadata":{
    "datalore":{
     "type":"CODE",
     "hide_input_from_viewers":false,
     "hide_output_from_viewers":false,
     "node_id":"o7wDLSOMfU9NzrfioHuya6"
    }
   }
  },
  {
   "cell_type":"markdown",
   "source":[
    "### Stripping Whitespaces\n",
    "- lstrip(), rstrip > strip spaces at left and right\n",
    "- strip() > string from both ends.\n",
    "- did not affect original string"
   ],
   "attachments":{
    
   },
   "metadata":{
    "datalore":{
     "type":"MD",
     "hide_input_from_viewers":false,
     "hide_output_from_viewers":false,
     "node_id":"L1wwYCjrxhQRKiFb7VV8bR"
    }
   }
  },
  {
   "cell_type":"code",
   "source":[
    "def strip_spaces(word):\n",
    "    print(word.lstrip())\n",
    "    print(word.rstrip())\n",
    "    print(word.strip())\n",
    "strip_spaces('   hello python   ')"
   ],
   "execution_count":20,
   "outputs":[
    {
     "name":"stdout",
     "text":[
      "hello python   \n",
      "   hello python\n",
      "hello python\n"
     ],
     "output_type":"stream"
    }
   ],
   "metadata":{
    "datalore":{
     "type":"CODE",
     "hide_input_from_viewers":false,
     "hide_output_from_viewers":false,
     "node_id":"Wjrs6WhgSrccLPrIjipSHR"
    }
   }
  },
  {
   "cell_type":"markdown",
   "source":[
    "### Prefixes\n",
    "- **startswith** and **endswith** functions"
   ],
   "attachments":{
    
   },
   "metadata":{
    "datalore":{
     "type":"MD",
     "hide_input_from_viewers":false,
     "hide_output_from_viewers":false,
     "node_id":"XFNFoZNIi3Qn6LapvmpT0x"
    }
   }
  },
  {
   "cell_type":"code",
   "source":[
    "sentence = 'python is good'\n",
    "if sentence.startswith('python'):\n",
    "    print(True)\n",
    "else:\n",
    "    print(False)"
   ],
   "execution_count":21,
   "outputs":[
    {
     "name":"stdout",
     "text":[
      "True\n"
     ],
     "output_type":"stream"
    }
   ],
   "metadata":{
    "datalore":{
     "type":"CODE",
     "hide_input_from_viewers":false,
     "hide_output_from_viewers":false,
     "node_id":"eBupAhdiJhjmOKYK6mNXIy"
    }
   }
  },
  {
   "cell_type":"code",
   "source":[
    "sentence = 'python is good'\n",
    "if sentence.endswith('good'):\n",
    "    print(True)\n",
    "else:\n",
    "    print(False)"
   ],
   "execution_count":22,
   "outputs":[
    {
     "name":"stdout",
     "text":[
      "True\n"
     ],
     "output_type":"stream"
    }
   ],
   "metadata":{
    "datalore":{
     "type":"CODE",
     "hide_input_from_viewers":false,
     "hide_output_from_viewers":false,
     "node_id":"QPqDfz0h97hbOUxuM3dFmT"
    }
   }
  },
  {
   "cell_type":"markdown",
   "source":[
    "### Parsing and Extracting"
   ],
   "attachments":{
    
   },
   "metadata":{
    "datalore":{
     "type":"MD",
     "hide_input_from_viewers":false,
     "hide_output_from_viewers":false,
     "node_id":"Gs5nqBfTaW97UD4wogmKg0"
    }
   }
  },
  {
   "cell_type":"code",
   "source":[
    "email = input('Enter Email Id: ')\n",
    "def parse_extract(email):\n",
    "    fpos = email.find('@')\n",
    "    tpos = email.find('.')\n",
    "    extracted_word = email[fpos+1: tpos] \n",
    "    return extracted_word\n",
    "print(parse_extract(email))"
   ],
   "execution_count":24,
   "outputs":[
    {
     "name":"stdout",
     "text":[
      "Enter Email Id:  jissmon435435@yahoo.com\n",
      "yahoo\n"
     ],
     "output_type":"stream"
    }
   ],
   "metadata":{
    "datalore":{
     "type":"CODE",
     "hide_input_from_viewers":false,
     "hide_output_from_viewers":false,
     "node_id":"j6dLlcPRBZqSlZMFiKDA28"
    }
   }
  },
  {
   "cell_type":"markdown",
   "source":[
    "**6.5 Write code using find() and string slicing (see section 6.10) to extract the number at the end of the line below. Convert the extracted value to a floating point number and print it out.**"
   ],
   "attachments":{
    
   },
   "metadata":{
    "datalore":{
     "type":"MD",
     "hide_input_from_viewers":false,
     "hide_output_from_viewers":false,
     "node_id":"4tW4L7BWgEBLgcjBXDRi7h"
    }
   }
  },
  {
   "cell_type":"code",
   "source":[
    "\n",
    "def extract_number():\n",
    "    text = \"X-DSPAM-Confidence:    0.8475\"\n",
    "    apos = text.find(' ')\n",
    "    return float(text[apos+1: ].lstrip())\n",
    "print(extract_number())"
   ],
   "execution_count":35,
   "outputs":[
    {
     "name":"stdout",
     "text":[
      "0.8475\n"
     ],
     "output_type":"stream"
    }
   ],
   "metadata":{
    "datalore":{
     "type":"CODE",
     "hide_input_from_viewers":false,
     "hide_output_from_viewers":false,
     "node_id":"bHzYOsDEd7xsNa4IsjcOUp"
    }
   }
  },
  {
   "cell_type":"markdown",
   "source":[
    "# Files"
   ],
   "attachments":{
    
   },
   "metadata":{
    "datalore":{
     "type":"MD",
     "hide_input_from_viewers":false,
     "hide_output_from_viewers":false,
     "node_id":"NqmIQYgcGsN8o6NJMHZXjR"
    }
   }
  },
  {
   "cell_type":"markdown",
   "source":[
    "## Using open()\n",
    "- to open a file.\n",
    "- takes a file and mode as parameters\n",
    "- returns a file handle (to get access to file).\n",
    "- Syntax:\n",
    "    - open(file, mode)"
   ],
   "attachments":{
    
   },
   "metadata":{
    "datalore":{
     "type":"MD",
     "hide_input_from_viewers":false,
     "hide_output_from_viewers":false,
     "node_id":"r0TAqs1LquDfuUM7pzGaB3"
    }
   }
  },
  {
   "cell_type":"markdown",
   "source":[
    "## new line character\n",
    "- indicates the end of a line"
   ],
   "attachments":{
    
   },
   "metadata":{
    "datalore":{
     "type":"MD",
     "hide_input_from_viewers":false,
     "hide_output_from_viewers":false,
     "node_id":"ZbTBwksgvpRDPiYmvbgoNS"
    }
   }
  },
  {
   "cell_type":"code",
   "source":[
    "sentence = 'Hello\\nWorld'\n",
    "sentence1 = 'hello\\nworld\\npython'\n",
    "print(sentence)\n",
    "print(sentence1)"
   ],
   "execution_count":5,
   "outputs":[
    {
     "name":"stdout",
     "text":[
      "Hello\n",
      "World\n",
      "hello\n",
      "world\n",
      "python\n"
     ],
     "output_type":"stream"
    }
   ],
   "metadata":{
    "datalore":{
     "type":"CODE",
     "hide_input_from_viewers":false,
     "hide_output_from_viewers":false,
     "node_id":"xAruT2nscZaIAZVXT7O0lx"
    }
   }
  },
  {
   "cell_type":"markdown",
   "source":[
    "## Reading through a File\n",
    "- use mode **r** for read purpose.\n",
    "- Each line in a file is a string in the sequence.\n",
    "- We use for loop to iterate through that sequence"
   ],
   "attachments":{
    
   },
   "metadata":{
    "datalore":{
     "type":"MD",
     "hide_input_from_viewers":false,
     "hide_output_from_viewers":false,
     "node_id":"Eb7RUe2DdJssUEHLTZgvyT"
    }
   }
  },
  {
   "cell_type":"code",
   "source":[
    "file_handle = open('sample.txt', 'r')\n",
    "for each_line in file_handle:\n",
    "    print(each_line)\n",
    "\n",
    "# here, file_handle is a sequence of each line in the file.\n",
    "# each_line -> iteration variable."
   ],
   "execution_count":11,
   "outputs":[
    {
     "name":"stdout",
     "text":[
      "fgfgfdjfdhgjk\n",
      "\n",
      "jfgsdfjs\n",
      "\n",
      "sdfkjhsdfkjsdf\n",
      "\n",
      "sdfksdfsdj\n",
      "\n",
      "sdfkshdfksjdf\n",
      "\n"
     ],
     "output_type":"stream"
    }
   ],
   "metadata":{
    "datalore":{
     "type":"CODE",
     "hide_input_from_viewers":false,
     "hide_output_from_viewers":false,
     "node_id":"JQ8kd9gjUuudavZYktxZ4w"
    }
   }
  },
  {
   "cell_type":"markdown",
   "source":[
    "## Counting Lines in a file"
   ],
   "attachments":{
    
   },
   "metadata":{
    "datalore":{
     "type":"MD",
     "hide_input_from_viewers":false,
     "hide_output_from_viewers":false,
     "node_id":"SJHCVHX8dVHLYROAp2l96f"
    }
   }
  },
  {
   "cell_type":"code",
   "source":[
    "def count_lines():\n",
    "    count1 = 0\n",
    "    fhandle = open('sample.txt', 'r')\n",
    "    for lines in fhandle:\n",
    "        count1 += 1\n",
    "        print(lines)\n",
    "    return count1\n",
    "print(count_lines())"
   ],
   "execution_count":12,
   "outputs":[
    {
     "name":"stdout",
     "text":[
      "fgfgfdjfdhgjk\n",
      "\n",
      "jfgsdfjs\n",
      "\n",
      "sdfkjhsdfkjsdf\n",
      "\n",
      "sdfksdfsdj\n",
      "\n",
      "sdfkshdfksjdf\n",
      "\n",
      "5\n"
     ],
     "output_type":"stream"
    }
   ],
   "metadata":{
    "datalore":{
     "type":"CODE",
     "hide_input_from_viewers":false,
     "hide_output_from_viewers":false,
     "node_id":"9vIB60hJbBXQTRNjHnzVJV"
    }
   }
  },
  {
   "cell_type":"markdown",
   "source":[
    "## Stripping blank lines\n",
    "- When v prints lines of file, there is a extra blank lines b\/w them.\n",
    "- that is because of **print()** function which adds newline character.\n",
    "- each lines have a new line character at end.\n",
    "- 2 new lines characters create a blank line.\n",
    "- newline is considered as whitespace\n",
    "- we strip the same using **rstrip()** "
   ],
   "attachments":{
    
   },
   "metadata":{
    "datalore":{
     "type":"MD",
     "hide_input_from_viewers":false,
     "hide_output_from_viewers":false,
     "node_id":"GKtEQRnU9i7B3k5aVeAP3g"
    }
   }
  },
  {
   "cell_type":"code",
   "source":[
    "def file_fun():\n",
    "    op_file = open('sample.txt', 'r')\n",
    "    for f in op_file:\n",
    "        print(f.rstrip())\n",
    "file_fun()"
   ],
   "execution_count":14,
   "outputs":[
    {
     "name":"stdout",
     "text":[
      "Lorem ipsum dolor sit amet,\n",
      "consectetur adipiscing elit,\n",
      "sed do eiusmod tempor incididunt ut\n",
      "labore et dolore magna aliqua. Ut enim\n",
      "ad minim veniam, quis nostrud exercitation ullamco\n",
      "laboris nisi ut aliquip ex ea commodo consequat.\n",
      "Duis aute irure dolor in reprehenderit in voluptate\n",
      "velit esse cillum dolore eu fugiat nulla pariatur.\n",
      "Excepteur sint occaecat cupidatat non proident,\n",
      "sunt in culpa\n",
      "qui officia deserunt mollit anim id est laborum.\n"
     ],
     "output_type":"stream"
    }
   ],
   "metadata":{
    "datalore":{
     "type":"CODE",
     "hide_input_from_viewers":false,
     "hide_output_from_viewers":false,
     "node_id":"eW3FD7hFc1icKoK9Qc3HIJ"
    }
   }
  },
  {
   "cell_type":"markdown",
   "source":[
    "## Searching Through a File"
   ],
   "attachments":{
    
   },
   "metadata":{
    "datalore":{
     "type":"MD",
     "hide_input_from_viewers":false,
     "hide_output_from_viewers":false,
     "node_id":"1YPXrQSuyUqVbyhBH7IAZk"
    }
   }
  },
  {
   "cell_type":"code",
   "source":[
    "def file_sch():\n",
    "    fil_opn = open('sample.txt', 'r')\n",
    "    for opn in fil_opn:\n",
    "        if opn.startswith('Duis'):\n",
    "            print(opn.rstrip())\n",
    "file_sch()\n",
    "\n",
    "# prints the line that starts with 'Duis'"
   ],
   "execution_count":16,
   "outputs":[
    {
     "name":"stdout",
     "text":[
      "Duis aute irure dolor in reprehenderit in voluptate\n"
     ],
     "output_type":"stream"
    }
   ],
   "metadata":{
    "datalore":{
     "type":"CODE",
     "hide_input_from_viewers":false,
     "hide_output_from_viewers":false,
     "node_id":"BFM5H0EG1ztGYr6DCHbSRO"
    }
   }
  },
  {
   "cell_type":"markdown",
   "source":[
    "## Skipping Lines in a File."
   ],
   "attachments":{
    
   },
   "metadata":{
    "datalore":{
     "type":"MD",
     "hide_input_from_viewers":false,
     "hide_output_from_viewers":false,
     "node_id":"wsmKUyPbXPPNX5Naujb6IW"
    }
   }
  },
  {
   "cell_type":"code",
   "source":[
    "def skip_lines():\n",
    "    file_open = open('sample.txt', 'r')\n",
    "    for f in file_open:\n",
    "        f = f.rstrip()\n",
    "        if not f.startswith('Duis'):\n",
    "            continue\n",
    "        print(f)\n",
    "skip_lines()\n",
    "\n",
    "# here skip all lines that not starts with 'Duis'. Same logic as previous but using continue here."
   ],
   "execution_count":18,
   "outputs":[
    {
     "name":"stdout",
     "text":[
      "Duis aute irure dolor in reprehenderit in voluptate\n"
     ],
     "output_type":"stream"
    }
   ],
   "metadata":{
    "datalore":{
     "type":"CODE",
     "hide_input_from_viewers":false,
     "hide_output_from_viewers":false,
     "node_id":"nOlwmFm67DAsIZnyFS94Jk"
    }
   }
  },
  {
   "cell_type":"markdown",
   "source":[
    "## Try Except with bad file name"
   ],
   "attachments":{
    
   },
   "metadata":{
    "datalore":{
     "type":"MD",
     "hide_input_from_viewers":false,
     "hide_output_from_viewers":false,
     "node_id":"ICEDd1tRrLP65XUY21jaZW"
    }
   }
  },
  {
   "cell_type":"code",
   "source":[
    "my_file = input('Enter file name: ')\n",
    "def handle_files(get_file):\n",
    "    try:\n",
    "        fname = open(get_file, 'r')\n",
    "    except:\n",
    "        return 'Bad File Name'\n",
    "    for y in fname:\n",
    "        y = y.rstrip()\n",
    "        print(y)\n",
    "print(handle_files(my_file))"
   ],
   "execution_count":23,
   "outputs":[
    {
     "name":"stdout",
     "text":[
      "Enter file name:  fjsdgfjsd\n",
      "Bad File Name\n"
     ],
     "output_type":"stream"
    }
   ],
   "metadata":{
    "datalore":{
     "type":"CODE",
     "hide_input_from_viewers":false,
     "hide_output_from_viewers":false,
     "node_id":"HrLi6qjjjSbYJbRjXI9F3D"
    }
   }
  },
  {
   "cell_type":"markdown",
   "source":[
    "## Read Full Lines of File in one stretch"
   ],
   "attachments":{
    
   },
   "metadata":{
    "datalore":{
     "type":"MD",
     "hide_input_from_viewers":false,
     "hide_output_from_viewers":false,
     "node_id":"YIkwKVNkBwSCBRlBKuOD9F"
    }
   }
  },
  {
   "cell_type":"code",
   "source":[
    "fhand = open('sample.txt')\n",
    "inp = fhand.read()\n",
    "print(inp)\n",
    "\n",
    "# all lines are stored as string to variable 'inp' "
   ],
   "execution_count":25,
   "outputs":[
    {
     "name":"stdout",
     "text":[
      "Lorem ipsum dolor sit amet, \n",
      "consectetur adipiscing elit, \n",
      "sed do eiusmod tempor incididunt ut \n",
      "labore et dolore magna aliqua. Ut enim\n",
      "ad minim veniam, quis nostrud exercitation ullamco \n",
      "laboris nisi ut aliquip ex ea commodo consequat. \n",
      "Duis aute irure dolor in reprehenderit in voluptate \n",
      "velit esse cillum dolore eu fugiat nulla pariatur.\n",
      "Excepteur sint occaecat cupidatat non proident, \n",
      "sunt in culpa \n",
      "qui officia deserunt mollit anim id est laborum.\n"
     ],
     "output_type":"stream"
    }
   ],
   "metadata":{
    "datalore":{
     "type":"CODE",
     "hide_input_from_viewers":false,
     "hide_output_from_viewers":false,
     "node_id":"JKvxC7oYCBDOOQahCaTs67"
    }
   }
  },
  {
   "cell_type":"markdown",
   "source":[
    "## Exercises"
   ],
   "attachments":{
    
   },
   "metadata":{
    "datalore":{
     "type":"MD",
     "hide_input_from_viewers":false,
     "hide_output_from_viewers":false,
     "node_id":"qgEkGLGv0coijiAQ0L33o9"
    }
   }
  },
  {
   "cell_type":"markdown",
   "source":[
    "**7.1 Write a program that prompts for a file name, then opens that file and reads through the file, and print the contents of the file in upper case. Use the file words.txt to produce the output below.**"
   ],
   "attachments":{
    
   },
   "metadata":{
    "datalore":{
     "type":"MD",
     "hide_input_from_viewers":false,
     "hide_output_from_viewers":false,
     "node_id":"IE2XirEYgiBJUFP2UfnxZv"
    }
   }
  },
  {
   "cell_type":"code",
   "source":[
    "# Use words.txt as the file name\n",
    "fname = input(\"Enter file name: \")\n",
    "fh = open(fname)\n",
    "for f in fh:\n",
    "    f = f.rstrip()\n",
    "    print(f.upper())"
   ],
   "execution_count":null,
   "outputs":[
    
   ],
   "metadata":{
    "datalore":{
     "type":"CODE",
     "hide_input_from_viewers":false,
     "hide_output_from_viewers":false,
     "node_id":"hph5UluJdCQK3DAFcLoTnp"
    }
   }
  },
  {
   "cell_type":"markdown",
   "source":[
    "**7.2 Write a program that prompts for a file name, then opens that file and reads through the file, looking for lines of the form: X-DSPAM-Confidence:    0.8475**\n",
    "\n",
    "**Count these lines and extract the floating point values from each of the lines and compute the average of those values and produce an output as shown below. Do not use the sum() function or a variable named sum in your solution.**\n",
    "\n",
    "**choose file 'mbox-short.txt' on prompt**"
   ],
   "attachments":{
    
   },
   "metadata":{
    "datalore":{
     "type":"MD",
     "hide_input_from_viewers":false,
     "hide_output_from_viewers":false,
     "node_id":"Ft4dakhBbzuKcXD1Q7Z4L0"
    }
   }
  },
  {
   "cell_type":"code",
   "source":[
    "my_file = input('Enter File Name: ')\n",
    "def comp_avg_lines(my_file):\n",
    "    count = 0\n",
    "    total_of = 0\n",
    "    my_file = open(my_file, 'r')\n",
    "    for line_one in my_file:\n",
    "        if not line_one.startswith('X-DSPAM-Confidence:'):\n",
    "            continue\n",
    "        line_one = line_one.rstrip()\n",
    "        count += 1\n",
    "        apos = line_one.find(' ')\n",
    "        value = float(line_one[apos+1: ].lstrip())\n",
    "        total_of += value\n",
    "    avg_of = total_of \/ count\n",
    "    return f'Average spam confidence: {avg_of}'\n",
    "print(comp_avg_lines(my_file))"
   ],
   "execution_count":28,
   "outputs":[
    {
     "name":"stdout",
     "text":[
      "Enter File Name:  mbox-short.txt\n",
      "Average spam confidence: 0.7507185185185187\n"
     ],
     "output_type":"stream"
    }
   ],
   "metadata":{
    "datalore":{
     "type":"CODE",
     "hide_input_from_viewers":false,
     "hide_output_from_viewers":false,
     "node_id":"lKBug1q6imKsdLhtZ00FTh"
    }
   }
  },
  {
   "cell_type":"markdown",
   "source":[
    "# List\n",
    "- List is a collection whcih takes diff. kind of values.\n",
    "- A collection means it can store many values in to a single variable\n",
    "- Lists are surrounded by square brackets.\n",
    "- List contains another list, we call it nested list."
   ],
   "attachments":{
    
   },
   "metadata":{
    "datalore":{
     "type":"MD",
     "hide_input_from_viewers":false,
     "hide_output_from_viewers":false,
     "node_id":"7wVhxq9w2KwNQIwameia4c"
    }
   }
  },
  {
   "cell_type":"code",
   "source":[
    "my_list = [7, 8, 9, [66, 99], 'fsd', 'fdsfsd', True, False, 55.55, 66.66]\n",
    "print(my_list)"
   ],
   "execution_count":9,
   "outputs":[
    {
     "name":"stdout",
     "text":[
      "[7, 8, 9, [66, 99], 'fsd', 'fdsfsd', True, False, 55.55, 66.66]\n"
     ],
     "output_type":"stream"
    }
   ],
   "metadata":{
    "datalore":{
     "type":"CODE",
     "hide_input_from_viewers":false,
     "hide_output_from_viewers":false,
     "node_id":"RVUkkvjrwrJ96CVu0UyJO2"
    }
   }
  },
  {
   "cell_type":"markdown",
   "source":[
    "## Definite Loops with List "
   ],
   "attachments":{
    
   },
   "metadata":{
    "datalore":{
     "type":"MD",
     "hide_input_from_viewers":false,
     "hide_output_from_viewers":false,
     "node_id":"xmaMdOBnBj1gFuEMOOp8Iz"
    }
   }
  },
  {
   "cell_type":"code",
   "source":[
    "mobile_price = [40000, 54000, 10000, 30000]\n",
    "for price in mobile_price:\n",
    "    print(price)"
   ],
   "execution_count":3,
   "outputs":[
    {
     "name":"stdout",
     "text":[
      "40000\n",
      "54000\n",
      "10000\n",
      "30000\n"
     ],
     "output_type":"stream"
    }
   ],
   "metadata":{
    "datalore":{
     "type":"CODE",
     "hide_input_from_viewers":false,
     "hide_output_from_viewers":false,
     "node_id":"cyMmTZ4hOttc4a7PWYr3iy"
    }
   }
  },
  {
   "cell_type":"markdown",
   "source":[
    "## Using Index Operator\n",
    "- get access to list element using index operator\n",
    "- can slice though a list and extract a part of it"
   ],
   "attachments":{
    
   },
   "metadata":{
    "datalore":{
     "type":"MD",
     "hide_input_from_viewers":false,
     "hide_output_from_viewers":false,
     "node_id":"DfWtBiSaLeEZ7aoIXKwMYT"
    }
   }
  },
  {
   "cell_type":"code",
   "source":[
    "numbers = [44 ,55 ,11, 88]\n",
    "print(numbers[2])\n",
    "print(numbers[1:3])\n",
    "print(numbers[:2])"
   ],
   "execution_count":6,
   "outputs":[
    {
     "name":"stdout",
     "text":[
      "11\n",
      "[55, 11]\n",
      "[44, 55]\n"
     ],
     "output_type":"stream"
    }
   ],
   "metadata":{
    "datalore":{
     "type":"CODE",
     "hide_input_from_viewers":false,
     "hide_output_from_viewers":false,
     "node_id":"QX9i0EFJEW1GxJXtln3KYt"
    }
   }
  },
  {
   "cell_type":"markdown",
   "source":[
    "## List are Mutable\n",
    "- Elements in list are changeable\n",
    "- Not creating any copy of orginal one, but updating the same.\n",
    "- Can update a set of values at one time using slicing."
   ],
   "attachments":{
    
   },
   "metadata":{
    "datalore":{
     "type":"MD",
     "hide_input_from_viewers":false,
     "hide_output_from_viewers":false,
     "node_id":"1K2XbXRgD5H31rEc51Edo2"
    }
   }
  },
  {
   "cell_type":"code",
   "source":[
    "numbers1 = [55 ,66, 77, 200 ,1998]\n",
    "numbers1[3] = 9798\n",
    "print(numbers1)"
   ],
   "execution_count":8,
   "outputs":[
    {
     "name":"stdout",
     "text":[
      "[55, 66, 77, 9798, 1998]\n"
     ],
     "output_type":"stream"
    }
   ],
   "metadata":{
    "datalore":{
     "type":"CODE",
     "hide_input_from_viewers":false,
     "hide_output_from_viewers":false,
     "node_id":"EhtjqlSAJbDIUi3U1hFBp4"
    }
   }
  },
  {
   "cell_type":"code",
   "source":[
    "numbers2 = [55 ,77, 10, 'jiss', 'ron', 87868,]\n",
    "numbers2[3: 5]=[55, 66] \n",
    "print(numbers2)"
   ],
   "execution_count":11,
   "outputs":[
    {
     "name":"stdout",
     "text":[
      "[55, 77, 10, 55, 66, 87868]\n"
     ],
     "output_type":"stream"
    }
   ],
   "metadata":{
    "datalore":{
     "type":"CODE",
     "hide_input_from_viewers":false,
     "hide_output_from_viewers":false,
     "node_id":"jSvXk5EKNV4IVPI24msLG8"
    }
   }
  },
  {
   "cell_type":"markdown",
   "source":[
    "## Length of List\n",
    "- len() takes a list as parameters, returns count of element in list"
   ],
   "attachments":{
    
   },
   "metadata":{
    "datalore":{
     "type":"MD",
     "hide_input_from_viewers":false,
     "hide_output_from_viewers":false,
     "node_id":"WC8YeZAJlTK31peSBt3vlB"
    }
   }
  },
  {
   "cell_type":"code",
   "source":[
    "list_new = [44 ,55,'dfsd' ,99, [66.7, 77.88]]\n",
    "print(len(list_new))"
   ],
   "execution_count":12,
   "outputs":[
    {
     "name":"stdout",
     "text":[
      "5\n"
     ],
     "output_type":"stream"
    }
   ],
   "metadata":{
    "datalore":{
     "type":"CODE",
     "hide_input_from_viewers":false,
     "hide_output_from_viewers":false,
     "node_id":"jmvcMiKdQvOYKeTd2nNLym"
    }
   }
  },
  {
   "cell_type":"markdown",
   "source":[
    "## Range in List\n",
    "- range() function creates a sequence of numebrs where values starts from 0 up to a value \n",
    "  less than the passed parameter.\n",
    "- Can convert range to list using list().\n",
    "- Pass **start** and **stop** parameter to indicate where to start and end.\n",
    "- Pass **step** parameter to increment through the values."
   ],
   "attachments":{
    
   },
   "metadata":{
    "datalore":{
     "type":"MD",
     "hide_input_from_viewers":false,
     "hide_output_from_viewers":false,
     "node_id":"sqsgnZXsU2CxgsCj8cKJmR"
    }
   }
  },
  {
   "cell_type":"code",
   "source":[
    "for h in range(5):\n",
    "    print(h)\n",
    "\n",
    "#  here range gives values from 0 to 4."
   ],
   "execution_count":19,
   "outputs":[
    {
     "name":"stdout",
     "text":[
      "0\n",
      "1\n",
      "2\n",
      "3\n",
      "4\n"
     ],
     "output_type":"stream"
    }
   ],
   "metadata":{
    "datalore":{
     "type":"CODE",
     "hide_input_from_viewers":false,
     "hide_output_from_viewers":false,
     "node_id":"qGzDuc5sveQRq7iRY5NkqJ"
    }
   }
  },
  {
   "cell_type":"code",
   "source":[
    "print(list(range(6)))"
   ],
   "execution_count":20,
   "outputs":[
    {
     "name":"stdout",
     "text":[
      "[0, 1, 2, 3, 4, 5]\n"
     ],
     "output_type":"stream"
    }
   ],
   "metadata":{
    "datalore":{
     "type":"CODE",
     "hide_input_from_viewers":false,
     "hide_output_from_viewers":false,
     "node_id":"Th76g4O7eQ088hetUQVQRF"
    }
   }
  },
  {
   "cell_type":"code",
   "source":[
    "print(list(range(2, 8)))\n",
    "\n",
    "# start from 2 and move up to one less than 8."
   ],
   "execution_count":22,
   "outputs":[
    {
     "name":"stdout",
     "text":[
      "[2, 3, 4, 5, 6, 7]\n"
     ],
     "output_type":"stream"
    }
   ],
   "metadata":{
    "datalore":{
     "type":"CODE",
     "hide_input_from_viewers":false,
     "hide_output_from_viewers":false,
     "node_id":"RIKFI8xfvmm5aFhwHn8Ejs"
    }
   }
  },
  {
   "cell_type":"markdown",
   "source":[
    "### Exercise\n",
    " Print Even Numbers"
   ],
   "attachments":{
    
   },
   "metadata":{
    "datalore":{
     "type":"MD",
     "hide_input_from_viewers":false,
     "hide_output_from_viewers":false,
     "node_id":"gEKUMVYUqVoQeU5NsK9A2l"
    }
   }
  },
  {
   "cell_type":"code",
   "source":[
    "print(list(range(2, 50, 2)))\n",
    "\n",
    "# 2 - start\n",
    "# 50 - stop\n",
    "# 2 - step "
   ],
   "execution_count":24,
   "outputs":[
    {
     "name":"stdout",
     "text":[
      "[2, 4, 6, 8, 10, 12, 14, 16, 18, 20, 22, 24, 26, 28, 30, 32, 34, 36, 38, 40, 42, 44, 46, 48]\n"
     ],
     "output_type":"stream"
    }
   ],
   "metadata":{
    "datalore":{
     "type":"CODE",
     "hide_input_from_viewers":false,
     "hide_output_from_viewers":false,
     "node_id":"QvivwJMgGxC8uniEuOew3L"
    }
   }
  },
  {
   "cell_type":"markdown",
   "source":[
    "## List Manipulations"
   ],
   "attachments":{
    
   },
   "metadata":{
    "datalore":{
     "type":"MD",
     "hide_input_from_viewers":false,
     "hide_output_from_viewers":false,
     "node_id":"FmDE2cE0MCMw6xjaMnrvz1"
    }
   }
  },
  {
   "cell_type":"markdown",
   "source":[
    "### Append method\n",
    "\n",
    "- to add values to a list.\n",
    "- remember append() takes one parameter at a time.\n",
    "- List maintains an order, way we append the items, the same way values r stored,"
   ],
   "attachments":{
    
   },
   "metadata":{
    "datalore":{
     "type":"MD",
     "hide_input_from_viewers":false,
     "hide_output_from_viewers":false,
     "node_id":"nYxhFIq4wLTNDOWN1sfJ4t"
    }
   }
  },
  {
   "cell_type":"code",
   "source":[
    "stuff = list()\n",
    "stuff.append(44)\n",
    "stuff.append(66)\n",
    "print(stuff)"
   ],
   "execution_count":26,
   "outputs":[
    {
     "name":"stdout",
     "text":[
      "[44, 66]\n"
     ],
     "output_type":"stream"
    }
   ],
   "metadata":{
    "datalore":{
     "type":"CODE",
     "hide_input_from_viewers":false,
     "hide_output_from_viewers":false,
     "node_id":"H21XNgenpK30Vgk3dPzClu"
    }
   }
  },
  {
   "cell_type":"markdown",
   "source":[
    "### Extend method\n",
    "- takes an iterable as a parameter\n",
    "- So we can give many values in a go."
   ],
   "attachments":{
    
   },
   "metadata":{
    "datalore":{
     "type":"MD",
     "hide_input_from_viewers":false,
     "hide_output_from_viewers":false,
     "node_id":"tj1dcdCTRdJBQZS1yoGXoj"
    }
   }
  },
  {
   "cell_type":"code",
   "source":[
    "bag = list()\n",
    "bag.extend([55, 66, 88])\n",
    "print(bag)"
   ],
   "execution_count":27,
   "outputs":[
    {
     "name":"stdout",
     "text":[
      "[55, 66, 88]\n"
     ],
     "output_type":"stream"
    }
   ],
   "metadata":{
    "datalore":{
     "type":"CODE",
     "hide_input_from_viewers":false,
     "hide_output_from_viewers":false,
     "node_id":"TAoAoY4j20g4yygerspS0G"
    }
   }
  },
  {
   "cell_type":"markdown",
   "source":[
    "### In and Not In Operator\n",
    "- Returns Boolean Value"
   ],
   "attachments":{
    
   },
   "metadata":{
    "datalore":{
     "type":"MD",
     "hide_input_from_viewers":false,
     "hide_output_from_viewers":false,
     "node_id":"cCzLgq0OIWWlxurLyPvthR"
    }
   }
  },
  {
   "cell_type":"code",
   "source":[
    "numbers = [55, 66, 88, 200, 23]\n",
    "print(66 in numbers)\n",
    "print(54654 not in numbers)"
   ],
   "execution_count":34,
   "outputs":[
    {
     "name":"stdout",
     "text":[
      "True\n",
      "True\n"
     ],
     "output_type":"stream"
    }
   ],
   "metadata":{
    "datalore":{
     "type":"CODE",
     "hide_input_from_viewers":false,
     "hide_output_from_viewers":false,
     "node_id":"MusOK7rH7mSO4y2LJPlMaw"
    }
   }
  },
  {
   "cell_type":"markdown",
   "source":[
    "### Sorted Function\n",
    "\n",
    "- sort the numbers and strings.\n",
    "- to reverse sort the same, use **reverse=True** option"
   ],
   "attachments":{
    
   },
   "metadata":{
    "datalore":{
     "type":"MD",
     "hide_input_from_viewers":false,
     "hide_output_from_viewers":false,
     "node_id":"0hE6AhaXVEbT5YGF4Fdm59"
    }
   }
  },
  {
   "cell_type":"code",
   "source":[
    "numbers = [44, 55, 11, 99, 100]\n",
    "print(sorted(numbers))\n",
    "print(sorted(numbers, reverse=True\n",
    "             ))"
   ],
   "execution_count":45,
   "outputs":[
    {
     "name":"stdout",
     "text":[
      "[11, 44, 55, 99, 100]\n",
      "[100, 99, 55, 44, 11]\n"
     ],
     "output_type":"stream"
    }
   ],
   "metadata":{
    "datalore":{
     "type":"CODE",
     "hide_input_from_viewers":false,
     "hide_output_from_viewers":false,
     "node_id":"YdZFqtjv0am6ZFrIWRd73t"
    }
   }
  },
  {
   "cell_type":"code",
   "source":[
    "names = ['joseph', 'chuck', 'glenn']\n",
    "print(sorted(names))\n",
    "print(sorted(names, reverse=True))"
   ],
   "execution_count":47,
   "outputs":[
    {
     "name":"stdout",
     "text":[
      "['chuck', 'glenn', 'joseph']\n",
      "['joseph', 'glenn', 'chuck']\n"
     ],
     "output_type":"stream"
    }
   ],
   "metadata":{
    "datalore":{
     "type":"CODE",
     "hide_input_from_viewers":false,
     "hide_output_from_viewers":false,
     "node_id":"nYfpG1gQvPU1ABuUwgpeA4"
    }
   }
  },
  {
   "cell_type":"markdown",
   "source":[
    "### Sum Function\n",
    "- Sum of items in a list of numbers."
   ],
   "attachments":{
    
   },
   "metadata":{
    "datalore":{
     "type":"MD",
     "hide_input_from_viewers":false,
     "hide_output_from_viewers":false,
     "node_id":"FYhLnUmHJyu6LHsJw6EgKw"
    }
   }
  },
  {
   "cell_type":"code",
   "source":[
    "numbers = [44, 55, 11, 99, 100]\n",
    "print(sum(numbers))"
   ],
   "execution_count":48,
   "outputs":[
    {
     "name":"stdout",
     "text":[
      "309\n"
     ],
     "output_type":"stream"
    }
   ],
   "metadata":{
    "datalore":{
     "type":"CODE",
     "hide_input_from_viewers":false,
     "hide_output_from_viewers":false,
     "node_id":"tElH63Wj7bQwRCn6sejvDT"
    }
   }
  },
  {
   "cell_type":"markdown",
   "source":[
    "### Exercise Program\n",
    "\n",
    "1. Find Sum, Average of a List."
   ],
   "attachments":{
    
   },
   "metadata":{
    "datalore":{
     "type":"MD",
     "hide_input_from_viewers":false,
     "hide_output_from_viewers":false,
     "node_id":"VG8kIQum0Id7b3CW9QCTVG"
    }
   }
  },
  {
   "cell_type":"code",
   "source":[
    "def sum_avg_op():\n",
    "    num_list = []\n",
    "    while True:\n",
    "        inp_el = input('Enter Number')\n",
    "        if inp_el == 'done': \n",
    "            break\n",
    "        inp_el = float(inp_el)\n",
    "        num_list.append(inp_el)\n",
    "    sum_nums = sum(num_list)\n",
    "    avg_nums = sum_nums\/len(num_list)\n",
    "    return f'Sum: {sum_nums} Averae: {avg_nums}'\n",
    "print(sum_avg_op())"
   ],
   "execution_count":59,
   "outputs":[
    {
     "name":"stdout",
     "text":[
      "Enter Number 11\n",
      "Enter Number 22\n",
      "Enter Number 33\n",
      "Enter Number done\n",
      "Sum: 66.0 Averae: 22.0\n"
     ],
     "output_type":"stream"
    }
   ],
   "metadata":{
    "datalore":{
     "type":"CODE",
     "hide_input_from_viewers":false,
     "hide_output_from_viewers":false,
     "node_id":"zimBKgymc1QqHjSscTSVV5"
    }
   }
  },
  {
   "cell_type":"markdown",
   "source":[
    "## Using List and Strings"
   ],
   "attachments":{
    
   },
   "metadata":{
    "datalore":{
     "type":"MD",
     "hide_input_from_viewers":false,
     "hide_output_from_viewers":false,
     "node_id":"3WbFHVEaYdN5m9ub8GXmAe"
    }
   }
  },
  {
   "cell_type":"markdown",
   "source":[
    "### Splittng Strings to List\n",
    "- Using split() on string, it splits the strings into a list.\n",
    "- split() takes a separator as parameter, if not specified, splits based on spaces b\/w value."
   ],
   "attachments":{
    
   },
   "metadata":{
    "datalore":{
     "type":"MD",
     "hide_input_from_viewers":false,
     "hide_output_from_viewers":false,
     "node_id":"VmIplq1fu9Velf1VMtdksT"
    }
   }
  },
  {
   "cell_type":"code",
   "source":[
    "address = 'aabc 66 house pistvilla 2nd floor kcflat'\n",
    "print(address.split())\n",
    "for word in address.split():\n",
    "    print(word)"
   ],
   "execution_count":61,
   "outputs":[
    {
     "name":"stdout",
     "text":[
      "['aabc', '66', 'house', 'pistvilla', '2nd', 'floor', 'kcflat']\n",
      "aabc\n",
      "66\n",
      "house\n",
      "pistvilla\n",
      "2nd\n",
      "floor\n",
      "kcflat\n"
     ],
     "output_type":"stream"
    }
   ],
   "metadata":{
    "datalore":{
     "type":"CODE",
     "hide_input_from_viewers":false,
     "hide_output_from_viewers":false,
     "node_id":"IVP8WIpTJ4XJbE0jiisesH"
    }
   }
  },
  {
   "cell_type":"code",
   "source":[
    "bad_names = 'jiss&jose&jom&ajith&justin'\n",
    "word_list = bad_names.split()\n",
    "print(word_list)\n",
    "\n",
    "# got a single value list since no space there nor used any separator"
   ],
   "execution_count":62,
   "outputs":[
    {
     "name":"stdout",
     "text":[
      "['jiss&jose&jom&ajith&justin']\n"
     ],
     "output_type":"stream"
    }
   ],
   "metadata":{
    "datalore":{
     "type":"CODE",
     "hide_input_from_viewers":false,
     "hide_output_from_viewers":false,
     "node_id":"V0ajCx3BGnl7zXqQKCIkxp"
    }
   }
  },
  {
   "cell_type":"code",
   "source":[
    "# now use separator `&`\n",
    "cleared_data = bad_names.split('&')\n",
    "print(cleared_data)"
   ],
   "execution_count":64,
   "outputs":[
    {
     "name":"stdout",
     "text":[
      "['jiss', 'jose', 'jom', 'ajith', 'justin']\n"
     ],
     "output_type":"stream"
    }
   ],
   "metadata":{
    "datalore":{
     "type":"CODE",
     "hide_input_from_viewers":false,
     "hide_output_from_viewers":false,
     "node_id":"lKlEXovwHSwlUbAz0EizeS"
    }
   }
  },
  {
   "cell_type":"markdown",
   "source":[
    "## Exercise Programs"
   ],
   "attachments":{
    
   },
   "metadata":{
    "datalore":{
     "type":"MD",
     "hide_input_from_viewers":false,
     "hide_output_from_viewers":false,
     "node_id":"wJASjcCt2oV5EhTQeLGS7G"
    }
   }
  },
  {
   "cell_type":"markdown",
   "source":[
    "**8.4 Open the file romeo.txt and read it line by line. For each line, split the line into a list of words using the split() method. The program should build a list of words. For each word on each line check to see if the word is already in the list and if not append it to the list. When the program completes, sort and print the resulting words in alphabetical order.**"
   ],
   "attachments":{
    
   },
   "metadata":{
    "datalore":{
     "type":"MD",
     "hide_input_from_viewers":false,
     "hide_output_from_viewers":false,
     "node_id":"O4AGn91kJELcDhDkLBwBpK"
    }
   }
  },
  {
   "cell_type":"code",
   "source":[
    "def append_words(file_rom):\n",
    "    trans_list = list()\n",
    "    for line in file_rom:\n",
    "        line = line.rstrip()\n",
    "        words_list = line.split()\n",
    "        for each_word in words_list:\n",
    "            if each_word not in trans_list:\n",
    "                trans_list.append(each_word)\n",
    "            continue\n",
    "    trans_list = sorted(trans_list)\n",
    "    return  trans_list\n",
    "file_rom = open('romeo.txt', 'r')\n",
    "print(append_words(file_rom))"
   ],
   "execution_count":81,
   "outputs":[
    {
     "name":"stdout",
     "text":[
      "['Arise', 'But', 'It', 'Juliet', 'Who', 'already', 'and', 'breaks', 'east', 'envious', 'fair', 'grief', 'is', 'kill', 'light', 'moon', 'pale', 'sick', 'soft', 'sun', 'the', 'through', 'what', 'window', 'with', 'yonder']\n"
     ],
     "output_type":"stream"
    }
   ],
   "metadata":{
    "datalore":{
     "type":"CODE",
     "hide_input_from_viewers":false,
     "hide_output_from_viewers":false,
     "node_id":"hjvu6NuGaUFa7GAWpm0lwK"
    }
   }
  },
  {
   "cell_type":"markdown",
   "source":[
    "**8.5 Open the file mbox-short.txt and read it line by line. When you find a line that starts with 'From ' like** **the following line:**\n",
    "\n",
    "**From stephen.marquard@uct.ac.za Sat Jan  5 09:14:16 2008**\n",
    "\n",
    "**You will parse the From line using split() and print out the second word in the line (i.e. the entire address** **of the person who sent the message). Then print out a count at the end.**\n",
    "\n",
    "**Hint: make sure not to include the lines that start with 'From:'. Also look at the last line of the sample output to see how to print the count.**"
   ],
   "attachments":{
    
   },
   "metadata":{
    "datalore":{
     "type":"MD",
     "hide_input_from_viewers":false,
     "hide_output_from_viewers":false,
     "node_id":"eEFC0cEe6DVMmXPBIeBwSb"
    }
   }
  },
  {
   "cell_type":"code",
   "source":[
    "def count_split_func(lat_file):\n",
    "    count = 0\n",
    "    for one_line in lat_file:\n",
    "        if one_line.startswith('From:'):\n",
    "            continue\n",
    "        if one_line.startswith('From'):\n",
    "            count += 1\n",
    "            email_id = one_line.split()[1]\n",
    "            print(email_id)\n",
    "    return f'There were {count} lines in the file with From as the first word'\n",
    "lat_file = open('mbox-short.txt', 'r')\n",
    "print(count_split_func(lat_file))\n",
    "    "
   ],
   "execution_count":89,
   "outputs":[
    {
     "name":"stdout",
     "text":[
      "stephen.marquard@uct.ac.za\n",
      "louis@media.berkeley.edu\n",
      "zqian@umich.edu\n",
      "rjlowe@iupui.edu\n",
      "zqian@umich.edu\n",
      "rjlowe@iupui.edu\n",
      "cwen@iupui.edu\n",
      "cwen@iupui.edu\n",
      "gsilver@umich.edu\n",
      "gsilver@umich.edu\n",
      "zqian@umich.edu\n",
      "gsilver@umich.edu\n",
      "wagnermr@iupui.edu\n",
      "zqian@umich.edu\n",
      "antranig@caret.cam.ac.uk\n",
      "gopal.ramasammycook@gmail.com\n",
      "david.horwitz@uct.ac.za\n",
      "david.horwitz@uct.ac.za\n",
      "david.horwitz@uct.ac.za\n",
      "david.horwitz@uct.ac.za\n",
      "stephen.marquard@uct.ac.za\n",
      "louis@media.berkeley.edu\n",
      "louis@media.berkeley.edu\n",
      "ray@media.berkeley.edu\n",
      "cwen@iupui.edu\n",
      "cwen@iupui.edu\n",
      "cwen@iupui.edu\n",
      "There were 27 lines in the file with From as the first word\n"
     ],
     "output_type":"stream"
    }
   ],
   "metadata":{
    "datalore":{
     "type":"CODE",
     "hide_input_from_viewers":false,
     "hide_output_from_viewers":false,
     "node_id":"ExJtqz23kwa3Pp4QF8fwe0"
    }
   }
  },
  {
   "cell_type":"markdown",
   "source":[
    "**8.6 Get Domain Names from Email id**"
   ],
   "attachments":{
    
   },
   "metadata":{
    "datalore":{
     "type":"MD",
     "hide_input_from_viewers":false,
     "hide_output_from_viewers":false,
     "node_id":"KcILaDLClqm6otrqb3vIbY"
    }
   }
  },
  {
   "cell_type":"code",
   "source":[
    "def get_domains(email_file):\n",
    "    for first in email_file:\n",
    "        domain_list = first.split('@')\n",
    "        get_specific = domain_list[1].split('.')[0]\n",
    "        print(get_specific)\n",
    "get_domains(open('email.txt', 'r'))"
   ],
   "execution_count":94,
   "outputs":[
    {
     "name":"stdout",
     "text":[
      "gmail\n",
      "yahoo\n",
      "hotmail\n"
     ],
     "output_type":"stream"
    }
   ],
   "metadata":{
    "datalore":{
     "type":"CODE",
     "hide_input_from_viewers":false,
     "hide_output_from_viewers":false,
     "node_id":"H3V7bhoeid7cxPKjA1n7Oo"
    }
   }
  },
  {
   "cell_type":"markdown",
   "source":[
    "# Dictionaries\n",
    "- Dictionaries are collection of key-values pairs with no order.\n",
    "- They are mutable.\n",
    "- We access values using keys and not index operators unlike in list.\n",
    "- dict(), {} are used to create an empty dictionary\n",
    "- add key:value pairs then"
   ],
   "attachments":{
    
   },
   "metadata":{
    "datalore":{
     "type":"MD",
     "hide_input_from_viewers":false,
     "hide_output_from_viewers":false,
     "node_id":"iYO7kYwQnXFCqJ18uv8Xvu"
    }
   }
  },
  {
   "cell_type":"code",
   "source":[
    "# dictionary of bag\n",
    "bag = {'shirts': 3, 'soap': 2, 'trimmer': 1}\n",
    "print(bag)\n",
    "print(bag['soap'])\n",
    "bag['trimmer'] = 4\n",
    "print(bag['trimmer'])"
   ],
   "execution_count":4,
   "outputs":[
    {
     "name":"stdout",
     "text":[
      "{'shirts': 3, 'soap': 2, 'trimmer': 1}\n",
      "2\n",
      "4\n"
     ],
     "output_type":"stream"
    }
   ],
   "metadata":{
    "datalore":{
     "type":"CODE",
     "hide_input_from_viewers":false,
     "hide_output_from_viewers":false,
     "node_id":"lgVekQXJc61GWaiVCd19yz"
    }
   }
  },
  {
   "cell_type":"code",
   "source":[
    "office = dict()\n",
    "office['staffs'] = 50\n",
    "office['desk'] = 22\n",
    "office['chair'] = 11\n",
    "print(office)"
   ],
   "execution_count":5,
   "outputs":[
    {
     "name":"stdout",
     "text":[
      "{'staffs': 50, 'desk': 22, 'chair': 11}\n"
     ],
     "output_type":"stream"
    }
   ],
   "metadata":{
    "datalore":{
     "type":"CODE",
     "hide_input_from_viewers":false,
     "hide_output_from_viewers":false,
     "node_id":"9gQi4Y7N0r2q7YvMTzYeux"
    }
   }
  },
  {
   "cell_type":"code",
   "source":[
    "dict_one = {}\n",
    "print(dict_one)"
   ],
   "execution_count":6,
   "outputs":[
    {
     "name":"stdout",
     "text":[
      "{}\n"
     ],
     "output_type":"stream"
    }
   ],
   "metadata":{
    "datalore":{
     "type":"CODE",
     "hide_input_from_viewers":false,
     "hide_output_from_viewers":false,
     "node_id":"lchOOppp6owXu25Zs993nW"
    }
   }
  },
  {
   "cell_type":"markdown",
   "source":[
    "## Counting With Dctionaries"
   ],
   "attachments":{
    
   },
   "metadata":{
    "datalore":{
     "type":"MD",
     "hide_input_from_viewers":false,
     "hide_output_from_viewers":false,
     "node_id":"iyqFrKMpRExUJkzyV9kXdq"
    }
   }
  },
  {
   "cell_type":"code",
   "source":[
    "names = ['bibin', 'nanditha', 'reshma', 'dona', 'bibin', ' binish', 'reshma', 'reshma']\n",
    "def internal_members(names):\n",
    "    count_dict = {}\n",
    "    for na in names:\n",
    "        if na not in count_dict:\n",
    "            count_dict[na] = 1\n",
    "        else:\n",
    "            count_dict[na] += 1\n",
    "    return count_dict\n",
    "print(internal_members(names))"
   ],
   "execution_count":3,
   "outputs":[
    {
     "name":"stdout",
     "text":[
      "{'bibin': 2, 'nanditha': 1, 'reshma': 3, 'dona': 1, ' binish': 1}\n"
     ],
     "output_type":"stream"
    }
   ],
   "metadata":{
    "datalore":{
     "type":"CODE",
     "hide_input_from_viewers":false,
     "hide_output_from_viewers":false,
     "node_id":"YQB50ZvBJ0UH9mXTVNDuCa"
    }
   }
  },
  {
   "cell_type":"markdown",
   "source":[
    "## get method \n",
    "- returns the value of a key if key is present in dictionary\n",
    "- if not present, returns a default value given by user.\n",
    "- takes 2 parameters, one is key and the other is default value user set."
   ],
   "attachments":{
    
   },
   "metadata":{
    "datalore":{
     "type":"MD",
     "hide_input_from_viewers":false,
     "hide_output_from_viewers":false,
     "node_id":"9iM8RX8JlmfCQTAnrVd1MR"
    }
   }
  },
  {
   "cell_type":"code",
   "source":[
    "details = {'name': 'jissmon', 'age': 35, 'job': 'software developer'}\n",
    "print(details.get('age'))\n",
    "print(details.get('hello', 0))"
   ],
   "execution_count":5,
   "outputs":[
    {
     "name":"stdout",
     "text":[
      "35\n",
      "0\n"
     ],
     "output_type":"stream"
    }
   ],
   "metadata":{
    "datalore":{
     "type":"CODE",
     "hide_input_from_viewers":false,
     "hide_output_from_viewers":false,
     "node_id":"TyRjA9Uz9bIvYYpRZYHEwK"
    }
   }
  },
  {
   "cell_type":"markdown",
   "source":[
    "## Simplified Counting with get method\n",
    "- Here if name not present we add one 0 and then add 1 as the value for that name.\n",
    "- if name present we count it's current value with 1. "
   ],
   "attachments":{
    
   },
   "metadata":{
    "datalore":{
     "type":"MD",
     "hide_input_from_viewers":false,
     "hide_output_from_viewers":false,
     "node_id":"yxL7tsgg7WQD3NuDBw5nIe"
    }
   }
  },
  {
   "cell_type":"code",
   "source":[
    "def count_val(names_list):\n",
    "    count_dict = dict()\n",
    "    for name in names_list:\n",
    "        count_dict[name] = count_dict.get(name, 0) + 1\n",
    "    return count_dict\n",
    "names = ['bibin', 'nanditha', 'reshma', 'dona', 'bibin', ' binish', 'reshma', 'reshma']\n",
    "print(count_val(names))"
   ],
   "execution_count":6,
   "outputs":[
    {
     "name":"stdout",
     "text":[
      "{'bibin': 2, 'nanditha': 1, 'reshma': 3, 'dona': 1, ' binish': 1}\n"
     ],
     "output_type":"stream"
    }
   ],
   "metadata":{
    "datalore":{
     "type":"CODE",
     "hide_input_from_viewers":false,
     "hide_output_from_viewers":false,
     "node_id":"9xE0QwCa2G9A6cqHlAr6HV"
    }
   }
  },
  {
   "cell_type":"markdown",
   "source":[
    "## Count  unique values in a list\/array\/series and store as key:value in a dictionary"
   ],
   "attachments":{
    
   },
   "metadata":{
    "datalore":{
     "type":"MD",
     "hide_input_from_viewers":false,
     "hide_output_from_viewers":false,
     "node_id":"2hz29ccJ4e9layzxANWZAS"
    }
   }
  },
  {
   "cell_type":"code",
   "source":[
    "def count_unique_vals(nums):\n",
    "    my_dict = {}\n",
    "    for num in nums:\n",
    "        # count unique items in a list\/array\/series and store to a dictionary\n",
    "        my_dict[num] = my_dict.get(num, 0) + 1\n",
    "    return my_dict\n",
    "nums = [1, 4, 1, 5, 5, 3, 2, 1, 2, 8, 5, 3, 8, 4, 2, 2]\n",
    "print(count_unique_vals(nums))    "
   ],
   "execution_count":null,
   "outputs":[
    
   ],
   "metadata":{
    "datalore":{
     "type":"CODE",
     "hide_input_from_viewers":false,
     "hide_output_from_viewers":false,
     "node_id":"DE4xgZYprIvGUcb86iWtm4"
    }
   }
  },
  {
   "cell_type":"markdown",
   "source":[
    "## Dictionary from a normal list(keys) and nested list(values)"
   ],
   "attachments":{
    
   },
   "metadata":{
    "datalore":{
     "type":"MD",
     "hide_input_from_viewers":false,
     "hide_output_from_viewers":false,
     "node_id":"GGI3mlvWlZFWwnwC8Qcn04"
    }
   }
  },
  {
   "cell_type":"code",
   "source":[
    "keys = ['name', 'age', 'job']\n",
    "values_nested  = [['jiss', 'akash', 'dsfdsaf'],[34, 45, 55],['developer', 'engineer', 'gfd']]\n",
    "final_dc ={}\n",
    "def attach_key_value_2(keys, values_nested):\n",
    "    v=0\n",
    "    for k in keys:\n",
    "        for a in range(v, len(values_nested)):\n",
    "            if final_dc.get(k) is None:\n",
    "                final_dc[k] = values_nested[a]\n",
    "                v+=1\n",
    "                break\n",
    "        \n",
    "    return final_dc\n",
    "attach_key_value_2(keys, values_nested)"
   ],
   "execution_count":2,
   "outputs":[
    {
     "data":{
      "text\/plain":[
       "{'name': ['jiss', 'akash', 'dsfdsaf'],\n",
       " 'age': [34, 45, 55],\n",
       " 'job': ['developer', 'engineer', 'gfd']}"
      ]
     },
     "metadata":{
      
     },
     "output_type":"display_data"
    }
   ],
   "metadata":{
    "datalore":{
     "type":"CODE",
     "hide_input_from_viewers":false,
     "hide_output_from_viewers":false,
     "node_id":"UmCCk8ALzFP6JkDE8KkqD7"
    }
   }
  },
  {
   "cell_type":"markdown",
   "source":[
    "## Exercise"
   ],
   "attachments":{
    
   },
   "metadata":{
    "datalore":{
     "type":"MD",
     "hide_input_from_viewers":false,
     "hide_output_from_viewers":false,
     "node_id":"0tuqbiwERoDKIFK6dwjx5B"
    }
   }
  },
  {
   "cell_type":"code",
   "source":[
    "text = input('Enter Line:')\n",
    "def count_words(text):\n",
    "    words_dict = dict()\n",
    "    words = text.split()\n",
    "    print(f'Words = {words}')\n",
    "    for word in words:\n",
    "        words_dict[word]= words_dict.get(word, 0) + 1\n",
    "    return words_dict\n",
    "print(count_words(text))"
   ],
   "execution_count":8,
   "outputs":[
    {
     "name":"stdout",
     "text":[
      "Enter Line: Lorem ipsum dolor sit amet, consectetur adipiscing elit, sed do eiusmod tempor incididunt ut labore et dolore magna aliqua. Ut enim ad minim veniam, quis nostrud exercitation ullamco laboris nisi ut aliquip ex ea ipsum ipsum.\n",
      "Words = ['Lorem', 'ipsum', 'dolor', 'sit', 'amet,', 'consectetur', 'adipiscing', 'elit,', 'sed', 'do', 'eiusmod', 'tempor', 'incididunt', 'ut', 'labore', 'et', 'dolore', 'magna', 'aliqua.', 'Ut', 'enim', 'ad', 'minim', 'veniam,', 'quis', 'nostrud', 'exercitation', 'ullamco', 'laboris', 'nisi', 'ut', 'aliquip', 'ex', 'ea', 'ipsum', 'ipsum.']\n",
      "{'Lorem': 1, 'ipsum': 2, 'dolor': 1, 'sit': 1, 'amet,': 1, 'consectetur': 1, 'adipiscing': 1, 'elit,': 1, 'sed': 1, 'do': 1, 'eiusmod': 1, 'tempor': 1, 'incididunt': 1, 'ut': 2, 'labore': 1, 'et': 1, 'dolore': 1, 'magna': 1, 'aliqua.': 1, 'Ut': 1, 'enim': 1, 'ad': 1, 'minim': 1, 'veniam,': 1, 'quis': 1, 'nostrud': 1, 'exercitation': 1, 'ullamco': 1, 'laboris': 1, 'nisi': 1, 'aliquip': 1, 'ex': 1, 'ea': 1, 'ipsum.': 1}\n"
     ],
     "output_type":"stream"
    }
   ],
   "metadata":{
    "datalore":{
     "type":"CODE",
     "hide_input_from_viewers":false,
     "hide_output_from_viewers":false,
     "node_id":"RGdBnaPnSKne2bR65rkUtI"
    }
   }
  },
  {
   "cell_type":"markdown",
   "source":[
    "## Definite Loops With Dictionaries\n",
    "- while looing thru dictionaries, use **two iteration variables**.\n",
    "- One go thru the keys and the other go thru the values.\n",
    "- Calling **items()** on dictionary gives keys and values in form of tuple "
   ],
   "attachments":{
    
   },
   "metadata":{
    "datalore":{
     "type":"MD",
     "hide_input_from_viewers":false,
     "hide_output_from_viewers":false,
     "node_id":"jmil2Drt1EyxmnasWojZvM"
    }
   }
  },
  {
   "cell_type":"code",
   "source":[
    "sample_dt = {'phones': 4, 'speaker': 5, 'headset': 8}\n",
    "for k, v in sample_dt.items():\n",
    "    print(f'Key:{k}, Value:{v}')"
   ],
   "execution_count":3,
   "outputs":[
    {
     "name":"stdout",
     "text":[
      "Key:phones, Value:4\n",
      "Key:speaker, Value:5\n",
      "Key:headset, Value:8\n"
     ],
     "output_type":"stream"
    }
   ],
   "metadata":{
    "datalore":{
     "type":"CODE",
     "hide_input_from_viewers":false,
     "hide_output_from_viewers":false,
     "node_id":"9KbgCJFztR7YyJgvmQSROX"
    }
   }
  },
  {
   "cell_type":"markdown",
   "source":[
    "## items() method\n",
    "\n",
    "- Key, value in tuple format."
   ],
   "attachments":{
    
   },
   "metadata":{
    "datalore":{
     "type":"MD",
     "hide_input_from_viewers":false,
     "hide_output_from_viewers":false,
     "node_id":"Ms0mW0pG3EHyek43QS5Khg"
    }
   }
  },
  {
   "cell_type":"code",
   "source":[
    "print(sample_dt.items())"
   ],
   "execution_count":14,
   "outputs":[
    {
     "name":"stdout",
     "text":[
      "dict_items([('phones', 4), ('speaker', 5), ('headset', 8)])\n"
     ],
     "output_type":"stream"
    }
   ],
   "metadata":{
    "datalore":{
     "type":"CODE",
     "hide_input_from_viewers":false,
     "hide_output_from_viewers":false,
     "node_id":"hAId3I255x0x9w2hKxEHOj"
    }
   }
  },
  {
   "cell_type":"markdown",
   "source":[
    "## values() method\n",
    "\n",
    "- get the values in dictionary"
   ],
   "attachments":{
    
   },
   "metadata":{
    "datalore":{
     "type":"MD",
     "hide_input_from_viewers":false,
     "hide_output_from_viewers":false,
     "node_id":"Ke19F9lO737zhoeo9TtxPn"
    }
   }
  },
  {
   "cell_type":"code",
   "source":[
    "print(sample_dt.values())"
   ],
   "execution_count":4,
   "outputs":[
    {
     "name":"stdout",
     "text":[
      "dict_values([4, 5, 8])\n"
     ],
     "output_type":"stream"
    }
   ],
   "metadata":{
    "datalore":{
     "type":"CODE",
     "hide_input_from_viewers":false,
     "hide_output_from_viewers":false,
     "node_id":"t0cQLK3lYLqGuUd85yQ1EP"
    }
   }
  },
  {
   "cell_type":"markdown",
   "source":[
    "## keys() method\n",
    "- get the keys in dictionary"
   ],
   "attachments":{
    
   },
   "metadata":{
    "datalore":{
     "type":"MD",
     "hide_input_from_viewers":false,
     "hide_output_from_viewers":false,
     "node_id":"JnFRwZ6rTapzl76LCHIrQV"
    }
   }
  },
  {
   "cell_type":"code",
   "source":[
    "print(sample_dt.keys())"
   ],
   "execution_count":5,
   "outputs":[
    {
     "name":"stdout",
     "text":[
      "dict_keys(['phones', 'speaker', 'headset'])\n"
     ],
     "output_type":"stream"
    }
   ],
   "metadata":{
    "datalore":{
     "type":"CODE",
     "hide_input_from_viewers":false,
     "hide_output_from_viewers":false,
     "node_id":"EEvlfjTr1HIDNrUOQ669Jl"
    }
   }
  },
  {
   "cell_type":"markdown",
   "source":[
    "## Update() method\n",
    "\n",
    "- Update a dictionary with another dictionary\n",
    "- Pass dictionary as a parameter to update().\n",
    "- Dictionary on which update() is called will be **permanently updated** with {key:value} pairs of second dictionary \n",
    "- Alternative to traditonal way of updating dictionary,"
   ],
   "attachments":{
    
   },
   "metadata":{
    "datalore":{
     "type":"MD",
     "hide_input_from_viewers":false,
     "hide_output_from_viewers":false,
     "node_id":"WUJi2E9cn855IXEa1VG546"
    }
   }
  },
  {
   "cell_type":"code",
   "source":[
    "dict1 = {'monitor': 1, 'cpu': '2', 'mouse': 2}\n",
    "dict2 = {'glass': 4, 'stand': 4}\n",
    "dict1.update(dict2)\n",
    "print(dict1)"
   ],
   "execution_count":1,
   "outputs":[
    {
     "name":"stdout",
     "text":[
      "{'monitor': 1, 'cpu': '2', 'mouse': 2, 'glass': 4, 'stand': 4}\n"
     ],
     "output_type":"stream"
    }
   ],
   "metadata":{
    "datalore":{
     "type":"CODE",
     "hide_input_from_viewers":false,
     "hide_output_from_viewers":false,
     "node_id":"HkwYsByIqpC0M8ni3kdDWm"
    }
   }
  },
  {
   "cell_type":"code",
   "source":[
    "names = {'jissmon': 3, 'ajith': 6}\n",
    "names_trail = {'justin': 7}\n",
    "names.update(names_trail)\n",
    "print(names)"
   ],
   "execution_count":3,
   "outputs":[
    {
     "name":"stdout",
     "text":[
      "{'jissmon': 3, 'ajith': 6, 'justin': 7}\n"
     ],
     "output_type":"stream"
    }
   ],
   "metadata":{
    "datalore":{
     "type":"CODE",
     "hide_input_from_viewers":false,
     "hide_output_from_viewers":false,
     "node_id":"D9bHY4vdHrNltAv4lZQBbu"
    }
   }
  },
  {
   "cell_type":"markdown",
   "source":[
    "## Merging Dictionaries with astericks\n",
    "- Merge multiple dictionaries to a new one, while not updating the original ones."
   ],
   "attachments":{
    
   },
   "metadata":{
    "datalore":{
     "type":"MD",
     "hide_input_from_viewers":false,
     "hide_output_from_viewers":false,
     "node_id":"fUjA7I3zzwZCxVkvRMTkYr"
    }
   }
  },
  {
   "cell_type":"code",
   "source":[
    "roll_no = {'a': 23, 'b': 55}\n",
    "roll_no_1 = {'c': 44, 'd': 88}\n",
    "r_dict = {**roll_no, **roll_no_1}\n",
    "print(r_dict) \n",
    "# r_dict is the new dictionary here."
   ],
   "execution_count":11,
   "outputs":[
    {
     "name":"stdout",
     "text":[
      "{'a': 23, 'b': 55, 'c': 44, 'd': 88}\n"
     ],
     "output_type":"stream"
    }
   ],
   "metadata":{
    "datalore":{
     "type":"CODE",
     "hide_input_from_viewers":false,
     "hide_output_from_viewers":false,
     "node_id":"ZKpmB1y7b1BoFSSVFodcQW"
    }
   }
  },
  {
   "cell_type":"markdown",
   "source":[
    "### Dealing with Duplicates while merge\n",
    "- While merging, if dictionaries have **same keys**, it is redundant\n",
    "  and both considered as one during merge."
   ],
   "attachments":{
    
   },
   "metadata":{
    "datalore":{
     "type":"MD",
     "hide_input_from_viewers":false,
     "hide_output_from_viewers":false,
     "node_id":"MAJXxwqf2cIMG1UKcxKzBH"
    }
   }
  },
  {
   "cell_type":"code",
   "source":[
    "countries_1 = {'india': 'asia', 'usa': 'north-america', 'iran': 'asia'}\n",
    "countries_2 = {'iran': 'europe', 'uk': 'europe', 'sa': 'africa'}\n",
    "countries_comb = {**countries_1, **countries_2}\n",
    "print(countries_comb)"
   ],
   "execution_count":13,
   "outputs":[
    {
     "name":"stdout",
     "text":[
      "{'india': 'asia', 'usa': 'north-america', 'iran': 'europe', 'uk': 'europe', 'sa': 'africa'}\n"
     ],
     "output_type":"stream"
    }
   ],
   "metadata":{
    "datalore":{
     "type":"CODE",
     "hide_input_from_viewers":false,
     "hide_output_from_viewers":false,
     "node_id":"EIT91H9yjEnLXyxTBSWdEs"
    }
   }
  },
  {
   "cell_type":"markdown",
   "source":[
    "## Exercise Programs"
   ],
   "attachments":{
    
   },
   "metadata":{
    "datalore":{
     "type":"MD",
     "hide_input_from_viewers":false,
     "hide_output_from_viewers":false,
     "node_id":"WkNkxVpB6aEDGYvA06e41T"
    }
   }
  },
  {
   "cell_type":"markdown",
   "source":[
    "**9.4 Write a program to read through the mbox-short.txt and figure out who has sent the greatest number of mail messages. The program looks for 'From ' lines and takes the second word of those lines as the person who sent the mail. The program creates a Python dictionary that maps the sender's mail address to a count of the number of times they appear in the file. After the dictionary is produced, the program reads through the dictionary using a maximum loop to find the most prolific committer.**"
   ],
   "attachments":{
    
   },
   "metadata":{
    "datalore":{
     "type":"MD",
     "hide_input_from_viewers":false,
     "hide_output_from_viewers":false,
     "node_id":"YeFVjeyuENVySrYFprOXIc"
    }
   }
  },
  {
   "cell_type":"code",
   "source":[
    "def most_sender():\n",
    "    word_dict = {}\n",
    "    word_list = []\n",
    "    inp_file = input('Enter File: ')\n",
    "    handle = open(inp_file, 'r')\n",
    "    for line in handle:\n",
    "        if not line.startswith('From:'):\n",
    "            continue\n",
    "        if line.startswith('From'):\n",
    "            sender = line.split()[1]\n",
    "            word_list.append(sender)\n",
    "    bigkey = None\n",
    "    bigvalue = None\n",
    "    for word in word_list:\n",
    "        word_dict[word] = word_dict.get(word, 0) + 1\n",
    "    bigkey = max(word_dict, key=word_dict.get)\n",
    "    bigvalue = word_dict[bigkey]\n",
    "    return f'{bigkey} {bigvalue}'\n",
    "print(most_sender())\n"
   ],
   "execution_count":16,
   "outputs":[
    {
     "name":"stdout",
     "text":[
      "Enter File:  mbox-short.txt\n",
      "cwen@iupui.edu 5\n"
     ],
     "output_type":"stream"
    }
   ],
   "metadata":{
    "datalore":{
     "type":"CODE",
     "hide_input_from_viewers":false,
     "hide_output_from_viewers":false,
     "node_id":"526k5As0zFiU28hHN939rL"
    }
   }
  },
  {
   "cell_type":"markdown",
   "source":[
    "## sorting a dictionary by value\n",
    "\n",
    "https:\/\/stackoverflow.com\/a\/613218"
   ],
   "attachments":{
    
   },
   "metadata":{
    "datalore":{
     "type":"MD",
     "hide_input_from_viewers":false,
     "hide_output_from_viewers":false,
     "node_id":"2V5OEnHyORbIQwY8RVfXi5"
    }
   }
  },
  {
   "cell_type":"code",
   "source":[
    "x = {1: 2, 3: 4, 4: 3, 2: 1, 0: 0} \n",
    "print({k: v for k, v in sorted(x.items(), key=lambda item: item[1])})"
   ],
   "execution_count":6,
   "outputs":[
    {
     "name":"stdout",
     "text":[
      "{0: 0, 2: 1, 1: 2, 4: 3, 3: 4}\n"
     ],
     "output_type":"stream"
    }
   ],
   "metadata":{
    "datalore":{
     "type":"CODE",
     "hide_input_from_viewers":false,
     "hide_output_from_viewers":false,
     "node_id":"ueIQUs2RHld0ccYxFUQvmU"
    }
   }
  },
  {
   "cell_type":"markdown",
   "source":[
    "## sorting a dictionary by key\n",
    "\n",
    "https:\/\/stackoverflow.com\/a\/9001529"
   ],
   "attachments":{
    
   },
   "metadata":{
    "datalore":{
     "type":"MD",
     "hide_input_from_viewers":false,
     "hide_output_from_viewers":false,
     "node_id":"LSum16VCAP1Dk8XkWMObhj"
    }
   }
  },
  {
   "cell_type":"code",
   "source":[
    "import collections\n",
    "\n",
    "d = {2:3, 1:89, 4:5, 3:0}\n",
    "od = collections.OrderedDict(sorted(d.items()))\n",
    "\n",
    "print(od)"
   ],
   "execution_count":5,
   "outputs":[
    {
     "name":"stdout",
     "text":[
      "OrderedDict([(1, 89), (2, 3), (3, 0), (4, 5)])\n"
     ],
     "output_type":"stream"
    }
   ],
   "metadata":{
    "datalore":{
     "type":"CODE",
     "hide_input_from_viewers":false,
     "hide_output_from_viewers":false,
     "node_id":"7OdWh0htf94QMNqKZnOV99"
    }
   }
  },
  {
   "cell_type":"markdown",
   "source":[
    "# Tuples\n",
    "- Tuples are another kind of sequence which functions like a list.\n",
    "- Tuples are immutable meaning values are not changable.\n",
    "- Can access the elements using index operator.\n",
    "- Possible to do slicing on tuples.\n",
    "- Additionally, we can't do append, remove, sort.. functions on tuple."
   ],
   "attachments":{
    
   },
   "metadata":{
    "datalore":{
     "type":"MD",
     "hide_input_from_viewers":false,
     "hide_output_from_viewers":false,
     "node_id":"vM18kWAuVWfCOnPk8pMXSF"
    }
   }
  },
  {
   "cell_type":"code",
   "source":[
    "x = (1, 2, 3, 4, 7, 19, 20)\n",
    "print(x)\n",
    "print(x[2])"
   ],
   "execution_count":2,
   "outputs":[
    {
     "name":"stdout",
     "text":[
      "(1, 2, 3, 4)\n",
      "3\n"
     ],
     "output_type":"stream"
    }
   ],
   "metadata":{
    "datalore":{
     "type":"CODE",
     "hide_input_from_viewers":false,
     "hide_output_from_viewers":false,
     "node_id":"nU4cjsTCvZTLfslNCtpM0J"
    }
   }
  },
  {
   "cell_type":"code",
   "source":[
    "x[3] = 111\n",
    "print(x)"
   ],
   "execution_count":3,
   "outputs":[
    {
     "ename":"TypeError",
     "evalue":"TypeError: 'tuple' object does not support item assignment",
     "traceback":[
      "\u001b[0;31m---------------------------------------------------------------------------",
      "Traceback (most recent call last)",
      "    at line 1 in <module>",
      "TypeError: 'tuple' object does not support item assignment"
     ],
     "output_type":"error"
    }
   ],
   "metadata":{
    "datalore":{
     "type":"CODE",
     "hide_input_from_viewers":false,
     "hide_output_from_viewers":false,
     "node_id":"m4WoDOzi4WYIuT38L5EGEU"
    }
   }
  },
  {
   "cell_type":"code",
   "source":[
    "print(x[1:4])"
   ],
   "execution_count":4,
   "outputs":[
    {
     "name":"stdout",
     "text":[
      "(2, 3, 4)\n"
     ],
     "output_type":"stream"
    }
   ],
   "metadata":{
    "datalore":{
     "type":"CODE",
     "hide_input_from_viewers":false,
     "hide_output_from_viewers":false,
     "node_id":"rTQvmU6eZEZM4hrCOfymFH"
    }
   }
  },
  {
   "cell_type":"code",
   "source":[
    "names = ('bikes', 'trucks', 'jets')\n",
    "for each_one in names:\n",
    "    print(each_one)"
   ],
   "execution_count":5,
   "outputs":[
    {
     "name":"stdout",
     "text":[
      "bikes\n",
      "trucks\n",
      "jets\n"
     ],
     "output_type":"stream"
    }
   ],
   "metadata":{
    "datalore":{
     "type":"CODE",
     "hide_input_from_viewers":false,
     "hide_output_from_viewers":false,
     "node_id":"O4WD5rJ3gChLt43R7bRhZx"
    }
   }
  },
  {
   "cell_type":"markdown",
   "source":[
    "## Tuples and Assignment\n",
    "- Assignment of a tuple to another tuple is possible.\n",
    "- Each element on tuple at LHS gets the values of tuple at RHS.\n",
    "- Thus we can go through each element "
   ],
   "attachments":{
    
   },
   "metadata":{
    "datalore":{
     "type":"MD",
     "hide_input_from_viewers":false,
     "hide_output_from_viewers":false,
     "node_id":"3hCDrXOliNwyMlWsqJN6Wh"
    }
   }
  },
  {
   "cell_type":"code",
   "source":[
    "(name, age, my_class) = ('jissmon', 15, 5)\n",
    "print(name, age, my_class)"
   ],
   "execution_count":10,
   "outputs":[
    {
     "name":"stdout",
     "text":[
      "jissmon 15 5\n"
     ],
     "output_type":"stream"
    }
   ],
   "metadata":{
    "datalore":{
     "type":"CODE",
     "hide_input_from_viewers":false,
     "hide_output_from_viewers":false,
     "node_id":"LxhXOi1dc6cL6dhA9YCztP"
    }
   }
  },
  {
   "cell_type":"code",
   "source":[
    "(a, b, c) = (10, 20, 30)\n",
    "print(a, b, c)"
   ],
   "execution_count":11,
   "outputs":[
    {
     "name":"stdout",
     "text":[
      "10 20 30\n"
     ],
     "output_type":"stream"
    }
   ],
   "metadata":{
    "datalore":{
     "type":"CODE",
     "hide_input_from_viewers":false,
     "hide_output_from_viewers":false,
     "node_id":"WgFnnoS2ftYvsmNeF11oQc"
    }
   }
  },
  {
   "cell_type":"markdown",
   "source":[
    "## Comparison operators using tuples\n",
    "- Like assignment operation, can compare b\/w two tuples.\n",
    "- fist element in tuple at LHS is compared with the same in tuple at RHS. \n",
    "- if both are equal, move to compare with the next element in both tuple.\n",
    "- if that is satisfied, returns a boolean. and comparison stops there.\n",
    "- This how it works."
   ],
   "attachments":{
    
   },
   "metadata":{
    "datalore":{
     "type":"MD",
     "hide_input_from_viewers":false,
     "hide_output_from_viewers":false,
     "node_id":"9KNP4OvvQhO89jnDzpDOXD"
    }
   }
  },
  {
   "cell_type":"code",
   "source":[
    "(1, 4, 9) < (2, 1, 100)"
   ],
   "execution_count":13,
   "outputs":[
    {
     "data":{
      "text\/plain":[
       "True"
      ]
     },
     "metadata":{
      
     },
     "output_type":"display_data"
    }
   ],
   "metadata":{
    "datalore":{
     "type":"CODE",
     "hide_input_from_viewers":false,
     "hide_output_from_viewers":false,
     "node_id":"AuWTeNWoxH1ntl4VKaMOEW"
    }
   }
  },
  {
   "cell_type":"code",
   "source":[
    "(10, 5, 333) > (10, 20, 100)"
   ],
   "execution_count":14,
   "outputs":[
    {
     "data":{
      "text\/plain":[
       "False"
      ]
     },
     "metadata":{
      
     },
     "output_type":"display_data"
    }
   ],
   "metadata":{
    "datalore":{
     "type":"CODE",
     "hide_input_from_viewers":false,
     "hide_output_from_viewers":false,
     "node_id":"jRGx1rF7wJ76ATiuU82GlB"
    }
   }
  },
  {
   "cell_type":"markdown",
   "source":[
    "## Tuples and Dictionaries\n",
    "- Calling items() method on dictionary returns a tuple of (key, value)."
   ],
   "attachments":{
    
   },
   "metadata":{
    "datalore":{
     "type":"MD",
     "hide_input_from_viewers":false,
     "hide_output_from_viewers":false,
     "node_id":"FHTK6eXbVVwNFHgh7Vr1je"
    }
   }
  },
  {
   "cell_type":"code",
   "source":[
    "dict_val = {'a': 55, 'd': 66, 'c': 88, 'b': 22}\n",
    "print(dict_val.items())"
   ],
   "execution_count":19,
   "outputs":[
    {
     "name":"stdout",
     "text":[
      "dict_items([('a', 55), ('d', 66), ('c', 88), ('b', 22)])\n"
     ],
     "output_type":"stream"
    }
   ],
   "metadata":{
    "datalore":{
     "type":"CODE",
     "hide_input_from_viewers":false,
     "hide_output_from_viewers":false,
     "node_id":"WDfl6rIwBW2CsIFniIYGAO"
    }
   }
  },
  {
   "cell_type":"code",
   "source":[
    "# Can apply sorted() on dictionaries\n",
    "sorted_dict = sorted(dict_val.items())\n",
    "print(sorted_dict)"
   ],
   "execution_count":21,
   "outputs":[
    {
     "name":"stdout",
     "text":[
      "[('a', 55), ('b', 22), ('c', 88), ('d', 66)]\n"
     ],
     "output_type":"stream"
    }
   ],
   "metadata":{
    "datalore":{
     "type":"CODE",
     "hide_input_from_viewers":false,
     "hide_output_from_viewers":false,
     "node_id":"cYANkYvHj1lbiDGHXC1ZlZ"
    }
   }
  },
  {
   "cell_type":"markdown",
   "source":[
    "## Sorting dictionary based on keys "
   ],
   "attachments":{
    
   },
   "metadata":{
    "datalore":{
     "type":"MD",
     "hide_input_from_viewers":false,
     "hide_output_from_viewers":false,
     "node_id":"ubfTnjRuPxFUmRzzHPTTdr"
    }
   }
  },
  {
   "cell_type":"code",
   "source":[
    "for k,v in sorted(dict_val.items()):\n",
    "    print(k,v)\n",
    "\n",
    "# Here v sort based on key."
   ],
   "execution_count":22,
   "outputs":[
    {
     "name":"stdout",
     "text":[
      "a 55\n",
      "b 22\n",
      "c 88\n",
      "d 66\n"
     ],
     "output_type":"stream"
    }
   ],
   "metadata":{
    "datalore":{
     "type":"CODE",
     "hide_input_from_viewers":false,
     "hide_output_from_viewers":false,
     "node_id":"ZgWrslCnTvL8PgkZmeUlWK"
    }
   }
  },
  {
   "cell_type":"markdown",
   "source":[
    "## Sorting dictionary based on values"
   ],
   "attachments":{
    
   },
   "metadata":{
    "datalore":{
     "type":"MD",
     "hide_input_from_viewers":false,
     "hide_output_from_viewers":false,
     "node_id":"AHHvknXX4rn9El4mYwghrv"
    }
   }
  },
  {
   "cell_type":"code",
   "source":[
    "def sort_dicts():\n",
    "    dict_val_2 = {'a': 55, 'd': 66, 'c': 88, 'b': 22, 'e': 85}\n",
    "    tmp = []\n",
    "    for k, v in dict_val_2.items():\n",
    "        tmp.append((v, k))\n",
    "    return sorted(tmp)\n",
    "print(sort_dicts())\n",
    "\n",
    "# We sort the dictionary based on values here."
   ],
   "execution_count":26,
   "outputs":[
    {
     "name":"stdout",
     "text":[
      "[(22, 'b'), (55, 'a'), (66, 'd'), (85, 'e'), (88, 'c')]\n"
     ],
     "output_type":"stream"
    }
   ],
   "metadata":{
    "datalore":{
     "type":"CODE",
     "hide_input_from_viewers":false,
     "hide_output_from_viewers":false,
     "node_id":"k6QsSwvsqYfGtXQvhJoZT9"
    }
   }
  },
  {
   "cell_type":"markdown",
   "source":[
    "## Exercise Program"
   ],
   "attachments":{
    
   },
   "metadata":{
    "datalore":{
     "type":"MD",
     "hide_input_from_viewers":false,
     "hide_output_from_viewers":false,
     "node_id":"U4gvvS0UWzvGowAbLWTbss"
    }
   }
  },
  {
   "cell_type":"markdown",
   "source":[
    "**10.2 Write a program to read through the mbox-short.txt and figure out the distribution by hour of the day for each of the messages. You can pull the hour out from the 'From ' line by finding the time and then splitting the string a second time using a colon.**\n",
    "\n",
    "**From stephen.marquard@uct.ac.za Sat Jan  5 09:14:16 2008**\n",
    "\n",
    "**Once you have accumulated the counts for each hour, print out the counts, sorted by hour as shown below.**"
   ],
   "attachments":{
    
   },
   "metadata":{
    "datalore":{
     "type":"MD",
     "hide_input_from_viewers":false,
     "hide_output_from_viewers":false,
     "node_id":"y4SZinN9wfpqjlwsL50km4"
    }
   }
  },
  {
   "cell_type":"code",
   "source":[
    "def find_hour_counts():\n",
    "    time_count_dict = {}\n",
    "    hour_list = []\n",
    "    inp = input('Enter File: ')\n",
    "    fl_handle = open(inp, 'r')\n",
    "    for file_line in fl_handle:\n",
    "        if file_line.startswith('From:'):\n",
    "            continue\n",
    "        if file_line.startswith('From'):\n",
    "            utc_time = file_line.split()[-2]\n",
    "            utc_hour = utc_time.split(':')[0]\n",
    "            hour_list.append(utc_hour)\n",
    "    for hour in hour_list:\n",
    "        time_count_dict[hour] = time_count_dict.get(hour, 0) + 1\n",
    "    sorted_times = sorted([(k, v) for k, v in time_count_dict.items()])\n",
    "    for hr_count in sorted_times:\n",
    "        print(f'{hr_count[0]} {hr_count[1]}')\n",
    "find_hour_counts()"
   ],
   "execution_count":43,
   "outputs":[
    {
     "name":"stdout",
     "text":[
      "Enter File:  mbox-short.txt\n",
      "04 3\n",
      "06 1\n",
      "07 1\n",
      "09 2\n",
      "10 3\n",
      "11 6\n",
      "14 1\n",
      "15 2\n",
      "16 4\n",
      "17 2\n",
      "18 1\n",
      "19 1\n"
     ],
     "output_type":"stream"
    }
   ],
   "metadata":{
    "datalore":{
     "type":"CODE",
     "hide_input_from_viewers":false,
     "hide_output_from_viewers":false,
     "node_id":"oN5p9OtN7V8liG7EOx5U3a"
    }
   }
  },
  {
   "cell_type":"markdown",
   "source":[
    "# List Comprehension\n",
    "- Returns a list, reduce line of code\n",
    "- Can create new list based on existing list in one line of code.\n",
    "- Avoid using this when v have complex loops and various conditions to work on.\n",
    "- Syntax\n",
    "    - [expression for-loop]"
   ],
   "attachments":{
    
   },
   "metadata":{
    "datalore":{
     "type":"MD",
     "hide_input_from_viewers":false,
     "hide_output_from_viewers":false,
     "node_id":"g2UtN1noSlKXati6pn5bz7"
    }
   }
  },
  {
   "cell_type":"code",
   "source":[
    "numbers = []\n",
    "for i in range(1, 6):\n",
    "    numbers.append(2**i)\n",
    "print(numbers)\n",
    "\n",
    "# the same thing can be done using list comprehension."
   ],
   "execution_count":2,
   "outputs":[
    {
     "name":"stdout",
     "text":[
      "[2, 4, 8, 16, 32]\n"
     ],
     "output_type":"stream"
    }
   ],
   "metadata":{
    "datalore":{
     "type":"CODE",
     "hide_input_from_viewers":false,
     "hide_output_from_viewers":false,
     "node_id":"fO4Ho2cztRtAMBzkDoUY8C"
    }
   }
  },
  {
   "cell_type":"code",
   "source":[
    "print([2**i for i in range(1, 6)])\n",
    "\n",
    "# Here v ignored extra use of empty list variable, append() .. "
   ],
   "execution_count":5,
   "outputs":[
    {
     "name":"stdout",
     "text":[
      "[2, 4, 8, 16, 32]\n"
     ],
     "output_type":"stream"
    }
   ],
   "metadata":{
    "datalore":{
     "type":"CODE",
     "hide_input_from_viewers":false,
     "hide_output_from_viewers":false,
     "node_id":"lANscNCJ9IKTOGPtiuuAPf"
    }
   }
  },
  {
   "cell_type":"markdown",
   "source":[
    "## Conditionals in List Comprehension\n",
    "- Can use along condiditonal statements in list comprehension.\n",
    "- Syntax\n",
    "    - [expression iteration conditionals]"
   ],
   "attachments":{
    
   },
   "metadata":{
    "datalore":{
     "type":"MD",
     "hide_input_from_viewers":false,
     "hide_output_from_viewers":false,
     "node_id":"ugoIasE45afdjHmrrJ4TFp"
    }
   }
  },
  {
   "cell_type":"code",
   "source":[
    "# get even numbers with in a range\n",
    "evn_numbers = []\n",
    "for i in range(1,10):\n",
    "    if i % 2 == 0:\n",
    "        evn_numbers.append(i)\n",
    "print(evn_numbers)"
   ],
   "execution_count":6,
   "outputs":[
    {
     "name":"stdout",
     "text":[
      "[2, 4, 6, 8]\n"
     ],
     "output_type":"stream"
    }
   ],
   "metadata":{
    "datalore":{
     "type":"CODE",
     "hide_input_from_viewers":false,
     "hide_output_from_viewers":false,
     "node_id":"7iJlCRlMSuCkWxHYTEF88i"
    }
   }
  },
  {
   "cell_type":"code",
   "source":[
    "evn_numebr = [i for i in range(1, 10) if i % 2 ==0]\n",
    "print(evn_numebr)\n",
    "\n",
    "# [expression for-loop conditionals]\n",
    "# if statements goes at the end."
   ],
   "execution_count":10,
   "outputs":[
    {
     "name":"stdout",
     "text":[
      "[2, 4, 6, 8]\n"
     ],
     "output_type":"stream"
    }
   ],
   "metadata":{
    "datalore":{
     "type":"CODE",
     "hide_input_from_viewers":false,
     "hide_output_from_viewers":false,
     "node_id":"emozCHAPHCQkBfqCyyLLdd"
    }
   }
  },
  {
   "cell_type":"markdown",
   "source":[
    "## Using Nested If Statements\n",
    "- Syntax\n",
    "    - [expression for loop conditional1 conditional2]"
   ],
   "attachments":{
    
   },
   "metadata":{
    "datalore":{
     "type":"MD",
     "hide_input_from_viewers":false,
     "hide_output_from_viewers":false,
     "node_id":"1kUE6XCMSQv0bpyN09fecz"
    }
   }
  },
  {
   "cell_type":"code",
   "source":[
    "nums = []\n",
    "for i in range(1, 100):\n",
    "    if i % 2 == 0:\n",
    "        if i % 5 ==0:\n",
    "            nums.append(i)\n",
    "print(nums)\n",
    "             "
   ],
   "execution_count":12,
   "outputs":[
    {
     "name":"stdout",
     "text":[
      "[10, 20, 30, 40, 50, 60, 70, 80, 90]\n"
     ],
     "output_type":"stream"
    }
   ],
   "metadata":{
    "datalore":{
     "type":"CODE",
     "hide_input_from_viewers":false,
     "hide_output_from_viewers":false,
     "node_id":"YyIXGoK1anb7MHrXLyNOXU"
    }
   }
  },
  {
   "cell_type":"code",
   "source":[
    "nums = [i for i in range(1, 100) if i % 2== 0 if i % 5 == 0]\n",
    "print(nums)"
   ],
   "execution_count":13,
   "outputs":[
    {
     "name":"stdout",
     "text":[
      "[10, 20, 30, 40, 50, 60, 70, 80, 90]\n"
     ],
     "output_type":"stream"
    }
   ],
   "metadata":{
    "datalore":{
     "type":"CODE",
     "hide_input_from_viewers":false,
     "hide_output_from_viewers":false,
     "node_id":"ghQfXuYpguKOC2O3VQ7d1d"
    }
   }
  },
  {
   "cell_type":"markdown",
   "source":[
    "## Using if-else \n",
    "- Syntax\n",
    "    - [expression1 if-conditonal else-statement expression2 for-loop]"
   ],
   "attachments":{
    
   },
   "metadata":{
    "datalore":{
     "type":"MD",
     "hide_input_from_viewers":false,
     "hide_output_from_viewers":false,
     "node_id":"3RdQkgSUEXweAwcRv5ZfpD"
    }
   }
  },
  {
   "cell_type":"code",
   "source":[
    "data = []\n",
    "names = ['abin', 'jissmon', 'jibin', 'deepak', 'jissmon', 'jose']\n",
    "for x in names:\n",
    "    if x == 'jissmon':\n",
    "        data.append(x)\n",
    "    else:\n",
    "        data.append('Not Found')\n",
    "print(data)"
   ],
   "execution_count":17,
   "outputs":[
    {
     "name":"stdout",
     "text":[
      "['Not Found', 'jissmon', 'Not Found', 'Not Found', 'jissmon', 'Not Found']\n"
     ],
     "output_type":"stream"
    }
   ],
   "metadata":{
    "datalore":{
     "type":"CODE",
     "hide_input_from_viewers":false,
     "hide_output_from_viewers":false,
     "node_id":"sVwZrYot82iWhCgeZeeRD9"
    }
   }
  },
  {
   "cell_type":"code",
   "source":[
    "data = [x if x == 'jissmon' else 'Not Found'  for x in names]\n",
    "print(data)"
   ],
   "execution_count":18,
   "outputs":[
    {
     "name":"stdout",
     "text":[
      "['Not Found', 'jissmon', 'Not Found', 'Not Found', 'jissmon', 'Not Found']\n"
     ],
     "output_type":"stream"
    }
   ],
   "metadata":{
    "datalore":{
     "type":"CODE",
     "hide_input_from_viewers":false,
     "hide_output_from_viewers":false,
     "node_id":"5VmhfxFbQfP33xWLmCZytF"
    }
   }
  },
  {
   "cell_type":"markdown",
   "source":[
    "## Exercise\n",
    "- print even, odd from a range using list comprehension."
   ],
   "attachments":{
    
   },
   "metadata":{
    "datalore":{
     "type":"MD",
     "hide_input_from_viewers":false,
     "hide_output_from_viewers":false,
     "node_id":"Xckq3QVzS8pRPYDmT7fhmE"
    }
   }
  },
  {
   "cell_type":"code",
   "source":[
    "even_odd_list = [\"Even\" if str % 2 == 0 else \"Odd\" for str in range(1, 100)]\n",
    "print(even_odd_list)"
   ],
   "execution_count":21,
   "outputs":[
    {
     "name":"stdout",
     "text":[
      "['Odd', 'Even', 'Odd', 'Even', 'Odd', 'Even', 'Odd', 'Even', 'Odd', 'Even', 'Odd', 'Even', 'Odd', 'Even', 'Odd', 'Even', 'Odd', 'Even', 'Odd', 'Even', 'Odd', 'Even', 'Odd', 'Even', 'Odd', 'Even', 'Odd', 'Even', 'Odd', 'Even', 'Odd', 'Even', 'Odd', 'Even', 'Odd', 'Even', 'Odd', 'Even', 'Odd', 'Even', 'Odd', 'Even', 'Odd', 'Even', 'Odd', 'Even', 'Odd', 'Even', 'Odd', 'Even', 'Odd', 'Even', 'Odd', 'Even', 'Odd', 'Even', 'Odd', 'Even', 'Odd', 'Even', 'Odd', 'Even', 'Odd', 'Even', 'Odd', 'Even', 'Odd', 'Even', 'Odd', 'Even', 'Odd', 'Even', 'Odd', 'Even', 'Odd', 'Even', 'Odd', 'Even', 'Odd', 'Even', 'Odd', 'Even', 'Odd', 'Even', 'Odd', 'Even', 'Odd', 'Even', 'Odd', 'Even', 'Odd', 'Even', 'Odd', 'Even', 'Odd', 'Even', 'Odd', 'Even', 'Odd']\n"
     ],
     "output_type":"stream"
    }
   ],
   "metadata":{
    "datalore":{
     "type":"CODE",
     "hide_input_from_viewers":false,
     "hide_output_from_viewers":false,
     "node_id":"QVCxWVTlZs3f084crj1Zbw"
    }
   }
  }
 ],
 "metadata":{
  "kernelspec":{
   "display_name":"Python",
   "language":"python",
   "name":"python"
  },
  "datalore":{
   "version":1,
   "computation_mode":"JUPYTER",
   "package_manager":"pip",
   "base_environment":"default",
   "packages":[
    
   ]
  }
 },
 "nbformat":4,
 "nbformat_minor":4
}