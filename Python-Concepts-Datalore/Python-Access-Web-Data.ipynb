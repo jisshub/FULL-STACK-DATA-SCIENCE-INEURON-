{
 "cells":[
  {
   "cell_type":"markdown",
   "source":[
    "# Regular Expressions\n",
    "- knowns as regex\n",
    "- import the library re\n",
    "- **re.search()** to see if a string matches a regex\n",
    "- **re.findall()** to extract portions of a string that matches regex.\n",
    "  "
   ],
   "attachments":{
    
   },
   "metadata":{
    "datalore":{
     "type":"MD",
     "hide_input_from_viewers":false,
     "hide_output_from_viewers":false,
     "node_id":"fBwB7uQVjb2AoP982KB0OZ"
    }
   }
  },
  {
   "cell_type":"code",
   "source":[
    "import re\n",
    "r_file = open('regex.txt', 'r')\n",
    "for line in r_file:\n",
    "    line.rstrip()\n",
    "    if re.search('ajith', line):\n",
    "        print(line)\n",
    "\n",
    "# searches for string 'ajith' and prints the respective line."
   ],
   "execution_count":12,
   "outputs":[
    {
     "name":"stdout",
     "text":[
      "ajith kumar\n",
      "\n",
      "welcome to wonderland ajith\n",
      "\n",
      "thala ajith\n",
      "\n",
      "ajith is a good person\n"
     ],
     "output_type":"stream"
    }
   ],
   "metadata":{
    "datalore":{
     "type":"CODE",
     "hide_input_from_viewers":false,
     "hide_output_from_viewers":false,
     "node_id":"32xzieSe2UPhjRgXoFARmS"
    }
   }
  },
  {
   "cell_type":"markdown",
   "source":[
    "## using re.search like startswith\n",
    "- Searches for a pattern that begins with a string and prints that line.\n",
    "- Returns the line that begins with that pattern, ignore others. \n",
    "- use carrot(^) symbol at the beginning of pattern that need to search."
   ],
   "attachments":{
    
   },
   "metadata":{
    "datalore":{
     "type":"MD",
     "hide_input_from_viewers":false,
     "hide_output_from_viewers":false,
     "node_id":"w2r9BO0K4EI8dO12EWTNYB"
    }
   }
  },
  {
   "cell_type":"code",
   "source":[
    "import re\n",
    "r_file = open('regex.txt', 'r')\n",
    "for line in r_file:\n",
    "    line.rstrip()\n",
    "    if re.search('^ajith', line):\n",
    "        print(line)\n",
    "\n",
    "# returns line that starts with pattern 'ajith'."
   ],
   "execution_count":13,
   "outputs":[
    {
     "name":"stdout",
     "text":[
      "ajith kumar\n",
      "\n",
      "ajith is a good person\n"
     ],
     "output_type":"stream"
    }
   ],
   "metadata":{
    "datalore":{
     "type":"CODE",
     "hide_input_from_viewers":false,
     "hide_output_from_viewers":false,
     "node_id":"RCQZPYVYT1ogL93FBXumUy"
    }
   }
  },
  {
   "cell_type":"markdown",
   "source":[
    "## Using wildcards"
   ],
   "attachments":{
    
   },
   "metadata":{
    "datalore":{
     "type":"MD",
     "hide_input_from_viewers":false,
     "hide_output_from_viewers":false,
     "node_id":"zEfRIAWrDn3OrhgrzhCvib"
    }
   }
  },
  {
   "cell_type":"code",
   "source":[
    "import re\n",
    "wild = open('wildcards.txt', 'r')\n",
    "for w in wild:\n",
    "    w.rstrip()\n",
    "    if re.search('^X.*:', w):\n",
    "        print(w)\n",
    "\n",
    "# maches the pattern that starts with X then\n",
    "# matches any numbers of characters(.*) follwed by ':'"
   ],
   "execution_count":15,
   "outputs":[
    {
     "name":"stdout",
     "text":[
      "X-skdsak: sdh sjadsgajd sahdja\n",
      "\n",
      "X-dsfhsdk: 987dskfsdfjk\n",
      "\n",
      "X-SKDJDDK: jfsjd kdhsakd\n"
     ],
     "output_type":"stream"
    }
   ],
   "metadata":{
    "datalore":{
     "type":"CODE",
     "hide_input_from_viewers":false,
     "hide_output_from_viewers":false,
     "node_id":"QfWG02LVH6cEdE3q4Ll8N6"
    }
   }
  },
  {
   "cell_type":"code",
   "source":[
    "import re\n",
    "yy_file = open('wildcards.txt', 'r')\n",
    "for yy in yy_file:\n",
    "    yy.rstrip()\n",
    "    if re.search('^X-\\S+:', yy):\n",
    "        print(yy)\n",
    "\n",
    "# matches pattern begine with 'X' followed\n",
    "# by '-' and matches any non whitespace characters\n",
    "# that occurs one or more time followed by ':'"
   ],
   "execution_count":17,
   "outputs":[
    {
     "name":"stdout",
     "text":[
      "X-skdsak: sdh sjadsgajd sahdja\n",
      "\n",
      "X-dsfhsdk: 987dskfsdfjk\n",
      "\n"
     ],
     "output_type":"stream"
    }
   ],
   "metadata":{
    "datalore":{
     "type":"CODE",
     "hide_input_from_viewers":false,
     "hide_output_from_viewers":false,
     "node_id":"CG91Q0rNmfsl2BGxUn788z"
    }
   }
  },
  {
   "cell_type":"markdown",
   "source":[
    "## Extracting Data"
   ],
   "attachments":{
    
   },
   "metadata":{
    "datalore":{
     "type":"MD",
     "hide_input_from_viewers":false,
     "hide_output_from_viewers":false,
     "node_id":"Ew7kpGZezb7GnvJ5UVbWpP"
    }
   }
  },
  {
   "cell_type":"markdown",
   "source":[
    "### FindAll Method \n",
    "- Finds all string that matches the specified pattern.\n",
    "- Returns a list of matched strings. "
   ],
   "attachments":{
    
   },
   "metadata":{
    "datalore":{
     "type":"MD",
     "hide_input_from_viewers":false,
     "hide_output_from_viewers":false,
     "node_id":"I7xu7F7iVWwr12iWjrJllZ"
    }
   }
  },
  {
   "cell_type":"code",
   "source":[
    "sentence = 'hi guys 5 welcome hello word 77 haha 890'\n",
    "import re\n",
    "find_str = re.findall('[0-9]+', sentence)\n",
    "print(find_str)\n",
    "\n",
    "# Here [0-9]+ means return all matching digits in list."
   ],
   "execution_count":2,
   "outputs":[
    {
     "name":"stdout",
     "text":[
      "['5', '77', '890']\n"
     ],
     "output_type":"stream"
    }
   ],
   "metadata":{
    "datalore":{
     "type":"CODE",
     "hide_input_from_viewers":false,
     "hide_output_from_viewers":false,
     "node_id":"lcBnRmPgp3TyAHJQ62QQzs"
    }
   }
  },
  {
   "cell_type":"code",
   "source":[
    "find_str1 = re.findall('[AEIOU]+', sentence)\n",
    "print(find_str1)\n",
    "\n",
    "# Return all matching pattern woith upppercase letters in it."
   ],
   "execution_count":4,
   "outputs":[
    {
     "name":"stdout",
     "text":[
      "[]\n"
     ],
     "output_type":"stream"
    }
   ],
   "metadata":{
    "datalore":{
     "type":"CODE",
     "hide_input_from_viewers":false,
     "hide_output_from_viewers":false,
     "node_id":"JRo7KSeQOpro2DT0eSezYl"
    }
   }
  },
  {
   "cell_type":"markdown",
   "source":[
    "### Non Greedy Matching\n",
    "- This kind of matching is done by adding a **?** character to the pattern.\n",
    "- Suppose in below program we need to get just `From:` from string. Without adding **?** result is not ok. "
   ],
   "attachments":{
    
   },
   "metadata":{
    "datalore":{
     "type":"MD",
     "hide_input_from_viewers":false,
     "hide_output_from_viewers":false,
     "node_id":"kYHK37ndMUXL6s6UdV42Xr"
    }
   }
  },
  {
   "cell_type":"code",
   "source":[
    "import re\n",
    "msg = 'From: justin@gmail.com: Sat Jun 10 2021'\n",
    "print(re.findall('^F.+:', msg))\n",
    "\n",
    "# Not an Expected Result"
   ],
   "execution_count":8,
   "outputs":[
    {
     "name":"stdout",
     "text":[
      "['From: justin@gmail.com:']\n"
     ],
     "output_type":"stream"
    }
   ],
   "metadata":{
    "datalore":{
     "type":"CODE",
     "hide_input_from_viewers":false,
     "hide_output_from_viewers":false,
     "node_id":"V5xRwbg9ZcJooaXWpl1bOO"
    }
   }
  },
  {
   "cell_type":"code",
   "source":[
    "print(re.findall('^F.+?:', msg))\n",
    "\n",
    "# Expected Result got by adding `?`"
   ],
   "execution_count":10,
   "outputs":[
    {
     "name":"stdout",
     "text":[
      "['From:']\n"
     ],
     "output_type":"stream"
    }
   ],
   "metadata":{
    "datalore":{
     "type":"CODE",
     "hide_input_from_viewers":false,
     "hide_output_from_viewers":false,
     "node_id":"qIQerFqft59Dx4XMlKR6CW"
    }
   }
  },
  {
   "cell_type":"markdown",
   "source":[
    "### Fine Tuning String Extraction\n",
    "- Matching a string and Extracting some portion from it using parantheses."
   ],
   "attachments":{
    
   },
   "metadata":{
    "datalore":{
     "type":"MD",
     "hide_input_from_viewers":false,
     "hide_output_from_viewers":false,
     "node_id":"2Ijzlq2PfOW3QFRONzYiUQ"
    }
   }
  },
  {
   "cell_type":"code",
   "source":[
    "import re\n",
    "def string_extract(email):\n",
    "    fetch_name = re.findall('^From (\\S+@\\S+)', email)\n",
    "    return fetch_name \n",
    "print(string_extract(email='From jissmon.jose44@gmail.com Sat 24 2022 June'))\n",
    "\n",
    "# We start matching from 'From' but extracts only the user email part since\n",
    "# we use parantheses for that specific match."
   ],
   "execution_count":15,
   "outputs":[
    {
     "name":"stdout",
     "text":[
      "['jissmon.jose44@gmail.com']\n"
     ],
     "output_type":"stream"
    }
   ],
   "metadata":{
    "datalore":{
     "type":"CODE",
     "hide_input_from_viewers":false,
     "hide_output_from_viewers":false,
     "node_id":"A7QSW5XfpqlbEuah6eaoSj"
    }
   }
  },
  {
   "cell_type":"markdown",
   "source":[
    "### Extract domain from an email id"
   ],
   "attachments":{
    
   },
   "metadata":{
    "datalore":{
     "type":"MD",
     "hide_input_from_viewers":false,
     "hide_output_from_viewers":false,
     "node_id":"jYb8OJXLKXWR1WQwdPEwbJ"
    }
   }
  },
  {
   "cell_type":"code",
   "source":[
    "import re\n",
    "def extract_domain(email):\n",
    "    domain = re.findall('@([^ ]+)', email)\n",
    "    return domain\n",
    "print(extract_domain(email='From jissmon.jose44@gmail.com Sat 24 2022 June'))"
   ],
   "execution_count":23,
   "outputs":[
    {
     "name":"stdout",
     "text":[
      "['gmail.com']\n"
     ],
     "output_type":"stream"
    }
   ],
   "metadata":{
    "datalore":{
     "type":"CODE",
     "hide_input_from_viewers":false,
     "hide_output_from_viewers":false,
     "node_id":"JZQGF9Y3lxvLUEUeJa99XM"
    }
   }
  },
  {
   "cell_type":"markdown",
   "source":[
    "### Escape Character\n",
    "- If you want a special regular expression character to behave normally you prefix it with \\ ."
   ],
   "attachments":{
    
   },
   "metadata":{
    "datalore":{
     "type":"MD",
     "hide_input_from_viewers":false,
     "hide_output_from_viewers":false,
     "node_id":"IHWPwRbfJVtfTNJNX8WmuM"
    }
   }
  },
  {
   "cell_type":"code",
   "source":[
    "import re\n",
    "def extract_special(message):\n",
    "    get_sp = re.findall('\\$[0-9.]+', message)\n",
    "    return get_sp\n",
    "print(extract_special(message='hi i have $400.99 in my purse'))\n",
    "\n",
    "# to match a dollar sign here, we prefix it like \\$"
   ],
   "execution_count":27,
   "outputs":[
    {
     "name":"stdout",
     "text":[
      "['$400.99']\n"
     ],
     "output_type":"stream"
    }
   ],
   "metadata":{
    "datalore":{
     "type":"CODE",
     "hide_input_from_viewers":false,
     "hide_output_from_viewers":false,
     "node_id":"qQoCSYBraN5sY384j0uapR"
    }
   }
  },
  {
   "cell_type":"markdown",
   "source":[
    "## Exercise Programs"
   ],
   "attachments":{
    
   },
   "metadata":{
    "datalore":{
     "type":"MD",
     "hide_input_from_viewers":false,
     "hide_output_from_viewers":false,
     "node_id":"PGdUYjSGaC1hXxXxZtwILY"
    }
   }
  },
  {
   "cell_type":"code",
   "source":[
    "import re\n",
    "def match_one():\n",
    "    string = '423SDFSDsdfsds5435435rttrer'\n",
    "    matches = re.findall('[a-z0-9]', string)\n",
    "    print(matches)\n",
    "match_one()"
   ],
   "execution_count":31,
   "outputs":[
    {
     "name":"stdout",
     "text":[
      "['4', '2', '3', 's', 'd', 'f', 's', 'd', 's', '5', '4', '3', '5', '4', '3', '5', 'r', 't', 't', 'r', 'e', 'r']\n"
     ],
     "output_type":"stream"
    }
   ],
   "metadata":{
    "datalore":{
     "type":"CODE",
     "hide_input_from_viewers":false,
     "hide_output_from_viewers":false,
     "node_id":"q1PtKnX7suSksbHNw0PJcG"
    }
   }
  },
  {
   "cell_type":"markdown",
   "source":[
    "**In this assignment you will read through and parse a file with text and numbers. You will extract all the numbers in the file and compute the sum of the numbers**"
   ],
   "attachments":{
    
   },
   "metadata":{
    "datalore":{
     "type":"MD",
     "hide_input_from_viewers":false,
     "hide_output_from_viewers":false,
     "node_id":"L2eGqj9AuXHMemQppIGz0N"
    }
   }
  },
  {
   "cell_type":"code",
   "source":[
    "def count_numbers():\n",
    "    updated_list = []\n",
    "    rd_file = open('regex_sum_1331182.txt', 'r')\n",
    "    for each_line in rd_file:\n",
    "        each_line = each_line.rstrip()\n",
    "        number_lines = re.findall('[0-9]+', each_line)\n",
    "        if len(number_lines) == 0:\n",
    "            continue\n",
    "        for one in number_lines:\n",
    "            updated_list.append(one)\n",
    "    return sum([int(val) for val in updated_list])\n",
    "print(count_numbers())"
   ],
   "execution_count":57,
   "outputs":[
    {
     "name":"stdout",
     "text":[
      "331109\n"
     ],
     "output_type":"stream"
    }
   ],
   "metadata":{
    "datalore":{
     "type":"CODE",
     "hide_input_from_viewers":false,
     "hide_output_from_viewers":false,
     "node_id":"CoJxCPpByhy72c5z0HdIf5"
    }
   }
  },
  {
   "cell_type":"markdown",
   "source":[
    "# Networked Technoology"
   ],
   "attachments":{
    
   },
   "metadata":{
    "datalore":{
     "type":"MD",
     "hide_input_from_viewers":false,
     "hide_output_from_viewers":false,
     "node_id":"Pc3IlsIB1DAuD7vZWaSpNT"
    }
   }
  },
  {
   "cell_type":"markdown",
   "source":[
    "## Sockets in Python\n",
    "- Python has built in support fron TCP sockets."
   ],
   "attachments":{
    
   },
   "metadata":{
    "datalore":{
     "type":"MD",
     "hide_input_from_viewers":false,
     "hide_output_from_viewers":false,
     "node_id":"PciJES7rmLpGvsbwU3AHK3"
    }
   }
  },
  {
   "cell_type":"code",
   "source":[
    "import socket\n",
    "# create a socket which returns an object\n",
    "mysock = socket.socket(socket.AF_INET, socket.SOCK_STREAM)\n",
    "print(mysock)\n",
    "# mysock is an object and we call connect() on it.\n",
    "mysock.connect(('data.pr4e.org', 80))\n",
    "# we connect that socket to a domain name with port 80.\n",
    "# if connection ok, send encoded http request GET.\n",
    "cmd2 = 'GET \/romeo.txt HTTP\/1.0\\r\\nHost: data.pr4e.org\\r\\n\\r\\n'.encode()\n",
    "mysock.send(cmd2)\n",
    "\n",
    "while True:\n",
    "    # recieve the response upto 512 times\n",
    "    data = mysock.recv(512)\n",
    "    if len(data) < 1:\n",
    "        break\n",
    "    # decode the data if there is data.\n",
    "    print(data.decode())\n",
    "# close the socket connection\n",
    "mysock.close()"
   ],
   "execution_count":14,
   "outputs":[
    {
     "name":"stdout",
     "text":[
      "<socket.socket fd=44, family=AddressFamily.AF_INET, type=SocketKind.SOCK_STREAM, proto=0, laddr=('0.0.0.0', 0)>\n",
      "HTTP\/1.1 200 OK\r\n",
      "Date: Fri, 20 Aug 2021 08:34:38 GMT\r\n",
      "Server: Apache\/2.4.18 (Ubuntu)\r\n",
      "Last-Modified: Sat, 13 May 2017 11:22:22 GMT\r\n",
      "ETag: \"a7-54f6609245537\"\r\n",
      "Accept-Ranges: bytes\r\n",
      "Content-Length: 167\r\n",
      "Cache-Control: max-age=0, no-cache, no-store, must-revalidate\r\n",
      "Pragma: no-cache\r\n",
      "Expires: Wed, 11 Jan 1984 05:00:00 GMT\r\n",
      "Connection: close\r\n",
      "Content-Type: text\/plain\r\n",
      "\r\n",
      "But soft what light through yonder window breaks\n",
      "It is the east and Juliet is the sun\n",
      "Arise fair sun and kill the envious moon\n",
      "Who is already s\n",
      "ick and pale with grief\n",
      "\n"
     ],
     "output_type":"stream"
    }
   ],
   "metadata":{
    "datalore":{
     "type":"CODE",
     "hide_input_from_viewers":false,
     "hide_output_from_viewers":false,
     "node_id":"QY1gWbkkcTAXThm3PLzKbh"
    }
   }
  },
  {
   "cell_type":"markdown",
   "source":[
    "## Exercise"
   ],
   "attachments":{
    
   },
   "metadata":{
    "datalore":{
     "type":"MD",
     "hide_input_from_viewers":false,
     "hide_output_from_viewers":false,
     "node_id":"TeTyIEKQiWTzyGrU9CtPYy"
    }
   }
  },
  {
   "cell_type":"markdown",
   "source":[
    "**Exploring the HyperText Transport Protocol**\n",
    "\n",
    "**You are to retrieve the following document using the HTTP protocol in a way that you can examine the HTTP Response headers.**"
   ],
   "attachments":{
    
   },
   "metadata":{
    "datalore":{
     "type":"MD",
     "hide_input_from_viewers":false,
     "hide_output_from_viewers":false,
     "node_id":"K7kNPTjRV9LxN4GrHW1e4l"
    }
   }
  },
  {
   "cell_type":"code",
   "source":[
    "import socket\n",
    "def socket_fetch(domain, port):\n",
    "    mysock_obj = socket.socket(socket.AF_INET, socket.SOCK_STREAM)\n",
    "    mysock_obj.connect((domain, port))\n",
    "    cmd = 'GET \/intro-short.txt HTTP\/1.0\\r\\nHost: data.pr4e.org\\r\\n\\r\\n'.encode()\n",
    "    mysock_obj.send(cmd)\n",
    "    while True:\n",
    "        data = mysock_obj.recv(512)\n",
    "        if len(data) < 1:\n",
    "            continue\n",
    "        print(data.decode())\n",
    "    mysock_obj.close()\n",
    "socket_fetch('data.pr4e.org', 80)"
   ],
   "execution_count":2,
   "outputs":[
    {
     "name":"stdout",
     "text":[
      "HTTP\/1.1 200 OK\r\n",
      "Date: Fri, 20 Aug 2021 10:43:04 GMT\r\n",
      "Server: Apache\/2.4.18 (Ubuntu)\r\n",
      "Last-Modified: Sat, 13 May 2017 11:22:22 GMT\r\n",
      "ETag: \"1d3-54f6609240717\"\r\n",
      "Accept-Ranges: bytes\r\n",
      "Content-Length: 467\r\n",
      "Cache-Control: max-age=0, no-cache, no-store, must-revalidate\r\n",
      "Pragma: no-cache\r\n",
      "Expires: Wed, 11 Jan 1984 05:00:00 GMT\r\n",
      "Connection: close\r\n",
      "Content-Type: text\/plain\r\n",
      "\r\n",
      "Why should you learn to write programs?\n",
      "\n",
      "Writing programs (or programming) is a very creative \n",
      "and rewarding activity.  You can write programs\n",
      " for \n",
      "many reasons, ranging from making your living to solving\n",
      "a difficult data analysis problem to having fun to helping\n",
      "someone else solve a problem.  This book assumes that \n",
      "everyone needs to know how to program, and that once \n",
      "you know how to program you will figure out what you want \n",
      "to do with your newfound skills.  \n",
      "\n"
     ],
     "output_type":"stream"
    },
    {
     "ename":"KeyboardInterrupt",
     "evalue":"KeyboardInterrupt: ",
     "traceback":[
      "\u001b[0;31m---------------------------------------------------------------------------",
      "Traceback (most recent call last)",
      "    at line 7 in <module>",
      "KeyboardInterrupt: "
     ],
     "output_type":"error"
    }
   ],
   "metadata":{
    "datalore":{
     "type":"CODE",
     "hide_input_from_viewers":false,
     "hide_output_from_viewers":false,
     "node_id":"ZkZQ3WJqLfTK2vnM1l7LjV"
    }
   }
  },
  {
   "cell_type":"markdown",
   "source":[
    "# Retriving Web pages"
   ],
   "attachments":{
    
   },
   "metadata":{
    "datalore":{
     "type":"MD",
     "hide_input_from_viewers":false,
     "hide_output_from_viewers":false,
     "node_id":"xuLqSk1L7Gtn8tPnzeWOoL"
    }
   }
  },
  {
   "cell_type":"markdown",
   "source":[
    "## using urllib in python\n",
    "Since HTTP is common, we have a library does all socket works and makes webpage look like a file."
   ],
   "attachments":{
    
   },
   "metadata":{
    "datalore":{
     "type":"MD",
     "hide_input_from_viewers":false,
     "hide_output_from_viewers":false,
     "node_id":"tvhXO1wFe1ls2ZVOS90zdS"
    }
   }
  },
  {
   "cell_type":"code",
   "source":[
    "import urllib.request, urllib.parse, urllib.error\n",
    "fhand = urllib.request.urlopen('http:\/\/data.pr4e.org\/romeo.txt')\n",
    "for line in fhand:\n",
    "    print(line.decode().strip())\n",
    "\n",
    "\n",
    "# line.decode() returns a string"
   ],
   "execution_count":4,
   "outputs":[
    {
     "name":"stdout",
     "text":[
      "But soft what light through yonder window breaks\n",
      "It is the east and Juliet is the sun\n",
      "Arise fair sun and kill the envious moon\n",
      "Who is already sick and pale with grief\n"
     ],
     "output_type":"stream"
    }
   ],
   "metadata":{
    "datalore":{
     "type":"CODE",
     "hide_input_from_viewers":false,
     "hide_output_from_viewers":false,
     "node_id":"UvFe5uDDPF4usUKTzp5X3p"
    }
   }
  },
  {
   "cell_type":"code",
   "source":[
    "import urllib.request\n",
    "fhand = urllib.request.urlopen('http:\/\/data.pr4e.org\/romeo.txt')\n",
    "word_dt = {}\n",
    "for line in fhand:\n",
    "    line = line.decode().split()\n",
    "    for word in line:\n",
    "        word_dt[word] = word_dt.get(word, 0) + 1\n",
    "print(word_dt)"
   ],
   "execution_count":8,
   "outputs":[
    {
     "name":"stdout",
     "text":[
      "{'But': 1, 'soft': 1, 'what': 1, 'light': 1, 'through': 1, 'yonder': 1, 'window': 1, 'breaks': 1, 'It': 1, 'is': 3, 'the': 3, 'east': 1, 'and': 3, 'Juliet': 1, 'sun': 2, 'Arise': 1, 'fair': 1, 'kill': 1, 'envious': 1, 'moon': 1, 'Who': 1, 'already': 1, 'sick': 1, 'pale': 1, 'with': 1, 'grief': 1}\n"
     ],
     "output_type":"stream"
    }
   ],
   "metadata":{
    "datalore":{
     "type":"CODE",
     "hide_input_from_viewers":false,
     "hide_output_from_viewers":false,
     "node_id":"ANXlEzPKUo47EkhWht8Q28"
    }
   }
  },
  {
   "cell_type":"code",
   "source":[
    "import re\n",
    "source = '<p>Please click <a href=\"http:\/\/www.dr-chuck.com\">here<\/a><\/p>'\n",
    "href = re.findall(\"http:\/\/.+$com\", source)\n",
    "print(href)"
   ],
   "execution_count":19,
   "outputs":[
    {
     "name":"stdout",
     "text":[
      "[]\n"
     ],
     "output_type":"stream"
    }
   ],
   "metadata":{
    "datalore":{
     "type":"CODE",
     "hide_input_from_viewers":false,
     "hide_output_from_viewers":false,
     "node_id":"w9Jzh43G2o42rFbdH7ZRXj"
    }
   }
  },
  {
   "cell_type":"markdown",
   "source":[
    "# Parsing XML(EXTENSIBLE MARKUP LANGUAGE)\n",
    "- Marking up data to send acros the network.\n",
    "\n",
    "Go to https:\/\/github.com\/jisshub\/python-for-everybody-coursera\/tree\/main\/XML for more info "
   ],
   "attachments":{
    
   },
   "metadata":{
    "datalore":{
     "type":"MD",
     "hide_input_from_viewers":false,
     "hide_output_from_viewers":false,
     "node_id":"MNK7YNaa1NWirCggjq96bl"
    }
   }
  },
  {
   "cell_type":"code",
   "source":[
    "import xml.etree.ElementTree as ET\n",
    "\n",
    "data = '''\n",
    "    <person>\n",
    "        <name>jissmon<\/name>\n",
    "        <phone type=\"intl\">\n",
    "            584635783\n",
    "        <\/phone>\n",
    "        <email hide=\"yes\" \/>\n",
    "    <\/person>\n",
    "'''\n",
    "# convert to python format from string, use fromstring.\n",
    "tree = ET.fromstring(data)\n",
    "print(type(tree))\n",
    "# use find() to get element and text to access value in it.\n",
    "print(f\"Name:{tree.find('name').text}\")\n",
    "# use get() to access attribute of element email\n",
    "print(f\"Attr: {tree.find('email').get('hide')}\")"
   ],
   "execution_count":2,
   "outputs":[
    {
     "name":"stdout",
     "text":[
      "<class 'xml.etree.ElementTree.Element'>\n",
      "Name:jissmon\n",
      "Attr: yes\n"
     ],
     "output_type":"stream"
    }
   ],
   "metadata":{
    "datalore":{
     "type":"CODE",
     "hide_input_from_viewers":false,
     "hide_output_from_viewers":false,
     "node_id":"TS39RJIKC8ZxkP36Z4UEKs"
    }
   }
  },
  {
   "cell_type":"code",
   "source":[
    "import xml.etree.ElementTree as ET\n",
    "\n",
    "data = '''\n",
    "    <stuff>\n",
    "        <users>\n",
    "            <user x=\"2\">\n",
    "                <id>22<\/id>\n",
    "                <name>jissmon<\/name>\n",
    "            <\/user>\n",
    "            <user x=\"7\">\n",
    "                <id>24<\/id>\n",
    "                <name>jerin<\/name>\n",
    "            <\/user>\n",
    "        <\/users>\n",
    "    <\/stuff>\n",
    "'''\n",
    "\n",
    "tree = ET.fromstring(data)\n",
    "# convert to python list\n",
    "py_lst = tree.findall('users\/user')\n",
    "print(py_lst)\n",
    "print('user_count:', len(py_lst))\n",
    "for data in py_lst:\n",
    "    print(f\"Id: {data.find('id').text}\")\n",
    "    print(f\"Name: {data.find('name').text}\")"
   ],
   "execution_count":3,
   "outputs":[
    {
     "name":"stdout",
     "text":[
      "[<Element 'user' at 0x7fc6a082d630>, <Element 'user' at 0x7fc6a082d7c0>]\n",
      "user_count: 2\n",
      "Id: 22\n",
      "Name: jissmon\n",
      "Id: 24\n",
      "Name: jerin\n"
     ],
     "output_type":"stream"
    }
   ],
   "metadata":{
    "datalore":{
     "type":"CODE",
     "hide_input_from_viewers":false,
     "hide_output_from_viewers":false,
     "node_id":"l2feGpfIBkP5AZ7qWsZuSm"
    }
   }
  },
  {
   "cell_type":"code",
   "source":[
    "import xml.etree.ElementTree as ET\n",
    "\n",
    "xml_string = '''\n",
    "    <college>\n",
    "        <students>\n",
    "            <student x=\"1\">\n",
    "                <name>jissmon<\/name>\n",
    "                <roll_no>44<\/roll_no>\n",
    "            <\/student>\n",
    "            <student x=\"2\">\n",
    "                <name>jissmon<\/name>\n",
    "                <roll_no>14<\/roll_no>\n",
    "            <\/student>\n",
    "        <\/students>\n",
    "    <\/college>\n",
    "'''\n",
    "tree = ET.fromstring(xml_string)\n",
    "std_list = tree.findall('students\/student')\n",
    "for std in std_list:\n",
    "    print(f'StudentName: {std.find(\"name\").text}')\n",
    "    print(f'Roll No. {std.find(\"roll_no\").text}')"
   ],
   "execution_count":2,
   "outputs":[
    {
     "name":"stdout",
     "text":[
      "StudentName: jissmon\n",
      "Roll No. 44\n",
      "StudentName: jissmon\n",
      "Roll No. 14\n"
     ],
     "output_type":"stream"
    }
   ],
   "metadata":{
    "datalore":{
     "type":"CODE",
     "hide_input_from_viewers":false,
     "hide_output_from_viewers":false,
     "node_id":"OHEsHfaO9or49V435ii5ay"
    }
   }
  },
  {
   "cell_type":"markdown",
   "source":[
    "# JSON\n",
    "\n",
    "- Douglas Crockfod discovered JSON.\n",
    "- JSON is a data interchange format just like XML.\n",
    "- JSON represents data as nested list and dictonaries\n",
    "- Lot easier to use."
   ],
   "attachments":{
    
   },
   "metadata":{
    "datalore":{
     "type":"MD",
     "hide_input_from_viewers":false,
     "hide_output_from_viewers":false,
     "node_id":"guk0riRPo4BzxuIhnJt0y1"
    }
   }
  },
  {
   "cell_type":"markdown",
   "source":[
    "## Sample Format"
   ],
   "attachments":{
    
   },
   "metadata":{
    "datalore":{
     "type":"MD",
     "hide_input_from_viewers":false,
     "hide_output_from_viewers":false,
     "node_id":"I1vkGt813l5C98YzueuXlm"
    }
   }
  },
  {
   "cell_type":"code",
   "source":[
    "{\n",
    " \"name\": \"jissmon\",\n",
    " \"age\": 33,\n",
    " \"books\": {\n",
    "        \"author\": \"bill white\",\n",
    "        \"page\": 444\n",
    " }\n",
    "}"
   ],
   "execution_count":3,
   "outputs":[
    {
     "data":{
      "text\/plain":[
       "{'name': 'jissmon', 'age': 33, 'books': {'author': 'bill white', 'page': 444}}"
      ]
     },
     "metadata":{
      
     },
     "output_type":"display_data"
    }
   ],
   "metadata":{
    "datalore":{
     "type":"CODE",
     "hide_input_from_viewers":false,
     "hide_output_from_viewers":false,
     "node_id":"UbTEj0Om3ZDlnZtCDmdiWe"
    }
   }
  },
  {
   "cell_type":"markdown",
   "source":[
    "## Example - 1"
   ],
   "attachments":{
    
   },
   "metadata":{
    "datalore":{
     "type":"MD",
     "hide_input_from_viewers":false,
     "hide_output_from_viewers":false,
     "node_id":"f1BA55zMWgvHoWUQVrSY2P"
    }
   }
  },
  {
   "cell_type":"code",
   "source":[
    "import json\n",
    "data = '''\n",
    "    {\n",
    " \"name\": \"jissmon\",\n",
    " \"age\": 33,\n",
    " \"books\": {\n",
    "        \"author\": \"bill white\",\n",
    "        \"page\": 444\n",
    " }\n",
    "}\n",
    "'''\n",
    "trans_Data = json.loads(data)\n",
    "# loads() method pasres and transform the json string to python dictionary format\n",
    "print(\"Name:\", trans_Data['name'])\n",
    "# access values using keys. \n",
    "print(\"Pages:\", trans_Data['books']['page'])"
   ],
   "execution_count":9,
   "outputs":[
    {
     "name":"stdout",
     "text":[
      "Name: jissmon\n",
      "Pages: 444\n"
     ],
     "output_type":"stream"
    }
   ],
   "metadata":{
    "datalore":{
     "type":"CODE",
     "hide_input_from_viewers":false,
     "hide_output_from_viewers":false,
     "node_id":"Fct30bp0Hl0EpxHH7RqTc6"
    }
   }
  },
  {
   "cell_type":"markdown",
   "source":[
    "## Example - 2"
   ],
   "attachments":{
    
   },
   "metadata":{
    "datalore":{
     "type":"MD",
     "hide_input_from_viewers":false,
     "hide_output_from_viewers":false,
     "node_id":"SKhKwCr5LOc1b8B46kcGQA"
    }
   }
  },
  {
   "cell_type":"code",
   "source":[
    "import json\n",
    "data = '''\n",
    "    [\n",
    "        {\n",
    "            \"name\": \"ajith\",\n",
    "            \"birthplace\": \"angamaly\",\n",
    "            \"dob\": \"11\/2\/1998\"\n",
    "        },\n",
    "        {\n",
    "            \"name\": \"arun\",\n",
    "            \"birthplace\": \"chalakudy\",\n",
    "            \"dob\": \"11\/2\/1938\"\n",
    "        }\n",
    "    ]\n",
    "'''\n",
    "def convert_json():\n",
    "    # json.loads() returns a list of dictionaries\n",
    "    items_list = json.loads(data)\n",
    "    print(f'users: {len(items_list)}')\n",
    "    for data_item in items_list:\n",
    "        print(f'Name: {data_item[\"name\"]}')\n",
    "        print(f'Birth Place: {data_item[\"birthplace\"]}')\n",
    "        print(f'DOB: {data_item[\"dob\"]}')\n",
    "convert_json()"
   ],
   "execution_count":12,
   "outputs":[
    {
     "name":"stdout",
     "text":[
      "users: 2\n",
      "Name: ajith\n",
      "Birth Place: angamaly\n",
      "DOB: 11\/2\/1998\n",
      "Name: arun\n",
      "Birth Place: chalakudy\n",
      "DOB: 11\/2\/1938\n"
     ],
     "output_type":"stream"
    }
   ],
   "metadata":{
    "datalore":{
     "type":"CODE",
     "hide_input_from_viewers":false,
     "hide_output_from_viewers":false,
     "node_id":"m5OOAAzyriU1oGXZEg5BYs"
    }
   }
  },
  {
   "cell_type":"markdown",
   "source":[
    "# Application Programming Interfaces"
   ],
   "attachments":{
    
   },
   "metadata":{
    "datalore":{
     "type":"MD",
     "hide_input_from_viewers":false,
     "hide_output_from_viewers":false,
     "node_id":"kLAe8vJkkVD3FCNj1GbpSH"
    }
   }
  },
  {
   "cell_type":"markdown",
   "source":[
    "https:\/\/www.youtube.com\/watch?v=qbLc5a9jdXo"
   ],
   "attachments":{
    
   },
   "metadata":{
    "datalore":{
     "type":"MD",
     "hide_input_from_viewers":false,
     "hide_output_from_viewers":false,
     "node_id":"2Jhz5CiWBW2IPKUvUGV3Q9"
    }
   }
  },
  {
   "cell_type":"markdown",
   "source":[
    "Contents in github. \n",
    "https:\/\/github.com\/jisshub\/python-for-everybody-coursera\/tree\/main\/rest-api"
   ],
   "attachments":{
    
   },
   "metadata":{
    "datalore":{
     "type":"MD",
     "hide_input_from_viewers":false,
     "hide_output_from_viewers":false,
     "node_id":"b7fyLOTk0VXcUO8C8dczE7"
    }
   }
  },
  {
   "cell_type":"code",
   "source":[
    
   ],
   "execution_count":null,
   "outputs":[
    
   ],
   "metadata":{
    "datalore":{
     "type":"CODE",
     "hide_input_from_viewers":false,
     "hide_output_from_viewers":false,
     "node_id":"p6FgmgkeZcLkYddx0hlhWr"
    }
   }
  }
 ],
 "metadata":{
  "kernelspec":{
   "display_name":"Python",
   "language":"python",
   "name":"python"
  },
  "datalore":{
   "version":1,
   "computation_mode":"JUPYTER",
   "package_manager":"pip",
   "base_environment":"default",
   "packages":[
    
   ]
  }
 },
 "nbformat":4,
 "nbformat_minor":4
}