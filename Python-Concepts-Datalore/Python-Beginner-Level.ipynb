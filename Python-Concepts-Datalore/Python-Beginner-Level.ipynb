{
 "cells":[
  {
   "cell_type":"markdown",
   "source":[
    "# Statements"
   ],
   "attachments":{
    
   },
   "metadata":{
    "datalore":{
     "type":"MD",
     "hide_input_from_viewers":false,
     "hide_output_from_viewers":false,
     "node_id":"s7BkFxhFCDj95MAeTV5cRl"
    }
   }
  },
  {
   "cell_type":"code",
   "source":[
    "# Sequential Statement\n",
    "x = 2\n",
    "print(x)\n",
    "x += 2\n",
    "print(x)"
   ],
   "execution_count":1,
   "outputs":[
    {
     "name":"stdout",
     "text":[
      "2\n",
      "4\n"
     ],
     "output_type":"stream"
    }
   ],
   "metadata":{
    "datalore":{
     "type":"CODE",
     "hide_input_from_viewers":false,
     "hide_output_from_viewers":false,
     "node_id":"rNjpHawTlo4G3sHtawHSfE"
    }
   }
  },
  {
   "cell_type":"code",
   "source":[
    "# Conditonal Statements\n",
    "\n",
    "x = 5\n",
    "if x < 10:\n",
    "    print('Smaller')\n",
    "if x > 10:\n",
    "    print('larger')\n",
    "    "
   ],
   "execution_count":1,
   "outputs":[
    {
     "name":"stdout",
     "text":[
      "Smaller\n"
     ],
     "output_type":"stream"
    }
   ],
   "metadata":{
    "datalore":{
     "type":"CODE",
     "hide_input_from_viewers":false,
     "hide_output_from_viewers":false,
     "node_id":"RfpDwpu39BM53pOyYKJ7U5"
    }
   }
  },
  {
   "cell_type":"code",
   "source":[
    "# loops - while\n",
    "n = 5\n",
    "while n > 0:\n",
    "    print(n)\n",
    "    n -= 1\n",
    "print('BlastOff')"
   ],
   "execution_count":3,
   "outputs":[
    {
     "name":"stdout",
     "text":[
      "5\n",
      "4\n",
      "3\n",
      "2\n",
      "1\n",
      "BlastOff\n"
     ],
     "output_type":"stream"
    }
   ],
   "metadata":{
    "datalore":{
     "type":"CODE",
     "hide_input_from_viewers":false,
     "hide_output_from_viewers":false,
     "node_id":"gxATrvHPrhqPGTDa4g0OmN"
    }
   }
  },
  {
   "cell_type":"markdown",
   "source":[
    "# Expressions"
   ],
   "attachments":{
    
   },
   "metadata":{
    "datalore":{
     "type":"MD",
     "hide_input_from_viewers":false,
     "hide_output_from_viewers":false,
     "node_id":"KxGnCN8UBuYrvd5NTOCyK3"
    }
   }
  },
  {
   "cell_type":"markdown",
   "source":[
    "## Variables\n",
    "\n",
    "- A named place in memory where programmer can store the data * later retrieve the data using vairable name.\n",
    "- Variable are case sensitive\n",
    "- consists of letter, numbers..\n",
    "- print is the function to get outputs.\n",
    "- Can reuse the variables."
   ],
   "attachments":{
    
   },
   "metadata":{
    "datalore":{
     "type":"MD",
     "hide_input_from_viewers":false,
     "hide_output_from_viewers":false,
     "node_id":"ZUqYT1UopwBx5AAzOtNlTo"
    }
   }
  },
  {
   "cell_type":"code",
   "source":[
    "x = 10\n",
    "y = 18\n",
    "x = 100\n",
    "print(x, y)"
   ],
   "execution_count":1,
   "outputs":[
    {
     "name":"stdout",
     "text":[
      "100 18\n"
     ],
     "output_type":"stream"
    }
   ],
   "metadata":{
    "datalore":{
     "type":"CODE",
     "hide_input_from_viewers":false,
     "hide_output_from_viewers":false,
     "node_id":"dJR34VxGF2s16fE7yWtFYT"
    }
   }
  },
  {
   "cell_type":"markdown",
   "source":[
    "## Assignment Statements\n",
    "  \n",
    "- We assign a value to vairable using assignment statements.\n",
    "- An assignment statement consists of expression on rhs and a variable to store that expression.\n",
    "\n",
    "Eg : x = 10"
   ],
   "attachments":{
    
   },
   "metadata":{
    "datalore":{
     "type":"MD",
     "hide_input_from_viewers":false,
     "hide_output_from_viewers":false,
     "node_id":"dcAx9OQYBMEtkwdlO19SIM"
    }
   }
  },
  {
   "cell_type":"markdown",
   "source":[
    "In python variables, literals and constants have a type "
   ],
   "attachments":{
    
   },
   "metadata":{
    "datalore":{
     "type":"MD",
     "hide_input_from_viewers":false,
     "hide_output_from_viewers":false,
     "node_id":"p20CcIDNFu7hEZpYKDM9Dc"
    }
   }
  },
  {
   "cell_type":"code",
   "source":[
    "x = 10\n",
    "name ='jissmon'\n",
    "val = 90.11\n",
    "print(type(x))\n",
    "print(type(name))\n",
    "print(type(val))"
   ],
   "execution_count":3,
   "outputs":[
    {
     "name":"stdout",
     "text":[
      "<class 'int'>\n",
      "<class 'str'>\n",
      "<class 'float'>\n"
     ],
     "output_type":"stream"
    }
   ],
   "metadata":{
    "datalore":{
     "type":"CODE",
     "hide_input_from_viewers":false,
     "hide_output_from_viewers":false,
     "node_id":"A0pukzgpV8We0j0PofxiCR"
    }
   }
  },
  {
   "cell_type":"markdown",
   "source":[
    "## Type Conversion"
   ],
   "attachments":{
    
   },
   "metadata":{
    "datalore":{
     "type":"MD",
     "hide_input_from_viewers":false,
     "hide_output_from_viewers":false,
     "node_id":"vHl0FLBSvgWneL4UimvfHZ"
    }
   }
  },
  {
   "cell_type":"code",
   "source":[
    "x = 99\n",
    "y = float(99) + 100\n",
    "print(y)"
   ],
   "execution_count":5,
   "outputs":[
    {
     "name":"stdout",
     "text":[
      "199.0\n"
     ],
     "output_type":"stream"
    }
   ],
   "metadata":{
    "datalore":{
     "type":"CODE",
     "hide_input_from_viewers":false,
     "hide_output_from_viewers":false,
     "node_id":"0v9zB7btqefFnuL4rasA4N"
    }
   }
  },
  {
   "cell_type":"code",
   "source":[
    "type(y)"
   ],
   "execution_count":6,
   "outputs":[
    {
     "data":{
      "text\/plain":[
       "float"
      ]
     },
     "metadata":{
      
     },
     "output_type":"display_data"
    }
   ],
   "metadata":{
    "datalore":{
     "type":"CODE",
     "hide_input_from_viewers":false,
     "hide_output_from_viewers":false,
     "node_id":"uMsXB2pNBGm5WlWa7lJwWU"
    }
   }
  },
  {
   "cell_type":"code",
   "source":[
    "f = 190.44 \n",
    "g = int(f)\n",
    "print(g)"
   ],
   "execution_count":7,
   "outputs":[
    {
     "name":"stdout",
     "text":[
      "190\n"
     ],
     "output_type":"stream"
    }
   ],
   "metadata":{
    "datalore":{
     "type":"CODE",
     "hide_input_from_viewers":false,
     "hide_output_from_viewers":false,
     "node_id":"R6rDazAGa6JdEXXcWsMX6B"
    }
   }
  },
  {
   "cell_type":"markdown",
   "source":[
    "## Integer Division"
   ],
   "attachments":{
    
   },
   "metadata":{
    "datalore":{
     "type":"MD",
     "hide_input_from_viewers":false,
     "hide_output_from_viewers":false,
     "node_id":"T2QDHEpNezWislDPy42q6U"
    }
   }
  },
  {
   "cell_type":"code",
   "source":[
    "print(77\/6)"
   ],
   "execution_count":8,
   "outputs":[
    {
     "name":"stdout",
     "text":[
      "12.833333333333334\n"
     ],
     "output_type":"stream"
    }
   ],
   "metadata":{
    "datalore":{
     "type":"CODE",
     "hide_input_from_viewers":false,
     "hide_output_from_viewers":false,
     "node_id":"IIuSfPoZBu3x40YvpxEVo3"
    }
   }
  },
  {
   "cell_type":"code",
   "source":[
    "print(10\/2)"
   ],
   "execution_count":9,
   "outputs":[
    {
     "name":"stdout",
     "text":[
      "5.0\n"
     ],
     "output_type":"stream"
    }
   ],
   "metadata":{
    "datalore":{
     "type":"CODE",
     "hide_input_from_viewers":false,
     "hide_output_from_viewers":false,
     "node_id":"ax67YgFE2rz9nMmAXOPkDx"
    }
   }
  },
  {
   "cell_type":"markdown",
   "source":[
    "## String To Integer Conversion"
   ],
   "attachments":{
    
   },
   "metadata":{
    "datalore":{
     "type":"MD",
     "hide_input_from_viewers":false,
     "hide_output_from_viewers":false,
     "node_id":"2RoEvLfIFx2nECvj0U1QA1"
    }
   }
  },
  {
   "cell_type":"code",
   "source":[
    "v = '333'\n",
    "v = int(v)\n",
    "print(v)\n",
    "print(type(v))"
   ],
   "execution_count":12,
   "outputs":[
    {
     "name":"stdout",
     "text":[
      "333\n",
      "<class 'int'>\n"
     ],
     "output_type":"stream"
    }
   ],
   "metadata":{
    "datalore":{
     "type":"CODE",
     "hide_input_from_viewers":false,
     "hide_output_from_viewers":false,
     "node_id":"yEIcsMWvJEB4zRCvyWsuvt"
    }
   }
  },
  {
   "cell_type":"code",
   "source":[
    "# can add value to it\n",
    "print(v + 90) "
   ],
   "execution_count":16,
   "outputs":[
    {
     "name":"stdout",
     "text":[
      "423\n"
     ],
     "output_type":"stream"
    }
   ],
   "metadata":{
    "datalore":{
     "type":"CODE",
     "hide_input_from_viewers":false,
     "hide_output_from_viewers":false,
     "node_id":"qRViJX1Nfjz3r6f9IRZoCa"
    }
   }
  },
  {
   "cell_type":"markdown",
   "source":[
    "## User Inputs"
   ],
   "attachments":{
    
   },
   "metadata":{
    "datalore":{
     "type":"MD",
     "hide_input_from_viewers":false,
     "hide_output_from_viewers":false,
     "node_id":"pedgUQzq6vTy4KYPWCGVOY"
    }
   }
  },
  {
   "cell_type":"code",
   "source":[
    "name = input('Enter Name:')\n",
    "print(f'Welcome {name}')"
   ],
   "execution_count":17,
   "outputs":[
    {
     "name":"stdout",
     "text":[
      "Enter Name: jissmon jose\n",
      "Welcome jissmon jose\n"
     ],
     "output_type":"stream"
    }
   ],
   "metadata":{
    "datalore":{
     "type":"CODE",
     "hide_input_from_viewers":false,
     "hide_output_from_viewers":false,
     "node_id":"q9mmNY8M6sp6Drw2UYpZIP"
    }
   }
  },
  {
   "cell_type":"code",
   "source":[
    "# Exercise - Converting User Input\n",
    "floor_count = input('No of Floors: ')\n",
    "floor_count = int(floor_count) + 7\n",
    "print(f'Count: {floor_count}')"
   ],
   "execution_count":23,
   "outputs":[
    {
     "name":"stdout",
     "text":[
      "No of Floors:  2\n",
      "Count: 9\n"
     ],
     "output_type":"stream"
    }
   ],
   "metadata":{
    "datalore":{
     "type":"CODE",
     "hide_input_from_viewers":false,
     "hide_output_from_viewers":false,
     "node_id":"bnGXvWSTchg8e96hwDXz6L"
    }
   }
  },
  {
   "cell_type":"code",
   "source":[
    "# Exercise - 2\n",
    "hours = int(input('Enter Hours:'))\n",
    "pay = int(input('Enter Pay: '))\n",
    "print(hours * pay)"
   ],
   "execution_count":24,
   "outputs":[
    {
     "name":"stdout",
     "text":[
      "Enter Hours: 8\n",
      "Enter Pay:  100\n",
      "800\n"
     ],
     "output_type":"stream"
    }
   ],
   "metadata":{
    "datalore":{
     "type":"CODE",
     "hide_input_from_viewers":false,
     "hide_output_from_viewers":false,
     "node_id":"akkPIvmDDjO5t2nua3KJyo"
    }
   }
  },
  {
   "cell_type":"markdown",
   "source":[
    "# Conditional Statements"
   ],
   "attachments":{
    
   },
   "metadata":{
    "datalore":{
     "type":"MD",
     "hide_input_from_viewers":false,
     "hide_output_from_viewers":false,
     "node_id":"FukrYZ0GW8Rj2ALvsah0Uf"
    }
   }
  },
  {
   "cell_type":"markdown",
   "source":[
    "## One Way decisions"
   ],
   "attachments":{
    
   },
   "metadata":{
    "datalore":{
     "type":"MD",
     "hide_input_from_viewers":false,
     "hide_output_from_viewers":false,
     "node_id":"iMNuvUCQxHWOmRkfi1zbYV"
    }
   }
  },
  {
   "cell_type":"code",
   "source":[
    "x = 8\n",
    "if x > 5:\n",
    "    print(f'{x} is greater')\n",
    "print('Ends ')\n",
    "    "
   ],
   "execution_count":2,
   "outputs":[
    {
     "name":"stdout",
     "text":[
      "8 is greater\n",
      "Ends \n"
     ],
     "output_type":"stream"
    }
   ],
   "metadata":{
    "datalore":{
     "type":"CODE",
     "hide_input_from_viewers":false,
     "hide_output_from_viewers":false,
     "node_id":"r1KBPBgSW82DBsMnYTuftp"
    }
   }
  },
  {
   "cell_type":"markdown",
   "source":[
    "## Nested Decisions"
   ],
   "attachments":{
    
   },
   "metadata":{
    "datalore":{
     "type":"MD",
     "hide_input_from_viewers":false,
     "hide_output_from_viewers":false,
     "node_id":"uEe1X4mq6Nipeyzu8LhsTO"
    }
   }
  },
  {
   "cell_type":"code",
   "source":[
    "x = 90\n",
    "if x < 100:\n",
    "    print(f\"{x} greater than 100\")\n",
    "    if x > 50:\n",
    "        print(f'{x} greater than 50')\n",
    "print('Ends')"
   ],
   "execution_count":7,
   "outputs":[
    {
     "name":"stdout",
     "text":[
      "90 greater than 100\n",
      "90 greater than 50\n",
      "Ends\n"
     ],
     "output_type":"stream"
    }
   ],
   "metadata":{
    "datalore":{
     "type":"CODE",
     "hide_input_from_viewers":false,
     "hide_output_from_viewers":false,
     "node_id":"S8S3VdfaSNUfFBTc1f6bxL"
    }
   }
  },
  {
   "cell_type":"markdown",
   "source":[
    "## Two way Decisions"
   ],
   "attachments":{
    
   },
   "metadata":{
    "datalore":{
     "type":"MD",
     "hide_input_from_viewers":false,
     "hide_output_from_viewers":false,
     "node_id":"xIJVaA09FcMaJ5uwuiN25I"
    }
   }
  },
  {
   "cell_type":"code",
   "source":[
    "x = 7\n",
    "if x >= 5: \n",
    "    print(f'{x} > 5')\n",
    "else:\n",
    "    print(f'{x} < 5')"
   ],
   "execution_count":9,
   "outputs":[
    {
     "name":"stdout",
     "text":[
      "7 > 5\n"
     ],
     "output_type":"stream"
    }
   ],
   "metadata":{
    "datalore":{
     "type":"CODE",
     "hide_input_from_viewers":false,
     "hide_output_from_viewers":false,
     "node_id":"SIjCNrLDq3fMoMWd9LHuzR"
    }
   }
  },
  {
   "cell_type":"markdown",
   "source":[
    "# Complex Conditional Statements"
   ],
   "attachments":{
    
   },
   "metadata":{
    "datalore":{
     "type":"MD",
     "hide_input_from_viewers":false,
     "hide_output_from_viewers":false,
     "node_id":"Qn11Q1E1DCycv82zUNVSFa"
    }
   }
  },
  {
   "cell_type":"markdown",
   "source":[
    "## Multi-Way Decisions"
   ],
   "attachments":{
    
   },
   "metadata":{
    "datalore":{
     "type":"MD",
     "hide_input_from_viewers":false,
     "hide_output_from_viewers":false,
     "node_id":"IWOj87KdmQL448jRMat4vG"
    }
   }
  },
  {
   "cell_type":"code",
   "source":[
    "# Only one conditions will exceute in entire block if-elif-else"
   ],
   "execution_count":14,
   "outputs":[
    
   ],
   "metadata":{
    "datalore":{
     "type":"CODE",
     "hide_input_from_viewers":false,
     "hide_output_from_viewers":false,
     "node_id":"Ai9HusQJgOo5Fi0c8uqQiq"
    }
   }
  },
  {
   "cell_type":"code",
   "source":[
    "x = int(input('Enter Value: '))\n",
    "if x < 5:\n",
    "    print(f'{x} < 5')\n",
    "elif x > 10:\n",
    "    print(f'{x} > 10')\n",
    "elif x > 80:\n",
    "    print(f'{x} > 80')\n",
    "else:\n",
    "    print(f'{x} is something else')\n",
    "print('Ends')"
   ],
   "execution_count":15,
   "outputs":[
    {
     "name":"stdout",
     "text":[
      "Enter Value:  90\n",
      "90 > 10\n",
      "Ends\n"
     ],
     "output_type":"stream"
    }
   ],
   "metadata":{
    "datalore":{
     "type":"CODE",
     "hide_input_from_viewers":false,
     "hide_output_from_viewers":false,
     "node_id":"xw8ivQzsuJiDDZrDPbN5Th"
    }
   }
  },
  {
   "cell_type":"markdown",
   "source":[
    "## Try-Except Block Statements"
   ],
   "attachments":{
    
   },
   "metadata":{
    "datalore":{
     "type":"MD",
     "hide_input_from_viewers":false,
     "hide_output_from_viewers":false,
     "node_id":"IrU6zsLPSc5oTMIglCT7K1"
    }
   }
  },
  {
   "cell_type":"code",
   "source":[
    "## If there is a traceback, except clause runs, else try clasuse runs\n",
    "## if there is a traceback at try block, nothing will printed instead jumps\n",
    "## to except clause\n",
    "## Everything outside try - except block runs."
   ],
   "execution_count":29,
   "outputs":[
    
   ],
   "metadata":{
    "datalore":{
     "type":"CODE",
     "hide_input_from_viewers":false,
     "hide_output_from_viewers":false,
     "node_id":"PfxQ7Zfm2gNyqSXXVGH5AK"
    }
   }
  },
  {
   "cell_type":"code",
   "source":[
    "val = input('Enter Value')\n",
    "try:\n",
    "    val = int(val)\n",
    "    print(val)\n",
    "    print('Something goes here')\n",
    "except:\n",
    "    print('Error')\n",
    "print('Done All')\n"
   ],
   "execution_count":27,
   "outputs":[
    {
     "name":"stdout",
     "text":[
      "Enter Value 44\n",
      "44\n",
      "Something goes here\n",
      "Done All\n"
     ],
     "output_type":"stream"
    }
   ],
   "metadata":{
    "datalore":{
     "type":"CODE",
     "hide_input_from_viewers":false,
     "hide_output_from_viewers":false,
     "node_id":"ooG41ScTgc0IiIOHQJqHLG"
    }
   }
  },
  {
   "cell_type":"code",
   "source":[
    "number = input('Enter Number: ')\n",
    "try:\n",
    "    number = int(number)\n",
    "except:\n",
    "    number = -1\n",
    "\n",
    "if number > 0:\n",
    "    print(number)\n",
    "else:\n",
    "    print('Not a Number')"
   ],
   "execution_count":33,
   "outputs":[
    {
     "name":"stdout",
     "text":[
      "Enter Number:  ksjfhsdkjf\n",
      "Not a Number\n"
     ],
     "output_type":"stream"
    }
   ],
   "metadata":{
    "datalore":{
     "type":"CODE",
     "hide_input_from_viewers":false,
     "hide_output_from_viewers":false,
     "node_id":"WVRRyrkZCYWUV3R49qAEFi"
    }
   }
  },
  {
   "cell_type":"markdown",
   "source":[
    "## Exercise"
   ],
   "attachments":{
    
   },
   "metadata":{
    "datalore":{
     "type":"MD",
     "hide_input_from_viewers":false,
     "hide_output_from_viewers":false,
     "node_id":"18zLeE4OLABis4VXwAx3K5"
    }
   }
  },
  {
   "cell_type":"code",
   "source":[
    "sh = input('Enter Hours')\n",
    "sr = input('Enter Rate')\n",
    "try:\n",
    "    sh = int(sh)\n",
    "    sr = int(sr)\n",
    "except:\n",
    "    print('Error, Enter Numeric Input')\n",
    "    quit()\n",
    "print(sh, sr)\n",
    "if sh > 50:\n",
    "    pay = sh * sr + 100\n",
    "else:\n",
    "    pay = sh * sr +200\n",
    "print(f'Total Pay: {pay}')"
   ],
   "execution_count":1,
   "outputs":[
    
   ],
   "metadata":{
    "datalore":{
     "type":"CODE",
     "hide_input_from_viewers":false,
     "hide_output_from_viewers":false,
     "node_id":"UEL9oJ4jtW5AJvwDx89FAL"
    }
   }
  },
  {
   "cell_type":"markdown",
   "source":[
    "# Functions"
   ],
   "attachments":{
    
   },
   "metadata":{
    "datalore":{
     "type":"MD",
     "hide_input_from_viewers":false,
     "hide_output_from_viewers":false,
     "node_id":"WIAbl6VUvhDqFyXKcvzZGQ"
    }
   }
  },
  {
   "cell_type":"markdown",
   "source":[
    "- Functions are stpre and reuse type statements.\n",
    "- used to not repeat the code over and over again."
   ],
   "attachments":{
    
   },
   "metadata":{
    "datalore":{
     "type":"MD",
     "hide_input_from_viewers":false,
     "hide_output_from_viewers":false,
     "node_id":"0hDHyVOVfdB2JbK1MAPFan"
    }
   }
  },
  {
   "cell_type":"code",
   "source":[
    "def thing():\n",
    "    print('Hello')\n",
    "    print('Fun')\n",
    "thing() \n",
    "print('Zip')\n",
    "thing()\n",
    "\n",
    "# thing() called twice to print the statements instead of repeatedly writing the statements again."
   ],
   "execution_count":16,
   "outputs":[
    {
     "name":"stdout",
     "text":[
      "Hello\n",
      "Fun\n",
      "Zip\n",
      "Hello\n",
      "Fun\n"
     ],
     "output_type":"stream"
    }
   ],
   "metadata":{
    "datalore":{
     "type":"CODE",
     "hide_input_from_viewers":false,
     "hide_output_from_viewers":false,
     "node_id":"sSBwCkRSEM4RPTBB53REpZ"
    }
   }
  },
  {
   "cell_type":"markdown",
   "source":[
    "# Building Functions"
   ],
   "attachments":{
    
   },
   "metadata":{
    "datalore":{
     "type":"MD",
     "hide_input_from_viewers":false,
     "hide_output_from_viewers":false,
     "node_id":"SeMZe0KGmE6IqE5CAbsN04"
    }
   }
  },
  {
   "cell_type":"markdown",
   "source":[
    "- def statement doesn't automatically run the code.\n",
    "- we have to invoke the function to execute the statements.\n",
    "- we are storing while function definition.\n",
    "- to reuse the same, we invoke that.\n",
    "- That is why we say, **Store and Reuse**"
   ],
   "attachments":{
    
   },
   "metadata":{
    "datalore":{
     "type":"MD",
     "hide_input_from_viewers":false,
     "hide_output_from_viewers":false,
     "node_id":"Mepnc2Q8QRZKm3D7xaxNII"
    }
   }
  },
  {
   "cell_type":"code",
   "source":[
    "x = 10\n",
    "def print_data():\n",
    "    print('HI iam first')\n",
    "    print(\"Hi iam second\")\n",
    "print(x)\n",
    "print('Ends')\n",
    "\n",
    "# print_data() not ivoked thus statement inside it never executed "
   ],
   "execution_count":18,
   "outputs":[
    {
     "name":"stdout",
     "text":[
      "10\n",
      "Ends\n"
     ],
     "output_type":"stream"
    }
   ],
   "metadata":{
    "datalore":{
     "type":"CODE",
     "hide_input_from_viewers":false,
     "hide_output_from_viewers":false,
     "node_id":"0f9O8vWenaDR3RNgPGusPY"
    }
   }
  },
  {
   "cell_type":"code",
   "source":[
    "x = 10\n",
    "def print_data():\n",
    "    print('HI iam first')\n",
    "    print(\"Hi iam second\")\n",
    "print_data()\n",
    "print(x)\n",
    "print('Ends')\n",
    "\n",
    "# We invoke the function here"
   ],
   "execution_count":20,
   "outputs":[
    {
     "name":"stdout",
     "text":[
      "HI iam first\n",
      "Hi iam second\n",
      "10\n",
      "Ends\n"
     ],
     "output_type":"stream"
    }
   ],
   "metadata":{
    "datalore":{
     "type":"CODE",
     "hide_input_from_viewers":false,
     "hide_output_from_viewers":false,
     "node_id":"j2yT2rfu2qrEXXlgaVs7Ss"
    }
   }
  },
  {
   "cell_type":"markdown",
   "source":[
    "## Arguments"
   ],
   "attachments":{
    
   },
   "metadata":{
    "datalore":{
     "type":"MD",
     "hide_input_from_viewers":false,
     "hide_output_from_viewers":false,
     "node_id":"iH5Q3CwQhEJIT3ZsKGrtmM"
    }
   }
  },
  {
   "cell_type":"markdown",
   "source":[
    "- Are the ones we pass to a function while invoking.\n",
    "Eg:\n",
    "\n",
    "**func_name('argument')**"
   ],
   "attachments":{
    
   },
   "metadata":{
    "datalore":{
     "type":"MD",
     "hide_input_from_viewers":false,
     "hide_output_from_viewers":false,
     "node_id":"s0kShqemNN3GlxuDNmvdLD"
    }
   }
  },
  {
   "cell_type":"markdown",
   "source":[
    "## Parameters"
   ],
   "attachments":{
    
   },
   "metadata":{
    "datalore":{
     "type":"MD",
     "hide_input_from_viewers":false,
     "hide_output_from_viewers":false,
     "node_id":"wIc8e2EBUS3t6MqXCnENDx"
    }
   }
  },
  {
   "cell_type":"markdown",
   "source":[
    "- A variable given while function definition\n",
    "\n",
    "Eg:\n",
    "**def func_name(var1)**"
   ],
   "attachments":{
    
   },
   "metadata":{
    "datalore":{
     "type":"MD",
     "hide_input_from_viewers":false,
     "hide_output_from_viewers":false,
     "node_id":"pd3dZK90Ld30NRtgQskROK"
    }
   }
  },
  {
   "cell_type":"markdown",
   "source":[
    "### Example"
   ],
   "attachments":{
    
   },
   "metadata":{
    "datalore":{
     "type":"MD",
     "hide_input_from_viewers":false,
     "hide_output_from_viewers":false,
     "node_id":"aWwaxPEurQ6bOES4nJ8z83"
    }
   }
  },
  {
   "cell_type":"code",
   "source":[
    "def func_one(lang):\n",
    "    if lang == 'en':\n",
    "        print('English')\n",
    "    elif lang == 'fr':\n",
    "        print('French')\n",
    "func_one('fr')"
   ],
   "execution_count":22,
   "outputs":[
    {
     "name":"stdout",
     "text":[
      "French\n"
     ],
     "output_type":"stream"
    }
   ],
   "metadata":{
    "datalore":{
     "type":"CODE",
     "hide_input_from_viewers":false,
     "hide_output_from_viewers":false,
     "node_id":"Dz3ua0ahfkPNceDbPUvmty"
    }
   }
  },
  {
   "cell_type":"markdown",
   "source":[
    "## Return Values"
   ],
   "attachments":{
    
   },
   "metadata":{
    "datalore":{
     "type":"MD",
     "hide_input_from_viewers":false,
     "hide_output_from_viewers":false,
     "node_id":"unuGWDfqcQHxSvXRNrKv3C"
    }
   }
  },
  {
   "cell_type":"markdown",
   "source":[
    "- Stops the function.\n",
    "- Returns the residual\/estimated value."
   ],
   "attachments":{
    
   },
   "metadata":{
    "datalore":{
     "type":"MD",
     "hide_input_from_viewers":false,
     "hide_output_from_viewers":false,
     "node_id":"7E2T1aona4T13ECAc0FTTD"
    }
   }
  },
  {
   "cell_type":"code",
   "source":[
    "def name_func(lang):\n",
    "    if lang == 'es':\n",
    "        return 'Glenn'\n",
    "    elif lang == 'en':\n",
    "        return 'Michael'\n",
    "    else:\n",
    "        return 'Sally'\n",
    "print('Hello', name_func('es'))\n",
    "print('Hello', name_func('gt'))\n",
    "\n",
    "# here when function invokes, residual value returned replace that place.\n",
    "# once return happens function executions ends."
   ],
   "execution_count":26,
   "outputs":[
    {
     "name":"stdout",
     "text":[
      "Hello Glenn\n",
      "Hello Sally\n"
     ],
     "output_type":"stream"
    }
   ],
   "metadata":{
    "datalore":{
     "type":"CODE",
     "hide_input_from_viewers":false,
     "hide_output_from_viewers":false,
     "node_id":"J5eDlPD10jXR0EX5GMKH3i"
    }
   }
  },
  {
   "cell_type":"markdown",
   "source":[
    "## Multiple Parameters\/Arguments"
   ],
   "attachments":{
    
   },
   "metadata":{
    "datalore":{
     "type":"MD",
     "hide_input_from_viewers":false,
     "hide_output_from_viewers":false,
     "node_id":"UMHr16DvBrjuX3jwvweDLM"
    }
   }
  },
  {
   "cell_type":"code",
   "source":[
    "\n",
    "def add_func(val1, val2):\n",
    "    sum = val1 + val2\n",
    "    return sum\n",
    "add_func(4, 5)\n",
    "\n",
    "# val1, val2 -> parameters\n",
    "# 4,5  -> arguments"
   ],
   "execution_count":28,
   "outputs":[
    {
     "data":{
      "text\/plain":[
       "9"
      ]
     },
     "metadata":{
      
     },
     "output_type":"display_data"
    }
   ],
   "metadata":{
    "datalore":{
     "type":"CODE",
     "hide_input_from_viewers":false,
     "hide_output_from_viewers":false,
     "node_id":"vaO7GOohrX7AE4lWgoN4cM"
    }
   }
  },
  {
   "cell_type":"markdown",
   "source":[
    "## Assignment"
   ],
   "attachments":{
    
   },
   "metadata":{
    "datalore":{
     "type":"MD",
     "hide_input_from_viewers":false,
     "hide_output_from_viewers":false,
     "node_id":"Cd7aED0HZiUP7u6VaTZ8V2"
    }
   }
  },
  {
   "cell_type":"markdown",
   "source":[
    "Write a program to prompt the user for hours and rate per hour using input to compute gross pay. Pay should be the normal rate for hours up to 40 and time-and-a-half for the hourly rate for all hours worked above 40 hours. Put the logic to do the computation of pay in a function called computepay() and use the function to do the computation. The function should return a value. Use 45 hours and a rate of 10.50 per hour to test the program (the pay should be 498.75). You should use input to read a string and float() to convert the string to a number."
   ],
   "attachments":{
    
   },
   "metadata":{
    "datalore":{
     "type":"MD",
     "hide_input_from_viewers":false,
     "hide_output_from_viewers":false,
     "node_id":"pP0DPs5aePuxPyYCkJ0XL7"
    }
   }
  },
  {
   "cell_type":"code",
   "source":[
    "def computepay(h, r):\n",
    "    if h > 40:\n",
    "        return (40 * r) + (r * 1.5 * 5)\n",
    "\n",
    "hrs = float(input(\"Enter Hours:\"))\n",
    "rate = float(input(\"Enter rate:\"))\n",
    "p = computepay(hrs, rate)\n",
    "print(\"Pay\", p)"
   ],
   "execution_count":30,
   "outputs":[
    {
     "name":"stdout",
     "text":[
      "Enter Hours: 45\n",
      "Enter rate: 10.50\n",
      "Pay 498.75\n"
     ],
     "output_type":"stream"
    }
   ],
   "metadata":{
    "datalore":{
     "type":"CODE",
     "hide_input_from_viewers":false,
     "hide_output_from_viewers":false,
     "node_id":"mrOgHd9awKkua5jWfy7c00"
    }
   }
  },
  {
   "cell_type":"markdown",
   "source":[
    "# Loops and Iteration"
   ],
   "attachments":{
    
   },
   "metadata":{
    "datalore":{
     "type":"MD",
     "hide_input_from_viewers":false,
     "hide_output_from_viewers":false,
     "node_id":"3cENby9yNXba3oR5MqVdEN"
    }
   }
  },
  {
   "cell_type":"markdown",
   "source":[
    "## While Loops"
   ],
   "attachments":{
    
   },
   "metadata":{
    "datalore":{
     "type":"MD",
     "hide_input_from_viewers":false,
     "hide_output_from_viewers":false,
     "node_id":"3n8bn72vYvRlP77UiLkO3l"
    }
   }
  },
  {
   "cell_type":"markdown",
   "source":[
    "- loops have iteration variable that changes everytime while running through the loop.\n",
    "- Runs the statements inside the loop over and over again when the condition is true.\n",
    "- Iteration stops and gets out of the loop when condition is false."
   ],
   "attachments":{
    
   },
   "metadata":{
    "datalore":{
     "type":"MD",
     "hide_input_from_viewers":false,
     "hide_output_from_viewers":false,
     "node_id":"DUaf7iizdbh1RKA109OKKz"
    }
   }
  },
  {
   "cell_type":"code",
   "source":[
    "## Example\n",
    "\n",
    "n = 4\n",
    "while n > 0:\n",
    "    print(n)\n",
    "    n -= 1\n",
    "print(\"Loops Ends\")\n",
    "print(n) \n",
    "\n",
    "# Iteration variable is n, changes all time through the loop."
   ],
   "execution_count":4,
   "outputs":[
    {
     "name":"stdout",
     "text":[
      "4\n",
      "3\n",
      "2\n",
      "1\n",
      "Loops Ends\n",
      "0\n"
     ],
     "output_type":"stream"
    }
   ],
   "metadata":{
    "datalore":{
     "type":"CODE",
     "hide_input_from_viewers":false,
     "hide_output_from_viewers":false,
     "node_id":"1qoG2VOhHOfmiZTwNECGpT"
    }
   }
  },
  {
   "cell_type":"markdown",
   "source":[
    "## Break Statement"
   ],
   "attachments":{
    
   },
   "metadata":{
    "datalore":{
     "type":"MD",
     "hide_input_from_viewers":false,
     "hide_output_from_viewers":false,
     "node_id":"qDbUSxK3goK3AIplKPNaUx"
    }
   }
  },
  {
   "cell_type":"markdown",
   "source":[
    "- To break out from a loop.\n",
    "- Once break applied, execution is stopped and jumps out of the loop."
   ],
   "attachments":{
    
   },
   "metadata":{
    "datalore":{
     "type":"MD",
     "hide_input_from_viewers":false,
     "hide_output_from_viewers":false,
     "node_id":"nJldyRmpQLsSGy312LjJjG"
    }
   }
  },
  {
   "cell_type":"code",
   "source":[
    "# Example\n",
    "while True:\n",
    "    name = input('Enter val: ')\n",
    "    if name == 'done':\n",
    "        break\n",
    "    print(name)\n",
    "print(\"Break Applied\")\n",
    "print(name)"
   ],
   "execution_count":5,
   "outputs":[
    {
     "name":"stdout",
     "text":[
      "Enter val:  jiss\n",
      "jiss\n",
      "Enter val:  jiss\n",
      "jiss\n",
      "Enter val:  hello\n",
      "hello\n",
      "Enter val:  done\n",
      "Break Applied\n",
      "done\n"
     ],
     "output_type":"stream"
    }
   ],
   "metadata":{
    "datalore":{
     "type":"CODE",
     "hide_input_from_viewers":false,
     "hide_output_from_viewers":false,
     "node_id":"x1JTxBrlNCujzNFQ0Olh1B"
    }
   }
  },
  {
   "cell_type":"markdown",
   "source":[
    "## Continue Statement"
   ],
   "attachments":{
    
   },
   "metadata":{
    "datalore":{
     "type":"MD",
     "hide_input_from_viewers":false,
     "hide_output_from_viewers":false,
     "node_id":"dwna1Rxl7pJwo1fKw2p16k"
    }
   }
  },
  {
   "cell_type":"markdown",
   "source":[
    "- When **continue** statement runs, it skips the execution of following loc and goes back to \n",
    "begining of loop to restart the loop again.  \n",
    "- While **break** stops the execution of loop."
   ],
   "attachments":{
    
   },
   "metadata":{
    "datalore":{
     "type":"MD",
     "hide_input_from_viewers":false,
     "hide_output_from_viewers":false,
     "node_id":"yJ6691NvNjjJkAMJ3TflDW"
    }
   }
  },
  {
   "cell_type":"code",
   "source":[
    "# Example\n",
    "while True:\n",
    "    line = input(\"Enter Line: \")\n",
    "    if line == 'python':\n",
    "        print(line)\n",
    "        continue\n",
    "    elif line == 'java':\n",
    "        print(line)\n",
    "        break\n",
    "    else:\n",
    "        print(line)\n",
    "print('Done')"
   ],
   "execution_count":6,
   "outputs":[
    {
     "name":"stdout",
     "text":[
      "Enter Line:  python\n",
      "python\n",
      "Enter Line:  python\n",
      "python\n",
      "Enter Line:  java\n",
      "java\n",
      "Done\n"
     ],
     "output_type":"stream"
    }
   ],
   "metadata":{
    "datalore":{
     "type":"CODE",
     "hide_input_from_viewers":false,
     "hide_output_from_viewers":false,
     "node_id":"Rv9DhnRya4WJgfEDWKXt4h"
    }
   }
  },
  {
   "cell_type":"markdown",
   "source":[
    "# Definite Loops"
   ],
   "attachments":{
    
   },
   "metadata":{
    "datalore":{
     "type":"MD",
     "hide_input_from_viewers":false,
     "hide_output_from_viewers":false,
     "node_id":"SYA1DiJDrZseFwn0FB8RCi"
    }
   }
  },
  {
   "cell_type":"markdown",
   "source":[
    "## For Loop"
   ],
   "attachments":{
    
   },
   "metadata":{
    "datalore":{
     "type":"MD",
     "hide_input_from_viewers":false,
     "hide_output_from_viewers":false,
     "node_id":"Wi49TgqL1bT5bG7D8z2vK8"
    }
   }
  },
  {
   "cell_type":"markdown",
   "source":[
    "- **Iteration Variable** changes each time through the loop.\n",
    "- **Iteration Variable** iterate thru each values in the sequence (list, sets..) "
   ],
   "attachments":{
    
   },
   "metadata":{
    "datalore":{
     "type":"MD",
     "hide_input_from_viewers":false,
     "hide_output_from_viewers":false,
     "node_id":"wAkFdAkAhLz1QHz6ItEDef"
    }
   }
  },
  {
   "cell_type":"code",
   "source":[
    "# Example\n",
    "for i in [5,4,3,2,1]:\n",
    "    print(i)\n",
    "print(\"Done\")\n",
    "\n",
    "# i is the iteration variable.\n",
    "# on each iteration, a value from given list is alloted to i.\n",
    "# once iteration done, jumps out of loop.   "
   ],
   "execution_count":10,
   "outputs":[
    {
     "name":"stdout",
     "text":[
      "5\n",
      "4\n",
      "3\n",
      "2\n",
      "1\n",
      "Done\n"
     ],
     "output_type":"stream"
    }
   ],
   "metadata":{
    "datalore":{
     "type":"CODE",
     "hide_input_from_viewers":false,
     "hide_output_from_viewers":false,
     "node_id":"adDelnUj1Wz5yiuPrgptwr"
    }
   }
  },
  {
   "cell_type":"markdown",
   "source":[
    "## Largest Number in a Loop"
   ],
   "attachments":{
    
   },
   "metadata":{
    "datalore":{
     "type":"MD",
     "hide_input_from_viewers":false,
     "hide_output_from_viewers":false,
     "node_id":"cHnFRZfzrIYXtfA9EPldRr"
    }
   }
  },
  {
   "cell_type":"code",
   "source":[
    "largest_so_far = -1\n",
    "for num in [12, 45, 67, 11, 88, 10]:\n",
    "    if num > largest_so_far:\n",
    "        largest_so_far = num\n",
    "    print(num)\n",
    "print(f'Largest Number: {largest_so_far}')\n",
    "    "
   ],
   "execution_count":14,
   "outputs":[
    {
     "name":"stdout",
     "text":[
      "12\n",
      "45\n",
      "67\n",
      "11\n",
      "88\n",
      "10\n",
      "Largest Number: 88\n"
     ],
     "output_type":"stream"
    }
   ],
   "metadata":{
    "datalore":{
     "type":"CODE",
     "hide_input_from_viewers":false,
     "hide_output_from_viewers":false,
     "node_id":"Eb7w3pPDoabs2xccmVh3vY"
    }
   }
  },
  {
   "cell_type":"markdown",
   "source":[
    "# Loops Idioms"
   ],
   "attachments":{
    
   },
   "metadata":{
    "datalore":{
     "type":"MD",
     "hide_input_from_viewers":false,
     "hide_output_from_viewers":false,
     "node_id":"MLWmb9ifFUaaTmSD6IQqUT"
    }
   }
  },
  {
   "cell_type":"markdown",
   "source":[
    "## Counting in a Loop"
   ],
   "attachments":{
    
   },
   "metadata":{
    "datalore":{
     "type":"MD",
     "hide_input_from_viewers":false,
     "hide_output_from_viewers":false,
     "node_id":"anNhMgquGpKNA7vGABsjs8"
    }
   }
  },
  {
   "cell_type":"markdown",
   "source":[
    "To count how many times a loops execute, Add **counter variable** that starts at 0 and\n",
    "add one to it each time we iterate through the loop"
   ],
   "attachments":{
    
   },
   "metadata":{
    "datalore":{
     "type":"MD",
     "hide_input_from_viewers":false,
     "hide_output_from_viewers":false,
     "node_id":"FxVfFWfzVf2vdDAlMIqqUb"
    }
   }
  },
  {
   "cell_type":"code",
   "source":[
    "count = 0\n",
    "for i in [51, 64, 77, 99]:\n",
    "    count += 1\n",
    "    print(i, f'count: {count}')\n",
    "print(\"Done\")"
   ],
   "execution_count":15,
   "outputs":[
    {
     "name":"stdout",
     "text":[
      "51 count: 1\n",
      "64 count: 2\n",
      "77 count: 3\n",
      "99 count: 4\n",
      "Done\n"
     ],
     "output_type":"stream"
    }
   ],
   "metadata":{
    "datalore":{
     "type":"CODE",
     "hide_input_from_viewers":false,
     "hide_output_from_viewers":false,
     "node_id":"zxraUycGwYQVbub32T7nTd"
    }
   }
  },
  {
   "cell_type":"markdown",
   "source":[
    "## Summing in a Loop"
   ],
   "attachments":{
    
   },
   "metadata":{
    "datalore":{
     "type":"MD",
     "hide_input_from_viewers":false,
     "hide_output_from_viewers":false,
     "node_id":"uO4J1P7qqs4sO8suNTALyP"
    }
   }
  },
  {
   "cell_type":"markdown",
   "source":[
    "To sum up values in a loop, a **sum variable** is given that starts at 0 and\n",
    "we add values to that sum each time we do the looping."
   ],
   "attachments":{
    
   },
   "metadata":{
    "datalore":{
     "type":"MD",
     "hide_input_from_viewers":false,
     "hide_output_from_viewers":false,
     "node_id":"NJiiNP9EGx7Ox8SgfEVQNQ"
    }
   }
  },
  {
   "cell_type":"code",
   "source":[
    "sum = 0\n",
    "for thing in [34, 44, 55, 100]:\n",
    "    sum += thing\n",
    "    print(thing, sum)\n",
    "print(f'Total Sum: {sum}')"
   ],
   "execution_count":16,
   "outputs":[
    {
     "name":"stdout",
     "text":[
      "34 34\n",
      "44 78\n",
      "55 133\n",
      "100 233\n",
      "Total Sum: 233\n"
     ],
     "output_type":"stream"
    }
   ],
   "metadata":{
    "datalore":{
     "type":"CODE",
     "hide_input_from_viewers":false,
     "hide_output_from_viewers":false,
     "node_id":"w8oJddeckTifd2OFMTLGx9"
    }
   }
  },
  {
   "cell_type":"markdown",
   "source":[
    "## Average from a Loop"
   ],
   "attachments":{
    
   },
   "metadata":{
    "datalore":{
     "type":"MD",
     "hide_input_from_viewers":false,
     "hide_output_from_viewers":false,
     "node_id":"BN4eXAUP4RWMtBjfJyh1Pt"
    }
   }
  },
  {
   "cell_type":"markdown",
   "source":[
    "Here we use sum and count variables, and average is computed once loop is done "
   ],
   "attachments":{
    
   },
   "metadata":{
    "datalore":{
     "type":"MD",
     "hide_input_from_viewers":false,
     "hide_output_from_viewers":false,
     "node_id":"LEOh9vgvhGDCgYMDZVeF66"
    }
   }
  },
  {
   "cell_type":"code",
   "source":[
    "count = 0\n",
    "sum1 = 0\n",
    "for num in [30 ,40, 50, 70]:\n",
    "    count += 1\n",
    "    sum1 += num\n",
    "    print(count, num, sum1)\n",
    "print(f'Average: {sum1\/count}')"
   ],
   "execution_count":19,
   "outputs":[
    {
     "name":"stdout",
     "text":[
      "1 30 30\n",
      "2 40 70\n",
      "3 50 120\n",
      "4 70 190\n",
      "Average: 47.5\n"
     ],
     "output_type":"stream"
    }
   ],
   "metadata":{
    "datalore":{
     "type":"CODE",
     "hide_input_from_viewers":false,
     "hide_output_from_viewers":false,
     "node_id":"CmWBR08moJKkn7eiMkIHRU"
    }
   }
  },
  {
   "cell_type":"markdown",
   "source":[
    "## Filtering in a Loop"
   ],
   "attachments":{
    
   },
   "metadata":{
    "datalore":{
     "type":"MD",
     "hide_input_from_viewers":false,
     "hide_output_from_viewers":false,
     "node_id":"Yq6cqgUAybZHK7LVCpyV86"
    }
   }
  },
  {
   "cell_type":"code",
   "source":[
    "for i in [5, 66, 81, 13]:\n",
    "    if i > 50:\n",
    "        print(i)\n",
    "print('Done')\n",
    "\n",
    "# We filter by adding a if condition with in for loop."
   ],
   "execution_count":22,
   "outputs":[
    {
     "name":"stdout",
     "text":[
      "66\n",
      "81\n",
      "Done\n"
     ],
     "output_type":"stream"
    }
   ],
   "metadata":{
    "datalore":{
     "type":"CODE",
     "hide_input_from_viewers":false,
     "hide_output_from_viewers":false,
     "node_id":"34XwlClypII6tcLT6S7vd2"
    }
   }
  },
  {
   "cell_type":"markdown",
   "source":[
    "## None Type"
   ],
   "attachments":{
    
   },
   "metadata":{
    "datalore":{
     "type":"MD",
     "hide_input_from_viewers":false,
     "hide_output_from_viewers":false,
     "node_id":"vHNLJhE6htrUUuHW9Zj9LR"
    }
   }
  },
  {
   "cell_type":"markdown",
   "source":[
    "Means absence of value."
   ],
   "attachments":{
    
   },
   "metadata":{
    "datalore":{
     "type":"MD",
     "hide_input_from_viewers":false,
     "hide_output_from_viewers":false,
     "node_id":"WRdQAKnT2QNG2ctQINDEOo"
    }
   }
  },
  {
   "cell_type":"markdown",
   "source":[
    "### Finding the Smallest Number"
   ],
   "attachments":{
    
   },
   "metadata":{
    "datalore":{
     "type":"MD",
     "hide_input_from_viewers":false,
     "hide_output_from_viewers":false,
     "node_id":"gHcCWYxDSArXJpPkJIjFyM"
    }
   }
  },
  {
   "cell_type":"code",
   "source":[
    "smallest = None\n",
    "for num in [44, 11, 3, 889, 22]:\n",
    "    if smallest is None:\n",
    "        smallest = num\n",
    "    elif num < smallest:\n",
    "        smallest = num\n",
    "    print(num)\n",
    "print(f'Smallest: {smallest}')"
   ],
   "execution_count":25,
   "outputs":[
    {
     "name":"stdout",
     "text":[
      "44\n",
      "11\n",
      "3\n",
      "889\n",
      "22\n",
      "Smallest: 3\n"
     ],
     "output_type":"stream"
    }
   ],
   "metadata":{
    "datalore":{
     "type":"CODE",
     "hide_input_from_viewers":false,
     "hide_output_from_viewers":false,
     "node_id":"cQcgljsmlZgwtqChrnY6e3"
    }
   }
  },
  {
   "cell_type":"markdown",
   "source":[
    "## Exercise Works "
   ],
   "attachments":{
    
   },
   "metadata":{
    "datalore":{
     "type":"MD",
     "hide_input_from_viewers":false,
     "hide_output_from_viewers":false,
     "node_id":"j8aACgwkkMBk2Q4kFbG1zU"
    }
   }
  },
  {
   "cell_type":"markdown",
   "source":[
    "**Write a program which reads number until user enters 'done'. once done entered, print count, sum, average of all values. if any other val entered, detect the mistake using try execpt block and prints an error and skip to next number.**"
   ],
   "attachments":{
    
   },
   "metadata":{
    "datalore":{
     "type":"MD",
     "hide_input_from_viewers":false,
     "hide_output_from_viewers":false,
     "node_id":"zCCF01TZ1M7SVVPPSe2U9N"
    }
   }
  },
  {
   "cell_type":"code",
   "source":[
    "count=0\n",
    "totalSum = 0 \n",
    "while True:\n",
    "    data = input('Enter Number: ')\n",
    "    if data != 'done':\n",
    "        try:\n",
    "            sdata = float(data)\n",
    "            count += 1\n",
    "            totalSum += sdata\n",
    "        except:\n",
    "            print(\"Invalid Input\")\n",
    "    elif data == 'done':\n",
    "        break\n",
    "print(f'Count: {count}, Sum: {totalSum}, Average: {totalSum\/count}')\n"
   ],
   "execution_count":10,
   "outputs":[
    {
     "name":"stdout",
     "text":[
      "Enter Number:  4\n",
      "Enter Number:  6\n",
      "Enter Number:  sdfdsfds\n",
      "Invalid Input\n",
      "Enter Number:  55\n",
      "Enter Number:  done\n",
      "Count: 3, Sum: 65.0, Average: 21.666666666666668\n"
     ],
     "output_type":"stream"
    }
   ],
   "metadata":{
    "datalore":{
     "type":"CODE",
     "hide_input_from_viewers":false,
     "hide_output_from_viewers":false,
     "node_id":"2dtCwEKNivrxgBho3gJyOk"
    }
   }
  },
  {
   "cell_type":"markdown",
   "source":[
    "**5.2 Write a program that repeatedly prompts a user for integer numbers until the user enters 'done'. Once 'done' is entered, print out the largest and smallest of the numbers. If the user enters anything other than a valid number catch it with a try\/except and put out an appropriate message and ignore the number. Enter 7, 2, bob, 10, and 4 and match the output below.**"
   ],
   "attachments":{
    
   },
   "metadata":{
    "datalore":{
     "type":"MD",
     "hide_input_from_viewers":false,
     "hide_output_from_viewers":false,
     "node_id":"O9x3Eb1bCMW6C34qb19o6l"
    }
   }
  },
  {
   "cell_type":"code",
   "source":[
    "largest = None\n",
    "smallest = None\n",
    "num_list = []\n",
    "while True:\n",
    "    num = input(\"Enter a number: \")\n",
    "    if num == \"done\":\n",
    "        break\n",
    "    try:\n",
    "        num = float(num)\n",
    "        num_list.append(num)\n",
    "        for i in num_list:\n",
    "            if largest is None:\n",
    "                largest = i\n",
    "            elif i > largest:\n",
    "                largest = i\n",
    "        for i in num_list:\n",
    "            if smallest is None:\n",
    "                smallest = i\n",
    "            elif i < smallest:\n",
    "                smallest = i  \n",
    "    except:\n",
    "        print('Invalid input')\n",
    "        continue\n",
    "    \n",
    "print(\"Maximum is\", largest)\n",
    "print(\"Minimum is\", smallest)"
   ],
   "execution_count":15,
   "outputs":[
    {
     "name":"stdout",
     "text":[
      "Enter a number:  10\n",
      "Enter a number:  4\n",
      "Enter a number:  5\n",
      "Enter a number:  8\n",
      "Enter a number:  2\n",
      "Enter a number:  done\n",
      "Maximum is  10.0\n",
      "Minimum is  2.0\n"
     ],
     "output_type":"stream"
    }
   ],
   "metadata":{
    "datalore":{
     "type":"CODE",
     "hide_input_from_viewers":false,
     "hide_output_from_viewers":false,
     "node_id":"RKH6BwO63tAU1l5md6Fh5S"
    }
   }
  },
  {
   "cell_type":"markdown",
   "source":[
    "                             **Beginner Level Ends Here**"
   ],
   "attachments":{
    
   },
   "metadata":{
    "datalore":{
     "type":"MD",
     "hide_input_from_viewers":false,
     "hide_output_from_viewers":false,
     "node_id":"9bJzAT4F2PW5dgHZwDo66y"
    }
   }
  },
  {
   "cell_type":"code",
   "source":[
    
   ],
   "execution_count":null,
   "outputs":[
    
   ],
   "metadata":{
    "datalore":{
     "type":"CODE",
     "hide_input_from_viewers":false,
     "hide_output_from_viewers":false,
     "node_id":"4zxVL1IhyO2XHHZBm8stmy"
    }
   }
  }
 ],
 "metadata":{
  "kernelspec":{
   "display_name":"Python",
   "language":"python",
   "name":"python"
  },
  "datalore":{
   "version":1,
   "computation_mode":"JUPYTER",
   "package_manager":"pip",
   "base_environment":"default",
   "packages":[
    
   ]
  }
 },
 "nbformat":4,
 "nbformat_minor":4
}