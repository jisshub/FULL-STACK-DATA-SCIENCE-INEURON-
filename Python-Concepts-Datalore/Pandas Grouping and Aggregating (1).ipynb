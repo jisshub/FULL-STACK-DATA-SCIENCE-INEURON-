{
 "cells":[
  {
   "cell_type":"code",
   "source":[
    "import pandas as pd\n",
    "import numpy as np"
   ],
   "execution_count":3,
   "outputs":[
    
   ],
   "metadata":{
    "datalore":{
     "type":"CODE",
     "hide_input_from_viewers":false,
     "hide_output_from_viewers":false,
     "node_id":"Yz2gHRWE9ioDGyAqjrqeL4"
    }
   }
  },
  {
   "cell_type":"markdown",
   "source":[
    "# GroupBy Function\n",
    "\n",
    "### It allows you to split your data into separate groups to perform computations for better analysis.\n",
    "### GroupBy allows us to group our data based on different features and get a more accurate idea about your data"
   ],
   "attachments":{
    
   },
   "metadata":{
    "datalore":{
     "type":"MD",
     "hide_input_from_viewers":false,
     "hide_output_from_viewers":false,
     "node_id":"IBKlsrgr4iuXkwwrPQLsPg"
    }
   }
  },
  {
   "cell_type":"markdown",
   "source":[
    "## Example\n",
    "\n",
    "### Let’s say we are trying to analyze the weight of a person in a city. We can easily get a fair idea of their weight by determining the mean weight of all the people. We can group the people into different gender groups and calculate their mean weight. This would give us a better insight into the weight of a person living in the city. We get an even better picture if we further separate these gender groups into different age groups and then take their mean weight."
   ],
   "attachments":{
    
   },
   "metadata":{
    "datalore":{
     "type":"MD",
     "hide_input_from_viewers":false,
     "hide_output_from_viewers":false,
     "node_id":"t8rXiSuVRDV3WZnpXzzThH"
    }
   }
  },
  {
   "cell_type":"markdown",
   "source":[
    "## Understanding the Dataset and the Problem Statement"
   ],
   "attachments":{
    
   },
   "metadata":{
    "datalore":{
     "type":"MD",
     "hide_input_from_viewers":false,
     "hide_output_from_viewers":false,
     "node_id":"hJZIxGH2VkTta4e6yCkpxj"
    }
   }
  },
  {
   "cell_type":"markdown",
   "source":[
    "### Load Data"
   ],
   "attachments":{
    
   },
   "metadata":{
    "datalore":{
     "type":"MD",
     "hide_input_from_viewers":false,
     "hide_output_from_viewers":false,
     "node_id":"8CghgYmvgS78jwB01StPwr"
    }
   }
  },
  {
   "cell_type":"code",
   "source":[
    "sales_data = pd.read_csv('Test.csv')\n",
    "sales_data"
   ],
   "execution_count":4,
   "outputs":[
    {
     "data":{
      "text\/html":[
       "<div>\n",
       "<style scoped>\n",
       "    .dataframe tbody tr th:only-of-type {\n",
       "        vertical-align: middle;\n",
       "    }\n",
       "\n",
       "    .dataframe tbody tr th {\n",
       "        vertical-align: top;\n",
       "    }\n",
       "\n",
       "    .dataframe thead th {\n",
       "        text-align: right;\n",
       "    }\n",
       "<\/style>\n",
       "<table border=\"1\" class=\"dataframe\">\n",
       "  <thead>\n",
       "    <tr style=\"text-align: right;\">\n",
       "      <th><\/th>\n",
       "      <th>Item_Identifier<\/th>\n",
       "      <th>Item_Weight<\/th>\n",
       "      <th>Item_Fat_Content<\/th>\n",
       "      <th>Item_Visibility<\/th>\n",
       "      <th>Item_Type<\/th>\n",
       "      <th>Item_MRP<\/th>\n",
       "      <th>Outlet_Identifier<\/th>\n",
       "      <th>Outlet_Establishment_Year<\/th>\n",
       "      <th>Outlet_Size<\/th>\n",
       "      <th>Outlet_Location_Type<\/th>\n",
       "      <th>Outlet_Type<\/th>\n",
       "    <\/tr>\n",
       "  <\/thead>\n",
       "  <tbody>\n",
       "    <tr>\n",
       "      <th>0<\/th>\n",
       "      <td>FDW58<\/td>\n",
       "      <td>20.750<\/td>\n",
       "      <td>Low Fat<\/td>\n",
       "      <td>0.007565<\/td>\n",
       "      <td>Snack Foods<\/td>\n",
       "      <td>107.8622<\/td>\n",
       "      <td>OUT049<\/td>\n",
       "      <td>1999<\/td>\n",
       "      <td>Medium<\/td>\n",
       "      <td>Tier 1<\/td>\n",
       "      <td>Supermarket Type1<\/td>\n",
       "    <\/tr>\n",
       "    <tr>\n",
       "      <th>1<\/th>\n",
       "      <td>FDW14<\/td>\n",
       "      <td>8.300<\/td>\n",
       "      <td>reg<\/td>\n",
       "      <td>0.038428<\/td>\n",
       "      <td>Dairy<\/td>\n",
       "      <td>87.3198<\/td>\n",
       "      <td>OUT017<\/td>\n",
       "      <td>2007<\/td>\n",
       "      <td>NaN<\/td>\n",
       "      <td>Tier 2<\/td>\n",
       "      <td>Supermarket Type1<\/td>\n",
       "    <\/tr>\n",
       "    <tr>\n",
       "      <th>2<\/th>\n",
       "      <td>NCN55<\/td>\n",
       "      <td>14.600<\/td>\n",
       "      <td>Low Fat<\/td>\n",
       "      <td>0.099575<\/td>\n",
       "      <td>Others<\/td>\n",
       "      <td>241.7538<\/td>\n",
       "      <td>OUT010<\/td>\n",
       "      <td>1998<\/td>\n",
       "      <td>NaN<\/td>\n",
       "      <td>Tier 3<\/td>\n",
       "      <td>Grocery Store<\/td>\n",
       "    <\/tr>\n",
       "    <tr>\n",
       "      <th>3<\/th>\n",
       "      <td>FDQ58<\/td>\n",
       "      <td>7.315<\/td>\n",
       "      <td>Low Fat<\/td>\n",
       "      <td>0.015388<\/td>\n",
       "      <td>Snack Foods<\/td>\n",
       "      <td>155.0340<\/td>\n",
       "      <td>OUT017<\/td>\n",
       "      <td>2007<\/td>\n",
       "      <td>NaN<\/td>\n",
       "      <td>Tier 2<\/td>\n",
       "      <td>Supermarket Type1<\/td>\n",
       "    <\/tr>\n",
       "    <tr>\n",
       "      <th>4<\/th>\n",
       "      <td>FDY38<\/td>\n",
       "      <td>NaN<\/td>\n",
       "      <td>Regular<\/td>\n",
       "      <td>0.118599<\/td>\n",
       "      <td>Dairy<\/td>\n",
       "      <td>234.2300<\/td>\n",
       "      <td>OUT027<\/td>\n",
       "      <td>1985<\/td>\n",
       "      <td>Medium<\/td>\n",
       "      <td>Tier 3<\/td>\n",
       "      <td>Supermarket Type3<\/td>\n",
       "    <\/tr>\n",
       "    <tr>\n",
       "      <th>...<\/th>\n",
       "      <td>...<\/td>\n",
       "      <td>...<\/td>\n",
       "      <td>...<\/td>\n",
       "      <td>...<\/td>\n",
       "      <td>...<\/td>\n",
       "      <td>...<\/td>\n",
       "      <td>...<\/td>\n",
       "      <td>...<\/td>\n",
       "      <td>...<\/td>\n",
       "      <td>...<\/td>\n",
       "      <td>...<\/td>\n",
       "    <\/tr>\n",
       "    <tr>\n",
       "      <th>5676<\/th>\n",
       "      <td>FDB58<\/td>\n",
       "      <td>10.500<\/td>\n",
       "      <td>Regular<\/td>\n",
       "      <td>0.013496<\/td>\n",
       "      <td>Snack Foods<\/td>\n",
       "      <td>141.3154<\/td>\n",
       "      <td>OUT046<\/td>\n",
       "      <td>1997<\/td>\n",
       "      <td>Small<\/td>\n",
       "      <td>Tier 1<\/td>\n",
       "      <td>Supermarket Type1<\/td>\n",
       "    <\/tr>\n",
       "    <tr>\n",
       "      <th>5677<\/th>\n",
       "      <td>FDD47<\/td>\n",
       "      <td>7.600<\/td>\n",
       "      <td>Regular<\/td>\n",
       "      <td>0.142991<\/td>\n",
       "      <td>Starchy Foods<\/td>\n",
       "      <td>169.1448<\/td>\n",
       "      <td>OUT018<\/td>\n",
       "      <td>2009<\/td>\n",
       "      <td>Medium<\/td>\n",
       "      <td>Tier 3<\/td>\n",
       "      <td>Supermarket Type2<\/td>\n",
       "    <\/tr>\n",
       "    <tr>\n",
       "      <th>5678<\/th>\n",
       "      <td>NCO17<\/td>\n",
       "      <td>10.000<\/td>\n",
       "      <td>Low Fat<\/td>\n",
       "      <td>0.073529<\/td>\n",
       "      <td>Health and Hygiene<\/td>\n",
       "      <td>118.7440<\/td>\n",
       "      <td>OUT045<\/td>\n",
       "      <td>2002<\/td>\n",
       "      <td>NaN<\/td>\n",
       "      <td>Tier 2<\/td>\n",
       "      <td>Supermarket Type1<\/td>\n",
       "    <\/tr>\n",
       "    <tr>\n",
       "      <th>5679<\/th>\n",
       "      <td>FDJ26<\/td>\n",
       "      <td>15.300<\/td>\n",
       "      <td>Regular<\/td>\n",
       "      <td>0.000000<\/td>\n",
       "      <td>Canned<\/td>\n",
       "      <td>214.6218<\/td>\n",
       "      <td>OUT017<\/td>\n",
       "      <td>2007<\/td>\n",
       "      <td>NaN<\/td>\n",
       "      <td>Tier 2<\/td>\n",
       "      <td>Supermarket Type1<\/td>\n",
       "    <\/tr>\n",
       "    <tr>\n",
       "      <th>5680<\/th>\n",
       "      <td>FDU37<\/td>\n",
       "      <td>9.500<\/td>\n",
       "      <td>Regular<\/td>\n",
       "      <td>0.104720<\/td>\n",
       "      <td>Canned<\/td>\n",
       "      <td>79.7960<\/td>\n",
       "      <td>OUT045<\/td>\n",
       "      <td>2002<\/td>\n",
       "      <td>NaN<\/td>\n",
       "      <td>Tier 2<\/td>\n",
       "      <td>Supermarket Type1<\/td>\n",
       "    <\/tr>\n",
       "  <\/tbody>\n",
       "<\/table>\n",
       "<p>5681 rows × 11 columns<\/p>\n",
       "<\/div>"
      ]
     },
     "metadata":{
      
     },
     "output_type":"display_data"
    }
   ],
   "metadata":{
    "datalore":{
     "type":"CODE",
     "hide_input_from_viewers":false,
     "hide_output_from_viewers":false,
     "node_id":"9YiFxbWStwnUPAdnlZF1h4"
    }
   }
  },
  {
   "cell_type":"markdown",
   "source":[
    "### Check for missing values in dataframe"
   ],
   "attachments":{
    
   },
   "metadata":{
    "datalore":{
     "type":"MD",
     "hide_input_from_viewers":false,
     "hide_output_from_viewers":false,
     "node_id":"A41ivrS2lhWvcMOwANdPtg"
    }
   }
  },
  {
   "cell_type":"code",
   "source":[
    "sales_data.isnull()"
   ],
   "execution_count":5,
   "outputs":[
    {
     "data":{
      "text\/html":[
       "<div>\n",
       "<style scoped>\n",
       "    .dataframe tbody tr th:only-of-type {\n",
       "        vertical-align: middle;\n",
       "    }\n",
       "\n",
       "    .dataframe tbody tr th {\n",
       "        vertical-align: top;\n",
       "    }\n",
       "\n",
       "    .dataframe thead th {\n",
       "        text-align: right;\n",
       "    }\n",
       "<\/style>\n",
       "<table border=\"1\" class=\"dataframe\">\n",
       "  <thead>\n",
       "    <tr style=\"text-align: right;\">\n",
       "      <th><\/th>\n",
       "      <th>Item_Identifier<\/th>\n",
       "      <th>Item_Weight<\/th>\n",
       "      <th>Item_Fat_Content<\/th>\n",
       "      <th>Item_Visibility<\/th>\n",
       "      <th>Item_Type<\/th>\n",
       "      <th>Item_MRP<\/th>\n",
       "      <th>Outlet_Identifier<\/th>\n",
       "      <th>Outlet_Establishment_Year<\/th>\n",
       "      <th>Outlet_Size<\/th>\n",
       "      <th>Outlet_Location_Type<\/th>\n",
       "      <th>Outlet_Type<\/th>\n",
       "    <\/tr>\n",
       "  <\/thead>\n",
       "  <tbody>\n",
       "    <tr>\n",
       "      <th>0<\/th>\n",
       "      <td>False<\/td>\n",
       "      <td>False<\/td>\n",
       "      <td>False<\/td>\n",
       "      <td>False<\/td>\n",
       "      <td>False<\/td>\n",
       "      <td>False<\/td>\n",
       "      <td>False<\/td>\n",
       "      <td>False<\/td>\n",
       "      <td>False<\/td>\n",
       "      <td>False<\/td>\n",
       "      <td>False<\/td>\n",
       "    <\/tr>\n",
       "    <tr>\n",
       "      <th>1<\/th>\n",
       "      <td>False<\/td>\n",
       "      <td>False<\/td>\n",
       "      <td>False<\/td>\n",
       "      <td>False<\/td>\n",
       "      <td>False<\/td>\n",
       "      <td>False<\/td>\n",
       "      <td>False<\/td>\n",
       "      <td>False<\/td>\n",
       "      <td>True<\/td>\n",
       "      <td>False<\/td>\n",
       "      <td>False<\/td>\n",
       "    <\/tr>\n",
       "    <tr>\n",
       "      <th>2<\/th>\n",
       "      <td>False<\/td>\n",
       "      <td>False<\/td>\n",
       "      <td>False<\/td>\n",
       "      <td>False<\/td>\n",
       "      <td>False<\/td>\n",
       "      <td>False<\/td>\n",
       "      <td>False<\/td>\n",
       "      <td>False<\/td>\n",
       "      <td>True<\/td>\n",
       "      <td>False<\/td>\n",
       "      <td>False<\/td>\n",
       "    <\/tr>\n",
       "    <tr>\n",
       "      <th>3<\/th>\n",
       "      <td>False<\/td>\n",
       "      <td>False<\/td>\n",
       "      <td>False<\/td>\n",
       "      <td>False<\/td>\n",
       "      <td>False<\/td>\n",
       "      <td>False<\/td>\n",
       "      <td>False<\/td>\n",
       "      <td>False<\/td>\n",
       "      <td>True<\/td>\n",
       "      <td>False<\/td>\n",
       "      <td>False<\/td>\n",
       "    <\/tr>\n",
       "    <tr>\n",
       "      <th>4<\/th>\n",
       "      <td>False<\/td>\n",
       "      <td>True<\/td>\n",
       "      <td>False<\/td>\n",
       "      <td>False<\/td>\n",
       "      <td>False<\/td>\n",
       "      <td>False<\/td>\n",
       "      <td>False<\/td>\n",
       "      <td>False<\/td>\n",
       "      <td>False<\/td>\n",
       "      <td>False<\/td>\n",
       "      <td>False<\/td>\n",
       "    <\/tr>\n",
       "    <tr>\n",
       "      <th>...<\/th>\n",
       "      <td>...<\/td>\n",
       "      <td>...<\/td>\n",
       "      <td>...<\/td>\n",
       "      <td>...<\/td>\n",
       "      <td>...<\/td>\n",
       "      <td>...<\/td>\n",
       "      <td>...<\/td>\n",
       "      <td>...<\/td>\n",
       "      <td>...<\/td>\n",
       "      <td>...<\/td>\n",
       "      <td>...<\/td>\n",
       "    <\/tr>\n",
       "    <tr>\n",
       "      <th>5676<\/th>\n",
       "      <td>False<\/td>\n",
       "      <td>False<\/td>\n",
       "      <td>False<\/td>\n",
       "      <td>False<\/td>\n",
       "      <td>False<\/td>\n",
       "      <td>False<\/td>\n",
       "      <td>False<\/td>\n",
       "      <td>False<\/td>\n",
       "      <td>False<\/td>\n",
       "      <td>False<\/td>\n",
       "      <td>False<\/td>\n",
       "    <\/tr>\n",
       "    <tr>\n",
       "      <th>5677<\/th>\n",
       "      <td>False<\/td>\n",
       "      <td>False<\/td>\n",
       "      <td>False<\/td>\n",
       "      <td>False<\/td>\n",
       "      <td>False<\/td>\n",
       "      <td>False<\/td>\n",
       "      <td>False<\/td>\n",
       "      <td>False<\/td>\n",
       "      <td>False<\/td>\n",
       "      <td>False<\/td>\n",
       "      <td>False<\/td>\n",
       "    <\/tr>\n",
       "    <tr>\n",
       "      <th>5678<\/th>\n",
       "      <td>False<\/td>\n",
       "      <td>False<\/td>\n",
       "      <td>False<\/td>\n",
       "      <td>False<\/td>\n",
       "      <td>False<\/td>\n",
       "      <td>False<\/td>\n",
       "      <td>False<\/td>\n",
       "      <td>False<\/td>\n",
       "      <td>True<\/td>\n",
       "      <td>False<\/td>\n",
       "      <td>False<\/td>\n",
       "    <\/tr>\n",
       "    <tr>\n",
       "      <th>5679<\/th>\n",
       "      <td>False<\/td>\n",
       "      <td>False<\/td>\n",
       "      <td>False<\/td>\n",
       "      <td>False<\/td>\n",
       "      <td>False<\/td>\n",
       "      <td>False<\/td>\n",
       "      <td>False<\/td>\n",
       "      <td>False<\/td>\n",
       "      <td>True<\/td>\n",
       "      <td>False<\/td>\n",
       "      <td>False<\/td>\n",
       "    <\/tr>\n",
       "    <tr>\n",
       "      <th>5680<\/th>\n",
       "      <td>False<\/td>\n",
       "      <td>False<\/td>\n",
       "      <td>False<\/td>\n",
       "      <td>False<\/td>\n",
       "      <td>False<\/td>\n",
       "      <td>False<\/td>\n",
       "      <td>False<\/td>\n",
       "      <td>False<\/td>\n",
       "      <td>True<\/td>\n",
       "      <td>False<\/td>\n",
       "      <td>False<\/td>\n",
       "    <\/tr>\n",
       "  <\/tbody>\n",
       "<\/table>\n",
       "<p>5681 rows × 11 columns<\/p>\n",
       "<\/div>"
      ]
     },
     "metadata":{
      
     },
     "output_type":"display_data"
    }
   ],
   "metadata":{
    "datalore":{
     "type":"CODE",
     "hide_input_from_viewers":false,
     "hide_output_from_viewers":false,
     "node_id":"JF0awoe42ogPfMv1f1OCqK"
    }
   }
  },
  {
   "cell_type":"markdown",
   "source":[
    "### Missing values in outlet_size column.. need to handle it"
   ],
   "attachments":{
    
   },
   "metadata":{
    "datalore":{
     "type":"MD",
     "hide_input_from_viewers":false,
     "hide_output_from_viewers":false,
     "node_id":"oyYI0x6Vju38Jj0NQR9Zkw"
    }
   }
  },
  {
   "cell_type":"code",
   "source":[
    "sales_data.info()"
   ],
   "execution_count":6,
   "outputs":[
    {
     "name":"stdout",
     "text":[
      "<class 'pandas.core.frame.DataFrame'>\n",
      "RangeIndex: 5681 entries, 0 to 5680\n",
      "Data columns (total 11 columns):\n",
      " #   Column                     Non-Null Count  Dtype  \n",
      "---  ------                     --------------  -----  \n",
      " 0   Item_Identifier            5681 non-null   object \n",
      " 1   Item_Weight                4705 non-null   float64\n",
      " 2   Item_Fat_Content           5681 non-null   object \n",
      " 3   Item_Visibility            5681 non-null   float64\n",
      " 4   Item_Type                  5681 non-null   object \n",
      " 5   Item_MRP                   5681 non-null   float64\n",
      " 6   Outlet_Identifier          5681 non-null   object \n",
      " 7   Outlet_Establishment_Year  5681 non-null   int64  \n",
      " 8   Outlet_Size                4075 non-null   object \n",
      " 9   Outlet_Location_Type       5681 non-null   object \n",
      " 10  Outlet_Type                5681 non-null   object \n",
      "dtypes: float64(3), int64(1), object(7)\n",
      "memory usage: 488.3+ KB\n"
     ],
     "output_type":"stream"
    }
   ],
   "metadata":{
    "datalore":{
     "type":"CODE",
     "hide_input_from_viewers":false,
     "hide_output_from_viewers":false,
     "node_id":"OfzEovN94MA2aQf6eDTLcv"
    }
   }
  },
  {
   "cell_type":"code",
   "source":[
    "sales_data.dropna(axis=0)"
   ],
   "execution_count":7,
   "outputs":[
    {
     "data":{
      "text\/html":[
       "<div>\n",
       "<style scoped>\n",
       "    .dataframe tbody tr th:only-of-type {\n",
       "        vertical-align: middle;\n",
       "    }\n",
       "\n",
       "    .dataframe tbody tr th {\n",
       "        vertical-align: top;\n",
       "    }\n",
       "\n",
       "    .dataframe thead th {\n",
       "        text-align: right;\n",
       "    }\n",
       "<\/style>\n",
       "<table border=\"1\" class=\"dataframe\">\n",
       "  <thead>\n",
       "    <tr style=\"text-align: right;\">\n",
       "      <th><\/th>\n",
       "      <th>Item_Identifier<\/th>\n",
       "      <th>Item_Weight<\/th>\n",
       "      <th>Item_Fat_Content<\/th>\n",
       "      <th>Item_Visibility<\/th>\n",
       "      <th>Item_Type<\/th>\n",
       "      <th>Item_MRP<\/th>\n",
       "      <th>Outlet_Identifier<\/th>\n",
       "      <th>Outlet_Establishment_Year<\/th>\n",
       "      <th>Outlet_Size<\/th>\n",
       "      <th>Outlet_Location_Type<\/th>\n",
       "      <th>Outlet_Type<\/th>\n",
       "    <\/tr>\n",
       "  <\/thead>\n",
       "  <tbody>\n",
       "    <tr>\n",
       "      <th>0<\/th>\n",
       "      <td>FDW58<\/td>\n",
       "      <td>20.750<\/td>\n",
       "      <td>Low Fat<\/td>\n",
       "      <td>0.007565<\/td>\n",
       "      <td>Snack Foods<\/td>\n",
       "      <td>107.8622<\/td>\n",
       "      <td>OUT049<\/td>\n",
       "      <td>1999<\/td>\n",
       "      <td>Medium<\/td>\n",
       "      <td>Tier 1<\/td>\n",
       "      <td>Supermarket Type1<\/td>\n",
       "    <\/tr>\n",
       "    <tr>\n",
       "      <th>5<\/th>\n",
       "      <td>FDH56<\/td>\n",
       "      <td>9.800<\/td>\n",
       "      <td>Regular<\/td>\n",
       "      <td>0.063817<\/td>\n",
       "      <td>Fruits and Vegetables<\/td>\n",
       "      <td>117.1492<\/td>\n",
       "      <td>OUT046<\/td>\n",
       "      <td>1997<\/td>\n",
       "      <td>Small<\/td>\n",
       "      <td>Tier 1<\/td>\n",
       "      <td>Supermarket Type1<\/td>\n",
       "    <\/tr>\n",
       "    <tr>\n",
       "      <th>6<\/th>\n",
       "      <td>FDL48<\/td>\n",
       "      <td>19.350<\/td>\n",
       "      <td>Regular<\/td>\n",
       "      <td>0.082602<\/td>\n",
       "      <td>Baking Goods<\/td>\n",
       "      <td>50.1034<\/td>\n",
       "      <td>OUT018<\/td>\n",
       "      <td>2009<\/td>\n",
       "      <td>Medium<\/td>\n",
       "      <td>Tier 3<\/td>\n",
       "      <td>Supermarket Type2<\/td>\n",
       "    <\/tr>\n",
       "    <tr>\n",
       "      <th>13<\/th>\n",
       "      <td>FDU11<\/td>\n",
       "      <td>4.785<\/td>\n",
       "      <td>Low Fat<\/td>\n",
       "      <td>0.092738<\/td>\n",
       "      <td>Breads<\/td>\n",
       "      <td>122.3098<\/td>\n",
       "      <td>OUT049<\/td>\n",
       "      <td>1999<\/td>\n",
       "      <td>Medium<\/td>\n",
       "      <td>Tier 1<\/td>\n",
       "      <td>Supermarket Type1<\/td>\n",
       "    <\/tr>\n",
       "    <tr>\n",
       "      <th>14<\/th>\n",
       "      <td>DRL59<\/td>\n",
       "      <td>16.750<\/td>\n",
       "      <td>LF<\/td>\n",
       "      <td>0.021206<\/td>\n",
       "      <td>Hard Drinks<\/td>\n",
       "      <td>52.0298<\/td>\n",
       "      <td>OUT013<\/td>\n",
       "      <td>1987<\/td>\n",
       "      <td>High<\/td>\n",
       "      <td>Tier 3<\/td>\n",
       "      <td>Supermarket Type1<\/td>\n",
       "    <\/tr>\n",
       "    <tr>\n",
       "      <th>...<\/th>\n",
       "      <td>...<\/td>\n",
       "      <td>...<\/td>\n",
       "      <td>...<\/td>\n",
       "      <td>...<\/td>\n",
       "      <td>...<\/td>\n",
       "      <td>...<\/td>\n",
       "      <td>...<\/td>\n",
       "      <td>...<\/td>\n",
       "      <td>...<\/td>\n",
       "      <td>...<\/td>\n",
       "      <td>...<\/td>\n",
       "    <\/tr>\n",
       "    <tr>\n",
       "      <th>5673<\/th>\n",
       "      <td>FDF46<\/td>\n",
       "      <td>7.070<\/td>\n",
       "      <td>Low Fat<\/td>\n",
       "      <td>0.094053<\/td>\n",
       "      <td>Snack Foods<\/td>\n",
       "      <td>116.0834<\/td>\n",
       "      <td>OUT018<\/td>\n",
       "      <td>2009<\/td>\n",
       "      <td>Medium<\/td>\n",
       "      <td>Tier 3<\/td>\n",
       "      <td>Supermarket Type2<\/td>\n",
       "    <\/tr>\n",
       "    <tr>\n",
       "      <th>5674<\/th>\n",
       "      <td>DRL35<\/td>\n",
       "      <td>15.700<\/td>\n",
       "      <td>Low Fat<\/td>\n",
       "      <td>0.030704<\/td>\n",
       "      <td>Hard Drinks<\/td>\n",
       "      <td>43.2770<\/td>\n",
       "      <td>OUT046<\/td>\n",
       "      <td>1997<\/td>\n",
       "      <td>Small<\/td>\n",
       "      <td>Tier 1<\/td>\n",
       "      <td>Supermarket Type1<\/td>\n",
       "    <\/tr>\n",
       "    <tr>\n",
       "      <th>5675<\/th>\n",
       "      <td>FDW46<\/td>\n",
       "      <td>13.000<\/td>\n",
       "      <td>Regular<\/td>\n",
       "      <td>0.070411<\/td>\n",
       "      <td>Snack Foods<\/td>\n",
       "      <td>63.4484<\/td>\n",
       "      <td>OUT049<\/td>\n",
       "      <td>1999<\/td>\n",
       "      <td>Medium<\/td>\n",
       "      <td>Tier 1<\/td>\n",
       "      <td>Supermarket Type1<\/td>\n",
       "    <\/tr>\n",
       "    <tr>\n",
       "      <th>5676<\/th>\n",
       "      <td>FDB58<\/td>\n",
       "      <td>10.500<\/td>\n",
       "      <td>Regular<\/td>\n",
       "      <td>0.013496<\/td>\n",
       "      <td>Snack Foods<\/td>\n",
       "      <td>141.3154<\/td>\n",
       "      <td>OUT046<\/td>\n",
       "      <td>1997<\/td>\n",
       "      <td>Small<\/td>\n",
       "      <td>Tier 1<\/td>\n",
       "      <td>Supermarket Type1<\/td>\n",
       "    <\/tr>\n",
       "    <tr>\n",
       "      <th>5677<\/th>\n",
       "      <td>FDD47<\/td>\n",
       "      <td>7.600<\/td>\n",
       "      <td>Regular<\/td>\n",
       "      <td>0.142991<\/td>\n",
       "      <td>Starchy Foods<\/td>\n",
       "      <td>169.1448<\/td>\n",
       "      <td>OUT018<\/td>\n",
       "      <td>2009<\/td>\n",
       "      <td>Medium<\/td>\n",
       "      <td>Tier 3<\/td>\n",
       "      <td>Supermarket Type2<\/td>\n",
       "    <\/tr>\n",
       "  <\/tbody>\n",
       "<\/table>\n",
       "<p>3099 rows × 11 columns<\/p>\n",
       "<\/div>"
      ]
     },
     "metadata":{
      
     },
     "output_type":"display_data"
    }
   ],
   "metadata":{
    "datalore":{
     "type":"CODE",
     "hide_input_from_viewers":false,
     "hide_output_from_viewers":false,
     "node_id":"Ud5jZj9GqjPIowtl5fkeNg"
    }
   }
  },
  {
   "cell_type":"markdown",
   "source":[
    "### Group the dataset based on the outlet location type using GroupBy"
   ],
   "attachments":{
    
   },
   "metadata":{
    "datalore":{
     "type":"MD",
     "hide_input_from_viewers":false,
     "hide_output_from_viewers":false,
     "node_id":"VgKR4bN75OT41EJ2Hkro8I"
    }
   }
  },
  {
   "cell_type":"code",
   "source":[
    "# Pass Outlet_Location_Type  column as argument\n",
    "sales_data.groupby('Outlet_Location_Type')"
   ],
   "execution_count":8,
   "outputs":[
    {
     "data":{
      "text\/plain":[
       "<pandas.core.groupby.generic.DataFrameGroupBy object at 0x7f86ad212f70>"
      ]
     },
     "metadata":{
      
     },
     "output_type":"display_data"
    }
   ],
   "metadata":{
    "datalore":{
     "type":"CODE",
     "hide_input_from_viewers":false,
     "hide_output_from_viewers":false,
     "node_id":"1LKFUmb6U1US9CydUiBrDj"
    }
   }
  },
  {
   "cell_type":"markdown",
   "source":[
    "### GroupBy has conveniently returned a DataFrameGroupBy object. \n",
    "### It has split the data into separate groups. However, it won’t do anything unless it is being told explicitly to do so.\n",
    "### So, let’s find the count of different outlet location types:"
   ],
   "attachments":{
    
   },
   "metadata":{
    "datalore":{
     "type":"MD",
     "hide_input_from_viewers":false,
     "hide_output_from_viewers":false,
     "node_id":"5T6YHusCepj8xNUKNWFmcY"
    }
   }
  },
  {
   "cell_type":"code",
   "source":[
    "sales_data.groupby('Outlet_Location_Type').count()\n",
    "\n",
    "### We can see data is grouped into Tier1, Tier2 and Tier3 which r the values of 'Outlet_Location_Type'.\n",
    "### So Tier1, Tier2 and Tier3 become indexes of the dataframe."
   ],
   "execution_count":9,
   "outputs":[
    {
     "data":{
      "text\/html":[
       "<div>\n",
       "<style scoped>\n",
       "    .dataframe tbody tr th:only-of-type {\n",
       "        vertical-align: middle;\n",
       "    }\n",
       "\n",
       "    .dataframe tbody tr th {\n",
       "        vertical-align: top;\n",
       "    }\n",
       "\n",
       "    .dataframe thead th {\n",
       "        text-align: right;\n",
       "    }\n",
       "<\/style>\n",
       "<table border=\"1\" class=\"dataframe\">\n",
       "  <thead>\n",
       "    <tr style=\"text-align: right;\">\n",
       "      <th><\/th>\n",
       "      <th>Item_Identifier<\/th>\n",
       "      <th>Item_Weight<\/th>\n",
       "      <th>Item_Fat_Content<\/th>\n",
       "      <th>Item_Visibility<\/th>\n",
       "      <th>Item_Type<\/th>\n",
       "      <th>Item_MRP<\/th>\n",
       "      <th>Outlet_Identifier<\/th>\n",
       "      <th>Outlet_Establishment_Year<\/th>\n",
       "      <th>Outlet_Size<\/th>\n",
       "      <th>Outlet_Type<\/th>\n",
       "    <\/tr>\n",
       "    <tr>\n",
       "      <th>Outlet_Location_Type<\/th>\n",
       "      <th><\/th>\n",
       "      <th><\/th>\n",
       "      <th><\/th>\n",
       "      <th><\/th>\n",
       "      <th><\/th>\n",
       "      <th><\/th>\n",
       "      <th><\/th>\n",
       "      <th><\/th>\n",
       "      <th><\/th>\n",
       "      <th><\/th>\n",
       "    <\/tr>\n",
       "  <\/thead>\n",
       "  <tbody>\n",
       "    <tr>\n",
       "      <th>Tier 1<\/th>\n",
       "      <td>1592<\/td>\n",
       "      <td>1240<\/td>\n",
       "      <td>1592<\/td>\n",
       "      <td>1592<\/td>\n",
       "      <td>1592<\/td>\n",
       "      <td>1592<\/td>\n",
       "      <td>1592<\/td>\n",
       "      <td>1592<\/td>\n",
       "      <td>1592<\/td>\n",
       "      <td>1592<\/td>\n",
       "    <\/tr>\n",
       "    <tr>\n",
       "      <th>Tier 2<\/th>\n",
       "      <td>1856<\/td>\n",
       "      <td>1856<\/td>\n",
       "      <td>1856<\/td>\n",
       "      <td>1856<\/td>\n",
       "      <td>1856<\/td>\n",
       "      <td>1856<\/td>\n",
       "      <td>1856<\/td>\n",
       "      <td>1856<\/td>\n",
       "      <td>620<\/td>\n",
       "      <td>1856<\/td>\n",
       "    <\/tr>\n",
       "    <tr>\n",
       "      <th>Tier 3<\/th>\n",
       "      <td>2233<\/td>\n",
       "      <td>1609<\/td>\n",
       "      <td>2233<\/td>\n",
       "      <td>2233<\/td>\n",
       "      <td>2233<\/td>\n",
       "      <td>2233<\/td>\n",
       "      <td>2233<\/td>\n",
       "      <td>2233<\/td>\n",
       "      <td>1863<\/td>\n",
       "      <td>2233<\/td>\n",
       "    <\/tr>\n",
       "  <\/tbody>\n",
       "<\/table>\n",
       "<\/div>"
      ]
     },
     "metadata":{
      
     },
     "output_type":"display_data"
    }
   ],
   "metadata":{
    "datalore":{
     "type":"CODE",
     "hide_input_from_viewers":false,
     "hide_output_from_viewers":false,
     "node_id":"q11ixxazsRa9tyMo7flFIQ"
    }
   }
  },
  {
   "cell_type":"markdown",
   "source":[
    "### Let’s find out the total sale amount for each location type."
   ],
   "attachments":{
    
   },
   "metadata":{
    "datalore":{
     "type":"MD",
     "hide_input_from_viewers":false,
     "hide_output_from_viewers":false,
     "node_id":"BhFmUGSautwIhNGRokJGb8"
    }
   }
  },
  {
   "cell_type":"code",
   "source":[
    "sales_data.groupby('Outlet_Location_Type')['Item_MRP']"
   ],
   "execution_count":10,
   "outputs":[
    {
     "data":{
      "text\/plain":[
       "<pandas.core.groupby.generic.SeriesGroupBy object at 0x7f8685f291c0>"
      ]
     },
     "metadata":{
      
     },
     "output_type":"display_data"
    }
   ],
   "metadata":{
    "datalore":{
     "type":"CODE",
     "hide_input_from_viewers":false,
     "hide_output_from_viewers":false,
     "node_id":"IhNWSD8InPaIw703ezSO5q"
    }
   }
  },
  {
   "cell_type":"markdown",
   "source":[
    "#### Here, GroupBy has returned a SeriesGroupBy object. \n",
    "#### No computation will be done until we specify the aggregation function:"
   ],
   "attachments":{
    
   },
   "metadata":{
    "datalore":{
     "type":"MD",
     "hide_input_from_viewers":false,
     "hide_output_from_viewers":false,
     "node_id":"Z6wel1opBvcgPu9nOyfIh4"
    }
   }
  },
  {
   "cell_type":"code",
   "source":[
    "sales_data.groupby('Outlet_Location_Type')['Item_MRP'].sum()"
   ],
   "execution_count":11,
   "outputs":[
    {
     "data":{
      "text\/html":[
       
      ]
     },
     "metadata":{
      
     },
     "output_type":"display_data"
    }
   ],
   "metadata":{
    "datalore":{
     "type":"CODE",
     "hide_input_from_viewers":false,
     "hide_output_from_viewers":false,
     "node_id":"cfLUzMCg64PilGZgvAOh8H"
    }
   }
  },
  {
   "cell_type":"markdown",
   "source":[
    "## The Split-Apply-Combine Strategy\n",
    "#### Using this strategy, a data analyst can break down a big problem into manageable parts, perform operations on individual parts and combine them back together to answer a specific question.\n",
    "\n",
    "#### Let's understand how this strategy works in GroupBy by working with a sample dataset to get the average height for males and females in a group. "
   ],
   "attachments":{
    
   },
   "metadata":{
    "datalore":{
     "type":"MD",
     "hide_input_from_viewers":false,
     "hide_output_from_viewers":false,
     "node_id":"wdqJAkX6xXdMOW5XKy60Pc"
    }
   }
  },
  {
   "cell_type":"code",
   "source":[
    "gender_data = {'Gender': ['m','f','f','m','f','m','m'], 'Height':[172,171,169,173,170,175,178]}"
   ],
   "execution_count":12,
   "outputs":[
    
   ],
   "metadata":{
    "datalore":{
     "type":"CODE",
     "hide_input_from_viewers":false,
     "hide_output_from_viewers":false,
     "node_id":"pxl6e0M2noB40n5IcVN87z"
    }
   }
  },
  {
   "cell_type":"code",
   "source":[
    "df = pd.DataFrame(gender_data)\n",
    "df"
   ],
   "execution_count":13,
   "outputs":[
    {
     "data":{
      "text\/html":[
       "<div>\n",
       "<style scoped>\n",
       "    .dataframe tbody tr th:only-of-type {\n",
       "        vertical-align: middle;\n",
       "    }\n",
       "\n",
       "    .dataframe tbody tr th {\n",
       "        vertical-align: top;\n",
       "    }\n",
       "\n",
       "    .dataframe thead th {\n",
       "        text-align: right;\n",
       "    }\n",
       "<\/style>\n",
       "<table border=\"1\" class=\"dataframe\">\n",
       "  <thead>\n",
       "    <tr style=\"text-align: right;\">\n",
       "      <th><\/th>\n",
       "      <th>Gender<\/th>\n",
       "      <th>Height<\/th>\n",
       "    <\/tr>\n",
       "  <\/thead>\n",
       "  <tbody>\n",
       "    <tr>\n",
       "      <th>0<\/th>\n",
       "      <td>m<\/td>\n",
       "      <td>172<\/td>\n",
       "    <\/tr>\n",
       "    <tr>\n",
       "      <th>1<\/th>\n",
       "      <td>f<\/td>\n",
       "      <td>171<\/td>\n",
       "    <\/tr>\n",
       "    <tr>\n",
       "      <th>2<\/th>\n",
       "      <td>f<\/td>\n",
       "      <td>169<\/td>\n",
       "    <\/tr>\n",
       "    <tr>\n",
       "      <th>3<\/th>\n",
       "      <td>m<\/td>\n",
       "      <td>173<\/td>\n",
       "    <\/tr>\n",
       "    <tr>\n",
       "      <th>4<\/th>\n",
       "      <td>f<\/td>\n",
       "      <td>170<\/td>\n",
       "    <\/tr>\n",
       "    <tr>\n",
       "      <th>5<\/th>\n",
       "      <td>m<\/td>\n",
       "      <td>175<\/td>\n",
       "    <\/tr>\n",
       "    <tr>\n",
       "      <th>6<\/th>\n",
       "      <td>m<\/td>\n",
       "      <td>178<\/td>\n",
       "    <\/tr>\n",
       "  <\/tbody>\n",
       "<\/table>\n",
       "<\/div>"
      ]
     },
     "metadata":{
      
     },
     "output_type":"display_data"
    }
   ],
   "metadata":{
    "datalore":{
     "type":"CODE",
     "hide_input_from_viewers":false,
     "hide_output_from_viewers":false,
     "node_id":"mHcYwIFUzLkWcz6WcnQ6kE"
    }
   }
  },
  {
   "cell_type":"markdown",
   "source":[
    "### Splitting the data into separate groups:"
   ],
   "attachments":{
    
   },
   "metadata":{
    "datalore":{
     "type":"MD",
     "hide_input_from_viewers":false,
     "hide_output_from_viewers":false,
     "node_id":"vWvkOYZcdpZ89QaIMPFl9E"
    }
   }
  },
  {
   "cell_type":"markdown",
   "source":[
    "#### Split based on females"
   ],
   "attachments":{
    
   },
   "metadata":{
    "datalore":{
     "type":"MD",
     "hide_input_from_viewers":false,
     "hide_output_from_viewers":false,
     "node_id":"2K0KgfwDjdb7cAM9mEgR2S"
    }
   }
  },
  {
   "cell_type":"code",
   "source":[
    "f_filter = df['Gender']=='f'\n",
    "df[f_filter]"
   ],
   "execution_count":14,
   "outputs":[
    {
     "data":{
      "text\/html":[
       "<div>\n",
       "<style scoped>\n",
       "    .dataframe tbody tr th:only-of-type {\n",
       "        vertical-align: middle;\n",
       "    }\n",
       "\n",
       "    .dataframe tbody tr th {\n",
       "        vertical-align: top;\n",
       "    }\n",
       "\n",
       "    .dataframe thead th {\n",
       "        text-align: right;\n",
       "    }\n",
       "<\/style>\n",
       "<table border=\"1\" class=\"dataframe\">\n",
       "  <thead>\n",
       "    <tr style=\"text-align: right;\">\n",
       "      <th><\/th>\n",
       "      <th>Gender<\/th>\n",
       "      <th>Height<\/th>\n",
       "    <\/tr>\n",
       "  <\/thead>\n",
       "  <tbody>\n",
       "    <tr>\n",
       "      <th>1<\/th>\n",
       "      <td>f<\/td>\n",
       "      <td>171<\/td>\n",
       "    <\/tr>\n",
       "    <tr>\n",
       "      <th>2<\/th>\n",
       "      <td>f<\/td>\n",
       "      <td>169<\/td>\n",
       "    <\/tr>\n",
       "    <tr>\n",
       "      <th>4<\/th>\n",
       "      <td>f<\/td>\n",
       "      <td>170<\/td>\n",
       "    <\/tr>\n",
       "  <\/tbody>\n",
       "<\/table>\n",
       "<\/div>"
      ]
     },
     "metadata":{
      
     },
     "output_type":"display_data"
    }
   ],
   "metadata":{
    "datalore":{
     "type":"CODE",
     "hide_input_from_viewers":false,
     "hide_output_from_viewers":false,
     "node_id":"KieBGY46X63WadKqonTB5x"
    }
   }
  },
  {
   "cell_type":"markdown",
   "source":[
    "#### Split based on males"
   ],
   "attachments":{
    
   },
   "metadata":{
    "datalore":{
     "type":"MD",
     "hide_input_from_viewers":false,
     "hide_output_from_viewers":false,
     "node_id":"VgdKBhMQybj6v1DTgYAMDj"
    }
   }
  },
  {
   "cell_type":"code",
   "source":[
    "m_filter = df['Gender']=='m'\n",
    "df[m_filter]"
   ],
   "execution_count":15,
   "outputs":[
    {
     "data":{
      "text\/html":[
       "<div>\n",
       "<style scoped>\n",
       "    .dataframe tbody tr th:only-of-type {\n",
       "        vertical-align: middle;\n",
       "    }\n",
       "\n",
       "    .dataframe tbody tr th {\n",
       "        vertical-align: top;\n",
       "    }\n",
       "\n",
       "    .dataframe thead th {\n",
       "        text-align: right;\n",
       "    }\n",
       "<\/style>\n",
       "<table border=\"1\" class=\"dataframe\">\n",
       "  <thead>\n",
       "    <tr style=\"text-align: right;\">\n",
       "      <th><\/th>\n",
       "      <th>Gender<\/th>\n",
       "      <th>Height<\/th>\n",
       "    <\/tr>\n",
       "  <\/thead>\n",
       "  <tbody>\n",
       "    <tr>\n",
       "      <th>0<\/th>\n",
       "      <td>m<\/td>\n",
       "      <td>172<\/td>\n",
       "    <\/tr>\n",
       "    <tr>\n",
       "      <th>3<\/th>\n",
       "      <td>m<\/td>\n",
       "      <td>173<\/td>\n",
       "    <\/tr>\n",
       "    <tr>\n",
       "      <th>5<\/th>\n",
       "      <td>m<\/td>\n",
       "      <td>175<\/td>\n",
       "    <\/tr>\n",
       "    <tr>\n",
       "      <th>6<\/th>\n",
       "      <td>m<\/td>\n",
       "      <td>178<\/td>\n",
       "    <\/tr>\n",
       "  <\/tbody>\n",
       "<\/table>\n",
       "<\/div>"
      ]
     },
     "metadata":{
      
     },
     "output_type":"display_data"
    }
   ],
   "metadata":{
    "datalore":{
     "type":"CODE",
     "hide_input_from_viewers":false,
     "hide_output_from_viewers":false,
     "node_id":"uKNFanH1KfJV79O6N64ujs"
    }
   }
  },
  {
   "cell_type":"markdown",
   "source":[
    "### Find the mean height of female and male groups"
   ],
   "attachments":{
    
   },
   "metadata":{
    "datalore":{
     "type":"MD",
     "hide_input_from_viewers":false,
     "hide_output_from_viewers":false,
     "node_id":"fWvTYEf3aPSmErkvk98fYV"
    }
   }
  },
  {
   "cell_type":"code",
   "source":[
    "male_avg_h = df[m_filter]['Height'].mean()\n",
    "male_avg_h"
   ],
   "execution_count":16,
   "outputs":[
    {
     "data":{
      "text\/plain":[
       "174.5"
      ]
     },
     "metadata":{
      
     },
     "output_type":"display_data"
    }
   ],
   "metadata":{
    "datalore":{
     "type":"CODE",
     "hide_input_from_viewers":false,
     "hide_output_from_viewers":false,
     "node_id":"dI78SxoKaLjs7ijcv0zjBL"
    }
   }
  },
  {
   "cell_type":"code",
   "source":[
    "female_avg_h = df[f_filter]['Height'].mean()\n",
    "female_avg_h"
   ],
   "execution_count":17,
   "outputs":[
    {
     "data":{
      "text\/plain":[
       "170.0"
      ]
     },
     "metadata":{
      
     },
     "output_type":"display_data"
    }
   ],
   "metadata":{
    "datalore":{
     "type":"CODE",
     "hide_input_from_viewers":false,
     "hide_output_from_viewers":false,
     "node_id":"BxlLQ8ejI2yU1WCSOAI0K6"
    }
   }
  },
  {
   "cell_type":"markdown",
   "source":[
    "### Combine the result to output a DataFrame:"
   ],
   "attachments":{
    
   },
   "metadata":{
    "datalore":{
     "type":"MD",
     "hide_input_from_viewers":false,
     "hide_output_from_viewers":false,
     "node_id":"mFFOqFAcWXFpBrlz2nVC2D"
    }
   }
  },
  {
   "cell_type":"code",
   "source":[
    "df_output = pd.DataFrame({'Gender': ['m','g'], 'Mean_Height': [male_avg_h, female_avg_h]})\n",
    "df_output\n",
    "\n",
    "# We got the mean height for each gender"
   ],
   "execution_count":18,
   "outputs":[
    {
     "data":{
      "text\/html":[
       "<div>\n",
       "<style scoped>\n",
       "    .dataframe tbody tr th:only-of-type {\n",
       "        vertical-align: middle;\n",
       "    }\n",
       "\n",
       "    .dataframe tbody tr th {\n",
       "        vertical-align: top;\n",
       "    }\n",
       "\n",
       "    .dataframe thead th {\n",
       "        text-align: right;\n",
       "    }\n",
       "<\/style>\n",
       "<table border=\"1\" class=\"dataframe\">\n",
       "  <thead>\n",
       "    <tr style=\"text-align: right;\">\n",
       "      <th><\/th>\n",
       "      <th>Gender<\/th>\n",
       "      <th>Mean_Height<\/th>\n",
       "    <\/tr>\n",
       "  <\/thead>\n",
       "  <tbody>\n",
       "    <tr>\n",
       "      <th>0<\/th>\n",
       "      <td>m<\/td>\n",
       "      <td>174.5<\/td>\n",
       "    <\/tr>\n",
       "    <tr>\n",
       "      <th>1<\/th>\n",
       "      <td>g<\/td>\n",
       "      <td>170.0<\/td>\n",
       "    <\/tr>\n",
       "  <\/tbody>\n",
       "<\/table>\n",
       "<\/div>"
      ]
     },
     "metadata":{
      
     },
     "output_type":"display_data"
    }
   ],
   "metadata":{
    "datalore":{
     "type":"CODE",
     "hide_input_from_viewers":false,
     "hide_output_from_viewers":false,
     "node_id":"CzbjnDZqNalPZHTpGr8MNS"
    }
   }
  },
  {
   "cell_type":"markdown",
   "source":[
    "### Now comes the Power of GroupBy\n",
    "### All these three steps can be achieved by using GroupBy with just a single line of code"
   ],
   "attachments":{
    
   },
   "metadata":{
    "datalore":{
     "type":"MD",
     "hide_input_from_viewers":false,
     "hide_output_from_viewers":false,
     "node_id":"KuL6jCrdOvN9SxQaFP6eXD"
    }
   }
  },
  {
   "cell_type":"code",
   "source":[
    "df.groupby('Gender').mean()"
   ],
   "execution_count":19,
   "outputs":[
    {
     "data":{
      "text\/html":[
       "<div>\n",
       "<style scoped>\n",
       "    .dataframe tbody tr th:only-of-type {\n",
       "        vertical-align: middle;\n",
       "    }\n",
       "\n",
       "    .dataframe tbody tr th {\n",
       "        vertical-align: top;\n",
       "    }\n",
       "\n",
       "    .dataframe thead th {\n",
       "        text-align: right;\n",
       "    }\n",
       "<\/style>\n",
       "<table border=\"1\" class=\"dataframe\">\n",
       "  <thead>\n",
       "    <tr style=\"text-align: right;\">\n",
       "      <th><\/th>\n",
       "      <th>Height<\/th>\n",
       "    <\/tr>\n",
       "    <tr>\n",
       "      <th>Gender<\/th>\n",
       "      <th><\/th>\n",
       "    <\/tr>\n",
       "  <\/thead>\n",
       "  <tbody>\n",
       "    <tr>\n",
       "      <th>f<\/th>\n",
       "      <td>170.0<\/td>\n",
       "    <\/tr>\n",
       "    <tr>\n",
       "      <th>m<\/th>\n",
       "      <td>174.5<\/td>\n",
       "    <\/tr>\n",
       "  <\/tbody>\n",
       "<\/table>\n",
       "<\/div>"
      ]
     },
     "metadata":{
      
     },
     "output_type":"display_data"
    }
   ],
   "metadata":{
    "datalore":{
     "type":"CODE",
     "hide_input_from_viewers":false,
     "hide_output_from_viewers":false,
     "node_id":"hg0chLAg6zhqYXHGcyHEON"
    }
   }
  },
  {
   "cell_type":"markdown",
   "source":[
    "#### Now that is smart! Have a look at how GroupBy did that in the image below:\n",
    "\n",
    "https:\/\/cdn.analyticsvidhya.com\/wp-content\/uploads\/2020\/03\/Split_Apply_Combine.png\n",
    "\n",
    "\n",
    "1. Get the data\n",
    "2. Split the data based on gender.\n",
    "3. Apply aggregation function to compute mean height of each group.\n",
    "4. Finally combine the result to a new dataframe.\n",
    "\n",
    "Now that you understand what the Split-Apply-Combine strategy is, let’s dive deeper into the GroupBy function and unlock its full potential.\n"
   ],
   "attachments":{
    
   },
   "metadata":{
    "datalore":{
     "type":"MD",
     "hide_input_from_viewers":false,
     "hide_output_from_viewers":false,
     "node_id":"8NzFG7Gcapw7desux4LGGG"
    }
   }
  },
  {
   "cell_type":"code",
   "source":[
    "df = sales_data.groupby('Outlet_Location_Type')"
   ],
   "execution_count":20,
   "outputs":[
    
   ],
   "metadata":{
    "datalore":{
     "type":"CODE",
     "hide_input_from_viewers":false,
     "hide_output_from_viewers":false,
     "node_id":"YlLMXqjS2gb38eLzvOCrwV"
    }
   }
  },
  {
   "cell_type":"code",
   "source":[
    "df.count()"
   ],
   "execution_count":21,
   "outputs":[
    {
     "data":{
      "text\/html":[
       "<div>\n",
       "<style scoped>\n",
       "    .dataframe tbody tr th:only-of-type {\n",
       "        vertical-align: middle;\n",
       "    }\n",
       "\n",
       "    .dataframe tbody tr th {\n",
       "        vertical-align: top;\n",
       "    }\n",
       "\n",
       "    .dataframe thead th {\n",
       "        text-align: right;\n",
       "    }\n",
       "<\/style>\n",
       "<table border=\"1\" class=\"dataframe\">\n",
       "  <thead>\n",
       "    <tr style=\"text-align: right;\">\n",
       "      <th><\/th>\n",
       "      <th>Item_Identifier<\/th>\n",
       "      <th>Item_Weight<\/th>\n",
       "      <th>Item_Fat_Content<\/th>\n",
       "      <th>Item_Visibility<\/th>\n",
       "      <th>Item_Type<\/th>\n",
       "      <th>Item_MRP<\/th>\n",
       "      <th>Outlet_Identifier<\/th>\n",
       "      <th>Outlet_Establishment_Year<\/th>\n",
       "      <th>Outlet_Size<\/th>\n",
       "      <th>Outlet_Type<\/th>\n",
       "    <\/tr>\n",
       "    <tr>\n",
       "      <th>Outlet_Location_Type<\/th>\n",
       "      <th><\/th>\n",
       "      <th><\/th>\n",
       "      <th><\/th>\n",
       "      <th><\/th>\n",
       "      <th><\/th>\n",
       "      <th><\/th>\n",
       "      <th><\/th>\n",
       "      <th><\/th>\n",
       "      <th><\/th>\n",
       "      <th><\/th>\n",
       "    <\/tr>\n",
       "  <\/thead>\n",
       "  <tbody>\n",
       "    <tr>\n",
       "      <th>Tier 1<\/th>\n",
       "      <td>1592<\/td>\n",
       "      <td>1240<\/td>\n",
       "      <td>1592<\/td>\n",
       "      <td>1592<\/td>\n",
       "      <td>1592<\/td>\n",
       "      <td>1592<\/td>\n",
       "      <td>1592<\/td>\n",
       "      <td>1592<\/td>\n",
       "      <td>1592<\/td>\n",
       "      <td>1592<\/td>\n",
       "    <\/tr>\n",
       "    <tr>\n",
       "      <th>Tier 2<\/th>\n",
       "      <td>1856<\/td>\n",
       "      <td>1856<\/td>\n",
       "      <td>1856<\/td>\n",
       "      <td>1856<\/td>\n",
       "      <td>1856<\/td>\n",
       "      <td>1856<\/td>\n",
       "      <td>1856<\/td>\n",
       "      <td>1856<\/td>\n",
       "      <td>620<\/td>\n",
       "      <td>1856<\/td>\n",
       "    <\/tr>\n",
       "    <tr>\n",
       "      <th>Tier 3<\/th>\n",
       "      <td>2233<\/td>\n",
       "      <td>1609<\/td>\n",
       "      <td>2233<\/td>\n",
       "      <td>2233<\/td>\n",
       "      <td>2233<\/td>\n",
       "      <td>2233<\/td>\n",
       "      <td>2233<\/td>\n",
       "      <td>2233<\/td>\n",
       "      <td>1863<\/td>\n",
       "      <td>2233<\/td>\n",
       "    <\/tr>\n",
       "  <\/tbody>\n",
       "<\/table>\n",
       "<\/div>"
      ]
     },
     "metadata":{
      
     },
     "output_type":"display_data"
    }
   ],
   "metadata":{
    "datalore":{
     "type":"CODE",
     "hide_input_from_viewers":false,
     "hide_output_from_viewers":false,
     "node_id":"9KI9lYktsVXDYEQlBkezXQ"
    }
   }
  },
  {
   "cell_type":"markdown",
   "source":[
    "- Display the indices in each group\n",
    "- call groups on GroupBy Object"
   ],
   "attachments":{
    
   },
   "metadata":{
    "datalore":{
     "type":"MD",
     "hide_input_from_viewers":false,
     "hide_output_from_viewers":false,
     "node_id":"9kowG2K6nT2cFxj5GWsMmz"
    }
   }
  },
  {
   "cell_type":"code",
   "source":[
    "df.groups"
   ],
   "execution_count":22,
   "outputs":[
    {
     "data":{
      "text\/plain":[
       "{'Tier 1': [0, 5, 12, 13, 15, 22, 23, 27, 28, 30, 49, 50, 55, 58, 67, 70, 73, 76, 77, 78, 82, 86, 87, 95, 103, 104, 106, 107, 111, 116, 123, 134, 135, 137, 138, 141, 142, 150, 157, 159, 163, 164, 167, 185, 188, 190, 192, 193, 196, 198, 199, 205, 206, 209, 211, 216, 218, 219, 220, 222, 227, 228, 234, 235, 237, 238, 247, 252, 258, 261, 264, 265, 268, 276, 278, 283, 285, 286, 287, 289, 292, 302, 307, 317, 320, 330, 333, 342, 343, 344, 348, 349, 352, 358, 369, 371, 372, 375, 380, 383, ...], 'Tier 2': [1, 3, 8, 9, 10, 11, 16, 21, 24, 26, 29, 34, 38, 42, 47, 48, 52, 53, 59, 60, 61, 63, 64, 66, 69, 74, 75, 80, 84, 85, 88, 90, 96, 98, 101, 102, 114, 118, 119, 121, 122, 126, 132, 143, 144, 145, 146, 148, 151, 153, 158, 160, 161, 168, 170, 171, 174, 180, 182, 183, 186, 189, 194, 197, 201, 202, 203, 207, 208, 213, 215, 223, 224, 225, 229, 232, 233, 236, 239, 241, 243, 245, 249, 250, 253, 254, 255, 256, 260, 267, 270, 271, 274, 275, 277, 282, 296, 297, 301, 303, ...], 'Tier 3': [2, 4, 6, 7, 14, 17, 18, 19, 20, 25, 31, 32, 33, 35, 36, 37, 39, 40, 41, 43, 44, 45, 46, 51, 54, 56, 57, 62, 65, 68, 71, 72, 79, 81, 83, 89, 91, 92, 93, 94, 97, 99, 100, 105, 108, 109, 110, 112, 113, 115, 117, 120, 124, 125, 127, 128, 129, 130, 131, 133, 136, 139, 140, 147, 149, 152, 154, 155, 156, 162, 165, 166, 169, 172, 173, 175, 176, 177, 178, 179, 181, 184, 187, 191, 195, 200, 204, 210, 212, 214, 217, 221, 226, 230, 231, 240, 242, 244, 246, 248, ...]}"
      ]
     },
     "metadata":{
      
     },
     "output_type":"display_data"
    }
   ],
   "metadata":{
    "datalore":{
     "type":"CODE",
     "hide_input_from_viewers":false,
     "hide_output_from_viewers":false,
     "node_id":"SFRxKV0CsPwiMndOonxkkm"
    }
   }
  },
  {
   "cell_type":"markdown",
   "source":[
    "- Can Iterate over all the groups"
   ],
   "attachments":{
    
   },
   "metadata":{
    "datalore":{
     "type":"MD",
     "hide_input_from_viewers":false,
     "hide_output_from_viewers":false,
     "node_id":"L3UINiR8uKI5aFIIJUiNML"
    }
   }
  },
  {
   "cell_type":"code",
   "source":[
    "for i, j in df:\n",
    "    print(f'{i} contains {j.shape[0]} rows')"
   ],
   "execution_count":23,
   "outputs":[
    {
     "name":"stdout",
     "text":[
      "Tier 1 contains 1592 rows\n",
      "Tier 2 contains 1856 rows\n",
      "Tier 3 contains 2233 rows\n"
     ],
     "output_type":"stream"
    }
   ],
   "metadata":{
    "datalore":{
     "type":"CODE",
     "hide_input_from_viewers":false,
     "hide_output_from_viewers":false,
     "node_id":"WetwqnEjdGqi2Q9f1RF7xN"
    }
   }
  },
  {
   "cell_type":"markdown",
   "source":[
    "#### But what if you want to get a specific group out of all the groups.\n",
    "#### Eg: Currently data splitted into 3 groups - Tier 1, Tier 2, Tier 3. We want to get features of Tier 1 group out of other groups.\n",
    "#### Just provide the specific group name when calling get_group() on the group object. Here, I want to check out the features for the ‘Tier 1’ group"
   ],
   "attachments":{
    
   },
   "metadata":{
    "datalore":{
     "type":"MD",
     "hide_input_from_viewers":false,
     "hide_output_from_viewers":false,
     "node_id":"qqQG7jeWWXlAb0ym0pHg2W"
    }
   }
  },
  {
   "cell_type":"code",
   "source":[
    "df.get_group('Tier 1')"
   ],
   "execution_count":24,
   "outputs":[
    {
     "data":{
      "text\/html":[
       "<div>\n",
       "<style scoped>\n",
       "    .dataframe tbody tr th:only-of-type {\n",
       "        vertical-align: middle;\n",
       "    }\n",
       "\n",
       "    .dataframe tbody tr th {\n",
       "        vertical-align: top;\n",
       "    }\n",
       "\n",
       "    .dataframe thead th {\n",
       "        text-align: right;\n",
       "    }\n",
       "<\/style>\n",
       "<table border=\"1\" class=\"dataframe\">\n",
       "  <thead>\n",
       "    <tr style=\"text-align: right;\">\n",
       "      <th><\/th>\n",
       "      <th>Item_Identifier<\/th>\n",
       "      <th>Item_Weight<\/th>\n",
       "      <th>Item_Fat_Content<\/th>\n",
       "      <th>Item_Visibility<\/th>\n",
       "      <th>Item_Type<\/th>\n",
       "      <th>Item_MRP<\/th>\n",
       "      <th>Outlet_Identifier<\/th>\n",
       "      <th>Outlet_Establishment_Year<\/th>\n",
       "      <th>Outlet_Size<\/th>\n",
       "      <th>Outlet_Location_Type<\/th>\n",
       "      <th>Outlet_Type<\/th>\n",
       "    <\/tr>\n",
       "  <\/thead>\n",
       "  <tbody>\n",
       "    <tr>\n",
       "      <th>0<\/th>\n",
       "      <td>FDW58<\/td>\n",
       "      <td>20.750<\/td>\n",
       "      <td>Low Fat<\/td>\n",
       "      <td>0.007565<\/td>\n",
       "      <td>Snack Foods<\/td>\n",
       "      <td>107.8622<\/td>\n",
       "      <td>OUT049<\/td>\n",
       "      <td>1999<\/td>\n",
       "      <td>Medium<\/td>\n",
       "      <td>Tier 1<\/td>\n",
       "      <td>Supermarket Type1<\/td>\n",
       "    <\/tr>\n",
       "    <tr>\n",
       "      <th>5<\/th>\n",
       "      <td>FDH56<\/td>\n",
       "      <td>9.800<\/td>\n",
       "      <td>Regular<\/td>\n",
       "      <td>0.063817<\/td>\n",
       "      <td>Fruits and Vegetables<\/td>\n",
       "      <td>117.1492<\/td>\n",
       "      <td>OUT046<\/td>\n",
       "      <td>1997<\/td>\n",
       "      <td>Small<\/td>\n",
       "      <td>Tier 1<\/td>\n",
       "      <td>Supermarket Type1<\/td>\n",
       "    <\/tr>\n",
       "    <tr>\n",
       "      <th>12<\/th>\n",
       "      <td>NCC54<\/td>\n",
       "      <td>NaN<\/td>\n",
       "      <td>Low Fat<\/td>\n",
       "      <td>0.171079<\/td>\n",
       "      <td>Health and Hygiene<\/td>\n",
       "      <td>240.4196<\/td>\n",
       "      <td>OUT019<\/td>\n",
       "      <td>1985<\/td>\n",
       "      <td>Small<\/td>\n",
       "      <td>Tier 1<\/td>\n",
       "      <td>Grocery Store<\/td>\n",
       "    <\/tr>\n",
       "    <tr>\n",
       "      <th>13<\/th>\n",
       "      <td>FDU11<\/td>\n",
       "      <td>4.785<\/td>\n",
       "      <td>Low Fat<\/td>\n",
       "      <td>0.092738<\/td>\n",
       "      <td>Breads<\/td>\n",
       "      <td>122.3098<\/td>\n",
       "      <td>OUT049<\/td>\n",
       "      <td>1999<\/td>\n",
       "      <td>Medium<\/td>\n",
       "      <td>Tier 1<\/td>\n",
       "      <td>Supermarket Type1<\/td>\n",
       "    <\/tr>\n",
       "    <tr>\n",
       "      <th>15<\/th>\n",
       "      <td>FDM24<\/td>\n",
       "      <td>6.135<\/td>\n",
       "      <td>Regular<\/td>\n",
       "      <td>0.079451<\/td>\n",
       "      <td>Baking Goods<\/td>\n",
       "      <td>151.6366<\/td>\n",
       "      <td>OUT049<\/td>\n",
       "      <td>1999<\/td>\n",
       "      <td>Medium<\/td>\n",
       "      <td>Tier 1<\/td>\n",
       "      <td>Supermarket Type1<\/td>\n",
       "    <\/tr>\n",
       "    <tr>\n",
       "      <th>...<\/th>\n",
       "      <td>...<\/td>\n",
       "      <td>...<\/td>\n",
       "      <td>...<\/td>\n",
       "      <td>...<\/td>\n",
       "      <td>...<\/td>\n",
       "      <td>...<\/td>\n",
       "      <td>...<\/td>\n",
       "      <td>...<\/td>\n",
       "      <td>...<\/td>\n",
       "      <td>...<\/td>\n",
       "      <td>...<\/td>\n",
       "    <\/tr>\n",
       "    <tr>\n",
       "      <th>5671<\/th>\n",
       "      <td>FDA01<\/td>\n",
       "      <td>15.000<\/td>\n",
       "      <td>reg<\/td>\n",
       "      <td>0.054463<\/td>\n",
       "      <td>Canned<\/td>\n",
       "      <td>59.5904<\/td>\n",
       "      <td>OUT049<\/td>\n",
       "      <td>1999<\/td>\n",
       "      <td>Medium<\/td>\n",
       "      <td>Tier 1<\/td>\n",
       "      <td>Supermarket Type1<\/td>\n",
       "    <\/tr>\n",
       "    <tr>\n",
       "      <th>5672<\/th>\n",
       "      <td>NCH42<\/td>\n",
       "      <td>6.860<\/td>\n",
       "      <td>Low Fat<\/td>\n",
       "      <td>0.036594<\/td>\n",
       "      <td>Household<\/td>\n",
       "      <td>231.1010<\/td>\n",
       "      <td>OUT049<\/td>\n",
       "      <td>1999<\/td>\n",
       "      <td>Medium<\/td>\n",
       "      <td>Tier 1<\/td>\n",
       "      <td>Supermarket Type1<\/td>\n",
       "    <\/tr>\n",
       "    <tr>\n",
       "      <th>5674<\/th>\n",
       "      <td>DRL35<\/td>\n",
       "      <td>15.700<\/td>\n",
       "      <td>Low Fat<\/td>\n",
       "      <td>0.030704<\/td>\n",
       "      <td>Hard Drinks<\/td>\n",
       "      <td>43.2770<\/td>\n",
       "      <td>OUT046<\/td>\n",
       "      <td>1997<\/td>\n",
       "      <td>Small<\/td>\n",
       "      <td>Tier 1<\/td>\n",
       "      <td>Supermarket Type1<\/td>\n",
       "    <\/tr>\n",
       "    <tr>\n",
       "      <th>5675<\/th>\n",
       "      <td>FDW46<\/td>\n",
       "      <td>13.000<\/td>\n",
       "      <td>Regular<\/td>\n",
       "      <td>0.070411<\/td>\n",
       "      <td>Snack Foods<\/td>\n",
       "      <td>63.4484<\/td>\n",
       "      <td>OUT049<\/td>\n",
       "      <td>1999<\/td>\n",
       "      <td>Medium<\/td>\n",
       "      <td>Tier 1<\/td>\n",
       "      <td>Supermarket Type1<\/td>\n",
       "    <\/tr>\n",
       "    <tr>\n",
       "      <th>5676<\/th>\n",
       "      <td>FDB58<\/td>\n",
       "      <td>10.500<\/td>\n",
       "      <td>Regular<\/td>\n",
       "      <td>0.013496<\/td>\n",
       "      <td>Snack Foods<\/td>\n",
       "      <td>141.3154<\/td>\n",
       "      <td>OUT046<\/td>\n",
       "      <td>1997<\/td>\n",
       "      <td>Small<\/td>\n",
       "      <td>Tier 1<\/td>\n",
       "      <td>Supermarket Type1<\/td>\n",
       "    <\/tr>\n",
       "  <\/tbody>\n",
       "<\/table>\n",
       "<p>1592 rows × 11 columns<\/p>\n",
       "<\/div>"
      ]
     },
     "metadata":{
      
     },
     "output_type":"display_data"
    }
   ],
   "metadata":{
    "datalore":{
     "type":"CODE",
     "hide_input_from_viewers":false,
     "hide_output_from_viewers":false,
     "node_id":"fUHcprv35hxopupUCQTkOT"
    }
   }
  },
  {
   "cell_type":"code",
   "source":[
    "df.get_group('Tier 2')"
   ],
   "execution_count":25,
   "outputs":[
    {
     "data":{
      "text\/html":[
       "<div>\n",
       "<style scoped>\n",
       "    .dataframe tbody tr th:only-of-type {\n",
       "        vertical-align: middle;\n",
       "    }\n",
       "\n",
       "    .dataframe tbody tr th {\n",
       "        vertical-align: top;\n",
       "    }\n",
       "\n",
       "    .dataframe thead th {\n",
       "        text-align: right;\n",
       "    }\n",
       "<\/style>\n",
       "<table border=\"1\" class=\"dataframe\">\n",
       "  <thead>\n",
       "    <tr style=\"text-align: right;\">\n",
       "      <th><\/th>\n",
       "      <th>Item_Identifier<\/th>\n",
       "      <th>Item_Weight<\/th>\n",
       "      <th>Item_Fat_Content<\/th>\n",
       "      <th>Item_Visibility<\/th>\n",
       "      <th>Item_Type<\/th>\n",
       "      <th>Item_MRP<\/th>\n",
       "      <th>Outlet_Identifier<\/th>\n",
       "      <th>Outlet_Establishment_Year<\/th>\n",
       "      <th>Outlet_Size<\/th>\n",
       "      <th>Outlet_Location_Type<\/th>\n",
       "      <th>Outlet_Type<\/th>\n",
       "    <\/tr>\n",
       "  <\/thead>\n",
       "  <tbody>\n",
       "    <tr>\n",
       "      <th>1<\/th>\n",
       "      <td>FDW14<\/td>\n",
       "      <td>8.300<\/td>\n",
       "      <td>reg<\/td>\n",
       "      <td>0.038428<\/td>\n",
       "      <td>Dairy<\/td>\n",
       "      <td>87.3198<\/td>\n",
       "      <td>OUT017<\/td>\n",
       "      <td>2007<\/td>\n",
       "      <td>NaN<\/td>\n",
       "      <td>Tier 2<\/td>\n",
       "      <td>Supermarket Type1<\/td>\n",
       "    <\/tr>\n",
       "    <tr>\n",
       "      <th>3<\/th>\n",
       "      <td>FDQ58<\/td>\n",
       "      <td>7.315<\/td>\n",
       "      <td>Low Fat<\/td>\n",
       "      <td>0.015388<\/td>\n",
       "      <td>Snack Foods<\/td>\n",
       "      <td>155.0340<\/td>\n",
       "      <td>OUT017<\/td>\n",
       "      <td>2007<\/td>\n",
       "      <td>NaN<\/td>\n",
       "      <td>Tier 2<\/td>\n",
       "      <td>Supermarket Type1<\/td>\n",
       "    <\/tr>\n",
       "    <tr>\n",
       "      <th>8<\/th>\n",
       "      <td>FDN33<\/td>\n",
       "      <td>6.305<\/td>\n",
       "      <td>Regular<\/td>\n",
       "      <td>0.123365<\/td>\n",
       "      <td>Snack Foods<\/td>\n",
       "      <td>95.7436<\/td>\n",
       "      <td>OUT045<\/td>\n",
       "      <td>2002<\/td>\n",
       "      <td>NaN<\/td>\n",
       "      <td>Tier 2<\/td>\n",
       "      <td>Supermarket Type1<\/td>\n",
       "    <\/tr>\n",
       "    <tr>\n",
       "      <th>9<\/th>\n",
       "      <td>FDA36<\/td>\n",
       "      <td>5.985<\/td>\n",
       "      <td>Low Fat<\/td>\n",
       "      <td>0.005698<\/td>\n",
       "      <td>Baking Goods<\/td>\n",
       "      <td>186.8924<\/td>\n",
       "      <td>OUT017<\/td>\n",
       "      <td>2007<\/td>\n",
       "      <td>NaN<\/td>\n",
       "      <td>Tier 2<\/td>\n",
       "      <td>Supermarket Type1<\/td>\n",
       "    <\/tr>\n",
       "    <tr>\n",
       "      <th>10<\/th>\n",
       "      <td>FDT44<\/td>\n",
       "      <td>16.600<\/td>\n",
       "      <td>Low Fat<\/td>\n",
       "      <td>0.103569<\/td>\n",
       "      <td>Fruits and Vegetables<\/td>\n",
       "      <td>118.3466<\/td>\n",
       "      <td>OUT017<\/td>\n",
       "      <td>2007<\/td>\n",
       "      <td>NaN<\/td>\n",
       "      <td>Tier 2<\/td>\n",
       "      <td>Supermarket Type1<\/td>\n",
       "    <\/tr>\n",
       "    <tr>\n",
       "      <th>...<\/th>\n",
       "      <td>...<\/td>\n",
       "      <td>...<\/td>\n",
       "      <td>...<\/td>\n",
       "      <td>...<\/td>\n",
       "      <td>...<\/td>\n",
       "      <td>...<\/td>\n",
       "      <td>...<\/td>\n",
       "      <td>...<\/td>\n",
       "      <td>...<\/td>\n",
       "      <td>...<\/td>\n",
       "      <td>...<\/td>\n",
       "    <\/tr>\n",
       "    <tr>\n",
       "      <th>5662<\/th>\n",
       "      <td>FDK22<\/td>\n",
       "      <td>9.800<\/td>\n",
       "      <td>Low Fat<\/td>\n",
       "      <td>0.026234<\/td>\n",
       "      <td>Snack Foods<\/td>\n",
       "      <td>214.3850<\/td>\n",
       "      <td>OUT017<\/td>\n",
       "      <td>2007<\/td>\n",
       "      <td>NaN<\/td>\n",
       "      <td>Tier 2<\/td>\n",
       "      <td>Supermarket Type1<\/td>\n",
       "    <\/tr>\n",
       "    <tr>\n",
       "      <th>5670<\/th>\n",
       "      <td>FDO03<\/td>\n",
       "      <td>10.395<\/td>\n",
       "      <td>Regular<\/td>\n",
       "      <td>0.037092<\/td>\n",
       "      <td>Meat<\/td>\n",
       "      <td>229.4352<\/td>\n",
       "      <td>OUT017<\/td>\n",
       "      <td>2007<\/td>\n",
       "      <td>NaN<\/td>\n",
       "      <td>Tier 2<\/td>\n",
       "      <td>Supermarket Type1<\/td>\n",
       "    <\/tr>\n",
       "    <tr>\n",
       "      <th>5678<\/th>\n",
       "      <td>NCO17<\/td>\n",
       "      <td>10.000<\/td>\n",
       "      <td>Low Fat<\/td>\n",
       "      <td>0.073529<\/td>\n",
       "      <td>Health and Hygiene<\/td>\n",
       "      <td>118.7440<\/td>\n",
       "      <td>OUT045<\/td>\n",
       "      <td>2002<\/td>\n",
       "      <td>NaN<\/td>\n",
       "      <td>Tier 2<\/td>\n",
       "      <td>Supermarket Type1<\/td>\n",
       "    <\/tr>\n",
       "    <tr>\n",
       "      <th>5679<\/th>\n",
       "      <td>FDJ26<\/td>\n",
       "      <td>15.300<\/td>\n",
       "      <td>Regular<\/td>\n",
       "      <td>0.000000<\/td>\n",
       "      <td>Canned<\/td>\n",
       "      <td>214.6218<\/td>\n",
       "      <td>OUT017<\/td>\n",
       "      <td>2007<\/td>\n",
       "      <td>NaN<\/td>\n",
       "      <td>Tier 2<\/td>\n",
       "      <td>Supermarket Type1<\/td>\n",
       "    <\/tr>\n",
       "    <tr>\n",
       "      <th>5680<\/th>\n",
       "      <td>FDU37<\/td>\n",
       "      <td>9.500<\/td>\n",
       "      <td>Regular<\/td>\n",
       "      <td>0.104720<\/td>\n",
       "      <td>Canned<\/td>\n",
       "      <td>79.7960<\/td>\n",
       "      <td>OUT045<\/td>\n",
       "      <td>2002<\/td>\n",
       "      <td>NaN<\/td>\n",
       "      <td>Tier 2<\/td>\n",
       "      <td>Supermarket Type1<\/td>\n",
       "    <\/tr>\n",
       "  <\/tbody>\n",
       "<\/table>\n",
       "<p>1856 rows × 11 columns<\/p>\n",
       "<\/div>"
      ]
     },
     "metadata":{
      
     },
     "output_type":"display_data"
    }
   ],
   "metadata":{
    "datalore":{
     "type":"CODE",
     "hide_input_from_viewers":false,
     "hide_output_from_viewers":false,
     "node_id":"H5EU0FEQ0rvrnuQ9ZhcbdT"
    }
   }
  },
  {
   "cell_type":"markdown",
   "source":[
    "### Apply Functions to GroupBy Groups\n",
    "\n",
    "The apply step is unequivocally the most important step of a GroupBy function where we can perform a variety of operations using aggregation, transformation, filtration or even with your own function!"
   ],
   "attachments":{
    
   },
   "metadata":{
    "datalore":{
     "type":"MD",
     "hide_input_from_viewers":false,
     "hide_output_from_viewers":false,
     "node_id":"0jXGlg8bPjgXgTxe0c6RxT"
    }
   }
  },
  {
   "cell_type":"markdown",
   "source":[
    "### 1. Aggregation\n",
    "\n",
    "count() – Number of non-null observations\n",
    "\n",
    "sum() – Sum of values\n",
    "\n",
    "mean() – Mean of values\n",
    "\n",
    "median() – Arithmetic median of values\n",
    "\n",
    "min() – Minimum\n",
    "\n",
    "max() – Maximum\n",
    "\n",
    "mode() – Mode\n",
    "\n",
    "std() – Standard deviation\n",
    "\n",
    "var() – Variance"
   ],
   "attachments":{
    
   },
   "metadata":{
    "datalore":{
     "type":"MD",
     "hide_input_from_viewers":false,
     "hide_output_from_viewers":false,
     "node_id":"yNmjWQca6dw6YNDv8KFrLQ"
    }
   }
  },
  {
   "cell_type":"code",
   "source":[
    "sales_data.groupby('Outlet_Location_Type').agg([np.mean])\n",
    "# Get mean value of columns for each groups.\n",
    "# Eg, mean of Item_Weight column is computed for each tiers."
   ],
   "execution_count":26,
   "outputs":[
    {
     "data":{
      "text\/html":[
       "<div>\n",
       "<style scoped>\n",
       "    .dataframe tbody tr th:only-of-type {\n",
       "        vertical-align: middle;\n",
       "    }\n",
       "\n",
       "    .dataframe tbody tr th {\n",
       "        vertical-align: top;\n",
       "    }\n",
       "\n",
       "    .dataframe thead tr th {\n",
       "        text-align: left;\n",
       "    }\n",
       "\n",
       "    .dataframe thead tr:last-of-type th {\n",
       "        text-align: right;\n",
       "    }\n",
       "<\/style>\n",
       "<table border=\"1\" class=\"dataframe\">\n",
       "  <thead>\n",
       "    <tr>\n",
       "      <th><\/th>\n",
       "      <th>Item_Weight<\/th>\n",
       "      <th>Item_Visibility<\/th>\n",
       "      <th>Item_MRP<\/th>\n",
       "      <th>Outlet_Establishment_Year<\/th>\n",
       "    <\/tr>\n",
       "    <tr>\n",
       "      <th><\/th>\n",
       "      <th>mean<\/th>\n",
       "      <th>mean<\/th>\n",
       "      <th>mean<\/th>\n",
       "      <th>mean<\/th>\n",
       "    <\/tr>\n",
       "    <tr>\n",
       "      <th>Outlet_Location_Type<\/th>\n",
       "      <th><\/th>\n",
       "      <th><\/th>\n",
       "      <th><\/th>\n",
       "      <th><\/th>\n",
       "    <\/tr>\n",
       "  <\/thead>\n",
       "  <tbody>\n",
       "    <tr>\n",
       "      <th>Tier 1<\/th>\n",
       "      <td>12.682210<\/td>\n",
       "      <td>0.068593<\/td>\n",
       "      <td>141.043542<\/td>\n",
       "      <td>1995.125628<\/td>\n",
       "    <\/tr>\n",
       "    <tr>\n",
       "      <th>Tier 2<\/th>\n",
       "      <td>12.833486<\/td>\n",
       "      <td>0.060839<\/td>\n",
       "      <td>140.718790<\/td>\n",
       "      <td>2004.330280<\/td>\n",
       "    <\/tr>\n",
       "    <tr>\n",
       "      <th>Tier 3<\/th>\n",
       "      <td>12.546964<\/td>\n",
       "      <td>0.067637<\/td>\n",
       "      <td>141.261900<\/td>\n",
       "      <td>1994.352441<\/td>\n",
       "    <\/tr>\n",
       "  <\/tbody>\n",
       "<\/table>\n",
       "<\/div>"
      ]
     },
     "metadata":{
      
     },
     "output_type":"display_data"
    }
   ],
   "metadata":{
    "datalore":{
     "type":"CODE",
     "hide_input_from_viewers":false,
     "hide_output_from_viewers":false,
     "node_id":"ZAaZ0hNlqvr2KEiE4I3u4n"
    }
   }
  },
  {
   "cell_type":"code",
   "source":[
    "sales_data.groupby('Outlet_Location_Type').agg([np.median])"
   ],
   "execution_count":27,
   "outputs":[
    {
     "data":{
      "text\/html":[
       "<div>\n",
       "<style scoped>\n",
       "    .dataframe tbody tr th:only-of-type {\n",
       "        vertical-align: middle;\n",
       "    }\n",
       "\n",
       "    .dataframe tbody tr th {\n",
       "        vertical-align: top;\n",
       "    }\n",
       "\n",
       "    .dataframe thead tr th {\n",
       "        text-align: left;\n",
       "    }\n",
       "\n",
       "    .dataframe thead tr:last-of-type th {\n",
       "        text-align: right;\n",
       "    }\n",
       "<\/style>\n",
       "<table border=\"1\" class=\"dataframe\">\n",
       "  <thead>\n",
       "    <tr>\n",
       "      <th><\/th>\n",
       "      <th>Item_Weight<\/th>\n",
       "      <th>Item_Visibility<\/th>\n",
       "      <th>Item_MRP<\/th>\n",
       "      <th>Outlet_Establishment_Year<\/th>\n",
       "    <\/tr>\n",
       "    <tr>\n",
       "      <th><\/th>\n",
       "      <th>median<\/th>\n",
       "      <th>median<\/th>\n",
       "      <th>median<\/th>\n",
       "      <th>median<\/th>\n",
       "    <\/tr>\n",
       "    <tr>\n",
       "      <th>Outlet_Location_Type<\/th>\n",
       "      <th><\/th>\n",
       "      <th><\/th>\n",
       "      <th><\/th>\n",
       "      <th><\/th>\n",
       "    <\/tr>\n",
       "  <\/thead>\n",
       "  <tbody>\n",
       "    <tr>\n",
       "      <th>Tier 1<\/th>\n",
       "      <td>12.35<\/td>\n",
       "      <td>0.055336<\/td>\n",
       "      <td>141.2483<\/td>\n",
       "      <td>1997.0<\/td>\n",
       "    <\/tr>\n",
       "    <tr>\n",
       "      <th>Tier 2<\/th>\n",
       "      <td>12.60<\/td>\n",
       "      <td>0.049646<\/td>\n",
       "      <td>140.3996<\/td>\n",
       "      <td>2004.0<\/td>\n",
       "    <\/tr>\n",
       "    <tr>\n",
       "      <th>Tier 3<\/th>\n",
       "      <td>12.30<\/td>\n",
       "      <td>0.055655<\/td>\n",
       "      <td>142.6128<\/td>\n",
       "      <td>1987.0<\/td>\n",
       "    <\/tr>\n",
       "  <\/tbody>\n",
       "<\/table>\n",
       "<\/div>"
      ]
     },
     "metadata":{
      
     },
     "output_type":"display_data"
    }
   ],
   "metadata":{
    "datalore":{
     "type":"CODE",
     "hide_input_from_viewers":false,
     "hide_output_from_viewers":false,
     "node_id":"fn5gshuLpzWIJVz3YhA2KL"
    }
   }
  },
  {
   "cell_type":"code",
   "source":[
    "sales_data.groupby('Outlet_Location_Type').agg([np.min, np.max])"
   ],
   "execution_count":28,
   "outputs":[
    {
     "data":{
      "text\/html":[
       "<div>\n",
       "<style scoped>\n",
       "    .dataframe tbody tr th:only-of-type {\n",
       "        vertical-align: middle;\n",
       "    }\n",
       "\n",
       "    .dataframe tbody tr th {\n",
       "        vertical-align: top;\n",
       "    }\n",
       "\n",
       "    .dataframe thead tr th {\n",
       "        text-align: left;\n",
       "    }\n",
       "\n",
       "    .dataframe thead tr:last-of-type th {\n",
       "        text-align: right;\n",
       "    }\n",
       "<\/style>\n",
       "<table border=\"1\" class=\"dataframe\">\n",
       "  <thead>\n",
       "    <tr>\n",
       "      <th><\/th>\n",
       "      <th colspan=\"2\" halign=\"left\">Item_Identifier<\/th>\n",
       "      <th colspan=\"2\" halign=\"left\">Item_Weight<\/th>\n",
       "      <th colspan=\"2\" halign=\"left\">Item_Fat_Content<\/th>\n",
       "      <th colspan=\"2\" halign=\"left\">Item_Visibility<\/th>\n",
       "      <th colspan=\"2\" halign=\"left\">Item_Type<\/th>\n",
       "      <th colspan=\"2\" halign=\"left\">Item_MRP<\/th>\n",
       "      <th colspan=\"2\" halign=\"left\">Outlet_Identifier<\/th>\n",
       "      <th colspan=\"2\" halign=\"left\">Outlet_Establishment_Year<\/th>\n",
       "      <th colspan=\"2\" halign=\"left\">Outlet_Type<\/th>\n",
       "    <\/tr>\n",
       "    <tr>\n",
       "      <th><\/th>\n",
       "      <th>amin<\/th>\n",
       "      <th>amax<\/th>\n",
       "      <th>amin<\/th>\n",
       "      <th>amax<\/th>\n",
       "      <th>amin<\/th>\n",
       "      <th>amax<\/th>\n",
       "      <th>amin<\/th>\n",
       "      <th>amax<\/th>\n",
       "      <th>amin<\/th>\n",
       "      <th>amax<\/th>\n",
       "      <th>amin<\/th>\n",
       "      <th>amax<\/th>\n",
       "      <th>amin<\/th>\n",
       "      <th>amax<\/th>\n",
       "      <th>amin<\/th>\n",
       "      <th>amax<\/th>\n",
       "      <th>amin<\/th>\n",
       "      <th>amax<\/th>\n",
       "    <\/tr>\n",
       "    <tr>\n",
       "      <th>Outlet_Location_Type<\/th>\n",
       "      <th><\/th>\n",
       "      <th><\/th>\n",
       "      <th><\/th>\n",
       "      <th><\/th>\n",
       "      <th><\/th>\n",
       "      <th><\/th>\n",
       "      <th><\/th>\n",
       "      <th><\/th>\n",
       "      <th><\/th>\n",
       "      <th><\/th>\n",
       "      <th><\/th>\n",
       "      <th><\/th>\n",
       "      <th><\/th>\n",
       "      <th><\/th>\n",
       "      <th><\/th>\n",
       "      <th><\/th>\n",
       "      <th><\/th>\n",
       "      <th><\/th>\n",
       "    <\/tr>\n",
       "  <\/thead>\n",
       "  <tbody>\n",
       "    <tr>\n",
       "      <th>Tier 1<\/th>\n",
       "      <td>DRA12<\/td>\n",
       "      <td>NCZ53<\/td>\n",
       "      <td>4.615<\/td>\n",
       "      <td>21.35<\/td>\n",
       "      <td>LF<\/td>\n",
       "      <td>reg<\/td>\n",
       "      <td>0.0<\/td>\n",
       "      <td>0.323637<\/td>\n",
       "      <td>Baking Goods<\/td>\n",
       "      <td>Starchy Foods<\/td>\n",
       "      <td>32.0900<\/td>\n",
       "      <td>266.4884<\/td>\n",
       "      <td>OUT019<\/td>\n",
       "      <td>OUT049<\/td>\n",
       "      <td>1985<\/td>\n",
       "      <td>1999<\/td>\n",
       "      <td>Grocery Store<\/td>\n",
       "      <td>Supermarket Type1<\/td>\n",
       "    <\/tr>\n",
       "    <tr>\n",
       "      <th>Tier 2<\/th>\n",
       "      <td>DRA24<\/td>\n",
       "      <td>NCZ54<\/td>\n",
       "      <td>4.555<\/td>\n",
       "      <td>21.35<\/td>\n",
       "      <td>LF<\/td>\n",
       "      <td>reg<\/td>\n",
       "      <td>0.0<\/td>\n",
       "      <td>0.186911<\/td>\n",
       "      <td>Baking Goods<\/td>\n",
       "      <td>Starchy Foods<\/td>\n",
       "      <td>32.0558<\/td>\n",
       "      <td>266.5884<\/td>\n",
       "      <td>OUT017<\/td>\n",
       "      <td>OUT045<\/td>\n",
       "      <td>2002<\/td>\n",
       "      <td>2007<\/td>\n",
       "      <td>Supermarket Type1<\/td>\n",
       "      <td>Supermarket Type1<\/td>\n",
       "    <\/tr>\n",
       "    <tr>\n",
       "      <th>Tier 3<\/th>\n",
       "      <td>DRA12<\/td>\n",
       "      <td>NCZ54<\/td>\n",
       "      <td>4.555<\/td>\n",
       "      <td>21.35<\/td>\n",
       "      <td>LF<\/td>\n",
       "      <td>reg<\/td>\n",
       "      <td>0.0<\/td>\n",
       "      <td>0.313935<\/td>\n",
       "      <td>Baking Goods<\/td>\n",
       "      <td>Starchy Foods<\/td>\n",
       "      <td>31.9900<\/td>\n",
       "      <td>266.3226<\/td>\n",
       "      <td>OUT010<\/td>\n",
       "      <td>OUT027<\/td>\n",
       "      <td>1985<\/td>\n",
       "      <td>2009<\/td>\n",
       "      <td>Grocery Store<\/td>\n",
       "      <td>Supermarket Type3<\/td>\n",
       "    <\/tr>\n",
       "  <\/tbody>\n",
       "<\/table>\n",
       "<\/div>"
      ]
     },
     "metadata":{
      
     },
     "output_type":"display_data"
    }
   ],
   "metadata":{
    "datalore":{
     "type":"CODE",
     "hide_input_from_viewers":false,
     "hide_output_from_viewers":false,
     "node_id":"ts85RWAnsF0u5Fs0NrilLv"
    }
   }
  },
  {
   "cell_type":"markdown",
   "source":[
    "We can even run GroupBy with multiple indexes to get better insights from our data:"
   ],
   "attachments":{
    
   },
   "metadata":{
    "datalore":{
     "type":"MD",
     "hide_input_from_viewers":false,
     "hide_output_from_viewers":false,
     "node_id":"S0ZI3QdmXlRpdiCxmq1gPi"
    }
   }
  },
  {
   "cell_type":"code",
   "source":[
    "sales_data.groupby(['Outlet_Location_Type', 'Outlet_Establishment_Year']).count()"
   ],
   "execution_count":29,
   "outputs":[
    {
     "data":{
      "text\/html":[
       "<div>\n",
       "<style scoped>\n",
       "    .dataframe tbody tr th:only-of-type {\n",
       "        vertical-align: middle;\n",
       "    }\n",
       "\n",
       "    .dataframe tbody tr th {\n",
       "        vertical-align: top;\n",
       "    }\n",
       "\n",
       "    .dataframe thead th {\n",
       "        text-align: right;\n",
       "    }\n",
       "<\/style>\n",
       "<table border=\"1\" class=\"dataframe\">\n",
       "  <thead>\n",
       "    <tr style=\"text-align: right;\">\n",
       "      <th><\/th>\n",
       "      <th><\/th>\n",
       "      <th>Item_Identifier<\/th>\n",
       "      <th>Item_Weight<\/th>\n",
       "      <th>Item_Fat_Content<\/th>\n",
       "      <th>Item_Visibility<\/th>\n",
       "      <th>Item_Type<\/th>\n",
       "      <th>Item_MRP<\/th>\n",
       "      <th>Outlet_Identifier<\/th>\n",
       "      <th>Outlet_Size<\/th>\n",
       "      <th>Outlet_Type<\/th>\n",
       "    <\/tr>\n",
       "    <tr>\n",
       "      <th>Outlet_Location_Type<\/th>\n",
       "      <th>Outlet_Establishment_Year<\/th>\n",
       "      <th><\/th>\n",
       "      <th><\/th>\n",
       "      <th><\/th>\n",
       "      <th><\/th>\n",
       "      <th><\/th>\n",
       "      <th><\/th>\n",
       "      <th><\/th>\n",
       "      <th><\/th>\n",
       "      <th><\/th>\n",
       "    <\/tr>\n",
       "  <\/thead>\n",
       "  <tbody>\n",
       "    <tr>\n",
       "      <th rowspan=\"3\" valign=\"top\">Tier 1<\/th>\n",
       "      <th>1985<\/th>\n",
       "      <td>352<\/td>\n",
       "      <td>0<\/td>\n",
       "      <td>352<\/td>\n",
       "      <td>352<\/td>\n",
       "      <td>352<\/td>\n",
       "      <td>352<\/td>\n",
       "      <td>352<\/td>\n",
       "      <td>352<\/td>\n",
       "      <td>352<\/td>\n",
       "    <\/tr>\n",
       "    <tr>\n",
       "      <th>1997<\/th>\n",
       "      <td>620<\/td>\n",
       "      <td>620<\/td>\n",
       "      <td>620<\/td>\n",
       "      <td>620<\/td>\n",
       "      <td>620<\/td>\n",
       "      <td>620<\/td>\n",
       "      <td>620<\/td>\n",
       "      <td>620<\/td>\n",
       "      <td>620<\/td>\n",
       "    <\/tr>\n",
       "    <tr>\n",
       "      <th>1999<\/th>\n",
       "      <td>620<\/td>\n",
       "      <td>620<\/td>\n",
       "      <td>620<\/td>\n",
       "      <td>620<\/td>\n",
       "      <td>620<\/td>\n",
       "      <td>620<\/td>\n",
       "      <td>620<\/td>\n",
       "      <td>620<\/td>\n",
       "      <td>620<\/td>\n",
       "    <\/tr>\n",
       "    <tr>\n",
       "      <th rowspan=\"3\" valign=\"top\">Tier 2<\/th>\n",
       "      <th>2002<\/th>\n",
       "      <td>619<\/td>\n",
       "      <td>619<\/td>\n",
       "      <td>619<\/td>\n",
       "      <td>619<\/td>\n",
       "      <td>619<\/td>\n",
       "      <td>619<\/td>\n",
       "      <td>619<\/td>\n",
       "      <td>0<\/td>\n",
       "      <td>619<\/td>\n",
       "    <\/tr>\n",
       "    <tr>\n",
       "      <th>2004<\/th>\n",
       "      <td>620<\/td>\n",
       "      <td>620<\/td>\n",
       "      <td>620<\/td>\n",
       "      <td>620<\/td>\n",
       "      <td>620<\/td>\n",
       "      <td>620<\/td>\n",
       "      <td>620<\/td>\n",
       "      <td>620<\/td>\n",
       "      <td>620<\/td>\n",
       "    <\/tr>\n",
       "    <tr>\n",
       "      <th>2007<\/th>\n",
       "      <td>617<\/td>\n",
       "      <td>617<\/td>\n",
       "      <td>617<\/td>\n",
       "      <td>617<\/td>\n",
       "      <td>617<\/td>\n",
       "      <td>617<\/td>\n",
       "      <td>617<\/td>\n",
       "      <td>0<\/td>\n",
       "      <td>617<\/td>\n",
       "    <\/tr>\n",
       "    <tr>\n",
       "      <th rowspan=\"4\" valign=\"top\">Tier 3<\/th>\n",
       "      <th>1985<\/th>\n",
       "      <td>624<\/td>\n",
       "      <td>0<\/td>\n",
       "      <td>624<\/td>\n",
       "      <td>624<\/td>\n",
       "      <td>624<\/td>\n",
       "      <td>624<\/td>\n",
       "      <td>624<\/td>\n",
       "      <td>624<\/td>\n",
       "      <td>624<\/td>\n",
       "    <\/tr>\n",
       "    <tr>\n",
       "      <th>1987<\/th>\n",
       "      <td>621<\/td>\n",
       "      <td>621<\/td>\n",
       "      <td>621<\/td>\n",
       "      <td>621<\/td>\n",
       "      <td>621<\/td>\n",
       "      <td>621<\/td>\n",
       "      <td>621<\/td>\n",
       "      <td>621<\/td>\n",
       "      <td>621<\/td>\n",
       "    <\/tr>\n",
       "    <tr>\n",
       "      <th>1998<\/th>\n",
       "      <td>370<\/td>\n",
       "      <td>370<\/td>\n",
       "      <td>370<\/td>\n",
       "      <td>370<\/td>\n",
       "      <td>370<\/td>\n",
       "      <td>370<\/td>\n",
       "      <td>370<\/td>\n",
       "      <td>0<\/td>\n",
       "      <td>370<\/td>\n",
       "    <\/tr>\n",
       "    <tr>\n",
       "      <th>2009<\/th>\n",
       "      <td>618<\/td>\n",
       "      <td>618<\/td>\n",
       "      <td>618<\/td>\n",
       "      <td>618<\/td>\n",
       "      <td>618<\/td>\n",
       "      <td>618<\/td>\n",
       "      <td>618<\/td>\n",
       "      <td>618<\/td>\n",
       "      <td>618<\/td>\n",
       "    <\/tr>\n",
       "  <\/tbody>\n",
       "<\/table>\n",
       "<\/div>"
      ]
     },
     "metadata":{
      
     },
     "output_type":"display_data"
    }
   ],
   "metadata":{
    "datalore":{
     "type":"CODE",
     "hide_input_from_viewers":false,
     "hide_output_from_viewers":false,
     "node_id":"b0XkHJcbtD44cZdYZdEk3k"
    }
   }
  },
  {
   "cell_type":"code",
   "source":[
    "sales_data.groupby(['Outlet_Location_Type', 'Outlet_Establishment_Year'], as_index=False).count()\n",
    "\n",
    "# as_index = False, means columns by which we group data will not be outputted as index.\n",
    "# No index of result is 0,1,2,..."
   ],
   "execution_count":30,
   "outputs":[
    {
     "data":{
      "text\/html":[
       "<div>\n",
       "<style scoped>\n",
       "    .dataframe tbody tr th:only-of-type {\n",
       "        vertical-align: middle;\n",
       "    }\n",
       "\n",
       "    .dataframe tbody tr th {\n",
       "        vertical-align: top;\n",
       "    }\n",
       "\n",
       "    .dataframe thead th {\n",
       "        text-align: right;\n",
       "    }\n",
       "<\/style>\n",
       "<table border=\"1\" class=\"dataframe\">\n",
       "  <thead>\n",
       "    <tr style=\"text-align: right;\">\n",
       "      <th><\/th>\n",
       "      <th>Outlet_Location_Type<\/th>\n",
       "      <th>Outlet_Establishment_Year<\/th>\n",
       "      <th>Item_Identifier<\/th>\n",
       "      <th>Item_Weight<\/th>\n",
       "      <th>Item_Fat_Content<\/th>\n",
       "      <th>Item_Visibility<\/th>\n",
       "      <th>Item_Type<\/th>\n",
       "      <th>Item_MRP<\/th>\n",
       "      <th>Outlet_Identifier<\/th>\n",
       "      <th>Outlet_Size<\/th>\n",
       "      <th>Outlet_Type<\/th>\n",
       "    <\/tr>\n",
       "  <\/thead>\n",
       "  <tbody>\n",
       "    <tr>\n",
       "      <th>0<\/th>\n",
       "      <td>Tier 1<\/td>\n",
       "      <td>1985<\/td>\n",
       "      <td>352<\/td>\n",
       "      <td>0<\/td>\n",
       "      <td>352<\/td>\n",
       "      <td>352<\/td>\n",
       "      <td>352<\/td>\n",
       "      <td>352<\/td>\n",
       "      <td>352<\/td>\n",
       "      <td>352<\/td>\n",
       "      <td>352<\/td>\n",
       "    <\/tr>\n",
       "    <tr>\n",
       "      <th>1<\/th>\n",
       "      <td>Tier 1<\/td>\n",
       "      <td>1997<\/td>\n",
       "      <td>620<\/td>\n",
       "      <td>620<\/td>\n",
       "      <td>620<\/td>\n",
       "      <td>620<\/td>\n",
       "      <td>620<\/td>\n",
       "      <td>620<\/td>\n",
       "      <td>620<\/td>\n",
       "      <td>620<\/td>\n",
       "      <td>620<\/td>\n",
       "    <\/tr>\n",
       "    <tr>\n",
       "      <th>2<\/th>\n",
       "      <td>Tier 1<\/td>\n",
       "      <td>1999<\/td>\n",
       "      <td>620<\/td>\n",
       "      <td>620<\/td>\n",
       "      <td>620<\/td>\n",
       "      <td>620<\/td>\n",
       "      <td>620<\/td>\n",
       "      <td>620<\/td>\n",
       "      <td>620<\/td>\n",
       "      <td>620<\/td>\n",
       "      <td>620<\/td>\n",
       "    <\/tr>\n",
       "    <tr>\n",
       "      <th>3<\/th>\n",
       "      <td>Tier 2<\/td>\n",
       "      <td>2002<\/td>\n",
       "      <td>619<\/td>\n",
       "      <td>619<\/td>\n",
       "      <td>619<\/td>\n",
       "      <td>619<\/td>\n",
       "      <td>619<\/td>\n",
       "      <td>619<\/td>\n",
       "      <td>619<\/td>\n",
       "      <td>0<\/td>\n",
       "      <td>619<\/td>\n",
       "    <\/tr>\n",
       "    <tr>\n",
       "      <th>4<\/th>\n",
       "      <td>Tier 2<\/td>\n",
       "      <td>2004<\/td>\n",
       "      <td>620<\/td>\n",
       "      <td>620<\/td>\n",
       "      <td>620<\/td>\n",
       "      <td>620<\/td>\n",
       "      <td>620<\/td>\n",
       "      <td>620<\/td>\n",
       "      <td>620<\/td>\n",
       "      <td>620<\/td>\n",
       "      <td>620<\/td>\n",
       "    <\/tr>\n",
       "    <tr>\n",
       "      <th>5<\/th>\n",
       "      <td>Tier 2<\/td>\n",
       "      <td>2007<\/td>\n",
       "      <td>617<\/td>\n",
       "      <td>617<\/td>\n",
       "      <td>617<\/td>\n",
       "      <td>617<\/td>\n",
       "      <td>617<\/td>\n",
       "      <td>617<\/td>\n",
       "      <td>617<\/td>\n",
       "      <td>0<\/td>\n",
       "      <td>617<\/td>\n",
       "    <\/tr>\n",
       "    <tr>\n",
       "      <th>6<\/th>\n",
       "      <td>Tier 3<\/td>\n",
       "      <td>1985<\/td>\n",
       "      <td>624<\/td>\n",
       "      <td>0<\/td>\n",
       "      <td>624<\/td>\n",
       "      <td>624<\/td>\n",
       "      <td>624<\/td>\n",
       "      <td>624<\/td>\n",
       "      <td>624<\/td>\n",
       "      <td>624<\/td>\n",
       "      <td>624<\/td>\n",
       "    <\/tr>\n",
       "    <tr>\n",
       "      <th>7<\/th>\n",
       "      <td>Tier 3<\/td>\n",
       "      <td>1987<\/td>\n",
       "      <td>621<\/td>\n",
       "      <td>621<\/td>\n",
       "      <td>621<\/td>\n",
       "      <td>621<\/td>\n",
       "      <td>621<\/td>\n",
       "      <td>621<\/td>\n",
       "      <td>621<\/td>\n",
       "      <td>621<\/td>\n",
       "      <td>621<\/td>\n",
       "    <\/tr>\n",
       "    <tr>\n",
       "      <th>8<\/th>\n",
       "      <td>Tier 3<\/td>\n",
       "      <td>1998<\/td>\n",
       "      <td>370<\/td>\n",
       "      <td>370<\/td>\n",
       "      <td>370<\/td>\n",
       "      <td>370<\/td>\n",
       "      <td>370<\/td>\n",
       "      <td>370<\/td>\n",
       "      <td>370<\/td>\n",
       "      <td>0<\/td>\n",
       "      <td>370<\/td>\n",
       "    <\/tr>\n",
       "    <tr>\n",
       "      <th>9<\/th>\n",
       "      <td>Tier 3<\/td>\n",
       "      <td>2009<\/td>\n",
       "      <td>618<\/td>\n",
       "      <td>618<\/td>\n",
       "      <td>618<\/td>\n",
       "      <td>618<\/td>\n",
       "      <td>618<\/td>\n",
       "      <td>618<\/td>\n",
       "      <td>618<\/td>\n",
       "      <td>618<\/td>\n",
       "      <td>618<\/td>\n",
       "    <\/tr>\n",
       "  <\/tbody>\n",
       "<\/table>\n",
       "<\/div>"
      ]
     },
     "metadata":{
      
     },
     "output_type":"display_data"
    }
   ],
   "metadata":{
    "datalore":{
     "type":"CODE",
     "hide_input_from_viewers":false,
     "hide_output_from_viewers":false,
     "node_id":"qJCcwFDAhIih8AAV7HeQ5s"
    }
   }
  },
  {
   "cell_type":"markdown",
   "source":[
    "- Call Aggregate functions for better insights"
   ],
   "attachments":{
    
   },
   "metadata":{
    "datalore":{
     "type":"MD",
     "hide_input_from_viewers":false,
     "hide_output_from_viewers":false,
     "node_id":"oGp9bGz0pV0qkFOex1uISF"
    }
   }
  },
  {
   "cell_type":"code",
   "source":[
    "sales_data.groupby(['Outlet_Location_Type', 'Outlet_Establishment_Year'], as_index=False).agg({'Item_MRP': np.mean})\n",
    "\n",
    "# Group by 2 columns \n",
    "# Set index to 0,1,2\n",
    "# Call agg() on result\n",
    "# Pass column and aggregation function to apply on same column in dictionary as argument.\n",
    "    # Eg: agg({'Item_MRP': np.mean})\n",
    "# Here we explicitly apply aggregate function on a feature called Item_MRP rather that whole dataset."
   ],
   "execution_count":31,
   "outputs":[
    {
     "data":{
      "text\/html":[
       "<div>\n",
       "<style scoped>\n",
       "    .dataframe tbody tr th:only-of-type {\n",
       "        vertical-align: middle;\n",
       "    }\n",
       "\n",
       "    .dataframe tbody tr th {\n",
       "        vertical-align: top;\n",
       "    }\n",
       "\n",
       "    .dataframe thead th {\n",
       "        text-align: right;\n",
       "    }\n",
       "<\/style>\n",
       "<table border=\"1\" class=\"dataframe\">\n",
       "  <thead>\n",
       "    <tr style=\"text-align: right;\">\n",
       "      <th><\/th>\n",
       "      <th>Outlet_Location_Type<\/th>\n",
       "      <th>Outlet_Establishment_Year<\/th>\n",
       "      <th>Item_MRP<\/th>\n",
       "    <\/tr>\n",
       "  <\/thead>\n",
       "  <tbody>\n",
       "    <tr>\n",
       "      <th>0<\/th>\n",
       "      <td>Tier 1<\/td>\n",
       "      <td>1985<\/td>\n",
       "      <td>142.200334<\/td>\n",
       "    <\/tr>\n",
       "    <tr>\n",
       "      <th>1<\/th>\n",
       "      <td>Tier 1<\/td>\n",
       "      <td>1997<\/td>\n",
       "      <td>138.968874<\/td>\n",
       "    <\/tr>\n",
       "    <tr>\n",
       "      <th>2<\/th>\n",
       "      <td>Tier 1<\/td>\n",
       "      <td>1999<\/td>\n",
       "      <td>142.461450<\/td>\n",
       "    <\/tr>\n",
       "    <tr>\n",
       "      <th>3<\/th>\n",
       "      <td>Tier 2<\/td>\n",
       "      <td>2002<\/td>\n",
       "      <td>140.717908<\/td>\n",
       "    <\/tr>\n",
       "    <tr>\n",
       "      <th>4<\/th>\n",
       "      <td>Tier 2<\/td>\n",
       "      <td>2004<\/td>\n",
       "      <td>138.084348<\/td>\n",
       "    <\/tr>\n",
       "    <tr>\n",
       "      <th>5<\/th>\n",
       "      <td>Tier 2<\/td>\n",
       "      <td>2007<\/td>\n",
       "      <td>143.366926<\/td>\n",
       "    <\/tr>\n",
       "    <tr>\n",
       "      <th>6<\/th>\n",
       "      <td>Tier 3<\/td>\n",
       "      <td>1985<\/td>\n",
       "      <td>142.826241<\/td>\n",
       "    <\/tr>\n",
       "    <tr>\n",
       "      <th>7<\/th>\n",
       "      <td>Tier 3<\/td>\n",
       "      <td>1987<\/td>\n",
       "      <td>140.681858<\/td>\n",
       "    <\/tr>\n",
       "    <tr>\n",
       "      <th>8<\/th>\n",
       "      <td>Tier 3<\/td>\n",
       "      <td>1998<\/td>\n",
       "      <td>141.732965<\/td>\n",
       "    <\/tr>\n",
       "    <tr>\n",
       "      <th>9<\/th>\n",
       "      <td>Tier 3<\/td>\n",
       "      <td>2009<\/td>\n",
       "      <td>139.983201<\/td>\n",
       "    <\/tr>\n",
       "  <\/tbody>\n",
       "<\/table>\n",
       "<\/div>"
      ]
     },
     "metadata":{
      
     },
     "output_type":"display_data"
    }
   ],
   "metadata":{
    "datalore":{
     "type":"CODE",
     "hide_input_from_viewers":false,
     "hide_output_from_viewers":false,
     "node_id":"I6zKMFzpOoqtCM5rSIYgFh"
    }
   }
  },
  {
   "cell_type":"code",
   "source":[
    "sales_data.columns"
   ],
   "execution_count":32,
   "outputs":[
    {
     "data":{
      "text\/plain":[
       "Index(['Item_Identifier', 'Item_Weight', 'Item_Fat_Content', 'Item_Visibility',\n",
       "       'Item_Type', 'Item_MRP', 'Outlet_Identifier',\n",
       "       'Outlet_Establishment_Year', 'Outlet_Size', 'Outlet_Location_Type',\n",
       "       'Outlet_Type'],\n",
       "      dtype='object')"
      ]
     },
     "metadata":{
      
     },
     "output_type":"display_data"
    }
   ],
   "metadata":{
    "datalore":{
     "type":"CODE",
     "hide_input_from_viewers":false,
     "hide_output_from_viewers":false,
     "node_id":"e2e0IXJMTrM2FgLvTlsEjt"
    }
   }
  },
  {
   "cell_type":"code",
   "source":[
    "sales_data.groupby(['Outlet_Location_Type', 'Item_Fat_Content'], as_index=False,).agg({'Item_Weight': np.mean})"
   ],
   "execution_count":33,
   "outputs":[
    {
     "data":{
      "text\/html":[
       "<div>\n",
       "<style scoped>\n",
       "    .dataframe tbody tr th:only-of-type {\n",
       "        vertical-align: middle;\n",
       "    }\n",
       "\n",
       "    .dataframe tbody tr th {\n",
       "        vertical-align: top;\n",
       "    }\n",
       "\n",
       "    .dataframe thead th {\n",
       "        text-align: right;\n",
       "    }\n",
       "<\/style>\n",
       "<table border=\"1\" class=\"dataframe\">\n",
       "  <thead>\n",
       "    <tr style=\"text-align: right;\">\n",
       "      <th><\/th>\n",
       "      <th>Outlet_Location_Type<\/th>\n",
       "      <th>Item_Fat_Content<\/th>\n",
       "      <th>Item_Weight<\/th>\n",
       "    <\/tr>\n",
       "  <\/thead>\n",
       "  <tbody>\n",
       "    <tr>\n",
       "      <th>0<\/th>\n",
       "      <td>Tier 1<\/td>\n",
       "      <td>LF<\/td>\n",
       "      <td>12.239574<\/td>\n",
       "    <\/tr>\n",
       "    <tr>\n",
       "      <th>1<\/th>\n",
       "      <td>Tier 1<\/td>\n",
       "      <td>Low Fat<\/td>\n",
       "      <td>12.837650<\/td>\n",
       "    <\/tr>\n",
       "    <tr>\n",
       "      <th>2<\/th>\n",
       "      <td>Tier 1<\/td>\n",
       "      <td>Regular<\/td>\n",
       "      <td>12.529066<\/td>\n",
       "    <\/tr>\n",
       "    <tr>\n",
       "      <th>3<\/th>\n",
       "      <td>Tier 1<\/td>\n",
       "      <td>low fat<\/td>\n",
       "      <td>12.146333<\/td>\n",
       "    <\/tr>\n",
       "    <tr>\n",
       "      <th>4<\/th>\n",
       "      <td>Tier 1<\/td>\n",
       "      <td>reg<\/td>\n",
       "      <td>11.404000<\/td>\n",
       "    <\/tr>\n",
       "    <tr>\n",
       "      <th>5<\/th>\n",
       "      <td>Tier 2<\/td>\n",
       "      <td>LF<\/td>\n",
       "      <td>12.067206<\/td>\n",
       "    <\/tr>\n",
       "    <tr>\n",
       "      <th>6<\/th>\n",
       "      <td>Tier 2<\/td>\n",
       "      <td>Low Fat<\/td>\n",
       "      <td>13.209950<\/td>\n",
       "    <\/tr>\n",
       "    <tr>\n",
       "      <th>7<\/th>\n",
       "      <td>Tier 2<\/td>\n",
       "      <td>Regular<\/td>\n",
       "      <td>12.340594<\/td>\n",
       "    <\/tr>\n",
       "    <tr>\n",
       "      <th>8<\/th>\n",
       "      <td>Tier 2<\/td>\n",
       "      <td>low fat<\/td>\n",
       "      <td>11.523750<\/td>\n",
       "    <\/tr>\n",
       "    <tr>\n",
       "      <th>9<\/th>\n",
       "      <td>Tier 2<\/td>\n",
       "      <td>reg<\/td>\n",
       "      <td>11.866522<\/td>\n",
       "    <\/tr>\n",
       "    <tr>\n",
       "      <th>10<\/th>\n",
       "      <td>Tier 3<\/td>\n",
       "      <td>LF<\/td>\n",
       "      <td>13.533148<\/td>\n",
       "    <\/tr>\n",
       "    <tr>\n",
       "      <th>11<\/th>\n",
       "      <td>Tier 3<\/td>\n",
       "      <td>Low Fat<\/td>\n",
       "      <td>12.595502<\/td>\n",
       "    <\/tr>\n",
       "    <tr>\n",
       "      <th>12<\/th>\n",
       "      <td>Tier 3<\/td>\n",
       "      <td>Regular<\/td>\n",
       "      <td>12.377192<\/td>\n",
       "    <\/tr>\n",
       "    <tr>\n",
       "      <th>13<\/th>\n",
       "      <td>Tier 3<\/td>\n",
       "      <td>low fat<\/td>\n",
       "      <td>10.803571<\/td>\n",
       "    <\/tr>\n",
       "    <tr>\n",
       "      <th>14<\/th>\n",
       "      <td>Tier 3<\/td>\n",
       "      <td>reg<\/td>\n",
       "      <td>13.362045<\/td>\n",
       "    <\/tr>\n",
       "  <\/tbody>\n",
       "<\/table>\n",
       "<\/div>"
      ]
     },
     "metadata":{
      
     },
     "output_type":"display_data"
    }
   ],
   "metadata":{
    "datalore":{
     "type":"CODE",
     "hide_input_from_viewers":false,
     "hide_output_from_viewers":false,
     "node_id":"ZPeWzuf19aiRgSU1pC4IpQ"
    }
   }
  },
  {
   "cell_type":"markdown",
   "source":[
    "### Rename the aggregated columns"
   ],
   "attachments":{
    
   },
   "metadata":{
    "datalore":{
     "type":"MD",
     "hide_input_from_viewers":false,
     "hide_output_from_viewers":false,
     "node_id":"B4mGfHz9KIfEtkWKrMjD7Z"
    }
   }
  },
  {
   "cell_type":"code",
   "source":[
    "sales_data.groupby(['Outlet_Location_Type', 'Item_Fat_Content'], as_index=False).agg(Mean_Weight=('Item_Weight',np.mean), MRP_MEDIAN=('Item_MRP', np.median))\n",
    "\n",
    "# We rename the resultant aggregated columns to new names 'Mean_Weight' and 'MRP_Median'."
   ],
   "execution_count":34,
   "outputs":[
    {
     "data":{
      "text\/html":[
       "<div>\n",
       "<style scoped>\n",
       "    .dataframe tbody tr th:only-of-type {\n",
       "        vertical-align: middle;\n",
       "    }\n",
       "\n",
       "    .dataframe tbody tr th {\n",
       "        vertical-align: top;\n",
       "    }\n",
       "\n",
       "    .dataframe thead th {\n",
       "        text-align: right;\n",
       "    }\n",
       "<\/style>\n",
       "<table border=\"1\" class=\"dataframe\">\n",
       "  <thead>\n",
       "    <tr style=\"text-align: right;\">\n",
       "      <th><\/th>\n",
       "      <th>Outlet_Location_Type<\/th>\n",
       "      <th>Item_Fat_Content<\/th>\n",
       "      <th>Mean_Weight<\/th>\n",
       "      <th>MRP_MEDIAN<\/th>\n",
       "    <\/tr>\n",
       "  <\/thead>\n",
       "  <tbody>\n",
       "    <tr>\n",
       "      <th>0<\/th>\n",
       "      <td>Tier 1<\/td>\n",
       "      <td>LF<\/td>\n",
       "      <td>12.239574<\/td>\n",
       "      <td>119.5769<\/td>\n",
       "    <\/tr>\n",
       "    <tr>\n",
       "      <th>1<\/th>\n",
       "      <td>Tier 1<\/td>\n",
       "      <td>Low Fat<\/td>\n",
       "      <td>12.837650<\/td>\n",
       "      <td>143.3154<\/td>\n",
       "    <\/tr>\n",
       "    <tr>\n",
       "      <th>2<\/th>\n",
       "      <td>Tier 1<\/td>\n",
       "      <td>Regular<\/td>\n",
       "      <td>12.529066<\/td>\n",
       "      <td>139.4838<\/td>\n",
       "    <\/tr>\n",
       "    <tr>\n",
       "      <th>3<\/th>\n",
       "      <td>Tier 1<\/td>\n",
       "      <td>low fat<\/td>\n",
       "      <td>12.146333<\/td>\n",
       "      <td>144.6760<\/td>\n",
       "    <\/tr>\n",
       "    <tr>\n",
       "      <th>4<\/th>\n",
       "      <td>Tier 1<\/td>\n",
       "      <td>reg<\/td>\n",
       "      <td>11.404000<\/td>\n",
       "      <td>105.4964<\/td>\n",
       "    <\/tr>\n",
       "    <tr>\n",
       "      <th>5<\/th>\n",
       "      <td>Tier 2<\/td>\n",
       "      <td>LF<\/td>\n",
       "      <td>12.067206<\/td>\n",
       "      <td>128.2678<\/td>\n",
       "    <\/tr>\n",
       "    <tr>\n",
       "      <th>6<\/th>\n",
       "      <td>Tier 2<\/td>\n",
       "      <td>Low Fat<\/td>\n",
       "      <td>13.209950<\/td>\n",
       "      <td>142.4470<\/td>\n",
       "    <\/tr>\n",
       "    <tr>\n",
       "      <th>7<\/th>\n",
       "      <td>Tier 2<\/td>\n",
       "      <td>Regular<\/td>\n",
       "      <td>12.340594<\/td>\n",
       "      <td>129.6994<\/td>\n",
       "    <\/tr>\n",
       "    <tr>\n",
       "      <th>8<\/th>\n",
       "      <td>Tier 2<\/td>\n",
       "      <td>low fat<\/td>\n",
       "      <td>11.523750<\/td>\n",
       "      <td>158.0275<\/td>\n",
       "    <\/tr>\n",
       "    <tr>\n",
       "      <th>9<\/th>\n",
       "      <td>Tier 2<\/td>\n",
       "      <td>reg<\/td>\n",
       "      <td>11.866522<\/td>\n",
       "      <td>104.5648<\/td>\n",
       "    <\/tr>\n",
       "    <tr>\n",
       "      <th>10<\/th>\n",
       "      <td>Tier 3<\/td>\n",
       "      <td>LF<\/td>\n",
       "      <td>13.533148<\/td>\n",
       "      <td>142.9312<\/td>\n",
       "    <\/tr>\n",
       "    <tr>\n",
       "      <th>11<\/th>\n",
       "      <td>Tier 3<\/td>\n",
       "      <td>Low Fat<\/td>\n",
       "      <td>12.595502<\/td>\n",
       "      <td>141.8167<\/td>\n",
       "    <\/tr>\n",
       "    <tr>\n",
       "      <th>12<\/th>\n",
       "      <td>Tier 3<\/td>\n",
       "      <td>Regular<\/td>\n",
       "      <td>12.377192<\/td>\n",
       "      <td>142.6128<\/td>\n",
       "    <\/tr>\n",
       "    <tr>\n",
       "      <th>13<\/th>\n",
       "      <td>Tier 3<\/td>\n",
       "      <td>low fat<\/td>\n",
       "      <td>10.803571<\/td>\n",
       "      <td>144.9102<\/td>\n",
       "    <\/tr>\n",
       "    <tr>\n",
       "      <th>14<\/th>\n",
       "      <td>Tier 3<\/td>\n",
       "      <td>reg<\/td>\n",
       "      <td>13.362045<\/td>\n",
       "      <td>154.8998<\/td>\n",
       "    <\/tr>\n",
       "  <\/tbody>\n",
       "<\/table>\n",
       "<\/div>"
      ]
     },
     "metadata":{
      
     },
     "output_type":"display_data"
    }
   ],
   "metadata":{
    "datalore":{
     "type":"CODE",
     "hide_input_from_viewers":false,
     "hide_output_from_viewers":false,
     "node_id":"822amCfRPt0fmskbrqDLh2"
    }
   }
  },
  {
   "cell_type":"code",
   "source":[
    "sales_data.groupby('Item_Type', as_index=False).agg(Mean_Weight=('Item_Weight',np.mean))"
   ],
   "execution_count":35,
   "outputs":[
    {
     "data":{
      "text\/html":[
       "<div>\n",
       "<style scoped>\n",
       "    .dataframe tbody tr th:only-of-type {\n",
       "        vertical-align: middle;\n",
       "    }\n",
       "\n",
       "    .dataframe tbody tr th {\n",
       "        vertical-align: top;\n",
       "    }\n",
       "\n",
       "    .dataframe thead th {\n",
       "        text-align: right;\n",
       "    }\n",
       "<\/style>\n",
       "<table border=\"1\" class=\"dataframe\">\n",
       "  <thead>\n",
       "    <tr style=\"text-align: right;\">\n",
       "      <th><\/th>\n",
       "      <th>Item_Type<\/th>\n",
       "      <th>Mean_Weight<\/th>\n",
       "    <\/tr>\n",
       "  <\/thead>\n",
       "  <tbody>\n",
       "    <tr>\n",
       "      <th>0<\/th>\n",
       "      <td>Baking Goods<\/td>\n",
       "      <td>12.272418<\/td>\n",
       "    <\/tr>\n",
       "    <tr>\n",
       "      <th>1<\/th>\n",
       "      <td>Breads<\/td>\n",
       "      <td>10.866799<\/td>\n",
       "    <\/tr>\n",
       "    <tr>\n",
       "      <th>2<\/th>\n",
       "      <td>Breakfast<\/td>\n",
       "      <td>13.759603<\/td>\n",
       "    <\/tr>\n",
       "    <tr>\n",
       "      <th>3<\/th>\n",
       "      <td>Canned<\/td>\n",
       "      <td>12.393565<\/td>\n",
       "    <\/tr>\n",
       "    <tr>\n",
       "      <th>4<\/th>\n",
       "      <td>Dairy<\/td>\n",
       "      <td>12.955040<\/td>\n",
       "    <\/tr>\n",
       "    <tr>\n",
       "      <th>5<\/th>\n",
       "      <td>Frozen Foods<\/td>\n",
       "      <td>12.101543<\/td>\n",
       "    <\/tr>\n",
       "    <tr>\n",
       "      <th>6<\/th>\n",
       "      <td>Fruits and Vegetables<\/td>\n",
       "      <td>13.146659<\/td>\n",
       "    <\/tr>\n",
       "    <tr>\n",
       "      <th>7<\/th>\n",
       "      <td>Hard Drinks<\/td>\n",
       "      <td>11.844417<\/td>\n",
       "    <\/tr>\n",
       "    <tr>\n",
       "      <th>8<\/th>\n",
       "      <td>Health and Hygiene<\/td>\n",
       "      <td>13.216929<\/td>\n",
       "    <\/tr>\n",
       "    <tr>\n",
       "      <th>9<\/th>\n",
       "      <td>Household<\/td>\n",
       "      <td>13.270504<\/td>\n",
       "    <\/tr>\n",
       "    <tr>\n",
       "      <th>10<\/th>\n",
       "      <td>Meat<\/td>\n",
       "      <td>12.702148<\/td>\n",
       "    <\/tr>\n",
       "    <tr>\n",
       "      <th>11<\/th>\n",
       "      <td>Others<\/td>\n",
       "      <td>14.009725<\/td>\n",
       "    <\/tr>\n",
       "    <tr>\n",
       "      <th>12<\/th>\n",
       "      <td>Seafood<\/td>\n",
       "      <td>13.241136<\/td>\n",
       "    <\/tr>\n",
       "    <tr>\n",
       "      <th>13<\/th>\n",
       "      <td>Snack Foods<\/td>\n",
       "      <td>12.684256<\/td>\n",
       "    <\/tr>\n",
       "    <tr>\n",
       "      <th>14<\/th>\n",
       "      <td>Soft Drinks<\/td>\n",
       "      <td>11.691965<\/td>\n",
       "    <\/tr>\n",
       "    <tr>\n",
       "      <th>15<\/th>\n",
       "      <td>Starchy Foods<\/td>\n",
       "      <td>13.618247<\/td>\n",
       "    <\/tr>\n",
       "  <\/tbody>\n",
       "<\/table>\n",
       "<\/div>"
      ]
     },
     "metadata":{
      
     },
     "output_type":"display_data"
    }
   ],
   "metadata":{
    "datalore":{
     "type":"CODE",
     "hide_input_from_viewers":false,
     "hide_output_from_viewers":false,
     "node_id":"rR6k9YB6DRnKmnToZ55K0X"
    }
   }
  },
  {
   "cell_type":"markdown",
   "source":[
    "## Transformation\n",
    "\n",
    "Transformation allows us to perform some computation on the groups as a whole and then return the combined DataFrame. This is done using the transform() function.\n",
    "\n",
    "We will try to compute the null values in the **Item_Weight** column using the transform() function."
   ],
   "attachments":{
    
   },
   "metadata":{
    "datalore":{
     "type":"MD",
     "hide_input_from_viewers":false,
     "hide_output_from_viewers":false,
     "node_id":"O8QaNobbGVC9YmXPx2JUCc"
    }
   }
  },
  {
   "cell_type":"code",
   "source":[
    "sample_1 = sales_data.groupby('Outlet_Location_Type', as_index=False)\n",
    "sample_1['Item_Weight'].transform(lambda x:x.fillna(x.mean()))"
   ],
   "execution_count":36,
   "outputs":[
    {
     "data":{
      "text\/html":[
       "<div>\n",
       "<style scoped>\n",
       "    .dataframe tbody tr th:only-of-type {\n",
       "        vertical-align: middle;\n",
       "    }\n",
       "\n",
       "    .dataframe tbody tr th {\n",
       "        vertical-align: top;\n",
       "    }\n",
       "\n",
       "    .dataframe thead th {\n",
       "        text-align: right;\n",
       "    }\n",
       "<\/style>\n",
       "<table border=\"1\" class=\"dataframe\">\n",
       "  <thead>\n",
       "    <tr style=\"text-align: right;\">\n",
       "      <th><\/th>\n",
       "      <th>Item_Weight<\/th>\n",
       "    <\/tr>\n",
       "  <\/thead>\n",
       "  <tbody>\n",
       "    <tr>\n",
       "      <th>0<\/th>\n",
       "      <td>20.750000<\/td>\n",
       "    <\/tr>\n",
       "    <tr>\n",
       "      <th>1<\/th>\n",
       "      <td>8.300000<\/td>\n",
       "    <\/tr>\n",
       "    <tr>\n",
       "      <th>2<\/th>\n",
       "      <td>14.600000<\/td>\n",
       "    <\/tr>\n",
       "    <tr>\n",
       "      <th>3<\/th>\n",
       "      <td>7.315000<\/td>\n",
       "    <\/tr>\n",
       "    <tr>\n",
       "      <th>4<\/th>\n",
       "      <td>12.546964<\/td>\n",
       "    <\/tr>\n",
       "    <tr>\n",
       "      <th>...<\/th>\n",
       "      <td>...<\/td>\n",
       "    <\/tr>\n",
       "    <tr>\n",
       "      <th>5676<\/th>\n",
       "      <td>10.500000<\/td>\n",
       "    <\/tr>\n",
       "    <tr>\n",
       "      <th>5677<\/th>\n",
       "      <td>7.600000<\/td>\n",
       "    <\/tr>\n",
       "    <tr>\n",
       "      <th>5678<\/th>\n",
       "      <td>10.000000<\/td>\n",
       "    <\/tr>\n",
       "    <tr>\n",
       "      <th>5679<\/th>\n",
       "      <td>15.300000<\/td>\n",
       "    <\/tr>\n",
       "    <tr>\n",
       "      <th>5680<\/th>\n",
       "      <td>9.500000<\/td>\n",
       "    <\/tr>\n",
       "  <\/tbody>\n",
       "<\/table>\n",
       "<p>5681 rows × 1 columns<\/p>\n",
       "<\/div>"
      ]
     },
     "metadata":{
      
     },
     "output_type":"display_data"
    }
   ],
   "metadata":{
    "datalore":{
     "type":"CODE",
     "hide_input_from_viewers":false,
     "hide_output_from_viewers":false,
     "node_id":"yYSPruUBnh9idReagcoq6w"
    }
   }
  },
  {
   "cell_type":"code",
   "source":[
    "gender_data = {'Gender': ['m','f','f','m','f','m','m', 'f', 'm', 'f', 'f'], 'Height':[172,171,169,173,170,175,178, 145, 171,150, 160]}"
   ],
   "execution_count":37,
   "outputs":[
    
   ],
   "metadata":{
    "datalore":{
     "type":"CODE",
     "hide_input_from_viewers":false,
     "hide_output_from_viewers":false,
     "node_id":"tXEMtbdJcZbIyCwSRgb8nX"
    }
   }
  },
  {
   "cell_type":"code",
   "source":[
    "data_df_1 = pd.DataFrame(gender_data)"
   ],
   "execution_count":38,
   "outputs":[
    
   ],
   "metadata":{
    "datalore":{
     "type":"CODE",
     "hide_input_from_viewers":false,
     "hide_output_from_viewers":false,
     "node_id":"Z2Dg5TPduAjXLg8sBdt21K"
    }
   }
  },
  {
   "cell_type":"code",
   "source":[
    "data_df_1"
   ],
   "execution_count":39,
   "outputs":[
    {
     "data":{
      "text\/html":[
       "<div>\n",
       "<style scoped>\n",
       "    .dataframe tbody tr th:only-of-type {\n",
       "        vertical-align: middle;\n",
       "    }\n",
       "\n",
       "    .dataframe tbody tr th {\n",
       "        vertical-align: top;\n",
       "    }\n",
       "\n",
       "    .dataframe thead th {\n",
       "        text-align: right;\n",
       "    }\n",
       "<\/style>\n",
       "<table border=\"1\" class=\"dataframe\">\n",
       "  <thead>\n",
       "    <tr style=\"text-align: right;\">\n",
       "      <th><\/th>\n",
       "      <th>Gender<\/th>\n",
       "      <th>Height<\/th>\n",
       "    <\/tr>\n",
       "  <\/thead>\n",
       "  <tbody>\n",
       "    <tr>\n",
       "      <th>0<\/th>\n",
       "      <td>m<\/td>\n",
       "      <td>172<\/td>\n",
       "    <\/tr>\n",
       "    <tr>\n",
       "      <th>1<\/th>\n",
       "      <td>f<\/td>\n",
       "      <td>171<\/td>\n",
       "    <\/tr>\n",
       "    <tr>\n",
       "      <th>2<\/th>\n",
       "      <td>f<\/td>\n",
       "      <td>169<\/td>\n",
       "    <\/tr>\n",
       "    <tr>\n",
       "      <th>3<\/th>\n",
       "      <td>m<\/td>\n",
       "      <td>173<\/td>\n",
       "    <\/tr>\n",
       "    <tr>\n",
       "      <th>4<\/th>\n",
       "      <td>f<\/td>\n",
       "      <td>170<\/td>\n",
       "    <\/tr>\n",
       "    <tr>\n",
       "      <th>5<\/th>\n",
       "      <td>m<\/td>\n",
       "      <td>175<\/td>\n",
       "    <\/tr>\n",
       "    <tr>\n",
       "      <th>6<\/th>\n",
       "      <td>m<\/td>\n",
       "      <td>178<\/td>\n",
       "    <\/tr>\n",
       "    <tr>\n",
       "      <th>7<\/th>\n",
       "      <td>f<\/td>\n",
       "      <td>145<\/td>\n",
       "    <\/tr>\n",
       "    <tr>\n",
       "      <th>8<\/th>\n",
       "      <td>m<\/td>\n",
       "      <td>171<\/td>\n",
       "    <\/tr>\n",
       "    <tr>\n",
       "      <th>9<\/th>\n",
       "      <td>f<\/td>\n",
       "      <td>150<\/td>\n",
       "    <\/tr>\n",
       "    <tr>\n",
       "      <th>10<\/th>\n",
       "      <td>f<\/td>\n",
       "      <td>160<\/td>\n",
       "    <\/tr>\n",
       "  <\/tbody>\n",
       "<\/table>\n",
       "<\/div>"
      ]
     },
     "metadata":{
      
     },
     "output_type":"display_data"
    }
   ],
   "metadata":{
    "datalore":{
     "type":"CODE",
     "hide_input_from_viewers":false,
     "hide_output_from_viewers":false,
     "node_id":"RsFkzEvOdOsU8NKWyOkanK"
    }
   }
  },
  {
   "cell_type":"code",
   "source":[
    "grouped_data = data_df_1.groupby('Gender')\n",
    "grouped_data['Height'].transform(lambda h: (h.max()-h.min()))"
   ],
   "execution_count":40,
   "outputs":[
    {
     "data":{
      "text\/html":[
       
      ]
     },
     "metadata":{
      
     },
     "output_type":"display_data"
    }
   ],
   "metadata":{
    "datalore":{
     "type":"CODE",
     "hide_input_from_viewers":false,
     "hide_output_from_viewers":false,
     "node_id":"crsjxBiYCBpiiW936VJj3l"
    }
   }
  },
  {
   "cell_type":"markdown",
   "source":[
    "## Filtration\n",
    "\n",
    "Filtration allows us to discard certain values based on computation and return only a subset of the group. \n",
    "We can do this using the **filter()** function in Pandas."
   ],
   "attachments":{
    
   },
   "metadata":{
    "datalore":{
     "type":"MD",
     "hide_input_from_viewers":false,
     "hide_output_from_viewers":false,
     "node_id":"pP4B9mfLZlTgHdye4SyqbW"
    }
   }
  },
  {
   "cell_type":"code",
   "source":[
    "sales_data.shape"
   ],
   "execution_count":41,
   "outputs":[
    {
     "data":{
      "text\/plain":[
       "(5681, 11)"
      ]
     },
     "metadata":{
      
     },
     "output_type":"display_data"
    }
   ],
   "metadata":{
    "datalore":{
     "type":"CODE",
     "hide_input_from_viewers":false,
     "hide_output_from_viewers":false,
     "node_id":"OGV27SyKtJJ63RadrTgolJ"
    }
   }
  },
  {
   "cell_type":"markdown",
   "source":[
    "If i wanted only those groups of **Item_Weight** with standard deviation < 3.\n",
    "We use filter() function to do the job."
   ],
   "attachments":{
    
   },
   "metadata":{
    "datalore":{
     "type":"MD",
     "hide_input_from_viewers":false,
     "hide_output_from_viewers":false,
     "node_id":"3XRGl8tPbmb8Jn6xVeDw2d"
    }
   }
  },
  {
   "cell_type":"code",
   "source":[
    "grouped = sales_data.groupby('Item_Weight')\n",
    "df_filter = grouped.filter(lambda item: item['Item_Weight'].std()<3)\n",
    "df_filter"
   ],
   "execution_count":42,
   "outputs":[
    {
     "data":{
      "text\/html":[
       "<div>\n",
       "<style scoped>\n",
       "    .dataframe tbody tr th:only-of-type {\n",
       "        vertical-align: middle;\n",
       "    }\n",
       "\n",
       "    .dataframe tbody tr th {\n",
       "        vertical-align: top;\n",
       "    }\n",
       "\n",
       "    .dataframe thead th {\n",
       "        text-align: right;\n",
       "    }\n",
       "<\/style>\n",
       "<table border=\"1\" class=\"dataframe\">\n",
       "  <thead>\n",
       "    <tr style=\"text-align: right;\">\n",
       "      <th><\/th>\n",
       "      <th>Item_Identifier<\/th>\n",
       "      <th>Item_Weight<\/th>\n",
       "      <th>Item_Fat_Content<\/th>\n",
       "      <th>Item_Visibility<\/th>\n",
       "      <th>Item_Type<\/th>\n",
       "      <th>Item_MRP<\/th>\n",
       "      <th>Outlet_Identifier<\/th>\n",
       "      <th>Outlet_Establishment_Year<\/th>\n",
       "      <th>Outlet_Size<\/th>\n",
       "      <th>Outlet_Location_Type<\/th>\n",
       "      <th>Outlet_Type<\/th>\n",
       "    <\/tr>\n",
       "  <\/thead>\n",
       "  <tbody>\n",
       "    <tr>\n",
       "      <th>0<\/th>\n",
       "      <td>FDW58<\/td>\n",
       "      <td>20.750<\/td>\n",
       "      <td>Low Fat<\/td>\n",
       "      <td>0.007565<\/td>\n",
       "      <td>Snack Foods<\/td>\n",
       "      <td>107.8622<\/td>\n",
       "      <td>OUT049<\/td>\n",
       "      <td>1999<\/td>\n",
       "      <td>Medium<\/td>\n",
       "      <td>Tier 1<\/td>\n",
       "      <td>Supermarket Type1<\/td>\n",
       "    <\/tr>\n",
       "    <tr>\n",
       "      <th>1<\/th>\n",
       "      <td>FDW14<\/td>\n",
       "      <td>8.300<\/td>\n",
       "      <td>reg<\/td>\n",
       "      <td>0.038428<\/td>\n",
       "      <td>Dairy<\/td>\n",
       "      <td>87.3198<\/td>\n",
       "      <td>OUT017<\/td>\n",
       "      <td>2007<\/td>\n",
       "      <td>NaN<\/td>\n",
       "      <td>Tier 2<\/td>\n",
       "      <td>Supermarket Type1<\/td>\n",
       "    <\/tr>\n",
       "    <tr>\n",
       "      <th>2<\/th>\n",
       "      <td>NCN55<\/td>\n",
       "      <td>14.600<\/td>\n",
       "      <td>Low Fat<\/td>\n",
       "      <td>0.099575<\/td>\n",
       "      <td>Others<\/td>\n",
       "      <td>241.7538<\/td>\n",
       "      <td>OUT010<\/td>\n",
       "      <td>1998<\/td>\n",
       "      <td>NaN<\/td>\n",
       "      <td>Tier 3<\/td>\n",
       "      <td>Grocery Store<\/td>\n",
       "    <\/tr>\n",
       "    <tr>\n",
       "      <th>3<\/th>\n",
       "      <td>FDQ58<\/td>\n",
       "      <td>7.315<\/td>\n",
       "      <td>Low Fat<\/td>\n",
       "      <td>0.015388<\/td>\n",
       "      <td>Snack Foods<\/td>\n",
       "      <td>155.0340<\/td>\n",
       "      <td>OUT017<\/td>\n",
       "      <td>2007<\/td>\n",
       "      <td>NaN<\/td>\n",
       "      <td>Tier 2<\/td>\n",
       "      <td>Supermarket Type1<\/td>\n",
       "    <\/tr>\n",
       "    <tr>\n",
       "      <th>5<\/th>\n",
       "      <td>FDH56<\/td>\n",
       "      <td>9.800<\/td>\n",
       "      <td>Regular<\/td>\n",
       "      <td>0.063817<\/td>\n",
       "      <td>Fruits and Vegetables<\/td>\n",
       "      <td>117.1492<\/td>\n",
       "      <td>OUT046<\/td>\n",
       "      <td>1997<\/td>\n",
       "      <td>Small<\/td>\n",
       "      <td>Tier 1<\/td>\n",
       "      <td>Supermarket Type1<\/td>\n",
       "    <\/tr>\n",
       "    <tr>\n",
       "      <th>...<\/th>\n",
       "      <td>...<\/td>\n",
       "      <td>...<\/td>\n",
       "      <td>...<\/td>\n",
       "      <td>...<\/td>\n",
       "      <td>...<\/td>\n",
       "      <td>...<\/td>\n",
       "      <td>...<\/td>\n",
       "      <td>...<\/td>\n",
       "      <td>...<\/td>\n",
       "      <td>...<\/td>\n",
       "      <td>...<\/td>\n",
       "    <\/tr>\n",
       "    <tr>\n",
       "      <th>5676<\/th>\n",
       "      <td>FDB58<\/td>\n",
       "      <td>10.500<\/td>\n",
       "      <td>Regular<\/td>\n",
       "      <td>0.013496<\/td>\n",
       "      <td>Snack Foods<\/td>\n",
       "      <td>141.3154<\/td>\n",
       "      <td>OUT046<\/td>\n",
       "      <td>1997<\/td>\n",
       "      <td>Small<\/td>\n",
       "      <td>Tier 1<\/td>\n",
       "      <td>Supermarket Type1<\/td>\n",
       "    <\/tr>\n",
       "    <tr>\n",
       "      <th>5677<\/th>\n",
       "      <td>FDD47<\/td>\n",
       "      <td>7.600<\/td>\n",
       "      <td>Regular<\/td>\n",
       "      <td>0.142991<\/td>\n",
       "      <td>Starchy Foods<\/td>\n",
       "      <td>169.1448<\/td>\n",
       "      <td>OUT018<\/td>\n",
       "      <td>2009<\/td>\n",
       "      <td>Medium<\/td>\n",
       "      <td>Tier 3<\/td>\n",
       "      <td>Supermarket Type2<\/td>\n",
       "    <\/tr>\n",
       "    <tr>\n",
       "      <th>5678<\/th>\n",
       "      <td>NCO17<\/td>\n",
       "      <td>10.000<\/td>\n",
       "      <td>Low Fat<\/td>\n",
       "      <td>0.073529<\/td>\n",
       "      <td>Health and Hygiene<\/td>\n",
       "      <td>118.7440<\/td>\n",
       "      <td>OUT045<\/td>\n",
       "      <td>2002<\/td>\n",
       "      <td>NaN<\/td>\n",
       "      <td>Tier 2<\/td>\n",
       "      <td>Supermarket Type1<\/td>\n",
       "    <\/tr>\n",
       "    <tr>\n",
       "      <th>5679<\/th>\n",
       "      <td>FDJ26<\/td>\n",
       "      <td>15.300<\/td>\n",
       "      <td>Regular<\/td>\n",
       "      <td>0.000000<\/td>\n",
       "      <td>Canned<\/td>\n",
       "      <td>214.6218<\/td>\n",
       "      <td>OUT017<\/td>\n",
       "      <td>2007<\/td>\n",
       "      <td>NaN<\/td>\n",
       "      <td>Tier 2<\/td>\n",
       "      <td>Supermarket Type1<\/td>\n",
       "    <\/tr>\n",
       "    <tr>\n",
       "      <th>5680<\/th>\n",
       "      <td>FDU37<\/td>\n",
       "      <td>9.500<\/td>\n",
       "      <td>Regular<\/td>\n",
       "      <td>0.104720<\/td>\n",
       "      <td>Canned<\/td>\n",
       "      <td>79.7960<\/td>\n",
       "      <td>OUT045<\/td>\n",
       "      <td>2002<\/td>\n",
       "      <td>NaN<\/td>\n",
       "      <td>Tier 2<\/td>\n",
       "      <td>Supermarket Type1<\/td>\n",
       "    <\/tr>\n",
       "  <\/tbody>\n",
       "<\/table>\n",
       "<p>4692 rows × 11 columns<\/p>\n",
       "<\/div>"
      ]
     },
     "metadata":{
      
     },
     "output_type":"display_data"
    }
   ],
   "metadata":{
    "datalore":{
     "type":"CODE",
     "hide_input_from_viewers":false,
     "hide_output_from_viewers":false,
     "node_id":"saLXjv2ok87PFQUtsItRVo"
    }
   }
  },
  {
   "cell_type":"code",
   "source":[
    "df_filter.shape"
   ],
   "execution_count":43,
   "outputs":[
    {
     "data":{
      "text\/plain":[
       "(4692, 11)"
      ]
     },
     "metadata":{
      
     },
     "output_type":"display_data"
    }
   ],
   "metadata":{
    "datalore":{
     "type":"CODE",
     "hide_input_from_viewers":false,
     "hide_output_from_viewers":false,
     "node_id":"udTOp1g87i0c7YvGHQ8efl"
    }
   }
  },
  {
   "cell_type":"code",
   "source":[
    "sales_data.shape"
   ],
   "execution_count":44,
   "outputs":[
    {
     "data":{
      "text\/plain":[
       "(5681, 11)"
      ]
     },
     "metadata":{
      
     },
     "output_type":"display_data"
    }
   ],
   "metadata":{
    "datalore":{
     "type":"CODE",
     "hide_input_from_viewers":false,
     "hide_output_from_viewers":false,
     "node_id":"wv5q9lXU3z55NGUWh0FCWF"
    }
   }
  },
  {
   "cell_type":"markdown",
   "source":[
    "- GroupBy has conveniently returned a DataFrame with only those groups that have Item_Weight less than 3 standard deviations.\n",
    "- You can see the difference in shape of original dataframe and filtered dataframe"
   ],
   "attachments":{
    
   },
   "metadata":{
    "datalore":{
     "type":"MD",
     "hide_input_from_viewers":false,
     "hide_output_from_viewers":false,
     "node_id":"51cVgW87uaAVjzeGfZW3Xb"
    }
   }
  },
  {
   "cell_type":"code",
   "source":[
    "df = pd.DataFrame(gender_data)\n",
    "df"
   ],
   "execution_count":45,
   "outputs":[
    {
     "data":{
      "text\/html":[
       "<div>\n",
       "<style scoped>\n",
       "    .dataframe tbody tr th:only-of-type {\n",
       "        vertical-align: middle;\n",
       "    }\n",
       "\n",
       "    .dataframe tbody tr th {\n",
       "        vertical-align: top;\n",
       "    }\n",
       "\n",
       "    .dataframe thead th {\n",
       "        text-align: right;\n",
       "    }\n",
       "<\/style>\n",
       "<table border=\"1\" class=\"dataframe\">\n",
       "  <thead>\n",
       "    <tr style=\"text-align: right;\">\n",
       "      <th><\/th>\n",
       "      <th>Gender<\/th>\n",
       "      <th>Height<\/th>\n",
       "    <\/tr>\n",
       "  <\/thead>\n",
       "  <tbody>\n",
       "    <tr>\n",
       "      <th>0<\/th>\n",
       "      <td>m<\/td>\n",
       "      <td>172<\/td>\n",
       "    <\/tr>\n",
       "    <tr>\n",
       "      <th>1<\/th>\n",
       "      <td>f<\/td>\n",
       "      <td>171<\/td>\n",
       "    <\/tr>\n",
       "    <tr>\n",
       "      <th>2<\/th>\n",
       "      <td>f<\/td>\n",
       "      <td>169<\/td>\n",
       "    <\/tr>\n",
       "    <tr>\n",
       "      <th>3<\/th>\n",
       "      <td>m<\/td>\n",
       "      <td>173<\/td>\n",
       "    <\/tr>\n",
       "    <tr>\n",
       "      <th>4<\/th>\n",
       "      <td>f<\/td>\n",
       "      <td>170<\/td>\n",
       "    <\/tr>\n",
       "    <tr>\n",
       "      <th>5<\/th>\n",
       "      <td>m<\/td>\n",
       "      <td>175<\/td>\n",
       "    <\/tr>\n",
       "    <tr>\n",
       "      <th>6<\/th>\n",
       "      <td>m<\/td>\n",
       "      <td>178<\/td>\n",
       "    <\/tr>\n",
       "    <tr>\n",
       "      <th>7<\/th>\n",
       "      <td>f<\/td>\n",
       "      <td>145<\/td>\n",
       "    <\/tr>\n",
       "    <tr>\n",
       "      <th>8<\/th>\n",
       "      <td>m<\/td>\n",
       "      <td>171<\/td>\n",
       "    <\/tr>\n",
       "    <tr>\n",
       "      <th>9<\/th>\n",
       "      <td>f<\/td>\n",
       "      <td>150<\/td>\n",
       "    <\/tr>\n",
       "    <tr>\n",
       "      <th>10<\/th>\n",
       "      <td>f<\/td>\n",
       "      <td>160<\/td>\n",
       "    <\/tr>\n",
       "  <\/tbody>\n",
       "<\/table>\n",
       "<\/div>"
      ]
     },
     "metadata":{
      
     },
     "output_type":"display_data"
    }
   ],
   "metadata":{
    "datalore":{
     "type":"CODE",
     "hide_input_from_viewers":false,
     "hide_output_from_viewers":false,
     "node_id":"tYAWOVfMbO3tefxn8Aco11"
    }
   }
  },
  {
   "cell_type":"code",
   "source":[
    "grouped = sales_data.groupby('Item_Visibility')"
   ],
   "execution_count":46,
   "outputs":[
    
   ],
   "metadata":{
    "datalore":{
     "type":"CODE",
     "hide_input_from_viewers":false,
     "hide_output_from_viewers":false,
     "node_id":"XgfolYi7S4Ij3vABmOHP24"
    }
   }
  },
  {
   "cell_type":"code",
   "source":[
    "filtered_df = grouped.filter(lambda f: f['Item_Visibility'].std() < .2)\n",
    "\n",
    "# Here Item_Viisbility with value < .2 are removed and then stored the resulty in a dataframe."
   ],
   "execution_count":47,
   "outputs":[
    
   ],
   "metadata":{
    "datalore":{
     "type":"CODE",
     "hide_input_from_viewers":false,
     "hide_output_from_viewers":false,
     "node_id":"Kz21n0VJX34oOalyFvUDdW"
    }
   }
  },
  {
   "cell_type":"code",
   "source":[
    "filtered_df"
   ],
   "execution_count":48,
   "outputs":[
    {
     "data":{
      "text\/html":[
       "<div>\n",
       "<style scoped>\n",
       "    .dataframe tbody tr th:only-of-type {\n",
       "        vertical-align: middle;\n",
       "    }\n",
       "\n",
       "    .dataframe tbody tr th {\n",
       "        vertical-align: top;\n",
       "    }\n",
       "\n",
       "    .dataframe thead th {\n",
       "        text-align: right;\n",
       "    }\n",
       "<\/style>\n",
       "<table border=\"1\" class=\"dataframe\">\n",
       "  <thead>\n",
       "    <tr style=\"text-align: right;\">\n",
       "      <th><\/th>\n",
       "      <th>Item_Identifier<\/th>\n",
       "      <th>Item_Weight<\/th>\n",
       "      <th>Item_Fat_Content<\/th>\n",
       "      <th>Item_Visibility<\/th>\n",
       "      <th>Item_Type<\/th>\n",
       "      <th>Item_MRP<\/th>\n",
       "      <th>Outlet_Identifier<\/th>\n",
       "      <th>Outlet_Establishment_Year<\/th>\n",
       "      <th>Outlet_Size<\/th>\n",
       "      <th>Outlet_Location_Type<\/th>\n",
       "      <th>Outlet_Type<\/th>\n",
       "    <\/tr>\n",
       "  <\/thead>\n",
       "  <tbody>\n",
       "    <tr>\n",
       "      <th>56<\/th>\n",
       "      <td>FDA09<\/td>\n",
       "      <td>13.350<\/td>\n",
       "      <td>Regular<\/td>\n",
       "      <td>0.0<\/td>\n",
       "      <td>Snack Foods<\/td>\n",
       "      <td>179.6660<\/td>\n",
       "      <td>OUT013<\/td>\n",
       "      <td>1987<\/td>\n",
       "      <td>High<\/td>\n",
       "      <td>Tier 3<\/td>\n",
       "      <td>Supermarket Type1<\/td>\n",
       "    <\/tr>\n",
       "    <tr>\n",
       "      <th>90<\/th>\n",
       "      <td>FDN39<\/td>\n",
       "      <td>19.350<\/td>\n",
       "      <td>Regular<\/td>\n",
       "      <td>0.0<\/td>\n",
       "      <td>Meat<\/td>\n",
       "      <td>165.7816<\/td>\n",
       "      <td>OUT045<\/td>\n",
       "      <td>2002<\/td>\n",
       "      <td>NaN<\/td>\n",
       "      <td>Tier 2<\/td>\n",
       "      <td>Supermarket Type1<\/td>\n",
       "    <\/tr>\n",
       "    <tr>\n",
       "      <th>109<\/th>\n",
       "      <td>FDU14<\/td>\n",
       "      <td>17.750<\/td>\n",
       "      <td>Low Fat<\/td>\n",
       "      <td>0.0<\/td>\n",
       "      <td>Dairy<\/td>\n",
       "      <td>249.7750<\/td>\n",
       "      <td>OUT018<\/td>\n",
       "      <td>2009<\/td>\n",
       "      <td>Medium<\/td>\n",
       "      <td>Tier 3<\/td>\n",
       "      <td>Supermarket Type2<\/td>\n",
       "    <\/tr>\n",
       "    <tr>\n",
       "      <th>125<\/th>\n",
       "      <td>FDZ36<\/td>\n",
       "      <td>NaN<\/td>\n",
       "      <td>Regular<\/td>\n",
       "      <td>0.0<\/td>\n",
       "      <td>Baking Goods<\/td>\n",
       "      <td>186.4240<\/td>\n",
       "      <td>OUT027<\/td>\n",
       "      <td>1985<\/td>\n",
       "      <td>Medium<\/td>\n",
       "      <td>Tier 3<\/td>\n",
       "      <td>Supermarket Type3<\/td>\n",
       "    <\/tr>\n",
       "    <tr>\n",
       "      <th>140<\/th>\n",
       "      <td>DRF48<\/td>\n",
       "      <td>5.730<\/td>\n",
       "      <td>Low Fat<\/td>\n",
       "      <td>0.0<\/td>\n",
       "      <td>Soft Drinks<\/td>\n",
       "      <td>188.3898<\/td>\n",
       "      <td>OUT010<\/td>\n",
       "      <td>1998<\/td>\n",
       "      <td>NaN<\/td>\n",
       "      <td>Tier 3<\/td>\n",
       "      <td>Grocery Store<\/td>\n",
       "    <\/tr>\n",
       "    <tr>\n",
       "      <th>...<\/th>\n",
       "      <td>...<\/td>\n",
       "      <td>...<\/td>\n",
       "      <td>...<\/td>\n",
       "      <td>...<\/td>\n",
       "      <td>...<\/td>\n",
       "      <td>...<\/td>\n",
       "      <td>...<\/td>\n",
       "      <td>...<\/td>\n",
       "      <td>...<\/td>\n",
       "      <td>...<\/td>\n",
       "      <td>...<\/td>\n",
       "    <\/tr>\n",
       "    <tr>\n",
       "      <th>5643<\/th>\n",
       "      <td>FDQ19<\/td>\n",
       "      <td>NaN<\/td>\n",
       "      <td>Regular<\/td>\n",
       "      <td>0.0<\/td>\n",
       "      <td>Fruits and Vegetables<\/td>\n",
       "      <td>244.3512<\/td>\n",
       "      <td>OUT019<\/td>\n",
       "      <td>1985<\/td>\n",
       "      <td>Small<\/td>\n",
       "      <td>Tier 1<\/td>\n",
       "      <td>Grocery Store<\/td>\n",
       "    <\/tr>\n",
       "    <tr>\n",
       "      <th>5648<\/th>\n",
       "      <td>FDK26<\/td>\n",
       "      <td>NaN<\/td>\n",
       "      <td>Regular<\/td>\n",
       "      <td>0.0<\/td>\n",
       "      <td>Canned<\/td>\n",
       "      <td>187.5240<\/td>\n",
       "      <td>OUT027<\/td>\n",
       "      <td>1985<\/td>\n",
       "      <td>Medium<\/td>\n",
       "      <td>Tier 3<\/td>\n",
       "      <td>Supermarket Type3<\/td>\n",
       "    <\/tr>\n",
       "    <tr>\n",
       "      <th>5654<\/th>\n",
       "      <td>FDQ57<\/td>\n",
       "      <td>7.275<\/td>\n",
       "      <td>Low Fat<\/td>\n",
       "      <td>0.0<\/td>\n",
       "      <td>Snack Foods<\/td>\n",
       "      <td>144.5760<\/td>\n",
       "      <td>OUT013<\/td>\n",
       "      <td>1987<\/td>\n",
       "      <td>High<\/td>\n",
       "      <td>Tier 3<\/td>\n",
       "      <td>Supermarket Type1<\/td>\n",
       "    <\/tr>\n",
       "    <tr>\n",
       "      <th>5661<\/th>\n",
       "      <td>DRG37<\/td>\n",
       "      <td>NaN<\/td>\n",
       "      <td>Low Fat<\/td>\n",
       "      <td>0.0<\/td>\n",
       "      <td>Soft Drinks<\/td>\n",
       "      <td>155.7972<\/td>\n",
       "      <td>OUT027<\/td>\n",
       "      <td>1985<\/td>\n",
       "      <td>Medium<\/td>\n",
       "      <td>Tier 3<\/td>\n",
       "      <td>Supermarket Type3<\/td>\n",
       "    <\/tr>\n",
       "    <tr>\n",
       "      <th>5679<\/th>\n",
       "      <td>FDJ26<\/td>\n",
       "      <td>15.300<\/td>\n",
       "      <td>Regular<\/td>\n",
       "      <td>0.0<\/td>\n",
       "      <td>Canned<\/td>\n",
       "      <td>214.6218<\/td>\n",
       "      <td>OUT017<\/td>\n",
       "      <td>2007<\/td>\n",
       "      <td>NaN<\/td>\n",
       "      <td>Tier 2<\/td>\n",
       "      <td>Supermarket Type1<\/td>\n",
       "    <\/tr>\n",
       "  <\/tbody>\n",
       "<\/table>\n",
       "<p>457 rows × 11 columns<\/p>\n",
       "<\/div>"
      ]
     },
     "metadata":{
      
     },
     "output_type":"display_data"
    }
   ],
   "metadata":{
    "datalore":{
     "type":"CODE",
     "hide_input_from_viewers":false,
     "hide_output_from_viewers":false,
     "node_id":"qRaCsQ76TED8fbDvulOvXj"
    }
   }
  },
  {
   "cell_type":"code",
   "source":[
    "filtered_df.shape"
   ],
   "execution_count":49,
   "outputs":[
    {
     "data":{
      "text\/plain":[
       "(457, 11)"
      ]
     },
     "metadata":{
      
     },
     "output_type":"display_data"
    }
   ],
   "metadata":{
    "datalore":{
     "type":"CODE",
     "hide_input_from_viewers":false,
     "hide_output_from_viewers":false,
     "node_id":"5EDGldF6pckAtkgfIZ5rB4"
    }
   }
  },
  {
   "cell_type":"code",
   "source":[
    "sales_data.shape"
   ],
   "execution_count":50,
   "outputs":[
    {
     "data":{
      "text\/plain":[
       "(5681, 11)"
      ]
     },
     "metadata":{
      
     },
     "output_type":"display_data"
    }
   ],
   "metadata":{
    "datalore":{
     "type":"CODE",
     "hide_input_from_viewers":false,
     "hide_output_from_viewers":false,
     "node_id":"61Mt98NlHfmDVrJu8drJIR"
    }
   }
  },
  {
   "cell_type":"markdown",
   "source":[
    "## Applying our own functions\n",
    "\n",
    "- Pandas’ apply() function applies a function along an axis of the DataFrame. \n",
    "- When using it with the GroupBy function, we can apply any function to the grouped result"
   ],
   "attachments":{
    
   },
   "metadata":{
    "datalore":{
     "type":"MD",
     "hide_input_from_viewers":false,
     "hide_output_from_viewers":false,
     "node_id":"kscaXZAr1o28iZzjAkGN8y"
    }
   }
  },
  {
   "cell_type":"code",
   "source":[
    "grouped = sales_data.groupby(['Outlet_Establishment_Year'])\n",
    "grouped['Item_MRP'].apply(lambda x: x\/x.sum())\n",
    "\n",
    "# First group data by Outlet_Establishment_Year\n",
    "# Second select Item_MRP and apply lambda function\n",
    "# Lambda function which takes each value of Item_MRP and divide it by sum of all values"
   ],
   "execution_count":55,
   "outputs":[
    {
     "data":{
      "text\/html":[
       
      ]
     },
     "metadata":{
      
     },
     "output_type":"display_data"
    }
   ],
   "metadata":{
    "datalore":{
     "type":"CODE",
     "hide_input_from_viewers":false,
     "hide_output_from_viewers":false,
     "node_id":"K1JnoXrg5LwoZaEccQrnQC"
    }
   }
  },
  {
   "cell_type":"markdown",
   "source":[
    "### Example - 2 using groupby and apply"
   ],
   "attachments":{
    
   },
   "metadata":{
    "datalore":{
     "type":"MD",
     "hide_input_from_viewers":false,
     "hide_output_from_viewers":false,
     "node_id":"dPkHMxYs9hT8PKWZXlSlEw"
    }
   }
  },
  {
   "cell_type":"code",
   "source":[
    "grouped = sales_data.groupby(['Outlet_Establishment_Year'], as_index=False)\n",
    "grouped['Item_Type'].apply(lambda z: z.str.upper())"
   ],
   "execution_count":62,
   "outputs":[
    {
     "data":{
      "text\/html":[
       
      ]
     },
     "metadata":{
      
     },
     "output_type":"display_data"
    }
   ],
   "metadata":{
    "datalore":{
     "type":"CODE",
     "hide_input_from_viewers":false,
     "hide_output_from_viewers":false,
     "node_id":"K6GRked3kU6841LONsjKQn"
    }
   }
  },
  {
   "cell_type":"code",
   "source":[
    "transformed_data = sales_data.dropna(axis=0)"
   ],
   "execution_count":66,
   "outputs":[
    {
     "data":{
      "text\/html":[
       "<div>\n",
       "<style scoped>\n",
       "    .dataframe tbody tr th:only-of-type {\n",
       "        vertical-align: middle;\n",
       "    }\n",
       "\n",
       "    .dataframe tbody tr th {\n",
       "        vertical-align: top;\n",
       "    }\n",
       "\n",
       "    .dataframe thead th {\n",
       "        text-align: right;\n",
       "    }\n",
       "<\/style>\n",
       "<table border=\"1\" class=\"dataframe\">\n",
       "  <thead>\n",
       "    <tr style=\"text-align: right;\">\n",
       "      <th><\/th>\n",
       "      <th>Item_Identifier<\/th>\n",
       "      <th>Item_Weight<\/th>\n",
       "      <th>Item_Fat_Content<\/th>\n",
       "      <th>Item_Visibility<\/th>\n",
       "      <th>Item_Type<\/th>\n",
       "      <th>Item_MRP<\/th>\n",
       "      <th>Outlet_Identifier<\/th>\n",
       "      <th>Outlet_Establishment_Year<\/th>\n",
       "      <th>Outlet_Size<\/th>\n",
       "      <th>Outlet_Location_Type<\/th>\n",
       "      <th>Outlet_Type<\/th>\n",
       "    <\/tr>\n",
       "  <\/thead>\n",
       "  <tbody>\n",
       "    <tr>\n",
       "      <th>0<\/th>\n",
       "      <td>FDW58<\/td>\n",
       "      <td>20.750<\/td>\n",
       "      <td>Low Fat<\/td>\n",
       "      <td>0.007565<\/td>\n",
       "      <td>Snack Foods<\/td>\n",
       "      <td>107.8622<\/td>\n",
       "      <td>OUT049<\/td>\n",
       "      <td>1999<\/td>\n",
       "      <td>Medium<\/td>\n",
       "      <td>Tier 1<\/td>\n",
       "      <td>Supermarket Type1<\/td>\n",
       "    <\/tr>\n",
       "    <tr>\n",
       "      <th>5<\/th>\n",
       "      <td>FDH56<\/td>\n",
       "      <td>9.800<\/td>\n",
       "      <td>Regular<\/td>\n",
       "      <td>0.063817<\/td>\n",
       "      <td>Fruits and Vegetables<\/td>\n",
       "      <td>117.1492<\/td>\n",
       "      <td>OUT046<\/td>\n",
       "      <td>1997<\/td>\n",
       "      <td>Small<\/td>\n",
       "      <td>Tier 1<\/td>\n",
       "      <td>Supermarket Type1<\/td>\n",
       "    <\/tr>\n",
       "    <tr>\n",
       "      <th>6<\/th>\n",
       "      <td>FDL48<\/td>\n",
       "      <td>19.350<\/td>\n",
       "      <td>Regular<\/td>\n",
       "      <td>0.082602<\/td>\n",
       "      <td>Baking Goods<\/td>\n",
       "      <td>50.1034<\/td>\n",
       "      <td>OUT018<\/td>\n",
       "      <td>2009<\/td>\n",
       "      <td>Medium<\/td>\n",
       "      <td>Tier 3<\/td>\n",
       "      <td>Supermarket Type2<\/td>\n",
       "    <\/tr>\n",
       "    <tr>\n",
       "      <th>13<\/th>\n",
       "      <td>FDU11<\/td>\n",
       "      <td>4.785<\/td>\n",
       "      <td>Low Fat<\/td>\n",
       "      <td>0.092738<\/td>\n",
       "      <td>Breads<\/td>\n",
       "      <td>122.3098<\/td>\n",
       "      <td>OUT049<\/td>\n",
       "      <td>1999<\/td>\n",
       "      <td>Medium<\/td>\n",
       "      <td>Tier 1<\/td>\n",
       "      <td>Supermarket Type1<\/td>\n",
       "    <\/tr>\n",
       "    <tr>\n",
       "      <th>14<\/th>\n",
       "      <td>DRL59<\/td>\n",
       "      <td>16.750<\/td>\n",
       "      <td>LF<\/td>\n",
       "      <td>0.021206<\/td>\n",
       "      <td>Hard Drinks<\/td>\n",
       "      <td>52.0298<\/td>\n",
       "      <td>OUT013<\/td>\n",
       "      <td>1987<\/td>\n",
       "      <td>High<\/td>\n",
       "      <td>Tier 3<\/td>\n",
       "      <td>Supermarket Type1<\/td>\n",
       "    <\/tr>\n",
       "    <tr>\n",
       "      <th>...<\/th>\n",
       "      <td>...<\/td>\n",
       "      <td>...<\/td>\n",
       "      <td>...<\/td>\n",
       "      <td>...<\/td>\n",
       "      <td>...<\/td>\n",
       "      <td>...<\/td>\n",
       "      <td>...<\/td>\n",
       "      <td>...<\/td>\n",
       "      <td>...<\/td>\n",
       "      <td>...<\/td>\n",
       "      <td>...<\/td>\n",
       "    <\/tr>\n",
       "    <tr>\n",
       "      <th>5673<\/th>\n",
       "      <td>FDF46<\/td>\n",
       "      <td>7.070<\/td>\n",
       "      <td>Low Fat<\/td>\n",
       "      <td>0.094053<\/td>\n",
       "      <td>Snack Foods<\/td>\n",
       "      <td>116.0834<\/td>\n",
       "      <td>OUT018<\/td>\n",
       "      <td>2009<\/td>\n",
       "      <td>Medium<\/td>\n",
       "      <td>Tier 3<\/td>\n",
       "      <td>Supermarket Type2<\/td>\n",
       "    <\/tr>\n",
       "    <tr>\n",
       "      <th>5674<\/th>\n",
       "      <td>DRL35<\/td>\n",
       "      <td>15.700<\/td>\n",
       "      <td>Low Fat<\/td>\n",
       "      <td>0.030704<\/td>\n",
       "      <td>Hard Drinks<\/td>\n",
       "      <td>43.2770<\/td>\n",
       "      <td>OUT046<\/td>\n",
       "      <td>1997<\/td>\n",
       "      <td>Small<\/td>\n",
       "      <td>Tier 1<\/td>\n",
       "      <td>Supermarket Type1<\/td>\n",
       "    <\/tr>\n",
       "    <tr>\n",
       "      <th>5675<\/th>\n",
       "      <td>FDW46<\/td>\n",
       "      <td>13.000<\/td>\n",
       "      <td>Regular<\/td>\n",
       "      <td>0.070411<\/td>\n",
       "      <td>Snack Foods<\/td>\n",
       "      <td>63.4484<\/td>\n",
       "      <td>OUT049<\/td>\n",
       "      <td>1999<\/td>\n",
       "      <td>Medium<\/td>\n",
       "      <td>Tier 1<\/td>\n",
       "      <td>Supermarket Type1<\/td>\n",
       "    <\/tr>\n",
       "    <tr>\n",
       "      <th>5676<\/th>\n",
       "      <td>FDB58<\/td>\n",
       "      <td>10.500<\/td>\n",
       "      <td>Regular<\/td>\n",
       "      <td>0.013496<\/td>\n",
       "      <td>Snack Foods<\/td>\n",
       "      <td>141.3154<\/td>\n",
       "      <td>OUT046<\/td>\n",
       "      <td>1997<\/td>\n",
       "      <td>Small<\/td>\n",
       "      <td>Tier 1<\/td>\n",
       "      <td>Supermarket Type1<\/td>\n",
       "    <\/tr>\n",
       "    <tr>\n",
       "      <th>5677<\/th>\n",
       "      <td>FDD47<\/td>\n",
       "      <td>7.600<\/td>\n",
       "      <td>Regular<\/td>\n",
       "      <td>0.142991<\/td>\n",
       "      <td>Starchy Foods<\/td>\n",
       "      <td>169.1448<\/td>\n",
       "      <td>OUT018<\/td>\n",
       "      <td>2009<\/td>\n",
       "      <td>Medium<\/td>\n",
       "      <td>Tier 3<\/td>\n",
       "      <td>Supermarket Type2<\/td>\n",
       "    <\/tr>\n",
       "  <\/tbody>\n",
       "<\/table>\n",
       "<p>3099 rows × 11 columns<\/p>\n",
       "<\/div>"
      ]
     },
     "metadata":{
      
     },
     "output_type":"display_data"
    }
   ],
   "metadata":{
    "datalore":{
     "type":"CODE",
     "hide_input_from_viewers":false,
     "hide_output_from_viewers":false,
     "node_id":"wy43W0hB5smgkWJ5yDRPxt"
    }
   }
  },
  {
   "cell_type":"markdown",
   "source":[
    "### Example - 3 GroupBy and Apply()"
   ],
   "attachments":{
    
   },
   "metadata":{
    "datalore":{
     "type":"MD",
     "hide_input_from_viewers":false,
     "hide_output_from_viewers":false,
     "node_id":"oP1BS0r4jjyWvIW1TWsY6L"
    }
   }
  },
  {
   "cell_type":"code",
   "source":[
    "grouped = transformed_data.groupby('Outlet_Size', as_index=False)\n",
    "grouped['Item_Weight'].apply(lambda data: data - data.mean())\n",
    "\n",
    "\n",
    "# First group data by Outlet_Size\n",
    "# Second select Item_wEIGHT and apply lambda function\n",
    "# Lambda function which takes each value of Item_Weight and divide it by sum of all values"
   ],
   "execution_count":80,
   "outputs":[
    {
     "data":{
      "text\/html":[
       
      ]
     },
     "metadata":{
      
     },
     "output_type":"display_data"
    }
   ],
   "metadata":{
    "datalore":{
     "type":"CODE",
     "hide_input_from_viewers":false,
     "hide_output_from_viewers":false,
     "node_id":"08HJatvfsrlNg6X0Ab4wEp"
    }
   }
  },
  {
   "cell_type":"code",
   "source":[
    
   ],
   "execution_count":null,
   "outputs":[
    
   ],
   "metadata":{
    "datalore":{
     "type":"CODE",
     "hide_input_from_viewers":false,
     "hide_output_from_viewers":false,
     "node_id":"OB1L4pI2ZI359v9zHQh6Wu"
    }
   }
  }
 ],
 "metadata":{
  "kernelspec":{
   "display_name":"Python",
   "language":"python",
   "name":"python"
  },
  "datalore":{
   "version":1,
   "computation_mode":"JUPYTER",
   "package_manager":"pip",
   "base_environment":"default",
   "packages":[
    
   ]
  }
 },
 "nbformat":4,
 "nbformat_minor":4
}