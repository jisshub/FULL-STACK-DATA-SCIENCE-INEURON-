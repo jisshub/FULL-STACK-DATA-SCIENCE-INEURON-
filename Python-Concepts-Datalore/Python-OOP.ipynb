{
 "cells":[
  {
   "cell_type":"markdown",
   "source":[
    "# Object Oriented Programming\n",
    "\n",
    "- Classes\n",
    "    - represents things such as customer. \n",
    "- Objects\n",
    "    - are specific example of classes.\n",
    "  \n",
    "- Suppose we have a software to record customer info's. Here v create a class called customer.\n",
    "- Customer class has some attributes like name, membershiptype,.. \n",
    "- We instantiate this class by creating objects. \n",
    "- For example, an object named 'Brad' with membershiptype 'Gold'. \n",
    "- Another object named 'Colt' with membershiptype 'Premium'\n",
    "- In short, we create classes and represent  them using specfic values by creating objects."
   ],
   "attachments":{
    
   },
   "metadata":{
    "datalore":{
     "type":"MD",
     "hide_input_from_viewers":false,
     "hide_output_from_viewers":false,
     "node_id":"NllDum4RLY5PmF07nbjvUv"
    }
   }
  },
  {
   "cell_type":"code",
   "source":[
    "class Customer:\n",
    "    def __init__(self, name, membership_type):\n",
    "        self.name = name\n",
    "        self.membership_type = membership_type\n",
    "c = Customer('jerin', 'gold')\n",
    "print(c.name, c.membership_type)\n",
    "\n",
    "# __init__() is a constructor that invokes everytime customer created\n",
    "# self refers to this customer or current customer.\n",
    "# name, membership_type are attributes of Customer called parameters.\n",
    "# We pass specific values to this attributes while creating object called arguments.\n",
    "# self.name refers to current customer's name. Pass parameter name to this.\n",
    "# self.membership_type refers to current customer's membership_type. Pass paramter membership_type to this.\n",
    "# c is the object that represent Customer class."
   ],
   "execution_count":21,
   "outputs":[
    {
     "name":"stdout",
     "text":[
      "jerin gold\n"
     ],
     "output_type":"stream"
    }
   ],
   "metadata":{
    "datalore":{
     "type":"CODE",
     "hide_input_from_viewers":false,
     "hide_output_from_viewers":false,
     "node_id":"DLzXNgeXKd0OplYYh8afN2"
    }
   }
  },
  {
   "cell_type":"code",
   "source":[
    "# can create multiple object for one class.\n",
    "c2 = Customer('brad', 'bronze')\n",
    "print(c2.name, c2.membership_type)"
   ],
   "execution_count":16,
   "outputs":[
    {
     "name":"stdout",
     "text":[
      "brad bronze\n"
     ],
     "output_type":"stream"
    }
   ],
   "metadata":{
    "datalore":{
     "type":"CODE",
     "hide_input_from_viewers":false,
     "hide_output_from_viewers":false,
     "node_id":"MPpDhfLOXcHPalHovPebte"
    }
   }
  },
  {
   "cell_type":"code",
   "source":[
    "## Creating a list of customers\n",
    "customers = [Customer('jeny', 'platinum'), Customer('reniya', 'diamond')]\n",
    "for customer in customers:\n",
    "    print(customer.name)\n",
    "    print(customer.membership_type)"
   ],
   "execution_count":17,
   "outputs":[
    {
     "name":"stdout",
     "text":[
      "jeny\n",
      "platinum\n",
      "reniya\n",
      "diamond\n"
     ],
     "output_type":"stream"
    }
   ],
   "metadata":{
    "datalore":{
     "type":"CODE",
     "hide_input_from_viewers":false,
     "hide_output_from_viewers":false,
     "node_id":"gust396zswWUuOy34dvT4a"
    }
   }
  },
  {
   "cell_type":"markdown",
   "source":[
    "## Custom Methods\n",
    "\n",
    "- User defined methodin to perform functionalities on objects we create.  \n",
    "- Suppose to upgrade membership type of customer, may create a custom method called upgrade_membership().\n",
    "- Pass self to custom method while creation instead shows TypeError."
   ],
   "attachments":{
    
   },
   "metadata":{
    "datalore":{
     "type":"MD",
     "hide_input_from_viewers":false,
     "hide_output_from_viewers":false,
     "node_id":"BizvALEgdU4EdmuL5nah1O"
    }
   }
  },
  {
   "cell_type":"code",
   "source":[
    "class Customer:\n",
    "    def __init__(self, name, membership_type):\n",
    "        self.name = name\n",
    "        self.membership_type = membership_type\n",
    "    def upgrade_membership(self, new_membership):\n",
    "        self.membership_type = new_membership\n",
    "        return f'{self.name} updated his membership type to {self.membership_type}'\n",
    "c = Customer('caleb', 'silver')\n",
    "print(c.name, c.membership_type)\n",
    "print(c.upgrade_membership('bronze'))"
   ],
   "execution_count":27,
   "outputs":[
    {
     "name":"stdout",
     "text":[
      "caleb silver\n",
      "caleb updated his membership type to bronze\n"
     ],
     "output_type":"stream"
    }
   ],
   "metadata":{
    "datalore":{
     "type":"CODE",
     "hide_input_from_viewers":false,
     "hide_output_from_viewers":false,
     "node_id":"xAYemot1tyPRdAdXmEGN3y"
    }
   }
  },
  {
   "cell_type":"markdown",
   "source":[
    "## Static Methods\n",
    "\n",
    "- Are the ones not attached to the object, but instead invoked by Class itself."
   ],
   "attachments":{
    
   },
   "metadata":{
    "datalore":{
     "type":"MD",
     "hide_input_from_viewers":false,
     "hide_output_from_viewers":false,
     "node_id":"6uu4JuDb5gjqSeTWe1RWl4"
    }
   }
  },
  {
   "cell_type":"code",
   "source":[
    "class Employee:\n",
    "    def __init__(self, name, job):\n",
    "        self.name = name\n",
    "        self.job = job\n",
    "    def reading_employee():\n",
    "        return 'Employee Read'\n",
    "\n",
    "e = Employee('jissmon', 'developer')\n",
    "# Invoke static method usng Class\n",
    "print(Employee.reading_employee()) "
   ],
   "execution_count":80,
   "outputs":[
    {
     "name":"stdout",
     "text":[
      "Employee Read\n"
     ],
     "output_type":"stream"
    }
   ],
   "metadata":{
    "datalore":{
     "type":"CODE",
     "hide_input_from_viewers":false,
     "hide_output_from_viewers":false,
     "node_id":"0J3omE94Djn3CGKTbUa6QL"
    }
   }
  },
  {
   "cell_type":"markdown",
   "source":[
    "## __str__ method\n",
    "\n",
    "- Defined when we need string representation of object and data.\n",
    "- When v print the object, it returns a string format."
   ],
   "attachments":{
    
   },
   "metadata":{
    "datalore":{
     "type":"MD",
     "hide_input_from_viewers":false,
     "hide_output_from_viewers":false,
     "node_id":"wyDZ2yk3FFVHs2nN51V7M6"
    }
   }
  },
  {
   "cell_type":"code",
   "source":[
    "class Student:\n",
    "    def __init__(self, name, rank):\n",
    "        self.name = name\n",
    "        self.rank = rank\n",
    "    def __str__(self):\n",
    "        return self.name + '' + str(self.rank)    \n",
    "student = Student('jiss', 7)\n",
    "print(student)"
   ],
   "execution_count":74,
   "outputs":[
    {
     "name":"stdout",
     "text":[
      "jiss7\n"
     ],
     "output_type":"stream"
    }
   ],
   "metadata":{
    "datalore":{
     "type":"CODE",
     "hide_input_from_viewers":false,
     "hide_output_from_viewers":false,
     "node_id":"PWIBeebMOuSWJjSiTHR1O2"
    }
   }
  },
  {
   "cell_type":"markdown",
   "source":[
    "### No Str method"
   ],
   "attachments":{
    
   },
   "metadata":{
    "datalore":{
     "type":"MD",
     "hide_input_from_viewers":false,
     "hide_output_from_viewers":false,
     "node_id":"KjsvI9rx1g825qpBE59XYF"
    }
   }
  },
  {
   "cell_type":"code",
   "source":[
    "class Student:\n",
    "    def __init__(self, name, rank):\n",
    "        self.name = name\n",
    "        self.rank = rank\n",
    "    \n",
    "student = Student('jiss', 7)\n",
    "\n",
    "# print object with no __str__() method defined\n",
    "# returns a memory block where that odject is saved.\n",
    "print(student)"
   ],
   "execution_count":76,
   "outputs":[
    {
     "name":"stdout",
     "text":[
      "<__main__.Student object at 0x7f235f000310>\n"
     ],
     "output_type":"stream"
    }
   ],
   "metadata":{
    "datalore":{
     "type":"CODE",
     "hide_input_from_viewers":false,
     "hide_output_from_viewers":false,
     "node_id":"cbHv10p3qwxB1dg1tztgDg"
    }
   }
  },
  {
   "cell_type":"markdown",
   "source":[
    "## Equals Method\n",
    "\n",
    "- To compare between the objects.\n",
    "- __eq__() method takes two parameter, **self** - represent current object, **other** - represent another object."
   ],
   "attachments":{
    
   },
   "metadata":{
    "datalore":{
     "type":"MD",
     "hide_input_from_viewers":false,
     "hide_output_from_viewers":false,
     "node_id":"mqaIdzlOw5362n9UDNNMU1"
    }
   }
  },
  {
   "cell_type":"code",
   "source":[
    "class Soldier:\n",
    "    def __init__(self, name, position):\n",
    "        self.name = name\n",
    "        self.position = position\n",
    "    def __eq__(self, other):\n",
    "        if self.name == other.name and self.position == other.position:\n",
    "            return True\n",
    "        return False\n",
    "s = Soldier('vikram', 'captian')\n",
    "s2 = Soldier('vikram', 'captian')\n",
    "print(s == s2)\n",
    "    "
   ],
   "execution_count":82,
   "outputs":[
    {
     "name":"stdout",
     "text":[
      "True\n"
     ],
     "output_type":"stream"
    }
   ],
   "metadata":{
    "datalore":{
     "type":"CODE",
     "hide_input_from_viewers":false,
     "hide_output_from_viewers":false,
     "node_id":"FmYSym624OW7n8kEJB6JO8"
    }
   }
  },
  {
   "cell_type":"markdown",
   "source":[
    "## __repr__ method\n",
    "\n",
    "- returns string representation of object, same as __str_() method"
   ],
   "attachments":{
    
   },
   "metadata":{
    "datalore":{
     "type":"MD",
     "hide_input_from_viewers":false,
     "hide_output_from_viewers":false,
     "node_id":"bB92cNGobMQCwgMRcjz7EV"
    }
   }
  },
  {
   "cell_type":"code",
   "source":[
    "class Student:\n",
    "    def __init__(self, name, rank):\n",
    "        self.name = name\n",
    "        self.rank = rank\n",
    "    def __repr__(self):\n",
    "        return f'{self.name} {str(self.rank)}'\n",
    "    \n",
    "student = Student('jiss', 7)\n",
    "print(student)"
   ],
   "execution_count":87,
   "outputs":[
    {
     "name":"stdout",
     "text":[
      "jiss 7\n"
     ],
     "output_type":"stream"
    }
   ],
   "metadata":{
    "datalore":{
     "type":"CODE",
     "hide_input_from_viewers":false,
     "hide_output_from_viewers":false,
     "node_id":"95km8J0sfouZeVpNLQaNSa"
    }
   }
  },
  {
   "cell_type":"markdown",
   "source":[
    "## Exercise Program"
   ],
   "attachments":{
    
   },
   "metadata":{
    "datalore":{
     "type":"MD",
     "hide_input_from_viewers":false,
     "hide_output_from_viewers":false,
     "node_id":"z3wyVA1lwKEkCH4eF8UcnS"
    }
   }
  },
  {
   "cell_type":"code",
   "source":[
    "class Football:\n",
    "    def __init__(self, club, president, founded):\n",
    "        self.club = club\n",
    "        self.president = president\n",
    "        self.founded = founded\n",
    "    def __str__(self):\n",
    "        return f'Club: {self.club}, President: {self.president}, Founded on: {self.founded}'\n",
    "    def get_more_info(self):\n",
    "        self.squad = int(input('Enter Sqaud Size:'))\n",
    "        self.captian = input('Enter Captian:')\n",
    "    def print_info(self): \n",
    "        return f'{self.squad} {self.captian}'\n",
    "    def new_president(self):\n",
    "        self.president = input('Enter New President: ')\n",
    "        return self.president\n",
    "club = Football('Real Madrid CF', 'Florentino Perez', 1996)\n",
    "print(club)\n",
    "club.get_more_info()\n",
    "print(club.print_info())\n",
    "print(club.new_president())\n"
   ],
   "execution_count":7,
   "outputs":[
    {
     "name":"stdout",
     "text":[
      "Club: Real Madrid CF, President: Florentino Perez, Founded on: 1996\n",
      "Enter Sqaud Size: 33\n",
      "Enter Captian: Benzema\n",
      "33 Benzema\n",
      "Enter New President:  Calderon\n",
      "Calderon\n"
     ],
     "output_type":"stream"
    }
   ],
   "metadata":{
    "datalore":{
     "type":"CODE",
     "hide_input_from_viewers":false,
     "hide_output_from_viewers":false,
     "node_id":"P0zGgwTs4N5dCD3QCxkEQt"
    }
   }
  },
  {
   "cell_type":"markdown",
   "source":[
    "# Encapsulation, Inheritance, Polymorphism"
   ],
   "attachments":{
    
   },
   "metadata":{
    "datalore":{
     "type":"MD",
     "hide_input_from_viewers":false,
     "hide_output_from_viewers":false,
     "node_id":"WQkhBmlw8tBSxGiN9NutaT"
    }
   }
  },
  {
   "cell_type":"markdown",
   "source":[
    "## Encapsulation\n",
    "- Hide the inner details of a class or data and only expose the data needed by the user.\n",
    "- Suppose there is a data source, and user can access the same using getters and setters method. \n",
    "- In enapsulation We can only get a data thru getters method, and v can set a data\n",
    "  using a setters method.\n",
    "- We define a property in these methods to get\/set the data."
   ],
   "attachments":{
    
   },
   "metadata":{
    "datalore":{
     "type":"MD",
     "hide_input_from_viewers":false,
     "hide_output_from_viewers":false,
     "node_id":"4TalMnq7MjvRsRcfgYBomn"
    }
   }
  },
  {
   "cell_type":"code",
   "source":[
    "class Customer:\n",
    "    def __init__(self, name, membership):\n",
    "        self.name = name\n",
    "        self.membership = membership\n",
    "    \n",
    "    # getting name attribute\n",
    "    @property\n",
    "    def name(self):\n",
    "        return self._name\n",
    "    \n",
    "    # setting value to name attribute\n",
    "    @name.setter\n",
    "    def name(self, name):\n",
    "        self._name = name\n",
    "\n",
    "    # deleting name\n",
    "    @name.deleter\n",
    "    def name(self):\n",
    "        del self._name\n",
    "\n",
    "    def __str__(self):\n",
    "        return f'{self.name} - {self.membership}'\n",
    "\n",
    "customer = Customer('jissmon', 'silver')\n",
    "print(customer)\n",
    "print(customer.name)\n",
    "# del customer.name\n",
    "\n",
    "\n",
    "# These methods are invoked everytime we get\/set a name.\n",
    "# self._name means they are private and accessible only inside the class."
   ],
   "execution_count":22,
   "outputs":[
    {
     "name":"stdout",
     "text":[
      "jissmon - silver\n",
      "jissmon\n"
     ],
     "output_type":"stream"
    }
   ],
   "metadata":{
    "datalore":{
     "type":"CODE",
     "hide_input_from_viewers":false,
     "hide_output_from_viewers":false,
     "node_id":"h1e1cCzNQ4SIV7jDChV4Qd"
    }
   }
  },
  {
   "cell_type":"markdown",
   "source":[
    "## Inheritance\n",
    "\n",
    "- A base class and child classes.\n",
    "- Suppose there is a base class called User. It might have child classes like, Student, Teacher.\n",
    "- Features of User class is accessible to Child class.\n",
    "- A feature of one child class may not be common for another child.\n",
    "- Eg: If we define a student object, it can have the attributes defined for base class User.\n",
    "- But if attribute of student may not be the attribute of teacher. it can vary. "
   ],
   "attachments":{
    
   },
   "metadata":{
    "datalore":{
     "type":"MD",
     "hide_input_from_viewers":false,
     "hide_output_from_viewers":false,
     "node_id":"yGM1yUnWzoxHYawf3GZzO7"
    }
   }
  },
  {
   "cell_type":"code",
   "source":[
    "class User:\n",
    "    def get_college(self):\n",
    "        self.name = 'FISAT'\n",
    "        self.location = 'Mookkanoor'\n",
    "        return self.name\n",
    "class Student(User):\n",
    "    def __init__(self, name, division):\n",
    "        self.name = name\n",
    "        self.division = division\n",
    "    def  print_student(self):\n",
    "        return f'{self.name} - {self.division}'\n",
    "\n",
    "class Teacher(User):\n",
    "    def __init__(self, name, experience):\n",
    "        self.name = name\n",
    "        self.experience = experience\n",
    "    def print_teacher(self):\n",
    "        return f'{self.name}  - {self.experience}'\n",
    "\n",
    "student = Student('Amaljith', 'MCA17')\n",
    "teacher = Teacher('Rakesh', 7)\n",
    "\n",
    "print(student.print_student())\n",
    "print(teacher.print_teacher())\n",
    "\n",
    "print(f'{student.name} is a student of ' + student.get_college())\n",
    "print(f'{teacher.name} is a teacher of ' + teacher.get_college())\n",
    "\n",
    "print(student.location)\n",
    "print(teacher.location)"
   ],
   "execution_count":5,
   "outputs":[
    {
     "name":"stdout",
     "text":[
      "Amaljith - MCA17\n",
      "Rakesh  - 7\n",
      "Amaljith is a student of FISAT\n",
      "Rakesh is a teacher of FISAT\n",
      "Mookkanoor\n",
      "Mookkanoor\n"
     ],
     "output_type":"stream"
    }
   ],
   "metadata":{
    "datalore":{
     "type":"CODE",
     "hide_input_from_viewers":false,
     "hide_output_from_viewers":false,
     "node_id":"enzSwS9BiDoTkmHJZhcXFB"
    }
   }
  },
  {
   "cell_type":"markdown",
   "source":[
    "## Polymorphism \n",
    "\n",
    "- Base class has some methods and we can override the same methods in child classes.\n",
    "  This is called polymorphism.\n",
    "- We define the same method name in child classes as well."
   ],
   "attachments":{
    
   },
   "metadata":{
    "datalore":{
     "type":"MD",
     "hide_input_from_viewers":false,
     "hide_output_from_viewers":false,
     "node_id":"fxYD0pHdLSXj7v8NoIxD35"
    }
   }
  },
  {
   "cell_type":"code",
   "source":[
    "class User:\n",
    "    def get_college(self):\n",
    "        self.name = 'FISAT'\n",
    "        self.location = 'Mookkanoor'\n",
    "        return self.name\n",
    "    def log(self):\n",
    "        return 'Log User'\n",
    "class Student(User):\n",
    "    def __init__(self, name, division):\n",
    "        self.name = name\n",
    "        self.division = division\n",
    "    def  print_student(self):\n",
    "        return f'{self.name} - {self.division}'\n",
    "    def log(self):\n",
    "        return 'Log Student'\n",
    "\n",
    "class Teacher(User):\n",
    "    def __init__(self, name, experience):\n",
    "        self.name = name\n",
    "        self.experience = experience\n",
    "    def print_teacher(self):\n",
    "        return f'{self.name}  - {self.experience}'\n",
    "    def log(self):\n",
    "        return 'Log Teacher'\n",
    "\n",
    "student = Student('jissmon', 'MCA17')\n",
    "teacher = Teacher('praveena', 7)\n",
    "user = User()\n",
    "\n",
    "# call log method on a user object\n",
    "print(user.log())\n",
    "\n",
    "# Override log method from student object\n",
    "print(student.log())\n",
    "\n",
    "# Override log method from teacher object\n",
    "print(teacher.log())\n",
    "\n",
    "# We override method of Base class User in Child class Student and Teacher."
   ],
   "execution_count":43,
   "outputs":[
    {
     "name":"stdout",
     "text":[
      "Log User\n",
      "Log Student\n",
      "Log Teacher\n"
     ],
     "output_type":"stream"
    }
   ],
   "metadata":{
    "datalore":{
     "type":"CODE",
     "hide_input_from_viewers":false,
     "hide_output_from_viewers":false,
     "node_id":"y0LQwBUm59GQ14ZZJTva3I"
    }
   }
  },
  {
   "cell_type":"code",
   "source":[
    
   ],
   "execution_count":null,
   "outputs":[
    
   ],
   "metadata":{
    "datalore":{
     "type":"CODE",
     "hide_input_from_viewers":false,
     "hide_output_from_viewers":false,
     "node_id":"x5P2gKKIEDiYbiESOrcgfg"
    }
   }
  }
 ],
 "metadata":{
  "kernelspec":{
   "display_name":"Python",
   "language":"python",
   "name":"python"
  },
  "datalore":{
   "version":1,
   "computation_mode":"JUPYTER",
   "package_manager":"pip",
   "base_environment":"default",
   "packages":[
    
   ]
  }
 },
 "nbformat":4,
 "nbformat_minor":4
}