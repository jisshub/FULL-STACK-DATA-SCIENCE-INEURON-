{
 "cells":[
  {
   "cell_type":"code",
   "source":[
    "import pandas as pd\n",
    "import numpy as np\n",
    "from datetime import datetime"
   ],
   "execution_count":40,
   "outputs":[
    
   ],
   "metadata":{
    "datalore":{
     "type":"CODE",
     "hide_input_from_viewers":false,
     "hide_output_from_viewers":false,
     "node_id":"z4gVQZbbts9Vs015f2lDig"
    }
   }
  },
  {
   "cell_type":"code",
   "source":[
    "sales_dict = {\n",
    "'ord-no': np.random.randint(5000, 5100, 12),\n",
    "'purchase_amt': np.random.uniform(500, 1500, 12).round(2),\n",
    "'customer_id': np.random.randint(3000, 3008, 12),\n",
    "'salesman_id': np.random.randint(5000, 5005, 12)\n",
    "}"
   ],
   "execution_count":41,
   "outputs":[
    
   ],
   "metadata":{
    "datalore":{
     "type":"CODE",
     "hide_input_from_viewers":false,
     "hide_output_from_viewers":false,
     "node_id":"H9hFhLb5pyhG10t6iOn9ai"
    }
   }
  },
  {
   "cell_type":"code",
   "source":[
    "sales_dict"
   ],
   "execution_count":42,
   "outputs":[
    {
     "data":{
      "text\/plain":[
       "{'ord-no': array([5037, 5046, 5092, 5088, 5081, 5074, 5050, 5014, 5026, 5022, 5083,\n",
       "        5055]),\n",
       " 'purchase_amt': array([1004.35, 1389.57,  693.11, 1257.08,  596.53, 1139.07,  998.65,\n",
       "        1092.21,  786.01, 1450.82,  687.43,  794.84]),\n",
       " 'customer_id': array([3001, 3000, 3003, 3004, 3007, 3007, 3005, 3002, 3001, 3002, 3006,\n",
       "        3003]),\n",
       " 'salesman_id': array([5004, 5004, 5004, 5000, 5002, 5001, 5003, 5002, 5002, 5001, 5004,\n",
       "        5004])}"
      ]
     },
     "metadata":{
      
     },
     "output_type":"display_data"
    }
   ],
   "metadata":{
    "datalore":{
     "type":"CODE",
     "hide_input_from_viewers":false,
     "hide_output_from_viewers":false,
     "node_id":"GGDKwdmenqzklpH7YleWkH"
    }
   }
  },
  {
   "cell_type":"code",
   "source":[
    "sales_df = pd.DataFrame(sales_dict)\n",
    "sales_df"
   ],
   "execution_count":43,
   "outputs":[
    {
     "data":{
      "text\/html":[
       "<div>\n",
       "<style scoped>\n",
       "    .dataframe tbody tr th:only-of-type {\n",
       "        vertical-align: middle;\n",
       "    }\n",
       "\n",
       "    .dataframe tbody tr th {\n",
       "        vertical-align: top;\n",
       "    }\n",
       "\n",
       "    .dataframe thead th {\n",
       "        text-align: right;\n",
       "    }\n",
       "<\/style>\n",
       "<table border=\"1\" class=\"dataframe\">\n",
       "  <thead>\n",
       "    <tr style=\"text-align: right;\">\n",
       "      <th><\/th>\n",
       "      <th>ord-no<\/th>\n",
       "      <th>purchase_amt<\/th>\n",
       "      <th>customer_id<\/th>\n",
       "      <th>salesman_id<\/th>\n",
       "    <\/tr>\n",
       "  <\/thead>\n",
       "  <tbody>\n",
       "    <tr>\n",
       "      <th>0<\/th>\n",
       "      <td>5037<\/td>\n",
       "      <td>1004.35<\/td>\n",
       "      <td>3001<\/td>\n",
       "      <td>5004<\/td>\n",
       "    <\/tr>\n",
       "    <tr>\n",
       "      <th>1<\/th>\n",
       "      <td>5046<\/td>\n",
       "      <td>1389.57<\/td>\n",
       "      <td>3000<\/td>\n",
       "      <td>5004<\/td>\n",
       "    <\/tr>\n",
       "    <tr>\n",
       "      <th>2<\/th>\n",
       "      <td>5092<\/td>\n",
       "      <td>693.11<\/td>\n",
       "      <td>3003<\/td>\n",
       "      <td>5004<\/td>\n",
       "    <\/tr>\n",
       "    <tr>\n",
       "      <th>3<\/th>\n",
       "      <td>5088<\/td>\n",
       "      <td>1257.08<\/td>\n",
       "      <td>3004<\/td>\n",
       "      <td>5000<\/td>\n",
       "    <\/tr>\n",
       "    <tr>\n",
       "      <th>4<\/th>\n",
       "      <td>5081<\/td>\n",
       "      <td>596.53<\/td>\n",
       "      <td>3007<\/td>\n",
       "      <td>5002<\/td>\n",
       "    <\/tr>\n",
       "    <tr>\n",
       "      <th>5<\/th>\n",
       "      <td>5074<\/td>\n",
       "      <td>1139.07<\/td>\n",
       "      <td>3007<\/td>\n",
       "      <td>5001<\/td>\n",
       "    <\/tr>\n",
       "    <tr>\n",
       "      <th>6<\/th>\n",
       "      <td>5050<\/td>\n",
       "      <td>998.65<\/td>\n",
       "      <td>3005<\/td>\n",
       "      <td>5003<\/td>\n",
       "    <\/tr>\n",
       "    <tr>\n",
       "      <th>7<\/th>\n",
       "      <td>5014<\/td>\n",
       "      <td>1092.21<\/td>\n",
       "      <td>3002<\/td>\n",
       "      <td>5002<\/td>\n",
       "    <\/tr>\n",
       "    <tr>\n",
       "      <th>8<\/th>\n",
       "      <td>5026<\/td>\n",
       "      <td>786.01<\/td>\n",
       "      <td>3001<\/td>\n",
       "      <td>5002<\/td>\n",
       "    <\/tr>\n",
       "    <tr>\n",
       "      <th>9<\/th>\n",
       "      <td>5022<\/td>\n",
       "      <td>1450.82<\/td>\n",
       "      <td>3002<\/td>\n",
       "      <td>5001<\/td>\n",
       "    <\/tr>\n",
       "    <tr>\n",
       "      <th>10<\/th>\n",
       "      <td>5083<\/td>\n",
       "      <td>687.43<\/td>\n",
       "      <td>3006<\/td>\n",
       "      <td>5004<\/td>\n",
       "    <\/tr>\n",
       "    <tr>\n",
       "      <th>11<\/th>\n",
       "      <td>5055<\/td>\n",
       "      <td>794.84<\/td>\n",
       "      <td>3003<\/td>\n",
       "      <td>5004<\/td>\n",
       "    <\/tr>\n",
       "  <\/tbody>\n",
       "<\/table>\n",
       "<\/div>"
      ]
     },
     "metadata":{
      
     },
     "output_type":"display_data"
    }
   ],
   "metadata":{
    "datalore":{
     "type":"CODE",
     "hide_input_from_viewers":false,
     "hide_output_from_viewers":false,
     "node_id":"q221FW5FFvSyARJo4Uu3XE"
    }
   }
  },
  {
   "cell_type":"markdown",
   "source":[
    "7. **Write a Pandas program to split a dataset, group by one column and get mean, min, and max values by group. Using the following dataset find the mean, min, and max values of purchase amount (purch_amt) group by customer id (customer_id).**"
   ],
   "attachments":{
    
   },
   "metadata":{
    "datalore":{
     "type":"MD",
     "hide_input_from_viewers":false,
     "hide_output_from_viewers":false,
     "node_id":"E5VhctKbK2UAIdlfT2SOos"
    }
   }
  },
  {
   "cell_type":"code",
   "source":[
    "grouped_df = sales_df.groupby(['customer_id'], as_index=False)\n",
    "grouped_df.agg(Mean_Purchas_Amt=('purchase_amt', np.mean), Min_Purchase_Amt=('purchase_amt', np.min), \n",
    "Max_Pruchase_Amt=('purchase_amt', np.max))"
   ],
   "execution_count":44,
   "outputs":[
    {
     "data":{
      "text\/html":[
       "<div>\n",
       "<style scoped>\n",
       "    .dataframe tbody tr th:only-of-type {\n",
       "        vertical-align: middle;\n",
       "    }\n",
       "\n",
       "    .dataframe tbody tr th {\n",
       "        vertical-align: top;\n",
       "    }\n",
       "\n",
       "    .dataframe thead th {\n",
       "        text-align: right;\n",
       "    }\n",
       "<\/style>\n",
       "<table border=\"1\" class=\"dataframe\">\n",
       "  <thead>\n",
       "    <tr style=\"text-align: right;\">\n",
       "      <th><\/th>\n",
       "      <th>customer_id<\/th>\n",
       "      <th>Mean_Purchas_Amt<\/th>\n",
       "      <th>Min_Purchase_Amt<\/th>\n",
       "      <th>Max_Pruchase_Amt<\/th>\n",
       "    <\/tr>\n",
       "  <\/thead>\n",
       "  <tbody>\n",
       "    <tr>\n",
       "      <th>0<\/th>\n",
       "      <td>3000<\/td>\n",
       "      <td>1389.570<\/td>\n",
       "      <td>1389.57<\/td>\n",
       "      <td>1389.57<\/td>\n",
       "    <\/tr>\n",
       "    <tr>\n",
       "      <th>1<\/th>\n",
       "      <td>3001<\/td>\n",
       "      <td>895.180<\/td>\n",
       "      <td>786.01<\/td>\n",
       "      <td>1004.35<\/td>\n",
       "    <\/tr>\n",
       "    <tr>\n",
       "      <th>2<\/th>\n",
       "      <td>3002<\/td>\n",
       "      <td>1271.515<\/td>\n",
       "      <td>1092.21<\/td>\n",
       "      <td>1450.82<\/td>\n",
       "    <\/tr>\n",
       "    <tr>\n",
       "      <th>3<\/th>\n",
       "      <td>3003<\/td>\n",
       "      <td>743.975<\/td>\n",
       "      <td>693.11<\/td>\n",
       "      <td>794.84<\/td>\n",
       "    <\/tr>\n",
       "    <tr>\n",
       "      <th>4<\/th>\n",
       "      <td>3004<\/td>\n",
       "      <td>1257.080<\/td>\n",
       "      <td>1257.08<\/td>\n",
       "      <td>1257.08<\/td>\n",
       "    <\/tr>\n",
       "    <tr>\n",
       "      <th>5<\/th>\n",
       "      <td>3005<\/td>\n",
       "      <td>998.650<\/td>\n",
       "      <td>998.65<\/td>\n",
       "      <td>998.65<\/td>\n",
       "    <\/tr>\n",
       "    <tr>\n",
       "      <th>6<\/th>\n",
       "      <td>3006<\/td>\n",
       "      <td>687.430<\/td>\n",
       "      <td>687.43<\/td>\n",
       "      <td>687.43<\/td>\n",
       "    <\/tr>\n",
       "    <tr>\n",
       "      <th>7<\/th>\n",
       "      <td>3007<\/td>\n",
       "      <td>867.800<\/td>\n",
       "      <td>596.53<\/td>\n",
       "      <td>1139.07<\/td>\n",
       "    <\/tr>\n",
       "  <\/tbody>\n",
       "<\/table>\n",
       "<\/div>"
      ]
     },
     "metadata":{
      
     },
     "output_type":"display_data"
    }
   ],
   "metadata":{
    "datalore":{
     "type":"CODE",
     "hide_input_from_viewers":false,
     "hide_output_from_viewers":false,
     "node_id":"iRLnRCQyuev5WpbVf1iU20"
    }
   }
  },
  {
   "cell_type":"markdown",
   "source":[
    "**8. Write a Pandas program to split a dataset to group by two columns and count by each row.**"
   ],
   "attachments":{
    
   },
   "metadata":{
    "datalore":{
     "type":"MD",
     "hide_input_from_viewers":false,
     "hide_output_from_viewers":false,
     "node_id":"FN9t1tB2Z5kvcsKgEZHzKQ"
    }
   }
  },
  {
   "cell_type":"code",
   "source":[
    "sales_df.groupby(['customer_id','salesman_id'], as_index=False).count()"
   ],
   "execution_count":45,
   "outputs":[
    {
     "data":{
      "text\/html":[
       "<div>\n",
       "<style scoped>\n",
       "    .dataframe tbody tr th:only-of-type {\n",
       "        vertical-align: middle;\n",
       "    }\n",
       "\n",
       "    .dataframe tbody tr th {\n",
       "        vertical-align: top;\n",
       "    }\n",
       "\n",
       "    .dataframe thead th {\n",
       "        text-align: right;\n",
       "    }\n",
       "<\/style>\n",
       "<table border=\"1\" class=\"dataframe\">\n",
       "  <thead>\n",
       "    <tr style=\"text-align: right;\">\n",
       "      <th><\/th>\n",
       "      <th>customer_id<\/th>\n",
       "      <th>salesman_id<\/th>\n",
       "      <th>ord-no<\/th>\n",
       "      <th>purchase_amt<\/th>\n",
       "    <\/tr>\n",
       "  <\/thead>\n",
       "  <tbody>\n",
       "    <tr>\n",
       "      <th>0<\/th>\n",
       "      <td>3000<\/td>\n",
       "      <td>5004<\/td>\n",
       "      <td>1<\/td>\n",
       "      <td>1<\/td>\n",
       "    <\/tr>\n",
       "    <tr>\n",
       "      <th>1<\/th>\n",
       "      <td>3001<\/td>\n",
       "      <td>5002<\/td>\n",
       "      <td>1<\/td>\n",
       "      <td>1<\/td>\n",
       "    <\/tr>\n",
       "    <tr>\n",
       "      <th>2<\/th>\n",
       "      <td>3001<\/td>\n",
       "      <td>5004<\/td>\n",
       "      <td>1<\/td>\n",
       "      <td>1<\/td>\n",
       "    <\/tr>\n",
       "    <tr>\n",
       "      <th>3<\/th>\n",
       "      <td>3002<\/td>\n",
       "      <td>5001<\/td>\n",
       "      <td>1<\/td>\n",
       "      <td>1<\/td>\n",
       "    <\/tr>\n",
       "    <tr>\n",
       "      <th>4<\/th>\n",
       "      <td>3002<\/td>\n",
       "      <td>5002<\/td>\n",
       "      <td>1<\/td>\n",
       "      <td>1<\/td>\n",
       "    <\/tr>\n",
       "    <tr>\n",
       "      <th>5<\/th>\n",
       "      <td>3003<\/td>\n",
       "      <td>5004<\/td>\n",
       "      <td>2<\/td>\n",
       "      <td>2<\/td>\n",
       "    <\/tr>\n",
       "    <tr>\n",
       "      <th>6<\/th>\n",
       "      <td>3004<\/td>\n",
       "      <td>5000<\/td>\n",
       "      <td>1<\/td>\n",
       "      <td>1<\/td>\n",
       "    <\/tr>\n",
       "    <tr>\n",
       "      <th>7<\/th>\n",
       "      <td>3005<\/td>\n",
       "      <td>5003<\/td>\n",
       "      <td>1<\/td>\n",
       "      <td>1<\/td>\n",
       "    <\/tr>\n",
       "    <tr>\n",
       "      <th>8<\/th>\n",
       "      <td>3006<\/td>\n",
       "      <td>5004<\/td>\n",
       "      <td>1<\/td>\n",
       "      <td>1<\/td>\n",
       "    <\/tr>\n",
       "    <tr>\n",
       "      <th>9<\/th>\n",
       "      <td>3007<\/td>\n",
       "      <td>5001<\/td>\n",
       "      <td>1<\/td>\n",
       "      <td>1<\/td>\n",
       "    <\/tr>\n",
       "    <tr>\n",
       "      <th>10<\/th>\n",
       "      <td>3007<\/td>\n",
       "      <td>5002<\/td>\n",
       "      <td>1<\/td>\n",
       "      <td>1<\/td>\n",
       "    <\/tr>\n",
       "  <\/tbody>\n",
       "<\/table>\n",
       "<\/div>"
      ]
     },
     "metadata":{
      
     },
     "output_type":"display_data"
    }
   ],
   "metadata":{
    "datalore":{
     "type":"CODE",
     "hide_input_from_viewers":false,
     "hide_output_from_viewers":false,
     "node_id":"qtOEUMWJMnIGGIVm5Uc54m"
    }
   }
  },
  {
   "cell_type":"code",
   "source":[
    "sales_df.groupby(['salesman_id','customer_id']).size().reset_index()"
   ],
   "execution_count":46,
   "outputs":[
    {
     "data":{
      "text\/html":[
       "<div>\n",
       "<style scoped>\n",
       "    .dataframe tbody tr th:only-of-type {\n",
       "        vertical-align: middle;\n",
       "    }\n",
       "\n",
       "    .dataframe tbody tr th {\n",
       "        vertical-align: top;\n",
       "    }\n",
       "\n",
       "    .dataframe thead th {\n",
       "        text-align: right;\n",
       "    }\n",
       "<\/style>\n",
       "<table border=\"1\" class=\"dataframe\">\n",
       "  <thead>\n",
       "    <tr style=\"text-align: right;\">\n",
       "      <th><\/th>\n",
       "      <th>salesman_id<\/th>\n",
       "      <th>customer_id<\/th>\n",
       "      <th>0<\/th>\n",
       "    <\/tr>\n",
       "  <\/thead>\n",
       "  <tbody>\n",
       "    <tr>\n",
       "      <th>0<\/th>\n",
       "      <td>5000<\/td>\n",
       "      <td>3004<\/td>\n",
       "      <td>1<\/td>\n",
       "    <\/tr>\n",
       "    <tr>\n",
       "      <th>1<\/th>\n",
       "      <td>5001<\/td>\n",
       "      <td>3002<\/td>\n",
       "      <td>1<\/td>\n",
       "    <\/tr>\n",
       "    <tr>\n",
       "      <th>2<\/th>\n",
       "      <td>5001<\/td>\n",
       "      <td>3007<\/td>\n",
       "      <td>1<\/td>\n",
       "    <\/tr>\n",
       "    <tr>\n",
       "      <th>3<\/th>\n",
       "      <td>5002<\/td>\n",
       "      <td>3001<\/td>\n",
       "      <td>1<\/td>\n",
       "    <\/tr>\n",
       "    <tr>\n",
       "      <th>4<\/th>\n",
       "      <td>5002<\/td>\n",
       "      <td>3002<\/td>\n",
       "      <td>1<\/td>\n",
       "    <\/tr>\n",
       "    <tr>\n",
       "      <th>5<\/th>\n",
       "      <td>5002<\/td>\n",
       "      <td>3007<\/td>\n",
       "      <td>1<\/td>\n",
       "    <\/tr>\n",
       "    <tr>\n",
       "      <th>6<\/th>\n",
       "      <td>5003<\/td>\n",
       "      <td>3005<\/td>\n",
       "      <td>1<\/td>\n",
       "    <\/tr>\n",
       "    <tr>\n",
       "      <th>7<\/th>\n",
       "      <td>5004<\/td>\n",
       "      <td>3000<\/td>\n",
       "      <td>1<\/td>\n",
       "    <\/tr>\n",
       "    <tr>\n",
       "      <th>8<\/th>\n",
       "      <td>5004<\/td>\n",
       "      <td>3001<\/td>\n",
       "      <td>1<\/td>\n",
       "    <\/tr>\n",
       "    <tr>\n",
       "      <th>9<\/th>\n",
       "      <td>5004<\/td>\n",
       "      <td>3003<\/td>\n",
       "      <td>2<\/td>\n",
       "    <\/tr>\n",
       "    <tr>\n",
       "      <th>10<\/th>\n",
       "      <td>5004<\/td>\n",
       "      <td>3006<\/td>\n",
       "      <td>1<\/td>\n",
       "    <\/tr>\n",
       "  <\/tbody>\n",
       "<\/table>\n",
       "<\/div>"
      ]
     },
     "metadata":{
      
     },
     "output_type":"display_data"
    }
   ],
   "metadata":{
    "datalore":{
     "type":"CODE",
     "hide_input_from_viewers":false,
     "hide_output_from_viewers":false,
     "node_id":"a3Ph4Yy2TtOqZy3XBZqOQk"
    }
   }
  },
  {
   "cell_type":"markdown",
   "source":[
    "**9. Write a Pandas program to split a dataset to group by two columns and then sort the aggregated results within the groups. Go to the editor\n",
    "In the following dataset group on 'customer_id', 'salesman_id' and then sort sum of purch_amt within the groups.**"
   ],
   "attachments":{
    
   },
   "metadata":{
    "datalore":{
     "type":"MD",
     "hide_input_from_viewers":false,
     "hide_output_from_viewers":false,
     "node_id":"8gjKoRl4XHUt91fKgfiy2S"
    }
   }
  },
  {
   "cell_type":"code",
   "source":[
    "grouped_df = sales_df.groupby(['customer_id', 'salesman_id'], as_index=False)\n",
    "sorted_df= grouped_df.sum('purchase_amt').sort_values('purchase_amt', ascending=True)\n",
    "new_df = sorted_df[['customer_id', 'salesman_id', 'purchase_amt']]\n",
    "new_df"
   ],
   "execution_count":47,
   "outputs":[
    {
     "data":{
      "text\/html":[
       "<div>\n",
       "<style scoped>\n",
       "    .dataframe tbody tr th:only-of-type {\n",
       "        vertical-align: middle;\n",
       "    }\n",
       "\n",
       "    .dataframe tbody tr th {\n",
       "        vertical-align: top;\n",
       "    }\n",
       "\n",
       "    .dataframe thead th {\n",
       "        text-align: right;\n",
       "    }\n",
       "<\/style>\n",
       "<table border=\"1\" class=\"dataframe\">\n",
       "  <thead>\n",
       "    <tr style=\"text-align: right;\">\n",
       "      <th><\/th>\n",
       "      <th>customer_id<\/th>\n",
       "      <th>salesman_id<\/th>\n",
       "      <th>purchase_amt<\/th>\n",
       "    <\/tr>\n",
       "  <\/thead>\n",
       "  <tbody>\n",
       "    <tr>\n",
       "      <th>10<\/th>\n",
       "      <td>3007<\/td>\n",
       "      <td>5002<\/td>\n",
       "      <td>596.53<\/td>\n",
       "    <\/tr>\n",
       "    <tr>\n",
       "      <th>8<\/th>\n",
       "      <td>3006<\/td>\n",
       "      <td>5004<\/td>\n",
       "      <td>687.43<\/td>\n",
       "    <\/tr>\n",
       "    <tr>\n",
       "      <th>1<\/th>\n",
       "      <td>3001<\/td>\n",
       "      <td>5002<\/td>\n",
       "      <td>786.01<\/td>\n",
       "    <\/tr>\n",
       "    <tr>\n",
       "      <th>7<\/th>\n",
       "      <td>3005<\/td>\n",
       "      <td>5003<\/td>\n",
       "      <td>998.65<\/td>\n",
       "    <\/tr>\n",
       "    <tr>\n",
       "      <th>2<\/th>\n",
       "      <td>3001<\/td>\n",
       "      <td>5004<\/td>\n",
       "      <td>1004.35<\/td>\n",
       "    <\/tr>\n",
       "    <tr>\n",
       "      <th>4<\/th>\n",
       "      <td>3002<\/td>\n",
       "      <td>5002<\/td>\n",
       "      <td>1092.21<\/td>\n",
       "    <\/tr>\n",
       "    <tr>\n",
       "      <th>9<\/th>\n",
       "      <td>3007<\/td>\n",
       "      <td>5001<\/td>\n",
       "      <td>1139.07<\/td>\n",
       "    <\/tr>\n",
       "    <tr>\n",
       "      <th>6<\/th>\n",
       "      <td>3004<\/td>\n",
       "      <td>5000<\/td>\n",
       "      <td>1257.08<\/td>\n",
       "    <\/tr>\n",
       "    <tr>\n",
       "      <th>0<\/th>\n",
       "      <td>3000<\/td>\n",
       "      <td>5004<\/td>\n",
       "      <td>1389.57<\/td>\n",
       "    <\/tr>\n",
       "    <tr>\n",
       "      <th>3<\/th>\n",
       "      <td>3002<\/td>\n",
       "      <td>5001<\/td>\n",
       "      <td>1450.82<\/td>\n",
       "    <\/tr>\n",
       "    <tr>\n",
       "      <th>5<\/th>\n",
       "      <td>3003<\/td>\n",
       "      <td>5004<\/td>\n",
       "      <td>1487.95<\/td>\n",
       "    <\/tr>\n",
       "  <\/tbody>\n",
       "<\/table>\n",
       "<\/div>"
      ]
     },
     "metadata":{
      
     },
     "output_type":"display_data"
    }
   ],
   "metadata":{
    "datalore":{
     "type":"CODE",
     "hide_input_from_viewers":false,
     "hide_output_from_viewers":false,
     "node_id":"U5QlHLwRN36PeJblwii30Z"
    }
   }
  },
  {
   "cell_type":"markdown",
   "source":[
    "**10. Write a Pandas program to split the following dataframe into groups based on customer id and create a list of order date for each group**\n",
    "\n",
    "https:\/\/stackoverflow.com\/questions\/50559078\/generating-random-dates-within-a-given-range-in-pandas"
   ],
   "attachments":{
    
   },
   "metadata":{
    "datalore":{
     "type":"MD",
     "hide_input_from_viewers":false,
     "hide_output_from_viewers":false,
     "node_id":"fO9aGZSImTefUDarpylk6N"
    }
   }
  },
  {
   "cell_type":"code",
   "source":[
    "def random_dates(start, end, n=12):\n",
    "\n",
    "    start_u = start.value\/\/10**9\n",
    "    end_u = end.value\/\/10**9\n",
    "\n",
    "    rand_dates = list(pd.to_datetime(np.random.randint(start_u, end_u, n), unit='s'))    \n",
    "    sales_df['ord_dates']=rand_dates\n",
    "    print(sales_df)\n",
    "\n",
    "\n",
    "start = pd.to_datetime('2017-01-01')\n",
    "end = pd.to_datetime('2018-01-01')\n",
    "random_dates(start, end)"
   ],
   "execution_count":51,
   "outputs":[
    {
     "name":"stdout",
     "text":[
      "    ord-no  purchase_amt  customer_id  salesman_id           ord_dates\n",
      "0     5037       1004.35         3001         5004 2017-05-18 09:51:39\n",
      "1     5046       1389.57         3000         5004 2017-12-06 23:11:11\n",
      "2     5092        693.11         3003         5004 2017-11-08 17:15:18\n",
      "3     5088       1257.08         3004         5000 2017-06-01 00:13:17\n",
      "4     5081        596.53         3007         5002 2017-06-23 11:51:05\n",
      "5     5074       1139.07         3007         5001 2017-04-04 10:57:18\n",
      "6     5050        998.65         3005         5003 2017-03-30 00:44:50\n",
      "7     5014       1092.21         3002         5002 2017-09-22 06:36:21\n",
      "8     5026        786.01         3001         5002 2017-11-15 09:05:25\n",
      "9     5022       1450.82         3002         5001 2017-04-08 03:40:48\n",
      "10    5083        687.43         3006         5004 2017-06-27 11:07:40\n",
      "11    5055        794.84         3003         5004 2017-01-08 14:51:51\n"
     ],
     "output_type":"stream"
    }
   ],
   "metadata":{
    "datalore":{
     "type":"CODE",
     "hide_input_from_viewers":false,
     "hide_output_from_viewers":false,
     "node_id":"SIu16Qf2K5Eat9yQDsFfP0"
    }
   }
  },
  {
   "cell_type":"code",
   "source":[
    "grouped_data = sales_df.groupby(['customer_id'], as_index=False)\n",
    "grouped_data['ord_dates'].count()"
   ],
   "execution_count":55,
   "outputs":[
    {
     "data":{
      "text\/html":[
       "<div>\n",
       "<style scoped>\n",
       "    .dataframe tbody tr th:only-of-type {\n",
       "        vertical-align: middle;\n",
       "    }\n",
       "\n",
       "    .dataframe tbody tr th {\n",
       "        vertical-align: top;\n",
       "    }\n",
       "\n",
       "    .dataframe thead th {\n",
       "        text-align: right;\n",
       "    }\n",
       "<\/style>\n",
       "<table border=\"1\" class=\"dataframe\">\n",
       "  <thead>\n",
       "    <tr style=\"text-align: right;\">\n",
       "      <th><\/th>\n",
       "      <th>customer_id<\/th>\n",
       "      <th>ord_dates<\/th>\n",
       "    <\/tr>\n",
       "  <\/thead>\n",
       "  <tbody>\n",
       "    <tr>\n",
       "      <th>0<\/th>\n",
       "      <td>3000<\/td>\n",
       "      <td>1<\/td>\n",
       "    <\/tr>\n",
       "    <tr>\n",
       "      <th>1<\/th>\n",
       "      <td>3001<\/td>\n",
       "      <td>2<\/td>\n",
       "    <\/tr>\n",
       "    <tr>\n",
       "      <th>2<\/th>\n",
       "      <td>3002<\/td>\n",
       "      <td>2<\/td>\n",
       "    <\/tr>\n",
       "    <tr>\n",
       "      <th>3<\/th>\n",
       "      <td>3003<\/td>\n",
       "      <td>2<\/td>\n",
       "    <\/tr>\n",
       "    <tr>\n",
       "      <th>4<\/th>\n",
       "      <td>3004<\/td>\n",
       "      <td>1<\/td>\n",
       "    <\/tr>\n",
       "    <tr>\n",
       "      <th>5<\/th>\n",
       "      <td>3005<\/td>\n",
       "      <td>1<\/td>\n",
       "    <\/tr>\n",
       "    <tr>\n",
       "      <th>6<\/th>\n",
       "      <td>3006<\/td>\n",
       "      <td>1<\/td>\n",
       "    <\/tr>\n",
       "    <tr>\n",
       "      <th>7<\/th>\n",
       "      <td>3007<\/td>\n",
       "      <td>2<\/td>\n",
       "    <\/tr>\n",
       "  <\/tbody>\n",
       "<\/table>\n",
       "<\/div>"
      ]
     },
     "metadata":{
      
     },
     "output_type":"display_data"
    }
   ],
   "metadata":{
    "datalore":{
     "type":"CODE",
     "hide_input_from_viewers":false,
     "hide_output_from_viewers":false,
     "node_id":"jEDnxuNAEDnMXHdwSD54Se"
    }
   }
  },
  {
   "cell_type":"code",
   "source":[
    
   ],
   "execution_count":null,
   "outputs":[
    
   ],
   "metadata":{
    "datalore":{
     "type":"CODE",
     "hide_input_from_viewers":false,
     "hide_output_from_viewers":false,
     "node_id":"fRiTt8rcDyP1R25eBdo1gJ"
    }
   }
  }
 ],
 "metadata":{
  "kernelspec":{
   "display_name":"Python",
   "language":"python",
   "name":"python"
  },
  "datalore":{
   "version":1,
   "computation_mode":"JUPYTER",
   "package_manager":"pip",
   "base_environment":"default",
   "packages":[
    
   ]
  }
 },
 "nbformat":4,
 "nbformat_minor":4
}