{
  "cells": [
    {
      "cell_type": "markdown",
      "metadata": {
        "id": "kzYa4hyh3Zm-"
      },
      "source": [
        "## import libraries"
      ]
    },
    {
      "cell_type": "code",
      "execution_count": 1,
      "metadata": {
        "id": "AZe2J3HI3LXi"
      },
      "outputs": [],
      "source": [
        "import numpy as np\n",
        "import pandas as pd\n",
        "import matplotlib.pyplot as plt"
      ]
    },
    {
      "cell_type": "markdown",
      "metadata": {
        "id": "wFM-R_2H3cAw"
      },
      "source": [
        "## Prepare x and y"
      ]
    },
    {
      "cell_type": "code",
      "execution_count": 2,
      "metadata": {
        "colab": {
          "base_uri": "https://localhost:8080/"
        },
        "id": "BBVQecKZ3fT6",
        "outputId": "ecdc3e62-1e3c-4695-f9d1-5fdbfffb845e"
      },
      "outputs": [
        {
          "data": {
            "text/plain": [
              "array([-5.        , -4.8989899 , -4.7979798 , -4.6969697 , -4.5959596 ,\n",
              "       -4.49494949, -4.39393939, -4.29292929, -4.19191919, -4.09090909,\n",
              "       -3.98989899, -3.88888889, -3.78787879, -3.68686869, -3.58585859,\n",
              "       -3.48484848, -3.38383838, -3.28282828, -3.18181818, -3.08080808,\n",
              "       -2.97979798, -2.87878788, -2.77777778, -2.67676768, -2.57575758,\n",
              "       -2.47474747, -2.37373737, -2.27272727, -2.17171717, -2.07070707,\n",
              "       -1.96969697, -1.86868687, -1.76767677, -1.66666667, -1.56565657,\n",
              "       -1.46464646, -1.36363636, -1.26262626, -1.16161616, -1.06060606,\n",
              "       -0.95959596, -0.85858586, -0.75757576, -0.65656566, -0.55555556,\n",
              "       -0.45454545, -0.35353535, -0.25252525, -0.15151515, -0.05050505,\n",
              "        0.05050505,  0.15151515,  0.25252525,  0.35353535,  0.45454545,\n",
              "        0.55555556,  0.65656566,  0.75757576,  0.85858586,  0.95959596,\n",
              "        1.06060606,  1.16161616,  1.26262626,  1.36363636,  1.46464646,\n",
              "        1.56565657,  1.66666667,  1.76767677,  1.86868687,  1.96969697,\n",
              "        2.07070707,  2.17171717,  2.27272727,  2.37373737,  2.47474747,\n",
              "        2.57575758,  2.67676768,  2.77777778,  2.87878788,  2.97979798,\n",
              "        3.08080808,  3.18181818,  3.28282828,  3.38383838,  3.48484848,\n",
              "        3.58585859,  3.68686869,  3.78787879,  3.88888889,  3.98989899,\n",
              "        4.09090909,  4.19191919,  4.29292929,  4.39393939,  4.49494949,\n",
              "        4.5959596 ,  4.6969697 ,  4.7979798 ,  4.8989899 ,  5.        ])"
            ]
          },
          "execution_count": 2,
          "metadata": {},
          "output_type": "execute_result"
        }
      ],
      "source": [
        "x = np.linspace(start = -5, stop=5, num=100)\n",
        "x"
      ]
    },
    {
      "cell_type": "code",
      "execution_count": 3,
      "metadata": {
        "colab": {
          "base_uri": "https://localhost:8080/"
        },
        "id": "R7YtSLo13wn6",
        "outputId": "3c99ced7-13a8-4d4c-d2cf-5e8dd3caf823"
      },
      "outputs": [
        {
          "data": {
            "text/plain": [
              "array([8.66025404, 8.71779204, 8.77378994, 8.82827705, 8.88128118,\n",
              "       8.93282873, 8.98294476, 9.03165312, 9.07897646, 9.12493632,\n",
              "       9.16955321, 9.21284664, 9.25483518, 9.29553652, 9.3349675 ,\n",
              "       9.37314414, 9.41008171, 9.44579475, 9.4802971 , 9.51360192,\n",
              "       9.54572176, 9.57666854, 9.60645359, 9.63508769, 9.66258107,\n",
              "       9.68894344, 9.714184  , 9.73831149, 9.76133416, 9.7832598 ,\n",
              "       9.80409577, 9.82384901, 9.84252604, 9.86013297, 9.87667553,\n",
              "       9.89215905, 9.90658851, 9.91996849, 9.93230325, 9.94359667,\n",
              "       9.9538523 , 9.96307334, 9.97126266, 9.9784228 , 9.98455598,\n",
              "       9.98966408, 9.99374868, 9.99681104, 9.99885209, 9.99987246,\n",
              "       9.99987246, 9.99885209, 9.99681104, 9.99374868, 9.98966408,\n",
              "       9.98455598, 9.9784228 , 9.97126266, 9.96307334, 9.9538523 ,\n",
              "       9.94359667, 9.93230325, 9.91996849, 9.90658851, 9.89215905,\n",
              "       9.87667553, 9.86013297, 9.84252604, 9.82384901, 9.80409577,\n",
              "       9.7832598 , 9.76133416, 9.73831149, 9.714184  , 9.68894344,\n",
              "       9.66258107, 9.63508769, 9.60645359, 9.57666854, 9.54572176,\n",
              "       9.51360192, 9.4802971 , 9.44579475, 9.41008171, 9.37314414,\n",
              "       9.3349675 , 9.29553652, 9.25483518, 9.21284664, 9.16955321,\n",
              "       9.12493632, 9.07897646, 9.03165312, 8.98294476, 8.93282873,\n",
              "       8.88128118, 8.82827705, 8.77378994, 8.71779204, 8.66025404])"
            ]
          },
          "execution_count": 3,
          "metadata": {},
          "output_type": "execute_result"
        }
      ],
      "source": [
        "y = np.sqrt(10**2 - x**2)\n",
        "y"
      ]
    },
    {
      "cell_type": "code",
      "execution_count": 4,
      "metadata": {
        "id": "8IhvBXYb34k0"
      },
      "outputs": [],
      "source": [
        "y=np.hstack([x,-y])\n",
        "x=np.hstack([x,-x])"
      ]
    },
    {
      "cell_type": "code",
      "execution_count": 5,
      "metadata": {
        "colab": {
          "base_uri": "https://localhost:8080/"
        },
        "id": "mIWCjRcF4GEa",
        "outputId": "b137193b-47a0-4c55-dd5a-8ccdca3dcf23"
      },
      "outputs": [
        {
          "data": {
            "text/plain": [
              "array([-5.        , -4.8989899 , -4.7979798 , -4.6969697 , -4.5959596 ,\n",
              "       -4.49494949, -4.39393939, -4.29292929, -4.19191919, -4.09090909,\n",
              "       -3.98989899, -3.88888889, -3.78787879, -3.68686869, -3.58585859,\n",
              "       -3.48484848, -3.38383838, -3.28282828, -3.18181818, -3.08080808,\n",
              "       -2.97979798, -2.87878788, -2.77777778, -2.67676768, -2.57575758,\n",
              "       -2.47474747, -2.37373737, -2.27272727, -2.17171717, -2.07070707,\n",
              "       -1.96969697, -1.86868687, -1.76767677, -1.66666667, -1.56565657,\n",
              "       -1.46464646, -1.36363636, -1.26262626, -1.16161616, -1.06060606,\n",
              "       -0.95959596, -0.85858586, -0.75757576, -0.65656566, -0.55555556,\n",
              "       -0.45454545, -0.35353535, -0.25252525, -0.15151515, -0.05050505,\n",
              "        0.05050505,  0.15151515,  0.25252525,  0.35353535,  0.45454545,\n",
              "        0.55555556,  0.65656566,  0.75757576,  0.85858586,  0.95959596,\n",
              "        1.06060606,  1.16161616,  1.26262626,  1.36363636,  1.46464646,\n",
              "        1.56565657,  1.66666667,  1.76767677,  1.86868687,  1.96969697,\n",
              "        2.07070707,  2.17171717,  2.27272727,  2.37373737,  2.47474747,\n",
              "        2.57575758,  2.67676768,  2.77777778,  2.87878788,  2.97979798,\n",
              "        3.08080808,  3.18181818,  3.28282828,  3.38383838,  3.48484848,\n",
              "        3.58585859,  3.68686869,  3.78787879,  3.88888889,  3.98989899,\n",
              "        4.09090909,  4.19191919,  4.29292929,  4.39393939,  4.49494949,\n",
              "        4.5959596 ,  4.6969697 ,  4.7979798 ,  4.8989899 ,  5.        ,\n",
              "        5.        ,  4.8989899 ,  4.7979798 ,  4.6969697 ,  4.5959596 ,\n",
              "        4.49494949,  4.39393939,  4.29292929,  4.19191919,  4.09090909,\n",
              "        3.98989899,  3.88888889,  3.78787879,  3.68686869,  3.58585859,\n",
              "        3.48484848,  3.38383838,  3.28282828,  3.18181818,  3.08080808,\n",
              "        2.97979798,  2.87878788,  2.77777778,  2.67676768,  2.57575758,\n",
              "        2.47474747,  2.37373737,  2.27272727,  2.17171717,  2.07070707,\n",
              "        1.96969697,  1.86868687,  1.76767677,  1.66666667,  1.56565657,\n",
              "        1.46464646,  1.36363636,  1.26262626,  1.16161616,  1.06060606,\n",
              "        0.95959596,  0.85858586,  0.75757576,  0.65656566,  0.55555556,\n",
              "        0.45454545,  0.35353535,  0.25252525,  0.15151515,  0.05050505,\n",
              "       -0.05050505, -0.15151515, -0.25252525, -0.35353535, -0.45454545,\n",
              "       -0.55555556, -0.65656566, -0.75757576, -0.85858586, -0.95959596,\n",
              "       -1.06060606, -1.16161616, -1.26262626, -1.36363636, -1.46464646,\n",
              "       -1.56565657, -1.66666667, -1.76767677, -1.86868687, -1.96969697,\n",
              "       -2.07070707, -2.17171717, -2.27272727, -2.37373737, -2.47474747,\n",
              "       -2.57575758, -2.67676768, -2.77777778, -2.87878788, -2.97979798,\n",
              "       -3.08080808, -3.18181818, -3.28282828, -3.38383838, -3.48484848,\n",
              "       -3.58585859, -3.68686869, -3.78787879, -3.88888889, -3.98989899,\n",
              "       -4.09090909, -4.19191919, -4.29292929, -4.39393939, -4.49494949,\n",
              "       -4.5959596 , -4.6969697 , -4.7979798 , -4.8989899 , -5.        ])"
            ]
          },
          "execution_count": 5,
          "metadata": {},
          "output_type": "execute_result"
        }
      ],
      "source": [
        "x"
      ]
    },
    {
      "cell_type": "markdown",
      "metadata": {
        "id": "ZNexIpFr4Hib"
      },
      "source": [
        "## Prepare x1 and y1"
      ]
    },
    {
      "cell_type": "code",
      "execution_count": 6,
      "metadata": {
        "id": "W_KU2X-tgsYj"
      },
      "outputs": [],
      "source": [
        "x1 = np.linspace(start=-5.0, stop=5.0, num=100)\n",
        "y1 = np.sqrt(5**2 - x1**2)\n",
        "y1 = np.hstack([y1, -y1])\n",
        "x1 = np.hstack([x1, -x1])"
      ]
    },
    {
      "cell_type": "code",
      "execution_count": 7,
      "metadata": {
        "colab": {
          "base_uri": "https://localhost:8080/"
        },
        "id": "u8RLHL6phs0K",
        "outputId": "73f1b8fc-3165-4df1-be65-be531f7836be"
      },
      "outputs": [
        {
          "data": {
            "text/plain": [
              "array([-5.        , -4.8989899 , -4.7979798 , -4.6969697 , -4.5959596 ,\n",
              "       -4.49494949, -4.39393939, -4.29292929, -4.19191919, -4.09090909,\n",
              "       -3.98989899, -3.88888889, -3.78787879, -3.68686869, -3.58585859,\n",
              "       -3.48484848, -3.38383838, -3.28282828, -3.18181818, -3.08080808,\n",
              "       -2.97979798, -2.87878788, -2.77777778, -2.67676768, -2.57575758,\n",
              "       -2.47474747, -2.37373737, -2.27272727, -2.17171717, -2.07070707,\n",
              "       -1.96969697, -1.86868687, -1.76767677, -1.66666667, -1.56565657,\n",
              "       -1.46464646, -1.36363636, -1.26262626, -1.16161616, -1.06060606,\n",
              "       -0.95959596, -0.85858586, -0.75757576, -0.65656566, -0.55555556,\n",
              "       -0.45454545, -0.35353535, -0.25252525, -0.15151515, -0.05050505,\n",
              "        0.05050505,  0.15151515,  0.25252525,  0.35353535,  0.45454545,\n",
              "        0.55555556,  0.65656566,  0.75757576,  0.85858586,  0.95959596,\n",
              "        1.06060606,  1.16161616,  1.26262626,  1.36363636,  1.46464646,\n",
              "        1.56565657,  1.66666667,  1.76767677,  1.86868687,  1.96969697,\n",
              "        2.07070707,  2.17171717,  2.27272727,  2.37373737,  2.47474747,\n",
              "        2.57575758,  2.67676768,  2.77777778,  2.87878788,  2.97979798,\n",
              "        3.08080808,  3.18181818,  3.28282828,  3.38383838,  3.48484848,\n",
              "        3.58585859,  3.68686869,  3.78787879,  3.88888889,  3.98989899,\n",
              "        4.09090909,  4.19191919,  4.29292929,  4.39393939,  4.49494949,\n",
              "        4.5959596 ,  4.6969697 ,  4.7979798 ,  4.8989899 ,  5.        ,\n",
              "        5.        ,  4.8989899 ,  4.7979798 ,  4.6969697 ,  4.5959596 ,\n",
              "        4.49494949,  4.39393939,  4.29292929,  4.19191919,  4.09090909,\n",
              "        3.98989899,  3.88888889,  3.78787879,  3.68686869,  3.58585859,\n",
              "        3.48484848,  3.38383838,  3.28282828,  3.18181818,  3.08080808,\n",
              "        2.97979798,  2.87878788,  2.77777778,  2.67676768,  2.57575758,\n",
              "        2.47474747,  2.37373737,  2.27272727,  2.17171717,  2.07070707,\n",
              "        1.96969697,  1.86868687,  1.76767677,  1.66666667,  1.56565657,\n",
              "        1.46464646,  1.36363636,  1.26262626,  1.16161616,  1.06060606,\n",
              "        0.95959596,  0.85858586,  0.75757576,  0.65656566,  0.55555556,\n",
              "        0.45454545,  0.35353535,  0.25252525,  0.15151515,  0.05050505,\n",
              "       -0.05050505, -0.15151515, -0.25252525, -0.35353535, -0.45454545,\n",
              "       -0.55555556, -0.65656566, -0.75757576, -0.85858586, -0.95959596,\n",
              "       -1.06060606, -1.16161616, -1.26262626, -1.36363636, -1.46464646,\n",
              "       -1.56565657, -1.66666667, -1.76767677, -1.86868687, -1.96969697,\n",
              "       -2.07070707, -2.17171717, -2.27272727, -2.37373737, -2.47474747,\n",
              "       -2.57575758, -2.67676768, -2.77777778, -2.87878788, -2.97979798,\n",
              "       -3.08080808, -3.18181818, -3.28282828, -3.38383838, -3.48484848,\n",
              "       -3.58585859, -3.68686869, -3.78787879, -3.88888889, -3.98989899,\n",
              "       -4.09090909, -4.19191919, -4.29292929, -4.39393939, -4.49494949,\n",
              "       -4.5959596 , -4.6969697 , -4.7979798 , -4.8989899 , -5.        ])"
            ]
          },
          "execution_count": 7,
          "metadata": {},
          "output_type": "execute_result"
        }
      ],
      "source": [
        "x1"
      ]
    },
    {
      "cell_type": "code",
      "execution_count": 8,
      "metadata": {
        "colab": {
          "base_uri": "https://localhost:8080/"
        },
        "id": "3p3vu5OzhzdG",
        "outputId": "9af39000-9614-4677-b160-eab8a42ee88b"
      },
      "outputs": [
        {
          "data": {
            "text/plain": [
              "array([ 0.        ,  0.99994898,  1.40690791,  1.71419826,  1.96904936,\n",
              "        2.18984681,  2.38606299,  2.563349  ,  2.72540153,  2.87479787,\n",
              "        3.01342099,  3.14269681,  3.26373625,  3.37742495,  3.48448249,\n",
              "        3.5855029 ,  3.68098326,  3.77134438,  3.85694608,  3.93809873,\n",
              "        4.0150721 ,  4.08810229,  4.1573971 ,  4.2231404 ,  4.28549564,\n",
              "        4.34460872,  4.40061029,  4.45361771,  4.50373673,  4.55106276,\n",
              "        4.59568209,  4.63767284,  4.67710582,  4.71404521,  4.7485492 ,\n",
              "        4.78067053,  4.81045693,  4.83795152,  4.86319318,  4.88621682,\n",
              "        4.90705366,  4.92573145,  4.94227468,  4.95670471,  4.96903995,\n",
              "        4.97929598,  4.98748561,  4.99361903,  4.99770379,  4.99974492,\n",
              "        4.99974492,  4.99770379,  4.99361903,  4.98748561,  4.97929598,\n",
              "        4.96903995,  4.95670471,  4.94227468,  4.92573145,  4.90705366,\n",
              "        4.88621682,  4.86319318,  4.83795152,  4.81045693,  4.78067053,\n",
              "        4.7485492 ,  4.71404521,  4.67710582,  4.63767284,  4.59568209,\n",
              "        4.55106276,  4.50373673,  4.45361771,  4.40061029,  4.34460872,\n",
              "        4.28549564,  4.2231404 ,  4.1573971 ,  4.08810229,  4.0150721 ,\n",
              "        3.93809873,  3.85694608,  3.77134438,  3.68098326,  3.5855029 ,\n",
              "        3.48448249,  3.37742495,  3.26373625,  3.14269681,  3.01342099,\n",
              "        2.87479787,  2.72540153,  2.563349  ,  2.38606299,  2.18984681,\n",
              "        1.96904936,  1.71419826,  1.40690791,  0.99994898,  0.        ,\n",
              "       -0.        , -0.99994898, -1.40690791, -1.71419826, -1.96904936,\n",
              "       -2.18984681, -2.38606299, -2.563349  , -2.72540153, -2.87479787,\n",
              "       -3.01342099, -3.14269681, -3.26373625, -3.37742495, -3.48448249,\n",
              "       -3.5855029 , -3.68098326, -3.77134438, -3.85694608, -3.93809873,\n",
              "       -4.0150721 , -4.08810229, -4.1573971 , -4.2231404 , -4.28549564,\n",
              "       -4.34460872, -4.40061029, -4.45361771, -4.50373673, -4.55106276,\n",
              "       -4.59568209, -4.63767284, -4.67710582, -4.71404521, -4.7485492 ,\n",
              "       -4.78067053, -4.81045693, -4.83795152, -4.86319318, -4.88621682,\n",
              "       -4.90705366, -4.92573145, -4.94227468, -4.95670471, -4.96903995,\n",
              "       -4.97929598, -4.98748561, -4.99361903, -4.99770379, -4.99974492,\n",
              "       -4.99974492, -4.99770379, -4.99361903, -4.98748561, -4.97929598,\n",
              "       -4.96903995, -4.95670471, -4.94227468, -4.92573145, -4.90705366,\n",
              "       -4.88621682, -4.86319318, -4.83795152, -4.81045693, -4.78067053,\n",
              "       -4.7485492 , -4.71404521, -4.67710582, -4.63767284, -4.59568209,\n",
              "       -4.55106276, -4.50373673, -4.45361771, -4.40061029, -4.34460872,\n",
              "       -4.28549564, -4.2231404 , -4.1573971 , -4.08810229, -4.0150721 ,\n",
              "       -3.93809873, -3.85694608, -3.77134438, -3.68098326, -3.5855029 ,\n",
              "       -3.48448249, -3.37742495, -3.26373625, -3.14269681, -3.01342099,\n",
              "       -2.87479787, -2.72540153, -2.563349  , -2.38606299, -2.18984681,\n",
              "       -1.96904936, -1.71419826, -1.40690791, -0.99994898, -0.        ])"
            ]
          },
          "execution_count": 8,
          "metadata": {},
          "output_type": "execute_result"
        }
      ],
      "source": [
        "y1"
      ]
    },
    {
      "cell_type": "markdown",
      "metadata": {
        "id": "4k9InbIZh1tk"
      },
      "source": [
        "## plot the data"
      ]
    },
    {
      "cell_type": "code",
      "execution_count": 9,
      "metadata": {
        "colab": {
          "base_uri": "https://localhost:8080/",
          "height": 282
        },
        "id": "rPXqygC6iWBN",
        "outputId": "e2d6d28e-7edd-4ae2-db18-08ce36ae9844"
      },
      "outputs": [
        {
          "data": {
            "text/plain": [
              "<matplotlib.collections.PathCollection at 0x7f43d0f82850>"
            ]
          },
          "execution_count": 9,
          "metadata": {},
          "output_type": "execute_result"
        },
        {
          "data": {
            "image/png": "[encoded data removed]",
            "text/plain": [
              "<Figure size 432x288 with 1 Axes>"
            ]
          },
          "metadata": {
            "needs_background": "light"
          },
          "output_type": "display_data"
        }
      ],
      "source": [
        "plt.scatter(y,x)\n",
        "plt.scatter(y1,x1)"
      ]
    },
    {
      "cell_type": "markdown",
      "metadata": {
        "id": "5JaeJOBwijJq"
      },
      "source": [
        "### create dataframes"
      ]
    },
    {
      "cell_type": "code",
      "execution_count": 10,
      "metadata": {
        "colab": {
          "base_uri": "https://localhost:8080/",
          "height": 206
        },
        "id": "8P1B_bPej5nE",
        "outputId": "ae6fa23c-5c2d-48e0-962b-063b70692cf4"
      },
      "outputs": [
        {
          "data": {
            "text/html": [
              "<div>\n",
              "<style scoped>\n",
              "    .dataframe tbody tr th:only-of-type {\n",
              "        vertical-align: middle;\n",
              "    }\n",
              "\n",
              "    .dataframe tbody tr th {\n",
              "        vertical-align: top;\n",
              "    }\n",
              "\n",
              "    .dataframe thead th {\n",
              "        text-align: right;\n",
              "    }\n",
              "</style>\n",
              "<table border=\"1\" class=\"dataframe\">\n",
              "  <thead>\n",
              "    <tr style=\"text-align: right;\">\n",
              "      <th></th>\n",
              "      <th>X1</th>\n",
              "      <th>X2</th>\n",
              "      <th>Y</th>\n",
              "    </tr>\n",
              "  </thead>\n",
              "  <tbody>\n",
              "    <tr>\n",
              "      <th>0</th>\n",
              "      <td>-5.00000</td>\n",
              "      <td>-5.00000</td>\n",
              "      <td>0</td>\n",
              "    </tr>\n",
              "    <tr>\n",
              "      <th>1</th>\n",
              "      <td>-4.89899</td>\n",
              "      <td>-4.89899</td>\n",
              "      <td>0</td>\n",
              "    </tr>\n",
              "    <tr>\n",
              "      <th>2</th>\n",
              "      <td>-4.79798</td>\n",
              "      <td>-4.79798</td>\n",
              "      <td>0</td>\n",
              "    </tr>\n",
              "    <tr>\n",
              "      <th>3</th>\n",
              "      <td>-4.69697</td>\n",
              "      <td>-4.69697</td>\n",
              "      <td>0</td>\n",
              "    </tr>\n",
              "    <tr>\n",
              "      <th>4</th>\n",
              "      <td>-4.59596</td>\n",
              "      <td>-4.59596</td>\n",
              "      <td>0</td>\n",
              "    </tr>\n",
              "  </tbody>\n",
              "</table>\n",
              "</div>"
            ],
            "text/plain": [
              "        X1       X2  Y\n",
              "0 -5.00000 -5.00000  0\n",
              "1 -4.89899 -4.89899  0\n",
              "2 -4.79798 -4.79798  0\n",
              "3 -4.69697 -4.69697  0\n",
              "4 -4.59596 -4.59596  0"
            ]
          },
          "execution_count": 10,
          "metadata": {},
          "output_type": "execute_result"
        }
      ],
      "source": [
        "import pandas as pd\n",
        "\n",
        "# create a dataframe 1 with transpose of stacked arrays\n",
        "DF1 = pd.DataFrame(np.vstack([y, x]).T, columns=['X1', 'X2'])\n",
        "\n",
        "# add new column Y with all values as 0.\n",
        "DF1['Y']=0\n",
        "\n",
        "# create dataframe 2 with transpose of stacked arrays\n",
        "DF2 = pd.DataFrame(np.vstack([y1, x1]).T, columns=['X1', 'X2'])\n",
        "\n",
        "# add new column Y with vaslues as 1.\n",
        "DF2['Y']=1\n",
        "\n",
        "# append both dataframes into one.\n",
        "df = DF1.append(DF2)\n",
        "\n",
        "# print head\n",
        "df.head()"
      ]
    },
    {
      "cell_type": "markdown",
      "metadata": {
        "id": "-0bfXjADmkmW"
      },
      "source": [
        "## create dependent and independent features"
      ]
    },
    {
      "cell_type": "code",
      "execution_count": 11,
      "metadata": {
        "colab": {
          "base_uri": "https://localhost:8080/",
          "height": 424
        },
        "id": "ynFzl32zm4Jh",
        "outputId": "0adc8f7f-2f60-4226-d348-ec49b26352d7"
      },
      "outputs": [
        {
          "data": {
            "text/html": [
              "<div>\n",
              "<style scoped>\n",
              "    .dataframe tbody tr th:only-of-type {\n",
              "        vertical-align: middle;\n",
              "    }\n",
              "\n",
              "    .dataframe tbody tr th {\n",
              "        vertical-align: top;\n",
              "    }\n",
              "\n",
              "    .dataframe thead th {\n",
              "        text-align: right;\n",
              "    }\n",
              "</style>\n",
              "<table border=\"1\" class=\"dataframe\">\n",
              "  <thead>\n",
              "    <tr style=\"text-align: right;\">\n",
              "      <th></th>\n",
              "      <th>X1</th>\n",
              "      <th>X2</th>\n",
              "    </tr>\n",
              "  </thead>\n",
              "  <tbody>\n",
              "    <tr>\n",
              "      <th>0</th>\n",
              "      <td>-5.000000</td>\n",
              "      <td>-5.00000</td>\n",
              "    </tr>\n",
              "    <tr>\n",
              "      <th>1</th>\n",
              "      <td>-4.898990</td>\n",
              "      <td>-4.89899</td>\n",
              "    </tr>\n",
              "    <tr>\n",
              "      <th>2</th>\n",
              "      <td>-4.797980</td>\n",
              "      <td>-4.79798</td>\n",
              "    </tr>\n",
              "    <tr>\n",
              "      <th>3</th>\n",
              "      <td>-4.696970</td>\n",
              "      <td>-4.69697</td>\n",
              "    </tr>\n",
              "    <tr>\n",
              "      <th>4</th>\n",
              "      <td>-4.595960</td>\n",
              "      <td>-4.59596</td>\n",
              "    </tr>\n",
              "    <tr>\n",
              "      <th>...</th>\n",
              "      <td>...</td>\n",
              "      <td>...</td>\n",
              "    </tr>\n",
              "    <tr>\n",
              "      <th>195</th>\n",
              "      <td>-1.969049</td>\n",
              "      <td>-4.59596</td>\n",
              "    </tr>\n",
              "    <tr>\n",
              "      <th>196</th>\n",
              "      <td>-1.714198</td>\n",
              "      <td>-4.69697</td>\n",
              "    </tr>\n",
              "    <tr>\n",
              "      <th>197</th>\n",
              "      <td>-1.406908</td>\n",
              "      <td>-4.79798</td>\n",
              "    </tr>\n",
              "    <tr>\n",
              "      <th>198</th>\n",
              "      <td>-0.999949</td>\n",
              "      <td>-4.89899</td>\n",
              "    </tr>\n",
              "    <tr>\n",
              "      <th>199</th>\n",
              "      <td>-0.000000</td>\n",
              "      <td>-5.00000</td>\n",
              "    </tr>\n",
              "  </tbody>\n",
              "</table>\n",
              "<p>400 rows × 2 columns</p>\n",
              "</div>"
            ],
            "text/plain": [
              "           X1       X2\n",
              "0   -5.000000 -5.00000\n",
              "1   -4.898990 -4.89899\n",
              "2   -4.797980 -4.79798\n",
              "3   -4.696970 -4.69697\n",
              "4   -4.595960 -4.59596\n",
              "..        ...      ...\n",
              "195 -1.969049 -4.59596\n",
              "196 -1.714198 -4.69697\n",
              "197 -1.406908 -4.79798\n",
              "198 -0.999949 -4.89899\n",
              "199 -0.000000 -5.00000\n",
              "\n",
              "[400 rows x 2 columns]"
            ]
          },
          "execution_count": 11,
          "metadata": {},
          "output_type": "execute_result"
        }
      ],
      "source": [
        "# independent features\n",
        "X = df.iloc[:, :-1]\n",
        "X"
      ]
    },
    {
      "cell_type": "code",
      "execution_count": 12,
      "metadata": {
        "id": "VIMl4vZFp0Y5"
      },
      "outputs": [],
      "source": [
        "# dependent feature\n",
        "y = df.iloc[:, 2]"
      ]
    },
    {
      "cell_type": "code",
      "execution_count": 13,
      "metadata": {
        "colab": {
          "base_uri": "https://localhost:8080/"
        },
        "id": "TRgNtxKBp9Fs",
        "outputId": "5a2bc460-5de7-4a54-b337-a925eda2c930"
      },
      "outputs": [
        {
          "data": {
            "text/plain": [
              "0      0\n",
              "1      0\n",
              "2      0\n",
              "3      0\n",
              "4      0\n",
              "      ..\n",
              "195    1\n",
              "196    1\n",
              "197    1\n",
              "198    1\n",
              "199    1\n",
              "Name: Y, Length: 400, dtype: int64"
            ]
          },
          "execution_count": 13,
          "metadata": {},
          "output_type": "execute_result"
        }
      ],
      "source": [
        "y"
      ]
    },
    {
      "cell_type": "code",
      "execution_count": 14,
      "metadata": {
        "colab": {
          "base_uri": "https://localhost:8080/"
        },
        "id": "V_hXjC6w3wU5",
        "outputId": "6d59eb70-67a0-402a-fa49-c4599fa7ea07"
      },
      "outputs": [
        {
          "data": {
            "text/plain": [
              "(400, 2)"
            ]
          },
          "execution_count": 14,
          "metadata": {},
          "output_type": "execute_result"
        }
      ],
      "source": [
        "X.shape"
      ]
    },
    {
      "cell_type": "markdown",
      "metadata": {
        "id": "KiLIazkIqCJe"
      },
      "source": [
        "## Split dataset into train & test data\n",
        "\n",
        "we do the train test split with 25% of test data."
      ]
    },
    {
      "cell_type": "code",
      "execution_count": 15,
      "metadata": {
        "id": "HMA7xxk4qK5l"
      },
      "outputs": [],
      "source": [
        "from sklearn.model_selection import train_test_split\n",
        "X_train,X_test,y_train,y_test=train_test_split(X,y,test_size=0.25,random_state=0)"
      ]
    },
    {
      "cell_type": "code",
      "execution_count": 16,
      "metadata": {
        "colab": {
          "base_uri": "https://localhost:8080/",
          "height": 206
        },
        "id": "mKjhzAuyq1WF",
        "outputId": "030fd8c6-7e60-4602-f22f-f5d4a9bf544f"
      },
      "outputs": [
        {
          "data": {
            "text/html": [
              "<div>\n",
              "<style scoped>\n",
              "    .dataframe tbody tr th:only-of-type {\n",
              "        vertical-align: middle;\n",
              "    }\n",
              "\n",
              "    .dataframe tbody tr th {\n",
              "        vertical-align: top;\n",
              "    }\n",
              "\n",
              "    .dataframe thead th {\n",
              "        text-align: right;\n",
              "    }\n",
              "</style>\n",
              "<table border=\"1\" class=\"dataframe\">\n",
              "  <thead>\n",
              "    <tr style=\"text-align: right;\">\n",
              "      <th></th>\n",
              "      <th>X1</th>\n",
              "      <th>X2</th>\n",
              "    </tr>\n",
              "  </thead>\n",
              "  <tbody>\n",
              "    <tr>\n",
              "      <th>50</th>\n",
              "      <td>4.999745</td>\n",
              "      <td>0.050505</td>\n",
              "    </tr>\n",
              "    <tr>\n",
              "      <th>63</th>\n",
              "      <td>1.363636</td>\n",
              "      <td>1.363636</td>\n",
              "    </tr>\n",
              "    <tr>\n",
              "      <th>112</th>\n",
              "      <td>-3.263736</td>\n",
              "      <td>3.787879</td>\n",
              "    </tr>\n",
              "    <tr>\n",
              "      <th>159</th>\n",
              "      <td>-9.953852</td>\n",
              "      <td>-0.959596</td>\n",
              "    </tr>\n",
              "    <tr>\n",
              "      <th>83</th>\n",
              "      <td>3.680983</td>\n",
              "      <td>3.383838</td>\n",
              "    </tr>\n",
              "  </tbody>\n",
              "</table>\n",
              "</div>"
            ],
            "text/plain": [
              "           X1        X2\n",
              "50   4.999745  0.050505\n",
              "63   1.363636  1.363636\n",
              "112 -3.263736  3.787879\n",
              "159 -9.953852 -0.959596\n",
              "83   3.680983  3.383838"
            ]
          },
          "execution_count": 16,
          "metadata": {},
          "output_type": "execute_result"
        }
      ],
      "source": [
        "X_train.head()"
      ]
    },
    {
      "cell_type": "code",
      "execution_count": 17,
      "metadata": {
        "colab": {
          "base_uri": "https://localhost:8080/",
          "height": 206
        },
        "id": "Va2DH4tWq2io",
        "outputId": "df5888db-a2cb-4270-f545-273fda686cfe"
      },
      "outputs": [
        {
          "data": {
            "text/html": [
              "<div>\n",
              "<style scoped>\n",
              "    .dataframe tbody tr th:only-of-type {\n",
              "        vertical-align: middle;\n",
              "    }\n",
              "\n",
              "    .dataframe tbody tr th {\n",
              "        vertical-align: top;\n",
              "    }\n",
              "\n",
              "    .dataframe thead th {\n",
              "        text-align: right;\n",
              "    }\n",
              "</style>\n",
              "<table border=\"1\" class=\"dataframe\">\n",
              "  <thead>\n",
              "    <tr style=\"text-align: right;\">\n",
              "      <th></th>\n",
              "      <th>X1</th>\n",
              "      <th>X2</th>\n",
              "    </tr>\n",
              "  </thead>\n",
              "  <tbody>\n",
              "    <tr>\n",
              "      <th>132</th>\n",
              "      <td>-9.842526</td>\n",
              "      <td>1.767677</td>\n",
              "    </tr>\n",
              "    <tr>\n",
              "      <th>109</th>\n",
              "      <td>-2.874798</td>\n",
              "      <td>4.090909</td>\n",
              "    </tr>\n",
              "    <tr>\n",
              "      <th>141</th>\n",
              "      <td>-4.925731</td>\n",
              "      <td>0.858586</td>\n",
              "    </tr>\n",
              "    <tr>\n",
              "      <th>196</th>\n",
              "      <td>-8.828277</td>\n",
              "      <td>-4.696970</td>\n",
              "    </tr>\n",
              "    <tr>\n",
              "      <th>46</th>\n",
              "      <td>4.987486</td>\n",
              "      <td>-0.353535</td>\n",
              "    </tr>\n",
              "  </tbody>\n",
              "</table>\n",
              "</div>"
            ],
            "text/plain": [
              "           X1        X2\n",
              "132 -9.842526  1.767677\n",
              "109 -2.874798  4.090909\n",
              "141 -4.925731  0.858586\n",
              "196 -8.828277 -4.696970\n",
              "46   4.987486 -0.353535"
            ]
          },
          "execution_count": 17,
          "metadata": {},
          "output_type": "execute_result"
        }
      ],
      "source": [
        "X_test.head()"
      ]
    },
    {
      "cell_type": "code",
      "execution_count": 18,
      "metadata": {
        "colab": {
          "base_uri": "https://localhost:8080/"
        },
        "id": "JXftD-heq4VY",
        "outputId": "09d090b1-87ee-4806-8c56-6fb450082caa"
      },
      "outputs": [
        {
          "data": {
            "text/plain": [
              "50     1\n",
              "63     0\n",
              "112    1\n",
              "159    0\n",
              "83     1\n",
              "Name: Y, dtype: int64"
            ]
          },
          "execution_count": 18,
          "metadata": {},
          "output_type": "execute_result"
        }
      ],
      "source": [
        "y_train.head()"
      ]
    },
    {
      "cell_type": "code",
      "execution_count": 19,
      "metadata": {
        "colab": {
          "base_uri": "https://localhost:8080/"
        },
        "id": "jLxhsGwVq5XA",
        "outputId": "c22a061b-653b-4a6d-cdb5-8712db27a050"
      },
      "outputs": [
        {
          "data": {
            "text/plain": [
              "132    0\n",
              "109    1\n",
              "141    1\n",
              "196    0\n",
              "46     1\n",
              "Name: Y, dtype: int64"
            ]
          },
          "execution_count": 19,
          "metadata": {},
          "output_type": "execute_result"
        }
      ],
      "source": [
        "y_test.head()"
      ]
    },
    {
      "cell_type": "markdown",
      "metadata": {
        "id": "D34M-ATL1e9O"
      },
      "source": [
        "### Import SVC classifier"
      ]
    },
    {
      "cell_type": "code",
      "execution_count": 20,
      "metadata": {
        "id": "_E7Tf7AWq6OY"
      },
      "outputs": [],
      "source": [
        "from sklearn.svm import SVC"
      ]
    },
    {
      "cell_type": "markdown",
      "metadata": {
        "id": "dfEEzvEL133N"
      },
      "source": [
        "## set svm kernel as linear"
      ]
    },
    {
      "cell_type": "code",
      "execution_count": 21,
      "metadata": {
        "colab": {
          "base_uri": "https://localhost:8080/"
        },
        "id": "pgFRg-BN1cse",
        "outputId": "af54fb79-3f5c-4be4-b26c-c0c7d748735a"
      },
      "outputs": [
        {
          "data": {
            "text/plain": [
              "SVC()"
            ]
          },
          "execution_count": 21,
          "metadata": {},
          "output_type": "execute_result"
        }
      ],
      "source": [
        "classifier = SVC(kernel='rbf')\n",
        "classifier"
      ]
    },
    {
      "cell_type": "markdown",
      "metadata": {
        "id": "m9NmI7K119WL"
      },
      "source": [
        "### fit train and test data to the classifier"
      ]
    },
    {
      "cell_type": "code",
      "execution_count": 22,
      "metadata": {
        "colab": {
          "base_uri": "https://localhost:8080/"
        },
        "id": "Zl_rL3uC6SK3",
        "outputId": "50d97735-0680-44b2-9964-0fd327d106ec"
      },
      "outputs": [
        {
          "data": {
            "text/plain": [
              "SVC()"
            ]
          },
          "execution_count": 22,
          "metadata": {},
          "output_type": "execute_result"
        }
      ],
      "source": [
        "classifier.fit(X_train, y_train)"
      ]
    },
    {
      "cell_type": "markdown",
      "metadata": {
        "id": "TWg5_SCn2JZE"
      },
      "source": [
        "### find the accuracy of SVC classifier"
      ]
    },
    {
      "cell_type": "code",
      "execution_count": 23,
      "metadata": {
        "colab": {
          "base_uri": "https://localhost:8080/"
        },
        "id": "ra5VNdBR2iJR",
        "outputId": "85ebfe09-f594-4493-e0bf-00b770a197c4"
      },
      "outputs": [
        {
          "data": {
            "text/plain": [
              "0.85"
            ]
          },
          "execution_count": 23,
          "metadata": {},
          "output_type": "execute_result"
        }
      ],
      "source": [
        "from sklearn.metrics import accuracy_score\n",
        "\n",
        "# call predict method pass test data\n",
        "y_prediction = classifier.predict(X_test)\n",
        "\n",
        "accuracy_score(y_test, y_prediction)"
      ]
    },
    {
      "cell_type": "markdown",
      "metadata": {
        "id": "YPNrIan82iuA"
      },
      "source": [
        "**Inference:** \n",
        "\n",
        "85% accuracy when setting rbf as svm kernel."
      ]
    },
    {
      "cell_type": "markdown",
      "metadata": {
        "id": "rGN8n17c62Yp"
      },
      "source": [
        "## set svm kernal as Polynomial.\n",
        "\n",
        "we need to find the components of polynomial kernel."
      ]
    },
    {
      "cell_type": "code",
      "execution_count": 24,
      "metadata": {
        "colab": {
          "base_uri": "https://localhost:8080/",
          "height": 206
        },
        "id": "pPOdKWO6ekX4",
        "outputId": "39c7a919-b1b8-449a-d1f0-9315fb22b530"
      },
      "outputs": [
        {
          "data": {
            "text/html": [
              "<div>\n",
              "<style scoped>\n",
              "    .dataframe tbody tr th:only-of-type {\n",
              "        vertical-align: middle;\n",
              "    }\n",
              "\n",
              "    .dataframe tbody tr th {\n",
              "        vertical-align: top;\n",
              "    }\n",
              "\n",
              "    .dataframe thead th {\n",
              "        text-align: right;\n",
              "    }\n",
              "</style>\n",
              "<table border=\"1\" class=\"dataframe\">\n",
              "  <thead>\n",
              "    <tr style=\"text-align: right;\">\n",
              "      <th></th>\n",
              "      <th>X1</th>\n",
              "      <th>X2</th>\n",
              "      <th>Y</th>\n",
              "    </tr>\n",
              "  </thead>\n",
              "  <tbody>\n",
              "    <tr>\n",
              "      <th>0</th>\n",
              "      <td>-5.00000</td>\n",
              "      <td>-5.00000</td>\n",
              "      <td>0</td>\n",
              "    </tr>\n",
              "    <tr>\n",
              "      <th>1</th>\n",
              "      <td>-4.89899</td>\n",
              "      <td>-4.89899</td>\n",
              "      <td>0</td>\n",
              "    </tr>\n",
              "    <tr>\n",
              "      <th>2</th>\n",
              "      <td>-4.79798</td>\n",
              "      <td>-4.79798</td>\n",
              "      <td>0</td>\n",
              "    </tr>\n",
              "    <tr>\n",
              "      <th>3</th>\n",
              "      <td>-4.69697</td>\n",
              "      <td>-4.69697</td>\n",
              "      <td>0</td>\n",
              "    </tr>\n",
              "    <tr>\n",
              "      <th>4</th>\n",
              "      <td>-4.59596</td>\n",
              "      <td>-4.59596</td>\n",
              "      <td>0</td>\n",
              "    </tr>\n",
              "  </tbody>\n",
              "</table>\n",
              "</div>"
            ],
            "text/plain": [
              "        X1       X2  Y\n",
              "0 -5.00000 -5.00000  0\n",
              "1 -4.89899 -4.89899  0\n",
              "2 -4.79798 -4.79798  0\n",
              "3 -4.69697 -4.69697  0\n",
              "4 -4.59596 -4.59596  0"
            ]
          },
          "execution_count": 24,
          "metadata": {},
          "output_type": "execute_result"
        }
      ],
      "source": [
        "df.head()"
      ]
    },
    {
      "cell_type": "markdown",
      "metadata": {
        "id": "htAz7sD_frUa"
      },
      "source": [
        "### find the square X1 values"
      ]
    },
    {
      "cell_type": "code",
      "execution_count": 25,
      "metadata": {
        "colab": {
          "base_uri": "https://localhost:8080/",
          "height": 206
        },
        "id": "78Kf4xoCfAOT",
        "outputId": "f52033b4-1e8d-4dfa-fcbe-82fab80de790"
      },
      "outputs": [
        {
          "data": {
            "text/html": [
              "<div>\n",
              "<style scoped>\n",
              "    .dataframe tbody tr th:only-of-type {\n",
              "        vertical-align: middle;\n",
              "    }\n",
              "\n",
              "    .dataframe tbody tr th {\n",
              "        vertical-align: top;\n",
              "    }\n",
              "\n",
              "    .dataframe thead th {\n",
              "        text-align: right;\n",
              "    }\n",
              "</style>\n",
              "<table border=\"1\" class=\"dataframe\">\n",
              "  <thead>\n",
              "    <tr style=\"text-align: right;\">\n",
              "      <th></th>\n",
              "      <th>X1</th>\n",
              "      <th>X2</th>\n",
              "      <th>Y</th>\n",
              "      <th>X1_SQUARE</th>\n",
              "    </tr>\n",
              "  </thead>\n",
              "  <tbody>\n",
              "    <tr>\n",
              "      <th>0</th>\n",
              "      <td>-5.00000</td>\n",
              "      <td>-5.00000</td>\n",
              "      <td>0</td>\n",
              "      <td>25.000000</td>\n",
              "    </tr>\n",
              "    <tr>\n",
              "      <th>1</th>\n",
              "      <td>-4.89899</td>\n",
              "      <td>-4.89899</td>\n",
              "      <td>0</td>\n",
              "      <td>24.000102</td>\n",
              "    </tr>\n",
              "    <tr>\n",
              "      <th>2</th>\n",
              "      <td>-4.79798</td>\n",
              "      <td>-4.79798</td>\n",
              "      <td>0</td>\n",
              "      <td>23.020610</td>\n",
              "    </tr>\n",
              "    <tr>\n",
              "      <th>3</th>\n",
              "      <td>-4.69697</td>\n",
              "      <td>-4.69697</td>\n",
              "      <td>0</td>\n",
              "      <td>22.061524</td>\n",
              "    </tr>\n",
              "    <tr>\n",
              "      <th>4</th>\n",
              "      <td>-4.59596</td>\n",
              "      <td>-4.59596</td>\n",
              "      <td>0</td>\n",
              "      <td>21.122845</td>\n",
              "    </tr>\n",
              "  </tbody>\n",
              "</table>\n",
              "</div>"
            ],
            "text/plain": [
              "        X1       X2  Y  X1_SQUARE\n",
              "0 -5.00000 -5.00000  0  25.000000\n",
              "1 -4.89899 -4.89899  0  24.000102\n",
              "2 -4.79798 -4.79798  0  23.020610\n",
              "3 -4.69697 -4.69697  0  22.061524\n",
              "4 -4.59596 -4.59596  0  21.122845"
            ]
          },
          "execution_count": 25,
          "metadata": {},
          "output_type": "execute_result"
        }
      ],
      "source": [
        "df['X1_SQUARE'] = df['X1']**2\n",
        "df.head()"
      ]
    },
    {
      "cell_type": "code",
      "execution_count": 26,
      "metadata": {
        "colab": {
          "base_uri": "https://localhost:8080/",
          "height": 206
        },
        "id": "9_GNT2BvfpwJ",
        "outputId": "751a9498-8f99-4b93-d672-3d0ba8e399d9"
      },
      "outputs": [
        {
          "data": {
            "text/html": [
              "<div>\n",
              "<style scoped>\n",
              "    .dataframe tbody tr th:only-of-type {\n",
              "        vertical-align: middle;\n",
              "    }\n",
              "\n",
              "    .dataframe tbody tr th {\n",
              "        vertical-align: top;\n",
              "    }\n",
              "\n",
              "    .dataframe thead th {\n",
              "        text-align: right;\n",
              "    }\n",
              "</style>\n",
              "<table border=\"1\" class=\"dataframe\">\n",
              "  <thead>\n",
              "    <tr style=\"text-align: right;\">\n",
              "      <th></th>\n",
              "      <th>X1</th>\n",
              "      <th>X2</th>\n",
              "      <th>Y</th>\n",
              "      <th>X1_SQUARE</th>\n",
              "      <th>X2_SQUARE</th>\n",
              "    </tr>\n",
              "  </thead>\n",
              "  <tbody>\n",
              "    <tr>\n",
              "      <th>0</th>\n",
              "      <td>-5.00000</td>\n",
              "      <td>-5.00000</td>\n",
              "      <td>0</td>\n",
              "      <td>25.000000</td>\n",
              "      <td>25.000000</td>\n",
              "    </tr>\n",
              "    <tr>\n",
              "      <th>1</th>\n",
              "      <td>-4.89899</td>\n",
              "      <td>-4.89899</td>\n",
              "      <td>0</td>\n",
              "      <td>24.000102</td>\n",
              "      <td>24.000102</td>\n",
              "    </tr>\n",
              "    <tr>\n",
              "      <th>2</th>\n",
              "      <td>-4.79798</td>\n",
              "      <td>-4.79798</td>\n",
              "      <td>0</td>\n",
              "      <td>23.020610</td>\n",
              "      <td>23.020610</td>\n",
              "    </tr>\n",
              "    <tr>\n",
              "      <th>3</th>\n",
              "      <td>-4.69697</td>\n",
              "      <td>-4.69697</td>\n",
              "      <td>0</td>\n",
              "      <td>22.061524</td>\n",
              "      <td>22.061524</td>\n",
              "    </tr>\n",
              "    <tr>\n",
              "      <th>4</th>\n",
              "      <td>-4.59596</td>\n",
              "      <td>-4.59596</td>\n",
              "      <td>0</td>\n",
              "      <td>21.122845</td>\n",
              "      <td>21.122845</td>\n",
              "    </tr>\n",
              "  </tbody>\n",
              "</table>\n",
              "</div>"
            ],
            "text/plain": [
              "        X1       X2  Y  X1_SQUARE  X2_SQUARE\n",
              "0 -5.00000 -5.00000  0  25.000000  25.000000\n",
              "1 -4.89899 -4.89899  0  24.000102  24.000102\n",
              "2 -4.79798 -4.79798  0  23.020610  23.020610\n",
              "3 -4.69697 -4.69697  0  22.061524  22.061524\n",
              "4 -4.59596 -4.59596  0  21.122845  21.122845"
            ]
          },
          "execution_count": 26,
          "metadata": {},
          "output_type": "execute_result"
        }
      ],
      "source": [
        "df['X2_SQUARE'] = df['X2']**2\n",
        "df.head()"
      ]
    },
    {
      "cell_type": "code",
      "execution_count": 27,
      "metadata": {
        "colab": {
          "base_uri": "https://localhost:8080/",
          "height": 206
        },
        "id": "Mz_CW7d9f-4m",
        "outputId": "00438e2f-86f2-48b0-983f-a7716afa4566"
      },
      "outputs": [
        {
          "data": {
            "text/html": [
              "<div>\n",
              "<style scoped>\n",
              "    .dataframe tbody tr th:only-of-type {\n",
              "        vertical-align: middle;\n",
              "    }\n",
              "\n",
              "    .dataframe tbody tr th {\n",
              "        vertical-align: top;\n",
              "    }\n",
              "\n",
              "    .dataframe thead th {\n",
              "        text-align: right;\n",
              "    }\n",
              "</style>\n",
              "<table border=\"1\" class=\"dataframe\">\n",
              "  <thead>\n",
              "    <tr style=\"text-align: right;\">\n",
              "      <th></th>\n",
              "      <th>X1</th>\n",
              "      <th>X2</th>\n",
              "      <th>Y</th>\n",
              "      <th>X1_SQUARE</th>\n",
              "      <th>X2_SQUARE</th>\n",
              "      <th>X1*X2</th>\n",
              "    </tr>\n",
              "  </thead>\n",
              "  <tbody>\n",
              "    <tr>\n",
              "      <th>0</th>\n",
              "      <td>-5.00000</td>\n",
              "      <td>-5.00000</td>\n",
              "      <td>0</td>\n",
              "      <td>25.000000</td>\n",
              "      <td>25.000000</td>\n",
              "      <td>25.000000</td>\n",
              "    </tr>\n",
              "    <tr>\n",
              "      <th>1</th>\n",
              "      <td>-4.89899</td>\n",
              "      <td>-4.89899</td>\n",
              "      <td>0</td>\n",
              "      <td>24.000102</td>\n",
              "      <td>24.000102</td>\n",
              "      <td>24.000102</td>\n",
              "    </tr>\n",
              "    <tr>\n",
              "      <th>2</th>\n",
              "      <td>-4.79798</td>\n",
              "      <td>-4.79798</td>\n",
              "      <td>0</td>\n",
              "      <td>23.020610</td>\n",
              "      <td>23.020610</td>\n",
              "      <td>23.020610</td>\n",
              "    </tr>\n",
              "    <tr>\n",
              "      <th>3</th>\n",
              "      <td>-4.69697</td>\n",
              "      <td>-4.69697</td>\n",
              "      <td>0</td>\n",
              "      <td>22.061524</td>\n",
              "      <td>22.061524</td>\n",
              "      <td>22.061524</td>\n",
              "    </tr>\n",
              "    <tr>\n",
              "      <th>4</th>\n",
              "      <td>-4.59596</td>\n",
              "      <td>-4.59596</td>\n",
              "      <td>0</td>\n",
              "      <td>21.122845</td>\n",
              "      <td>21.122845</td>\n",
              "      <td>21.122845</td>\n",
              "    </tr>\n",
              "  </tbody>\n",
              "</table>\n",
              "</div>"
            ],
            "text/plain": [
              "        X1       X2  Y  X1_SQUARE  X2_SQUARE      X1*X2\n",
              "0 -5.00000 -5.00000  0  25.000000  25.000000  25.000000\n",
              "1 -4.89899 -4.89899  0  24.000102  24.000102  24.000102\n",
              "2 -4.79798 -4.79798  0  23.020610  23.020610  23.020610\n",
              "3 -4.69697 -4.69697  0  22.061524  22.061524  22.061524\n",
              "4 -4.59596 -4.59596  0  21.122845  21.122845  21.122845"
            ]
          },
          "execution_count": 27,
          "metadata": {},
          "output_type": "execute_result"
        }
      ],
      "source": [
        "df['X1*X2'] = (df['X1']*df['X2'])\n",
        "df.head()"
      ]
    },
    {
      "cell_type": "markdown",
      "metadata": {
        "id": "gzZF8YB5gN3X"
      },
      "source": [
        "### Change the position of columns"
      ]
    },
    {
      "cell_type": "code",
      "execution_count": 28,
      "metadata": {
        "colab": {
          "base_uri": "https://localhost:8080/",
          "height": 206
        },
        "id": "GYTITuV1gW-K",
        "outputId": "53311e29-8650-4497-c65d-5c807a122136"
      },
      "outputs": [
        {
          "data": {
            "text/html": [
              "<div>\n",
              "<style scoped>\n",
              "    .dataframe tbody tr th:only-of-type {\n",
              "        vertical-align: middle;\n",
              "    }\n",
              "\n",
              "    .dataframe tbody tr th {\n",
              "        vertical-align: top;\n",
              "    }\n",
              "\n",
              "    .dataframe thead th {\n",
              "        text-align: right;\n",
              "    }\n",
              "</style>\n",
              "<table border=\"1\" class=\"dataframe\">\n",
              "  <thead>\n",
              "    <tr style=\"text-align: right;\">\n",
              "      <th></th>\n",
              "      <th>X1</th>\n",
              "      <th>X2</th>\n",
              "      <th>X1_SQUARE</th>\n",
              "      <th>X2_SQUARE</th>\n",
              "      <th>X1*X2</th>\n",
              "      <th>Y</th>\n",
              "    </tr>\n",
              "  </thead>\n",
              "  <tbody>\n",
              "    <tr>\n",
              "      <th>0</th>\n",
              "      <td>-5.00000</td>\n",
              "      <td>-5.00000</td>\n",
              "      <td>25.000000</td>\n",
              "      <td>25.000000</td>\n",
              "      <td>25.000000</td>\n",
              "      <td>0</td>\n",
              "    </tr>\n",
              "    <tr>\n",
              "      <th>1</th>\n",
              "      <td>-4.89899</td>\n",
              "      <td>-4.89899</td>\n",
              "      <td>24.000102</td>\n",
              "      <td>24.000102</td>\n",
              "      <td>24.000102</td>\n",
              "      <td>0</td>\n",
              "    </tr>\n",
              "    <tr>\n",
              "      <th>2</th>\n",
              "      <td>-4.79798</td>\n",
              "      <td>-4.79798</td>\n",
              "      <td>23.020610</td>\n",
              "      <td>23.020610</td>\n",
              "      <td>23.020610</td>\n",
              "      <td>0</td>\n",
              "    </tr>\n",
              "    <tr>\n",
              "      <th>3</th>\n",
              "      <td>-4.69697</td>\n",
              "      <td>-4.69697</td>\n",
              "      <td>22.061524</td>\n",
              "      <td>22.061524</td>\n",
              "      <td>22.061524</td>\n",
              "      <td>0</td>\n",
              "    </tr>\n",
              "    <tr>\n",
              "      <th>4</th>\n",
              "      <td>-4.59596</td>\n",
              "      <td>-4.59596</td>\n",
              "      <td>21.122845</td>\n",
              "      <td>21.122845</td>\n",
              "      <td>21.122845</td>\n",
              "      <td>0</td>\n",
              "    </tr>\n",
              "  </tbody>\n",
              "</table>\n",
              "</div>"
            ],
            "text/plain": [
              "        X1       X2  X1_SQUARE  X2_SQUARE      X1*X2  Y\n",
              "0 -5.00000 -5.00000  25.000000  25.000000  25.000000  0\n",
              "1 -4.89899 -4.89899  24.000102  24.000102  24.000102  0\n",
              "2 -4.79798 -4.79798  23.020610  23.020610  23.020610  0\n",
              "3 -4.69697 -4.69697  22.061524  22.061524  22.061524  0\n",
              "4 -4.59596 -4.59596  21.122845  21.122845  21.122845  0"
            ]
          },
          "execution_count": 28,
          "metadata": {},
          "output_type": "execute_result"
        }
      ],
      "source": [
        "new_columns = ['X1', 'X2', 'X1_SQUARE', 'X2_SQUARE', 'X1*X2', 'Y']\n",
        "df = df.reindex(columns=new_columns)\n",
        "df.head()"
      ]
    },
    {
      "cell_type": "markdown",
      "metadata": {
        "id": "H1jcD7sYg5bI"
      },
      "source": [
        "### Split the current dataframe into independent and dependent features"
      ]
    },
    {
      "cell_type": "code",
      "execution_count": 29,
      "metadata": {
        "colab": {
          "base_uri": "https://localhost:8080/",
          "height": 206
        },
        "id": "tIEEf7ijixKR",
        "outputId": "5f82e622-d001-49ed-89eb-b26dc6c0a26b"
      },
      "outputs": [
        {
          "data": {
            "text/html": [
              "<div>\n",
              "<style scoped>\n",
              "    .dataframe tbody tr th:only-of-type {\n",
              "        vertical-align: middle;\n",
              "    }\n",
              "\n",
              "    .dataframe tbody tr th {\n",
              "        vertical-align: top;\n",
              "    }\n",
              "\n",
              "    .dataframe thead th {\n",
              "        text-align: right;\n",
              "    }\n",
              "</style>\n",
              "<table border=\"1\" class=\"dataframe\">\n",
              "  <thead>\n",
              "    <tr style=\"text-align: right;\">\n",
              "      <th></th>\n",
              "      <th>X1</th>\n",
              "      <th>X2</th>\n",
              "      <th>X1_SQUARE</th>\n",
              "      <th>X2_SQUARE</th>\n",
              "      <th>X1*X2</th>\n",
              "    </tr>\n",
              "  </thead>\n",
              "  <tbody>\n",
              "    <tr>\n",
              "      <th>0</th>\n",
              "      <td>-5.00000</td>\n",
              "      <td>-5.00000</td>\n",
              "      <td>25.000000</td>\n",
              "      <td>25.000000</td>\n",
              "      <td>25.000000</td>\n",
              "    </tr>\n",
              "    <tr>\n",
              "      <th>1</th>\n",
              "      <td>-4.89899</td>\n",
              "      <td>-4.89899</td>\n",
              "      <td>24.000102</td>\n",
              "      <td>24.000102</td>\n",
              "      <td>24.000102</td>\n",
              "    </tr>\n",
              "    <tr>\n",
              "      <th>2</th>\n",
              "      <td>-4.79798</td>\n",
              "      <td>-4.79798</td>\n",
              "      <td>23.020610</td>\n",
              "      <td>23.020610</td>\n",
              "      <td>23.020610</td>\n",
              "    </tr>\n",
              "    <tr>\n",
              "      <th>3</th>\n",
              "      <td>-4.69697</td>\n",
              "      <td>-4.69697</td>\n",
              "      <td>22.061524</td>\n",
              "      <td>22.061524</td>\n",
              "      <td>22.061524</td>\n",
              "    </tr>\n",
              "    <tr>\n",
              "      <th>4</th>\n",
              "      <td>-4.59596</td>\n",
              "      <td>-4.59596</td>\n",
              "      <td>21.122845</td>\n",
              "      <td>21.122845</td>\n",
              "      <td>21.122845</td>\n",
              "    </tr>\n",
              "  </tbody>\n",
              "</table>\n",
              "</div>"
            ],
            "text/plain": [
              "        X1       X2  X1_SQUARE  X2_SQUARE      X1*X2\n",
              "0 -5.00000 -5.00000  25.000000  25.000000  25.000000\n",
              "1 -4.89899 -4.89899  24.000102  24.000102  24.000102\n",
              "2 -4.79798 -4.79798  23.020610  23.020610  23.020610\n",
              "3 -4.69697 -4.69697  22.061524  22.061524  22.061524\n",
              "4 -4.59596 -4.59596  21.122845  21.122845  21.122845"
            ]
          },
          "execution_count": 29,
          "metadata": {},
          "output_type": "execute_result"
        }
      ],
      "source": [
        "# independent features\n",
        "X = df.iloc[:, :-1]\n",
        "X.head()"
      ]
    },
    {
      "cell_type": "code",
      "execution_count": 30,
      "metadata": {
        "colab": {
          "base_uri": "https://localhost:8080/"
        },
        "id": "CiiELe_Vi8jh",
        "outputId": "965e2167-a9be-475c-e410-a20abe5dfb83"
      },
      "outputs": [
        {
          "data": {
            "text/plain": [
              "0    0\n",
              "1    0\n",
              "2    0\n",
              "3    0\n",
              "4    0\n",
              "Name: Y, dtype: int64"
            ]
          },
          "execution_count": 30,
          "metadata": {},
          "output_type": "execute_result"
        }
      ],
      "source": [
        "# dependent feature\n",
        "y = df.iloc[:, -1]\n",
        "y.head()"
      ]
    },
    {
      "cell_type": "markdown",
      "metadata": {
        "id": "jvq7Qfn8jAW_"
      },
      "source": [
        "### Train test split the dataset"
      ]
    },
    {
      "cell_type": "code",
      "execution_count": 31,
      "metadata": {
        "id": "weR1fZBgrtzT"
      },
      "outputs": [],
      "source": [
        "X_train, X_test, y_train, y_test = train_test_split(X, y, test_size=0.25, random_state=0)"
      ]
    },
    {
      "cell_type": "code",
      "execution_count": 32,
      "metadata": {
        "colab": {
          "base_uri": "https://localhost:8080/",
          "height": 206
        },
        "id": "udK5duMMr5S2",
        "outputId": "755d580c-32a8-428d-ce7d-331dec9372d0"
      },
      "outputs": [
        {
          "data": {
            "text/html": [
              "<div>\n",
              "<style scoped>\n",
              "    .dataframe tbody tr th:only-of-type {\n",
              "        vertical-align: middle;\n",
              "    }\n",
              "\n",
              "    .dataframe tbody tr th {\n",
              "        vertical-align: top;\n",
              "    }\n",
              "\n",
              "    .dataframe thead th {\n",
              "        text-align: right;\n",
              "    }\n",
              "</style>\n",
              "<table border=\"1\" class=\"dataframe\">\n",
              "  <thead>\n",
              "    <tr style=\"text-align: right;\">\n",
              "      <th></th>\n",
              "      <th>X1</th>\n",
              "      <th>X2</th>\n",
              "      <th>X1_SQUARE</th>\n",
              "      <th>X2_SQUARE</th>\n",
              "      <th>X1*X2</th>\n",
              "    </tr>\n",
              "  </thead>\n",
              "  <tbody>\n",
              "    <tr>\n",
              "      <th>50</th>\n",
              "      <td>4.999745</td>\n",
              "      <td>0.050505</td>\n",
              "      <td>24.997449</td>\n",
              "      <td>0.002551</td>\n",
              "      <td>0.252512</td>\n",
              "    </tr>\n",
              "    <tr>\n",
              "      <th>63</th>\n",
              "      <td>1.363636</td>\n",
              "      <td>1.363636</td>\n",
              "      <td>1.859504</td>\n",
              "      <td>1.859504</td>\n",
              "      <td>1.859504</td>\n",
              "    </tr>\n",
              "    <tr>\n",
              "      <th>112</th>\n",
              "      <td>-3.263736</td>\n",
              "      <td>3.787879</td>\n",
              "      <td>10.651974</td>\n",
              "      <td>14.348026</td>\n",
              "      <td>-12.362637</td>\n",
              "    </tr>\n",
              "    <tr>\n",
              "      <th>159</th>\n",
              "      <td>-9.953852</td>\n",
              "      <td>-0.959596</td>\n",
              "      <td>99.079176</td>\n",
              "      <td>0.920824</td>\n",
              "      <td>9.551676</td>\n",
              "    </tr>\n",
              "    <tr>\n",
              "      <th>83</th>\n",
              "      <td>3.680983</td>\n",
              "      <td>3.383838</td>\n",
              "      <td>13.549638</td>\n",
              "      <td>11.450362</td>\n",
              "      <td>12.455852</td>\n",
              "    </tr>\n",
              "  </tbody>\n",
              "</table>\n",
              "</div>"
            ],
            "text/plain": [
              "           X1        X2  X1_SQUARE  X2_SQUARE      X1*X2\n",
              "50   4.999745  0.050505  24.997449   0.002551   0.252512\n",
              "63   1.363636  1.363636   1.859504   1.859504   1.859504\n",
              "112 -3.263736  3.787879  10.651974  14.348026 -12.362637\n",
              "159 -9.953852 -0.959596  99.079176   0.920824   9.551676\n",
              "83   3.680983  3.383838  13.549638  11.450362  12.455852"
            ]
          },
          "execution_count": 32,
          "metadata": {},
          "output_type": "execute_result"
        }
      ],
      "source": [
        "X_train.head()"
      ]
    },
    {
      "cell_type": "markdown",
      "metadata": {
        "id": "gtXt-NZ_r6zk"
      },
      "source": [
        "### Plot X1 and X2 using plotly"
      ]
    },
    {
      "cell_type": "code",
      "execution_count": 33,
      "metadata": {
        "colab": {
          "base_uri": "https://localhost:8080/",
          "height": 542
        },
        "id": "blnowCsGsCbe",
        "outputId": "dca8a3ef-ab84-4d8b-b5cc-4e000c2385b7"
      },
      "outputs": [
        {
          "data": {
            "application/vnd.plotly.v1+json": {
              "config": {
                "plotlyServerURL": "https://plot.ly"
              },
              "data": [
                {
                  "hovertemplate": "X1=%{x}<br>X2=%{y}<br>X1*X2=%{z}<br>Y=%{marker.color}<extra></extra>",
                  "legendgroup": "",
                  "marker": {
                    "color": [
                      0,
                      0,
                      0,
                      0,
                      0,
                      0,
                      0,
                      0,
                      0,
                      0,
                      0,
                      0,
                      0,
                      0,
                      0,
                      0,
                      0,
                      0,
                      0,
                      0,
                      0,
                      0,
                      0,
                      0,
                      0,
                      0,
                      0,
                      0,
                      0,
                      0,
                      0,
                      0,
                      0,
                      0,
                      0,
                      0,
                      0,
                      0,
                      0,
                      0,
                      0,
                      0,
                      0,
                      0,
                      0,
                      0,
                      0,
                      0,
                      0,
                      0,
                      0,
                      0,
                      0,
                      0,
                      0,
                      0,
                      0,
                      0,
                      0,
                      0,
                      0,
                      0,
                      0,
                      0,
                      0,
                      0,
                      0,
                      0,
                      0,
                      0,
                      0,
                      0,
                      0,
                      0,
                      0,
                      0,
                      0,
                      0,
                      0,
                      0,
                      0,
                      0,
                      0,
                      0,
                      0,
                      0,
                      0,
                      0,
                      0,
                      0,
                      0,
                      0,
                      0,
                      0,
                      0,
                      0,
                      0,
                      0,
                      0,
                      0,
                      0,
                      0,
                      0,
                      0,
                      0,
                      0,
                      0,
                      0,
                      0,
                      0,
                      0,
                      0,
                      0,
                      0,
                      0,
                      0,
                      0,
                      0,
                      0,
                      0,
                      0,
                      0,
                      0,
                      0,
                      0,
                      0,
                      0,
                      0,
                      0,
                      0,
                      0,
                      0,
                      0,
                      0,
                      0,
                      0,
                      0,
                      0,
                      0,
                      0,
                      0,
                      0,
                      0,
                      0,
                      0,
                      0,
                      0,
                      0,
                      0,
                      0,
                      0,
                      0,
                      0,
                      0,
                      0,
                      0,
                      0,
                      0,
                      0,
                      0,
                      0,
                      0,
                      0,
                      0,
                      0,
                      0,
                      0,
                      0,
                      0,
                      0,
                      0,
                      0,
                      0,
                      0,
                      0,
                      0,
                      0,
                      0,
                      0,
                      0,
                      0,
                      0,
                      0,
                      0,
                      0,
                      0,
                      0,
                      0,
                      0,
                      0,
                      0,
                      0,
                      0,
                      0,
                      0,
                      0,
                      0,
                      0,
                      0,
                      0,
                      1,
                      1,
                      1,
                      1,
                      1,
                      1,
                      1,
                      1,
                      1,
                      1,
                      1,
                      1,
                      1,
                      1,
                      1,
                      1,
                      1,
                      1,
                      1,
                      1,
                      1,
                      1,
                      1,
                      1,
                      1,
                      1,
                      1,
                      1,
                      1,
                      1,
                      1,
                      1,
                      1,
                      1,
                      1,
                      1,
                      1,
                      1,
                      1,
                      1,
                      1,
                      1,
                      1,
                      1,
                      1,
                      1,
                      1,
                      1,
                      1,
                      1,
                      1,
                      1,
                      1,
                      1,
                      1,
                      1,
                      1,
                      1,
                      1,
                      1,
                      1,
                      1,
                      1,
                      1,
                      1,
                      1,
                      1,
                      1,
                      1,
                      1,
                      1,
                      1,
                      1,
                      1,
                      1,
                      1,
                      1,
                      1,
                      1,
                      1,
                      1,
                      1,
                      1,
                      1,
                      1,
                      1,
                      1,
                      1,
                      1,
                      1,
                      1,
                      1,
                      1,
                      1,
                      1,
                      1,
                      1,
                      1,
                      1,
                      1,
                      1,
                      1,
                      1,
                      1,
                      1,
                      1,
                      1,
                      1,
                      1,
                      1,
                      1,
                      1,
                      1,
                      1,
                      1,
                      1,
                      1,
                      1,
                      1,
                      1,
                      1,
                      1,
                      1,
                      1,
                      1,
                      1,
                      1,
                      1,
                      1,
                      1,
                      1,
                      1,
                      1,
                      1,
                      1,
                      1,
                      1,
                      1,
                      1,
                      1,
                      1,
                      1,
                      1,
                      1,
                      1,
                      1,
                      1,
                      1,
                      1,
                      1,
                      1,
                      1,
                      1,
                      1,
                      1,
                      1,
                      1,
                      1,
                      1,
                      1,
                      1,
                      1,
                      1,
                      1,
                      1,
                      1,
                      1,
                      1,
                      1,
                      1,
                      1,
                      1,
                      1,
                      1,
                      1,
                      1,
                      1,
                      1,
                      1,
                      1,
                      1,
                      1,
                      1,
                      1,
                      1,
                      1,
                      1,
                      1,
                      1,
                      1,
                      1,
                      1,
                      1,
                      1,
                      1,
                      1,
                      1,
                      1,
                      1,
                      1
                    ],
                    "coloraxis": "coloraxis",
                    "symbol": "circle"
                  },
                  "mode": "markers",
                  "name": "",
                  "scene": "scene",
                  "showlegend": false,
                  "type": "scatter3d",
                  "x": [
                    -5,
                    -4.898989898989899,
                    -4.797979797979798,
                    -4.696969696969697,
                    -4.595959595959596,
                    -4.494949494949495,
                    -4.393939393939394,
                    -4.292929292929293,
                    -4.191919191919192,
                    -4.090909090909091,
                    -3.9898989898989896,
                    -3.888888888888889,
                    -3.787878787878788,
                    -3.686868686868687,
                    -3.5858585858585856,
                    -3.484848484848485,
                    -3.383838383838384,
                    -3.282828282828283,
                    -3.1818181818181817,
                    -3.080808080808081,
                    -2.9797979797979797,
                    -2.878787878787879,
                    -2.7777777777777777,
                    -2.676767676767677,
                    -2.5757575757575757,
                    -2.474747474747475,
                    -2.3737373737373737,
                    -2.272727272727273,
                    -2.1717171717171717,
                    -2.070707070707071,
                    -1.9696969696969697,
                    -1.868686868686869,
                    -1.7676767676767677,
                    -1.6666666666666665,
                    -1.5656565656565657,
                    -1.4646464646464645,
                    -1.3636363636363638,
                    -1.2626262626262625,
                    -1.1616161616161618,
                    -1.0606060606060606,
                    -0.9595959595959593,
                    -0.858585858585859,
                    -0.7575757575757578,
                    -0.6565656565656566,
                    -0.5555555555555554,
                    -0.45454545454545503,
                    -0.3535353535353538,
                    -0.2525252525252526,
                    -0.15151515151515138,
                    -0.050505050505050164,
                    0.050505050505050164,
                    0.15151515151515138,
                    0.2525252525252526,
                    0.3535353535353538,
                    0.45454545454545414,
                    0.5555555555555554,
                    0.6565656565656566,
                    0.7575757575757578,
                    0.8585858585858581,
                    0.9595959595959593,
                    1.0606060606060606,
                    1.1616161616161618,
                    1.262626262626262,
                    1.3636363636363633,
                    1.4646464646464645,
                    1.5656565656565657,
                    1.666666666666667,
                    1.7676767676767673,
                    1.8686868686868685,
                    1.9696969696969697,
                    2.070707070707071,
                    2.1717171717171713,
                    2.2727272727272725,
                    2.3737373737373737,
                    2.474747474747475,
                    2.5757575757575752,
                    2.6767676767676765,
                    2.7777777777777777,
                    2.878787878787879,
                    2.9797979797979792,
                    3.0808080808080813,
                    3.1818181818181817,
                    3.282828282828282,
                    3.383838383838384,
                    3.4848484848484844,
                    3.5858585858585865,
                    3.686868686868687,
                    3.787878787878787,
                    3.8888888888888893,
                    3.9898989898989896,
                    4.09090909090909,
                    4.191919191919192,
                    4.292929292929292,
                    4.3939393939393945,
                    4.494949494949495,
                    4.595959595959595,
                    4.696969696969697,
                    4.797979797979798,
                    4.8989898989899,
                    5,
                    -8.660254037844387,
                    -8.71779203523432,
                    -8.773789936975795,
                    -8.82827704967104,
                    -8.88128117966698,
                    -8.932828725429212,
                    -8.982944762291902,
                    -9.031653120326844,
                    -9.078976455989935,
                    -9.124936318129423,
                    -9.16955320887572,
                    -9.21284663987611,
                    -9.254835184288153,
                    -9.295536524902001,
                    -9.33496749872351,
                    -9.373144138316087,
                    -9.41008171016926,
                    -9.445794750335342,
                    -9.480297097551913,
                    -9.513601924046835,
                    -9.545721764203684,
                    -9.576668541248777,
                    -9.60645359210588,
                    -9.635087690551227,
                    -9.662581068789407,
                    -9.68894343755969,
                    -9.714184004872585,
                    -9.738311493467522,
                    -9.76133415707447,
                    -9.783259795555045,
                    -9.804095768991987,
                    -9.823849010789878,
                    -9.842526039844437,
                    -9.860132971832694,
                    -9.876675529671736,
                    -9.89215905318948,
                    -9.906588508046985,
                    -9.919968493948277,
                    -9.93230325217027,
                    -9.943596672442306,
                    -9.953852299201907,
                    -9.96307333725073,
                    -9.971262656832058,
                    -9.978422798148939,
                    -9.984555975339683,
                    -9.989664079925413,
                    -9.993748683742284,
                    -9.996811041368995,
                    -9.998852092058435,
                    -9.999872461180367,
                    -9.999872461180367,
                    -9.998852092058435,
                    -9.996811041368995,
                    -9.993748683742284,
                    -9.989664079925413,
                    -9.984555975339683,
                    -9.978422798148939,
                    -9.971262656832058,
                    -9.96307333725073,
                    -9.953852299201907,
                    -9.943596672442306,
                    -9.93230325217027,
                    -9.919968493948277,
                    -9.906588508046985,
                    -9.89215905318948,
                    -9.876675529671736,
                    -9.860132971832694,
                    -9.842526039844437,
                    -9.823849010789878,
                    -9.804095768991987,
                    -9.783259795555045,
                    -9.76133415707447,
                    -9.738311493467522,
                    -9.714184004872585,
                    -9.68894343755969,
                    -9.66258106878941,
                    -9.635087690551227,
                    -9.60645359210588,
                    -9.576668541248777,
                    -9.545721764203684,
                    -9.513601924046835,
                    -9.480297097551913,
                    -9.445794750335342,
                    -9.41008171016926,
                    -9.373144138316087,
                    -9.33496749872351,
                    -9.295536524902001,
                    -9.254835184288153,
                    -9.21284663987611,
                    -9.16955320887572,
                    -9.124936318129423,
                    -9.078976455989935,
                    -9.031653120326844,
                    -8.982944762291902,
                    -8.932828725429212,
                    -8.881281179666981,
                    -8.82827704967104,
                    -8.773789936975795,
                    -8.71779203523432,
                    -8.660254037844387,
                    0,
                    0.9999489834961283,
                    1.4069079067862758,
                    1.714198257421933,
                    1.9690493625876693,
                    2.1898468069372528,
                    2.386062992124792,
                    2.5633489980706097,
                    2.7254015279256647,
                    2.8747978728803445,
                    3.013420987914404,
                    3.1426968052735447,
                    3.263736246748184,
                    3.3774249489495936,
                    3.484482487002089,
                    3.5855028988482522,
                    3.6809832643007265,
                    3.771344384362519,
                    3.85694607919935,
                    3.938098725175339,
                    4.015072103909453,
                    4.0881022918884975,
                    4.15739709641549,
                    4.2231403960337115,
                    4.2854956435548335,
                    4.3446087207285995,
                    4.400610285008478,
                    4.453617714151233,
                    4.5037367292137285,
                    4.5510627580076,
                    4.59568208730397,
                    4.637672841716766,
                    4.677105819309182,
                    4.714045207910317,
                    4.748549201431579,
                    4.78067053179767,
                    4.810456929208347,
                    4.837951521142646,
                    4.863193178670999,
                    4.886216817150636,
                    4.907053657168129,
                    4.92573145060065,
                    4.9422746758485125,
                    4.956704705610221,
                    4.969039949999533,
                    4.979295977319692,
                    4.987485614395357,
                    4.9936190280033435,
                    4.997703788627468,
                    4.999744917480639,
                    4.999744917480639,
                    4.997703788627468,
                    4.9936190280033435,
                    4.987485614395357,
                    4.979295977319692,
                    4.969039949999533,
                    4.956704705610221,
                    4.9422746758485125,
                    4.92573145060065,
                    4.907053657168129,
                    4.886216817150636,
                    4.863193178670999,
                    4.837951521142646,
                    4.810456929208347,
                    4.78067053179767,
                    4.748549201431579,
                    4.714045207910317,
                    4.677105819309182,
                    4.637672841716766,
                    4.59568208730397,
                    4.5510627580076,
                    4.5037367292137285,
                    4.453617714151233,
                    4.400610285008478,
                    4.3446087207285995,
                    4.2854956435548335,
                    4.223140396033712,
                    4.15739709641549,
                    4.0881022918884975,
                    4.0150721039094535,
                    3.9380987251753385,
                    3.85694607919935,
                    3.7713443843625196,
                    3.6809832643007265,
                    3.5855028988482527,
                    3.4844824870020883,
                    3.3774249489495936,
                    3.263736246748185,
                    3.1426968052735442,
                    3.013420987914404,
                    2.874797872880346,
                    2.7254015279256647,
                    2.563348998070611,
                    2.38606299212479,
                    2.1898468069372528,
                    1.9690493625876713,
                    1.714198257421933,
                    1.4069079067862758,
                    0.9999489834961247,
                    0,
                    0,
                    -0.9999489834961283,
                    -1.4069079067862758,
                    -1.714198257421933,
                    -1.9690493625876693,
                    -2.1898468069372528,
                    -2.386062992124792,
                    -2.5633489980706097,
                    -2.7254015279256647,
                    -2.8747978728803445,
                    -3.013420987914404,
                    -3.1426968052735447,
                    -3.263736246748184,
                    -3.3774249489495936,
                    -3.484482487002089,
                    -3.5855028988482522,
                    -3.6809832643007265,
                    -3.771344384362519,
                    -3.85694607919935,
                    -3.938098725175339,
                    -4.015072103909453,
                    -4.0881022918884975,
                    -4.15739709641549,
                    -4.2231403960337115,
                    -4.2854956435548335,
                    -4.3446087207285995,
                    -4.400610285008478,
                    -4.453617714151233,
                    -4.5037367292137285,
                    -4.5510627580076,
                    -4.59568208730397,
                    -4.637672841716766,
                    -4.677105819309182,
                    -4.714045207910317,
                    -4.748549201431579,
                    -4.78067053179767,
                    -4.810456929208347,
                    -4.837951521142646,
                    -4.863193178670999,
                    -4.886216817150636,
                    -4.907053657168129,
                    -4.92573145060065,
                    -4.9422746758485125,
                    -4.956704705610221,
                    -4.969039949999533,
                    -4.979295977319692,
                    -4.987485614395357,
                    -4.9936190280033435,
                    -4.997703788627468,
                    -4.999744917480639,
                    -4.999744917480639,
                    -4.997703788627468,
                    -4.9936190280033435,
                    -4.987485614395357,
                    -4.979295977319692,
                    -4.969039949999533,
                    -4.956704705610221,
                    -4.9422746758485125,
                    -4.92573145060065,
                    -4.907053657168129,
                    -4.886216817150636,
                    -4.863193178670999,
                    -4.837951521142646,
                    -4.810456929208347,
                    -4.78067053179767,
                    -4.748549201431579,
                    -4.714045207910317,
                    -4.677105819309182,
                    -4.637672841716766,
                    -4.59568208730397,
                    -4.5510627580076,
                    -4.5037367292137285,
                    -4.453617714151233,
                    -4.400610285008478,
                    -4.3446087207285995,
                    -4.2854956435548335,
                    -4.223140396033712,
                    -4.15739709641549,
                    -4.0881022918884975,
                    -4.0150721039094535,
                    -3.9380987251753385,
                    -3.85694607919935,
                    -3.7713443843625196,
                    -3.6809832643007265,
                    -3.5855028988482527,
                    -3.4844824870020883,
                    -3.3774249489495936,
                    -3.263736246748185,
                    -3.1426968052735442,
                    -3.013420987914404,
                    -2.874797872880346,
                    -2.7254015279256647,
                    -2.563348998070611,
                    -2.38606299212479,
                    -2.1898468069372528,
                    -1.9690493625876713,
                    -1.714198257421933,
                    -1.4069079067862758,
                    -0.9999489834961247,
                    0
                  ],
                  "y": [
                    -5,
                    -4.898989898989899,
                    -4.797979797979798,
                    -4.696969696969697,
                    -4.595959595959596,
                    -4.494949494949495,
                    -4.393939393939394,
                    -4.292929292929293,
                    -4.191919191919192,
                    -4.090909090909091,
                    -3.9898989898989896,
                    -3.888888888888889,
                    -3.787878787878788,
                    -3.686868686868687,
                    -3.5858585858585856,
                    -3.484848484848485,
                    -3.383838383838384,
                    -3.282828282828283,
                    -3.1818181818181817,
                    -3.080808080808081,
                    -2.9797979797979797,
                    -2.878787878787879,
                    -2.7777777777777777,
                    -2.676767676767677,
                    -2.5757575757575757,
                    -2.474747474747475,
                    -2.3737373737373737,
                    -2.272727272727273,
                    -2.1717171717171717,
                    -2.070707070707071,
                    -1.9696969696969697,
                    -1.868686868686869,
                    -1.7676767676767677,
                    -1.6666666666666665,
                    -1.5656565656565657,
                    -1.4646464646464645,
                    -1.3636363636363638,
                    -1.2626262626262625,
                    -1.1616161616161618,
                    -1.0606060606060606,
                    -0.9595959595959593,
                    -0.858585858585859,
                    -0.7575757575757578,
                    -0.6565656565656566,
                    -0.5555555555555554,
                    -0.45454545454545503,
                    -0.3535353535353538,
                    -0.2525252525252526,
                    -0.15151515151515138,
                    -0.050505050505050164,
                    0.050505050505050164,
                    0.15151515151515138,
                    0.2525252525252526,
                    0.3535353535353538,
                    0.45454545454545414,
                    0.5555555555555554,
                    0.6565656565656566,
                    0.7575757575757578,
                    0.8585858585858581,
                    0.9595959595959593,
                    1.0606060606060606,
                    1.1616161616161618,
                    1.262626262626262,
                    1.3636363636363633,
                    1.4646464646464645,
                    1.5656565656565657,
                    1.666666666666667,
                    1.7676767676767673,
                    1.8686868686868685,
                    1.9696969696969697,
                    2.070707070707071,
                    2.1717171717171713,
                    2.2727272727272725,
                    2.3737373737373737,
                    2.474747474747475,
                    2.5757575757575752,
                    2.6767676767676765,
                    2.7777777777777777,
                    2.878787878787879,
                    2.9797979797979792,
                    3.0808080808080813,
                    3.1818181818181817,
                    3.282828282828282,
                    3.383838383838384,
                    3.4848484848484844,
                    3.5858585858585865,
                    3.686868686868687,
                    3.787878787878787,
                    3.8888888888888893,
                    3.9898989898989896,
                    4.09090909090909,
                    4.191919191919192,
                    4.292929292929292,
                    4.3939393939393945,
                    4.494949494949495,
                    4.595959595959595,
                    4.696969696969697,
                    4.797979797979798,
                    4.8989898989899,
                    5,
                    5,
                    4.898989898989899,
                    4.797979797979798,
                    4.696969696969697,
                    4.595959595959596,
                    4.494949494949495,
                    4.393939393939394,
                    4.292929292929293,
                    4.191919191919192,
                    4.090909090909091,
                    3.9898989898989896,
                    3.888888888888889,
                    3.787878787878788,
                    3.686868686868687,
                    3.5858585858585856,
                    3.484848484848485,
                    3.383838383838384,
                    3.282828282828283,
                    3.1818181818181817,
                    3.080808080808081,
                    2.9797979797979797,
                    2.878787878787879,
                    2.7777777777777777,
                    2.676767676767677,
                    2.5757575757575757,
                    2.474747474747475,
                    2.3737373737373737,
                    2.272727272727273,
                    2.1717171717171717,
                    2.070707070707071,
                    1.9696969696969697,
                    1.868686868686869,
                    1.7676767676767677,
                    1.6666666666666665,
                    1.5656565656565657,
                    1.4646464646464645,
                    1.3636363636363638,
                    1.2626262626262625,
                    1.1616161616161618,
                    1.0606060606060606,
                    0.9595959595959593,
                    0.858585858585859,
                    0.7575757575757578,
                    0.6565656565656566,
                    0.5555555555555554,
                    0.45454545454545503,
                    0.3535353535353538,
                    0.2525252525252526,
                    0.15151515151515138,
                    0.050505050505050164,
                    -0.050505050505050164,
                    -0.15151515151515138,
                    -0.2525252525252526,
                    -0.3535353535353538,
                    -0.45454545454545414,
                    -0.5555555555555554,
                    -0.6565656565656566,
                    -0.7575757575757578,
                    -0.8585858585858581,
                    -0.9595959595959593,
                    -1.0606060606060606,
                    -1.1616161616161618,
                    -1.262626262626262,
                    -1.3636363636363633,
                    -1.4646464646464645,
                    -1.5656565656565657,
                    -1.666666666666667,
                    -1.7676767676767673,
                    -1.8686868686868685,
                    -1.9696969696969697,
                    -2.070707070707071,
                    -2.1717171717171713,
                    -2.2727272727272725,
                    -2.3737373737373737,
                    -2.474747474747475,
                    -2.5757575757575752,
                    -2.6767676767676765,
                    -2.7777777777777777,
                    -2.878787878787879,
                    -2.9797979797979792,
                    -3.0808080808080813,
                    -3.1818181818181817,
                    -3.282828282828282,
                    -3.383838383838384,
                    -3.4848484848484844,
                    -3.5858585858585865,
                    -3.686868686868687,
                    -3.787878787878787,
                    -3.8888888888888893,
                    -3.9898989898989896,
                    -4.09090909090909,
                    -4.191919191919192,
                    -4.292929292929292,
                    -4.3939393939393945,
                    -4.494949494949495,
                    -4.595959595959595,
                    -4.696969696969697,
                    -4.797979797979798,
                    -4.8989898989899,
                    -5,
                    -5,
                    -4.898989898989899,
                    -4.797979797979798,
                    -4.696969696969697,
                    -4.595959595959596,
                    -4.494949494949495,
                    -4.393939393939394,
                    -4.292929292929293,
                    -4.191919191919192,
                    -4.090909090909091,
                    -3.9898989898989896,
                    -3.888888888888889,
                    -3.787878787878788,
                    -3.686868686868687,
                    -3.5858585858585856,
                    -3.484848484848485,
                    -3.383838383838384,
                    -3.282828282828283,
                    -3.1818181818181817,
                    -3.080808080808081,
                    -2.9797979797979797,
                    -2.878787878787879,
                    -2.7777777777777777,
                    -2.676767676767677,
                    -2.5757575757575757,
                    -2.474747474747475,
                    -2.3737373737373737,
                    -2.272727272727273,
                    -2.1717171717171717,
                    -2.070707070707071,
                    -1.9696969696969697,
                    -1.868686868686869,
                    -1.7676767676767677,
                    -1.6666666666666665,
                    -1.5656565656565657,
                    -1.4646464646464645,
                    -1.3636363636363638,
                    -1.2626262626262625,
                    -1.1616161616161618,
                    -1.0606060606060606,
                    -0.9595959595959593,
                    -0.858585858585859,
                    -0.7575757575757578,
                    -0.6565656565656566,
                    -0.5555555555555554,
                    -0.45454545454545503,
                    -0.3535353535353538,
                    -0.2525252525252526,
                    -0.15151515151515138,
                    -0.050505050505050164,
                    0.050505050505050164,
                    0.15151515151515138,
                    0.2525252525252526,
                    0.3535353535353538,
                    0.45454545454545414,
                    0.5555555555555554,
                    0.6565656565656566,
                    0.7575757575757578,
                    0.8585858585858581,
                    0.9595959595959593,
                    1.0606060606060606,
                    1.1616161616161618,
                    1.262626262626262,
                    1.3636363636363633,
                    1.4646464646464645,
                    1.5656565656565657,
                    1.666666666666667,
                    1.7676767676767673,
                    1.8686868686868685,
                    1.9696969696969697,
                    2.070707070707071,
                    2.1717171717171713,
                    2.2727272727272725,
                    2.3737373737373737,
                    2.474747474747475,
                    2.5757575757575752,
                    2.6767676767676765,
                    2.7777777777777777,
                    2.878787878787879,
                    2.9797979797979792,
                    3.0808080808080813,
                    3.1818181818181817,
                    3.282828282828282,
                    3.383838383838384,
                    3.4848484848484844,
                    3.5858585858585865,
                    3.686868686868687,
                    3.787878787878787,
                    3.8888888888888893,
                    3.9898989898989896,
                    4.09090909090909,
                    4.191919191919192,
                    4.292929292929292,
                    4.3939393939393945,
                    4.494949494949495,
                    4.595959595959595,
                    4.696969696969697,
                    4.797979797979798,
                    4.8989898989899,
                    5,
                    5,
                    4.898989898989899,
                    4.797979797979798,
                    4.696969696969697,
                    4.595959595959596,
                    4.494949494949495,
                    4.393939393939394,
                    4.292929292929293,
                    4.191919191919192,
                    4.090909090909091,
                    3.9898989898989896,
                    3.888888888888889,
                    3.787878787878788,
                    3.686868686868687,
                    3.5858585858585856,
                    3.484848484848485,
                    3.383838383838384,
                    3.282828282828283,
                    3.1818181818181817,
                    3.080808080808081,
                    2.9797979797979797,
                    2.878787878787879,
                    2.7777777777777777,
                    2.676767676767677,
                    2.5757575757575757,
                    2.474747474747475,
                    2.3737373737373737,
                    2.272727272727273,
                    2.1717171717171717,
                    2.070707070707071,
                    1.9696969696969697,
                    1.868686868686869,
                    1.7676767676767677,
                    1.6666666666666665,
                    1.5656565656565657,
                    1.4646464646464645,
                    1.3636363636363638,
                    1.2626262626262625,
                    1.1616161616161618,
                    1.0606060606060606,
                    0.9595959595959593,
                    0.858585858585859,
                    0.7575757575757578,
                    0.6565656565656566,
                    0.5555555555555554,
                    0.45454545454545503,
                    0.3535353535353538,
                    0.2525252525252526,
                    0.15151515151515138,
                    0.050505050505050164,
                    -0.050505050505050164,
                    -0.15151515151515138,
                    -0.2525252525252526,
                    -0.3535353535353538,
                    -0.45454545454545414,
                    -0.5555555555555554,
                    -0.6565656565656566,
                    -0.7575757575757578,
                    -0.8585858585858581,
                    -0.9595959595959593,
                    -1.0606060606060606,
                    -1.1616161616161618,
                    -1.262626262626262,
                    -1.3636363636363633,
                    -1.4646464646464645,
                    -1.5656565656565657,
                    -1.666666666666667,
                    -1.7676767676767673,
                    -1.8686868686868685,
                    -1.9696969696969697,
                    -2.070707070707071,
                    -2.1717171717171713,
                    -2.2727272727272725,
                    -2.3737373737373737,
                    -2.474747474747475,
                    -2.5757575757575752,
                    -2.6767676767676765,
                    -2.7777777777777777,
                    -2.878787878787879,
                    -2.9797979797979792,
                    -3.0808080808080813,
                    -3.1818181818181817,
                    -3.282828282828282,
                    -3.383838383838384,
                    -3.4848484848484844,
                    -3.5858585858585865,
                    -3.686868686868687,
                    -3.787878787878787,
                    -3.8888888888888893,
                    -3.9898989898989896,
                    -4.09090909090909,
                    -4.191919191919192,
                    -4.292929292929292,
                    -4.3939393939393945,
                    -4.494949494949495,
                    -4.595959595959595,
                    -4.696969696969697,
                    -4.797979797979798,
                    -4.8989898989899,
                    -5
                  ],
                  "z": [
                    25,
                    24.00010203040506,
                    23.02061014182226,
                    22.061524334251608,
                    21.122844607693093,
                    20.204570962146718,
                    19.306703397612484,
                    18.4292419140904,
                    17.57218651158045,
                    16.735537190082646,
                    15.919293949596977,
                    15.123456790123456,
                    14.348025711662077,
                    13.593000714212835,
                    12.858381797775735,
                    12.144168962350781,
                    11.450362207937967,
                    10.776961534537293,
                    10.12396694214876,
                    9.49137843077237,
                    8.87919600040812,
                    8.287419651056016,
                    7.716049382716049,
                    7.165085195388227,
                    6.634527089072543,
                    6.124375063769004,
                    5.634629119477604,
                    5.165289256198348,
                    4.716355473931231,
                    4.287827772676258,
                    3.879706152433425,
                    3.491990613202735,
                    3.1246811549841853,
                    2.7777777777777772,
                    2.4512804815835123,
                    2.1451892664013874,
                    1.8595041322314052,
                    1.5942250790735637,
                    1.349352106927865,
                    1.1248852157943066,
                    0.92082440567289,
                    0.7371696765636166,
                    0.5739210284664833,
                    0.4310784613814917,
                    0.30864197530864174,
                    0.20661157024793433,
                    0.1249872461993676,
                    0.0637690031629426,
                    0.02295684113865928,
                    0.002550760126517668,
                    0.002550760126517668,
                    0.02295684113865928,
                    0.0637690031629426,
                    0.1249872461993676,
                    0.20661157024793353,
                    0.30864197530864174,
                    0.4310784613814917,
                    0.5739210284664833,
                    0.7371696765636152,
                    0.92082440567289,
                    1.1248852157943066,
                    1.349352106927865,
                    1.5942250790735626,
                    1.859504132231404,
                    2.1451892664013874,
                    2.4512804815835123,
                    2.7777777777777786,
                    3.124681154984184,
                    3.491990613202734,
                    3.879706152433425,
                    4.287827772676258,
                    4.7163554739312294,
                    5.165289256198346,
                    5.634629119477604,
                    6.124375063769004,
                    6.634527089072541,
                    7.165085195388224,
                    7.716049382716049,
                    8.287419651056016,
                    8.879196000408118,
                    9.491378430772373,
                    10.12396694214876,
                    10.776961534537287,
                    11.450362207937967,
                    12.144168962350777,
                    12.858381797775742,
                    13.593000714212835,
                    14.34802571166207,
                    15.12345679012346,
                    15.919293949596977,
                    16.73553719008264,
                    17.57218651158045,
                    18.429241914090394,
                    19.306703397612495,
                    20.204570962146718,
                    21.122844607693086,
                    22.061524334251608,
                    23.02061014182226,
                    24.000102030405067,
                    25,
                    -43.30127018922194,
                    -42.708375122107526,
                    -42.09646686932831,
                    -41.466149778757924,
                    -40.81800946210581,
                    -40.15261396783838,
                    -39.47051486461593,
                    -38.77224824382736,
                    -38.05833564884669,
                    -37.329284937802186,
                    -36.585591085918274,
                    -35.827736932851536,
                    -35.056193879879366,
                    -34.271422541305355,
                    -33.47387335400854,
                    -32.66398714867727,
                    -31.84219568592629,
                    -31.00892216019178,
                    -30.164581674028813,
                    -29.309581685194797,
                    -28.444322428687745,
                    -27.569197315716178,
                    -26.68459331140522,
                    -25.79089129288965,
                    -24.88846638930605,
                    -23.97768830507196,
                    -23.058921627727855,
                    -22.1325261215171,
                    -21.198857007787993,
                    -20.258265233220044,
                    -19.311097726802398,
                    -18.35769764642553,
                    -17.39840461588663,
                    -16.43355495305449,
                    -15.463481889890094,
                    -14.48851578497449,
                    -13.50898432915498,
                    -12.525212744884188,
                    -11.537523979793749,
                    -10.546238895014566,
                    -9.5516764487291,
                    -8.554153875417297,
                    -7.55398686123641,
                    -6.551489715956374,
                    -5.546975541855377,
                    -4.540756399966102,
                    -3.533143474050305,
                    -2.5244472326689387,
                    -1.5149775897058222,
                    -0.5050440636959747,
                    0.5050440636959747,
                    1.5149775897058222,
                    2.5244472326689387,
                    3.533143474050305,
                    4.540756399966093,
                    5.546975541855377,
                    6.551489715956374,
                    7.55398686123641,
                    8.554153875417288,
                    9.5516764487291,
                    10.546238895014566,
                    11.537523979793749,
                    12.525212744884183,
                    13.508984329154977,
                    14.48851578497449,
                    15.463481889890094,
                    16.433554953054493,
                    17.398404615886626,
                    18.357697646425528,
                    19.311097726802398,
                    20.258265233220044,
                    21.198857007787986,
                    22.132526121517095,
                    23.058921627727855,
                    23.97768830507196,
                    24.88846638930605,
                    25.790891292889647,
                    26.68459331140522,
                    27.569197315716178,
                    28.444322428687737,
                    29.3095816851948,
                    30.164581674028813,
                    31.00892216019177,
                    31.84219568592629,
                    32.66398714867727,
                    33.47387335400855,
                    34.271422541305355,
                    35.05619387987936,
                    35.82773693285154,
                    36.585591085918274,
                    37.32928493780218,
                    38.05833564884669,
                    38.772248243827356,
                    39.470514864615936,
                    40.15261396783838,
                    40.81800946210581,
                    41.466149778757924,
                    42.09646686932831,
                    42.70837512210753,
                    43.30127018922194,
                    0,
                    -4.898739969652749,
                    -6.750315714378595,
                    -8.05153726970908,
                    -9.049671312902925,
                    -9.843250798859367,
                    -10.484216177518025,
                    -11.004276001818274,
                    -11.424662970597483,
                    -11.760536752692317,
                    -12.023245355820096,
                    -12.221598687174895,
                    -12.362637298288575,
                    -12.45212228653133,
                    -12.494861443290318,
                    -12.494934344471183,
                    -12.45585246000751,
                    -12.380676009270896,
                    -12.27210116108884,
                    -12.132526375540186,
                    -11.964103743972611,
                    -11.768779325133554,
                    -11.548325267820806,
                    -11.304365706554885,
                    -11.03839786976245,
                    -10.751809460388959,
                    -10.445893100777699,
                    -10.121858441252803,
                    -9.780842391726784,
                    -9.42391783223796,
                    -9.052101081053275,
                    -8.666358340581837,
                    -8.267611296758655,
                    -7.856742013183861,
                    -7.434597234564594,
                    -7.00199219303699,
                    -6.559713994375019,
                    -6.10852464790738,
                    -5.649163793405706,
                    -5.18235116970522,
                    -4.708788862939112,
                    -4.229163366677327,
                    -3.7441474817034197,
                    -3.2544020794410544,
                    -2.7605777499997393,
                    -2.263316353327135,
                    -1.763252489937754,
                    -1.2610149060614508,
                    -0.7572278467617368,
                    -0.2525123695697275,
                    0.2525123695697275,
                    0.7572278467617368,
                    1.2610149060614508,
                    1.763252489937754,
                    2.2633163533271308,
                    2.7605777499997393,
                    3.2544020794410544,
                    3.7441474817034197,
                    4.229163366677324,
                    4.708788862939112,
                    5.18235116970522,
                    5.649163793405706,
                    6.1085246479073785,
                    6.559713994375017,
                    7.00199219303699,
                    7.434597234564594,
                    7.8567420131838634,
                    8.267611296758654,
                    8.666358340581834,
                    9.052101081053275,
                    9.42391783223796,
                    9.780842391726782,
                    10.121858441252801,
                    10.445893100777699,
                    10.751809460388959,
                    11.038397869762449,
                    11.304365706554885,
                    11.548325267820806,
                    11.768779325133554,
                    11.964103743972611,
                    12.132526375540186,
                    12.27210116108884,
                    12.380676009270895,
                    12.45585246000751,
                    12.494934344471183,
                    12.494861443290318,
                    12.45212228653133,
                    12.362637298288577,
                    12.221598687174895,
                    12.023245355820096,
                    11.760536752692321,
                    11.424662970597483,
                    11.004276001818278,
                    10.484216177518016,
                    9.843250798859367,
                    9.049671312902932,
                    8.05153726970908,
                    6.750315714378595,
                    4.898739969652733,
                    0,
                    0,
                    -4.898739969652749,
                    -6.750315714378595,
                    -8.05153726970908,
                    -9.049671312902925,
                    -9.843250798859367,
                    -10.484216177518025,
                    -11.004276001818274,
                    -11.424662970597483,
                    -11.760536752692317,
                    -12.023245355820096,
                    -12.221598687174895,
                    -12.362637298288575,
                    -12.45212228653133,
                    -12.494861443290318,
                    -12.494934344471183,
                    -12.45585246000751,
                    -12.380676009270896,
                    -12.27210116108884,
                    -12.132526375540186,
                    -11.964103743972611,
                    -11.768779325133554,
                    -11.548325267820806,
                    -11.304365706554885,
                    -11.03839786976245,
                    -10.751809460388959,
                    -10.445893100777699,
                    -10.121858441252803,
                    -9.780842391726784,
                    -9.42391783223796,
                    -9.052101081053275,
                    -8.666358340581837,
                    -8.267611296758655,
                    -7.856742013183861,
                    -7.434597234564594,
                    -7.00199219303699,
                    -6.559713994375019,
                    -6.10852464790738,
                    -5.649163793405706,
                    -5.18235116970522,
                    -4.708788862939112,
                    -4.229163366677327,
                    -3.7441474817034197,
                    -3.2544020794410544,
                    -2.7605777499997393,
                    -2.263316353327135,
                    -1.763252489937754,
                    -1.2610149060614508,
                    -0.7572278467617368,
                    -0.2525123695697275,
                    0.2525123695697275,
                    0.7572278467617368,
                    1.2610149060614508,
                    1.763252489937754,
                    2.2633163533271308,
                    2.7605777499997393,
                    3.2544020794410544,
                    3.7441474817034197,
                    4.229163366677324,
                    4.708788862939112,
                    5.18235116970522,
                    5.649163793405706,
                    6.1085246479073785,
                    6.559713994375017,
                    7.00199219303699,
                    7.434597234564594,
                    7.8567420131838634,
                    8.267611296758654,
                    8.666358340581834,
                    9.052101081053275,
                    9.42391783223796,
                    9.780842391726782,
                    10.121858441252801,
                    10.445893100777699,
                    10.751809460388959,
                    11.038397869762449,
                    11.304365706554885,
                    11.548325267820806,
                    11.768779325133554,
                    11.964103743972611,
                    12.132526375540186,
                    12.27210116108884,
                    12.380676009270895,
                    12.45585246000751,
                    12.494934344471183,
                    12.494861443290318,
                    12.45212228653133,
                    12.362637298288577,
                    12.221598687174895,
                    12.023245355820096,
                    11.760536752692321,
                    11.424662970597483,
                    11.004276001818278,
                    10.484216177518016,
                    9.843250798859367,
                    9.049671312902932,
                    8.05153726970908,
                    6.750315714378595,
                    4.898739969652733,
                    0
                  ]
                }
              ],
              "layout": {
                "coloraxis": {
                  "colorbar": {
                    "title": {
                      "text": "Y"
                    }
                  },
                  "colorscale": [
                    [
                      0,
                      "#0d0887"
                    ],
                    [
                      0.1111111111111111,
                      "#46039f"
                    ],
                    [
                      0.2222222222222222,
                      "#7201a8"
                    ],
                    [
                      0.3333333333333333,
                      "#9c179e"
                    ],
                    [
                      0.4444444444444444,
                      "#bd3786"
                    ],
                    [
                      0.5555555555555556,
                      "#d8576b"
                    ],
                    [
                      0.6666666666666666,
                      "#ed7953"
                    ],
                    [
                      0.7777777777777778,
                      "#fb9f3a"
                    ],
                    [
                      0.8888888888888888,
                      "#fdca26"
                    ],
                    [
                      1,
                      "#f0f921"
                    ]
                  ]
                },
                "legend": {
                  "tracegroupgap": 0
                },
                "margin": {
                  "t": 60
                },
                "scene": {
                  "domain": {
                    "x": [
                      0,
                      1
                    ],
                    "y": [
                      0,
                      1
                    ]
                  },
                  "xaxis": {
                    "title": {
                      "text": "X1"
                    }
                  },
                  "yaxis": {
                    "title": {
                      "text": "X2"
                    }
                  },
                  "zaxis": {
                    "title": {
                      "text": "X1*X2"
                    }
                  }
                },
                "template": {
                  "data": {
                    "bar": [
                      {
                        "error_x": {
                          "color": "#2a3f5f"
                        },
                        "error_y": {
                          "color": "#2a3f5f"
                        },
                        "marker": {
                          "line": {
                            "color": "#E5ECF6",
                            "width": 0.5
                          },
                          "pattern": {
                            "fillmode": "overlay",
                            "size": 10,
                            "solidity": 0.2
                          }
                        },
                        "type": "bar"
                      }
                    ],
                    "barpolar": [
                      {
                        "marker": {
                          "line": {
                            "color": "#E5ECF6",
                            "width": 0.5
                          },
                          "pattern": {
                            "fillmode": "overlay",
                            "size": 10,
                            "solidity": 0.2
                          }
                        },
                        "type": "barpolar"
                      }
                    ],
                    "carpet": [
                      {
                        "aaxis": {
                          "endlinecolor": "#2a3f5f",
                          "gridcolor": "white",
                          "linecolor": "white",
                          "minorgridcolor": "white",
                          "startlinecolor": "#2a3f5f"
                        },
                        "baxis": {
                          "endlinecolor": "#2a3f5f",
                          "gridcolor": "white",
                          "linecolor": "white",
                          "minorgridcolor": "white",
                          "startlinecolor": "#2a3f5f"
                        },
                        "type": "carpet"
                      }
                    ],
                    "choropleth": [
                      {
                        "colorbar": {
                          "outlinewidth": 0,
                          "ticks": ""
                        },
                        "type": "choropleth"
                      }
                    ],
                    "contour": [
                      {
                        "colorbar": {
                          "outlinewidth": 0,
                          "ticks": ""
                        },
                        "colorscale": [
                          [
                            0,
                            "#0d0887"
                          ],
                          [
                            0.1111111111111111,
                            "#46039f"
                          ],
                          [
                            0.2222222222222222,
                            "#7201a8"
                          ],
                          [
                            0.3333333333333333,
                            "#9c179e"
                          ],
                          [
                            0.4444444444444444,
                            "#bd3786"
                          ],
                          [
                            0.5555555555555556,
                            "#d8576b"
                          ],
                          [
                            0.6666666666666666,
                            "#ed7953"
                          ],
                          [
                            0.7777777777777778,
                            "#fb9f3a"
                          ],
                          [
                            0.8888888888888888,
                            "#fdca26"
                          ],
                          [
                            1,
                            "#f0f921"
                          ]
                        ],
                        "type": "contour"
                      }
                    ],
                    "contourcarpet": [
                      {
                        "colorbar": {
                          "outlinewidth": 0,
                          "ticks": ""
                        },
                        "type": "contourcarpet"
                      }
                    ],
                    "heatmap": [
                      {
                        "colorbar": {
                          "outlinewidth": 0,
                          "ticks": ""
                        },
                        "colorscale": [
                          [
                            0,
                            "#0d0887"
                          ],
                          [
                            0.1111111111111111,
                            "#46039f"
                          ],
                          [
                            0.2222222222222222,
                            "#7201a8"
                          ],
                          [
                            0.3333333333333333,
                            "#9c179e"
                          ],
                          [
                            0.4444444444444444,
                            "#bd3786"
                          ],
                          [
                            0.5555555555555556,
                            "#d8576b"
                          ],
                          [
                            0.6666666666666666,
                            "#ed7953"
                          ],
                          [
                            0.7777777777777778,
                            "#fb9f3a"
                          ],
                          [
                            0.8888888888888888,
                            "#fdca26"
                          ],
                          [
                            1,
                            "#f0f921"
                          ]
                        ],
                        "type": "heatmap"
                      }
                    ],
                    "heatmapgl": [
                      {
                        "colorbar": {
                          "outlinewidth": 0,
                          "ticks": ""
                        },
                        "colorscale": [
                          [
                            0,
                            "#0d0887"
                          ],
                          [
                            0.1111111111111111,
                            "#46039f"
                          ],
                          [
                            0.2222222222222222,
                            "#7201a8"
                          ],
                          [
                            0.3333333333333333,
                            "#9c179e"
                          ],
                          [
                            0.4444444444444444,
                            "#bd3786"
                          ],
                          [
                            0.5555555555555556,
                            "#d8576b"
                          ],
                          [
                            0.6666666666666666,
                            "#ed7953"
                          ],
                          [
                            0.7777777777777778,
                            "#fb9f3a"
                          ],
                          [
                            0.8888888888888888,
                            "#fdca26"
                          ],
                          [
                            1,
                            "#f0f921"
                          ]
                        ],
                        "type": "heatmapgl"
                      }
                    ],
                    "histogram": [
                      {
                        "marker": {
                          "pattern": {
                            "fillmode": "overlay",
                            "size": 10,
                            "solidity": 0.2
                          }
                        },
                        "type": "histogram"
                      }
                    ],
                    "histogram2d": [
                      {
                        "colorbar": {
                          "outlinewidth": 0,
                          "ticks": ""
                        },
                        "colorscale": [
                          [
                            0,
                            "#0d0887"
                          ],
                          [
                            0.1111111111111111,
                            "#46039f"
                          ],
                          [
                            0.2222222222222222,
                            "#7201a8"
                          ],
                          [
                            0.3333333333333333,
                            "#9c179e"
                          ],
                          [
                            0.4444444444444444,
                            "#bd3786"
                          ],
                          [
                            0.5555555555555556,
                            "#d8576b"
                          ],
                          [
                            0.6666666666666666,
                            "#ed7953"
                          ],
                          [
                            0.7777777777777778,
                            "#fb9f3a"
                          ],
                          [
                            0.8888888888888888,
                            "#fdca26"
                          ],
                          [
                            1,
                            "#f0f921"
                          ]
                        ],
                        "type": "histogram2d"
                      }
                    ],
                    "histogram2dcontour": [
                      {
                        "colorbar": {
                          "outlinewidth": 0,
                          "ticks": ""
                        },
                        "colorscale": [
                          [
                            0,
                            "#0d0887"
                          ],
                          [
                            0.1111111111111111,
                            "#46039f"
                          ],
                          [
                            0.2222222222222222,
                            "#7201a8"
                          ],
                          [
                            0.3333333333333333,
                            "#9c179e"
                          ],
                          [
                            0.4444444444444444,
                            "#bd3786"
                          ],
                          [
                            0.5555555555555556,
                            "#d8576b"
                          ],
                          [
                            0.6666666666666666,
                            "#ed7953"
                          ],
                          [
                            0.7777777777777778,
                            "#fb9f3a"
                          ],
                          [
                            0.8888888888888888,
                            "#fdca26"
                          ],
                          [
                            1,
                            "#f0f921"
                          ]
                        ],
                        "type": "histogram2dcontour"
                      }
                    ],
                    "mesh3d": [
                      {
                        "colorbar": {
                          "outlinewidth": 0,
                          "ticks": ""
                        },
                        "type": "mesh3d"
                      }
                    ],
                    "parcoords": [
                      {
                        "line": {
                          "colorbar": {
                            "outlinewidth": 0,
                            "ticks": ""
                          }
                        },
                        "type": "parcoords"
                      }
                    ],
                    "pie": [
                      {
                        "automargin": true,
                        "type": "pie"
                      }
                    ],
                    "scatter": [
                      {
                        "marker": {
                          "colorbar": {
                            "outlinewidth": 0,
                            "ticks": ""
                          }
                        },
                        "type": "scatter"
                      }
                    ],
                    "scatter3d": [
                      {
                        "line": {
                          "colorbar": {
                            "outlinewidth": 0,
                            "ticks": ""
                          }
                        },
                        "marker": {
                          "colorbar": {
                            "outlinewidth": 0,
                            "ticks": ""
                          }
                        },
                        "type": "scatter3d"
                      }
                    ],
                    "scattercarpet": [
                      {
                        "marker": {
                          "colorbar": {
                            "outlinewidth": 0,
                            "ticks": ""
                          }
                        },
                        "type": "scattercarpet"
                      }
                    ],
                    "scattergeo": [
                      {
                        "marker": {
                          "colorbar": {
                            "outlinewidth": 0,
                            "ticks": ""
                          }
                        },
                        "type": "scattergeo"
                      }
                    ],
                    "scattergl": [
                      {
                        "marker": {
                          "colorbar": {
                            "outlinewidth": 0,
                            "ticks": ""
                          }
                        },
                        "type": "scattergl"
                      }
                    ],
                    "scattermapbox": [
                      {
                        "marker": {
                          "colorbar": {
                            "outlinewidth": 0,
                            "ticks": ""
                          }
                        },
                        "type": "scattermapbox"
                      }
                    ],
                    "scatterpolar": [
                      {
                        "marker": {
                          "colorbar": {
                            "outlinewidth": 0,
                            "ticks": ""
                          }
                        },
                        "type": "scatterpolar"
                      }
                    ],
                    "scatterpolargl": [
                      {
                        "marker": {
                          "colorbar": {
                            "outlinewidth": 0,
                            "ticks": ""
                          }
                        },
                        "type": "scatterpolargl"
                      }
                    ],
                    "scatterternary": [
                      {
                        "marker": {
                          "colorbar": {
                            "outlinewidth": 0,
                            "ticks": ""
                          }
                        },
                        "type": "scatterternary"
                      }
                    ],
                    "surface": [
                      {
                        "colorbar": {
                          "outlinewidth": 0,
                          "ticks": ""
                        },
                        "colorscale": [
                          [
                            0,
                            "#0d0887"
                          ],
                          [
                            0.1111111111111111,
                            "#46039f"
                          ],
                          [
                            0.2222222222222222,
                            "#7201a8"
                          ],
                          [
                            0.3333333333333333,
                            "#9c179e"
                          ],
                          [
                            0.4444444444444444,
                            "#bd3786"
                          ],
                          [
                            0.5555555555555556,
                            "#d8576b"
                          ],
                          [
                            0.6666666666666666,
                            "#ed7953"
                          ],
                          [
                            0.7777777777777778,
                            "#fb9f3a"
                          ],
                          [
                            0.8888888888888888,
                            "#fdca26"
                          ],
                          [
                            1,
                            "#f0f921"
                          ]
                        ],
                        "type": "surface"
                      }
                    ],
                    "table": [
                      {
                        "cells": {
                          "fill": {
                            "color": "#EBF0F8"
                          },
                          "line": {
                            "color": "white"
                          }
                        },
                        "header": {
                          "fill": {
                            "color": "#C8D4E3"
                          },
                          "line": {
                            "color": "white"
                          }
                        },
                        "type": "table"
                      }
                    ]
                  },
                  "layout": {
                    "annotationdefaults": {
                      "arrowcolor": "#2a3f5f",
                      "arrowhead": 0,
                      "arrowwidth": 1
                    },
                    "autotypenumbers": "strict",
                    "coloraxis": {
                      "colorbar": {
                        "outlinewidth": 0,
                        "ticks": ""
                      }
                    },
                    "colorscale": {
                      "diverging": [
                        [
                          0,
                          "#8e0152"
                        ],
                        [
                          0.1,
                          "#c51b7d"
                        ],
                        [
                          0.2,
                          "#de77ae"
                        ],
                        [
                          0.3,
                          "#f1b6da"
                        ],
                        [
                          0.4,
                          "#fde0ef"
                        ],
                        [
                          0.5,
                          "#f7f7f7"
                        ],
                        [
                          0.6,
                          "#e6f5d0"
                        ],
                        [
                          0.7,
                          "#b8e186"
                        ],
                        [
                          0.8,
                          "#7fbc41"
                        ],
                        [
                          0.9,
                          "#4d9221"
                        ],
                        [
                          1,
                          "#276419"
                        ]
                      ],
                      "sequential": [
                        [
                          0,
                          "#0d0887"
                        ],
                        [
                          0.1111111111111111,
                          "#46039f"
                        ],
                        [
                          0.2222222222222222,
                          "#7201a8"
                        ],
                        [
                          0.3333333333333333,
                          "#9c179e"
                        ],
                        [
                          0.4444444444444444,
                          "#bd3786"
                        ],
                        [
                          0.5555555555555556,
                          "#d8576b"
                        ],
                        [
                          0.6666666666666666,
                          "#ed7953"
                        ],
                        [
                          0.7777777777777778,
                          "#fb9f3a"
                        ],
                        [
                          0.8888888888888888,
                          "#fdca26"
                        ],
                        [
                          1,
                          "#f0f921"
                        ]
                      ],
                      "sequentialminus": [
                        [
                          0,
                          "#0d0887"
                        ],
                        [
                          0.1111111111111111,
                          "#46039f"
                        ],
                        [
                          0.2222222222222222,
                          "#7201a8"
                        ],
                        [
                          0.3333333333333333,
                          "#9c179e"
                        ],
                        [
                          0.4444444444444444,
                          "#bd3786"
                        ],
                        [
                          0.5555555555555556,
                          "#d8576b"
                        ],
                        [
                          0.6666666666666666,
                          "#ed7953"
                        ],
                        [
                          0.7777777777777778,
                          "#fb9f3a"
                        ],
                        [
                          0.8888888888888888,
                          "#fdca26"
                        ],
                        [
                          1,
                          "#f0f921"
                        ]
                      ]
                    },
                    "colorway": [
                      "#636efa",
                      "#EF553B",
                      "#00cc96",
                      "#ab63fa",
                      "#FFA15A",
                      "#19d3f3",
                      "#FF6692",
                      "#B6E880",
                      "#FF97FF",
                      "#FECB52"
                    ],
                    "font": {
                      "color": "#2a3f5f"
                    },
                    "geo": {
                      "bgcolor": "white",
                      "lakecolor": "white",
                      "landcolor": "#E5ECF6",
                      "showlakes": true,
                      "showland": true,
                      "subunitcolor": "white"
                    },
                    "hoverlabel": {
                      "align": "left"
                    },
                    "hovermode": "closest",
                    "mapbox": {
                      "style": "light"
                    },
                    "paper_bgcolor": "white",
                    "plot_bgcolor": "#E5ECF6",
                    "polar": {
                      "angularaxis": {
                        "gridcolor": "white",
                        "linecolor": "white",
                        "ticks": ""
                      },
                      "bgcolor": "#E5ECF6",
                      "radialaxis": {
                        "gridcolor": "white",
                        "linecolor": "white",
                        "ticks": ""
                      }
                    },
                    "scene": {
                      "xaxis": {
                        "backgroundcolor": "#E5ECF6",
                        "gridcolor": "white",
                        "gridwidth": 2,
                        "linecolor": "white",
                        "showbackground": true,
                        "ticks": "",
                        "zerolinecolor": "white"
                      },
                      "yaxis": {
                        "backgroundcolor": "#E5ECF6",
                        "gridcolor": "white",
                        "gridwidth": 2,
                        "linecolor": "white",
                        "showbackground": true,
                        "ticks": "",
                        "zerolinecolor": "white"
                      },
                      "zaxis": {
                        "backgroundcolor": "#E5ECF6",
                        "gridcolor": "white",
                        "gridwidth": 2,
                        "linecolor": "white",
                        "showbackground": true,
                        "ticks": "",
                        "zerolinecolor": "white"
                      }
                    },
                    "shapedefaults": {
                      "line": {
                        "color": "#2a3f5f"
                      }
                    },
                    "ternary": {
                      "aaxis": {
                        "gridcolor": "white",
                        "linecolor": "white",
                        "ticks": ""
                      },
                      "baxis": {
                        "gridcolor": "white",
                        "linecolor": "white",
                        "ticks": ""
                      },
                      "bgcolor": "#E5ECF6",
                      "caxis": {
                        "gridcolor": "white",
                        "linecolor": "white",
                        "ticks": ""
                      }
                    },
                    "title": {
                      "x": 0.05
                    },
                    "xaxis": {
                      "automargin": true,
                      "gridcolor": "white",
                      "linecolor": "white",
                      "ticks": "",
                      "title": {
                        "standoff": 15
                      },
                      "zerolinecolor": "white",
                      "zerolinewidth": 2
                    },
                    "yaxis": {
                      "automargin": true,
                      "gridcolor": "white",
                      "linecolor": "white",
                      "ticks": "",
                      "title": {
                        "standoff": 15
                      },
                      "zerolinecolor": "white",
                      "zerolinewidth": 2
                    }
                  }
                }
              }
            }
          },
          "metadata": {},
          "output_type": "display_data"
        }
      ],
      "source": [
        "import plotly.express as px\n",
        "fig = px.scatter_3d(df, x='X1', y='X2', z='X1*X2',  color='Y')\n",
        "fig.show()"
      ]
    },
    {
      "cell_type": "markdown",
      "metadata": {
        "id": "B_ydCmzlsRp3"
      },
      "source": [
        "Plot the X1_Square and X2_Square using plotly express"
      ]
    },
    {
      "cell_type": "code",
      "execution_count": 34,
      "metadata": {
        "colab": {
          "base_uri": "https://localhost:8080/",
          "height": 542
        },
        "id": "T3OCtCpls8S_",
        "outputId": "3a7d96d2-65e0-4877-8a80-e67fe895bc00"
      },
      "outputs": [
        {
          "data": {
            "application/vnd.plotly.v1+json": {
              "config": {
                "plotlyServerURL": "https://plot.ly"
              },
              "data": [
                {
                  "hovertemplate": "X1=%{x}<br>X2=%{y}<br>X1*X2=%{z}<br>Y=%{marker.color}<extra></extra>",
                  "legendgroup": "",
                  "marker": {
                    "color": [
                      0,
                      0,
                      0,
                      0,
                      0,
                      0,
                      0,
                      0,
                      0,
                      0,
                      0,
                      0,
                      0,
                      0,
                      0,
                      0,
                      0,
                      0,
                      0,
                      0,
                      0,
                      0,
                      0,
                      0,
                      0,
                      0,
                      0,
                      0,
                      0,
                      0,
                      0,
                      0,
                      0,
                      0,
                      0,
                      0,
                      0,
                      0,
                      0,
                      0,
                      0,
                      0,
                      0,
                      0,
                      0,
                      0,
                      0,
                      0,
                      0,
                      0,
                      0,
                      0,
                      0,
                      0,
                      0,
                      0,
                      0,
                      0,
                      0,
                      0,
                      0,
                      0,
                      0,
                      0,
                      0,
                      0,
                      0,
                      0,
                      0,
                      0,
                      0,
                      0,
                      0,
                      0,
                      0,
                      0,
                      0,
                      0,
                      0,
                      0,
                      0,
                      0,
                      0,
                      0,
                      0,
                      0,
                      0,
                      0,
                      0,
                      0,
                      0,
                      0,
                      0,
                      0,
                      0,
                      0,
                      0,
                      0,
                      0,
                      0,
                      0,
                      0,
                      0,
                      0,
                      0,
                      0,
                      0,
                      0,
                      0,
                      0,
                      0,
                      0,
                      0,
                      0,
                      0,
                      0,
                      0,
                      0,
                      0,
                      0,
                      0,
                      0,
                      0,
                      0,
                      0,
                      0,
                      0,
                      0,
                      0,
                      0,
                      0,
                      0,
                      0,
                      0,
                      0,
                      0,
                      0,
                      0,
                      0,
                      0,
                      0,
                      0,
                      0,
                      0,
                      0,
                      0,
                      0,
                      0,
                      0,
                      0,
                      0,
                      0,
                      0,
                      0,
                      0,
                      0,
                      0,
                      0,
                      0,
                      0,
                      0,
                      0,
                      0,
                      0,
                      0,
                      0,
                      0,
                      0,
                      0,
                      0,
                      0,
                      0,
                      0,
                      0,
                      0,
                      0,
                      0,
                      0,
                      0,
                      0,
                      0,
                      0,
                      0,
                      0,
                      0,
                      0,
                      0,
                      0,
                      0,
                      0,
                      0,
                      0,
                      0,
                      0,
                      0,
                      0,
                      0,
                      0,
                      0,
                      0,
                      1,
                      1,
                      1,
                      1,
                      1,
                      1,
                      1,
                      1,
                      1,
                      1,
                      1,
                      1,
                      1,
                      1,
                      1,
                      1,
                      1,
                      1,
                      1,
                      1,
                      1,
                      1,
                      1,
                      1,
                      1,
                      1,
                      1,
                      1,
                      1,
                      1,
                      1,
                      1,
                      1,
                      1,
                      1,
                      1,
                      1,
                      1,
                      1,
                      1,
                      1,
                      1,
                      1,
                      1,
                      1,
                      1,
                      1,
                      1,
                      1,
                      1,
                      1,
                      1,
                      1,
                      1,
                      1,
                      1,
                      1,
                      1,
                      1,
                      1,
                      1,
                      1,
                      1,
                      1,
                      1,
                      1,
                      1,
                      1,
                      1,
                      1,
                      1,
                      1,
                      1,
                      1,
                      1,
                      1,
                      1,
                      1,
                      1,
                      1,
                      1,
                      1,
                      1,
                      1,
                      1,
                      1,
                      1,
                      1,
                      1,
                      1,
                      1,
                      1,
                      1,
                      1,
                      1,
                      1,
                      1,
                      1,
                      1,
                      1,
                      1,
                      1,
                      1,
                      1,
                      1,
                      1,
                      1,
                      1,
                      1,
                      1,
                      1,
                      1,
                      1,
                      1,
                      1,
                      1,
                      1,
                      1,
                      1,
                      1,
                      1,
                      1,
                      1,
                      1,
                      1,
                      1,
                      1,
                      1,
                      1,
                      1,
                      1,
                      1,
                      1,
                      1,
                      1,
                      1,
                      1,
                      1,
                      1,
                      1,
                      1,
                      1,
                      1,
                      1,
                      1,
                      1,
                      1,
                      1,
                      1,
                      1,
                      1,
                      1,
                      1,
                      1,
                      1,
                      1,
                      1,
                      1,
                      1,
                      1,
                      1,
                      1,
                      1,
                      1,
                      1,
                      1,
                      1,
                      1,
                      1,
                      1,
                      1,
                      1,
                      1,
                      1,
                      1,
                      1,
                      1,
                      1,
                      1,
                      1,
                      1,
                      1,
                      1,
                      1,
                      1,
                      1,
                      1,
                      1,
                      1,
                      1,
                      1,
                      1,
                      1,
                      1,
                      1,
                      1,
                      1,
                      1,
                      1,
                      1
                    ],
                    "coloraxis": "coloraxis",
                    "symbol": "circle"
                  },
                  "mode": "markers",
                  "name": "",
                  "scene": "scene",
                  "showlegend": false,
                  "type": "scatter3d",
                  "x": [
                    -5,
                    -4.898989898989899,
                    -4.797979797979798,
                    -4.696969696969697,
                    -4.595959595959596,
                    -4.494949494949495,
                    -4.393939393939394,
                    -4.292929292929293,
                    -4.191919191919192,
                    -4.090909090909091,
                    -3.9898989898989896,
                    -3.888888888888889,
                    -3.787878787878788,
                    -3.686868686868687,
                    -3.5858585858585856,
                    -3.484848484848485,
                    -3.383838383838384,
                    -3.282828282828283,
                    -3.1818181818181817,
                    -3.080808080808081,
                    -2.9797979797979797,
                    -2.878787878787879,
                    -2.7777777777777777,
                    -2.676767676767677,
                    -2.5757575757575757,
                    -2.474747474747475,
                    -2.3737373737373737,
                    -2.272727272727273,
                    -2.1717171717171717,
                    -2.070707070707071,
                    -1.9696969696969697,
                    -1.868686868686869,
                    -1.7676767676767677,
                    -1.6666666666666665,
                    -1.5656565656565657,
                    -1.4646464646464645,
                    -1.3636363636363638,
                    -1.2626262626262625,
                    -1.1616161616161618,
                    -1.0606060606060606,
                    -0.9595959595959593,
                    -0.858585858585859,
                    -0.7575757575757578,
                    -0.6565656565656566,
                    -0.5555555555555554,
                    -0.45454545454545503,
                    -0.3535353535353538,
                    -0.2525252525252526,
                    -0.15151515151515138,
                    -0.050505050505050164,
                    0.050505050505050164,
                    0.15151515151515138,
                    0.2525252525252526,
                    0.3535353535353538,
                    0.45454545454545414,
                    0.5555555555555554,
                    0.6565656565656566,
                    0.7575757575757578,
                    0.8585858585858581,
                    0.9595959595959593,
                    1.0606060606060606,
                    1.1616161616161618,
                    1.262626262626262,
                    1.3636363636363633,
                    1.4646464646464645,
                    1.5656565656565657,
                    1.666666666666667,
                    1.7676767676767673,
                    1.8686868686868685,
                    1.9696969696969697,
                    2.070707070707071,
                    2.1717171717171713,
                    2.2727272727272725,
                    2.3737373737373737,
                    2.474747474747475,
                    2.5757575757575752,
                    2.6767676767676765,
                    2.7777777777777777,
                    2.878787878787879,
                    2.9797979797979792,
                    3.0808080808080813,
                    3.1818181818181817,
                    3.282828282828282,
                    3.383838383838384,
                    3.4848484848484844,
                    3.5858585858585865,
                    3.686868686868687,
                    3.787878787878787,
                    3.8888888888888893,
                    3.9898989898989896,
                    4.09090909090909,
                    4.191919191919192,
                    4.292929292929292,
                    4.3939393939393945,
                    4.494949494949495,
                    4.595959595959595,
                    4.696969696969697,
                    4.797979797979798,
                    4.8989898989899,
                    5,
                    -8.660254037844387,
                    -8.71779203523432,
                    -8.773789936975795,
                    -8.82827704967104,
                    -8.88128117966698,
                    -8.932828725429212,
                    -8.982944762291902,
                    -9.031653120326844,
                    -9.078976455989935,
                    -9.124936318129423,
                    -9.16955320887572,
                    -9.21284663987611,
                    -9.254835184288153,
                    -9.295536524902001,
                    -9.33496749872351,
                    -9.373144138316087,
                    -9.41008171016926,
                    -9.445794750335342,
                    -9.480297097551913,
                    -9.513601924046835,
                    -9.545721764203684,
                    -9.576668541248777,
                    -9.60645359210588,
                    -9.635087690551227,
                    -9.662581068789407,
                    -9.68894343755969,
                    -9.714184004872585,
                    -9.738311493467522,
                    -9.76133415707447,
                    -9.783259795555045,
                    -9.804095768991987,
                    -9.823849010789878,
                    -9.842526039844437,
                    -9.860132971832694,
                    -9.876675529671736,
                    -9.89215905318948,
                    -9.906588508046985,
                    -9.919968493948277,
                    -9.93230325217027,
                    -9.943596672442306,
                    -9.953852299201907,
                    -9.96307333725073,
                    -9.971262656832058,
                    -9.978422798148939,
                    -9.984555975339683,
                    -9.989664079925413,
                    -9.993748683742284,
                    -9.996811041368995,
                    -9.998852092058435,
                    -9.999872461180367,
                    -9.999872461180367,
                    -9.998852092058435,
                    -9.996811041368995,
                    -9.993748683742284,
                    -9.989664079925413,
                    -9.984555975339683,
                    -9.978422798148939,
                    -9.971262656832058,
                    -9.96307333725073,
                    -9.953852299201907,
                    -9.943596672442306,
                    -9.93230325217027,
                    -9.919968493948277,
                    -9.906588508046985,
                    -9.89215905318948,
                    -9.876675529671736,
                    -9.860132971832694,
                    -9.842526039844437,
                    -9.823849010789878,
                    -9.804095768991987,
                    -9.783259795555045,
                    -9.76133415707447,
                    -9.738311493467522,
                    -9.714184004872585,
                    -9.68894343755969,
                    -9.66258106878941,
                    -9.635087690551227,
                    -9.60645359210588,
                    -9.576668541248777,
                    -9.545721764203684,
                    -9.513601924046835,
                    -9.480297097551913,
                    -9.445794750335342,
                    -9.41008171016926,
                    -9.373144138316087,
                    -9.33496749872351,
                    -9.295536524902001,
                    -9.254835184288153,
                    -9.21284663987611,
                    -9.16955320887572,
                    -9.124936318129423,
                    -9.078976455989935,
                    -9.031653120326844,
                    -8.982944762291902,
                    -8.932828725429212,
                    -8.881281179666981,
                    -8.82827704967104,
                    -8.773789936975795,
                    -8.71779203523432,
                    -8.660254037844387,
                    0,
                    0.9999489834961283,
                    1.4069079067862758,
                    1.714198257421933,
                    1.9690493625876693,
                    2.1898468069372528,
                    2.386062992124792,
                    2.5633489980706097,
                    2.7254015279256647,
                    2.8747978728803445,
                    3.013420987914404,
                    3.1426968052735447,
                    3.263736246748184,
                    3.3774249489495936,
                    3.484482487002089,
                    3.5855028988482522,
                    3.6809832643007265,
                    3.771344384362519,
                    3.85694607919935,
                    3.938098725175339,
                    4.015072103909453,
                    4.0881022918884975,
                    4.15739709641549,
                    4.2231403960337115,
                    4.2854956435548335,
                    4.3446087207285995,
                    4.400610285008478,
                    4.453617714151233,
                    4.5037367292137285,
                    4.5510627580076,
                    4.59568208730397,
                    4.637672841716766,
                    4.677105819309182,
                    4.714045207910317,
                    4.748549201431579,
                    4.78067053179767,
                    4.810456929208347,
                    4.837951521142646,
                    4.863193178670999,
                    4.886216817150636,
                    4.907053657168129,
                    4.92573145060065,
                    4.9422746758485125,
                    4.956704705610221,
                    4.969039949999533,
                    4.979295977319692,
                    4.987485614395357,
                    4.9936190280033435,
                    4.997703788627468,
                    4.999744917480639,
                    4.999744917480639,
                    4.997703788627468,
                    4.9936190280033435,
                    4.987485614395357,
                    4.979295977319692,
                    4.969039949999533,
                    4.956704705610221,
                    4.9422746758485125,
                    4.92573145060065,
                    4.907053657168129,
                    4.886216817150636,
                    4.863193178670999,
                    4.837951521142646,
                    4.810456929208347,
                    4.78067053179767,
                    4.748549201431579,
                    4.714045207910317,
                    4.677105819309182,
                    4.637672841716766,
                    4.59568208730397,
                    4.5510627580076,
                    4.5037367292137285,
                    4.453617714151233,
                    4.400610285008478,
                    4.3446087207285995,
                    4.2854956435548335,
                    4.223140396033712,
                    4.15739709641549,
                    4.0881022918884975,
                    4.0150721039094535,
                    3.9380987251753385,
                    3.85694607919935,
                    3.7713443843625196,
                    3.6809832643007265,
                    3.5855028988482527,
                    3.4844824870020883,
                    3.3774249489495936,
                    3.263736246748185,
                    3.1426968052735442,
                    3.013420987914404,
                    2.874797872880346,
                    2.7254015279256647,
                    2.563348998070611,
                    2.38606299212479,
                    2.1898468069372528,
                    1.9690493625876713,
                    1.714198257421933,
                    1.4069079067862758,
                    0.9999489834961247,
                    0,
                    0,
                    -0.9999489834961283,
                    -1.4069079067862758,
                    -1.714198257421933,
                    -1.9690493625876693,
                    -2.1898468069372528,
                    -2.386062992124792,
                    -2.5633489980706097,
                    -2.7254015279256647,
                    -2.8747978728803445,
                    -3.013420987914404,
                    -3.1426968052735447,
                    -3.263736246748184,
                    -3.3774249489495936,
                    -3.484482487002089,
                    -3.5855028988482522,
                    -3.6809832643007265,
                    -3.771344384362519,
                    -3.85694607919935,
                    -3.938098725175339,
                    -4.015072103909453,
                    -4.0881022918884975,
                    -4.15739709641549,
                    -4.2231403960337115,
                    -4.2854956435548335,
                    -4.3446087207285995,
                    -4.400610285008478,
                    -4.453617714151233,
                    -4.5037367292137285,
                    -4.5510627580076,
                    -4.59568208730397,
                    -4.637672841716766,
                    -4.677105819309182,
                    -4.714045207910317,
                    -4.748549201431579,
                    -4.78067053179767,
                    -4.810456929208347,
                    -4.837951521142646,
                    -4.863193178670999,
                    -4.886216817150636,
                    -4.907053657168129,
                    -4.92573145060065,
                    -4.9422746758485125,
                    -4.956704705610221,
                    -4.969039949999533,
                    -4.979295977319692,
                    -4.987485614395357,
                    -4.9936190280033435,
                    -4.997703788627468,
                    -4.999744917480639,
                    -4.999744917480639,
                    -4.997703788627468,
                    -4.9936190280033435,
                    -4.987485614395357,
                    -4.979295977319692,
                    -4.969039949999533,
                    -4.956704705610221,
                    -4.9422746758485125,
                    -4.92573145060065,
                    -4.907053657168129,
                    -4.886216817150636,
                    -4.863193178670999,
                    -4.837951521142646,
                    -4.810456929208347,
                    -4.78067053179767,
                    -4.748549201431579,
                    -4.714045207910317,
                    -4.677105819309182,
                    -4.637672841716766,
                    -4.59568208730397,
                    -4.5510627580076,
                    -4.5037367292137285,
                    -4.453617714151233,
                    -4.400610285008478,
                    -4.3446087207285995,
                    -4.2854956435548335,
                    -4.223140396033712,
                    -4.15739709641549,
                    -4.0881022918884975,
                    -4.0150721039094535,
                    -3.9380987251753385,
                    -3.85694607919935,
                    -3.7713443843625196,
                    -3.6809832643007265,
                    -3.5855028988482527,
                    -3.4844824870020883,
                    -3.3774249489495936,
                    -3.263736246748185,
                    -3.1426968052735442,
                    -3.013420987914404,
                    -2.874797872880346,
                    -2.7254015279256647,
                    -2.563348998070611,
                    -2.38606299212479,
                    -2.1898468069372528,
                    -1.9690493625876713,
                    -1.714198257421933,
                    -1.4069079067862758,
                    -0.9999489834961247,
                    0
                  ],
                  "y": [
                    -5,
                    -4.898989898989899,
                    -4.797979797979798,
                    -4.696969696969697,
                    -4.595959595959596,
                    -4.494949494949495,
                    -4.393939393939394,
                    -4.292929292929293,
                    -4.191919191919192,
                    -4.090909090909091,
                    -3.9898989898989896,
                    -3.888888888888889,
                    -3.787878787878788,
                    -3.686868686868687,
                    -3.5858585858585856,
                    -3.484848484848485,
                    -3.383838383838384,
                    -3.282828282828283,
                    -3.1818181818181817,
                    -3.080808080808081,
                    -2.9797979797979797,
                    -2.878787878787879,
                    -2.7777777777777777,
                    -2.676767676767677,
                    -2.5757575757575757,
                    -2.474747474747475,
                    -2.3737373737373737,
                    -2.272727272727273,
                    -2.1717171717171717,
                    -2.070707070707071,
                    -1.9696969696969697,
                    -1.868686868686869,
                    -1.7676767676767677,
                    -1.6666666666666665,
                    -1.5656565656565657,
                    -1.4646464646464645,
                    -1.3636363636363638,
                    -1.2626262626262625,
                    -1.1616161616161618,
                    -1.0606060606060606,
                    -0.9595959595959593,
                    -0.858585858585859,
                    -0.7575757575757578,
                    -0.6565656565656566,
                    -0.5555555555555554,
                    -0.45454545454545503,
                    -0.3535353535353538,
                    -0.2525252525252526,
                    -0.15151515151515138,
                    -0.050505050505050164,
                    0.050505050505050164,
                    0.15151515151515138,
                    0.2525252525252526,
                    0.3535353535353538,
                    0.45454545454545414,
                    0.5555555555555554,
                    0.6565656565656566,
                    0.7575757575757578,
                    0.8585858585858581,
                    0.9595959595959593,
                    1.0606060606060606,
                    1.1616161616161618,
                    1.262626262626262,
                    1.3636363636363633,
                    1.4646464646464645,
                    1.5656565656565657,
                    1.666666666666667,
                    1.7676767676767673,
                    1.8686868686868685,
                    1.9696969696969697,
                    2.070707070707071,
                    2.1717171717171713,
                    2.2727272727272725,
                    2.3737373737373737,
                    2.474747474747475,
                    2.5757575757575752,
                    2.6767676767676765,
                    2.7777777777777777,
                    2.878787878787879,
                    2.9797979797979792,
                    3.0808080808080813,
                    3.1818181818181817,
                    3.282828282828282,
                    3.383838383838384,
                    3.4848484848484844,
                    3.5858585858585865,
                    3.686868686868687,
                    3.787878787878787,
                    3.8888888888888893,
                    3.9898989898989896,
                    4.09090909090909,
                    4.191919191919192,
                    4.292929292929292,
                    4.3939393939393945,
                    4.494949494949495,
                    4.595959595959595,
                    4.696969696969697,
                    4.797979797979798,
                    4.8989898989899,
                    5,
                    5,
                    4.898989898989899,
                    4.797979797979798,
                    4.696969696969697,
                    4.595959595959596,
                    4.494949494949495,
                    4.393939393939394,
                    4.292929292929293,
                    4.191919191919192,
                    4.090909090909091,
                    3.9898989898989896,
                    3.888888888888889,
                    3.787878787878788,
                    3.686868686868687,
                    3.5858585858585856,
                    3.484848484848485,
                    3.383838383838384,
                    3.282828282828283,
                    3.1818181818181817,
                    3.080808080808081,
                    2.9797979797979797,
                    2.878787878787879,
                    2.7777777777777777,
                    2.676767676767677,
                    2.5757575757575757,
                    2.474747474747475,
                    2.3737373737373737,
                    2.272727272727273,
                    2.1717171717171717,
                    2.070707070707071,
                    1.9696969696969697,
                    1.868686868686869,
                    1.7676767676767677,
                    1.6666666666666665,
                    1.5656565656565657,
                    1.4646464646464645,
                    1.3636363636363638,
                    1.2626262626262625,
                    1.1616161616161618,
                    1.0606060606060606,
                    0.9595959595959593,
                    0.858585858585859,
                    0.7575757575757578,
                    0.6565656565656566,
                    0.5555555555555554,
                    0.45454545454545503,
                    0.3535353535353538,
                    0.2525252525252526,
                    0.15151515151515138,
                    0.050505050505050164,
                    -0.050505050505050164,
                    -0.15151515151515138,
                    -0.2525252525252526,
                    -0.3535353535353538,
                    -0.45454545454545414,
                    -0.5555555555555554,
                    -0.6565656565656566,
                    -0.7575757575757578,
                    -0.8585858585858581,
                    -0.9595959595959593,
                    -1.0606060606060606,
                    -1.1616161616161618,
                    -1.262626262626262,
                    -1.3636363636363633,
                    -1.4646464646464645,
                    -1.5656565656565657,
                    -1.666666666666667,
                    -1.7676767676767673,
                    -1.8686868686868685,
                    -1.9696969696969697,
                    -2.070707070707071,
                    -2.1717171717171713,
                    -2.2727272727272725,
                    -2.3737373737373737,
                    -2.474747474747475,
                    -2.5757575757575752,
                    -2.6767676767676765,
                    -2.7777777777777777,
                    -2.878787878787879,
                    -2.9797979797979792,
                    -3.0808080808080813,
                    -3.1818181818181817,
                    -3.282828282828282,
                    -3.383838383838384,
                    -3.4848484848484844,
                    -3.5858585858585865,
                    -3.686868686868687,
                    -3.787878787878787,
                    -3.8888888888888893,
                    -3.9898989898989896,
                    -4.09090909090909,
                    -4.191919191919192,
                    -4.292929292929292,
                    -4.3939393939393945,
                    -4.494949494949495,
                    -4.595959595959595,
                    -4.696969696969697,
                    -4.797979797979798,
                    -4.8989898989899,
                    -5,
                    -5,
                    -4.898989898989899,
                    -4.797979797979798,
                    -4.696969696969697,
                    -4.595959595959596,
                    -4.494949494949495,
                    -4.393939393939394,
                    -4.292929292929293,
                    -4.191919191919192,
                    -4.090909090909091,
                    -3.9898989898989896,
                    -3.888888888888889,
                    -3.787878787878788,
                    -3.686868686868687,
                    -3.5858585858585856,
                    -3.484848484848485,
                    -3.383838383838384,
                    -3.282828282828283,
                    -3.1818181818181817,
                    -3.080808080808081,
                    -2.9797979797979797,
                    -2.878787878787879,
                    -2.7777777777777777,
                    -2.676767676767677,
                    -2.5757575757575757,
                    -2.474747474747475,
                    -2.3737373737373737,
                    -2.272727272727273,
                    -2.1717171717171717,
                    -2.070707070707071,
                    -1.9696969696969697,
                    -1.868686868686869,
                    -1.7676767676767677,
                    -1.6666666666666665,
                    -1.5656565656565657,
                    -1.4646464646464645,
                    -1.3636363636363638,
                    -1.2626262626262625,
                    -1.1616161616161618,
                    -1.0606060606060606,
                    -0.9595959595959593,
                    -0.858585858585859,
                    -0.7575757575757578,
                    -0.6565656565656566,
                    -0.5555555555555554,
                    -0.45454545454545503,
                    -0.3535353535353538,
                    -0.2525252525252526,
                    -0.15151515151515138,
                    -0.050505050505050164,
                    0.050505050505050164,
                    0.15151515151515138,
                    0.2525252525252526,
                    0.3535353535353538,
                    0.45454545454545414,
                    0.5555555555555554,
                    0.6565656565656566,
                    0.7575757575757578,
                    0.8585858585858581,
                    0.9595959595959593,
                    1.0606060606060606,
                    1.1616161616161618,
                    1.262626262626262,
                    1.3636363636363633,
                    1.4646464646464645,
                    1.5656565656565657,
                    1.666666666666667,
                    1.7676767676767673,
                    1.8686868686868685,
                    1.9696969696969697,
                    2.070707070707071,
                    2.1717171717171713,
                    2.2727272727272725,
                    2.3737373737373737,
                    2.474747474747475,
                    2.5757575757575752,
                    2.6767676767676765,
                    2.7777777777777777,
                    2.878787878787879,
                    2.9797979797979792,
                    3.0808080808080813,
                    3.1818181818181817,
                    3.282828282828282,
                    3.383838383838384,
                    3.4848484848484844,
                    3.5858585858585865,
                    3.686868686868687,
                    3.787878787878787,
                    3.8888888888888893,
                    3.9898989898989896,
                    4.09090909090909,
                    4.191919191919192,
                    4.292929292929292,
                    4.3939393939393945,
                    4.494949494949495,
                    4.595959595959595,
                    4.696969696969697,
                    4.797979797979798,
                    4.8989898989899,
                    5,
                    5,
                    4.898989898989899,
                    4.797979797979798,
                    4.696969696969697,
                    4.595959595959596,
                    4.494949494949495,
                    4.393939393939394,
                    4.292929292929293,
                    4.191919191919192,
                    4.090909090909091,
                    3.9898989898989896,
                    3.888888888888889,
                    3.787878787878788,
                    3.686868686868687,
                    3.5858585858585856,
                    3.484848484848485,
                    3.383838383838384,
                    3.282828282828283,
                    3.1818181818181817,
                    3.080808080808081,
                    2.9797979797979797,
                    2.878787878787879,
                    2.7777777777777777,
                    2.676767676767677,
                    2.5757575757575757,
                    2.474747474747475,
                    2.3737373737373737,
                    2.272727272727273,
                    2.1717171717171717,
                    2.070707070707071,
                    1.9696969696969697,
                    1.868686868686869,
                    1.7676767676767677,
                    1.6666666666666665,
                    1.5656565656565657,
                    1.4646464646464645,
                    1.3636363636363638,
                    1.2626262626262625,
                    1.1616161616161618,
                    1.0606060606060606,
                    0.9595959595959593,
                    0.858585858585859,
                    0.7575757575757578,
                    0.6565656565656566,
                    0.5555555555555554,
                    0.45454545454545503,
                    0.3535353535353538,
                    0.2525252525252526,
                    0.15151515151515138,
                    0.050505050505050164,
                    -0.050505050505050164,
                    -0.15151515151515138,
                    -0.2525252525252526,
                    -0.3535353535353538,
                    -0.45454545454545414,
                    -0.5555555555555554,
                    -0.6565656565656566,
                    -0.7575757575757578,
                    -0.8585858585858581,
                    -0.9595959595959593,
                    -1.0606060606060606,
                    -1.1616161616161618,
                    -1.262626262626262,
                    -1.3636363636363633,
                    -1.4646464646464645,
                    -1.5656565656565657,
                    -1.666666666666667,
                    -1.7676767676767673,
                    -1.8686868686868685,
                    -1.9696969696969697,
                    -2.070707070707071,
                    -2.1717171717171713,
                    -2.2727272727272725,
                    -2.3737373737373737,
                    -2.474747474747475,
                    -2.5757575757575752,
                    -2.6767676767676765,
                    -2.7777777777777777,
                    -2.878787878787879,
                    -2.9797979797979792,
                    -3.0808080808080813,
                    -3.1818181818181817,
                    -3.282828282828282,
                    -3.383838383838384,
                    -3.4848484848484844,
                    -3.5858585858585865,
                    -3.686868686868687,
                    -3.787878787878787,
                    -3.8888888888888893,
                    -3.9898989898989896,
                    -4.09090909090909,
                    -4.191919191919192,
                    -4.292929292929292,
                    -4.3939393939393945,
                    -4.494949494949495,
                    -4.595959595959595,
                    -4.696969696969697,
                    -4.797979797979798,
                    -4.8989898989899,
                    -5
                  ],
                  "z": [
                    25,
                    24.00010203040506,
                    23.02061014182226,
                    22.061524334251608,
                    21.122844607693093,
                    20.204570962146718,
                    19.306703397612484,
                    18.4292419140904,
                    17.57218651158045,
                    16.735537190082646,
                    15.919293949596977,
                    15.123456790123456,
                    14.348025711662077,
                    13.593000714212835,
                    12.858381797775735,
                    12.144168962350781,
                    11.450362207937967,
                    10.776961534537293,
                    10.12396694214876,
                    9.49137843077237,
                    8.87919600040812,
                    8.287419651056016,
                    7.716049382716049,
                    7.165085195388227,
                    6.634527089072543,
                    6.124375063769004,
                    5.634629119477604,
                    5.165289256198348,
                    4.716355473931231,
                    4.287827772676258,
                    3.879706152433425,
                    3.491990613202735,
                    3.1246811549841853,
                    2.7777777777777772,
                    2.4512804815835123,
                    2.1451892664013874,
                    1.8595041322314052,
                    1.5942250790735637,
                    1.349352106927865,
                    1.1248852157943066,
                    0.92082440567289,
                    0.7371696765636166,
                    0.5739210284664833,
                    0.4310784613814917,
                    0.30864197530864174,
                    0.20661157024793433,
                    0.1249872461993676,
                    0.0637690031629426,
                    0.02295684113865928,
                    0.002550760126517668,
                    0.002550760126517668,
                    0.02295684113865928,
                    0.0637690031629426,
                    0.1249872461993676,
                    0.20661157024793353,
                    0.30864197530864174,
                    0.4310784613814917,
                    0.5739210284664833,
                    0.7371696765636152,
                    0.92082440567289,
                    1.1248852157943066,
                    1.349352106927865,
                    1.5942250790735626,
                    1.859504132231404,
                    2.1451892664013874,
                    2.4512804815835123,
                    2.7777777777777786,
                    3.124681154984184,
                    3.491990613202734,
                    3.879706152433425,
                    4.287827772676258,
                    4.7163554739312294,
                    5.165289256198346,
                    5.634629119477604,
                    6.124375063769004,
                    6.634527089072541,
                    7.165085195388224,
                    7.716049382716049,
                    8.287419651056016,
                    8.879196000408118,
                    9.491378430772373,
                    10.12396694214876,
                    10.776961534537287,
                    11.450362207937967,
                    12.144168962350777,
                    12.858381797775742,
                    13.593000714212835,
                    14.34802571166207,
                    15.12345679012346,
                    15.919293949596977,
                    16.73553719008264,
                    17.57218651158045,
                    18.429241914090394,
                    19.306703397612495,
                    20.204570962146718,
                    21.122844607693086,
                    22.061524334251608,
                    23.02061014182226,
                    24.000102030405067,
                    25,
                    -43.30127018922194,
                    -42.708375122107526,
                    -42.09646686932831,
                    -41.466149778757924,
                    -40.81800946210581,
                    -40.15261396783838,
                    -39.47051486461593,
                    -38.77224824382736,
                    -38.05833564884669,
                    -37.329284937802186,
                    -36.585591085918274,
                    -35.827736932851536,
                    -35.056193879879366,
                    -34.271422541305355,
                    -33.47387335400854,
                    -32.66398714867727,
                    -31.84219568592629,
                    -31.00892216019178,
                    -30.164581674028813,
                    -29.309581685194797,
                    -28.444322428687745,
                    -27.569197315716178,
                    -26.68459331140522,
                    -25.79089129288965,
                    -24.88846638930605,
                    -23.97768830507196,
                    -23.058921627727855,
                    -22.1325261215171,
                    -21.198857007787993,
                    -20.258265233220044,
                    -19.311097726802398,
                    -18.35769764642553,
                    -17.39840461588663,
                    -16.43355495305449,
                    -15.463481889890094,
                    -14.48851578497449,
                    -13.50898432915498,
                    -12.525212744884188,
                    -11.537523979793749,
                    -10.546238895014566,
                    -9.5516764487291,
                    -8.554153875417297,
                    -7.55398686123641,
                    -6.551489715956374,
                    -5.546975541855377,
                    -4.540756399966102,
                    -3.533143474050305,
                    -2.5244472326689387,
                    -1.5149775897058222,
                    -0.5050440636959747,
                    0.5050440636959747,
                    1.5149775897058222,
                    2.5244472326689387,
                    3.533143474050305,
                    4.540756399966093,
                    5.546975541855377,
                    6.551489715956374,
                    7.55398686123641,
                    8.554153875417288,
                    9.5516764487291,
                    10.546238895014566,
                    11.537523979793749,
                    12.525212744884183,
                    13.508984329154977,
                    14.48851578497449,
                    15.463481889890094,
                    16.433554953054493,
                    17.398404615886626,
                    18.357697646425528,
                    19.311097726802398,
                    20.258265233220044,
                    21.198857007787986,
                    22.132526121517095,
                    23.058921627727855,
                    23.97768830507196,
                    24.88846638930605,
                    25.790891292889647,
                    26.68459331140522,
                    27.569197315716178,
                    28.444322428687737,
                    29.3095816851948,
                    30.164581674028813,
                    31.00892216019177,
                    31.84219568592629,
                    32.66398714867727,
                    33.47387335400855,
                    34.271422541305355,
                    35.05619387987936,
                    35.82773693285154,
                    36.585591085918274,
                    37.32928493780218,
                    38.05833564884669,
                    38.772248243827356,
                    39.470514864615936,
                    40.15261396783838,
                    40.81800946210581,
                    41.466149778757924,
                    42.09646686932831,
                    42.70837512210753,
                    43.30127018922194,
                    0,
                    -4.898739969652749,
                    -6.750315714378595,
                    -8.05153726970908,
                    -9.049671312902925,
                    -9.843250798859367,
                    -10.484216177518025,
                    -11.004276001818274,
                    -11.424662970597483,
                    -11.760536752692317,
                    -12.023245355820096,
                    -12.221598687174895,
                    -12.362637298288575,
                    -12.45212228653133,
                    -12.494861443290318,
                    -12.494934344471183,
                    -12.45585246000751,
                    -12.380676009270896,
                    -12.27210116108884,
                    -12.132526375540186,
                    -11.964103743972611,
                    -11.768779325133554,
                    -11.548325267820806,
                    -11.304365706554885,
                    -11.03839786976245,
                    -10.751809460388959,
                    -10.445893100777699,
                    -10.121858441252803,
                    -9.780842391726784,
                    -9.42391783223796,
                    -9.052101081053275,
                    -8.666358340581837,
                    -8.267611296758655,
                    -7.856742013183861,
                    -7.434597234564594,
                    -7.00199219303699,
                    -6.559713994375019,
                    -6.10852464790738,
                    -5.649163793405706,
                    -5.18235116970522,
                    -4.708788862939112,
                    -4.229163366677327,
                    -3.7441474817034197,
                    -3.2544020794410544,
                    -2.7605777499997393,
                    -2.263316353327135,
                    -1.763252489937754,
                    -1.2610149060614508,
                    -0.7572278467617368,
                    -0.2525123695697275,
                    0.2525123695697275,
                    0.7572278467617368,
                    1.2610149060614508,
                    1.763252489937754,
                    2.2633163533271308,
                    2.7605777499997393,
                    3.2544020794410544,
                    3.7441474817034197,
                    4.229163366677324,
                    4.708788862939112,
                    5.18235116970522,
                    5.649163793405706,
                    6.1085246479073785,
                    6.559713994375017,
                    7.00199219303699,
                    7.434597234564594,
                    7.8567420131838634,
                    8.267611296758654,
                    8.666358340581834,
                    9.052101081053275,
                    9.42391783223796,
                    9.780842391726782,
                    10.121858441252801,
                    10.445893100777699,
                    10.751809460388959,
                    11.038397869762449,
                    11.304365706554885,
                    11.548325267820806,
                    11.768779325133554,
                    11.964103743972611,
                    12.132526375540186,
                    12.27210116108884,
                    12.380676009270895,
                    12.45585246000751,
                    12.494934344471183,
                    12.494861443290318,
                    12.45212228653133,
                    12.362637298288577,
                    12.221598687174895,
                    12.023245355820096,
                    11.760536752692321,
                    11.424662970597483,
                    11.004276001818278,
                    10.484216177518016,
                    9.843250798859367,
                    9.049671312902932,
                    8.05153726970908,
                    6.750315714378595,
                    4.898739969652733,
                    0,
                    0,
                    -4.898739969652749,
                    -6.750315714378595,
                    -8.05153726970908,
                    -9.049671312902925,
                    -9.843250798859367,
                    -10.484216177518025,
                    -11.004276001818274,
                    -11.424662970597483,
                    -11.760536752692317,
                    -12.023245355820096,
                    -12.221598687174895,
                    -12.362637298288575,
                    -12.45212228653133,
                    -12.494861443290318,
                    -12.494934344471183,
                    -12.45585246000751,
                    -12.380676009270896,
                    -12.27210116108884,
                    -12.132526375540186,
                    -11.964103743972611,
                    -11.768779325133554,
                    -11.548325267820806,
                    -11.304365706554885,
                    -11.03839786976245,
                    -10.751809460388959,
                    -10.445893100777699,
                    -10.121858441252803,
                    -9.780842391726784,
                    -9.42391783223796,
                    -9.052101081053275,
                    -8.666358340581837,
                    -8.267611296758655,
                    -7.856742013183861,
                    -7.434597234564594,
                    -7.00199219303699,
                    -6.559713994375019,
                    -6.10852464790738,
                    -5.649163793405706,
                    -5.18235116970522,
                    -4.708788862939112,
                    -4.229163366677327,
                    -3.7441474817034197,
                    -3.2544020794410544,
                    -2.7605777499997393,
                    -2.263316353327135,
                    -1.763252489937754,
                    -1.2610149060614508,
                    -0.7572278467617368,
                    -0.2525123695697275,
                    0.2525123695697275,
                    0.7572278467617368,
                    1.2610149060614508,
                    1.763252489937754,
                    2.2633163533271308,
                    2.7605777499997393,
                    3.2544020794410544,
                    3.7441474817034197,
                    4.229163366677324,
                    4.708788862939112,
                    5.18235116970522,
                    5.649163793405706,
                    6.1085246479073785,
                    6.559713994375017,
                    7.00199219303699,
                    7.434597234564594,
                    7.8567420131838634,
                    8.267611296758654,
                    8.666358340581834,
                    9.052101081053275,
                    9.42391783223796,
                    9.780842391726782,
                    10.121858441252801,
                    10.445893100777699,
                    10.751809460388959,
                    11.038397869762449,
                    11.304365706554885,
                    11.548325267820806,
                    11.768779325133554,
                    11.964103743972611,
                    12.132526375540186,
                    12.27210116108884,
                    12.380676009270895,
                    12.45585246000751,
                    12.494934344471183,
                    12.494861443290318,
                    12.45212228653133,
                    12.362637298288577,
                    12.221598687174895,
                    12.023245355820096,
                    11.760536752692321,
                    11.424662970597483,
                    11.004276001818278,
                    10.484216177518016,
                    9.843250798859367,
                    9.049671312902932,
                    8.05153726970908,
                    6.750315714378595,
                    4.898739969652733,
                    0
                  ]
                }
              ],
              "layout": {
                "coloraxis": {
                  "colorbar": {
                    "title": {
                      "text": "Y"
                    }
                  },
                  "colorscale": [
                    [
                      0,
                      "#0d0887"
                    ],
                    [
                      0.1111111111111111,
                      "#46039f"
                    ],
                    [
                      0.2222222222222222,
                      "#7201a8"
                    ],
                    [
                      0.3333333333333333,
                      "#9c179e"
                    ],
                    [
                      0.4444444444444444,
                      "#bd3786"
                    ],
                    [
                      0.5555555555555556,
                      "#d8576b"
                    ],
                    [
                      0.6666666666666666,
                      "#ed7953"
                    ],
                    [
                      0.7777777777777778,
                      "#fb9f3a"
                    ],
                    [
                      0.8888888888888888,
                      "#fdca26"
                    ],
                    [
                      1,
                      "#f0f921"
                    ]
                  ]
                },
                "legend": {
                  "tracegroupgap": 0
                },
                "margin": {
                  "t": 60
                },
                "scene": {
                  "domain": {
                    "x": [
                      0,
                      1
                    ],
                    "y": [
                      0,
                      1
                    ]
                  },
                  "xaxis": {
                    "title": {
                      "text": "X1"
                    }
                  },
                  "yaxis": {
                    "title": {
                      "text": "X2"
                    }
                  },
                  "zaxis": {
                    "title": {
                      "text": "X1*X2"
                    }
                  }
                },
                "template": {
                  "data": {
                    "bar": [
                      {
                        "error_x": {
                          "color": "#2a3f5f"
                        },
                        "error_y": {
                          "color": "#2a3f5f"
                        },
                        "marker": {
                          "line": {
                            "color": "#E5ECF6",
                            "width": 0.5
                          },
                          "pattern": {
                            "fillmode": "overlay",
                            "size": 10,
                            "solidity": 0.2
                          }
                        },
                        "type": "bar"
                      }
                    ],
                    "barpolar": [
                      {
                        "marker": {
                          "line": {
                            "color": "#E5ECF6",
                            "width": 0.5
                          },
                          "pattern": {
                            "fillmode": "overlay",
                            "size": 10,
                            "solidity": 0.2
                          }
                        },
                        "type": "barpolar"
                      }
                    ],
                    "carpet": [
                      {
                        "aaxis": {
                          "endlinecolor": "#2a3f5f",
                          "gridcolor": "white",
                          "linecolor": "white",
                          "minorgridcolor": "white",
                          "startlinecolor": "#2a3f5f"
                        },
                        "baxis": {
                          "endlinecolor": "#2a3f5f",
                          "gridcolor": "white",
                          "linecolor": "white",
                          "minorgridcolor": "white",
                          "startlinecolor": "#2a3f5f"
                        },
                        "type": "carpet"
                      }
                    ],
                    "choropleth": [
                      {
                        "colorbar": {
                          "outlinewidth": 0,
                          "ticks": ""
                        },
                        "type": "choropleth"
                      }
                    ],
                    "contour": [
                      {
                        "colorbar": {
                          "outlinewidth": 0,
                          "ticks": ""
                        },
                        "colorscale": [
                          [
                            0,
                            "#0d0887"
                          ],
                          [
                            0.1111111111111111,
                            "#46039f"
                          ],
                          [
                            0.2222222222222222,
                            "#7201a8"
                          ],
                          [
                            0.3333333333333333,
                            "#9c179e"
                          ],
                          [
                            0.4444444444444444,
                            "#bd3786"
                          ],
                          [
                            0.5555555555555556,
                            "#d8576b"
                          ],
                          [
                            0.6666666666666666,
                            "#ed7953"
                          ],
                          [
                            0.7777777777777778,
                            "#fb9f3a"
                          ],
                          [
                            0.8888888888888888,
                            "#fdca26"
                          ],
                          [
                            1,
                            "#f0f921"
                          ]
                        ],
                        "type": "contour"
                      }
                    ],
                    "contourcarpet": [
                      {
                        "colorbar": {
                          "outlinewidth": 0,
                          "ticks": ""
                        },
                        "type": "contourcarpet"
                      }
                    ],
                    "heatmap": [
                      {
                        "colorbar": {
                          "outlinewidth": 0,
                          "ticks": ""
                        },
                        "colorscale": [
                          [
                            0,
                            "#0d0887"
                          ],
                          [
                            0.1111111111111111,
                            "#46039f"
                          ],
                          [
                            0.2222222222222222,
                            "#7201a8"
                          ],
                          [
                            0.3333333333333333,
                            "#9c179e"
                          ],
                          [
                            0.4444444444444444,
                            "#bd3786"
                          ],
                          [
                            0.5555555555555556,
                            "#d8576b"
                          ],
                          [
                            0.6666666666666666,
                            "#ed7953"
                          ],
                          [
                            0.7777777777777778,
                            "#fb9f3a"
                          ],
                          [
                            0.8888888888888888,
                            "#fdca26"
                          ],
                          [
                            1,
                            "#f0f921"
                          ]
                        ],
                        "type": "heatmap"
                      }
                    ],
                    "heatmapgl": [
                      {
                        "colorbar": {
                          "outlinewidth": 0,
                          "ticks": ""
                        },
                        "colorscale": [
                          [
                            0,
                            "#0d0887"
                          ],
                          [
                            0.1111111111111111,
                            "#46039f"
                          ],
                          [
                            0.2222222222222222,
                            "#7201a8"
                          ],
                          [
                            0.3333333333333333,
                            "#9c179e"
                          ],
                          [
                            0.4444444444444444,
                            "#bd3786"
                          ],
                          [
                            0.5555555555555556,
                            "#d8576b"
                          ],
                          [
                            0.6666666666666666,
                            "#ed7953"
                          ],
                          [
                            0.7777777777777778,
                            "#fb9f3a"
                          ],
                          [
                            0.8888888888888888,
                            "#fdca26"
                          ],
                          [
                            1,
                            "#f0f921"
                          ]
                        ],
                        "type": "heatmapgl"
                      }
                    ],
                    "histogram": [
                      {
                        "marker": {
                          "pattern": {
                            "fillmode": "overlay",
                            "size": 10,
                            "solidity": 0.2
                          }
                        },
                        "type": "histogram"
                      }
                    ],
                    "histogram2d": [
                      {
                        "colorbar": {
                          "outlinewidth": 0,
                          "ticks": ""
                        },
                        "colorscale": [
                          [
                            0,
                            "#0d0887"
                          ],
                          [
                            0.1111111111111111,
                            "#46039f"
                          ],
                          [
                            0.2222222222222222,
                            "#7201a8"
                          ],
                          [
                            0.3333333333333333,
                            "#9c179e"
                          ],
                          [
                            0.4444444444444444,
                            "#bd3786"
                          ],
                          [
                            0.5555555555555556,
                            "#d8576b"
                          ],
                          [
                            0.6666666666666666,
                            "#ed7953"
                          ],
                          [
                            0.7777777777777778,
                            "#fb9f3a"
                          ],
                          [
                            0.8888888888888888,
                            "#fdca26"
                          ],
                          [
                            1,
                            "#f0f921"
                          ]
                        ],
                        "type": "histogram2d"
                      }
                    ],
                    "histogram2dcontour": [
                      {
                        "colorbar": {
                          "outlinewidth": 0,
                          "ticks": ""
                        },
                        "colorscale": [
                          [
                            0,
                            "#0d0887"
                          ],
                          [
                            0.1111111111111111,
                            "#46039f"
                          ],
                          [
                            0.2222222222222222,
                            "#7201a8"
                          ],
                          [
                            0.3333333333333333,
                            "#9c179e"
                          ],
                          [
                            0.4444444444444444,
                            "#bd3786"
                          ],
                          [
                            0.5555555555555556,
                            "#d8576b"
                          ],
                          [
                            0.6666666666666666,
                            "#ed7953"
                          ],
                          [
                            0.7777777777777778,
                            "#fb9f3a"
                          ],
                          [
                            0.8888888888888888,
                            "#fdca26"
                          ],
                          [
                            1,
                            "#f0f921"
                          ]
                        ],
                        "type": "histogram2dcontour"
                      }
                    ],
                    "mesh3d": [
                      {
                        "colorbar": {
                          "outlinewidth": 0,
                          "ticks": ""
                        },
                        "type": "mesh3d"
                      }
                    ],
                    "parcoords": [
                      {
                        "line": {
                          "colorbar": {
                            "outlinewidth": 0,
                            "ticks": ""
                          }
                        },
                        "type": "parcoords"
                      }
                    ],
                    "pie": [
                      {
                        "automargin": true,
                        "type": "pie"
                      }
                    ],
                    "scatter": [
                      {
                        "marker": {
                          "colorbar": {
                            "outlinewidth": 0,
                            "ticks": ""
                          }
                        },
                        "type": "scatter"
                      }
                    ],
                    "scatter3d": [
                      {
                        "line": {
                          "colorbar": {
                            "outlinewidth": 0,
                            "ticks": ""
                          }
                        },
                        "marker": {
                          "colorbar": {
                            "outlinewidth": 0,
                            "ticks": ""
                          }
                        },
                        "type": "scatter3d"
                      }
                    ],
                    "scattercarpet": [
                      {
                        "marker": {
                          "colorbar": {
                            "outlinewidth": 0,
                            "ticks": ""
                          }
                        },
                        "type": "scattercarpet"
                      }
                    ],
                    "scattergeo": [
                      {
                        "marker": {
                          "colorbar": {
                            "outlinewidth": 0,
                            "ticks": ""
                          }
                        },
                        "type": "scattergeo"
                      }
                    ],
                    "scattergl": [
                      {
                        "marker": {
                          "colorbar": {
                            "outlinewidth": 0,
                            "ticks": ""
                          }
                        },
                        "type": "scattergl"
                      }
                    ],
                    "scattermapbox": [
                      {
                        "marker": {
                          "colorbar": {
                            "outlinewidth": 0,
                            "ticks": ""
                          }
                        },
                        "type": "scattermapbox"
                      }
                    ],
                    "scatterpolar": [
                      {
                        "marker": {
                          "colorbar": {
                            "outlinewidth": 0,
                            "ticks": ""
                          }
                        },
                        "type": "scatterpolar"
                      }
                    ],
                    "scatterpolargl": [
                      {
                        "marker": {
                          "colorbar": {
                            "outlinewidth": 0,
                            "ticks": ""
                          }
                        },
                        "type": "scatterpolargl"
                      }
                    ],
                    "scatterternary": [
                      {
                        "marker": {
                          "colorbar": {
                            "outlinewidth": 0,
                            "ticks": ""
                          }
                        },
                        "type": "scatterternary"
                      }
                    ],
                    "surface": [
                      {
                        "colorbar": {
                          "outlinewidth": 0,
                          "ticks": ""
                        },
                        "colorscale": [
                          [
                            0,
                            "#0d0887"
                          ],
                          [
                            0.1111111111111111,
                            "#46039f"
                          ],
                          [
                            0.2222222222222222,
                            "#7201a8"
                          ],
                          [
                            0.3333333333333333,
                            "#9c179e"
                          ],
                          [
                            0.4444444444444444,
                            "#bd3786"
                          ],
                          [
                            0.5555555555555556,
                            "#d8576b"
                          ],
                          [
                            0.6666666666666666,
                            "#ed7953"
                          ],
                          [
                            0.7777777777777778,
                            "#fb9f3a"
                          ],
                          [
                            0.8888888888888888,
                            "#fdca26"
                          ],
                          [
                            1,
                            "#f0f921"
                          ]
                        ],
                        "type": "surface"
                      }
                    ],
                    "table": [
                      {
                        "cells": {
                          "fill": {
                            "color": "#EBF0F8"
                          },
                          "line": {
                            "color": "white"
                          }
                        },
                        "header": {
                          "fill": {
                            "color": "#C8D4E3"
                          },
                          "line": {
                            "color": "white"
                          }
                        },
                        "type": "table"
                      }
                    ]
                  },
                  "layout": {
                    "annotationdefaults": {
                      "arrowcolor": "#2a3f5f",
                      "arrowhead": 0,
                      "arrowwidth": 1
                    },
                    "autotypenumbers": "strict",
                    "coloraxis": {
                      "colorbar": {
                        "outlinewidth": 0,
                        "ticks": ""
                      }
                    },
                    "colorscale": {
                      "diverging": [
                        [
                          0,
                          "#8e0152"
                        ],
                        [
                          0.1,
                          "#c51b7d"
                        ],
                        [
                          0.2,
                          "#de77ae"
                        ],
                        [
                          0.3,
                          "#f1b6da"
                        ],
                        [
                          0.4,
                          "#fde0ef"
                        ],
                        [
                          0.5,
                          "#f7f7f7"
                        ],
                        [
                          0.6,
                          "#e6f5d0"
                        ],
                        [
                          0.7,
                          "#b8e186"
                        ],
                        [
                          0.8,
                          "#7fbc41"
                        ],
                        [
                          0.9,
                          "#4d9221"
                        ],
                        [
                          1,
                          "#276419"
                        ]
                      ],
                      "sequential": [
                        [
                          0,
                          "#0d0887"
                        ],
                        [
                          0.1111111111111111,
                          "#46039f"
                        ],
                        [
                          0.2222222222222222,
                          "#7201a8"
                        ],
                        [
                          0.3333333333333333,
                          "#9c179e"
                        ],
                        [
                          0.4444444444444444,
                          "#bd3786"
                        ],
                        [
                          0.5555555555555556,
                          "#d8576b"
                        ],
                        [
                          0.6666666666666666,
                          "#ed7953"
                        ],
                        [
                          0.7777777777777778,
                          "#fb9f3a"
                        ],
                        [
                          0.8888888888888888,
                          "#fdca26"
                        ],
                        [
                          1,
                          "#f0f921"
                        ]
                      ],
                      "sequentialminus": [
                        [
                          0,
                          "#0d0887"
                        ],
                        [
                          0.1111111111111111,
                          "#46039f"
                        ],
                        [
                          0.2222222222222222,
                          "#7201a8"
                        ],
                        [
                          0.3333333333333333,
                          "#9c179e"
                        ],
                        [
                          0.4444444444444444,
                          "#bd3786"
                        ],
                        [
                          0.5555555555555556,
                          "#d8576b"
                        ],
                        [
                          0.6666666666666666,
                          "#ed7953"
                        ],
                        [
                          0.7777777777777778,
                          "#fb9f3a"
                        ],
                        [
                          0.8888888888888888,
                          "#fdca26"
                        ],
                        [
                          1,
                          "#f0f921"
                        ]
                      ]
                    },
                    "colorway": [
                      "#636efa",
                      "#EF553B",
                      "#00cc96",
                      "#ab63fa",
                      "#FFA15A",
                      "#19d3f3",
                      "#FF6692",
                      "#B6E880",
                      "#FF97FF",
                      "#FECB52"
                    ],
                    "font": {
                      "color": "#2a3f5f"
                    },
                    "geo": {
                      "bgcolor": "white",
                      "lakecolor": "white",
                      "landcolor": "#E5ECF6",
                      "showlakes": true,
                      "showland": true,
                      "subunitcolor": "white"
                    },
                    "hoverlabel": {
                      "align": "left"
                    },
                    "hovermode": "closest",
                    "mapbox": {
                      "style": "light"
                    },
                    "paper_bgcolor": "white",
                    "plot_bgcolor": "#E5ECF6",
                    "polar": {
                      "angularaxis": {
                        "gridcolor": "white",
                        "linecolor": "white",
                        "ticks": ""
                      },
                      "bgcolor": "#E5ECF6",
                      "radialaxis": {
                        "gridcolor": "white",
                        "linecolor": "white",
                        "ticks": ""
                      }
                    },
                    "scene": {
                      "xaxis": {
                        "backgroundcolor": "#E5ECF6",
                        "gridcolor": "white",
                        "gridwidth": 2,
                        "linecolor": "white",
                        "showbackground": true,
                        "ticks": "",
                        "zerolinecolor": "white"
                      },
                      "yaxis": {
                        "backgroundcolor": "#E5ECF6",
                        "gridcolor": "white",
                        "gridwidth": 2,
                        "linecolor": "white",
                        "showbackground": true,
                        "ticks": "",
                        "zerolinecolor": "white"
                      },
                      "zaxis": {
                        "backgroundcolor": "#E5ECF6",
                        "gridcolor": "white",
                        "gridwidth": 2,
                        "linecolor": "white",
                        "showbackground": true,
                        "ticks": "",
                        "zerolinecolor": "white"
                      }
                    },
                    "shapedefaults": {
                      "line": {
                        "color": "#2a3f5f"
                      }
                    },
                    "ternary": {
                      "aaxis": {
                        "gridcolor": "white",
                        "linecolor": "white",
                        "ticks": ""
                      },
                      "baxis": {
                        "gridcolor": "white",
                        "linecolor": "white",
                        "ticks": ""
                      },
                      "bgcolor": "#E5ECF6",
                      "caxis": {
                        "gridcolor": "white",
                        "linecolor": "white",
                        "ticks": ""
                      }
                    },
                    "title": {
                      "x": 0.05
                    },
                    "xaxis": {
                      "automargin": true,
                      "gridcolor": "white",
                      "linecolor": "white",
                      "ticks": "",
                      "title": {
                        "standoff": 15
                      },
                      "zerolinecolor": "white",
                      "zerolinewidth": 2
                    },
                    "yaxis": {
                      "automargin": true,
                      "gridcolor": "white",
                      "linecolor": "white",
                      "ticks": "",
                      "title": {
                        "standoff": 15
                      },
                      "zerolinecolor": "white",
                      "zerolinewidth": 2
                    }
                  }
                }
              }
            }
          },
          "metadata": {},
          "output_type": "display_data"
        }
      ],
      "source": [
        "px.scatter_3d(df, x='X1_SQUARE', y='X2_SQUARE', color='Y')\n",
        "fig.show()"
      ]
    },
    {
      "cell_type": "markdown",
      "metadata": {
        "id": "t4pL9gHDtEMh"
      },
      "source": [
        "### check the accuracy score of SVC classifier when using kernel as linear\n",
        "\n",
        "---\n",
        "\n"
      ]
    },
    {
      "cell_type": "code",
      "execution_count": 35,
      "metadata": {
        "colab": {
          "base_uri": "https://localhost:8080/"
        },
        "id": "KvFQ2rSVuHnH",
        "outputId": "fa5315ed-2146-4e76-fef5-d87871f6cbdf"
      },
      "outputs": [
        {
          "data": {
            "text/plain": [
              "0.73"
            ]
          },
          "execution_count": 35,
          "metadata": {},
          "output_type": "execute_result"
        }
      ],
      "source": [
        "classifier = SVC(kernel='linear')\n",
        "classifier.fit(X_train, y_train)\n",
        "y_pred = classifier.predict(X_test)\n",
        "accuracy_score(y_test, y_pred)"
      ]
    },
    {
      "cell_type": "markdown",
      "metadata": {
        "id": "lornfjqxuV2c"
      },
      "source": [
        "### check the acuuracy score of SVC using kernel as rbf"
      ]
    },
    {
      "cell_type": "code",
      "execution_count": 36,
      "metadata": {
        "colab": {
          "base_uri": "https://localhost:8080/"
        },
        "id": "BsBZk3--ufMP",
        "outputId": "bd576c26-4bf9-439f-cd64-ebb608cc851b"
      },
      "outputs": [
        {
          "data": {
            "text/plain": [
              "0.87"
            ]
          },
          "execution_count": 36,
          "metadata": {},
          "output_type": "execute_result"
        }
      ],
      "source": [
        "classifier = SVC(kernel='rbf')\n",
        "classifier.fit(X_train, y_train)\n",
        "prediction = classifier.predict(X_test)\n",
        "accuracy_score(y_test, prediction)"
      ]
    },
    {
      "cell_type": "markdown",
      "metadata": {
        "id": "zAd-lwJ6uryo"
      },
      "source": [
        "**Inference:**\n",
        "\n",
        "More accuracy score for rbf kernel."
      ]
    },
    {
      "cell_type": "code",
      "execution_count": null,
      "metadata": {
        "id": "1LzBjUlXu1jK"
      },
      "outputs": [],
      "source": []
    }
  ],
  "metadata": {
    "colab": {
      "collapsed_sections": [],
      "name": "SVM kernels implementation",
      "provenance": []
    },
    "kernelspec": {
      "display_name": "Python 3.9.7 ('base')",
      "language": "python",
      "name": "python3"
    },
    "language_info": {
      "codemirror_mode": {
        "name": "ipython",
        "version": 3
      },
      "file_extension": ".py",
      "mimetype": "text/x-python",
      "name": "python",
      "nbconvert_exporter": "python",
      "pygments_lexer": "ipython3",
      "version": "3.9.7"
    },
    "vscode": {
      "interpreter": {
        "hash": "bca69463cf9ec1bb0909d52b628359553027e23c680bd310e5c1d0cdba534910"
      }
    }
  },
  "nbformat": 4,
  "nbformat_minor": 0
}
