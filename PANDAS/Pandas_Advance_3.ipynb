{
 "cells": [
  {
   "cell_type": "code",
   "execution_count": 10,
   "id": "918ab37d",
   "metadata": {},
   "outputs": [],
   "source": [
    "import pandas as pd\n",
    "import numpy as np"
   ]
  },
  {
   "cell_type": "code",
   "execution_count": 11,
   "id": "2d7fb290",
   "metadata": {},
   "outputs": [],
   "source": [
    "df=pd.DataFrame({\n",
    "    'col1': [1,2,3,4,5],\n",
    "    'col2': [45,56,89, 90, 10],\n",
    "    'col3': \"jissmon jose ineuron data science\".split()\n",
    "})"
   ]
  },
  {
   "cell_type": "code",
   "execution_count": 12,
   "id": "d537acd5",
   "metadata": {},
   "outputs": [
    {
     "data": {
      "text/html": [
       "<div>\n",
       "<style scoped>\n",
       "    .dataframe tbody tr th:only-of-type {\n",
       "        vertical-align: middle;\n",
       "    }\n",
       "\n",
       "    .dataframe tbody tr th {\n",
       "        vertical-align: top;\n",
       "    }\n",
       "\n",
       "    .dataframe thead th {\n",
       "        text-align: right;\n",
       "    }\n",
       "</style>\n",
       "<table border=\"1\" class=\"dataframe\">\n",
       "  <thead>\n",
       "    <tr style=\"text-align: right;\">\n",
       "      <th></th>\n",
       "      <th>col1</th>\n",
       "      <th>col2</th>\n",
       "      <th>col3</th>\n",
       "    </tr>\n",
       "  </thead>\n",
       "  <tbody>\n",
       "    <tr>\n",
       "      <th>0</th>\n",
       "      <td>1</td>\n",
       "      <td>45</td>\n",
       "      <td>jissmon</td>\n",
       "    </tr>\n",
       "    <tr>\n",
       "      <th>1</th>\n",
       "      <td>2</td>\n",
       "      <td>56</td>\n",
       "      <td>jose</td>\n",
       "    </tr>\n",
       "    <tr>\n",
       "      <th>2</th>\n",
       "      <td>3</td>\n",
       "      <td>89</td>\n",
       "      <td>ineuron</td>\n",
       "    </tr>\n",
       "    <tr>\n",
       "      <th>3</th>\n",
       "      <td>4</td>\n",
       "      <td>90</td>\n",
       "      <td>data</td>\n",
       "    </tr>\n",
       "    <tr>\n",
       "      <th>4</th>\n",
       "      <td>5</td>\n",
       "      <td>10</td>\n",
       "      <td>science</td>\n",
       "    </tr>\n",
       "  </tbody>\n",
       "</table>\n",
       "</div>"
      ],
      "text/plain": [
       "   col1  col2     col3\n",
       "0     1    45  jissmon\n",
       "1     2    56     jose\n",
       "2     3    89  ineuron\n",
       "3     4    90     data\n",
       "4     5    10  science"
      ]
     },
     "execution_count": 12,
     "metadata": {},
     "output_type": "execute_result"
    }
   ],
   "source": [
    "df"
   ]
  },
  {
   "cell_type": "code",
   "execution_count": 20,
   "id": "ad9026f3",
   "metadata": {},
   "outputs": [],
   "source": [
    "# create new column with values of square of col1.\n",
    "# use np.square()"
   ]
  },
  {
   "cell_type": "code",
   "execution_count": 21,
   "id": "23cafb7a",
   "metadata": {},
   "outputs": [],
   "source": [
    "df['col4'] = np.square(df['col1'])"
   ]
  },
  {
   "cell_type": "code",
   "execution_count": 22,
   "id": "2f1c5af7",
   "metadata": {},
   "outputs": [
    {
     "data": {
      "text/html": [
       "<div>\n",
       "<style scoped>\n",
       "    .dataframe tbody tr th:only-of-type {\n",
       "        vertical-align: middle;\n",
       "    }\n",
       "\n",
       "    .dataframe tbody tr th {\n",
       "        vertical-align: top;\n",
       "    }\n",
       "\n",
       "    .dataframe thead th {\n",
       "        text-align: right;\n",
       "    }\n",
       "</style>\n",
       "<table border=\"1\" class=\"dataframe\">\n",
       "  <thead>\n",
       "    <tr style=\"text-align: right;\">\n",
       "      <th></th>\n",
       "      <th>col1</th>\n",
       "      <th>col2</th>\n",
       "      <th>col3</th>\n",
       "      <th>col4</th>\n",
       "    </tr>\n",
       "  </thead>\n",
       "  <tbody>\n",
       "    <tr>\n",
       "      <th>0</th>\n",
       "      <td>1</td>\n",
       "      <td>45</td>\n",
       "      <td>jissmon</td>\n",
       "      <td>1</td>\n",
       "    </tr>\n",
       "    <tr>\n",
       "      <th>1</th>\n",
       "      <td>2</td>\n",
       "      <td>56</td>\n",
       "      <td>jose</td>\n",
       "      <td>4</td>\n",
       "    </tr>\n",
       "    <tr>\n",
       "      <th>2</th>\n",
       "      <td>3</td>\n",
       "      <td>89</td>\n",
       "      <td>ineuron</td>\n",
       "      <td>9</td>\n",
       "    </tr>\n",
       "    <tr>\n",
       "      <th>3</th>\n",
       "      <td>4</td>\n",
       "      <td>90</td>\n",
       "      <td>data</td>\n",
       "      <td>16</td>\n",
       "    </tr>\n",
       "    <tr>\n",
       "      <th>4</th>\n",
       "      <td>5</td>\n",
       "      <td>10</td>\n",
       "      <td>science</td>\n",
       "      <td>25</td>\n",
       "    </tr>\n",
       "  </tbody>\n",
       "</table>\n",
       "</div>"
      ],
      "text/plain": [
       "   col1  col2     col3  col4\n",
       "0     1    45  jissmon     1\n",
       "1     2    56     jose     4\n",
       "2     3    89  ineuron     9\n",
       "3     4    90     data    16\n",
       "4     5    10  science    25"
      ]
     },
     "execution_count": 22,
     "metadata": {},
     "output_type": "execute_result"
    }
   ],
   "source": [
    "df"
   ]
  },
  {
   "cell_type": "markdown",
   "id": "6e40c1f9",
   "metadata": {},
   "source": [
    "### using apply() method"
   ]
  },
  {
   "cell_type": "code",
   "execution_count": 23,
   "id": "8a276f46",
   "metadata": {},
   "outputs": [],
   "source": [
    "# create column 5 that hold first characters of col3"
   ]
  },
  {
   "cell_type": "code",
   "execution_count": 25,
   "id": "70a95544",
   "metadata": {},
   "outputs": [],
   "source": [
    "fn1 = lambda x: x[0]\n",
    "df['col5'] = df['col3'].apply(fn1)"
   ]
  },
  {
   "cell_type": "code",
   "execution_count": 26,
   "id": "d4113e27",
   "metadata": {},
   "outputs": [
    {
     "data": {
      "text/html": [
       "<div>\n",
       "<style scoped>\n",
       "    .dataframe tbody tr th:only-of-type {\n",
       "        vertical-align: middle;\n",
       "    }\n",
       "\n",
       "    .dataframe tbody tr th {\n",
       "        vertical-align: top;\n",
       "    }\n",
       "\n",
       "    .dataframe thead th {\n",
       "        text-align: right;\n",
       "    }\n",
       "</style>\n",
       "<table border=\"1\" class=\"dataframe\">\n",
       "  <thead>\n",
       "    <tr style=\"text-align: right;\">\n",
       "      <th></th>\n",
       "      <th>col1</th>\n",
       "      <th>col2</th>\n",
       "      <th>col3</th>\n",
       "      <th>col4</th>\n",
       "      <th>col5</th>\n",
       "    </tr>\n",
       "  </thead>\n",
       "  <tbody>\n",
       "    <tr>\n",
       "      <th>0</th>\n",
       "      <td>1</td>\n",
       "      <td>45</td>\n",
       "      <td>jissmon</td>\n",
       "      <td>1</td>\n",
       "      <td>j</td>\n",
       "    </tr>\n",
       "    <tr>\n",
       "      <th>1</th>\n",
       "      <td>2</td>\n",
       "      <td>56</td>\n",
       "      <td>jose</td>\n",
       "      <td>4</td>\n",
       "      <td>j</td>\n",
       "    </tr>\n",
       "    <tr>\n",
       "      <th>2</th>\n",
       "      <td>3</td>\n",
       "      <td>89</td>\n",
       "      <td>ineuron</td>\n",
       "      <td>9</td>\n",
       "      <td>i</td>\n",
       "    </tr>\n",
       "    <tr>\n",
       "      <th>3</th>\n",
       "      <td>4</td>\n",
       "      <td>90</td>\n",
       "      <td>data</td>\n",
       "      <td>16</td>\n",
       "      <td>d</td>\n",
       "    </tr>\n",
       "    <tr>\n",
       "      <th>4</th>\n",
       "      <td>5</td>\n",
       "      <td>10</td>\n",
       "      <td>science</td>\n",
       "      <td>25</td>\n",
       "      <td>s</td>\n",
       "    </tr>\n",
       "  </tbody>\n",
       "</table>\n",
       "</div>"
      ],
      "text/plain": [
       "   col1  col2     col3  col4 col5\n",
       "0     1    45  jissmon     1    j\n",
       "1     2    56     jose     4    j\n",
       "2     3    89  ineuron     9    i\n",
       "3     4    90     data    16    d\n",
       "4     5    10  science    25    s"
      ]
     },
     "execution_count": 26,
     "metadata": {},
     "output_type": "execute_result"
    }
   ],
   "source": [
    "df"
   ]
  },
  {
   "cell_type": "code",
   "execution_count": 27,
   "id": "1d817e20",
   "metadata": {},
   "outputs": [],
   "source": [
    "# create column 6 holding complex functions"
   ]
  },
  {
   "cell_type": "code",
   "execution_count": 33,
   "id": "ac6719db",
   "metadata": {},
   "outputs": [],
   "source": [
    "def fun3(x):\n",
    "    for i in x[0]:\n",
    "        if i == 'j':\n",
    "            return i\n",
    "        else:\n",
    "            return 'z'\n",
    "\n",
    "df['col6'] = df['col3'].apply(fun3)"
   ]
  },
  {
   "cell_type": "code",
   "execution_count": 34,
   "id": "6ce0fd0c",
   "metadata": {},
   "outputs": [
    {
     "data": {
      "text/plain": [
       "0    j\n",
       "1    j\n",
       "2    z\n",
       "3    z\n",
       "4    z\n",
       "Name: col6, dtype: object"
      ]
     },
     "execution_count": 34,
     "metadata": {},
     "output_type": "execute_result"
    }
   ],
   "source": [
    "df['col6']"
   ]
  },
  {
   "cell_type": "code",
   "execution_count": 35,
   "id": "bacbc03a",
   "metadata": {},
   "outputs": [
    {
     "data": {
      "text/html": [
       "<div>\n",
       "<style scoped>\n",
       "    .dataframe tbody tr th:only-of-type {\n",
       "        vertical-align: middle;\n",
       "    }\n",
       "\n",
       "    .dataframe tbody tr th {\n",
       "        vertical-align: top;\n",
       "    }\n",
       "\n",
       "    .dataframe thead th {\n",
       "        text-align: right;\n",
       "    }\n",
       "</style>\n",
       "<table border=\"1\" class=\"dataframe\">\n",
       "  <thead>\n",
       "    <tr style=\"text-align: right;\">\n",
       "      <th></th>\n",
       "      <th>col1</th>\n",
       "      <th>col2</th>\n",
       "      <th>col3</th>\n",
       "      <th>col4</th>\n",
       "      <th>col5</th>\n",
       "      <th>col6</th>\n",
       "    </tr>\n",
       "  </thead>\n",
       "  <tbody>\n",
       "    <tr>\n",
       "      <th>0</th>\n",
       "      <td>1</td>\n",
       "      <td>45</td>\n",
       "      <td>jissmon</td>\n",
       "      <td>1</td>\n",
       "      <td>j</td>\n",
       "      <td>j</td>\n",
       "    </tr>\n",
       "    <tr>\n",
       "      <th>1</th>\n",
       "      <td>2</td>\n",
       "      <td>56</td>\n",
       "      <td>jose</td>\n",
       "      <td>4</td>\n",
       "      <td>j</td>\n",
       "      <td>j</td>\n",
       "    </tr>\n",
       "    <tr>\n",
       "      <th>2</th>\n",
       "      <td>3</td>\n",
       "      <td>89</td>\n",
       "      <td>ineuron</td>\n",
       "      <td>9</td>\n",
       "      <td>i</td>\n",
       "      <td>z</td>\n",
       "    </tr>\n",
       "    <tr>\n",
       "      <th>3</th>\n",
       "      <td>4</td>\n",
       "      <td>90</td>\n",
       "      <td>data</td>\n",
       "      <td>16</td>\n",
       "      <td>d</td>\n",
       "      <td>z</td>\n",
       "    </tr>\n",
       "    <tr>\n",
       "      <th>4</th>\n",
       "      <td>5</td>\n",
       "      <td>10</td>\n",
       "      <td>science</td>\n",
       "      <td>25</td>\n",
       "      <td>s</td>\n",
       "      <td>z</td>\n",
       "    </tr>\n",
       "  </tbody>\n",
       "</table>\n",
       "</div>"
      ],
      "text/plain": [
       "   col1  col2     col3  col4 col5 col6\n",
       "0     1    45  jissmon     1    j    j\n",
       "1     2    56     jose     4    j    j\n",
       "2     3    89  ineuron     9    i    z\n",
       "3     4    90     data    16    d    z\n",
       "4     5    10  science    25    s    z"
      ]
     },
     "execution_count": 35,
     "metadata": {},
     "output_type": "execute_result"
    }
   ],
   "source": [
    "df"
   ]
  },
  {
   "cell_type": "code",
   "execution_count": 36,
   "id": "f1f4199b",
   "metadata": {},
   "outputs": [],
   "source": [
    "# convert col3 to upper case"
   ]
  },
  {
   "cell_type": "code",
   "execution_count": 38,
   "id": "44ab3ffd",
   "metadata": {},
   "outputs": [],
   "source": [
    "df['col8'] = df['col3'].map(str.upper)"
   ]
  },
  {
   "cell_type": "code",
   "execution_count": 39,
   "id": "3b47db3a",
   "metadata": {},
   "outputs": [],
   "source": [
    "# create column col7 where we hold data "
   ]
  },
  {
   "cell_type": "code",
   "execution_count": 40,
   "id": "2f36f53c",
   "metadata": {},
   "outputs": [],
   "source": [
    "# create col9 which hold logarithmic of col2"
   ]
  },
  {
   "cell_type": "code",
   "execution_count": 42,
   "id": "8c592805",
   "metadata": {},
   "outputs": [],
   "source": [
    "df['col9'] = np.log(df['col2'])"
   ]
  },
  {
   "cell_type": "code",
   "execution_count": 43,
   "id": "51bb5df1",
   "metadata": {},
   "outputs": [
    {
     "data": {
      "text/plain": [
       "0    3.806662\n",
       "1    4.025352\n",
       "2    4.488636\n",
       "3    4.499810\n",
       "4    2.302585\n",
       "Name: col9, dtype: float64"
      ]
     },
     "execution_count": 43,
     "metadata": {},
     "output_type": "execute_result"
    }
   ],
   "source": [
    "df['col9']"
   ]
  },
  {
   "cell_type": "code",
   "execution_count": 44,
   "id": "24aff561",
   "metadata": {},
   "outputs": [
    {
     "data": {
      "text/html": [
       "<div>\n",
       "<style scoped>\n",
       "    .dataframe tbody tr th:only-of-type {\n",
       "        vertical-align: middle;\n",
       "    }\n",
       "\n",
       "    .dataframe tbody tr th {\n",
       "        vertical-align: top;\n",
       "    }\n",
       "\n",
       "    .dataframe thead th {\n",
       "        text-align: right;\n",
       "    }\n",
       "</style>\n",
       "<table border=\"1\" class=\"dataframe\">\n",
       "  <thead>\n",
       "    <tr style=\"text-align: right;\">\n",
       "      <th></th>\n",
       "      <th>col1</th>\n",
       "      <th>col2</th>\n",
       "      <th>col3</th>\n",
       "      <th>col4</th>\n",
       "      <th>col5</th>\n",
       "      <th>col6</th>\n",
       "      <th>col8</th>\n",
       "      <th>col9</th>\n",
       "    </tr>\n",
       "  </thead>\n",
       "  <tbody>\n",
       "    <tr>\n",
       "      <th>0</th>\n",
       "      <td>1</td>\n",
       "      <td>45</td>\n",
       "      <td>jissmon</td>\n",
       "      <td>1</td>\n",
       "      <td>j</td>\n",
       "      <td>j</td>\n",
       "      <td>JISSMON</td>\n",
       "      <td>3.806662</td>\n",
       "    </tr>\n",
       "    <tr>\n",
       "      <th>1</th>\n",
       "      <td>2</td>\n",
       "      <td>56</td>\n",
       "      <td>jose</td>\n",
       "      <td>4</td>\n",
       "      <td>j</td>\n",
       "      <td>j</td>\n",
       "      <td>JOSE</td>\n",
       "      <td>4.025352</td>\n",
       "    </tr>\n",
       "    <tr>\n",
       "      <th>2</th>\n",
       "      <td>3</td>\n",
       "      <td>89</td>\n",
       "      <td>ineuron</td>\n",
       "      <td>9</td>\n",
       "      <td>i</td>\n",
       "      <td>z</td>\n",
       "      <td>INEURON</td>\n",
       "      <td>4.488636</td>\n",
       "    </tr>\n",
       "    <tr>\n",
       "      <th>3</th>\n",
       "      <td>4</td>\n",
       "      <td>90</td>\n",
       "      <td>data</td>\n",
       "      <td>16</td>\n",
       "      <td>d</td>\n",
       "      <td>z</td>\n",
       "      <td>DATA</td>\n",
       "      <td>4.499810</td>\n",
       "    </tr>\n",
       "    <tr>\n",
       "      <th>4</th>\n",
       "      <td>5</td>\n",
       "      <td>10</td>\n",
       "      <td>science</td>\n",
       "      <td>25</td>\n",
       "      <td>s</td>\n",
       "      <td>z</td>\n",
       "      <td>SCIENCE</td>\n",
       "      <td>2.302585</td>\n",
       "    </tr>\n",
       "  </tbody>\n",
       "</table>\n",
       "</div>"
      ],
      "text/plain": [
       "   col1  col2     col3  col4 col5 col6     col8      col9\n",
       "0     1    45  jissmon     1    j    j  JISSMON  3.806662\n",
       "1     2    56     jose     4    j    j     JOSE  4.025352\n",
       "2     3    89  ineuron     9    i    z  INEURON  4.488636\n",
       "3     4    90     data    16    d    z     DATA  4.499810\n",
       "4     5    10  science    25    s    z  SCIENCE  2.302585"
      ]
     },
     "execution_count": 44,
     "metadata": {},
     "output_type": "execute_result"
    }
   ],
   "source": [
    "df"
   ]
  },
  {
   "cell_type": "code",
   "execution_count": 56,
   "id": "7e66a7b8",
   "metadata": {},
   "outputs": [
    {
     "data": {
      "text/plain": [
       "'JSMN'"
      ]
     },
     "execution_count": 56,
     "metadata": {},
     "output_type": "execute_result"
    }
   ],
   "source": [
    "df['col8'][0][0::2]"
   ]
  },
  {
   "cell_type": "code",
   "execution_count": 61,
   "id": "c9a8b55d",
   "metadata": {},
   "outputs": [],
   "source": [
    "df['col10'] = df['col8'].apply(lambda a: a[0::2])"
   ]
  },
  {
   "cell_type": "code",
   "execution_count": 62,
   "id": "1a673f60",
   "metadata": {},
   "outputs": [
    {
     "data": {
      "text/html": [
       "<div>\n",
       "<style scoped>\n",
       "    .dataframe tbody tr th:only-of-type {\n",
       "        vertical-align: middle;\n",
       "    }\n",
       "\n",
       "    .dataframe tbody tr th {\n",
       "        vertical-align: top;\n",
       "    }\n",
       "\n",
       "    .dataframe thead th {\n",
       "        text-align: right;\n",
       "    }\n",
       "</style>\n",
       "<table border=\"1\" class=\"dataframe\">\n",
       "  <thead>\n",
       "    <tr style=\"text-align: right;\">\n",
       "      <th></th>\n",
       "      <th>col1</th>\n",
       "      <th>col2</th>\n",
       "      <th>col3</th>\n",
       "      <th>col4</th>\n",
       "      <th>col5</th>\n",
       "      <th>col6</th>\n",
       "      <th>col8</th>\n",
       "      <th>col9</th>\n",
       "      <th>col10</th>\n",
       "    </tr>\n",
       "  </thead>\n",
       "  <tbody>\n",
       "    <tr>\n",
       "      <th>0</th>\n",
       "      <td>1</td>\n",
       "      <td>45</td>\n",
       "      <td>jissmon</td>\n",
       "      <td>1</td>\n",
       "      <td>j</td>\n",
       "      <td>j</td>\n",
       "      <td>JISSMON</td>\n",
       "      <td>3.806662</td>\n",
       "      <td>JSMN</td>\n",
       "    </tr>\n",
       "    <tr>\n",
       "      <th>1</th>\n",
       "      <td>2</td>\n",
       "      <td>56</td>\n",
       "      <td>jose</td>\n",
       "      <td>4</td>\n",
       "      <td>j</td>\n",
       "      <td>j</td>\n",
       "      <td>JOSE</td>\n",
       "      <td>4.025352</td>\n",
       "      <td>JS</td>\n",
       "    </tr>\n",
       "    <tr>\n",
       "      <th>2</th>\n",
       "      <td>3</td>\n",
       "      <td>89</td>\n",
       "      <td>ineuron</td>\n",
       "      <td>9</td>\n",
       "      <td>i</td>\n",
       "      <td>z</td>\n",
       "      <td>INEURON</td>\n",
       "      <td>4.488636</td>\n",
       "      <td>IERN</td>\n",
       "    </tr>\n",
       "    <tr>\n",
       "      <th>3</th>\n",
       "      <td>4</td>\n",
       "      <td>90</td>\n",
       "      <td>data</td>\n",
       "      <td>16</td>\n",
       "      <td>d</td>\n",
       "      <td>z</td>\n",
       "      <td>DATA</td>\n",
       "      <td>4.499810</td>\n",
       "      <td>DT</td>\n",
       "    </tr>\n",
       "    <tr>\n",
       "      <th>4</th>\n",
       "      <td>5</td>\n",
       "      <td>10</td>\n",
       "      <td>science</td>\n",
       "      <td>25</td>\n",
       "      <td>s</td>\n",
       "      <td>z</td>\n",
       "      <td>SCIENCE</td>\n",
       "      <td>2.302585</td>\n",
       "      <td>SINE</td>\n",
       "    </tr>\n",
       "  </tbody>\n",
       "</table>\n",
       "</div>"
      ],
      "text/plain": [
       "   col1  col2     col3  col4 col5 col6     col8      col9 col10\n",
       "0     1    45  jissmon     1    j    j  JISSMON  3.806662  JSMN\n",
       "1     2    56     jose     4    j    j     JOSE  4.025352    JS\n",
       "2     3    89  ineuron     9    i    z  INEURON  4.488636  IERN\n",
       "3     4    90     data    16    d    z     DATA  4.499810    DT\n",
       "4     5    10  science    25    s    z  SCIENCE  2.302585  SINE"
      ]
     },
     "execution_count": 62,
     "metadata": {},
     "output_type": "execute_result"
    }
   ],
   "source": [
    "df"
   ]
  },
  {
   "cell_type": "code",
   "execution_count": null,
   "id": "cdfb1e23",
   "metadata": {},
   "outputs": [],
   "source": []
  }
 ],
 "metadata": {
  "kernelspec": {
   "display_name": "Python 3 (ipykernel)",
   "language": "python",
   "name": "python3"
  },
  "language_info": {
   "codemirror_mode": {
    "name": "ipython",
    "version": 3
   },
   "file_extension": ".py",
   "mimetype": "text/x-python",
   "name": "python",
   "nbconvert_exporter": "python",
   "pygments_lexer": "ipython3",
   "version": "3.9.7"
  }
 },
 "nbformat": 4,
 "nbformat_minor": 5
}
