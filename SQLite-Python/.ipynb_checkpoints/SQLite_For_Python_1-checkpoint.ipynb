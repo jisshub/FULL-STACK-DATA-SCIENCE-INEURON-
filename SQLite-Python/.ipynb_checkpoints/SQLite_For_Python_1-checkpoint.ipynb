{
 "cells": [
  {
   "cell_type": "markdown",
   "id": "6543735a",
   "metadata": {},
   "source": [
    "## SQLite Notes"
   ]
  },
  {
   "cell_type": "markdown",
   "id": "5252c38c",
   "metadata": {},
   "source": [
    "### Import sqlite package"
   ]
  },
  {
   "cell_type": "code",
   "execution_count": 1,
   "id": "d9293c4e",
   "metadata": {},
   "outputs": [],
   "source": [
    "import sqlite3"
   ]
  },
  {
   "cell_type": "markdown",
   "id": "5fbfa6aa",
   "metadata": {},
   "source": [
    "### Connect to DB"
   ]
  },
  {
   "cell_type": "code",
   "execution_count": 3,
   "id": "947078ac",
   "metadata": {},
   "outputs": [],
   "source": [
    "# connect and create a database      \n",
    "db = sqlite3.connect('ineuron.db')\n",
    "\n",
    "# we created a database file ineuron.db"
   ]
  },
  {
   "cell_type": "code",
   "execution_count": 6,
   "id": "d64d0014",
   "metadata": {},
   "outputs": [
    {
     "name": "stdout",
     "output_type": "stream",
     "text": [
      "total 4.0K\r\n",
      "-rw-r--r-- 1 fact12 fact12    0 Feb 20 10:30 ineuron.db\r\n",
      "-rw-rw-r-- 1 fact12 fact12 1.2K Feb 20 10:31 SQLite_For_Python_1.ipynb\r\n"
     ]
    }
   ],
   "source": [
    "ls -lh"
   ]
  },
  {
   "cell_type": "markdown",
   "id": "770a1925",
   "metadata": {},
   "source": [
    "### Create Cursor\n",
    "\n",
    "Object Responsible for executing every queries in sqlite."
   ]
  },
  {
   "cell_type": "code",
   "execution_count": 7,
   "id": "60e2efb0",
   "metadata": {},
   "outputs": [
    {
     "data": {
      "text/plain": [
       "<sqlite3.Cursor at 0x7f6700160a40>"
      ]
     },
     "execution_count": 7,
     "metadata": {},
     "output_type": "execute_result"
    }
   ],
   "source": [
    "cursor = db.cursor()\n",
    "cursor"
   ]
  },
  {
   "cell_type": "markdown",
   "id": "e04cce7c",
   "metadata": {},
   "source": [
    "### Execute Query"
   ]
  },
  {
   "cell_type": "code",
   "execution_count": 8,
   "id": "1212e1c3",
   "metadata": {},
   "outputs": [
    {
     "data": {
      "text/plain": [
       "<sqlite3.Cursor at 0x7f6700160a40>"
      ]
     },
     "execution_count": 8,
     "metadata": {},
     "output_type": "execute_result"
    }
   ],
   "source": [
    "query = 'create table fsds_batch (name text, batch_id int, marks real)'\n",
    "cursor.execute(query)"
   ]
  },
  {
   "cell_type": "markdown",
   "id": "290f071a",
   "metadata": {},
   "source": [
    "### Insert Data"
   ]
  },
  {
   "cell_type": "code",
   "execution_count": 9,
   "id": "05f52ba3",
   "metadata": {},
   "outputs": [
    {
     "data": {
      "text/plain": [
       "<sqlite3.Cursor at 0x7f6700160a40>"
      ]
     },
     "execution_count": 9,
     "metadata": {},
     "output_type": "execute_result"
    }
   ],
   "source": [
    "query = 'insert into fsds_batch (name, batch_id, marks) values(\"jissmon\", 444, 60)';\n",
    "cursor.execute(query)"
   ]
  },
  {
   "cell_type": "code",
   "execution_count": 10,
   "id": "f9faf721",
   "metadata": {},
   "outputs": [
    {
     "data": {
      "text/plain": [
       "<sqlite3.Cursor at 0x7f6700160a40>"
      ]
     },
     "execution_count": 10,
     "metadata": {},
     "output_type": "execute_result"
    }
   ],
   "source": [
    "query = 'insert into fsds_batch values(\"adharsh\", 444, 30), (\"sudhanshu\", 444, 80)';\n",
    "cursor.execute(query)"
   ]
  },
  {
   "cell_type": "markdown",
   "id": "d7bb850d",
   "metadata": {},
   "source": [
    "### Read/View Data"
   ]
  },
  {
   "cell_type": "code",
   "execution_count": 12,
   "id": "c290acc5",
   "metadata": {},
   "outputs": [],
   "source": [
    "data = cursor.execute(\"select * from fsds_batch\");"
   ]
  },
  {
   "cell_type": "code",
   "execution_count": 13,
   "id": "a8f6c798",
   "metadata": {},
   "outputs": [
    {
     "name": "stdout",
     "output_type": "stream",
     "text": [
      "('jissmon', 444, 60.0)\n",
      "('adharsh', 444, 30.0)\n",
      "('sudhanshu', 444, 80.0)\n"
     ]
    }
   ],
   "source": [
    "for dt in data:\n",
    "    print(dt)"
   ]
  },
  {
   "cell_type": "markdown",
   "id": "3f7b9a08",
   "metadata": {},
   "source": [
    "### Commit Data for permanent storage"
   ]
  },
  {
   "cell_type": "code",
   "execution_count": 14,
   "id": "4eab7d68",
   "metadata": {},
   "outputs": [],
   "source": [
    "db.commit()"
   ]
  },
  {
   "cell_type": "markdown",
   "id": "8622dfba",
   "metadata": {},
   "source": [
    "### Close connection to DB"
   ]
  },
  {
   "cell_type": "code",
   "execution_count": 15,
   "id": "562ded3c",
   "metadata": {},
   "outputs": [],
   "source": [
    "db.close()"
   ]
  },
  {
   "cell_type": "markdown",
   "id": "571f2179",
   "metadata": {},
   "source": [
    "### Connect to DB Again"
   ]
  },
  {
   "cell_type": "code",
   "execution_count": 19,
   "id": "daacc7ef",
   "metadata": {},
   "outputs": [],
   "source": [
    "db = sqlite3.connect('ineuron.db')"
   ]
  },
  {
   "cell_type": "markdown",
   "id": "d275dc23",
   "metadata": {},
   "source": [
    "### Fetch Records using WHERE clause"
   ]
  },
  {
   "cell_type": "code",
   "execution_count": 20,
   "id": "509de315",
   "metadata": {},
   "outputs": [
    {
     "ename": "ProgrammingError",
     "evalue": "Cannot operate on a closed database.",
     "output_type": "error",
     "traceback": [
      "\u001b[0;31m---------------------------------------------------------------------------\u001b[0m",
      "\u001b[0;31mProgrammingError\u001b[0m                          Traceback (most recent call last)",
      "Input \u001b[0;32mIn [20]\u001b[0m, in \u001b[0;36m<module>\u001b[0;34m\u001b[0m\n\u001b[0;32m----> 1\u001b[0m \u001b[43mcursor\u001b[49m\u001b[38;5;241;43m.\u001b[39;49m\u001b[43mexecute\u001b[49m\u001b[43m(\u001b[49m\u001b[38;5;124;43m'\u001b[39;49m\u001b[38;5;124;43mselect * from where marks > 50\u001b[39;49m\u001b[38;5;124;43m'\u001b[39;49m\u001b[43m)\u001b[49m\n",
      "\u001b[0;31mProgrammingError\u001b[0m: Cannot operate on a closed database."
     ]
    }
   ],
   "source": [
    "cursor.execute('select * from where marks > 50');"
   ]
  },
  {
   "cell_type": "markdown",
   "id": "45fe4eb5",
   "metadata": {},
   "source": [
    "We have to create a cursor object again to execute query"
   ]
  },
  {
   "cell_type": "code",
   "execution_count": 21,
   "id": "2b845592",
   "metadata": {},
   "outputs": [],
   "source": [
    "cursor = db.cursor()"
   ]
  },
  {
   "cell_type": "code",
   "execution_count": 29,
   "id": "69a1be6b",
   "metadata": {},
   "outputs": [],
   "source": [
    "data = cursor.execute(\"select * from fsds_batch where marks > 50\");"
   ]
  },
  {
   "cell_type": "code",
   "execution_count": 30,
   "id": "e09d09d4",
   "metadata": {},
   "outputs": [
    {
     "name": "stdout",
     "output_type": "stream",
     "text": [
      "('jissmon', 444, 60.0)\n",
      "('sudhanshu', 444, 80.0)\n"
     ]
    }
   ],
   "source": [
    "for i in data:\n",
    "    print(i)"
   ]
  },
  {
   "cell_type": "code",
   "execution_count": 31,
   "id": "a63e9d03",
   "metadata": {},
   "outputs": [
    {
     "name": "stdout",
     "output_type": "stream",
     "text": [
      "('jissmon', 444, 60.0)\n"
     ]
    }
   ],
   "source": [
    "data  = cursor.execute(\"select * from fsds_batch where name='jissmon'\");\n",
    "for n in data:\n",
    "    print(n)"
   ]
  },
  {
   "cell_type": "markdown",
   "id": "f3ce3266",
   "metadata": {},
   "source": [
    "### Using ORDER BY CLAUSE"
   ]
  },
  {
   "cell_type": "code",
   "execution_count": 33,
   "id": "2c8f57fb",
   "metadata": {},
   "outputs": [
    {
     "name": "stdout",
     "output_type": "stream",
     "text": [
      "('adharsh', 444, 30.0)\n",
      "('jissmon', 444, 60.0)\n",
      "('sudhanshu', 444, 80.0)\n"
     ]
    }
   ],
   "source": [
    "data = cursor.execute(\"select * from fsds_batch order by marks\");\n",
    "for d in data:\n",
    "    print(d)"
   ]
  },
  {
   "cell_type": "markdown",
   "id": "ec675a88",
   "metadata": {},
   "source": [
    "### Close Connection"
   ]
  },
  {
   "cell_type": "code",
   "execution_count": 34,
   "id": "2cb132b7",
   "metadata": {},
   "outputs": [],
   "source": [
    "db.close()"
   ]
  },
  {
   "cell_type": "markdown",
   "id": "682d7f9c",
   "metadata": {},
   "source": [
    "### Create New Database Person"
   ]
  },
  {
   "cell_type": "code",
   "execution_count": 35,
   "id": "a62abad7",
   "metadata": {},
   "outputs": [],
   "source": [
    "personDB = sqlite3.connect('person.db')"
   ]
  },
  {
   "cell_type": "markdown",
   "id": "e3f915f6",
   "metadata": {},
   "source": [
    "### Create cursor Object"
   ]
  },
  {
   "cell_type": "code",
   "execution_count": 36,
   "id": "87e0080a",
   "metadata": {},
   "outputs": [
    {
     "data": {
      "text/plain": [
       "<sqlite3.Cursor at 0x7f66ea38f1f0>"
      ]
     },
     "execution_count": 36,
     "metadata": {},
     "output_type": "execute_result"
    }
   ],
   "source": [
    "cursor = personDB.cursor()\n",
    "cursor"
   ]
  },
  {
   "cell_type": "markdown",
   "id": "9003d7ca",
   "metadata": {},
   "source": [
    "### Create person table"
   ]
  },
  {
   "cell_type": "code",
   "execution_count": 37,
   "id": "10b0f8bb",
   "metadata": {},
   "outputs": [
    {
     "data": {
      "text/plain": [
       "<sqlite3.Cursor at 0x7f66ea38f1f0>"
      ]
     },
     "execution_count": 37,
     "metadata": {},
     "output_type": "execute_result"
    }
   ],
   "source": [
    "cursor.execute(\"create table person (name text, age integer, height real, weight integer, skin_color text)\")"
   ]
  },
  {
   "cell_type": "markdown",
   "id": "63709bd0",
   "metadata": {},
   "source": [
    "### Insert Data"
   ]
  },
  {
   "cell_type": "code",
   "execution_count": 38,
   "id": "43666f4f",
   "metadata": {},
   "outputs": [
    {
     "data": {
      "text/plain": [
       "<sqlite3.Cursor at 0x7f66ea38f1f0>"
      ]
     },
     "execution_count": 38,
     "metadata": {},
     "output_type": "execute_result"
    }
   ],
   "source": [
    "query = \"\"\"\n",
    "\n",
    "insert into person values \n",
    "    ('john', 55, 145.66, 60, 'white'),\n",
    "    ('david', 33, 175.66, 70, 'gray')\n",
    "\"\"\"\n",
    "\n",
    "cursor.execute(query)"
   ]
  },
  {
   "cell_type": "markdown",
   "id": "feabc828",
   "metadata": {},
   "source": [
    "### Fetch Records"
   ]
  },
  {
   "cell_type": "code",
   "execution_count": 39,
   "id": "f23f0b94",
   "metadata": {},
   "outputs": [],
   "source": [
    "data = cursor.execute(\"select * from person\")"
   ]
  },
  {
   "cell_type": "code",
   "execution_count": 40,
   "id": "8d7f59a2",
   "metadata": {},
   "outputs": [
    {
     "name": "stdout",
     "output_type": "stream",
     "text": [
      "('john', 55, 145.66, 60, 'white')\n",
      "('david', 33, 175.66, 70, 'gray')\n"
     ]
    }
   ],
   "source": [
    "for i in data:\n",
    "    print(i)"
   ]
  },
  {
   "cell_type": "markdown",
   "id": "386b6e31",
   "metadata": {},
   "source": [
    "### Commit Changes"
   ]
  },
  {
   "cell_type": "code",
   "execution_count": 41,
   "id": "919757d5",
   "metadata": {},
   "outputs": [],
   "source": [
    "personDB.commit()"
   ]
  },
  {
   "cell_type": "markdown",
   "id": "870ab952",
   "metadata": {},
   "source": [
    "### Close connection"
   ]
  },
  {
   "cell_type": "code",
   "execution_count": 42,
   "id": "cebf9a7c",
   "metadata": {},
   "outputs": [],
   "source": [
    "personDB.close()"
   ]
  },
  {
   "cell_type": "markdown",
   "id": "9fc4bd2d",
   "metadata": {},
   "source": [
    "### Drop Table\n",
    "\n",
    "Drop fsds_batch table in ineuron db."
   ]
  },
  {
   "cell_type": "code",
   "execution_count": 44,
   "id": "ee5d9b2b",
   "metadata": {},
   "outputs": [],
   "source": [
    "db = sqlite3.connect('ineuron.db')"
   ]
  },
  {
   "cell_type": "code",
   "execution_count": 46,
   "id": "fe832cd4",
   "metadata": {},
   "outputs": [],
   "source": [
    "cursor = db.cursor()"
   ]
  },
  {
   "cell_type": "code",
   "execution_count": 49,
   "id": "403937f8",
   "metadata": {},
   "outputs": [],
   "source": [
    "cursor.execute(\"drop table fsds_batch\");"
   ]
  },
  {
   "cell_type": "markdown",
   "id": "49274ed4",
   "metadata": {},
   "source": [
    "### Check table exist or not"
   ]
  },
  {
   "cell_type": "code",
   "execution_count": 51,
   "id": "3b3c3aec",
   "metadata": {},
   "outputs": [
    {
     "ename": "OperationalError",
     "evalue": "no such table: fsds_batch",
     "output_type": "error",
     "traceback": [
      "\u001b[0;31m---------------------------------------------------------------------------\u001b[0m",
      "\u001b[0;31mOperationalError\u001b[0m                          Traceback (most recent call last)",
      "Input \u001b[0;32mIn [51]\u001b[0m, in \u001b[0;36m<module>\u001b[0;34m\u001b[0m\n\u001b[0;32m----> 1\u001b[0m \u001b[43mcursor\u001b[49m\u001b[38;5;241;43m.\u001b[39;49m\u001b[43mexecute\u001b[49m\u001b[43m(\u001b[49m\u001b[38;5;124;43m\"\u001b[39;49m\u001b[38;5;124;43mselect * from fsds_batch\u001b[39;49m\u001b[38;5;124;43m\"\u001b[39;49m\u001b[43m)\u001b[49m\n",
      "\u001b[0;31mOperationalError\u001b[0m: no such table: fsds_batch"
     ]
    }
   ],
   "source": [
    "cursor.execute(\"select * from fsds_batch\");"
   ]
  },
  {
   "cell_type": "markdown",
   "id": "9bb54eff",
   "metadata": {},
   "source": [
    "### Close the connection"
   ]
  },
  {
   "cell_type": "code",
   "execution_count": 52,
   "id": "578781b4",
   "metadata": {},
   "outputs": [],
   "source": [
    "db.close()"
   ]
  },
  {
   "cell_type": "markdown",
   "id": "407a25aa",
   "metadata": {},
   "source": [
    "### Connect to person database"
   ]
  },
  {
   "cell_type": "code",
   "execution_count": 53,
   "id": "0c4b433c",
   "metadata": {},
   "outputs": [
    {
     "data": {
      "text/plain": [
       "<sqlite3.Connection at 0x7f66ea3365d0>"
      ]
     },
     "execution_count": 53,
     "metadata": {},
     "output_type": "execute_result"
    }
   ],
   "source": [
    "personDB = sqlite3.connect('person.db')\n",
    "personDB"
   ]
  },
  {
   "cell_type": "code",
   "execution_count": 54,
   "id": "9e369ec1",
   "metadata": {},
   "outputs": [
    {
     "data": {
      "text/plain": [
       "<sqlite3.Cursor at 0x7f66ea362ea0>"
      ]
     },
     "execution_count": 54,
     "metadata": {},
     "output_type": "execute_result"
    }
   ],
   "source": [
    "cursor = personDB.cursor()\n",
    "cursor"
   ]
  },
  {
   "cell_type": "markdown",
   "id": "df90129e",
   "metadata": {},
   "source": [
    "### Using limit Operator"
   ]
  },
  {
   "cell_type": "code",
   "execution_count": 55,
   "id": "d831defa",
   "metadata": {},
   "outputs": [
    {
     "name": "stdout",
     "output_type": "stream",
     "text": [
      "('john', 55, 145.66, 60, 'white')\n"
     ]
    }
   ],
   "source": [
    "data = cursor.execute(\"select * from person limit 1\");\n",
    "for i in data:\n",
    "    print(i)"
   ]
  },
  {
   "cell_type": "markdown",
   "id": "930f0eda",
   "metadata": {},
   "source": [
    "## Join Operation"
   ]
  },
  {
   "cell_type": "markdown",
   "id": "1648f24a",
   "metadata": {},
   "source": [
    "### Create table Advisor"
   ]
  },
  {
   "cell_type": "code",
   "execution_count": 58,
   "id": "c03599c9",
   "metadata": {},
   "outputs": [],
   "source": [
    "query = '''\n",
    "\n",
    "create table Advisor (AdvisorID integer primary key, AdvisorName text)\n",
    "'''"
   ]
  },
  {
   "cell_type": "code",
   "execution_count": 59,
   "id": "7bf171f6",
   "metadata": {},
   "outputs": [
    {
     "data": {
      "text/plain": [
       "<sqlite3.Cursor at 0x7f66ea362ea0>"
      ]
     },
     "execution_count": 59,
     "metadata": {},
     "output_type": "execute_result"
    }
   ],
   "source": [
    "cursor.execute(query)"
   ]
  },
  {
   "cell_type": "markdown",
   "id": "cfd3818b",
   "metadata": {},
   "source": [
    "### Create table Student"
   ]
  },
  {
   "cell_type": "code",
   "execution_count": 63,
   "id": "b695b06e",
   "metadata": {},
   "outputs": [],
   "source": [
    "query = '''\n",
    "\n",
    "create table Student (StudentID integer primary key, \n",
    "                        StudentName text, \n",
    "                        AdvisorID integer foreign_key references Advisor(AdvisorID)\n",
    "                        )\n",
    "'''"
   ]
  },
  {
   "cell_type": "code",
   "execution_count": 64,
   "id": "e3f71f97",
   "metadata": {},
   "outputs": [
    {
     "data": {
      "text/plain": [
       "<sqlite3.Cursor at 0x7f66ea362ea0>"
      ]
     },
     "execution_count": 64,
     "metadata": {},
     "output_type": "execute_result"
    }
   ],
   "source": [
    "cursor.execute(query)"
   ]
  },
  {
   "cell_type": "markdown",
   "id": "ad4ae260",
   "metadata": {},
   "source": [
    "### Insert Data to both table"
   ]
  },
  {
   "cell_type": "code",
   "execution_count": null,
   "id": "39acbc22",
   "metadata": {},
   "outputs": [],
   "source": []
  },
  {
   "cell_type": "code",
   "execution_count": null,
   "id": "ccbf03b5",
   "metadata": {},
   "outputs": [],
   "source": []
  },
  {
   "cell_type": "code",
   "execution_count": null,
   "id": "7b38529d",
   "metadata": {},
   "outputs": [],
   "source": []
  },
  {
   "cell_type": "code",
   "execution_count": null,
   "id": "5bcb982f",
   "metadata": {},
   "outputs": [],
   "source": []
  },
  {
   "cell_type": "code",
   "execution_count": null,
   "id": "47c18536",
   "metadata": {},
   "outputs": [],
   "source": []
  },
  {
   "cell_type": "code",
   "execution_count": null,
   "id": "0ce9af0c",
   "metadata": {},
   "outputs": [],
   "source": []
  },
  {
   "cell_type": "markdown",
   "id": "9371a012",
   "metadata": {},
   "source": [
    "### JOIN operation Example 2"
   ]
  },
  {
   "cell_type": "code",
   "execution_count": 65,
   "id": "f11414af",
   "metadata": {},
   "outputs": [],
   "source": [
    "# create table student"
   ]
  },
  {
   "cell_type": "code",
   "execution_count": 66,
   "id": "4e3b2aec",
   "metadata": {},
   "outputs": [
    {
     "data": {
      "text/plain": [
       "<sqlite3.Cursor at 0x7f66ea362ea0>"
      ]
     },
     "execution_count": 66,
     "metadata": {},
     "output_type": "execute_result"
    }
   ],
   "source": [
    "cursor.execute('create table student_tbl (student_id integer primary key, student_name text, student_mail text, marks integer)')"
   ]
  },
  {
   "cell_type": "code",
   "execution_count": 68,
   "id": "95039bf2",
   "metadata": {},
   "outputs": [],
   "source": [
    "# create table address"
   ]
  },
  {
   "cell_type": "code",
   "execution_count": 67,
   "id": "8aa35136",
   "metadata": {},
   "outputs": [
    {
     "data": {
      "text/plain": [
       "<sqlite3.Cursor at 0x7f66ea362ea0>"
      ]
     },
     "execution_count": 67,
     "metadata": {},
     "output_type": "execute_result"
    }
   ],
   "source": [
    "cursor.execute(\n",
    "\"\"\"\n",
    "create table address(student_id integer foreign_key references student_tbl(student_id),\n",
    "                    pincode integer, location text, nearby text, phone integer\n",
    ")\n",
    "\"\"\"\n",
    ")"
   ]
  },
  {
   "cell_type": "code",
   "execution_count": 69,
   "id": "7da5b3d5",
   "metadata": {},
   "outputs": [],
   "source": [
    "# insert records to both tables"
   ]
  },
  {
   "cell_type": "code",
   "execution_count": 71,
   "id": "8bf29135",
   "metadata": {},
   "outputs": [],
   "source": [
    "query = \"\"\"\n",
    "insert into student_tbl values\n",
    "    (10, 'arun', 'arun@gmail.com', 90),\n",
    "    (11, 'abin', 'abin@gmail.com', 70),\n",
    "    (12, 'arjun', 'arjun@gmail.com', 80),\n",
    "    (13, 'asin', 'asin@gmail.com', 40),\n",
    "    (14, 'akin', 'akin@gmail.com', 50),\n",
    "\"\"\""
   ]
  },
  {
   "cell_type": "code",
   "execution_count": 73,
   "id": "c55c57d1",
   "metadata": {},
   "outputs": [],
   "source": [
    "query = \"\"\"\n",
    "insert into student_tbl values\n",
    "    (10, 'arun', 'arun@gmail.com', 90)\n",
    "\"\"\""
   ]
  },
  {
   "cell_type": "code",
   "execution_count": 74,
   "id": "ce52775f",
   "metadata": {},
   "outputs": [
    {
     "data": {
      "text/plain": [
       "<sqlite3.Cursor at 0x7f66ea362ea0>"
      ]
     },
     "execution_count": 74,
     "metadata": {},
     "output_type": "execute_result"
    }
   ],
   "source": [
    "cursor.execute(query)"
   ]
  },
  {
   "cell_type": "code",
   "execution_count": 77,
   "id": "1493fd61",
   "metadata": {},
   "outputs": [],
   "source": [
    "query = \"\"\"\n",
    "insert into student_tbl values\n",
    "    (11, 'abin', 'abin@gmail.com', 70)\n",
    "\"\"\""
   ]
  },
  {
   "cell_type": "code",
   "execution_count": 78,
   "id": "d00d0b88",
   "metadata": {},
   "outputs": [
    {
     "data": {
      "text/plain": [
       "<sqlite3.Cursor at 0x7f66ea362ea0>"
      ]
     },
     "execution_count": 78,
     "metadata": {},
     "output_type": "execute_result"
    }
   ],
   "source": [
    "cursor.execute(query)"
   ]
  },
  {
   "cell_type": "code",
   "execution_count": 81,
   "id": "cbe37e23",
   "metadata": {},
   "outputs": [],
   "source": [
    "query = \"\"\"\n",
    "insert into student_tbl values\n",
    "    (12, 'arjun', 'arjun@gmail.com', 80)\n",
    "\"\"\""
   ]
  },
  {
   "cell_type": "code",
   "execution_count": 82,
   "id": "2a75890b",
   "metadata": {},
   "outputs": [
    {
     "data": {
      "text/plain": [
       "<sqlite3.Cursor at 0x7f66ea362ea0>"
      ]
     },
     "execution_count": 82,
     "metadata": {},
     "output_type": "execute_result"
    }
   ],
   "source": [
    "cursor.execute(query)"
   ]
  },
  {
   "cell_type": "code",
   "execution_count": 84,
   "id": "143b3fd5",
   "metadata": {},
   "outputs": [
    {
     "name": "stdout",
     "output_type": "stream",
     "text": [
      "<sqlite3.Cursor object at 0x7f66ea362ea0>\n",
      "<sqlite3.Cursor object at 0x7f66ea362ea0>\n",
      "<sqlite3.Cursor object at 0x7f66ea362ea0>\n"
     ]
    }
   ],
   "source": [
    "data = cursor.execute(\"select * from student_tbl limit 3\")\n",
    "for i in data:\n",
    "    print(data)"
   ]
  },
  {
   "cell_type": "code",
   "execution_count": 94,
   "id": "530b41bf",
   "metadata": {},
   "outputs": [],
   "source": [
    "query = \"\"\"\n",
    "insert into address values (10, 43242, 'a', 'b', 4374923)\n",
    "\"\"\""
   ]
  },
  {
   "cell_type": "code",
   "execution_count": 95,
   "id": "be2fe061",
   "metadata": {},
   "outputs": [],
   "source": [
    "# student_id integer foreign_key references student_tbl(student_id),\n",
    "#                     pincode integer, location text, nearby text, phone integer\n",
    "# )"
   ]
  },
  {
   "cell_type": "code",
   "execution_count": 96,
   "id": "b8bb60ea",
   "metadata": {},
   "outputs": [
    {
     "data": {
      "text/plain": [
       "<sqlite3.Cursor at 0x7f66ea362ea0>"
      ]
     },
     "execution_count": 96,
     "metadata": {},
     "output_type": "execute_result"
    }
   ],
   "source": [
    "cursor.execute(query)"
   ]
  },
  {
   "cell_type": "code",
   "execution_count": 97,
   "id": "65f9137e",
   "metadata": {},
   "outputs": [
    {
     "data": {
      "text/plain": [
       "<sqlite3.Cursor at 0x7f66ea362ea0>"
      ]
     },
     "execution_count": 97,
     "metadata": {},
     "output_type": "execute_result"
    }
   ],
   "source": [
    "query = \"\"\"\n",
    "insert into address values (10, 43242, 'c', 'd', 3984729)\n",
    "\"\"\"\n",
    "cursor.execute(query)"
   ]
  },
  {
   "cell_type": "code",
   "execution_count": 98,
   "id": "1c698f86",
   "metadata": {},
   "outputs": [
    {
     "data": {
      "text/plain": [
       "<sqlite3.Cursor at 0x7f66ea362ea0>"
      ]
     },
     "execution_count": 98,
     "metadata": {},
     "output_type": "execute_result"
    }
   ],
   "source": [
    "query = \"\"\"\n",
    "insert into address values (12, 53479, 'e', 'f', 3947129821)\n",
    "\"\"\"\n",
    "cursor.execute(query)"
   ]
  },
  {
   "cell_type": "code",
   "execution_count": 99,
   "id": "8dcda899",
   "metadata": {},
   "outputs": [
    {
     "data": {
      "text/plain": [
       "<sqlite3.Cursor at 0x7f66ea362ea0>"
      ]
     },
     "execution_count": 99,
     "metadata": {},
     "output_type": "execute_result"
    }
   ],
   "source": [
    "query = \"\"\"\n",
    "insert into address values (12, 374934, 't', 'h', 90213971239)\n",
    "\"\"\"\n",
    "cursor.execute(query)"
   ]
  },
  {
   "cell_type": "markdown",
   "id": "1e91481d",
   "metadata": {},
   "source": [
    "### using left join\n",
    "\n",
    "Gives all records from the left table, and only the common records from the right table."
   ]
  },
  {
   "cell_type": "code",
   "execution_count": 105,
   "id": "2f3786b9",
   "metadata": {},
   "outputs": [
    {
     "name": "stdout",
     "output_type": "stream",
     "text": [
      "(10, 'arun', 43242, 'a')\n",
      "(10, 'arun', 43242, 'c')\n",
      "(11, 'abin', None, None)\n",
      "(12, 'arjun', 53479, 'e')\n",
      "(12, 'arjun', 374934, 't')\n"
     ]
    }
   ],
   "source": [
    "query = \"\"\"\n",
    "    select student_tbl.student_id, student_name, pincode, location from \n",
    "    student_tbl left join address\n",
    "    on student_tbl.student_id = address.student_id\n",
    "\"\"\"\n",
    "data = cursor.execute(query)\n",
    "for i in data:\n",
    "    print(i)"
   ]
  },
  {
   "cell_type": "markdown",
   "id": "39ca6936",
   "metadata": {},
   "source": [
    "### Using Inner Join\n",
    "\n",
    "Inner join also represented as join which gives the records that have common attributes in both tables."
   ]
  },
  {
   "cell_type": "code",
   "execution_count": 106,
   "id": "63ed4741",
   "metadata": {},
   "outputs": [
    {
     "name": "stdout",
     "output_type": "stream",
     "text": [
      "(10, 'arun', 43242, 'a')\n",
      "(10, 'arun', 43242, 'c')\n",
      "(12, 'arjun', 53479, 'e')\n",
      "(12, 'arjun', 374934, 't')\n"
     ]
    }
   ],
   "source": [
    "query = \"\"\"\n",
    "    select student_tbl.student_id, student_name, pincode, location from \n",
    "    student_tbl inner join address\n",
    "    on student_tbl.student_id = address.student_id\n",
    "\"\"\"\n",
    "data = cursor.execute(query)\n",
    "for i in data:\n",
    "    print(i)"
   ]
  },
  {
   "cell_type": "markdown",
   "id": "d77211b4",
   "metadata": {},
   "source": [
    "### using right join"
   ]
  },
  {
   "cell_type": "code",
   "execution_count": 108,
   "id": "a895e455",
   "metadata": {},
   "outputs": [
    {
     "ename": "OperationalError",
     "evalue": "RIGHT and FULL OUTER JOINs are not currently supported",
     "output_type": "error",
     "traceback": [
      "\u001b[0;31m---------------------------------------------------------------------------\u001b[0m",
      "\u001b[0;31mOperationalError\u001b[0m                          Traceback (most recent call last)",
      "Input \u001b[0;32mIn [108]\u001b[0m, in \u001b[0;36m<module>\u001b[0;34m\u001b[0m\n\u001b[1;32m      1\u001b[0m query \u001b[38;5;241m=\u001b[39m \u001b[38;5;124m\"\"\"\u001b[39m\n\u001b[1;32m      2\u001b[0m \u001b[38;5;124m    select student_tbl.student_id, student_name, pincode, location from \u001b[39m\n\u001b[1;32m      3\u001b[0m \u001b[38;5;124m    student_tbl right join address\u001b[39m\n\u001b[1;32m      4\u001b[0m \u001b[38;5;124m    using(student_id)\u001b[39m\n\u001b[1;32m      5\u001b[0m \u001b[38;5;124m\"\"\"\u001b[39m\n\u001b[0;32m----> 6\u001b[0m data \u001b[38;5;241m=\u001b[39m \u001b[43mcursor\u001b[49m\u001b[38;5;241;43m.\u001b[39;49m\u001b[43mexecute\u001b[49m\u001b[43m(\u001b[49m\u001b[43mquery\u001b[49m\u001b[43m)\u001b[49m\n\u001b[1;32m      7\u001b[0m \u001b[38;5;28;01mfor\u001b[39;00m i \u001b[38;5;129;01min\u001b[39;00m data:\n\u001b[1;32m      8\u001b[0m     \u001b[38;5;28mprint\u001b[39m(i)\n",
      "\u001b[0;31mOperationalError\u001b[0m: RIGHT and FULL OUTER JOINs are not currently supported"
     ]
    }
   ],
   "source": [
    "query = \"\"\"\n",
    "    select student_tbl.student_id, student_name, pincode, location from \n",
    "    student_tbl right join address\n",
    "    using(student_id)\n",
    "\"\"\"\n",
    "data = cursor.execute(query)\n",
    "for i in data:\n",
    "    print(i)"
   ]
  },
  {
   "cell_type": "markdown",
   "id": "2efa09a0",
   "metadata": {},
   "source": [
    "### using cross join\n",
    "\n",
    "It combines all records of one table with all other records of another table, that is, it creates a Cartesian product of records from the join tables."
   ]
  },
  {
   "cell_type": "code",
   "execution_count": 109,
   "id": "c96d7f8e",
   "metadata": {},
   "outputs": [
    {
     "name": "stdout",
     "output_type": "stream",
     "text": [
      "(10, 'arun', 43242, 'a')\n",
      "(10, 'arun', 43242, 'c')\n",
      "(12, 'arjun', 53479, 'e')\n",
      "(12, 'arjun', 374934, 't')\n"
     ]
    }
   ],
   "source": [
    "query = \"\"\"\n",
    "    select student_tbl.student_id, student_name, pincode, location from \n",
    "    student_tbl cross join address\n",
    "    on student_tbl.student_id = address.student_id\n",
    "\"\"\"\n",
    "data = cursor.execute(query)\n",
    "for i in data:\n",
    "    print(i)"
   ]
  },
  {
   "cell_type": "markdown",
   "id": "53b0a8fd",
   "metadata": {},
   "source": [
    "## Delete Records"
   ]
  },
  {
   "cell_type": "code",
   "execution_count": 110,
   "id": "7ca1af96",
   "metadata": {},
   "outputs": [],
   "source": [
    "cursor.execute('delete from student_tbl where student_id>13');"
   ]
  },
  {
   "cell_type": "code",
   "execution_count": 111,
   "id": "693104ce",
   "metadata": {},
   "outputs": [
    {
     "name": "stdout",
     "output_type": "stream",
     "text": [
      "(10, 'arun', 'arun@gmail.com', 90)\n",
      "(11, 'abin', 'abin@gmail.com', 70)\n",
      "(12, 'arjun', 'arjun@gmail.com', 80)\n"
     ]
    }
   ],
   "source": [
    "for i in cursor.execute('select * from student_tbl'):\n",
    "    print(i)"
   ]
  },
  {
   "cell_type": "markdown",
   "id": "4379d098",
   "metadata": {},
   "source": [
    "## fetch all"
   ]
  },
  {
   "cell_type": "code",
   "execution_count": 113,
   "id": "06b91ec6",
   "metadata": {},
   "outputs": [
    {
     "data": {
      "text/plain": [
       "[(10, 'arun', 'arun@gmail.com', 90),\n",
       " (11, 'abin', 'abin@gmail.com', 70),\n",
       " (12, 'arjun', 'arjun@gmail.com', 80)]"
      ]
     },
     "execution_count": 113,
     "metadata": {},
     "output_type": "execute_result"
    }
   ],
   "source": [
    "data = cursor.execute('select * from student_tbl')\n",
    "data.fetchall()"
   ]
  },
  {
   "cell_type": "markdown",
   "id": "ea16f0e2",
   "metadata": {},
   "source": [
    "## Update Operation"
   ]
  },
  {
   "cell_type": "code",
   "execution_count": 114,
   "id": "40a1fd3c",
   "metadata": {},
   "outputs": [],
   "source": [
    "# update student id from 11 to 15"
   ]
  },
  {
   "cell_type": "code",
   "execution_count": 115,
   "id": "ff9a1b07",
   "metadata": {},
   "outputs": [
    {
     "data": {
      "text/plain": [
       "<sqlite3.Cursor at 0x7f66ea362ea0>"
      ]
     },
     "execution_count": 115,
     "metadata": {},
     "output_type": "execute_result"
    }
   ],
   "source": [
    "query = \"\"\"\n",
    "\n",
    "update student_tbl set student_id = 15 where student_id=11\n",
    "\"\"\"\n",
    "cursor.execute(query)"
   ]
  },
  {
   "cell_type": "code",
   "execution_count": 117,
   "id": "3b298ae0",
   "metadata": {},
   "outputs": [
    {
     "data": {
      "text/plain": [
       "[(10, 'arun', 'arun@gmail.com', 90),\n",
       " (12, 'arjun', 'arjun@gmail.com', 80),\n",
       " (15, 'abin', 'abin@gmail.com', 70)]"
      ]
     },
     "execution_count": 117,
     "metadata": {},
     "output_type": "execute_result"
    }
   ],
   "source": [
    "data = cursor.execute('select * from student_tbl')\n",
    "data.fetchall()"
   ]
  },
  {
   "cell_type": "code",
   "execution_count": 123,
   "id": "f4999106",
   "metadata": {},
   "outputs": [
    {
     "ename": "OperationalError",
     "evalue": "incomplete input",
     "output_type": "error",
     "traceback": [
      "\u001b[0;31m---------------------------------------------------------------------------\u001b[0m",
      "\u001b[0;31mOperationalError\u001b[0m                          Traceback (most recent call last)",
      "Input \u001b[0;32mIn [123]\u001b[0m, in \u001b[0;36m<module>\u001b[0;34m\u001b[0m\n\u001b[1;32m      1\u001b[0m query \u001b[38;5;241m=\u001b[39m \u001b[38;5;124m\"\"\"\u001b[39m\n\u001b[1;32m      2\u001b[0m \u001b[38;5;124minsert into student_tbl(student_id, student_name, student_mail, marks) values\u001b[39m\n\u001b[1;32m      3\u001b[0m \u001b[38;5;124m    (16, \u001b[39m\u001b[38;5;124m'\u001b[39m\u001b[38;5;124marun\u001b[39m\u001b[38;5;124m'\u001b[39m\u001b[38;5;124m, \u001b[39m\u001b[38;5;124m'\u001b[39m\u001b[38;5;124marun@gmail.com\u001b[39m\u001b[38;5;124m'\u001b[39m\u001b[38;5;124m, 90),\u001b[39m\n\u001b[0;32m   (...)\u001b[0m\n\u001b[1;32m      7\u001b[0m \u001b[38;5;124m    (32, \u001b[39m\u001b[38;5;124m'\u001b[39m\u001b[38;5;124makin\u001b[39m\u001b[38;5;124m'\u001b[39m\u001b[38;5;124m, \u001b[39m\u001b[38;5;124m'\u001b[39m\u001b[38;5;124makin@gmail.com\u001b[39m\u001b[38;5;124m'\u001b[39m\u001b[38;5;124m, 25),\u001b[39m\n\u001b[1;32m      8\u001b[0m \u001b[38;5;124m\"\"\"\u001b[39m\n\u001b[0;32m----> 9\u001b[0m \u001b[43mcursor\u001b[49m\u001b[38;5;241;43m.\u001b[39;49m\u001b[43mexecute\u001b[49m\u001b[43m(\u001b[49m\u001b[43mquery\u001b[49m\u001b[43m)\u001b[49m\n",
      "\u001b[0;31mOperationalError\u001b[0m: incomplete input"
     ]
    }
   ],
   "source": [
    "query = \"\"\"\n",
    "insert into student_tbl(student_id, student_name, student_mail, marks) values\n",
    "    (16, 'arun', 'arun@gmail.com', 90),\n",
    "    (17, 'abin', 'abin@gmail.com', 30),\n",
    "    (19, 'aseera', 'arjun@gmail.com', 80),\n",
    "    (23, 'dona', 'asin@gmail.com', 100),\n",
    "    (32, 'akin', 'akin@gmail.com', 25),\n",
    "\"\"\"\n",
    "cursor.execute(query)"
   ]
  },
  {
   "cell_type": "code",
   "execution_count": null,
   "id": "2f8d97ee",
   "metadata": {},
   "outputs": [],
   "source": []
  },
  {
   "cell_type": "code",
   "execution_count": null,
   "id": "231b102c",
   "metadata": {},
   "outputs": [],
   "source": []
  }
 ],
 "metadata": {
  "kernelspec": {
   "display_name": "Python 3 (ipykernel)",
   "language": "python",
   "name": "python3"
  },
  "language_info": {
   "codemirror_mode": {
    "name": "ipython",
    "version": 3
   },
   "file_extension": ".py",
   "mimetype": "text/x-python",
   "name": "python",
   "nbconvert_exporter": "python",
   "pygments_lexer": "ipython3",
   "version": "3.8.10"
  }
 },
 "nbformat": 4,
 "nbformat_minor": 5
}
