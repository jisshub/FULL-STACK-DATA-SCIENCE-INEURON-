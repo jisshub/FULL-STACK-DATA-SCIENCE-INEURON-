{
 "cells": [
  {
   "cell_type": "code",
   "execution_count": 1,
   "id": "7103302f",
   "metadata": {},
   "outputs": [],
   "source": [
    "import numpy as np"
   ]
  },
  {
   "cell_type": "code",
   "execution_count": 2,
   "id": "68de3bc2",
   "metadata": {},
   "outputs": [
    {
     "data": {
      "text/plain": [
       "array([ 1,  4,  7, 10, 13, 16, 19])"
      ]
     },
     "execution_count": 2,
     "metadata": {},
     "output_type": "execute_result"
    }
   ],
   "source": [
    "np.arange(1, 20, 3)"
   ]
  },
  {
   "cell_type": "code",
   "execution_count": 3,
   "id": "71efd631",
   "metadata": {},
   "outputs": [
    {
     "data": {
      "text/plain": [
       "array([10, 20, 30])"
      ]
     },
     "execution_count": 3,
     "metadata": {},
     "output_type": "execute_result"
    }
   ],
   "source": [
    "np.array([10, 20, 30])"
   ]
  },
  {
   "cell_type": "markdown",
   "id": "f7bec75d",
   "metadata": {},
   "source": [
    "### zeros"
   ]
  },
  {
   "cell_type": "code",
   "execution_count": 6,
   "id": "885d73ac",
   "metadata": {},
   "outputs": [],
   "source": [
    "a = np.zeros((3,5,5))"
   ]
  },
  {
   "cell_type": "code",
   "execution_count": 7,
   "id": "42ba44a8",
   "metadata": {},
   "outputs": [
    {
     "data": {
      "text/plain": [
       "array([[[0., 0., 0., 0., 0.],\n",
       "        [0., 0., 0., 0., 0.],\n",
       "        [0., 0., 0., 0., 0.],\n",
       "        [0., 0., 0., 0., 0.],\n",
       "        [0., 0., 0., 0., 0.]],\n",
       "\n",
       "       [[0., 0., 0., 0., 0.],\n",
       "        [0., 0., 0., 0., 0.],\n",
       "        [0., 0., 0., 0., 0.],\n",
       "        [0., 0., 0., 0., 0.],\n",
       "        [0., 0., 0., 0., 0.]],\n",
       "\n",
       "       [[0., 0., 0., 0., 0.],\n",
       "        [0., 0., 0., 0., 0.],\n",
       "        [0., 0., 0., 0., 0.],\n",
       "        [0., 0., 0., 0., 0.],\n",
       "        [0., 0., 0., 0., 0.]]])"
      ]
     },
     "execution_count": 7,
     "metadata": {},
     "output_type": "execute_result"
    }
   ],
   "source": [
    "a"
   ]
  },
  {
   "cell_type": "code",
   "execution_count": 8,
   "id": "3106506f",
   "metadata": {},
   "outputs": [
    {
     "data": {
      "text/plain": [
       "3"
      ]
     },
     "execution_count": 8,
     "metadata": {},
     "output_type": "execute_result"
    }
   ],
   "source": [
    "a.ndim"
   ]
  },
  {
   "cell_type": "code",
   "execution_count": 9,
   "id": "6a63dc43",
   "metadata": {},
   "outputs": [
    {
     "data": {
      "text/plain": [
       "75"
      ]
     },
     "execution_count": 9,
     "metadata": {},
     "output_type": "execute_result"
    }
   ],
   "source": [
    "a.size"
   ]
  },
  {
   "cell_type": "code",
   "execution_count": 11,
   "id": "25e1143e",
   "metadata": {},
   "outputs": [
    {
     "data": {
      "text/plain": [
       "(3, 5, 5)"
      ]
     },
     "execution_count": 11,
     "metadata": {},
     "output_type": "execute_result"
    }
   ],
   "source": [
    "a.shape"
   ]
  },
  {
   "cell_type": "markdown",
   "id": "b712a150",
   "metadata": {},
   "source": [
    "### ones"
   ]
  },
  {
   "cell_type": "code",
   "execution_count": 13,
   "id": "7b8e31aa",
   "metadata": {},
   "outputs": [
    {
     "data": {
      "text/plain": [
       "array([1., 1., 1., 1.])"
      ]
     },
     "execution_count": 13,
     "metadata": {},
     "output_type": "execute_result"
    }
   ],
   "source": [
    "np.ones(4)"
   ]
  },
  {
   "cell_type": "code",
   "execution_count": 14,
   "id": "e443d97a",
   "metadata": {},
   "outputs": [
    {
     "data": {
      "text/plain": [
       "array([[1., 1., 1., 1., 1.],\n",
       "       [1., 1., 1., 1., 1.],\n",
       "       [1., 1., 1., 1., 1.],\n",
       "       [1., 1., 1., 1., 1.]])"
      ]
     },
     "execution_count": 14,
     "metadata": {},
     "output_type": "execute_result"
    }
   ],
   "source": [
    "np.ones((4,5))"
   ]
  },
  {
   "cell_type": "code",
   "execution_count": 16,
   "id": "3be16944",
   "metadata": {},
   "outputs": [
    {
     "data": {
      "text/plain": [
       "array([[[1., 1., 1., 1., 1.],\n",
       "        [1., 1., 1., 1., 1.],\n",
       "        [1., 1., 1., 1., 1.],\n",
       "        [1., 1., 1., 1., 1.]],\n",
       "\n",
       "       [[1., 1., 1., 1., 1.],\n",
       "        [1., 1., 1., 1., 1.],\n",
       "        [1., 1., 1., 1., 1.],\n",
       "        [1., 1., 1., 1., 1.]],\n",
       "\n",
       "       [[1., 1., 1., 1., 1.],\n",
       "        [1., 1., 1., 1., 1.],\n",
       "        [1., 1., 1., 1., 1.],\n",
       "        [1., 1., 1., 1., 1.]]])"
      ]
     },
     "execution_count": 16,
     "metadata": {},
     "output_type": "execute_result"
    }
   ],
   "source": [
    "np.ones((3, 4, 5))\n",
    "\n",
    "# 3 arrays with 4 rows and 5 columns"
   ]
  },
  {
   "cell_type": "markdown",
   "id": "86ed559a",
   "metadata": {},
   "source": [
    "## broadcasting"
   ]
  },
  {
   "cell_type": "code",
   "execution_count": 19,
   "id": "9e50867b",
   "metadata": {},
   "outputs": [],
   "source": [
    "numpy1 = np.arange(10, 20)"
   ]
  },
  {
   "cell_type": "code",
   "execution_count": 22,
   "id": "2f921b1d",
   "metadata": {},
   "outputs": [],
   "source": [
    "a = numpy1.reshape(2,5)"
   ]
  },
  {
   "cell_type": "code",
   "execution_count": 23,
   "id": "1c5cbd90",
   "metadata": {},
   "outputs": [
    {
     "data": {
      "text/plain": [
       "array([[10, 11, 12, 13, 14],\n",
       "       [15, 16, 17, 18, 19]])"
      ]
     },
     "execution_count": 23,
     "metadata": {},
     "output_type": "execute_result"
    }
   ],
   "source": [
    "a"
   ]
  },
  {
   "cell_type": "code",
   "execution_count": 24,
   "id": "838537f5",
   "metadata": {},
   "outputs": [],
   "source": [
    "numpy2 = np.arange(20, 30)"
   ]
  },
  {
   "cell_type": "code",
   "execution_count": 25,
   "id": "be13d9f3",
   "metadata": {},
   "outputs": [],
   "source": [
    "a1 = numpy2.reshape(2,5)"
   ]
  },
  {
   "cell_type": "code",
   "execution_count": 26,
   "id": "826b61b4",
   "metadata": {},
   "outputs": [
    {
     "data": {
      "text/plain": [
       "array([[20, 21, 22, 23, 24],\n",
       "       [25, 26, 27, 28, 29]])"
      ]
     },
     "execution_count": 26,
     "metadata": {},
     "output_type": "execute_result"
    }
   ],
   "source": [
    "a1"
   ]
  },
  {
   "cell_type": "code",
   "execution_count": 27,
   "id": "46758e2d",
   "metadata": {},
   "outputs": [],
   "source": [
    "arr_br = a + a1"
   ]
  },
  {
   "cell_type": "code",
   "execution_count": 28,
   "id": "86c2cb03",
   "metadata": {},
   "outputs": [
    {
     "data": {
      "text/plain": [
       "array([[30, 32, 34, 36, 38],\n",
       "       [40, 42, 44, 46, 48]])"
      ]
     },
     "execution_count": 28,
     "metadata": {},
     "output_type": "execute_result"
    }
   ],
   "source": [
    "arr_br"
   ]
  },
  {
   "cell_type": "markdown",
   "id": "8ade2d6f",
   "metadata": {},
   "source": [
    "### linspace"
   ]
  },
  {
   "cell_type": "code",
   "execution_count": 29,
   "id": "29a7a389",
   "metadata": {},
   "outputs": [
    {
     "data": {
      "text/plain": [
       "array([2. , 2.6, 3.2, 3.8, 4.4, 5. ])"
      ]
     },
     "execution_count": 29,
     "metadata": {},
     "output_type": "execute_result"
    }
   ],
   "source": [
    "np.linspace(2, 5, num=6)"
   ]
  },
  {
   "cell_type": "code",
   "execution_count": 31,
   "id": "2433389e",
   "metadata": {},
   "outputs": [
    {
     "data": {
      "text/plain": [
       "array([   1000.,  112000.,  223000.,  334000.,  445000.,  556000.,\n",
       "        667000.,  778000.,  889000., 1000000.])"
      ]
     },
     "execution_count": 31,
     "metadata": {},
     "output_type": "execute_result"
    }
   ],
   "source": [
    "np.linspace(1000, 1000000, num=10)"
   ]
  },
  {
   "cell_type": "code",
   "execution_count": 34,
   "id": "bb9db687",
   "metadata": {},
   "outputs": [
    {
     "data": {
      "text/plain": [
       "array([[ 3.        ,  3.77777778],\n",
       "       [ 4.55555556,  5.33333333],\n",
       "       [ 6.11111111,  6.88888889],\n",
       "       [ 7.66666667,  8.44444444],\n",
       "       [ 9.22222222, 10.        ]])"
      ]
     },
     "execution_count": 34,
     "metadata": {},
     "output_type": "execute_result"
    }
   ],
   "source": [
    "np.linspace(3, 10, 10).reshape(5,2)"
   ]
  },
  {
   "cell_type": "markdown",
   "id": "af91dfd6",
   "metadata": {},
   "source": [
    "### using endpoints\n",
    "\n",
    "If we endpoints to false, it remove some decimal points from end"
   ]
  },
  {
   "cell_type": "code",
   "execution_count": 39,
   "id": "693eb81d",
   "metadata": {},
   "outputs": [
    {
     "data": {
      "text/plain": [
       "array([[ 6.  ,  6.65,  7.3 ,  7.95,  8.6 ],\n",
       "       [ 9.25,  9.9 , 10.55, 11.2 , 11.85],\n",
       "       [12.5 , 13.15, 13.8 , 14.45, 15.1 ],\n",
       "       [15.75, 16.4 , 17.05, 17.7 , 18.35]])"
      ]
     },
     "execution_count": 39,
     "metadata": {},
     "output_type": "execute_result"
    }
   ],
   "source": [
    "np.linspace(6, 19, 20, endpoint=False).reshape(4,5)"
   ]
  },
  {
   "cell_type": "markdown",
   "id": "2f309614",
   "metadata": {},
   "source": [
    "## logspace\n",
    "\n",
    "Return numbers spaced evenly on a log scale."
   ]
  },
  {
   "cell_type": "code",
   "execution_count": 40,
   "id": "8872f49a",
   "metadata": {},
   "outputs": [
    {
     "data": {
      "text/plain": [
       "array([1.00000000e+01, 9.54992586e+01, 9.12010839e+02, 8.70963590e+03,\n",
       "       8.31763771e+04, 7.94328235e+05, 7.58577575e+06, 7.24435960e+07,\n",
       "       6.91830971e+08, 6.60693448e+09, 6.30957344e+10, 6.02559586e+11,\n",
       "       5.75439937e+12, 5.49540874e+13, 5.24807460e+14, 5.01187234e+15,\n",
       "       4.78630092e+16, 4.57088190e+17, 4.36515832e+18, 4.16869383e+19,\n",
       "       3.98107171e+20, 3.80189396e+21, 3.63078055e+22, 3.46736850e+23,\n",
       "       3.31131121e+24, 3.16227766e+25, 3.01995172e+26, 2.88403150e+27,\n",
       "       2.75422870e+28, 2.63026799e+29, 2.51188643e+30, 2.39883292e+31,\n",
       "       2.29086765e+32, 2.18776162e+33, 2.08929613e+34, 1.99526231e+35,\n",
       "       1.90546072e+36, 1.81970086e+37, 1.73780083e+38, 1.65958691e+39,\n",
       "       1.58489319e+40, 1.51356125e+41, 1.44543977e+42, 1.38038426e+43,\n",
       "       1.31825674e+44, 1.25892541e+45, 1.20226443e+46, 1.14815362e+47,\n",
       "       1.09647820e+48, 1.04712855e+49])"
      ]
     },
     "execution_count": 40,
     "metadata": {},
     "output_type": "execute_result"
    }
   ],
   "source": [
    "np.logspace(1, 50, 50, endpoint=False)"
   ]
  },
  {
   "cell_type": "markdown",
   "id": "c674fd1e",
   "metadata": {},
   "source": [
    "### broadcasting"
   ]
  },
  {
   "cell_type": "code",
   "execution_count": 48,
   "id": "befb5783",
   "metadata": {},
   "outputs": [],
   "source": [
    "a1 = np.arange(10, 26)"
   ]
  },
  {
   "cell_type": "code",
   "execution_count": 51,
   "id": "fd55b6cf",
   "metadata": {},
   "outputs": [],
   "source": [
    "num1 = a1.reshape(4,4)"
   ]
  },
  {
   "cell_type": "code",
   "execution_count": 44,
   "id": "9c5facab",
   "metadata": {},
   "outputs": [],
   "source": [
    "a2 = np.arange(20, 30)"
   ]
  },
  {
   "cell_type": "code",
   "execution_count": 52,
   "id": "c8cf4a78",
   "metadata": {},
   "outputs": [],
   "source": [
    "num2 = a2.reshape(5,2)"
   ]
  },
  {
   "cell_type": "code",
   "execution_count": 54,
   "id": "83e4433f",
   "metadata": {},
   "outputs": [
    {
     "ename": "ValueError",
     "evalue": "operands could not be broadcast together with shapes (4,4) (5,2) ",
     "output_type": "error",
     "traceback": [
      "\u001b[0;31m---------------------------------------------------------------------------\u001b[0m",
      "\u001b[0;31mValueError\u001b[0m                                Traceback (most recent call last)",
      "\u001b[0;32m/tmp/ipykernel_6541/4217045052.py\u001b[0m in \u001b[0;36m<module>\u001b[0;34m\u001b[0m\n\u001b[0;32m----> 1\u001b[0;31m \u001b[0mnum1\u001b[0m \u001b[0;34m+\u001b[0m \u001b[0mnum2\u001b[0m\u001b[0;34m\u001b[0m\u001b[0;34m\u001b[0m\u001b[0m\n\u001b[0m",
      "\u001b[0;31mValueError\u001b[0m: operands could not be broadcast together with shapes (4,4) (5,2) "
     ]
    }
   ],
   "source": [
    "num1 + num2"
   ]
  },
  {
   "cell_type": "markdown",
   "id": "eb0a6714",
   "metadata": {},
   "source": [
    "### Convert 1D to 2D array"
   ]
  },
  {
   "cell_type": "code",
   "execution_count": 55,
   "id": "fb100db6",
   "metadata": {},
   "outputs": [
    {
     "data": {
      "text/plain": [
       "array([  1,  11,  33,  44,  66, 100])"
      ]
     },
     "execution_count": 55,
     "metadata": {},
     "output_type": "execute_result"
    }
   ],
   "source": [
    "arr1 = np.array([1, 11, 33, 44, 66, 100])\n",
    "arr1"
   ]
  },
  {
   "cell_type": "code",
   "execution_count": 56,
   "id": "4b01f166",
   "metadata": {},
   "outputs": [
    {
     "data": {
      "text/plain": [
       "1"
      ]
     },
     "execution_count": 56,
     "metadata": {},
     "output_type": "execute_result"
    }
   ],
   "source": [
    "arr1.ndim"
   ]
  },
  {
   "cell_type": "code",
   "execution_count": 58,
   "id": "91f20e46",
   "metadata": {},
   "outputs": [],
   "source": [
    "arr2 = arr1.reshape(1, -1)"
   ]
  },
  {
   "cell_type": "code",
   "execution_count": 59,
   "id": "79be5e8b",
   "metadata": {},
   "outputs": [
    {
     "data": {
      "text/plain": [
       "array([[  1,  11,  33,  44,  66, 100]])"
      ]
     },
     "execution_count": 59,
     "metadata": {},
     "output_type": "execute_result"
    }
   ],
   "source": [
    "arr2"
   ]
  },
  {
   "cell_type": "code",
   "execution_count": 60,
   "id": "4481131b",
   "metadata": {},
   "outputs": [
    {
     "data": {
      "text/plain": [
       "2"
      ]
     },
     "execution_count": 60,
     "metadata": {},
     "output_type": "execute_result"
    }
   ],
   "source": [
    "arr2.ndim"
   ]
  },
  {
   "cell_type": "markdown",
   "id": "864e5bdd",
   "metadata": {},
   "source": [
    "## copy array"
   ]
  },
  {
   "cell_type": "code",
   "execution_count": 61,
   "id": "5ab4df7c",
   "metadata": {},
   "outputs": [
    {
     "data": {
      "text/plain": [
       "array([  6,  10, 103, 101])"
      ]
     },
     "execution_count": 61,
     "metadata": {},
     "output_type": "execute_result"
    }
   ],
   "source": [
    "x = np.array([6, 10 ,103, 101])\n",
    "x"
   ]
  },
  {
   "cell_type": "code",
   "execution_count": 69,
   "id": "8508e589",
   "metadata": {},
   "outputs": [],
   "source": [
    "# copy the array using np.copy method"
   ]
  },
  {
   "cell_type": "code",
   "execution_count": 62,
   "id": "e868e163",
   "metadata": {},
   "outputs": [],
   "source": [
    "y = x.copy()"
   ]
  },
  {
   "cell_type": "code",
   "execution_count": 63,
   "id": "60a236ab",
   "metadata": {},
   "outputs": [
    {
     "data": {
      "text/plain": [
       "array([  6,  10, 103, 101])"
      ]
     },
     "execution_count": 63,
     "metadata": {},
     "output_type": "execute_result"
    }
   ],
   "source": [
    "y"
   ]
  },
  {
   "cell_type": "code",
   "execution_count": 65,
   "id": "252c9cef",
   "metadata": {},
   "outputs": [],
   "source": [
    "x[2] = 105"
   ]
  },
  {
   "cell_type": "code",
   "execution_count": 66,
   "id": "5ab8e2d3",
   "metadata": {},
   "outputs": [
    {
     "data": {
      "text/plain": [
       "array([  6,  10, 105, 101])"
      ]
     },
     "execution_count": 66,
     "metadata": {},
     "output_type": "execute_result"
    }
   ],
   "source": [
    "x"
   ]
  },
  {
   "cell_type": "code",
   "execution_count": 77,
   "id": "da779187",
   "metadata": {},
   "outputs": [
    {
     "data": {
      "text/plain": [
       "array([  6,  10, 103, 101])"
      ]
     },
     "execution_count": 77,
     "metadata": {},
     "output_type": "execute_result"
    }
   ],
   "source": [
    "y"
   ]
  },
  {
   "cell_type": "markdown",
   "id": "a979589b",
   "metadata": {},
   "source": [
    "**Summary:**\n",
    "\n",
    "if we use np.copy() method for copying an array, then if we update an array, \n",
    "that change is not also reflected on another array."
   ]
  },
  {
   "cell_type": "markdown",
   "id": "7507fee5",
   "metadata": {},
   "source": [
    "### copy the array using assignment ooperator"
   ]
  },
  {
   "cell_type": "code",
   "execution_count": 70,
   "id": "6e1b2d87",
   "metadata": {},
   "outputs": [
    {
     "data": {
      "text/plain": [
       "array([  6,  10, 105, 101])"
      ]
     },
     "execution_count": 70,
     "metadata": {},
     "output_type": "execute_result"
    }
   ],
   "source": [
    "x"
   ]
  },
  {
   "cell_type": "code",
   "execution_count": 71,
   "id": "486e6b71",
   "metadata": {},
   "outputs": [],
   "source": [
    "z = x"
   ]
  },
  {
   "cell_type": "code",
   "execution_count": 72,
   "id": "4a80b79c",
   "metadata": {},
   "outputs": [
    {
     "data": {
      "text/plain": [
       "array([  6,  10, 105, 101])"
      ]
     },
     "execution_count": 72,
     "metadata": {},
     "output_type": "execute_result"
    }
   ],
   "source": [
    "z"
   ]
  },
  {
   "cell_type": "code",
   "execution_count": 74,
   "id": "d25778df",
   "metadata": {},
   "outputs": [],
   "source": [
    "x[2] = 20"
   ]
  },
  {
   "cell_type": "code",
   "execution_count": 75,
   "id": "4b71d4bf",
   "metadata": {},
   "outputs": [
    {
     "data": {
      "text/plain": [
       "array([  6,  10,  20, 101])"
      ]
     },
     "execution_count": 75,
     "metadata": {},
     "output_type": "execute_result"
    }
   ],
   "source": [
    "x"
   ]
  },
  {
   "cell_type": "code",
   "execution_count": 76,
   "id": "6dfbea4c",
   "metadata": {},
   "outputs": [
    {
     "data": {
      "text/plain": [
       "array([  6,  10,  20, 101])"
      ]
     },
     "execution_count": 76,
     "metadata": {},
     "output_type": "execute_result"
    }
   ],
   "source": [
    "z"
   ]
  },
  {
   "cell_type": "markdown",
   "id": "b48086cb",
   "metadata": {},
   "source": [
    "**Summary:**\n",
    "\n",
    "if we use assignment operator for copying an array, then if we update an array, \n",
    "that change is also reflected on another array aw well. "
   ]
  },
  {
   "cell_type": "markdown",
   "id": "34897db5",
   "metadata": {},
   "source": [
    "## id method"
   ]
  },
  {
   "cell_type": "code",
   "execution_count": 81,
   "id": "44a10531",
   "metadata": {},
   "outputs": [],
   "source": [
    "z = np.array([6, 10 ,30 ,1001, 303])"
   ]
  },
  {
   "cell_type": "code",
   "execution_count": 82,
   "id": "e30548fa",
   "metadata": {},
   "outputs": [
    {
     "data": {
      "text/plain": [
       "array([   6,   10,   30, 1001,  303])"
      ]
     },
     "execution_count": 82,
     "metadata": {},
     "output_type": "execute_result"
    }
   ],
   "source": [
    "z"
   ]
  },
  {
   "cell_type": "code",
   "execution_count": 83,
   "id": "1b8c61c7",
   "metadata": {},
   "outputs": [
    {
     "data": {
      "text/plain": [
       "140163594306672"
      ]
     },
     "execution_count": 83,
     "metadata": {},
     "output_type": "execute_result"
    }
   ],
   "source": [
    "id(z[2])"
   ]
  },
  {
   "cell_type": "code",
   "execution_count": 84,
   "id": "802751fb",
   "metadata": {},
   "outputs": [
    {
     "data": {
      "text/plain": [
       "140163580780976"
      ]
     },
     "execution_count": 84,
     "metadata": {},
     "output_type": "execute_result"
    }
   ],
   "source": [
    "id(z[4])"
   ]
  },
  {
   "cell_type": "code",
   "execution_count": 85,
   "id": "ab293482",
   "metadata": {},
   "outputs": [
    {
     "data": {
      "text/plain": [
       "True"
      ]
     },
     "execution_count": 85,
     "metadata": {},
     "output_type": "execute_result"
    }
   ],
   "source": [
    "id(z[2]) == id(z[4])"
   ]
  },
  {
   "cell_type": "code",
   "execution_count": null,
   "id": "0451f92a",
   "metadata": {},
   "outputs": [],
   "source": []
  }
 ],
 "metadata": {
  "kernelspec": {
   "display_name": "Python 3 (ipykernel)",
   "language": "python",
   "name": "python3"
  },
  "language_info": {
   "codemirror_mode": {
    "name": "ipython",
    "version": 3
   },
   "file_extension": ".py",
   "mimetype": "text/x-python",
   "name": "python",
   "nbconvert_exporter": "python",
   "pygments_lexer": "ipython3",
   "version": "3.9.7"
  }
 },
 "nbformat": 4,
 "nbformat_minor": 5
}
