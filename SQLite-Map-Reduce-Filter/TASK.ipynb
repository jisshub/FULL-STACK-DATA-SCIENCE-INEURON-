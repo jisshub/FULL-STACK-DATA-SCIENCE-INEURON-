{
 "cells": [
  {
   "cell_type": "markdown",
   "id": "438b48d3",
   "metadata": {},
   "source": [
    "dataset - https://archive.ics.uci.edu/ml/datasets/bag+of+words\n",
    "\n",
    "https://archive.ics.uci.edu/ml/datasets/bag+of+words\n",
    "\n",
    "\n",
    "Download text files in above repository.\n",
    "\n",
    "download files starting with vocab - total 5 files.\n",
    "\n",
    "**Questions**\n",
    "\n",
    "1. Find out count of each and every word in respective file. return a list of tuples\n",
    "    with word and its count.\n",
    "    \n",
    "    Example: [('word', count), (word, count), .........]\n",
    "    \n",
    "\n",
    "2. Perform reduce method or any other method to get count of all the word starting with same alphabet.\n",
    "\n",
    "    Example [(alphabet, count), (alphabet, count), .......]\n",
    "    \n",
    "\n",
    "3. Filter out all the words from dataset.\n",
    "\n",
    "    Example:\n",
    "    \n",
    "    **real word**              **filtered word**\n",
    "    \n",
    "    \".001.abstract\"      =>        \"abstract\"\n",
    "    \n",
    "    \".002\"(delete this word) =>               \n",
    "    \n",
    "\n",
    "4. Create a tuple set of all records available in all the 5files and then store it in \n",
    "    sqlite db.\n",
    "    \n",
    "    Examples: (aah,>=,dssad,sda)\n",
    "                (323, >=, dsfsd, dfs)\n",
    "    \n",
    "    "
   ]
  },
  {
   "cell_type": "markdown",
   "id": "ae67f71c",
   "metadata": {},
   "source": [
    "### Task description"
   ]
  },
  {
   "cell_type": "markdown",
   "id": "62f96aca",
   "metadata": {},
   "source": [
    "  dataset -   https://archive.ics.uci.edu/ml/datasets/Bag+of+Words\n",
    "    \n",
    "    q1 = try to find out a count of each and every word in a respective file return a list of tuple with word and its respective count \n",
    "       sample example -  [('sudh', 6 ) , ('kumar',3)]\n",
    "    q2 = try to perform a reduce operation to get a count of all the word starting with same alphabet\n",
    "        sample examle = [(a,56) , (b,34),...........]\n",
    "    q3 = Try to filter out all the words from dataset . \n",
    "    \n",
    "    .001.abstract = abstract\n",
    "    =.002 = delete\n",
    "    q4 = create a tuple set of all the records avaialble in all the five file and then store it in sqllite DB . \n",
    "    (aah,>=,354,fdsf,wer)"
   ]
  },
  {
   "cell_type": "code",
   "execution_count": null,
   "id": "7cf12ef6",
   "metadata": {},
   "outputs": [],
   "source": []
  }
 ],
 "metadata": {
  "kernelspec": {
   "display_name": "Python 3 (ipykernel)",
   "language": "python",
   "name": "python3"
  },
  "language_info": {
   "codemirror_mode": {
    "name": "ipython",
    "version": 3
   },
   "file_extension": ".py",
   "mimetype": "text/x-python",
   "name": "python",
   "nbconvert_exporter": "python",
   "pygments_lexer": "ipython3",
   "version": "3.8.10"
  }
 },
 "nbformat": 4,
 "nbformat_minor": 5
}
