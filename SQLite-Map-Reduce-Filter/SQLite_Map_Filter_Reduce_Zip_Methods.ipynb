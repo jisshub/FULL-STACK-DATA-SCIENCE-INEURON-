{
 "cells": [
  {
   "cell_type": "raw",
   "id": "cef86cab",
   "metadata": {},
   "source": [
    "## SQLite Notes"
   ]
  },
  {
   "cell_type": "markdown",
   "id": "f85bc783",
   "metadata": {},
   "source": [
    "### Import sqlite package"
   ]
  },
  {
   "cell_type": "code",
   "execution_count": 1,
   "id": "728eb8a4",
   "metadata": {},
   "outputs": [],
   "source": [
    "import sqlite3"
   ]
  },
  {
   "cell_type": "markdown",
   "id": "34bbe511",
   "metadata": {},
   "source": [
    "### Connect to DB"
   ]
  },
  {
   "cell_type": "code",
   "execution_count": 3,
   "id": "a7ddb150",
   "metadata": {},
   "outputs": [],
   "source": [
    "# connect and create a database      \n",
    "db = sqlite3.connect('ineuron.db')\n",
    "\n",
    "# we created a database file ineuron.db"
   ]
  },
  {
   "cell_type": "code",
   "execution_count": 6,
   "id": "1683199b",
   "metadata": {},
   "outputs": [
    {
     "name": "stdout",
     "output_type": "stream",
     "text": [
      "total 4.0K\r\n",
      "-rw-r--r-- 1 fact12 fact12    0 Feb 20 10:30 ineuron.db\r\n",
      "-rw-rw-r-- 1 fact12 fact12 1.2K Feb 20 10:31 SQLite_For_Python_1.ipynb\r\n"
     ]
    }
   ],
   "source": [
    "ls -lh"
   ]
  },
  {
   "cell_type": "markdown",
   "id": "933f06f8",
   "metadata": {},
   "source": [
    "### Create Cursor\n",
    "\n",
    "Object Responsible for executing every queries in sqlite."
   ]
  },
  {
   "cell_type": "code",
   "execution_count": 7,
   "id": "24e5e9eb",
   "metadata": {},
   "outputs": [
    {
     "data": {
      "text/plain": [
       "<sqlite3.Cursor at 0x7f6700160a40>"
      ]
     },
     "execution_count": 7,
     "metadata": {},
     "output_type": "execute_result"
    }
   ],
   "source": [
    "cursor = db.cursor()\n",
    "cursor"
   ]
  },
  {
   "cell_type": "markdown",
   "id": "dd4b919c",
   "metadata": {},
   "source": [
    "### Execute Query"
   ]
  },
  {
   "cell_type": "code",
   "execution_count": 8,
   "id": "c1a68800",
   "metadata": {},
   "outputs": [
    {
     "data": {
      "text/plain": [
       "<sqlite3.Cursor at 0x7f6700160a40>"
      ]
     },
     "execution_count": 8,
     "metadata": {},
     "output_type": "execute_result"
    }
   ],
   "source": [
    "query = 'create table fsds_batch (name text, batch_id int, marks real)'\n",
    "cursor.execute(query)"
   ]
  },
  {
   "cell_type": "markdown",
   "id": "efc27a41",
   "metadata": {},
   "source": [
    "### Insert Data"
   ]
  },
  {
   "cell_type": "code",
   "execution_count": 9,
   "id": "d48bb53d",
   "metadata": {},
   "outputs": [
    {
     "data": {
      "text/plain": [
       "<sqlite3.Cursor at 0x7f6700160a40>"
      ]
     },
     "execution_count": 9,
     "metadata": {},
     "output_type": "execute_result"
    }
   ],
   "source": [
    "query = 'insert into fsds_batch (name, batch_id, marks) values(\"jissmon\", 444, 60)';\n",
    "cursor.execute(query)"
   ]
  },
  {
   "cell_type": "code",
   "execution_count": 10,
   "id": "5e589b86",
   "metadata": {},
   "outputs": [
    {
     "data": {
      "text/plain": [
       "<sqlite3.Cursor at 0x7f6700160a40>"
      ]
     },
     "execution_count": 10,
     "metadata": {},
     "output_type": "execute_result"
    }
   ],
   "source": [
    "query = 'insert into fsds_batch values(\"adharsh\", 444, 30), (\"sudhanshu\", 444, 80)';\n",
    "cursor.execute(query)"
   ]
  },
  {
   "cell_type": "markdown",
   "id": "a3536aae",
   "metadata": {},
   "source": [
    "### Read/View Data"
   ]
  },
  {
   "cell_type": "code",
   "execution_count": 12,
   "id": "5a31314c",
   "metadata": {},
   "outputs": [],
   "source": [
    "data = cursor.execute(\"select * from fsds_batch\");"
   ]
  },
  {
   "cell_type": "code",
   "execution_count": 13,
   "id": "ecdbb8d6",
   "metadata": {},
   "outputs": [
    {
     "name": "stdout",
     "output_type": "stream",
     "text": [
      "('jissmon', 444, 60.0)\n",
      "('adharsh', 444, 30.0)\n",
      "('sudhanshu', 444, 80.0)\n"
     ]
    }
   ],
   "source": [
    "for dt in data:\n",
    "    print(dt)"
   ]
  },
  {
   "cell_type": "markdown",
   "id": "516a2cea",
   "metadata": {},
   "source": [
    "### Commit Data for permanent storage"
   ]
  },
  {
   "cell_type": "code",
   "execution_count": 14,
   "id": "1d51cd84",
   "metadata": {},
   "outputs": [],
   "source": [
    "db.commit()"
   ]
  },
  {
   "cell_type": "markdown",
   "id": "6e69746b",
   "metadata": {},
   "source": [
    "### Close connection to DB"
   ]
  },
  {
   "cell_type": "code",
   "execution_count": 15,
   "id": "dc63b106",
   "metadata": {},
   "outputs": [],
   "source": [
    "db.close()"
   ]
  },
  {
   "cell_type": "markdown",
   "id": "8fbcb5cf",
   "metadata": {},
   "source": [
    "### Connect to DB Again"
   ]
  },
  {
   "cell_type": "code",
   "execution_count": 19,
   "id": "60bbc8f0",
   "metadata": {},
   "outputs": [],
   "source": [
    "db = sqlite3.connect('ineuron.db')"
   ]
  },
  {
   "cell_type": "markdown",
   "id": "ba1c5d97",
   "metadata": {},
   "source": [
    "### Fetch Records using WHERE clause"
   ]
  },
  {
   "cell_type": "code",
   "execution_count": 20,
   "id": "a29f89ab",
   "metadata": {},
   "outputs": [
    {
     "ename": "ProgrammingError",
     "evalue": "Cannot operate on a closed database.",
     "output_type": "error",
     "traceback": [
      "\u001b[0;31m---------------------------------------------------------------------------\u001b[0m",
      "\u001b[0;31mProgrammingError\u001b[0m                          Traceback (most recent call last)",
      "Input \u001b[0;32mIn [20]\u001b[0m, in \u001b[0;36m<module>\u001b[0;34m\u001b[0m\n\u001b[0;32m----> 1\u001b[0m \u001b[43mcursor\u001b[49m\u001b[38;5;241;43m.\u001b[39;49m\u001b[43mexecute\u001b[49m\u001b[43m(\u001b[49m\u001b[38;5;124;43m'\u001b[39;49m\u001b[38;5;124;43mselect * from where marks > 50\u001b[39;49m\u001b[38;5;124;43m'\u001b[39;49m\u001b[43m)\u001b[49m\n",
      "\u001b[0;31mProgrammingError\u001b[0m: Cannot operate on a closed database."
     ]
    }
   ],
   "source": [
    "cursor.execute('select * from where marks > 50');"
   ]
  },
  {
   "cell_type": "markdown",
   "id": "af3b1b69",
   "metadata": {},
   "source": [
    "We have to create a cursor object again to execute query"
   ]
  },
  {
   "cell_type": "code",
   "execution_count": 21,
   "id": "0d009da3",
   "metadata": {},
   "outputs": [],
   "source": [
    "cursor = db.cursor()"
   ]
  },
  {
   "cell_type": "code",
   "execution_count": 29,
   "id": "50cd0c6f",
   "metadata": {},
   "outputs": [],
   "source": [
    "data = cursor.execute(\"select * from fsds_batch where marks > 50\");"
   ]
  },
  {
   "cell_type": "code",
   "execution_count": 30,
   "id": "82029d2d",
   "metadata": {},
   "outputs": [
    {
     "name": "stdout",
     "output_type": "stream",
     "text": [
      "('jissmon', 444, 60.0)\n",
      "('sudhanshu', 444, 80.0)\n"
     ]
    }
   ],
   "source": [
    "for i in data:\n",
    "    print(i)"
   ]
  },
  {
   "cell_type": "code",
   "execution_count": 31,
   "id": "f101efa4",
   "metadata": {},
   "outputs": [
    {
     "name": "stdout",
     "output_type": "stream",
     "text": [
      "('jissmon', 444, 60.0)\n"
     ]
    }
   ],
   "source": [
    "data  = cursor.execute(\"select * from fsds_batch where name='jissmon'\");\n",
    "for n in data:\n",
    "    print(n)"
   ]
  },
  {
   "cell_type": "markdown",
   "id": "19716175",
   "metadata": {},
   "source": [
    "### Using ORDER BY CLAUSE"
   ]
  },
  {
   "cell_type": "code",
   "execution_count": 33,
   "id": "c086d89a",
   "metadata": {},
   "outputs": [
    {
     "name": "stdout",
     "output_type": "stream",
     "text": [
      "('adharsh', 444, 30.0)\n",
      "('jissmon', 444, 60.0)\n",
      "('sudhanshu', 444, 80.0)\n"
     ]
    }
   ],
   "source": [
    "data = cursor.execute(\"select * from fsds_batch order by marks\");\n",
    "for d in data:\n",
    "    print(d)"
   ]
  },
  {
   "cell_type": "markdown",
   "id": "7a7443f8",
   "metadata": {},
   "source": [
    "### Close Connection"
   ]
  },
  {
   "cell_type": "code",
   "execution_count": 34,
   "id": "b5df5bae",
   "metadata": {},
   "outputs": [],
   "source": [
    "db.close()"
   ]
  },
  {
   "cell_type": "markdown",
   "id": "c0261405",
   "metadata": {},
   "source": [
    "### Create New Database Person"
   ]
  },
  {
   "cell_type": "code",
   "execution_count": 35,
   "id": "b3230b6e",
   "metadata": {},
   "outputs": [],
   "source": [
    "personDB = sqlite3.connect('person.db')"
   ]
  },
  {
   "cell_type": "markdown",
   "id": "0f2932b4",
   "metadata": {},
   "source": [
    "### Create cursor Object"
   ]
  },
  {
   "cell_type": "code",
   "execution_count": 36,
   "id": "208c18bd",
   "metadata": {},
   "outputs": [
    {
     "data": {
      "text/plain": [
       "<sqlite3.Cursor at 0x7f66ea38f1f0>"
      ]
     },
     "execution_count": 36,
     "metadata": {},
     "output_type": "execute_result"
    }
   ],
   "source": [
    "cursor = personDB.cursor()\n",
    "cursor"
   ]
  },
  {
   "cell_type": "markdown",
   "id": "889841d9",
   "metadata": {},
   "source": [
    "### Create person table"
   ]
  },
  {
   "cell_type": "code",
   "execution_count": 37,
   "id": "3a29f63a",
   "metadata": {},
   "outputs": [
    {
     "data": {
      "text/plain": [
       "<sqlite3.Cursor at 0x7f66ea38f1f0>"
      ]
     },
     "execution_count": 37,
     "metadata": {},
     "output_type": "execute_result"
    }
   ],
   "source": [
    "cursor.execute(\"create table person (name text, age integer, height real, weight integer, skin_color text)\")"
   ]
  },
  {
   "cell_type": "markdown",
   "id": "04a56bf0",
   "metadata": {},
   "source": [
    "### Insert Data"
   ]
  },
  {
   "cell_type": "code",
   "execution_count": 38,
   "id": "b0ba2b17",
   "metadata": {},
   "outputs": [
    {
     "data": {
      "text/plain": [
       "<sqlite3.Cursor at 0x7f66ea38f1f0>"
      ]
     },
     "execution_count": 38,
     "metadata": {},
     "output_type": "execute_result"
    }
   ],
   "source": [
    "query = \"\"\"\n",
    "\n",
    "insert into person values \n",
    "    ('john', 55, 145.66, 60, 'white'),\n",
    "    ('david', 33, 175.66, 70, 'gray')\n",
    "\"\"\"\n",
    "\n",
    "cursor.execute(query)"
   ]
  },
  {
   "cell_type": "markdown",
   "id": "f5000d53",
   "metadata": {},
   "source": [
    "### Fetch Records"
   ]
  },
  {
   "cell_type": "code",
   "execution_count": 39,
   "id": "0e8fae24",
   "metadata": {},
   "outputs": [],
   "source": [
    "data = cursor.execute(\"select * from person\")"
   ]
  },
  {
   "cell_type": "code",
   "execution_count": 40,
   "id": "b338ebb0",
   "metadata": {},
   "outputs": [
    {
     "name": "stdout",
     "output_type": "stream",
     "text": [
      "('john', 55, 145.66, 60, 'white')\n",
      "('david', 33, 175.66, 70, 'gray')\n"
     ]
    }
   ],
   "source": [
    "for i in data:\n",
    "    print(i)"
   ]
  },
  {
   "cell_type": "markdown",
   "id": "29d0e097",
   "metadata": {},
   "source": [
    "### Commit Changes"
   ]
  },
  {
   "cell_type": "code",
   "execution_count": 41,
   "id": "2b16a07c",
   "metadata": {},
   "outputs": [],
   "source": [
    "personDB.commit()"
   ]
  },
  {
   "cell_type": "markdown",
   "id": "d6c3e7a2",
   "metadata": {},
   "source": [
    "### Close connection"
   ]
  },
  {
   "cell_type": "code",
   "execution_count": 42,
   "id": "1ab81cd7",
   "metadata": {},
   "outputs": [],
   "source": [
    "personDB.close()"
   ]
  },
  {
   "cell_type": "markdown",
   "id": "a5100168",
   "metadata": {},
   "source": [
    "### Drop Table\n",
    "\n",
    "Drop fsds_batch table in ineuron db."
   ]
  },
  {
   "cell_type": "code",
   "execution_count": 44,
   "id": "f1268084",
   "metadata": {},
   "outputs": [],
   "source": [
    "db = sqlite3.connect('ineuron.db')"
   ]
  },
  {
   "cell_type": "code",
   "execution_count": 46,
   "id": "bb23359b",
   "metadata": {},
   "outputs": [],
   "source": [
    "cursor = db.cursor()"
   ]
  },
  {
   "cell_type": "code",
   "execution_count": 49,
   "id": "6eef7547",
   "metadata": {},
   "outputs": [],
   "source": [
    "cursor.execute(\"drop table fsds_batch\");"
   ]
  },
  {
   "cell_type": "markdown",
   "id": "7ad3d7f4",
   "metadata": {},
   "source": [
    "### Check table exist or not"
   ]
  },
  {
   "cell_type": "code",
   "execution_count": 51,
   "id": "789d5c7a",
   "metadata": {},
   "outputs": [
    {
     "ename": "OperationalError",
     "evalue": "no such table: fsds_batch",
     "output_type": "error",
     "traceback": [
      "\u001b[0;31m---------------------------------------------------------------------------\u001b[0m",
      "\u001b[0;31mOperationalError\u001b[0m                          Traceback (most recent call last)",
      "Input \u001b[0;32mIn [51]\u001b[0m, in \u001b[0;36m<module>\u001b[0;34m\u001b[0m\n\u001b[0;32m----> 1\u001b[0m \u001b[43mcursor\u001b[49m\u001b[38;5;241;43m.\u001b[39;49m\u001b[43mexecute\u001b[49m\u001b[43m(\u001b[49m\u001b[38;5;124;43m\"\u001b[39;49m\u001b[38;5;124;43mselect * from fsds_batch\u001b[39;49m\u001b[38;5;124;43m\"\u001b[39;49m\u001b[43m)\u001b[49m\n",
      "\u001b[0;31mOperationalError\u001b[0m: no such table: fsds_batch"
     ]
    }
   ],
   "source": [
    "cursor.execute(\"select * from fsds_batch\");"
   ]
  },
  {
   "cell_type": "markdown",
   "id": "91eaeddb",
   "metadata": {},
   "source": [
    "### Close the connection"
   ]
  },
  {
   "cell_type": "code",
   "execution_count": 52,
   "id": "ff6c0690",
   "metadata": {},
   "outputs": [],
   "source": [
    "db.close()"
   ]
  },
  {
   "cell_type": "markdown",
   "id": "e43536ab",
   "metadata": {},
   "source": [
    "### Connect to person database"
   ]
  },
  {
   "cell_type": "code",
   "execution_count": 53,
   "id": "54a4b386",
   "metadata": {},
   "outputs": [
    {
     "data": {
      "text/plain": [
       "<sqlite3.Connection at 0x7f66ea3365d0>"
      ]
     },
     "execution_count": 53,
     "metadata": {},
     "output_type": "execute_result"
    }
   ],
   "source": [
    "personDB = sqlite3.connect('person.db')\n",
    "personDB"
   ]
  },
  {
   "cell_type": "code",
   "execution_count": 54,
   "id": "dec6f9de",
   "metadata": {},
   "outputs": [
    {
     "data": {
      "text/plain": [
       "<sqlite3.Cursor at 0x7f66ea362ea0>"
      ]
     },
     "execution_count": 54,
     "metadata": {},
     "output_type": "execute_result"
    }
   ],
   "source": [
    "cursor = personDB.cursor()\n",
    "cursor"
   ]
  },
  {
   "cell_type": "markdown",
   "id": "67373cb4",
   "metadata": {},
   "source": [
    "### Using limit Operator"
   ]
  },
  {
   "cell_type": "code",
   "execution_count": 55,
   "id": "e85c8ddf",
   "metadata": {},
   "outputs": [
    {
     "name": "stdout",
     "output_type": "stream",
     "text": [
      "('john', 55, 145.66, 60, 'white')\n"
     ]
    }
   ],
   "source": [
    "data = cursor.execute(\"select * from person limit 1\");\n",
    "for i in data:\n",
    "    print(i)"
   ]
  },
  {
   "cell_type": "markdown",
   "id": "2b124649",
   "metadata": {},
   "source": [
    "## Join Operation"
   ]
  },
  {
   "cell_type": "markdown",
   "id": "f863c027",
   "metadata": {},
   "source": [
    "### Create table Advisor"
   ]
  },
  {
   "cell_type": "code",
   "execution_count": 58,
   "id": "6e0a1e0e",
   "metadata": {},
   "outputs": [],
   "source": [
    "query = '''\n",
    "\n",
    "create table Advisor (AdvisorID integer primary key, AdvisorName text)\n",
    "'''"
   ]
  },
  {
   "cell_type": "code",
   "execution_count": 59,
   "id": "6577c711",
   "metadata": {},
   "outputs": [
    {
     "data": {
      "text/plain": [
       "<sqlite3.Cursor at 0x7f66ea362ea0>"
      ]
     },
     "execution_count": 59,
     "metadata": {},
     "output_type": "execute_result"
    }
   ],
   "source": [
    "cursor.execute(query)"
   ]
  },
  {
   "cell_type": "markdown",
   "id": "c092971b",
   "metadata": {},
   "source": [
    "### Create table Student"
   ]
  },
  {
   "cell_type": "code",
   "execution_count": 63,
   "id": "2d3bb840",
   "metadata": {},
   "outputs": [],
   "source": [
    "query = '''\n",
    "\n",
    "create table Student (StudentID integer primary key, \n",
    "                        StudentName text, \n",
    "                        AdvisorID integer foreign_key references Advisor(AdvisorID)\n",
    "                        )\n",
    "'''"
   ]
  },
  {
   "cell_type": "code",
   "execution_count": 64,
   "id": "adca6659",
   "metadata": {},
   "outputs": [
    {
     "data": {
      "text/plain": [
       "<sqlite3.Cursor at 0x7f66ea362ea0>"
      ]
     },
     "execution_count": 64,
     "metadata": {},
     "output_type": "execute_result"
    }
   ],
   "source": [
    "cursor.execute(query)"
   ]
  },
  {
   "cell_type": "markdown",
   "id": "0a7d98ba",
   "metadata": {},
   "source": [
    "### Insert Data to both table"
   ]
  },
  {
   "cell_type": "code",
   "execution_count": null,
   "id": "6f691a55",
   "metadata": {},
   "outputs": [],
   "source": []
  },
  {
   "cell_type": "code",
   "execution_count": null,
   "id": "06dce643",
   "metadata": {},
   "outputs": [],
   "source": []
  },
  {
   "cell_type": "code",
   "execution_count": null,
   "id": "03abdca0",
   "metadata": {},
   "outputs": [],
   "source": []
  },
  {
   "cell_type": "code",
   "execution_count": null,
   "id": "223b1a43",
   "metadata": {},
   "outputs": [],
   "source": []
  },
  {
   "cell_type": "code",
   "execution_count": null,
   "id": "7c76cdb6",
   "metadata": {},
   "outputs": [],
   "source": []
  },
  {
   "cell_type": "code",
   "execution_count": null,
   "id": "87194ca4",
   "metadata": {},
   "outputs": [],
   "source": []
  },
  {
   "cell_type": "markdown",
   "id": "e213365b",
   "metadata": {},
   "source": [
    "### JOIN operation Example 2"
   ]
  },
  {
   "cell_type": "code",
   "execution_count": 65,
   "id": "35e2b4c4",
   "metadata": {},
   "outputs": [],
   "source": [
    "# create table student"
   ]
  },
  {
   "cell_type": "code",
   "execution_count": 66,
   "id": "e159f4c6",
   "metadata": {},
   "outputs": [
    {
     "data": {
      "text/plain": [
       "<sqlite3.Cursor at 0x7f66ea362ea0>"
      ]
     },
     "execution_count": 66,
     "metadata": {},
     "output_type": "execute_result"
    }
   ],
   "source": [
    "cursor.execute('create table student_tbl (student_id integer primary key, student_name text, student_mail text, marks integer)')"
   ]
  },
  {
   "cell_type": "code",
   "execution_count": 68,
   "id": "9f716c08",
   "metadata": {},
   "outputs": [],
   "source": [
    "# create table address"
   ]
  },
  {
   "cell_type": "code",
   "execution_count": 67,
   "id": "29d353a5",
   "metadata": {},
   "outputs": [
    {
     "data": {
      "text/plain": [
       "<sqlite3.Cursor at 0x7f66ea362ea0>"
      ]
     },
     "execution_count": 67,
     "metadata": {},
     "output_type": "execute_result"
    }
   ],
   "source": [
    "cursor.execute(\n",
    "\"\"\"\n",
    "create table address(student_id integer foreign_key references student_tbl(student_id),\n",
    "                    pincode integer, location text, nearby text, phone integer\n",
    ")\n",
    "\"\"\"\n",
    ")"
   ]
  },
  {
   "cell_type": "code",
   "execution_count": 69,
   "id": "b1b0d680",
   "metadata": {},
   "outputs": [],
   "source": [
    "# insert records to both tables"
   ]
  },
  {
   "cell_type": "code",
   "execution_count": 71,
   "id": "1de6b7d5",
   "metadata": {},
   "outputs": [],
   "source": [
    "query = \"\"\"\n",
    "insert into student_tbl values\n",
    "    (10, 'arun', 'arun@gmail.com', 90),\n",
    "    (11, 'abin', 'abin@gmail.com', 70),\n",
    "    (12, 'arjun', 'arjun@gmail.com', 80),\n",
    "    (13, 'asin', 'asin@gmail.com', 40),\n",
    "    (14, 'akin', 'akin@gmail.com', 50),\n",
    "\"\"\""
   ]
  },
  {
   "cell_type": "code",
   "execution_count": 73,
   "id": "41d168f6",
   "metadata": {},
   "outputs": [],
   "source": [
    "query = \"\"\"\n",
    "insert into student_tbl values\n",
    "    (10, 'arun', 'arun@gmail.com', 90)\n",
    "\"\"\""
   ]
  },
  {
   "cell_type": "code",
   "execution_count": 74,
   "id": "99844831",
   "metadata": {},
   "outputs": [
    {
     "data": {
      "text/plain": [
       "<sqlite3.Cursor at 0x7f66ea362ea0>"
      ]
     },
     "execution_count": 74,
     "metadata": {},
     "output_type": "execute_result"
    }
   ],
   "source": [
    "cursor.execute(query)"
   ]
  },
  {
   "cell_type": "code",
   "execution_count": 77,
   "id": "d23d6350",
   "metadata": {},
   "outputs": [],
   "source": [
    "query = \"\"\"\n",
    "insert into student_tbl values\n",
    "    (11, 'abin', 'abin@gmail.com', 70)\n",
    "\"\"\""
   ]
  },
  {
   "cell_type": "code",
   "execution_count": 78,
   "id": "b2d67944",
   "metadata": {},
   "outputs": [
    {
     "data": {
      "text/plain": [
       "<sqlite3.Cursor at 0x7f66ea362ea0>"
      ]
     },
     "execution_count": 78,
     "metadata": {},
     "output_type": "execute_result"
    }
   ],
   "source": [
    "cursor.execute(query)"
   ]
  },
  {
   "cell_type": "code",
   "execution_count": 81,
   "id": "57f10319",
   "metadata": {},
   "outputs": [],
   "source": [
    "query = \"\"\"\n",
    "insert into student_tbl values\n",
    "    (12, 'arjun', 'arjun@gmail.com', 80)\n",
    "\"\"\""
   ]
  },
  {
   "cell_type": "code",
   "execution_count": 82,
   "id": "5deb7553",
   "metadata": {},
   "outputs": [
    {
     "data": {
      "text/plain": [
       "<sqlite3.Cursor at 0x7f66ea362ea0>"
      ]
     },
     "execution_count": 82,
     "metadata": {},
     "output_type": "execute_result"
    }
   ],
   "source": [
    "cursor.execute(query)"
   ]
  },
  {
   "cell_type": "code",
   "execution_count": 84,
   "id": "d03a1978",
   "metadata": {},
   "outputs": [
    {
     "name": "stdout",
     "output_type": "stream",
     "text": [
      "<sqlite3.Cursor object at 0x7f66ea362ea0>\n",
      "<sqlite3.Cursor object at 0x7f66ea362ea0>\n",
      "<sqlite3.Cursor object at 0x7f66ea362ea0>\n"
     ]
    }
   ],
   "source": [
    "data = cursor.execute(\"select * from student_tbl limit 3\")\n",
    "for i in data:\n",
    "    print(data)"
   ]
  },
  {
   "cell_type": "code",
   "execution_count": 94,
   "id": "5299b018",
   "metadata": {},
   "outputs": [],
   "source": [
    "query = \"\"\"\n",
    "insert into address values (10, 43242, 'a', 'b', 4374923)\n",
    "\"\"\""
   ]
  },
  {
   "cell_type": "code",
   "execution_count": 95,
   "id": "7f939aa4",
   "metadata": {},
   "outputs": [],
   "source": [
    "# student_id integer foreign_key references student_tbl(student_id),\n",
    "#                     pincode integer, location text, nearby text, phone integer\n",
    "# )"
   ]
  },
  {
   "cell_type": "code",
   "execution_count": 96,
   "id": "ae793433",
   "metadata": {},
   "outputs": [
    {
     "data": {
      "text/plain": [
       "<sqlite3.Cursor at 0x7f66ea362ea0>"
      ]
     },
     "execution_count": 96,
     "metadata": {},
     "output_type": "execute_result"
    }
   ],
   "source": [
    "cursor.execute(query)"
   ]
  },
  {
   "cell_type": "code",
   "execution_count": 97,
   "id": "9ad17d32",
   "metadata": {},
   "outputs": [
    {
     "data": {
      "text/plain": [
       "<sqlite3.Cursor at 0x7f66ea362ea0>"
      ]
     },
     "execution_count": 97,
     "metadata": {},
     "output_type": "execute_result"
    }
   ],
   "source": [
    "query = \"\"\"\n",
    "insert into address values (10, 43242, 'c', 'd', 3984729)\n",
    "\"\"\"\n",
    "cursor.execute(query)"
   ]
  },
  {
   "cell_type": "code",
   "execution_count": 98,
   "id": "6181ea69",
   "metadata": {},
   "outputs": [
    {
     "data": {
      "text/plain": [
       "<sqlite3.Cursor at 0x7f66ea362ea0>"
      ]
     },
     "execution_count": 98,
     "metadata": {},
     "output_type": "execute_result"
    }
   ],
   "source": [
    "query = \"\"\"\n",
    "insert into address values (12, 53479, 'e', 'f', 3947129821)\n",
    "\"\"\"\n",
    "cursor.execute(query)"
   ]
  },
  {
   "cell_type": "code",
   "execution_count": 99,
   "id": "7e0cbafe",
   "metadata": {},
   "outputs": [
    {
     "data": {
      "text/plain": [
       "<sqlite3.Cursor at 0x7f66ea362ea0>"
      ]
     },
     "execution_count": 99,
     "metadata": {},
     "output_type": "execute_result"
    }
   ],
   "source": [
    "query = \"\"\"\n",
    "insert into address values (12, 374934, 't', 'h', 90213971239)\n",
    "\"\"\"\n",
    "cursor.execute(query)"
   ]
  },
  {
   "cell_type": "markdown",
   "id": "b9570216",
   "metadata": {},
   "source": [
    "### using left join\n",
    "\n",
    "Gives all records from the left table, and only the common records from the right table."
   ]
  },
  {
   "cell_type": "code",
   "execution_count": 105,
   "id": "a362eda2",
   "metadata": {},
   "outputs": [
    {
     "name": "stdout",
     "output_type": "stream",
     "text": [
      "(10, 'arun', 43242, 'a')\n",
      "(10, 'arun', 43242, 'c')\n",
      "(11, 'abin', None, None)\n",
      "(12, 'arjun', 53479, 'e')\n",
      "(12, 'arjun', 374934, 't')\n"
     ]
    }
   ],
   "source": [
    "query = \"\"\"\n",
    "    select student_tbl.student_id, student_name, pincode, location from \n",
    "    student_tbl left join address\n",
    "    on student_tbl.student_id = address.student_id\n",
    "\"\"\"\n",
    "data = cursor.execute(query)\n",
    "for i in data:\n",
    "    print(i)"
   ]
  },
  {
   "cell_type": "markdown",
   "id": "e1844b1c",
   "metadata": {},
   "source": [
    "### Using Inner Join\n",
    "\n",
    "Inner join also represented as join which gives the records that have common attributes in both tables."
   ]
  },
  {
   "cell_type": "code",
   "execution_count": 106,
   "id": "3e51a319",
   "metadata": {},
   "outputs": [
    {
     "name": "stdout",
     "output_type": "stream",
     "text": [
      "(10, 'arun', 43242, 'a')\n",
      "(10, 'arun', 43242, 'c')\n",
      "(12, 'arjun', 53479, 'e')\n",
      "(12, 'arjun', 374934, 't')\n"
     ]
    }
   ],
   "source": [
    "query = \"\"\"\n",
    "    select student_tbl.student_id, student_name, pincode, location from \n",
    "    student_tbl inner join address\n",
    "    on student_tbl.student_id = address.student_id\n",
    "\"\"\"\n",
    "data = cursor.execute(query)\n",
    "for i in data:\n",
    "    print(i)"
   ]
  },
  {
   "cell_type": "markdown",
   "id": "4c8e662f",
   "metadata": {},
   "source": [
    "### using right join"
   ]
  },
  {
   "cell_type": "code",
   "execution_count": 108,
   "id": "62fed4ef",
   "metadata": {},
   "outputs": [
    {
     "ename": "OperationalError",
     "evalue": "RIGHT and FULL OUTER JOINs are not currently supported",
     "output_type": "error",
     "traceback": [
      "\u001b[0;31m---------------------------------------------------------------------------\u001b[0m",
      "\u001b[0;31mOperationalError\u001b[0m                          Traceback (most recent call last)",
      "Input \u001b[0;32mIn [108]\u001b[0m, in \u001b[0;36m<module>\u001b[0;34m\u001b[0m\n\u001b[1;32m      1\u001b[0m query \u001b[38;5;241m=\u001b[39m \u001b[38;5;124m\"\"\"\u001b[39m\n\u001b[1;32m      2\u001b[0m \u001b[38;5;124m    select student_tbl.student_id, student_name, pincode, location from \u001b[39m\n\u001b[1;32m      3\u001b[0m \u001b[38;5;124m    student_tbl right join address\u001b[39m\n\u001b[1;32m      4\u001b[0m \u001b[38;5;124m    using(student_id)\u001b[39m\n\u001b[1;32m      5\u001b[0m \u001b[38;5;124m\"\"\"\u001b[39m\n\u001b[0;32m----> 6\u001b[0m data \u001b[38;5;241m=\u001b[39m \u001b[43mcursor\u001b[49m\u001b[38;5;241;43m.\u001b[39;49m\u001b[43mexecute\u001b[49m\u001b[43m(\u001b[49m\u001b[43mquery\u001b[49m\u001b[43m)\u001b[49m\n\u001b[1;32m      7\u001b[0m \u001b[38;5;28;01mfor\u001b[39;00m i \u001b[38;5;129;01min\u001b[39;00m data:\n\u001b[1;32m      8\u001b[0m     \u001b[38;5;28mprint\u001b[39m(i)\n",
      "\u001b[0;31mOperationalError\u001b[0m: RIGHT and FULL OUTER JOINs are not currently supported"
     ]
    }
   ],
   "source": [
    "query = \"\"\"\n",
    "    select student_tbl.student_id, student_name, pincode, location from \n",
    "    student_tbl right join address\n",
    "    using(student_id)\n",
    "\"\"\"\n",
    "data = cursor.execute(query)\n",
    "for i in data:\n",
    "    print(i)"
   ]
  },
  {
   "cell_type": "markdown",
   "id": "21d55613",
   "metadata": {},
   "source": [
    "### using cross join\n",
    "\n",
    "It combines all records of one table with all other records of another table, that is, it creates a Cartesian product of records from the join tables."
   ]
  },
  {
   "cell_type": "code",
   "execution_count": 109,
   "id": "adabc840",
   "metadata": {},
   "outputs": [
    {
     "name": "stdout",
     "output_type": "stream",
     "text": [
      "(10, 'arun', 43242, 'a')\n",
      "(10, 'arun', 43242, 'c')\n",
      "(12, 'arjun', 53479, 'e')\n",
      "(12, 'arjun', 374934, 't')\n"
     ]
    }
   ],
   "source": [
    "query = \"\"\"\n",
    "    select student_tbl.student_id, student_name, pincode, location from \n",
    "    student_tbl cross join address\n",
    "    on student_tbl.student_id = address.student_id\n",
    "\"\"\"\n",
    "data = cursor.execute(query)\n",
    "for i in data:\n",
    "    print(i)"
   ]
  },
  {
   "cell_type": "markdown",
   "id": "4300e2f0",
   "metadata": {},
   "source": [
    "## Delete Records"
   ]
  },
  {
   "cell_type": "code",
   "execution_count": 110,
   "id": "b0fe4a7f",
   "metadata": {},
   "outputs": [],
   "source": [
    "cursor.execute('delete from student_tbl where student_id>13');"
   ]
  },
  {
   "cell_type": "code",
   "execution_count": 111,
   "id": "c650ccf7",
   "metadata": {},
   "outputs": [
    {
     "name": "stdout",
     "output_type": "stream",
     "text": [
      "(10, 'arun', 'arun@gmail.com', 90)\n",
      "(11, 'abin', 'abin@gmail.com', 70)\n",
      "(12, 'arjun', 'arjun@gmail.com', 80)\n"
     ]
    }
   ],
   "source": [
    "for i in cursor.execute('select * from student_tbl'):\n",
    "    print(i)"
   ]
  },
  {
   "cell_type": "markdown",
   "id": "50763777",
   "metadata": {},
   "source": [
    "## fetch all"
   ]
  },
  {
   "cell_type": "code",
   "execution_count": 113,
   "id": "4d88c9fe",
   "metadata": {},
   "outputs": [
    {
     "data": {
      "text/plain": [
       "[(10, 'arun', 'arun@gmail.com', 90),\n",
       " (11, 'abin', 'abin@gmail.com', 70),\n",
       " (12, 'arjun', 'arjun@gmail.com', 80)]"
      ]
     },
     "execution_count": 113,
     "metadata": {},
     "output_type": "execute_result"
    }
   ],
   "source": [
    "data = cursor.execute('select * from student_tbl')\n",
    "data.fetchall()"
   ]
  },
  {
   "cell_type": "markdown",
   "id": "4ec0896e",
   "metadata": {},
   "source": [
    "## Update Operation"
   ]
  },
  {
   "cell_type": "code",
   "execution_count": 114,
   "id": "dd0ae835",
   "metadata": {},
   "outputs": [],
   "source": [
    "# update student id from 11 to 15"
   ]
  },
  {
   "cell_type": "code",
   "execution_count": 115,
   "id": "e5c70c6c",
   "metadata": {},
   "outputs": [
    {
     "data": {
      "text/plain": [
       "<sqlite3.Cursor at 0x7f66ea362ea0>"
      ]
     },
     "execution_count": 115,
     "metadata": {},
     "output_type": "execute_result"
    }
   ],
   "source": [
    "query = \"\"\"\n",
    "\n",
    "update student_tbl set student_id = 15 where student_id=11\n",
    "\"\"\"\n",
    "cursor.execute(query)"
   ]
  },
  {
   "cell_type": "code",
   "execution_count": 117,
   "id": "1474d9c2",
   "metadata": {},
   "outputs": [
    {
     "data": {
      "text/plain": [
       "[(10, 'arun', 'arun@gmail.com', 90),\n",
       " (12, 'arjun', 'arjun@gmail.com', 80),\n",
       " (15, 'abin', 'abin@gmail.com', 70)]"
      ]
     },
     "execution_count": 117,
     "metadata": {},
     "output_type": "execute_result"
    }
   ],
   "source": [
    "data = cursor.execute('select * from student_tbl')\n",
    "data.fetchall()"
   ]
  },
  {
   "cell_type": "code",
   "execution_count": 125,
   "id": "159d3c77",
   "metadata": {},
   "outputs": [
    {
     "data": {
      "text/plain": [
       "<sqlite3.Cursor at 0x7f66ea362ea0>"
      ]
     },
     "execution_count": 125,
     "metadata": {},
     "output_type": "execute_result"
    }
   ],
   "source": [
    "query = \"\"\"\n",
    "insert into student_tbl(student_id, student_name, student_mail, marks) values\n",
    "    (16, 'arun', 'arun@gmail.com', 90),\n",
    "    (17, 'abin', 'abin@gmail.com', 30),\n",
    "    (19, 'aseera', 'arjun@gmail.com', 80),\n",
    "    (23, 'dona', 'asin@gmail.com', 100),\n",
    "    (32, 'akin', 'akin@gmail.com', 25)  \n",
    "\"\"\"\n",
    "cursor.execute(query)"
   ]
  },
  {
   "cell_type": "code",
   "execution_count": 126,
   "id": "986d056f",
   "metadata": {},
   "outputs": [
    {
     "data": {
      "text/plain": [
       "[(10, 'arun', 'arun@gmail.com', 90),\n",
       " (12, 'arjun', 'arjun@gmail.com', 80),\n",
       " (15, 'abin', 'abin@gmail.com', 70),\n",
       " (16, 'arun', 'arun@gmail.com', 90),\n",
       " (17, 'abin', 'abin@gmail.com', 30),\n",
       " (19, 'aseera', 'arjun@gmail.com', 80),\n",
       " (23, 'dona', 'asin@gmail.com', 100),\n",
       " (32, 'akin', 'akin@gmail.com', 25)]"
      ]
     },
     "execution_count": 126,
     "metadata": {},
     "output_type": "execute_result"
    }
   ],
   "source": [
    "data = cursor.execute('select * from student_tbl')\n",
    "data.fetchall()"
   ]
  },
  {
   "cell_type": "code",
   "execution_count": 127,
   "id": "f075756b",
   "metadata": {},
   "outputs": [
    {
     "ename": "IntegrityError",
     "evalue": "UNIQUE constraint failed: student_tbl.student_id",
     "output_type": "error",
     "traceback": [
      "\u001b[0;31m---------------------------------------------------------------------------\u001b[0m",
      "\u001b[0;31mIntegrityError\u001b[0m                            Traceback (most recent call last)",
      "Input \u001b[0;32mIn [127]\u001b[0m, in \u001b[0;36m<module>\u001b[0;34m\u001b[0m\n\u001b[1;32m      1\u001b[0m query \u001b[38;5;241m=\u001b[39m \u001b[38;5;124m\"\"\"\u001b[39m\n\u001b[1;32m      2\u001b[0m \u001b[38;5;124minsert into student_tbl(student_id, student_name, student_mail, marks) values\u001b[39m\n\u001b[1;32m      3\u001b[0m \u001b[38;5;124m    (21, \u001b[39m\u001b[38;5;124m'\u001b[39m\u001b[38;5;124makhil\u001b[39m\u001b[38;5;124m'\u001b[39m\u001b[38;5;124m, \u001b[39m\u001b[38;5;124m'\u001b[39m\u001b[38;5;124makhil@gmail.com\u001b[39m\u001b[38;5;124m'\u001b[39m\u001b[38;5;124m, 90),\u001b[39m\n\u001b[0;32m   (...)\u001b[0m\n\u001b[1;32m      7\u001b[0m \u001b[38;5;124m    (32, \u001b[39m\u001b[38;5;124m'\u001b[39m\u001b[38;5;124mkudhaan\u001b[39m\u001b[38;5;124m'\u001b[39m\u001b[38;5;124m, \u001b[39m\u001b[38;5;124m'\u001b[39m\u001b[38;5;124mkudhaan@gmail.com\u001b[39m\u001b[38;5;124m'\u001b[39m\u001b[38;5;124m, 56)  \u001b[39m\n\u001b[1;32m      8\u001b[0m \u001b[38;5;124m\"\"\"\u001b[39m\n\u001b[0;32m----> 9\u001b[0m \u001b[43mcursor\u001b[49m\u001b[38;5;241;43m.\u001b[39;49m\u001b[43mexecute\u001b[49m\u001b[43m(\u001b[49m\u001b[43mquery\u001b[49m\u001b[43m)\u001b[49m\n",
      "\u001b[0;31mIntegrityError\u001b[0m: UNIQUE constraint failed: student_tbl.student_id"
     ]
    }
   ],
   "source": [
    "query = \"\"\"\n",
    "insert into student_tbl(student_id, student_name, student_mail, marks) values\n",
    "    (21, 'akhil', 'akhil@gmail.com', 90),\n",
    "    (17, 'ranu', 'ranu@gmail.com', 56),\n",
    "    (19, 'aseera', 'arjun@gmail.com', 90),\n",
    "    (23, 'anedhi', 'anedhi@gmail.com', 100),\n",
    "    (32, 'kudhaan', 'kudhaan@gmail.com', 56)  \n",
    "\"\"\"\n",
    "cursor.execute(query)"
   ]
  },
  {
   "cell_type": "code",
   "execution_count": 128,
   "id": "48b6bd65",
   "metadata": {},
   "outputs": [],
   "source": [
    "personDB.commit()"
   ]
  },
  {
   "cell_type": "code",
   "execution_count": 129,
   "id": "421ca285",
   "metadata": {},
   "outputs": [],
   "source": [
    "personDB.close()"
   ]
  },
  {
   "cell_type": "markdown",
   "id": "d14840c4",
   "metadata": {},
   "source": [
    "### Map ()  with lamdba\n",
    "\n",
    "map() function returns a map object(which is an iterator) of the results after applying the given function to each item of a given iterable (list, tuple etc.)"
   ]
  },
  {
   "cell_type": "code",
   "execution_count": 131,
   "id": "0987c39f",
   "metadata": {},
   "outputs": [],
   "source": [
    "list1 = [3, 4, 5, 6, 7]\n",
    "results = map(lambda x: x + 3, list1)"
   ]
  },
  {
   "cell_type": "code",
   "execution_count": 133,
   "id": "dbd09f56",
   "metadata": {},
   "outputs": [
    {
     "data": {
      "text/plain": [
       "[6, 7, 8, 9, 10]"
      ]
     },
     "execution_count": 133,
     "metadata": {},
     "output_type": "execute_result"
    }
   ],
   "source": [
    "list(results)"
   ]
  },
  {
   "cell_type": "code",
   "execution_count": 4,
   "id": "c6a6be6a",
   "metadata": {},
   "outputs": [],
   "source": [
    "# square root of elements"
   ]
  },
  {
   "cell_type": "code",
   "execution_count": 134,
   "id": "fa606f72",
   "metadata": {},
   "outputs": [
    {
     "data": {
      "text/plain": [
       "[9, 16, 25, 36, 49]"
      ]
     },
     "execution_count": 134,
     "metadata": {},
     "output_type": "execute_result"
    }
   ],
   "source": [
    "results = map(lambda a: a**2, list1)\n",
    "list(results)"
   ]
  },
  {
   "cell_type": "code",
   "execution_count": 3,
   "id": "9949fe72",
   "metadata": {},
   "outputs": [],
   "source": [
    "# typecast string to integer"
   ]
  },
  {
   "cell_type": "code",
   "execution_count": 2,
   "id": "3b4d2751",
   "metadata": {},
   "outputs": [
    {
     "data": {
      "text/plain": [
       "[3, 4, 5]"
      ]
     },
     "execution_count": 2,
     "metadata": {},
     "output_type": "execute_result"
    }
   ],
   "source": [
    "data = ['3', '4', '5']\n",
    "list(map(lambda a: int(a), data))"
   ]
  },
  {
   "cell_type": "markdown",
   "id": "2efe6888",
   "metadata": {},
   "source": [
    "## Filter method with lambda\n",
    "\n",
    "The filter() method filters the given sequence with the help of a function that tests each element in the sequence to be true or not."
   ]
  },
  {
   "cell_type": "code",
   "execution_count": 5,
   "id": "4a9a5a1b",
   "metadata": {},
   "outputs": [],
   "source": [
    "# extract even numbers"
   ]
  },
  {
   "cell_type": "code",
   "execution_count": 6,
   "id": "6626cbc6",
   "metadata": {},
   "outputs": [
    {
     "data": {
      "text/plain": [
       "[18, 10, 20]"
      ]
     },
     "execution_count": 6,
     "metadata": {},
     "output_type": "execute_result"
    }
   ],
   "source": [
    "data = [3, 5, 18, 10, 20, 33]\n",
    "list(filter(lambda x: x%2==0, data))"
   ]
  },
  {
   "cell_type": "code",
   "execution_count": 7,
   "id": "4023a1bf",
   "metadata": {},
   "outputs": [],
   "source": [
    "# extract names starting with 'j'"
   ]
  },
  {
   "cell_type": "code",
   "execution_count": 8,
   "id": "8ffbb0c4",
   "metadata": {},
   "outputs": [
    {
     "data": {
      "text/plain": [
       "['jissmon', 'justin']"
      ]
     },
     "execution_count": 8,
     "metadata": {},
     "output_type": "execute_result"
    }
   ],
   "source": [
    "names = ['jissmon', 'kiran', 'justin']\n",
    "list(filter(lambda s: s[0][0]=='j', names))"
   ]
  },
  {
   "cell_type": "code",
   "execution_count": 11,
   "id": "4b642b6e",
   "metadata": {},
   "outputs": [],
   "source": [
    "# extract names with count < 5"
   ]
  },
  {
   "cell_type": "code",
   "execution_count": 13,
   "id": "f4dc0021",
   "metadata": {},
   "outputs": [
    {
     "data": {
      "text/plain": [
       "['aju', 'amal']"
      ]
     },
     "execution_count": 13,
     "metadata": {},
     "output_type": "execute_result"
    }
   ],
   "source": [
    "names = ['jissmon', 'kiran', 'justin', 'aju', 'amal']\n",
    "list(filter(lambda d: len(d)<5, names))"
   ]
  },
  {
   "cell_type": "markdown",
   "id": "6f1930f8",
   "metadata": {},
   "source": [
    "## reduce method with lambda\n",
    "\n",
    "The reduce(fun,seq) function is used to apply a particular function passed in its argument to all of the list elements mentioned in the sequence passed along.This function is defined in “functools” module."
   ]
  },
  {
   "cell_type": "code",
   "execution_count": 14,
   "id": "34590eb7",
   "metadata": {},
   "outputs": [],
   "source": [
    "from functools import reduce"
   ]
  },
  {
   "cell_type": "code",
   "execution_count": 17,
   "id": "06d88ed1",
   "metadata": {},
   "outputs": [],
   "source": [
    "# find sum of all elements in list"
   ]
  },
  {
   "cell_type": "code",
   "execution_count": 16,
   "id": "e05b06cb",
   "metadata": {},
   "outputs": [
    {
     "data": {
      "text/plain": [
       "19"
      ]
     },
     "execution_count": 16,
     "metadata": {},
     "output_type": "execute_result"
    }
   ],
   "source": [
    "sum([4,5,10])"
   ]
  },
  {
   "cell_type": "code",
   "execution_count": 22,
   "id": "bb650940",
   "metadata": {},
   "outputs": [],
   "source": [
    "# using reduce to find sum and product of list"
   ]
  },
  {
   "cell_type": "code",
   "execution_count": 19,
   "id": "5ad89bab",
   "metadata": {},
   "outputs": [],
   "source": [
    "list1 = [5, 6, 7]"
   ]
  },
  {
   "cell_type": "code",
   "execution_count": 20,
   "id": "93213dd8",
   "metadata": {},
   "outputs": [
    {
     "data": {
      "text/plain": [
       "18"
      ]
     },
     "execution_count": 20,
     "metadata": {},
     "output_type": "execute_result"
    }
   ],
   "source": [
    "reduce(lambda a, b :a+b, list1)"
   ]
  },
  {
   "cell_type": "code",
   "execution_count": 25,
   "id": "a9417af8",
   "metadata": {},
   "outputs": [
    {
     "data": {
      "text/plain": [
       "210"
      ]
     },
     "execution_count": 25,
     "metadata": {},
     "output_type": "execute_result"
    }
   ],
   "source": [
    "reduce(lambda a, b: a*b, list1)"
   ]
  },
  {
   "cell_type": "code",
   "execution_count": 26,
   "id": "7d22b97e",
   "metadata": {},
   "outputs": [
    {
     "data": {
      "text/plain": [
       "52.5"
      ]
     },
     "execution_count": 26,
     "metadata": {},
     "output_type": "execute_result"
    }
   ],
   "source": [
    "reduce(lambda a, b: (a*b)/2, list1)"
   ]
  },
  {
   "cell_type": "markdown",
   "id": "be93d051",
   "metadata": {},
   "source": [
    "Note:\n",
    "    \n",
    "    reduce() takes 2 arguments at a time."
   ]
  },
  {
   "cell_type": "markdown",
   "id": "3665e91b",
   "metadata": {},
   "source": [
    "## zip function\n",
    "\n",
    "- creates a list of tuples\n",
    "- creates a pair of tuple using values from each iterables given."
   ]
  },
  {
   "cell_type": "code",
   "execution_count": 28,
   "id": "e6909b8c",
   "metadata": {},
   "outputs": [
    {
     "data": {
      "text/plain": [
       "[(0, 0), (1, 1), (2, 2)]"
      ]
     },
     "execution_count": 28,
     "metadata": {},
     "output_type": "execute_result"
    }
   ],
   "source": [
    "list(zip(range(3), range(4)))"
   ]
  },
  {
   "cell_type": "code",
   "execution_count": 29,
   "id": "2072751e",
   "metadata": {},
   "outputs": [
    {
     "data": {
      "text/plain": [
       "[('jissmon', 'jose'), ('jerin', 'george'), ('sunny', 'wala')]"
      ]
     },
     "execution_count": 29,
     "metadata": {},
     "output_type": "execute_result"
    }
   ],
   "source": [
    "first_names = ['jissmon', 'jerin', 'sunny']\n",
    "last_names= ['jose', 'george', 'wala']\n",
    "\n",
    "list(zip(first_names, last_names))"
   ]
  },
  {
   "cell_type": "code",
   "execution_count": 31,
   "id": "16ab5c33",
   "metadata": {},
   "outputs": [
    {
     "data": {
      "text/plain": [
       "[(1, 4), (2, 5)]"
      ]
     },
     "execution_count": 31,
     "metadata": {},
     "output_type": "execute_result"
    }
   ],
   "source": [
    "l1 = [1, 2, 4]\n",
    "l2= [4, 5]\n",
    "\n",
    "list(zip(l1, l2))\n",
    "\n",
    "# it skips 3rd element since no corresponding value given in l2."
   ]
  },
  {
   "cell_type": "code",
   "execution_count": null,
   "id": "1c93ba25",
   "metadata": {},
   "outputs": [],
   "source": []
  }
 ],
 "metadata": {
  "kernelspec": {
   "display_name": "Python 3 (ipykernel)",
   "language": "python",
   "name": "python3"
  },
  "language_info": {
   "codemirror_mode": {
    "name": "ipython",
    "version": 3
   },
   "file_extension": ".py",
   "mimetype": "text/x-python",
   "name": "python",
   "nbconvert_exporter": "python",
   "pygments_lexer": "ipython3",
   "version": "3.9.7"
  }
 },
 "nbformat": 4,
 "nbformat_minor": 5
}
